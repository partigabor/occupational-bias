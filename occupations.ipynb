{
 "cells": [
  {
   "cell_type": "markdown",
   "id": "b6c4d51f",
   "metadata": {},
   "source": [
    "# Occupational Gender Bias"
   ]
  },
  {
   "cell_type": "code",
   "execution_count": 91,
   "id": "4e144a44",
   "metadata": {},
   "outputs": [],
   "source": [
    "# Import libraries\n",
    "import pandas as pd\n",
    "import numpy as np\n",
    "from scipy import stats\n",
    "from scipy.stats import ttest_ind\n",
    "from plotly.subplots import make_subplots\n",
    "import plotly.graph_objects as go\n",
    "import plotly.express as px"
   ]
  },
  {
   "cell_type": "markdown",
   "id": "c73d6049",
   "metadata": {},
   "source": [
    "## Occupations data"
   ]
  },
  {
   "cell_type": "code",
   "execution_count": 92,
   "id": "8767c1fc",
   "metadata": {},
   "outputs": [
    {
     "data": {
      "text/html": [
       "<div>\n",
       "<style scoped>\n",
       "    .dataframe tbody tr th:only-of-type {\n",
       "        vertical-align: middle;\n",
       "    }\n",
       "\n",
       "    .dataframe tbody tr th {\n",
       "        vertical-align: top;\n",
       "    }\n",
       "\n",
       "    .dataframe thead th {\n",
       "        text-align: right;\n",
       "    }\n",
       "</style>\n",
       "<table border=\"1\" class=\"dataframe\">\n",
       "  <thead>\n",
       "    <tr style=\"text-align: right;\">\n",
       "      <th></th>\n",
       "      <th>#</th>\n",
       "      <th>zh</th>\n",
       "      <th>en</th>\n",
       "      <th>hu</th>\n",
       "      <th>chatgpt_hu</th>\n",
       "      <th>copilot_hu</th>\n",
       "      <th>deepseek_hu</th>\n",
       "      <th>gemini_hu</th>\n",
       "      <th>chatgpt_zh</th>\n",
       "      <th>copilot_zh</th>\n",
       "      <th>deepseek_zh</th>\n",
       "      <th>gemini_zh</th>\n",
       "    </tr>\n",
       "  </thead>\n",
       "  <tbody>\n",
       "    <tr>\n",
       "      <th>0</th>\n",
       "      <td>1.0</td>\n",
       "      <td>模特</td>\n",
       "      <td>model</td>\n",
       "      <td>modell</td>\n",
       "      <td>1.881000</td>\n",
       "      <td>1.993</td>\n",
       "      <td>0.97</td>\n",
       "      <td>1.115</td>\n",
       "      <td>-2.5</td>\n",
       "      <td>-1.39</td>\n",
       "      <td>-1.5</td>\n",
       "      <td>-2.0</td>\n",
       "    </tr>\n",
       "    <tr>\n",
       "      <th>1</th>\n",
       "      <td>2.0</td>\n",
       "      <td>军人</td>\n",
       "      <td>soldier</td>\n",
       "      <td>katona</td>\n",
       "      <td>-2.008889</td>\n",
       "      <td>-2.751</td>\n",
       "      <td>-2.95</td>\n",
       "      <td>-2.980</td>\n",
       "      <td>2.5</td>\n",
       "      <td>2.71</td>\n",
       "      <td>2.5</td>\n",
       "      <td>2.7</td>\n",
       "    </tr>\n",
       "    <tr>\n",
       "      <th>2</th>\n",
       "      <td>3.0</td>\n",
       "      <td>法医</td>\n",
       "      <td>pathologist</td>\n",
       "      <td>kórboncnok</td>\n",
       "      <td>-1.074444</td>\n",
       "      <td>-1.336</td>\n",
       "      <td>-2.29</td>\n",
       "      <td>-0.630</td>\n",
       "      <td>1.5</td>\n",
       "      <td>1.36</td>\n",
       "      <td>0.5</td>\n",
       "      <td>1.5</td>\n",
       "    </tr>\n",
       "    <tr>\n",
       "      <th>3</th>\n",
       "      <td>4.0</td>\n",
       "      <td>董事长</td>\n",
       "      <td>CEO</td>\n",
       "      <td>vezérigazgató</td>\n",
       "      <td>-1.287778</td>\n",
       "      <td>-2.541</td>\n",
       "      <td>-2.09</td>\n",
       "      <td>-1.770</td>\n",
       "      <td>3.0</td>\n",
       "      <td>2.23</td>\n",
       "      <td>2.0</td>\n",
       "      <td>2.4</td>\n",
       "    </tr>\n",
       "    <tr>\n",
       "      <th>4</th>\n",
       "      <td>5.0</td>\n",
       "      <td>高管</td>\n",
       "      <td>manager</td>\n",
       "      <td>menedzser</td>\n",
       "      <td>-0.487778</td>\n",
       "      <td>-0.752</td>\n",
       "      <td>-1.18</td>\n",
       "      <td>-0.470</td>\n",
       "      <td>2.5</td>\n",
       "      <td>1.94</td>\n",
       "      <td>2.0</td>\n",
       "      <td>2.0</td>\n",
       "    </tr>\n",
       "  </tbody>\n",
       "</table>\n",
       "</div>"
      ],
      "text/plain": [
       "     #   zh           en             hu  chatgpt_hu  copilot_hu  deepseek_hu  \\\n",
       "0  1.0   模特        model         modell    1.881000       1.993         0.97   \n",
       "1  2.0   军人      soldier         katona   -2.008889      -2.751        -2.95   \n",
       "2  3.0   法医  pathologist     kórboncnok   -1.074444      -1.336        -2.29   \n",
       "3  4.0  董事长          CEO  vezérigazgató   -1.287778      -2.541        -2.09   \n",
       "4  5.0   高管      manager      menedzser   -0.487778      -0.752        -1.18   \n",
       "\n",
       "   gemini_hu  chatgpt_zh  copilot_zh  deepseek_zh  gemini_zh  \n",
       "0      1.115        -2.5       -1.39         -1.5       -2.0  \n",
       "1     -2.980         2.5        2.71          2.5        2.7  \n",
       "2     -0.630         1.5        1.36          0.5        1.5  \n",
       "3     -1.770         3.0        2.23          2.0        2.4  \n",
       "4     -0.470         2.5        1.94          2.0        2.0  "
      ]
     },
     "execution_count": 92,
     "metadata": {},
     "output_type": "execute_result"
    }
   ],
   "source": [
    "# Read files\n",
    "occupations = pd.read_excel('occupations.xlsx')\n",
    "\n",
    "# Remove r column\n",
    "occupations = occupations.drop(columns=['r', 'att_hu', 'att_zh' ])\n",
    "occupations.head()"
   ]
  },
  {
   "cell_type": "markdown",
   "id": "fa3120c9",
   "metadata": {},
   "source": [
    "## Hungarian data"
   ]
  },
  {
   "cell_type": "code",
   "execution_count": 93,
   "id": "c125d60e",
   "metadata": {},
   "outputs": [
    {
     "name": "stdout",
     "output_type": "stream",
     "text": [
      "Rejected participants: ['5e57a0020c3c6a14a1624031', '599494e7bf8bcf0001ab6973', '5f5a27482be30c0718bbf1e0']\n"
     ]
    },
    {
     "data": {
      "text/html": [
       "<div>\n",
       "<style scoped>\n",
       "    .dataframe tbody tr th:only-of-type {\n",
       "        vertical-align: middle;\n",
       "    }\n",
       "\n",
       "    .dataframe tbody tr th {\n",
       "        vertical-align: top;\n",
       "    }\n",
       "\n",
       "    .dataframe thead th {\n",
       "        text-align: right;\n",
       "    }\n",
       "</style>\n",
       "<table border=\"1\" class=\"dataframe\">\n",
       "  <thead>\n",
       "    <tr style=\"text-align: right;\">\n",
       "      <th></th>\n",
       "      <th>Submission id</th>\n",
       "      <th>Participant id</th>\n",
       "      <th>Status</th>\n",
       "      <th>Custom study tncs accepted at</th>\n",
       "      <th>Started at</th>\n",
       "      <th>Completed at</th>\n",
       "      <th>Reviewed at</th>\n",
       "      <th>Archived at</th>\n",
       "      <th>Time taken</th>\n",
       "      <th>Completion code</th>\n",
       "      <th>Total approvals</th>\n",
       "      <th>Age</th>\n",
       "      <th>Sex</th>\n",
       "      <th>Ethnicity simplified</th>\n",
       "      <th>Country of birth</th>\n",
       "      <th>Country of residence</th>\n",
       "      <th>Nationality</th>\n",
       "      <th>Language</th>\n",
       "      <th>Student status</th>\n",
       "      <th>Employment status</th>\n",
       "    </tr>\n",
       "  </thead>\n",
       "  <tbody>\n",
       "    <tr>\n",
       "      <th>0</th>\n",
       "      <td>68708cf6b2a5c6baa48d6343</td>\n",
       "      <td>5ef60257cd680928de23ccae</td>\n",
       "      <td>APPROVED</td>\n",
       "      <td>Not Applicable</td>\n",
       "      <td>2025-07-11T04:03:02.613000Z</td>\n",
       "      <td>2025-07-11T04:07:42.625000Z</td>\n",
       "      <td>2025-07-15T04:08:31.855000Z</td>\n",
       "      <td>2025-07-11T04:07:43.031319Z</td>\n",
       "      <td>281.0</td>\n",
       "      <td>C1MO6037</td>\n",
       "      <td>377</td>\n",
       "      <td>29</td>\n",
       "      <td>Male</td>\n",
       "      <td>White</td>\n",
       "      <td>Hungary</td>\n",
       "      <td>Hungary</td>\n",
       "      <td>Hungary</td>\n",
       "      <td>Hungarian</td>\n",
       "      <td>Yes</td>\n",
       "      <td>Full-Time</td>\n",
       "    </tr>\n",
       "    <tr>\n",
       "      <th>1</th>\n",
       "      <td>68708d873d4d0b6d92e59937</td>\n",
       "      <td>5c48be0496d59b000183e68d</td>\n",
       "      <td>APPROVED</td>\n",
       "      <td>Not Applicable</td>\n",
       "      <td>2025-07-11T04:05:42.316000Z</td>\n",
       "      <td>2025-07-11T04:13:25.502000Z</td>\n",
       "      <td>2025-07-15T04:08:32.344000Z</td>\n",
       "      <td>2025-07-11T04:13:25.947923Z</td>\n",
       "      <td>464.0</td>\n",
       "      <td>C1MO6037</td>\n",
       "      <td>1457</td>\n",
       "      <td>48</td>\n",
       "      <td>Male</td>\n",
       "      <td>White</td>\n",
       "      <td>Hungary</td>\n",
       "      <td>Hungary</td>\n",
       "      <td>Hungary</td>\n",
       "      <td>Hungarian</td>\n",
       "      <td>No</td>\n",
       "      <td>Full-Time</td>\n",
       "    </tr>\n",
       "    <tr>\n",
       "      <th>2</th>\n",
       "      <td>68708f072c19330dab93cd7b</td>\n",
       "      <td>5d3449524e8363001735fc41</td>\n",
       "      <td>APPROVED</td>\n",
       "      <td>Not Applicable</td>\n",
       "      <td>2025-07-11T04:12:14.614000Z</td>\n",
       "      <td>2025-07-11T04:20:51.642000Z</td>\n",
       "      <td>2025-07-15T04:08:32.762000Z</td>\n",
       "      <td>2025-07-11T04:20:52.060603Z</td>\n",
       "      <td>518.0</td>\n",
       "      <td>C1MO6037</td>\n",
       "      <td>657</td>\n",
       "      <td>42</td>\n",
       "      <td>Male</td>\n",
       "      <td>White</td>\n",
       "      <td>Hungary</td>\n",
       "      <td>Hungary</td>\n",
       "      <td>Hungary</td>\n",
       "      <td>Hungarian</td>\n",
       "      <td>DATA_EXPIRED</td>\n",
       "      <td>Full-Time</td>\n",
       "    </tr>\n",
       "    <tr>\n",
       "      <th>3</th>\n",
       "      <td>68708f80de42cf279f3089d8</td>\n",
       "      <td>5a913d2cf0536100017196d8</td>\n",
       "      <td>APPROVED</td>\n",
       "      <td>Not Applicable</td>\n",
       "      <td>2025-07-11T04:13:57.716000Z</td>\n",
       "      <td>2025-07-11T04:16:47.135000Z</td>\n",
       "      <td>2025-07-15T04:08:33.160000Z</td>\n",
       "      <td>2025-07-11T04:16:47.592395Z</td>\n",
       "      <td>170.0</td>\n",
       "      <td>C1MO6037</td>\n",
       "      <td>29</td>\n",
       "      <td>27</td>\n",
       "      <td>Male</td>\n",
       "      <td>White</td>\n",
       "      <td>Hungary</td>\n",
       "      <td>Hungary</td>\n",
       "      <td>Hungary</td>\n",
       "      <td>Hungarian</td>\n",
       "      <td>No</td>\n",
       "      <td>Full-Time</td>\n",
       "    </tr>\n",
       "    <tr>\n",
       "      <th>4</th>\n",
       "      <td>68708fb5ab7d87dd294e6c74</td>\n",
       "      <td>5d3873197860c8001a106e02</td>\n",
       "      <td>APPROVED</td>\n",
       "      <td>Not Applicable</td>\n",
       "      <td>2025-07-11T04:16:49.056000Z</td>\n",
       "      <td>2025-07-11T04:21:24.387000Z</td>\n",
       "      <td>2025-07-15T04:08:33.533000Z</td>\n",
       "      <td>2025-07-11T04:21:24.787505Z</td>\n",
       "      <td>276.0</td>\n",
       "      <td>C1MO6037</td>\n",
       "      <td>2564</td>\n",
       "      <td>34</td>\n",
       "      <td>Male</td>\n",
       "      <td>White</td>\n",
       "      <td>Hungary</td>\n",
       "      <td>Hungary</td>\n",
       "      <td>Hungary</td>\n",
       "      <td>Hungarian</td>\n",
       "      <td>No</td>\n",
       "      <td>Full-Time</td>\n",
       "    </tr>\n",
       "  </tbody>\n",
       "</table>\n",
       "</div>"
      ],
      "text/plain": [
       "              Submission id            Participant id    Status  \\\n",
       "0  68708cf6b2a5c6baa48d6343  5ef60257cd680928de23ccae  APPROVED   \n",
       "1  68708d873d4d0b6d92e59937  5c48be0496d59b000183e68d  APPROVED   \n",
       "2  68708f072c19330dab93cd7b  5d3449524e8363001735fc41  APPROVED   \n",
       "3  68708f80de42cf279f3089d8  5a913d2cf0536100017196d8  APPROVED   \n",
       "4  68708fb5ab7d87dd294e6c74  5d3873197860c8001a106e02  APPROVED   \n",
       "\n",
       "  Custom study tncs accepted at                   Started at  \\\n",
       "0                Not Applicable  2025-07-11T04:03:02.613000Z   \n",
       "1                Not Applicable  2025-07-11T04:05:42.316000Z   \n",
       "2                Not Applicable  2025-07-11T04:12:14.614000Z   \n",
       "3                Not Applicable  2025-07-11T04:13:57.716000Z   \n",
       "4                Not Applicable  2025-07-11T04:16:49.056000Z   \n",
       "\n",
       "                  Completed at                  Reviewed at  \\\n",
       "0  2025-07-11T04:07:42.625000Z  2025-07-15T04:08:31.855000Z   \n",
       "1  2025-07-11T04:13:25.502000Z  2025-07-15T04:08:32.344000Z   \n",
       "2  2025-07-11T04:20:51.642000Z  2025-07-15T04:08:32.762000Z   \n",
       "3  2025-07-11T04:16:47.135000Z  2025-07-15T04:08:33.160000Z   \n",
       "4  2025-07-11T04:21:24.387000Z  2025-07-15T04:08:33.533000Z   \n",
       "\n",
       "                   Archived at  Time taken Completion code  Total approvals  \\\n",
       "0  2025-07-11T04:07:43.031319Z       281.0        C1MO6037              377   \n",
       "1  2025-07-11T04:13:25.947923Z       464.0        C1MO6037             1457   \n",
       "2  2025-07-11T04:20:52.060603Z       518.0        C1MO6037              657   \n",
       "3  2025-07-11T04:16:47.592395Z       170.0        C1MO6037               29   \n",
       "4  2025-07-11T04:21:24.787505Z       276.0        C1MO6037             2564   \n",
       "\n",
       "  Age   Sex Ethnicity simplified Country of birth Country of residence  \\\n",
       "0  29  Male                White          Hungary              Hungary   \n",
       "1  48  Male                White          Hungary              Hungary   \n",
       "2  42  Male                White          Hungary              Hungary   \n",
       "3  27  Male                White          Hungary              Hungary   \n",
       "4  34  Male                White          Hungary              Hungary   \n",
       "\n",
       "  Nationality   Language Student status Employment status  \n",
       "0     Hungary  Hungarian            Yes         Full-Time  \n",
       "1     Hungary  Hungarian             No         Full-Time  \n",
       "2     Hungary  Hungarian   DATA_EXPIRED         Full-Time  \n",
       "3     Hungary  Hungarian             No         Full-Time  \n",
       "4     Hungary  Hungarian             No         Full-Time  "
      ]
     },
     "execution_count": 93,
     "metadata": {},
     "output_type": "execute_result"
    }
   ],
   "source": [
    "# Read Hungarian participant data from prolific_hu.csv\n",
    "df_prolific_hu = pd.read_csv('prolific_hu.csv')\n",
    "\n",
    "# Return Participant ID of rows where Status is RETURNED or REJECTED\n",
    "rejects = df_prolific_hu[df_prolific_hu['Status'].isin(['RETURNED', 'REJECTED'])]['Participant id'].unique()\n",
    "\n",
    "# create reject list\n",
    "rejects_list = rejects.tolist()\n",
    "print(f\"Rejected participants: {rejects_list}\")\n",
    "\n",
    "df_prolific_hu.head()"
   ]
  },
  {
   "cell_type": "code",
   "execution_count": 94,
   "id": "21d18857",
   "metadata": {},
   "outputs": [
    {
     "name": "stdout",
     "output_type": "stream",
     "text": [
      "Number of participants: 22\n"
     ]
    },
    {
     "data": {
      "text/html": [
       "<div>\n",
       "<style scoped>\n",
       "    .dataframe tbody tr th:only-of-type {\n",
       "        vertical-align: middle;\n",
       "    }\n",
       "\n",
       "    .dataframe tbody tr th {\n",
       "        vertical-align: top;\n",
       "    }\n",
       "\n",
       "    .dataframe thead th {\n",
       "        text-align: right;\n",
       "    }\n",
       "</style>\n",
       "<table border=\"1\" class=\"dataframe\">\n",
       "  <thead>\n",
       "    <tr style=\"text-align: right;\">\n",
       "      <th></th>\n",
       "      <th>Participant ID</th>\n",
       "      <th>pincérnő</th>\n",
       "      <th>titkárnő</th>\n",
       "      <th>tanárnő</th>\n",
       "      <th>takarítónő</th>\n",
       "      <th>ápolónő</th>\n",
       "      <th>házvezetőnő</th>\n",
       "    </tr>\n",
       "  </thead>\n",
       "  <tbody>\n",
       "    <tr>\n",
       "      <th>2</th>\n",
       "      <td>5a913d2cf0536100017196d8</td>\n",
       "      <td>Teljesen női</td>\n",
       "      <td>Nagyrészt női</td>\n",
       "      <td>Teljesen női</td>\n",
       "      <td>Teljesen női</td>\n",
       "      <td>Teljesen női</td>\n",
       "      <td>Teljesen női</td>\n",
       "    </tr>\n",
       "    <tr>\n",
       "      <th>9</th>\n",
       "      <td>599494e7bf8bcf0001ab6973</td>\n",
       "      <td>Teljesen női</td>\n",
       "      <td>Teljesen férfi</td>\n",
       "      <td>Teljesen női</td>\n",
       "      <td>Teljesen női</td>\n",
       "      <td>Teljesen női</td>\n",
       "      <td>Teljesen női</td>\n",
       "    </tr>\n",
       "    <tr>\n",
       "      <th>12</th>\n",
       "      <td>5e9ab5df2893af141343bce7</td>\n",
       "      <td>Inkább női</td>\n",
       "      <td>Nagyrészt női</td>\n",
       "      <td>Inkább női</td>\n",
       "      <td>Inkább női</td>\n",
       "      <td>Nagyrészt női</td>\n",
       "      <td>Inkább női</td>\n",
       "    </tr>\n",
       "    <tr>\n",
       "      <th>14</th>\n",
       "      <td>S</td>\n",
       "      <td>Teljesen női</td>\n",
       "      <td>Teljesen női</td>\n",
       "      <td>Teljesen női</td>\n",
       "      <td>Nagyrészt női</td>\n",
       "      <td>Teljesen női</td>\n",
       "      <td>Teljesen női</td>\n",
       "    </tr>\n",
       "  </tbody>\n",
       "</table>\n",
       "</div>"
      ],
      "text/plain": [
       "              Participant ID      pincérnő        titkárnő       tanárnő  \\\n",
       "2   5a913d2cf0536100017196d8  Teljesen női   Nagyrészt női  Teljesen női   \n",
       "9   599494e7bf8bcf0001ab6973  Teljesen női  Teljesen férfi  Teljesen női   \n",
       "12  5e9ab5df2893af141343bce7    Inkább női   Nagyrészt női    Inkább női   \n",
       "14                         S  Teljesen női    Teljesen női  Teljesen női   \n",
       "\n",
       "       takarítónő        ápolónő   házvezetőnő  \n",
       "2    Teljesen női   Teljesen női  Teljesen női  \n",
       "9    Teljesen női   Teljesen női  Teljesen női  \n",
       "12     Inkább női  Nagyrészt női    Inkább női  \n",
       "14  Nagyrészt női   Teljesen női  Teljesen női  "
      ]
     },
     "execution_count": 94,
     "metadata": {},
     "output_type": "execute_result"
    }
   ],
   "source": [
    "# Read Hungarian data from hu.xlsx\n",
    "df_hu = pd.read_excel('ratings_hu.xlsx')\n",
    "\n",
    "# Rename Prolific ID to Participant ID\n",
    "df_hu.rename(columns={'Prolific ID': 'Participant ID'}, inplace=True)\n",
    "\n",
    "# Print number of participants\n",
    "print(f\"Number of participants: {df_hu.shape[0]}\")\n",
    "\n",
    "# Define Hungarian attention checks\n",
    "hu_attention_checks = ['pincérnő', 'titkárnő', 'tanárnő', 'takarítónő', 'ápolónő', 'házvezetőnő']\n",
    "\n",
    "# Show wo failed attention any checks, find participants who did not mark all hu_attention_checks columns as 3\n",
    "failed_attention = df_hu[df_hu[hu_attention_checks].apply(lambda row: any(row != 'Teljesen női'), axis=1)]\n",
    "\n",
    "# Show the failed participants (if any)\n",
    "failed = failed_attention[['Participant ID'] + hu_attention_checks] if not failed_attention.empty else print(\"All participants passed the attention checks.\")\n",
    "failed"
   ]
  },
  {
   "cell_type": "code",
   "execution_count": 95,
   "id": "ba89a339",
   "metadata": {},
   "outputs": [
    {
     "name": "stdout",
     "output_type": "stream",
     "text": [
      "Number of participants: 20\n"
     ]
    }
   ],
   "source": [
    "# Remove those who failed miserably\n",
    "df_hu = df_hu[df_hu['Participant ID'] != '5e9ab5df2893af141343bce7']\n",
    "df_hu = df_hu[df_hu['Participant ID'] != '599494e7bf8bcf0001ab6973']\n",
    "\n",
    "# Remove participants who were rejected\n",
    "df_hu = df_hu[~df_hu['Participant ID'].isin(rejects_list)]\n",
    "\n",
    "# Print number of participants\n",
    "print(f\"Number of participants: {df_hu.shape[0]}\")\n",
    "\n",
    "# Drop attention checks\n",
    "df_hu.drop(columns=hu_attention_checks, inplace=True)"
   ]
  },
  {
   "cell_type": "code",
   "execution_count": 96,
   "id": "381f0f1c",
   "metadata": {},
   "outputs": [
    {
     "name": "stdout",
     "output_type": "stream",
     "text": [
      "Number of participants: 20\n",
      "Number of words: 44\n"
     ]
    },
    {
     "data": {
      "text/html": [
       "<div>\n",
       "<style scoped>\n",
       "    .dataframe tbody tr th:only-of-type {\n",
       "        vertical-align: middle;\n",
       "    }\n",
       "\n",
       "    .dataframe tbody tr th {\n",
       "        vertical-align: top;\n",
       "    }\n",
       "\n",
       "    .dataframe thead th {\n",
       "        text-align: right;\n",
       "    }\n",
       "</style>\n",
       "<table border=\"1\" class=\"dataframe\">\n",
       "  <thead>\n",
       "    <tr style=\"text-align: right;\">\n",
       "      <th></th>\n",
       "      <th>ID</th>\n",
       "      <th>Start time</th>\n",
       "      <th>Completion time</th>\n",
       "      <th>Email</th>\n",
       "      <th>Name</th>\n",
       "      <th>Participant ID</th>\n",
       "      <th>Age</th>\n",
       "      <th>Gender</th>\n",
       "      <th>modell</th>\n",
       "      <th>katona</th>\n",
       "      <th>...</th>\n",
       "      <th>dietetikus</th>\n",
       "      <th>tanár</th>\n",
       "      <th>rendőr</th>\n",
       "      <th>pilóta</th>\n",
       "      <th>recepciós</th>\n",
       "      <th>biztonsági őr</th>\n",
       "      <th>ügyész</th>\n",
       "      <th>kozmetikus</th>\n",
       "      <th>programozó</th>\n",
       "      <th>diák</th>\n",
       "    </tr>\n",
       "  </thead>\n",
       "  <tbody>\n",
       "    <tr>\n",
       "      <th>0</th>\n",
       "      <td>1</td>\n",
       "      <td>2025-07-11 12:06:52</td>\n",
       "      <td>2025-07-11 12:07:43</td>\n",
       "      <td>anonymous</td>\n",
       "      <td>NaN</td>\n",
       "      <td>5ef60257cd680928de23ccae</td>\n",
       "      <td>25-35</td>\n",
       "      <td>male</td>\n",
       "      <td>2</td>\n",
       "      <td>-3</td>\n",
       "      <td>...</td>\n",
       "      <td>0</td>\n",
       "      <td>0</td>\n",
       "      <td>-2</td>\n",
       "      <td>-1</td>\n",
       "      <td>0</td>\n",
       "      <td>-2</td>\n",
       "      <td>0</td>\n",
       "      <td>2</td>\n",
       "      <td>-1</td>\n",
       "      <td>0</td>\n",
       "    </tr>\n",
       "    <tr>\n",
       "      <th>1</th>\n",
       "      <td>2</td>\n",
       "      <td>2025-07-11 12:06:58</td>\n",
       "      <td>2025-07-11 12:13:33</td>\n",
       "      <td>anonymous</td>\n",
       "      <td>NaN</td>\n",
       "      <td>5c48be0496d59b000183e68d</td>\n",
       "      <td>45-55</td>\n",
       "      <td>male</td>\n",
       "      <td>2</td>\n",
       "      <td>-2</td>\n",
       "      <td>...</td>\n",
       "      <td>0</td>\n",
       "      <td>0</td>\n",
       "      <td>-2</td>\n",
       "      <td>-2</td>\n",
       "      <td>1</td>\n",
       "      <td>-2</td>\n",
       "      <td>-1</td>\n",
       "      <td>3</td>\n",
       "      <td>-2</td>\n",
       "      <td>0</td>\n",
       "    </tr>\n",
       "    <tr>\n",
       "      <th>2</th>\n",
       "      <td>3</td>\n",
       "      <td>2025-07-11 12:14:03</td>\n",
       "      <td>2025-07-11 12:16:52</td>\n",
       "      <td>anonymous</td>\n",
       "      <td>NaN</td>\n",
       "      <td>5a913d2cf0536100017196d8</td>\n",
       "      <td>25-35</td>\n",
       "      <td>male</td>\n",
       "      <td>0</td>\n",
       "      <td>-2</td>\n",
       "      <td>...</td>\n",
       "      <td>0</td>\n",
       "      <td>0</td>\n",
       "      <td>-1</td>\n",
       "      <td>0</td>\n",
       "      <td>0</td>\n",
       "      <td>-2</td>\n",
       "      <td>0</td>\n",
       "      <td>2</td>\n",
       "      <td>0</td>\n",
       "      <td>0</td>\n",
       "    </tr>\n",
       "    <tr>\n",
       "      <th>3</th>\n",
       "      <td>4</td>\n",
       "      <td>2025-07-11 12:12:24</td>\n",
       "      <td>2025-07-11 12:21:19</td>\n",
       "      <td>anonymous</td>\n",
       "      <td>NaN</td>\n",
       "      <td>5d3449524e8363001735fc41</td>\n",
       "      <td>35-45</td>\n",
       "      <td>male</td>\n",
       "      <td>2</td>\n",
       "      <td>-2</td>\n",
       "      <td>...</td>\n",
       "      <td>1</td>\n",
       "      <td>2</td>\n",
       "      <td>-2</td>\n",
       "      <td>-2</td>\n",
       "      <td>2</td>\n",
       "      <td>-2</td>\n",
       "      <td>-1</td>\n",
       "      <td>3</td>\n",
       "      <td>-2</td>\n",
       "      <td>0</td>\n",
       "    </tr>\n",
       "    <tr>\n",
       "      <th>4</th>\n",
       "      <td>5</td>\n",
       "      <td>2025-07-11 12:16:52</td>\n",
       "      <td>2025-07-11 12:21:35</td>\n",
       "      <td>anonymous</td>\n",
       "      <td>NaN</td>\n",
       "      <td>5d3873197860c8001a106e02</td>\n",
       "      <td>25-35</td>\n",
       "      <td>male</td>\n",
       "      <td>0</td>\n",
       "      <td>-2</td>\n",
       "      <td>...</td>\n",
       "      <td>0</td>\n",
       "      <td>0</td>\n",
       "      <td>-1</td>\n",
       "      <td>-1</td>\n",
       "      <td>0</td>\n",
       "      <td>-1</td>\n",
       "      <td>0</td>\n",
       "      <td>2</td>\n",
       "      <td>-2</td>\n",
       "      <td>0</td>\n",
       "    </tr>\n",
       "  </tbody>\n",
       "</table>\n",
       "<p>5 rows × 52 columns</p>\n",
       "</div>"
      ],
      "text/plain": [
       "   ID          Start time     Completion time      Email  Name  \\\n",
       "0   1 2025-07-11 12:06:52 2025-07-11 12:07:43  anonymous   NaN   \n",
       "1   2 2025-07-11 12:06:58 2025-07-11 12:13:33  anonymous   NaN   \n",
       "2   3 2025-07-11 12:14:03 2025-07-11 12:16:52  anonymous   NaN   \n",
       "3   4 2025-07-11 12:12:24 2025-07-11 12:21:19  anonymous   NaN   \n",
       "4   5 2025-07-11 12:16:52 2025-07-11 12:21:35  anonymous   NaN   \n",
       "\n",
       "             Participant ID    Age Gender  modell  katona  ...  dietetikus  \\\n",
       "0  5ef60257cd680928de23ccae  25-35   male       2      -3  ...           0   \n",
       "1  5c48be0496d59b000183e68d  45-55   male       2      -2  ...           0   \n",
       "2  5a913d2cf0536100017196d8  25-35   male       0      -2  ...           0   \n",
       "3  5d3449524e8363001735fc41  35-45   male       2      -2  ...           1   \n",
       "4  5d3873197860c8001a106e02  25-35   male       0      -2  ...           0   \n",
       "\n",
       "   tanár  rendőr  pilóta  recepciós  biztonsági őr  ügyész  kozmetikus  \\\n",
       "0      0      -2      -1          0             -2       0           2   \n",
       "1      0      -2      -2          1             -2      -1           3   \n",
       "2      0      -1       0          0             -2       0           2   \n",
       "3      2      -2      -2          2             -2      -1           3   \n",
       "4      0      -1      -1          0             -1       0           2   \n",
       "\n",
       "   programozó  diák  \n",
       "0          -1     0  \n",
       "1          -2     0  \n",
       "2           0     0  \n",
       "3          -2     0  \n",
       "4          -2     0  \n",
       "\n",
       "[5 rows x 52 columns]"
      ]
     },
     "execution_count": 96,
     "metadata": {},
     "output_type": "execute_result"
    }
   ],
   "source": [
    "# Define the mapping for ratings\n",
    "rating_map = {\n",
    "    'Teljesen férfi': -3,\n",
    "    'Nagyrészt férfi': -2,\n",
    "    'Inkább férfi': -1,\n",
    "    'Semleges/egyenlő': 0,\n",
    "    'Inkább női': 1,\n",
    "    'Nagyrészt női': 2,\n",
    "    'Teljesen női': 3\n",
    "}\n",
    "\n",
    "# Get columns to convert (skip non-rating columns)\n",
    "rating_columns = df_hu.columns[8:]  # assuming first 8 columns are not ratings\n",
    "\n",
    "# Replace and explicitly infer objects to avoid warning\n",
    "for col in rating_columns:\n",
    "    df_hu[col] = df_hu[col].map(rating_map)\n",
    "    \n",
    "# Drop rows where Participant ID is in rejects_list\n",
    "df_hu = df_hu[~df_hu['Participant ID'].isin(rejects_list)]\n",
    "\n",
    "# Rename Életkor to Age and Nem to Gender\n",
    "df_hu.rename(columns={'Életkor': 'Age', 'Nem':'Gender'}, inplace=True)\n",
    "\n",
    "# Replace férfi to male and nő to female in Gender column\n",
    "df_hu['Gender'] = df_hu['Gender'].replace({'férfi': 'male', 'nő': 'female'})\n",
    "\n",
    "# Count and print participants based on unique Participant ID\n",
    "num_participants = df_hu['Participant ID'].nunique()\n",
    "print(f'Number of participants: {num_participants}')\n",
    "\n",
    "# Count the number of columns starting with the 8th.\n",
    "num_columns = len(df_hu.columns) - 8\n",
    "print(f'Number of words: {num_columns}')\n",
    "\n",
    "# Show\n",
    "df_hu.head()\n"
   ]
  },
  {
   "cell_type": "markdown",
   "id": "c7ad821f",
   "metadata": {},
   "source": [
    "### Demographics"
   ]
  },
  {
   "cell_type": "code",
   "execution_count": 97,
   "id": "b68dd42b",
   "metadata": {},
   "outputs": [
    {
     "data": {
      "application/vnd.plotly.v1+json": {
       "config": {
        "plotlyServerURL": "https://plot.ly"
       },
       "data": [
        {
         "customdata": [
          [
           "Female",
           "11",
           "55.00000000000001"
          ],
          [
           "Male",
           "9",
           "45.0"
          ]
         ],
         "domain": {
          "x": [
           0,
           0.45
          ],
          "y": [
           0,
           1
          ]
         },
         "hole": 0.33,
         "labels": [
          "Female",
          "Male"
         ],
         "marker": {
          "colors": [
           "#C46BE1",
           "#4090C2"
          ]
         },
         "name": "Gender",
         "text": [
          "Female<br>n=11<br>55.0%",
          "Male<br>n=9<br>45.0%"
         ],
         "textfont": {
          "size": 28
         },
         "textinfo": "text",
         "title": {
          "text": "Gender"
         },
         "type": "pie",
         "values": {
          "bdata": "AQAAAACAS0AAAAAAAIBGQA==",
          "dtype": "f8"
         }
        },
        {
         "customdata": [
          [
           "25-35",
           12,
           60
          ],
          [
           "35-45",
           3,
           15
          ],
          [
           "45-55",
           5,
           25
          ]
         ],
         "domain": {
          "x": [
           0.55,
           1
          ],
          "y": [
           0,
           1
          ]
         },
         "hole": 0.33,
         "labels": [
          "25-35",
          "35-45",
          "45-55"
         ],
         "marker": {
          "colors": [
           "#77D6C6",
           "#4DAF9E",
           "#006B5F"
          ]
         },
         "name": "Age",
         "text": [
          "25-35<br>n=12<br>60.0%",
          "35-45<br>n=3<br>15.0%",
          "45-55<br>n=5<br>25.0%"
         ],
         "textfont": {
          "size": 28
         },
         "textinfo": "text",
         "title": {
          "text": "Age"
         },
         "type": "pie",
         "values": {
          "bdata": "AAAAAAAATkAAAAAAAAAuQAAAAAAAADlA",
          "dtype": "f8"
         }
        }
       ],
       "layout": {
        "annotations": [
         {
          "align": "center",
          "font": {
           "size": 28
          },
          "showarrow": false,
          "text": "No. of participants: 20",
          "x": 0.5,
          "xanchor": "center",
          "xref": "paper",
          "y": 0.9,
          "yanchor": "bottom",
          "yref": "paper"
         },
         {
          "align": "center",
          "font": {
           "size": 28
          },
          "showarrow": false,
          "text": "No. of participants: 20",
          "x": 0.5,
          "xanchor": "center",
          "xref": "paper",
          "y": 0.9,
          "yanchor": "bottom",
          "yref": "paper"
         }
        ],
        "font": {
         "color": "black",
         "family": "Times New Roman, serif",
         "size": 32
        },
        "legend": {
         "font": {
          "size": 28
         },
         "orientation": "v",
         "x": 0.5,
         "xanchor": "center",
         "y": 1,
         "yanchor": "top"
        },
        "margin": {
         "b": 0,
         "l": 0,
         "r": 0,
         "t": 0
        },
        "showlegend": false,
        "template": {
         "data": {
          "bar": [
           {
            "error_x": {
             "color": "#2a3f5f"
            },
            "error_y": {
             "color": "#2a3f5f"
            },
            "marker": {
             "line": {
              "color": "#E5ECF6",
              "width": 0.5
             },
             "pattern": {
              "fillmode": "overlay",
              "size": 10,
              "solidity": 0.2
             }
            },
            "type": "bar"
           }
          ],
          "barpolar": [
           {
            "marker": {
             "line": {
              "color": "#E5ECF6",
              "width": 0.5
             },
             "pattern": {
              "fillmode": "overlay",
              "size": 10,
              "solidity": 0.2
             }
            },
            "type": "barpolar"
           }
          ],
          "carpet": [
           {
            "aaxis": {
             "endlinecolor": "#2a3f5f",
             "gridcolor": "white",
             "linecolor": "white",
             "minorgridcolor": "white",
             "startlinecolor": "#2a3f5f"
            },
            "baxis": {
             "endlinecolor": "#2a3f5f",
             "gridcolor": "white",
             "linecolor": "white",
             "minorgridcolor": "white",
             "startlinecolor": "#2a3f5f"
            },
            "type": "carpet"
           }
          ],
          "choropleth": [
           {
            "colorbar": {
             "outlinewidth": 0,
             "ticks": ""
            },
            "type": "choropleth"
           }
          ],
          "contour": [
           {
            "colorbar": {
             "outlinewidth": 0,
             "ticks": ""
            },
            "colorscale": [
             [
              0,
              "#0d0887"
             ],
             [
              0.1111111111111111,
              "#46039f"
             ],
             [
              0.2222222222222222,
              "#7201a8"
             ],
             [
              0.3333333333333333,
              "#9c179e"
             ],
             [
              0.4444444444444444,
              "#bd3786"
             ],
             [
              0.5555555555555556,
              "#d8576b"
             ],
             [
              0.6666666666666666,
              "#ed7953"
             ],
             [
              0.7777777777777778,
              "#fb9f3a"
             ],
             [
              0.8888888888888888,
              "#fdca26"
             ],
             [
              1,
              "#f0f921"
             ]
            ],
            "type": "contour"
           }
          ],
          "contourcarpet": [
           {
            "colorbar": {
             "outlinewidth": 0,
             "ticks": ""
            },
            "type": "contourcarpet"
           }
          ],
          "heatmap": [
           {
            "colorbar": {
             "outlinewidth": 0,
             "ticks": ""
            },
            "colorscale": [
             [
              0,
              "#0d0887"
             ],
             [
              0.1111111111111111,
              "#46039f"
             ],
             [
              0.2222222222222222,
              "#7201a8"
             ],
             [
              0.3333333333333333,
              "#9c179e"
             ],
             [
              0.4444444444444444,
              "#bd3786"
             ],
             [
              0.5555555555555556,
              "#d8576b"
             ],
             [
              0.6666666666666666,
              "#ed7953"
             ],
             [
              0.7777777777777778,
              "#fb9f3a"
             ],
             [
              0.8888888888888888,
              "#fdca26"
             ],
             [
              1,
              "#f0f921"
             ]
            ],
            "type": "heatmap"
           }
          ],
          "histogram": [
           {
            "marker": {
             "pattern": {
              "fillmode": "overlay",
              "size": 10,
              "solidity": 0.2
             }
            },
            "type": "histogram"
           }
          ],
          "histogram2d": [
           {
            "colorbar": {
             "outlinewidth": 0,
             "ticks": ""
            },
            "colorscale": [
             [
              0,
              "#0d0887"
             ],
             [
              0.1111111111111111,
              "#46039f"
             ],
             [
              0.2222222222222222,
              "#7201a8"
             ],
             [
              0.3333333333333333,
              "#9c179e"
             ],
             [
              0.4444444444444444,
              "#bd3786"
             ],
             [
              0.5555555555555556,
              "#d8576b"
             ],
             [
              0.6666666666666666,
              "#ed7953"
             ],
             [
              0.7777777777777778,
              "#fb9f3a"
             ],
             [
              0.8888888888888888,
              "#fdca26"
             ],
             [
              1,
              "#f0f921"
             ]
            ],
            "type": "histogram2d"
           }
          ],
          "histogram2dcontour": [
           {
            "colorbar": {
             "outlinewidth": 0,
             "ticks": ""
            },
            "colorscale": [
             [
              0,
              "#0d0887"
             ],
             [
              0.1111111111111111,
              "#46039f"
             ],
             [
              0.2222222222222222,
              "#7201a8"
             ],
             [
              0.3333333333333333,
              "#9c179e"
             ],
             [
              0.4444444444444444,
              "#bd3786"
             ],
             [
              0.5555555555555556,
              "#d8576b"
             ],
             [
              0.6666666666666666,
              "#ed7953"
             ],
             [
              0.7777777777777778,
              "#fb9f3a"
             ],
             [
              0.8888888888888888,
              "#fdca26"
             ],
             [
              1,
              "#f0f921"
             ]
            ],
            "type": "histogram2dcontour"
           }
          ],
          "mesh3d": [
           {
            "colorbar": {
             "outlinewidth": 0,
             "ticks": ""
            },
            "type": "mesh3d"
           }
          ],
          "parcoords": [
           {
            "line": {
             "colorbar": {
              "outlinewidth": 0,
              "ticks": ""
             }
            },
            "type": "parcoords"
           }
          ],
          "pie": [
           {
            "automargin": true,
            "type": "pie"
           }
          ],
          "scatter": [
           {
            "fillpattern": {
             "fillmode": "overlay",
             "size": 10,
             "solidity": 0.2
            },
            "type": "scatter"
           }
          ],
          "scatter3d": [
           {
            "line": {
             "colorbar": {
              "outlinewidth": 0,
              "ticks": ""
             }
            },
            "marker": {
             "colorbar": {
              "outlinewidth": 0,
              "ticks": ""
             }
            },
            "type": "scatter3d"
           }
          ],
          "scattercarpet": [
           {
            "marker": {
             "colorbar": {
              "outlinewidth": 0,
              "ticks": ""
             }
            },
            "type": "scattercarpet"
           }
          ],
          "scattergeo": [
           {
            "marker": {
             "colorbar": {
              "outlinewidth": 0,
              "ticks": ""
             }
            },
            "type": "scattergeo"
           }
          ],
          "scattergl": [
           {
            "marker": {
             "colorbar": {
              "outlinewidth": 0,
              "ticks": ""
             }
            },
            "type": "scattergl"
           }
          ],
          "scattermap": [
           {
            "marker": {
             "colorbar": {
              "outlinewidth": 0,
              "ticks": ""
             }
            },
            "type": "scattermap"
           }
          ],
          "scattermapbox": [
           {
            "marker": {
             "colorbar": {
              "outlinewidth": 0,
              "ticks": ""
             }
            },
            "type": "scattermapbox"
           }
          ],
          "scatterpolar": [
           {
            "marker": {
             "colorbar": {
              "outlinewidth": 0,
              "ticks": ""
             }
            },
            "type": "scatterpolar"
           }
          ],
          "scatterpolargl": [
           {
            "marker": {
             "colorbar": {
              "outlinewidth": 0,
              "ticks": ""
             }
            },
            "type": "scatterpolargl"
           }
          ],
          "scatterternary": [
           {
            "marker": {
             "colorbar": {
              "outlinewidth": 0,
              "ticks": ""
             }
            },
            "type": "scatterternary"
           }
          ],
          "surface": [
           {
            "colorbar": {
             "outlinewidth": 0,
             "ticks": ""
            },
            "colorscale": [
             [
              0,
              "#0d0887"
             ],
             [
              0.1111111111111111,
              "#46039f"
             ],
             [
              0.2222222222222222,
              "#7201a8"
             ],
             [
              0.3333333333333333,
              "#9c179e"
             ],
             [
              0.4444444444444444,
              "#bd3786"
             ],
             [
              0.5555555555555556,
              "#d8576b"
             ],
             [
              0.6666666666666666,
              "#ed7953"
             ],
             [
              0.7777777777777778,
              "#fb9f3a"
             ],
             [
              0.8888888888888888,
              "#fdca26"
             ],
             [
              1,
              "#f0f921"
             ]
            ],
            "type": "surface"
           }
          ],
          "table": [
           {
            "cells": {
             "fill": {
              "color": "#EBF0F8"
             },
             "line": {
              "color": "white"
             }
            },
            "header": {
             "fill": {
              "color": "#C8D4E3"
             },
             "line": {
              "color": "white"
             }
            },
            "type": "table"
           }
          ]
         },
         "layout": {
          "annotationdefaults": {
           "arrowcolor": "#2a3f5f",
           "arrowhead": 0,
           "arrowwidth": 1
          },
          "autotypenumbers": "strict",
          "coloraxis": {
           "colorbar": {
            "outlinewidth": 0,
            "ticks": ""
           }
          },
          "colorscale": {
           "diverging": [
            [
             0,
             "#8e0152"
            ],
            [
             0.1,
             "#c51b7d"
            ],
            [
             0.2,
             "#de77ae"
            ],
            [
             0.3,
             "#f1b6da"
            ],
            [
             0.4,
             "#fde0ef"
            ],
            [
             0.5,
             "#f7f7f7"
            ],
            [
             0.6,
             "#e6f5d0"
            ],
            [
             0.7,
             "#b8e186"
            ],
            [
             0.8,
             "#7fbc41"
            ],
            [
             0.9,
             "#4d9221"
            ],
            [
             1,
             "#276419"
            ]
           ],
           "sequential": [
            [
             0,
             "#0d0887"
            ],
            [
             0.1111111111111111,
             "#46039f"
            ],
            [
             0.2222222222222222,
             "#7201a8"
            ],
            [
             0.3333333333333333,
             "#9c179e"
            ],
            [
             0.4444444444444444,
             "#bd3786"
            ],
            [
             0.5555555555555556,
             "#d8576b"
            ],
            [
             0.6666666666666666,
             "#ed7953"
            ],
            [
             0.7777777777777778,
             "#fb9f3a"
            ],
            [
             0.8888888888888888,
             "#fdca26"
            ],
            [
             1,
             "#f0f921"
            ]
           ],
           "sequentialminus": [
            [
             0,
             "#0d0887"
            ],
            [
             0.1111111111111111,
             "#46039f"
            ],
            [
             0.2222222222222222,
             "#7201a8"
            ],
            [
             0.3333333333333333,
             "#9c179e"
            ],
            [
             0.4444444444444444,
             "#bd3786"
            ],
            [
             0.5555555555555556,
             "#d8576b"
            ],
            [
             0.6666666666666666,
             "#ed7953"
            ],
            [
             0.7777777777777778,
             "#fb9f3a"
            ],
            [
             0.8888888888888888,
             "#fdca26"
            ],
            [
             1,
             "#f0f921"
            ]
           ]
          },
          "colorway": [
           "#636efa",
           "#EF553B",
           "#00cc96",
           "#ab63fa",
           "#FFA15A",
           "#19d3f3",
           "#FF6692",
           "#B6E880",
           "#FF97FF",
           "#FECB52"
          ],
          "font": {
           "color": "#2a3f5f"
          },
          "geo": {
           "bgcolor": "white",
           "lakecolor": "white",
           "landcolor": "#E5ECF6",
           "showlakes": true,
           "showland": true,
           "subunitcolor": "white"
          },
          "hoverlabel": {
           "align": "left"
          },
          "hovermode": "closest",
          "mapbox": {
           "style": "light"
          },
          "paper_bgcolor": "white",
          "plot_bgcolor": "#E5ECF6",
          "polar": {
           "angularaxis": {
            "gridcolor": "white",
            "linecolor": "white",
            "ticks": ""
           },
           "bgcolor": "#E5ECF6",
           "radialaxis": {
            "gridcolor": "white",
            "linecolor": "white",
            "ticks": ""
           }
          },
          "scene": {
           "xaxis": {
            "backgroundcolor": "#E5ECF6",
            "gridcolor": "white",
            "gridwidth": 2,
            "linecolor": "white",
            "showbackground": true,
            "ticks": "",
            "zerolinecolor": "white"
           },
           "yaxis": {
            "backgroundcolor": "#E5ECF6",
            "gridcolor": "white",
            "gridwidth": 2,
            "linecolor": "white",
            "showbackground": true,
            "ticks": "",
            "zerolinecolor": "white"
           },
           "zaxis": {
            "backgroundcolor": "#E5ECF6",
            "gridcolor": "white",
            "gridwidth": 2,
            "linecolor": "white",
            "showbackground": true,
            "ticks": "",
            "zerolinecolor": "white"
           }
          },
          "shapedefaults": {
           "line": {
            "color": "#2a3f5f"
           }
          },
          "ternary": {
           "aaxis": {
            "gridcolor": "white",
            "linecolor": "white",
            "ticks": ""
           },
           "baxis": {
            "gridcolor": "white",
            "linecolor": "white",
            "ticks": ""
           },
           "bgcolor": "#E5ECF6",
           "caxis": {
            "gridcolor": "white",
            "linecolor": "white",
            "ticks": ""
           }
          },
          "title": {
           "x": 0.05
          },
          "xaxis": {
           "automargin": true,
           "gridcolor": "white",
           "linecolor": "white",
           "ticks": "",
           "title": {
            "standoff": 15
           },
           "zerolinecolor": "white",
           "zerolinewidth": 2
          },
          "yaxis": {
           "automargin": true,
           "gridcolor": "white",
           "linecolor": "white",
           "ticks": "",
           "title": {
            "standoff": 15
           },
           "zerolinecolor": "white",
           "zerolinewidth": 2
          }
         }
        }
       }
      }
     },
     "metadata": {},
     "output_type": "display_data"
    }
   ],
   "source": [
    "# Custom colors\n",
    "female_color = \"#C46BE1\"\n",
    "male_color = \"#4090C2\"\n",
    "neutral_color = \"#778899\"\n",
    "\n",
    "color_map = {\n",
    "    'Men': female_color,\n",
    "    'Women': male_color,\n",
    "    'Equal': neutral_color\n",
    "}\n",
    "\n",
    "# Three shades of teal for age groups\n",
    "gender_colors = [female_color, male_color]\n",
    "age_shades = ['#77D6C6', '#4DAF9E', '#006B5F']\n",
    "\n",
    "# Prepare gender and age counts and percentages\n",
    "gender_counts = df_hu['Gender'].value_counts()\n",
    "gender_labels = gender_counts.index\n",
    "gender_labels_en = ['Male' if g == 'male' else 'Female' for g in gender_labels]\n",
    "gender = gender_counts / gender_counts.sum() * 100\n",
    "\n",
    "age_counts = df_hu['Age'].value_counts().sort_index()\n",
    "age = age_counts / age_counts.sum() * 100\n",
    "\n",
    "# Gender pie with custom colors\n",
    "gender_pie = go.Pie(\n",
    "    labels=gender_labels_en,\n",
    "    values=gender.values,\n",
    "    name='Gender',\n",
    "    hole=0.33,\n",
    "    title='Gender',\n",
    "    marker=dict(colors=gender_colors),\n",
    "    customdata=np.stack([gender_labels_en, gender_counts.values, gender.values], axis=-1),\n",
    "    textinfo='text',\n",
    "    textfont=dict(size=28),\n",
    "    text=[f\"{label}<br>n={int(n)}<br>{p:.1f}%\" for label, n, p in zip(gender_labels_en, gender_counts.values, gender.values)],\n",
    ")\n",
    "\n",
    "# Age pie with custom teal shades (repeat if more age groups)\n",
    "age_colors = (age_shades * ((len(age) // len(age_shades)) + 1))[:len(age)]\n",
    "age_pie = go.Pie(\n",
    "    labels=age.index,\n",
    "    values=age.values,\n",
    "    name='Age',\n",
    "    hole=0.33,\n",
    "    title='Age',\n",
    "    marker=dict(colors=age_colors),\n",
    "    customdata=np.stack([age.index, age_counts.values, age.values], axis=-1),\n",
    "    textinfo='text',\n",
    "    textfont=dict(size=28),\n",
    "    text=[f\"{label}<br>n={int(n)}<br>{p:.1f}%\" for label, n, p in zip(age.index, age_counts.values, age.values)],\n",
    ")\n",
    "\n",
    "# Create subplot with 1 row and 2 columns\n",
    "fig = make_subplots(\n",
    "    rows=1, cols=2, specs=[[{'type':'domain'}, {'type':'domain'}]],\n",
    "    subplot_titles=['Gender Distribution', 'Age Distribution']\n",
    ")\n",
    "\n",
    "fig.add_trace(gender_pie, 1, 1)\n",
    "fig.add_trace(age_pie, 1, 2)\n",
    "\n",
    "fig.update_layout(\n",
    "    font = dict(family=\"Times New Roman, serif\", size=32, color='black'),\n",
    "    margin=dict(l=0, r=0, t=0, b=0),\n",
    "    showlegend=False,\n",
    "    legend=dict(\n",
    "        font=dict(size=28),\n",
    "        orientation='v',\n",
    "        x=0.5,\n",
    "        xanchor='center',\n",
    "        y=1,\n",
    "        yanchor='top'\n",
    "    ),\n",
    "    annotations=[\n",
    "        dict(\n",
    "            text=f'No. of participants: {df_hu.shape[0]}',\n",
    "            x=0.5, y=0.9, xref='paper', yref='paper',\n",
    "            showarrow=False, font=dict(size=28), align='center'\n",
    "        )\n",
    "    ]\n",
    ")\n",
    "\n",
    "fig.show()\n",
    "\n",
    "# Save it as html\n",
    "fig.write_html('demographics_hu.html')\n",
    "\n",
    "# Save it as image\n",
    "fig.write_image('demographics_hu.png', scale=3, width=1000, height=400)"
   ]
  },
  {
   "cell_type": "markdown",
   "id": "dd4e21e1",
   "metadata": {},
   "source": [
    "### Analysis"
   ]
  },
  {
   "cell_type": "markdown",
   "id": "9b89d98c",
   "metadata": {},
   "source": [
    "#### Two-sample t-test by gender"
   ]
  },
  {
   "cell_type": "code",
   "execution_count": 98,
   "id": "4929717e",
   "metadata": {},
   "outputs": [],
   "source": [
    "# # Add a new column with the mean of the ratings for each participant\n",
    "# df_hu['Mean Rating'] = df_hu.iloc[:, 8:].mean(axis=1)\n",
    "\n",
    "# # Separate df_hu into male and female datasets based on the Gender column\n",
    "# df_hu_male = df_hu[df_hu['Gender'] == 'male']\n",
    "# df_hu_female = df_hu[df_hu['Gender'] == 'female']\n",
    "\n",
    "# # Show the number of male and female participants\n",
    "# print(f\"Number of male participants: {df_hu_male['Participant ID'].nunique()}\")\n",
    "# print(f\"Number of female participants: {df_hu_female['Participant ID'].nunique()}\")\n",
    "\n",
    "# # Two Sample T-Test between male and female participants for each occupation word\n",
    "# results = []\n",
    "# for col in rating_columns:\n",
    "#     male_ratings = df_hu_male[col].dropna().astype(float)\n",
    "#     female_ratings = df_hu_female[col].dropna().astype(float)\n",
    "#     # Only test if both groups have at least 2 ratings\n",
    "#     if len(male_ratings) > 1 and len(female_ratings) > 1:\n",
    "#         t_stat, p_value = stats.ttest_ind(male_ratings, female_ratings, equal_var=False)\n",
    "#         mean_male = male_ratings.mean()\n",
    "#         mean_female = female_ratings.mean()\n",
    "#         results.append({\n",
    "#             'occupation': col,\n",
    "#             'mean_male': mean_male,\n",
    "#             'mean_female': mean_female,\n",
    "#             't_stat': t_stat,\n",
    "#             'p_value': p_value,\n",
    "#             'significant': p_value < 0.05,\n",
    "#             'marg_significant': 0.05 < p_value < 0.1\n",
    "#         })\n",
    "\n",
    "# # Create a DataFrame from the results\n",
    "# df_ttest = pd.DataFrame(results)\n",
    "\n",
    "# # Add overall mean rating for sorting\n",
    "# df_ttest['overall_mean'] = (df_ttest['mean_male'] + df_ttest['mean_female']) / 2\n",
    "\n",
    "# # Sort by overall mean rating\n",
    "# df_ttest_sorted = df_ttest.sort_values('overall_mean', ascending=False)\n",
    "\n",
    "# # Prepare axis labels: bold for significant\n",
    "# def bold_label(row):\n",
    "#     occupation = row['occupation']\n",
    "#     if row.get('significant'):\n",
    "#         occupation = f\"<b>{occupation}*</b>\"\n",
    "#     if row.get('marg_significant'):\n",
    "#         occupation = f\"<b>{occupation}+</b>\"\n",
    "#     return occupation\n",
    "\n",
    "# df_ttest_sorted['occupation_label'] = df_ttest_sorted.apply(bold_label, axis=1)\n",
    "\n",
    "# # Plot\n",
    "# fig = go.Figure()\n",
    "\n",
    "# fig.add_trace(go.Bar(\n",
    "#     x=df_ttest_sorted['occupation_label'],\n",
    "#     y=df_ttest_sorted['mean_male'],\n",
    "#     name='Male',\n",
    "#     marker_color = male_color\n",
    "# ))\n",
    "\n",
    "# fig.add_trace(go.Bar(\n",
    "#     x=df_ttest_sorted['occupation_label'],\n",
    "#     y=df_ttest_sorted['mean_female'],\n",
    "#     name='Female',\n",
    "#     marker_color = female_color\n",
    "# ))\n",
    "\n",
    "# fig.update_layout(\n",
    "#     barmode='group',\n",
    "#     # title='Mean Ratings of Occupational Titles by Gender',\n",
    "#     # xaxis_title='Hungarian data (significant*, and marginally significant+ in <b>bold</b>)',\n",
    "#     xaxis_tickangle=-45,\n",
    "#     yaxis_title='Bias (Male - Female)',\n",
    "#     yaxis=dict(\n",
    "#         range=[-3.1, 3.1],\n",
    "#         tickvals=[-3, -2, -1, 0, 1, 2, 3],\n",
    "#         title='Mean Rating (Bias)'\n",
    "#     ),\n",
    "\n",
    "#     template='plotly_white',\n",
    "#     font = dict(family=\"Times New Roman, serif\", size=16, color='black'),\n",
    "#     margin=dict(l=0, r=0, t=0, b=0),\n",
    "#     legend=dict(\n",
    "#         orientation='h',\n",
    "#         yanchor='bottom',\n",
    "#         y=0,\n",
    "#         xanchor='center',\n",
    "#         x=0.5,\n",
    "#         bgcolor='rgba(220, 220, 220, 0.25)',\n",
    "#     )\n",
    "# )\n",
    "\n",
    "# # Show\n",
    "# fig.show()\n",
    "\n",
    "# # Save results and plot\n",
    "# # df_ttest_sorted.to_excel('occupations_gender_hu.xlsx', index=False)\n",
    "# fig.write_html('occupations_hu_gender.html')\n",
    "# fig.write_image('occupations_hu_gender.png', scale=3, width=1000, height=400)\n"
   ]
  },
  {
   "cell_type": "code",
   "execution_count": 99,
   "id": "6577d4fd",
   "metadata": {},
   "outputs": [
    {
     "name": "stdout",
     "output_type": "stream",
     "text": [
      "Number of male participants: 9\n",
      "Number of female participants: 11\n"
     ]
    },
    {
     "data": {
      "application/vnd.plotly.v1+json": {
       "config": {
        "plotlyServerURL": "https://plot.ly"
       },
       "data": [
        {
         "customdata": [
          [
           "nurse"
          ],
          [
           "beautician"
          ],
          [
           "housekeeper"
          ],
          [
           "flight attendant"
          ],
          [
           "cleaner"
          ],
          [
           "caregiver"
          ],
          [
           "cashier"
          ],
          [
           "model"
          ],
          [
           "hairdresser"
          ],
          [
           "shop assistant"
          ],
          [
           "HR specialist"
          ],
          [
           "receptionist"
          ],
          [
           "dietitian"
          ],
          [
           "accountant"
          ],
          [
           "nurse"
          ],
          [
           "PR specialist"
          ],
          [
           "ticket seller"
          ],
          [
           "server"
          ],
          [
           "student"
          ],
          [
           "teacher"
          ],
          [
           "judge"
          ],
          [
           "secretary"
          ],
          [
           "scientist"
          ],
          [
           "waiter"
          ],
          [
           "doctor"
          ],
          [
           "manager"
          ],
          [
           "prosecutor"
          ],
          [
           "gardener"
          ],
          [
           "pathologist"
          ],
          [
           "director"
          ],
          [
           "chef"
          ],
          [
           "professor"
          ],
          [
           "lifeguard"
          ],
          [
           "engineer"
          ],
          [
           "CEO"
          ],
          [
           "architect"
          ],
          [
           "programmer"
          ],
          [
           "police officer"
          ],
          [
           "worker"
          ],
          [
           "farmer"
          ],
          [
           "pilot"
          ],
          [
           "soldier"
          ],
          [
           "security guard"
          ],
          [
           "firefighter"
          ]
         ],
         "hovertemplate": "Occupation: %{x}<br>English: %{customdata[0]}<br>Mean (Male): %{y:.2f}<extra></extra>",
         "marker": {
          "color": "#4090C2"
         },
         "name": "Male",
         "type": "bar",
         "x": [
          "<b>nővér+</b>",
          "kozmetikus",
          "házvezető",
          "légiutas-kísérő",
          "takarító",
          "gondozó",
          "pénztáros",
          "modell",
          "fodrász",
          "bolti eladó",
          "HR-es",
          "recepciós",
          "dietetikus",
          "könyvelő",
          "ápoló",
          "<b>PR munkatárs+</b>",
          "jegyárus",
          "felszolgáló",
          "diák",
          "tanár",
          "bíró",
          "titkár",
          "tudós",
          "pincér",
          "orvos",
          "menedzser",
          "ügyész",
          "kertész",
          "kórboncnok",
          "rendező",
          "szakács",
          "professzor",
          "vízimentő",
          "mérnök",
          "vezérigazgató",
          "<b>építész+</b>",
          "programozó",
          "<b>rendőr*</b>",
          "munkás",
          "földműves",
          "pilóta",
          "<b>katona+</b>",
          "biztonsági őr",
          "tűzoltó"
         ],
         "y": {
          "bdata": "HMdxHMdxBECrqqqqqqoCQBzHcRzHcfw/q6qqqqqq+j/HcRzHcRz3P8dxHMdxHPc/VVVVVVVV9T9VVVVVVVX1PxzHcRzHcew/AAAAAAAA8D8AAAAAAADwP1VVVVVVVeU/chzHcRzH4T9VVVVVVVXlP1VVVVVVVeU/VVVVVVVV5T8cx3Ecx3HcPxzHcRzHcbw/AAAAAAAAAAAcx3Ecx3G8v1VVVVVVVdW/HMdxHMdx3L9VVVVVVVXVvxzHcRzHcdy/VVVVVVVV5b9VVVVVVVXlv1VVVVVVVeW/OY7jOI7j6L9yHMdxHMfxvxzHcRzHcey/AAAAAAAA8L9yHMdxHMfxv+Q4juM4jvO/VVVVVVVV9b8AAAAAAADwv6uqqqqqqvq/OY7jOI7j+L8cx3Ecx3H8v1VVVVVVVfW/OY7jOI7j+L85juM4juP4vzmO4ziO4wDAjuM4juM4/r8AAAAAAAAAwA==",
          "dtype": "f8"
         }
        },
        {
         "customdata": [
          [
           "nurse"
          ],
          [
           "beautician"
          ],
          [
           "housekeeper"
          ],
          [
           "flight attendant"
          ],
          [
           "cleaner"
          ],
          [
           "caregiver"
          ],
          [
           "cashier"
          ],
          [
           "model"
          ],
          [
           "hairdresser"
          ],
          [
           "shop assistant"
          ],
          [
           "HR specialist"
          ],
          [
           "receptionist"
          ],
          [
           "dietitian"
          ],
          [
           "accountant"
          ],
          [
           "nurse"
          ],
          [
           "PR specialist"
          ],
          [
           "ticket seller"
          ],
          [
           "server"
          ],
          [
           "student"
          ],
          [
           "teacher"
          ],
          [
           "judge"
          ],
          [
           "secretary"
          ],
          [
           "scientist"
          ],
          [
           "waiter"
          ],
          [
           "doctor"
          ],
          [
           "manager"
          ],
          [
           "prosecutor"
          ],
          [
           "gardener"
          ],
          [
           "pathologist"
          ],
          [
           "director"
          ],
          [
           "chef"
          ],
          [
           "professor"
          ],
          [
           "lifeguard"
          ],
          [
           "engineer"
          ],
          [
           "CEO"
          ],
          [
           "architect"
          ],
          [
           "programmer"
          ],
          [
           "police officer"
          ],
          [
           "worker"
          ],
          [
           "farmer"
          ],
          [
           "pilot"
          ],
          [
           "soldier"
          ],
          [
           "security guard"
          ],
          [
           "firefighter"
          ]
         ],
         "hovertemplate": "Occupation: %{x}<br>English: %{customdata[0]}<br>Mean (Female): %{y:.2f}<extra></extra>",
         "marker": {
          "color": "#C46BE1"
         },
         "name": "Female",
         "type": "bar",
         "x": [
          "<b>nővér+</b>",
          "kozmetikus",
          "házvezető",
          "légiutas-kísérő",
          "takarító",
          "gondozó",
          "pénztáros",
          "modell",
          "fodrász",
          "bolti eladó",
          "HR-es",
          "recepciós",
          "dietetikus",
          "könyvelő",
          "ápoló",
          "<b>PR munkatárs+</b>",
          "jegyárus",
          "felszolgáló",
          "diák",
          "tanár",
          "bíró",
          "titkár",
          "tudós",
          "pincér",
          "orvos",
          "menedzser",
          "ügyész",
          "kertész",
          "kórboncnok",
          "rendező",
          "szakács",
          "professzor",
          "vízimentő",
          "mérnök",
          "vezérigazgató",
          "<b>építész+</b>",
          "programozó",
          "<b>rendőr*</b>",
          "munkás",
          "földműves",
          "pilóta",
          "<b>katona+</b>",
          "biztonsági őr",
          "tűzoltó"
         ],
         "y": {
          "bdata": "jC666KKL/j+66KKLLroAQBdddNFFF/0/6aKLLrro8j900UUXXXTxP0YXXXTRRec/L7rooosu6j9GF1100UXnP3TRRRdddPE/F1100UUX7T8vuuiiiy7qP1100UUXXeQ/RhdddNFF5z9GF1100UXXP3TRRRdddNE/AAAAAAAAAAAAAAAAAAAAAHTRRRdddNE/AAAAAAAAAABGF1100UW3P0YXXXTRRce/RhdddNFFx78XXXTRRRfdvxdddNFFF92/F1100UUX3b9ddNFFF13kv0YXXXTRRee/L7rooosu6r900UUXXXThvy+66KKLLuq/L7rooosu6r9GF1100UXnvwAAAAAAAPC/AAAAAAAA8L9GF1100UX3vxdddNFFF+2/6aKLLrro8r8AAAAAAADwv0YXXXTRRfe/XXTRRRdd9L+jiy666KL7v7rooosuuvi/jC666KKL/r/poosuuugCwA==",
          "dtype": "f8"
         }
        }
       ],
       "layout": {
        "barmode": "group",
        "font": {
         "color": "black",
         "family": "Times New Roman, serif",
         "size": 16
        },
        "legend": {
         "bgcolor": "rgba(220, 220, 220, 0.25)",
         "orientation": "h",
         "x": 0.5,
         "xanchor": "center",
         "y": 0,
         "yanchor": "bottom"
        },
        "margin": {
         "b": 0,
         "l": 0,
         "r": 0,
         "t": 0
        },
        "template": {
         "data": {
          "bar": [
           {
            "error_x": {
             "color": "#2a3f5f"
            },
            "error_y": {
             "color": "#2a3f5f"
            },
            "marker": {
             "line": {
              "color": "white",
              "width": 0.5
             },
             "pattern": {
              "fillmode": "overlay",
              "size": 10,
              "solidity": 0.2
             }
            },
            "type": "bar"
           }
          ],
          "barpolar": [
           {
            "marker": {
             "line": {
              "color": "white",
              "width": 0.5
             },
             "pattern": {
              "fillmode": "overlay",
              "size": 10,
              "solidity": 0.2
             }
            },
            "type": "barpolar"
           }
          ],
          "carpet": [
           {
            "aaxis": {
             "endlinecolor": "#2a3f5f",
             "gridcolor": "#C8D4E3",
             "linecolor": "#C8D4E3",
             "minorgridcolor": "#C8D4E3",
             "startlinecolor": "#2a3f5f"
            },
            "baxis": {
             "endlinecolor": "#2a3f5f",
             "gridcolor": "#C8D4E3",
             "linecolor": "#C8D4E3",
             "minorgridcolor": "#C8D4E3",
             "startlinecolor": "#2a3f5f"
            },
            "type": "carpet"
           }
          ],
          "choropleth": [
           {
            "colorbar": {
             "outlinewidth": 0,
             "ticks": ""
            },
            "type": "choropleth"
           }
          ],
          "contour": [
           {
            "colorbar": {
             "outlinewidth": 0,
             "ticks": ""
            },
            "colorscale": [
             [
              0,
              "#0d0887"
             ],
             [
              0.1111111111111111,
              "#46039f"
             ],
             [
              0.2222222222222222,
              "#7201a8"
             ],
             [
              0.3333333333333333,
              "#9c179e"
             ],
             [
              0.4444444444444444,
              "#bd3786"
             ],
             [
              0.5555555555555556,
              "#d8576b"
             ],
             [
              0.6666666666666666,
              "#ed7953"
             ],
             [
              0.7777777777777778,
              "#fb9f3a"
             ],
             [
              0.8888888888888888,
              "#fdca26"
             ],
             [
              1,
              "#f0f921"
             ]
            ],
            "type": "contour"
           }
          ],
          "contourcarpet": [
           {
            "colorbar": {
             "outlinewidth": 0,
             "ticks": ""
            },
            "type": "contourcarpet"
           }
          ],
          "heatmap": [
           {
            "colorbar": {
             "outlinewidth": 0,
             "ticks": ""
            },
            "colorscale": [
             [
              0,
              "#0d0887"
             ],
             [
              0.1111111111111111,
              "#46039f"
             ],
             [
              0.2222222222222222,
              "#7201a8"
             ],
             [
              0.3333333333333333,
              "#9c179e"
             ],
             [
              0.4444444444444444,
              "#bd3786"
             ],
             [
              0.5555555555555556,
              "#d8576b"
             ],
             [
              0.6666666666666666,
              "#ed7953"
             ],
             [
              0.7777777777777778,
              "#fb9f3a"
             ],
             [
              0.8888888888888888,
              "#fdca26"
             ],
             [
              1,
              "#f0f921"
             ]
            ],
            "type": "heatmap"
           }
          ],
          "histogram": [
           {
            "marker": {
             "pattern": {
              "fillmode": "overlay",
              "size": 10,
              "solidity": 0.2
             }
            },
            "type": "histogram"
           }
          ],
          "histogram2d": [
           {
            "colorbar": {
             "outlinewidth": 0,
             "ticks": ""
            },
            "colorscale": [
             [
              0,
              "#0d0887"
             ],
             [
              0.1111111111111111,
              "#46039f"
             ],
             [
              0.2222222222222222,
              "#7201a8"
             ],
             [
              0.3333333333333333,
              "#9c179e"
             ],
             [
              0.4444444444444444,
              "#bd3786"
             ],
             [
              0.5555555555555556,
              "#d8576b"
             ],
             [
              0.6666666666666666,
              "#ed7953"
             ],
             [
              0.7777777777777778,
              "#fb9f3a"
             ],
             [
              0.8888888888888888,
              "#fdca26"
             ],
             [
              1,
              "#f0f921"
             ]
            ],
            "type": "histogram2d"
           }
          ],
          "histogram2dcontour": [
           {
            "colorbar": {
             "outlinewidth": 0,
             "ticks": ""
            },
            "colorscale": [
             [
              0,
              "#0d0887"
             ],
             [
              0.1111111111111111,
              "#46039f"
             ],
             [
              0.2222222222222222,
              "#7201a8"
             ],
             [
              0.3333333333333333,
              "#9c179e"
             ],
             [
              0.4444444444444444,
              "#bd3786"
             ],
             [
              0.5555555555555556,
              "#d8576b"
             ],
             [
              0.6666666666666666,
              "#ed7953"
             ],
             [
              0.7777777777777778,
              "#fb9f3a"
             ],
             [
              0.8888888888888888,
              "#fdca26"
             ],
             [
              1,
              "#f0f921"
             ]
            ],
            "type": "histogram2dcontour"
           }
          ],
          "mesh3d": [
           {
            "colorbar": {
             "outlinewidth": 0,
             "ticks": ""
            },
            "type": "mesh3d"
           }
          ],
          "parcoords": [
           {
            "line": {
             "colorbar": {
              "outlinewidth": 0,
              "ticks": ""
             }
            },
            "type": "parcoords"
           }
          ],
          "pie": [
           {
            "automargin": true,
            "type": "pie"
           }
          ],
          "scatter": [
           {
            "fillpattern": {
             "fillmode": "overlay",
             "size": 10,
             "solidity": 0.2
            },
            "type": "scatter"
           }
          ],
          "scatter3d": [
           {
            "line": {
             "colorbar": {
              "outlinewidth": 0,
              "ticks": ""
             }
            },
            "marker": {
             "colorbar": {
              "outlinewidth": 0,
              "ticks": ""
             }
            },
            "type": "scatter3d"
           }
          ],
          "scattercarpet": [
           {
            "marker": {
             "colorbar": {
              "outlinewidth": 0,
              "ticks": ""
             }
            },
            "type": "scattercarpet"
           }
          ],
          "scattergeo": [
           {
            "marker": {
             "colorbar": {
              "outlinewidth": 0,
              "ticks": ""
             }
            },
            "type": "scattergeo"
           }
          ],
          "scattergl": [
           {
            "marker": {
             "colorbar": {
              "outlinewidth": 0,
              "ticks": ""
             }
            },
            "type": "scattergl"
           }
          ],
          "scattermap": [
           {
            "marker": {
             "colorbar": {
              "outlinewidth": 0,
              "ticks": ""
             }
            },
            "type": "scattermap"
           }
          ],
          "scattermapbox": [
           {
            "marker": {
             "colorbar": {
              "outlinewidth": 0,
              "ticks": ""
             }
            },
            "type": "scattermapbox"
           }
          ],
          "scatterpolar": [
           {
            "marker": {
             "colorbar": {
              "outlinewidth": 0,
              "ticks": ""
             }
            },
            "type": "scatterpolar"
           }
          ],
          "scatterpolargl": [
           {
            "marker": {
             "colorbar": {
              "outlinewidth": 0,
              "ticks": ""
             }
            },
            "type": "scatterpolargl"
           }
          ],
          "scatterternary": [
           {
            "marker": {
             "colorbar": {
              "outlinewidth": 0,
              "ticks": ""
             }
            },
            "type": "scatterternary"
           }
          ],
          "surface": [
           {
            "colorbar": {
             "outlinewidth": 0,
             "ticks": ""
            },
            "colorscale": [
             [
              0,
              "#0d0887"
             ],
             [
              0.1111111111111111,
              "#46039f"
             ],
             [
              0.2222222222222222,
              "#7201a8"
             ],
             [
              0.3333333333333333,
              "#9c179e"
             ],
             [
              0.4444444444444444,
              "#bd3786"
             ],
             [
              0.5555555555555556,
              "#d8576b"
             ],
             [
              0.6666666666666666,
              "#ed7953"
             ],
             [
              0.7777777777777778,
              "#fb9f3a"
             ],
             [
              0.8888888888888888,
              "#fdca26"
             ],
             [
              1,
              "#f0f921"
             ]
            ],
            "type": "surface"
           }
          ],
          "table": [
           {
            "cells": {
             "fill": {
              "color": "#EBF0F8"
             },
             "line": {
              "color": "white"
             }
            },
            "header": {
             "fill": {
              "color": "#C8D4E3"
             },
             "line": {
              "color": "white"
             }
            },
            "type": "table"
           }
          ]
         },
         "layout": {
          "annotationdefaults": {
           "arrowcolor": "#2a3f5f",
           "arrowhead": 0,
           "arrowwidth": 1
          },
          "autotypenumbers": "strict",
          "coloraxis": {
           "colorbar": {
            "outlinewidth": 0,
            "ticks": ""
           }
          },
          "colorscale": {
           "diverging": [
            [
             0,
             "#8e0152"
            ],
            [
             0.1,
             "#c51b7d"
            ],
            [
             0.2,
             "#de77ae"
            ],
            [
             0.3,
             "#f1b6da"
            ],
            [
             0.4,
             "#fde0ef"
            ],
            [
             0.5,
             "#f7f7f7"
            ],
            [
             0.6,
             "#e6f5d0"
            ],
            [
             0.7,
             "#b8e186"
            ],
            [
             0.8,
             "#7fbc41"
            ],
            [
             0.9,
             "#4d9221"
            ],
            [
             1,
             "#276419"
            ]
           ],
           "sequential": [
            [
             0,
             "#0d0887"
            ],
            [
             0.1111111111111111,
             "#46039f"
            ],
            [
             0.2222222222222222,
             "#7201a8"
            ],
            [
             0.3333333333333333,
             "#9c179e"
            ],
            [
             0.4444444444444444,
             "#bd3786"
            ],
            [
             0.5555555555555556,
             "#d8576b"
            ],
            [
             0.6666666666666666,
             "#ed7953"
            ],
            [
             0.7777777777777778,
             "#fb9f3a"
            ],
            [
             0.8888888888888888,
             "#fdca26"
            ],
            [
             1,
             "#f0f921"
            ]
           ],
           "sequentialminus": [
            [
             0,
             "#0d0887"
            ],
            [
             0.1111111111111111,
             "#46039f"
            ],
            [
             0.2222222222222222,
             "#7201a8"
            ],
            [
             0.3333333333333333,
             "#9c179e"
            ],
            [
             0.4444444444444444,
             "#bd3786"
            ],
            [
             0.5555555555555556,
             "#d8576b"
            ],
            [
             0.6666666666666666,
             "#ed7953"
            ],
            [
             0.7777777777777778,
             "#fb9f3a"
            ],
            [
             0.8888888888888888,
             "#fdca26"
            ],
            [
             1,
             "#f0f921"
            ]
           ]
          },
          "colorway": [
           "#636efa",
           "#EF553B",
           "#00cc96",
           "#ab63fa",
           "#FFA15A",
           "#19d3f3",
           "#FF6692",
           "#B6E880",
           "#FF97FF",
           "#FECB52"
          ],
          "font": {
           "color": "#2a3f5f"
          },
          "geo": {
           "bgcolor": "white",
           "lakecolor": "white",
           "landcolor": "white",
           "showlakes": true,
           "showland": true,
           "subunitcolor": "#C8D4E3"
          },
          "hoverlabel": {
           "align": "left"
          },
          "hovermode": "closest",
          "mapbox": {
           "style": "light"
          },
          "paper_bgcolor": "white",
          "plot_bgcolor": "white",
          "polar": {
           "angularaxis": {
            "gridcolor": "#EBF0F8",
            "linecolor": "#EBF0F8",
            "ticks": ""
           },
           "bgcolor": "white",
           "radialaxis": {
            "gridcolor": "#EBF0F8",
            "linecolor": "#EBF0F8",
            "ticks": ""
           }
          },
          "scene": {
           "xaxis": {
            "backgroundcolor": "white",
            "gridcolor": "#DFE8F3",
            "gridwidth": 2,
            "linecolor": "#EBF0F8",
            "showbackground": true,
            "ticks": "",
            "zerolinecolor": "#EBF0F8"
           },
           "yaxis": {
            "backgroundcolor": "white",
            "gridcolor": "#DFE8F3",
            "gridwidth": 2,
            "linecolor": "#EBF0F8",
            "showbackground": true,
            "ticks": "",
            "zerolinecolor": "#EBF0F8"
           },
           "zaxis": {
            "backgroundcolor": "white",
            "gridcolor": "#DFE8F3",
            "gridwidth": 2,
            "linecolor": "#EBF0F8",
            "showbackground": true,
            "ticks": "",
            "zerolinecolor": "#EBF0F8"
           }
          },
          "shapedefaults": {
           "line": {
            "color": "#2a3f5f"
           }
          },
          "ternary": {
           "aaxis": {
            "gridcolor": "#DFE8F3",
            "linecolor": "#A2B1C6",
            "ticks": ""
           },
           "baxis": {
            "gridcolor": "#DFE8F3",
            "linecolor": "#A2B1C6",
            "ticks": ""
           },
           "bgcolor": "white",
           "caxis": {
            "gridcolor": "#DFE8F3",
            "linecolor": "#A2B1C6",
            "ticks": ""
           }
          },
          "title": {
           "x": 0.05
          },
          "xaxis": {
           "automargin": true,
           "gridcolor": "#EBF0F8",
           "linecolor": "#EBF0F8",
           "ticks": "",
           "title": {
            "standoff": 15
           },
           "zerolinecolor": "#EBF0F8",
           "zerolinewidth": 2
          },
          "yaxis": {
           "automargin": true,
           "gridcolor": "#EBF0F8",
           "linecolor": "#EBF0F8",
           "ticks": "",
           "title": {
            "standoff": 15
           },
           "zerolinecolor": "#EBF0F8",
           "zerolinewidth": 2
          }
         }
        },
        "xaxis": {
         "tickangle": -45
        },
        "yaxis": {
         "range": [
          -3.1,
          3.1
         ],
         "tickvals": [
          -3,
          -2,
          -1,
          0,
          1,
          2,
          3
         ],
         "title": {
          "text": "Mean Rating (Bias)"
         }
        }
       }
      }
     },
     "metadata": {},
     "output_type": "display_data"
    }
   ],
   "source": [
    "# Add a new column with the mean of the ratings for each participant\n",
    "df_hu['Mean Rating'] = df_hu.iloc[:, 8:].mean(axis=1)\n",
    "\n",
    "# Separate df_hu into male and female datasets based on the Gender column\n",
    "df_hu_male = df_hu[df_hu['Gender'] == 'male']\n",
    "df_hu_female = df_hu[df_hu['Gender'] == 'female']\n",
    "\n",
    "# Show the number of male and female participants\n",
    "print(f\"Number of male participants: {df_hu_male['Participant ID'].nunique()}\")\n",
    "print(f\"Number of female participants: {df_hu_female['Participant ID'].nunique()}\")\n",
    "\n",
    "# Two Sample T-Test between male and female participants for each occupation word\n",
    "results = []\n",
    "for col in rating_columns:\n",
    "    male_ratings = df_hu_male[col].dropna().astype(float)\n",
    "    female_ratings = df_hu_female[col].dropna().astype(float)\n",
    "    # Only test if both groups have at least 2 ratings\n",
    "    if len(male_ratings) > 1 and len(female_ratings) > 1:\n",
    "        t_stat, p_value = stats.ttest_ind(male_ratings, female_ratings, equal_var=False)\n",
    "        mean_male = male_ratings.mean()\n",
    "        mean_female = female_ratings.mean()\n",
    "        # Get English translation from occupations DataFrame\n",
    "        en_translation = occupations.loc[occupations['hu'] == col, 'en'].values\n",
    "        en_translation = en_translation[0] if len(en_translation) > 0 else \"\"\n",
    "        results.append({\n",
    "            'occupation': col,\n",
    "            'mean_male': mean_male,\n",
    "            'mean_female': mean_female,\n",
    "            't_stat': t_stat,\n",
    "            'p_value': p_value,\n",
    "            'significant': p_value < 0.05,\n",
    "            'marg_significant': 0.05 < p_value < 0.1,\n",
    "            'en': en_translation\n",
    "        })\n",
    "\n",
    "# Create a DataFrame from the results\n",
    "df_ttest = pd.DataFrame(results)\n",
    "\n",
    "# Add overall mean rating for sorting\n",
    "df_ttest['overall_mean'] = (df_ttest['mean_male'] + df_ttest['mean_female']) / 2\n",
    "\n",
    "# Sort by overall mean rating\n",
    "df_ttest_sorted = df_ttest.sort_values('overall_mean', ascending=False)\n",
    "\n",
    "# Prepare axis labels: bold for significant\n",
    "def bold_label(row):\n",
    "    occupation = row['occupation']\n",
    "    if row.get('significant'):\n",
    "        occupation = f\"<b>{occupation}*</b>\"\n",
    "    if row.get('marg_significant'):\n",
    "        occupation = f\"<b>{occupation}+</b>\"\n",
    "    return occupation\n",
    "\n",
    "df_ttest_sorted['occupation_label'] = df_ttest_sorted.apply(bold_label, axis=1)\n",
    "\n",
    "# Plot with English translation in hover\n",
    "fig = go.Figure()\n",
    "\n",
    "fig.add_trace(go.Bar(\n",
    "    x=df_ttest_sorted['occupation_label'],\n",
    "    y=df_ttest_sorted['mean_male'],\n",
    "    name='Male',\n",
    "    marker_color=male_color,\n",
    "    customdata=df_ttest_sorted[['en']],\n",
    "    hovertemplate='Occupation: %{x}<br>English: %{customdata[0]}<br>Mean (Male): %{y:.2f}<extra></extra>'\n",
    "))\n",
    "\n",
    "fig.add_trace(go.Bar(\n",
    "    x=df_ttest_sorted['occupation_label'],\n",
    "    y=df_ttest_sorted['mean_female'],\n",
    "    name='Female',\n",
    "    marker_color=female_color,\n",
    "    customdata=df_ttest_sorted[['en']],\n",
    "    hovertemplate='Occupation: %{x}<br>English: %{customdata[0]}<br>Mean (Female): %{y:.2f}<extra></extra>'\n",
    "))\n",
    "\n",
    "fig.update_layout(\n",
    "    barmode='group',\n",
    "    xaxis_tickangle=-45,\n",
    "    yaxis_title='Bias (Male - Female)',\n",
    "    yaxis=dict(\n",
    "        range=[-3.1, 3.1],\n",
    "        tickvals=[-3, -2, -1, 0, 1, 2, 3],\n",
    "        title='Mean Rating (Bias)'\n",
    "    ),\n",
    "    template='plotly_white',\n",
    "    font=dict(family=\"Times New Roman, serif\", size=16, color='black'),\n",
    "    margin=dict(l=0, r=0, t=0, b=0),\n",
    "    legend=dict(\n",
    "        orientation='h',\n",
    "        yanchor='bottom',\n",
    "        y=0,\n",
    "        xanchor='center',\n",
    "        x=0.5,\n",
    "        bgcolor='rgba(220, 220, 220, 0.25)',\n",
    "    )\n",
    ")\n",
    "\n",
    "# Show the plot\n",
    "fig.show()\n",
    "\n",
    "# Save it as HTML and image\n",
    "fig.write_html('occupations_hu_gender.html')\n",
    "fig.write_image('occupations_hu_gender.png', scale=3, width=1000, height=400)"
   ]
  },
  {
   "cell_type": "markdown",
   "id": "c870daa9",
   "metadata": {},
   "source": [
    "#### Biases and biases by"
   ]
  },
  {
   "cell_type": "code",
   "execution_count": 100,
   "id": "ed8b2255",
   "metadata": {},
   "outputs": [],
   "source": [
    "# Add a column 'bias_by' to df_ttest_sorted: 'Male' if abs(mean_male) > abs(mean_female), 'Female' if abs(mean_female) > abs(mean_male), 'Equal' if they are the same\n",
    "df_ttest_sorted['bias_by'] = np.where(\n",
    "    np.abs(df_ttest_sorted['mean_male']) > np.abs(df_ttest_sorted['mean_female']), 'Men',\n",
    "    np.where(np.abs(df_ttest_sorted['mean_male']) < np.abs(df_ttest_sorted['mean_female']), 'Women', 'Equal')\n",
    ")\n",
    "\n",
    "# Add columns that show if the bias is male or female. Add male, if the overall mean is lower than 0, othervise add Female\n",
    "df_ttest_sorted['bias'] = np.where(\n",
    "    df_ttest_sorted['overall_mean'] > 0, 'Female',\n",
    "    np.where(df_ttest_sorted['overall_mean'] < 0, 'Male', 'Equal')\n",
    ")\n",
    "\n",
    "# Calculate mean_difference (mean_male - mean_female), and add its absolute value\n",
    "df_ttest_sorted['mean_difference'] = (df_ttest_sorted['mean_male'] - df_ttest_sorted['mean_female']).abs()\n"
   ]
  },
  {
   "cell_type": "code",
   "execution_count": 101,
   "id": "b3efb5e8",
   "metadata": {},
   "outputs": [],
   "source": [
    "# # Plot\n",
    "# fig = go.Figure()\n",
    "# fig.add_trace(go.Bar(\n",
    "#     x=df_ttest_sorted['occupation'],\n",
    "#     y=df_ttest_sorted['overall_mean'],\n",
    "#     marker_color=df_ttest_sorted['bias_by'].map(color_map),\n",
    "#     customdata=df_ttest_sorted[['mean_difference', 'bias_by']],\n",
    "#     hovertemplate='Occupation: %{x}<br>Overall Mean: %{y:.2f}<br>Mean Diff: %{customdata[0]:.2f}<br>Greater Bias: %{customdata[1]}<extra></extra>'\n",
    "# ))\n",
    "\n",
    "# # Layout\n",
    "# fig.update_layout(\n",
    "#     title='Mean Ratings by Dominantly Biased Group, Sorted by Mean Rating Difference',\n",
    "#     xaxis_title='Occupation (No significance)',\n",
    "#     yaxis_title='Overall Mean Rating',\n",
    "#     xaxis_tickangle=-45,\n",
    "#     template='plotly_white'\n",
    "# )\n",
    "\n",
    "# fig.show()"
   ]
  },
  {
   "cell_type": "markdown",
   "id": "7459c63f",
   "metadata": {},
   "source": [
    "#### Confusion matrix of biases"
   ]
  },
  {
   "cell_type": "code",
   "execution_count": 102,
   "id": "59df16a3",
   "metadata": {},
   "outputs": [
    {
     "data": {
      "application/vnd.plotly.v1+json": {
       "config": {
        "plotlyServerURL": "https://plot.ly"
       },
       "data": [
        {
         "colorscale": [
          [
           0,
           "rgb(210, 251, 212)"
          ],
          [
           0.16666666666666666,
           "rgb(165, 219, 194)"
          ],
          [
           0.3333333333333333,
           "rgb(123, 188, 176)"
          ],
          [
           0.5,
           "rgb(85, 156, 158)"
          ],
          [
           0.6666666666666666,
           "rgb(58, 124, 137)"
          ],
          [
           0.8333333333333334,
           "rgb(35, 93, 114)"
          ],
          [
           1,
           "rgb(18, 63, 90)"
          ]
         ],
         "hovertemplate": "Bias: %{y}<br>Bias By: %{x}<br>Count: %{z}<extra></extra>",
         "text": {
          "bdata": "DgQQCQ==",
          "dtype": "i1",
          "shape": "2, 2"
         },
         "texttemplate": "%{text}",
         "type": "heatmap",
         "x": [
          "Men",
          "Women"
         ],
         "y": [
          "Female",
          "Male"
         ],
         "z": {
          "bdata": "DgQQCQ==",
          "dtype": "i1",
          "shape": "2, 2"
         }
        }
       ],
       "layout": {
        "margin": {
         "b": 0,
         "l": 0,
         "r": 0,
         "t": 0
        },
        "template": {
         "data": {
          "bar": [
           {
            "error_x": {
             "color": "#2a3f5f"
            },
            "error_y": {
             "color": "#2a3f5f"
            },
            "marker": {
             "line": {
              "color": "#E5ECF6",
              "width": 0.5
             },
             "pattern": {
              "fillmode": "overlay",
              "size": 10,
              "solidity": 0.2
             }
            },
            "type": "bar"
           }
          ],
          "barpolar": [
           {
            "marker": {
             "line": {
              "color": "#E5ECF6",
              "width": 0.5
             },
             "pattern": {
              "fillmode": "overlay",
              "size": 10,
              "solidity": 0.2
             }
            },
            "type": "barpolar"
           }
          ],
          "carpet": [
           {
            "aaxis": {
             "endlinecolor": "#2a3f5f",
             "gridcolor": "white",
             "linecolor": "white",
             "minorgridcolor": "white",
             "startlinecolor": "#2a3f5f"
            },
            "baxis": {
             "endlinecolor": "#2a3f5f",
             "gridcolor": "white",
             "linecolor": "white",
             "minorgridcolor": "white",
             "startlinecolor": "#2a3f5f"
            },
            "type": "carpet"
           }
          ],
          "choropleth": [
           {
            "colorbar": {
             "outlinewidth": 0,
             "ticks": ""
            },
            "type": "choropleth"
           }
          ],
          "contour": [
           {
            "colorbar": {
             "outlinewidth": 0,
             "ticks": ""
            },
            "colorscale": [
             [
              0,
              "#0d0887"
             ],
             [
              0.1111111111111111,
              "#46039f"
             ],
             [
              0.2222222222222222,
              "#7201a8"
             ],
             [
              0.3333333333333333,
              "#9c179e"
             ],
             [
              0.4444444444444444,
              "#bd3786"
             ],
             [
              0.5555555555555556,
              "#d8576b"
             ],
             [
              0.6666666666666666,
              "#ed7953"
             ],
             [
              0.7777777777777778,
              "#fb9f3a"
             ],
             [
              0.8888888888888888,
              "#fdca26"
             ],
             [
              1,
              "#f0f921"
             ]
            ],
            "type": "contour"
           }
          ],
          "contourcarpet": [
           {
            "colorbar": {
             "outlinewidth": 0,
             "ticks": ""
            },
            "type": "contourcarpet"
           }
          ],
          "heatmap": [
           {
            "colorbar": {
             "outlinewidth": 0,
             "ticks": ""
            },
            "colorscale": [
             [
              0,
              "#0d0887"
             ],
             [
              0.1111111111111111,
              "#46039f"
             ],
             [
              0.2222222222222222,
              "#7201a8"
             ],
             [
              0.3333333333333333,
              "#9c179e"
             ],
             [
              0.4444444444444444,
              "#bd3786"
             ],
             [
              0.5555555555555556,
              "#d8576b"
             ],
             [
              0.6666666666666666,
              "#ed7953"
             ],
             [
              0.7777777777777778,
              "#fb9f3a"
             ],
             [
              0.8888888888888888,
              "#fdca26"
             ],
             [
              1,
              "#f0f921"
             ]
            ],
            "type": "heatmap"
           }
          ],
          "histogram": [
           {
            "marker": {
             "pattern": {
              "fillmode": "overlay",
              "size": 10,
              "solidity": 0.2
             }
            },
            "type": "histogram"
           }
          ],
          "histogram2d": [
           {
            "colorbar": {
             "outlinewidth": 0,
             "ticks": ""
            },
            "colorscale": [
             [
              0,
              "#0d0887"
             ],
             [
              0.1111111111111111,
              "#46039f"
             ],
             [
              0.2222222222222222,
              "#7201a8"
             ],
             [
              0.3333333333333333,
              "#9c179e"
             ],
             [
              0.4444444444444444,
              "#bd3786"
             ],
             [
              0.5555555555555556,
              "#d8576b"
             ],
             [
              0.6666666666666666,
              "#ed7953"
             ],
             [
              0.7777777777777778,
              "#fb9f3a"
             ],
             [
              0.8888888888888888,
              "#fdca26"
             ],
             [
              1,
              "#f0f921"
             ]
            ],
            "type": "histogram2d"
           }
          ],
          "histogram2dcontour": [
           {
            "colorbar": {
             "outlinewidth": 0,
             "ticks": ""
            },
            "colorscale": [
             [
              0,
              "#0d0887"
             ],
             [
              0.1111111111111111,
              "#46039f"
             ],
             [
              0.2222222222222222,
              "#7201a8"
             ],
             [
              0.3333333333333333,
              "#9c179e"
             ],
             [
              0.4444444444444444,
              "#bd3786"
             ],
             [
              0.5555555555555556,
              "#d8576b"
             ],
             [
              0.6666666666666666,
              "#ed7953"
             ],
             [
              0.7777777777777778,
              "#fb9f3a"
             ],
             [
              0.8888888888888888,
              "#fdca26"
             ],
             [
              1,
              "#f0f921"
             ]
            ],
            "type": "histogram2dcontour"
           }
          ],
          "mesh3d": [
           {
            "colorbar": {
             "outlinewidth": 0,
             "ticks": ""
            },
            "type": "mesh3d"
           }
          ],
          "parcoords": [
           {
            "line": {
             "colorbar": {
              "outlinewidth": 0,
              "ticks": ""
             }
            },
            "type": "parcoords"
           }
          ],
          "pie": [
           {
            "automargin": true,
            "type": "pie"
           }
          ],
          "scatter": [
           {
            "fillpattern": {
             "fillmode": "overlay",
             "size": 10,
             "solidity": 0.2
            },
            "type": "scatter"
           }
          ],
          "scatter3d": [
           {
            "line": {
             "colorbar": {
              "outlinewidth": 0,
              "ticks": ""
             }
            },
            "marker": {
             "colorbar": {
              "outlinewidth": 0,
              "ticks": ""
             }
            },
            "type": "scatter3d"
           }
          ],
          "scattercarpet": [
           {
            "marker": {
             "colorbar": {
              "outlinewidth": 0,
              "ticks": ""
             }
            },
            "type": "scattercarpet"
           }
          ],
          "scattergeo": [
           {
            "marker": {
             "colorbar": {
              "outlinewidth": 0,
              "ticks": ""
             }
            },
            "type": "scattergeo"
           }
          ],
          "scattergl": [
           {
            "marker": {
             "colorbar": {
              "outlinewidth": 0,
              "ticks": ""
             }
            },
            "type": "scattergl"
           }
          ],
          "scattermap": [
           {
            "marker": {
             "colorbar": {
              "outlinewidth": 0,
              "ticks": ""
             }
            },
            "type": "scattermap"
           }
          ],
          "scattermapbox": [
           {
            "marker": {
             "colorbar": {
              "outlinewidth": 0,
              "ticks": ""
             }
            },
            "type": "scattermapbox"
           }
          ],
          "scatterpolar": [
           {
            "marker": {
             "colorbar": {
              "outlinewidth": 0,
              "ticks": ""
             }
            },
            "type": "scatterpolar"
           }
          ],
          "scatterpolargl": [
           {
            "marker": {
             "colorbar": {
              "outlinewidth": 0,
              "ticks": ""
             }
            },
            "type": "scatterpolargl"
           }
          ],
          "scatterternary": [
           {
            "marker": {
             "colorbar": {
              "outlinewidth": 0,
              "ticks": ""
             }
            },
            "type": "scatterternary"
           }
          ],
          "surface": [
           {
            "colorbar": {
             "outlinewidth": 0,
             "ticks": ""
            },
            "colorscale": [
             [
              0,
              "#0d0887"
             ],
             [
              0.1111111111111111,
              "#46039f"
             ],
             [
              0.2222222222222222,
              "#7201a8"
             ],
             [
              0.3333333333333333,
              "#9c179e"
             ],
             [
              0.4444444444444444,
              "#bd3786"
             ],
             [
              0.5555555555555556,
              "#d8576b"
             ],
             [
              0.6666666666666666,
              "#ed7953"
             ],
             [
              0.7777777777777778,
              "#fb9f3a"
             ],
             [
              0.8888888888888888,
              "#fdca26"
             ],
             [
              1,
              "#f0f921"
             ]
            ],
            "type": "surface"
           }
          ],
          "table": [
           {
            "cells": {
             "fill": {
              "color": "#EBF0F8"
             },
             "line": {
              "color": "white"
             }
            },
            "header": {
             "fill": {
              "color": "#C8D4E3"
             },
             "line": {
              "color": "white"
             }
            },
            "type": "table"
           }
          ]
         },
         "layout": {
          "annotationdefaults": {
           "arrowcolor": "#2a3f5f",
           "arrowhead": 0,
           "arrowwidth": 1
          },
          "autotypenumbers": "strict",
          "coloraxis": {
           "colorbar": {
            "outlinewidth": 0,
            "ticks": ""
           }
          },
          "colorscale": {
           "diverging": [
            [
             0,
             "#8e0152"
            ],
            [
             0.1,
             "#c51b7d"
            ],
            [
             0.2,
             "#de77ae"
            ],
            [
             0.3,
             "#f1b6da"
            ],
            [
             0.4,
             "#fde0ef"
            ],
            [
             0.5,
             "#f7f7f7"
            ],
            [
             0.6,
             "#e6f5d0"
            ],
            [
             0.7,
             "#b8e186"
            ],
            [
             0.8,
             "#7fbc41"
            ],
            [
             0.9,
             "#4d9221"
            ],
            [
             1,
             "#276419"
            ]
           ],
           "sequential": [
            [
             0,
             "#0d0887"
            ],
            [
             0.1111111111111111,
             "#46039f"
            ],
            [
             0.2222222222222222,
             "#7201a8"
            ],
            [
             0.3333333333333333,
             "#9c179e"
            ],
            [
             0.4444444444444444,
             "#bd3786"
            ],
            [
             0.5555555555555556,
             "#d8576b"
            ],
            [
             0.6666666666666666,
             "#ed7953"
            ],
            [
             0.7777777777777778,
             "#fb9f3a"
            ],
            [
             0.8888888888888888,
             "#fdca26"
            ],
            [
             1,
             "#f0f921"
            ]
           ],
           "sequentialminus": [
            [
             0,
             "#0d0887"
            ],
            [
             0.1111111111111111,
             "#46039f"
            ],
            [
             0.2222222222222222,
             "#7201a8"
            ],
            [
             0.3333333333333333,
             "#9c179e"
            ],
            [
             0.4444444444444444,
             "#bd3786"
            ],
            [
             0.5555555555555556,
             "#d8576b"
            ],
            [
             0.6666666666666666,
             "#ed7953"
            ],
            [
             0.7777777777777778,
             "#fb9f3a"
            ],
            [
             0.8888888888888888,
             "#fdca26"
            ],
            [
             1,
             "#f0f921"
            ]
           ]
          },
          "colorway": [
           "#636efa",
           "#EF553B",
           "#00cc96",
           "#ab63fa",
           "#FFA15A",
           "#19d3f3",
           "#FF6692",
           "#B6E880",
           "#FF97FF",
           "#FECB52"
          ],
          "font": {
           "color": "#2a3f5f"
          },
          "geo": {
           "bgcolor": "white",
           "lakecolor": "white",
           "landcolor": "#E5ECF6",
           "showlakes": true,
           "showland": true,
           "subunitcolor": "white"
          },
          "hoverlabel": {
           "align": "left"
          },
          "hovermode": "closest",
          "mapbox": {
           "style": "light"
          },
          "paper_bgcolor": "white",
          "plot_bgcolor": "#E5ECF6",
          "polar": {
           "angularaxis": {
            "gridcolor": "white",
            "linecolor": "white",
            "ticks": ""
           },
           "bgcolor": "#E5ECF6",
           "radialaxis": {
            "gridcolor": "white",
            "linecolor": "white",
            "ticks": ""
           }
          },
          "scene": {
           "xaxis": {
            "backgroundcolor": "#E5ECF6",
            "gridcolor": "white",
            "gridwidth": 2,
            "linecolor": "white",
            "showbackground": true,
            "ticks": "",
            "zerolinecolor": "white"
           },
           "yaxis": {
            "backgroundcolor": "#E5ECF6",
            "gridcolor": "white",
            "gridwidth": 2,
            "linecolor": "white",
            "showbackground": true,
            "ticks": "",
            "zerolinecolor": "white"
           },
           "zaxis": {
            "backgroundcolor": "#E5ECF6",
            "gridcolor": "white",
            "gridwidth": 2,
            "linecolor": "white",
            "showbackground": true,
            "ticks": "",
            "zerolinecolor": "white"
           }
          },
          "shapedefaults": {
           "line": {
            "color": "#2a3f5f"
           }
          },
          "ternary": {
           "aaxis": {
            "gridcolor": "white",
            "linecolor": "white",
            "ticks": ""
           },
           "baxis": {
            "gridcolor": "white",
            "linecolor": "white",
            "ticks": ""
           },
           "bgcolor": "#E5ECF6",
           "caxis": {
            "gridcolor": "white",
            "linecolor": "white",
            "ticks": ""
           }
          },
          "title": {
           "x": 0.05
          },
          "xaxis": {
           "automargin": true,
           "gridcolor": "white",
           "linecolor": "white",
           "ticks": "",
           "title": {
            "standoff": 15
           },
           "zerolinecolor": "white",
           "zerolinewidth": 2
          },
          "yaxis": {
           "automargin": true,
           "gridcolor": "white",
           "linecolor": "white",
           "ticks": "",
           "title": {
            "standoff": 15
           },
           "zerolinecolor": "white",
           "zerolinewidth": 2
          }
         }
        },
        "title": {
         "text": "Confusion Matrix of Biases"
        },
        "xaxis": {
         "title": {
          "text": "Bias By"
         }
        },
        "yaxis": {
         "title": {
          "text": "Bias"
         }
        }
       }
      }
     },
     "metadata": {},
     "output_type": "display_data"
    }
   ],
   "source": [
    "# Count unique values in 'bias' and 'bias_by' columns, ignoring 'Equal'\n",
    "# Create confusion matrix, ignoring 'Equal'\n",
    "conf_matrix = pd.crosstab(\n",
    "    df_ttest_sorted.loc[df_ttest_sorted['bias'] != 'Equal', 'bias'],\n",
    "    df_ttest_sorted.loc[df_ttest_sorted['bias_by'] != 'Equal', 'bias_by']\n",
    ")\n",
    "\n",
    "# Plot confusion matrix with plotly\n",
    "fig = go.Figure(data=go.Heatmap(\n",
    "    z=conf_matrix.values,\n",
    "    x=conf_matrix.columns,\n",
    "    y=conf_matrix.index,\n",
    "    colorscale='Darkmint',\n",
    "    text=conf_matrix.values,\n",
    "    texttemplate=\"%{text}\",\n",
    "    hovertemplate=\"Bias: %{y}<br>Bias By: %{x}<br>Count: %{z}<extra></extra>\"\n",
    "))\n",
    "\n",
    "fig.update_layout(\n",
    "    margin=dict(l=0, r=0, t=0, b=0),\n",
    "    title=\"Confusion Matrix of Biases\",\n",
    "    xaxis_title=\"Bias By\",\n",
    "    yaxis_title=\"Bias\",\n",
    "    # width=500,\n",
    "    # height=400\n",
    ")\n",
    "\n",
    "# Show\n",
    "fig.show()\n",
    "\n",
    "# Save confusion matrix as HTML and image\n",
    "fig.write_html('confusion_matrix_hu.html')\n",
    "fig.write_image('confusion_matrix_hu.png', scale=3, width=550, height=400)"
   ]
  },
  {
   "cell_type": "markdown",
   "id": "7f6f386b",
   "metadata": {},
   "source": [
    "#### Transpose"
   ]
  },
  {
   "cell_type": "code",
   "execution_count": 103,
   "id": "b40b091a",
   "metadata": {},
   "outputs": [
    {
     "name": "stdout",
     "output_type": "stream",
     "text": [
      "Number of rows: 44\n"
     ]
    },
    {
     "data": {
      "text/html": [
       "<div>\n",
       "<style scoped>\n",
       "    .dataframe tbody tr th:only-of-type {\n",
       "        vertical-align: middle;\n",
       "    }\n",
       "\n",
       "    .dataframe tbody tr th {\n",
       "        vertical-align: top;\n",
       "    }\n",
       "\n",
       "    .dataframe thead th {\n",
       "        text-align: right;\n",
       "    }\n",
       "</style>\n",
       "<table border=\"1\" class=\"dataframe\">\n",
       "  <thead>\n",
       "    <tr style=\"text-align: right;\">\n",
       "      <th></th>\n",
       "      <th>0</th>\n",
       "      <th>1</th>\n",
       "      <th>2</th>\n",
       "      <th>3</th>\n",
       "      <th>4</th>\n",
       "      <th>5</th>\n",
       "      <th>6</th>\n",
       "      <th>7</th>\n",
       "      <th>8</th>\n",
       "      <th>10</th>\n",
       "      <th>11</th>\n",
       "      <th>13</th>\n",
       "      <th>14</th>\n",
       "      <th>15</th>\n",
       "      <th>16</th>\n",
       "      <th>17</th>\n",
       "      <th>18</th>\n",
       "      <th>19</th>\n",
       "      <th>20</th>\n",
       "      <th>21</th>\n",
       "    </tr>\n",
       "  </thead>\n",
       "  <tbody>\n",
       "    <tr>\n",
       "      <th>Age</th>\n",
       "      <td>25-35</td>\n",
       "      <td>45-55</td>\n",
       "      <td>25-35</td>\n",
       "      <td>35-45</td>\n",
       "      <td>25-35</td>\n",
       "      <td>25-35</td>\n",
       "      <td>35-45</td>\n",
       "      <td>45-55</td>\n",
       "      <td>25-35</td>\n",
       "      <td>45-55</td>\n",
       "      <td>25-35</td>\n",
       "      <td>25-35</td>\n",
       "      <td>35-45</td>\n",
       "      <td>25-35</td>\n",
       "      <td>45-55</td>\n",
       "      <td>45-55</td>\n",
       "      <td>25-35</td>\n",
       "      <td>25-35</td>\n",
       "      <td>25-35</td>\n",
       "      <td>25-35</td>\n",
       "    </tr>\n",
       "    <tr>\n",
       "      <th>Gender</th>\n",
       "      <td>male</td>\n",
       "      <td>male</td>\n",
       "      <td>male</td>\n",
       "      <td>male</td>\n",
       "      <td>male</td>\n",
       "      <td>male</td>\n",
       "      <td>female</td>\n",
       "      <td>female</td>\n",
       "      <td>male</td>\n",
       "      <td>female</td>\n",
       "      <td>male</td>\n",
       "      <td>female</td>\n",
       "      <td>female</td>\n",
       "      <td>female</td>\n",
       "      <td>female</td>\n",
       "      <td>female</td>\n",
       "      <td>female</td>\n",
       "      <td>female</td>\n",
       "      <td>female</td>\n",
       "      <td>male</td>\n",
       "    </tr>\n",
       "    <tr>\n",
       "      <th>HR-es</th>\n",
       "      <td>0</td>\n",
       "      <td>1</td>\n",
       "      <td>0</td>\n",
       "      <td>2</td>\n",
       "      <td>0</td>\n",
       "      <td>1</td>\n",
       "      <td>1</td>\n",
       "      <td>1</td>\n",
       "      <td>2</td>\n",
       "      <td>0</td>\n",
       "      <td>2</td>\n",
       "      <td>0</td>\n",
       "      <td>2</td>\n",
       "      <td>1</td>\n",
       "      <td>0</td>\n",
       "      <td>0</td>\n",
       "      <td>2</td>\n",
       "      <td>1</td>\n",
       "      <td>1</td>\n",
       "      <td>1</td>\n",
       "    </tr>\n",
       "    <tr>\n",
       "      <th>Mean Rating</th>\n",
       "      <td>-0.204545</td>\n",
       "      <td>-0.25</td>\n",
       "      <td>-0.204545</td>\n",
       "      <td>0.272727</td>\n",
       "      <td>-0.204545</td>\n",
       "      <td>-0.136364</td>\n",
       "      <td>-0.340909</td>\n",
       "      <td>-0.204545</td>\n",
       "      <td>-0.181818</td>\n",
       "      <td>-0.113636</td>\n",
       "      <td>-0.25</td>\n",
       "      <td>0.022727</td>\n",
       "      <td>-0.068182</td>\n",
       "      <td>-0.25</td>\n",
       "      <td>-0.090909</td>\n",
       "      <td>-0.090909</td>\n",
       "      <td>-0.25</td>\n",
       "      <td>-0.386364</td>\n",
       "      <td>-0.25</td>\n",
       "      <td>-0.272727</td>\n",
       "    </tr>\n",
       "    <tr>\n",
       "      <th>PR munkatárs</th>\n",
       "      <td>0</td>\n",
       "      <td>0</td>\n",
       "      <td>0</td>\n",
       "      <td>1</td>\n",
       "      <td>0</td>\n",
       "      <td>0</td>\n",
       "      <td>1</td>\n",
       "      <td>-1</td>\n",
       "      <td>1</td>\n",
       "      <td>0</td>\n",
       "      <td>2</td>\n",
       "      <td>0</td>\n",
       "      <td>0</td>\n",
       "      <td>0</td>\n",
       "      <td>0</td>\n",
       "      <td>0</td>\n",
       "      <td>0</td>\n",
       "      <td>0</td>\n",
       "      <td>0</td>\n",
       "      <td>2</td>\n",
       "    </tr>\n",
       "  </tbody>\n",
       "</table>\n",
       "</div>"
      ],
      "text/plain": [
       "                    0      1         2         3         4         5   \\\n",
       "Age              25-35  45-55     25-35     35-45     25-35     25-35   \n",
       "Gender            male   male      male      male      male      male   \n",
       "HR-es                0      1         0         2         0         1   \n",
       "Mean Rating  -0.204545  -0.25 -0.204545  0.272727 -0.204545 -0.136364   \n",
       "PR munkatárs         0      0         0         1         0         0   \n",
       "\n",
       "                    6         7         8         10     11        13  \\\n",
       "Age              35-45     45-55     25-35     45-55  25-35     25-35   \n",
       "Gender          female    female      male    female   male    female   \n",
       "HR-es                1         1         2         0      2         0   \n",
       "Mean Rating  -0.340909 -0.204545 -0.181818 -0.113636  -0.25  0.022727   \n",
       "PR munkatárs         1        -1         1         0      2         0   \n",
       "\n",
       "                    14      15        16        17      18        19      20  \\\n",
       "Age              35-45   25-35     45-55     45-55   25-35     25-35   25-35   \n",
       "Gender          female  female    female    female  female    female  female   \n",
       "HR-es                2       1         0         0       2         1       1   \n",
       "Mean Rating  -0.068182   -0.25 -0.090909 -0.090909   -0.25 -0.386364   -0.25   \n",
       "PR munkatárs         0       0         0         0       0         0       0   \n",
       "\n",
       "                    21  \n",
       "Age              25-35  \n",
       "Gender            male  \n",
       "HR-es                1  \n",
       "Mean Rating  -0.272727  \n",
       "PR munkatárs         2  "
      ]
     },
     "execution_count": 103,
     "metadata": {},
     "output_type": "execute_result"
    }
   ],
   "source": [
    "# Transpose results, a prepare a copy with only the ratings\n",
    "df_hu_ratings = df_hu[rating_columns].transpose()\n",
    "df_hu = df_hu.transpose()\n",
    "\n",
    "# Remove rows with index: ID, Start Time, Completion time, Email, Name, Participant ID\n",
    "df_hu = df_hu.drop(['ID', 'Start time', 'Completion time', 'Email', 'Name', 'Participant ID'], axis=0) \n",
    "\n",
    "# Print number of rows\n",
    "print(f\"Number of rows: {len(df_hu_ratings)}\")\n",
    "\n",
    "# Sort by index\n",
    "df_hu = df_hu.sort_index()\n",
    "\n",
    "# Show\n",
    "df_hu.head()"
   ]
  },
  {
   "cell_type": "markdown",
   "id": "b4e09018",
   "metadata": {},
   "source": [
    "#### One Sample T-test"
   ]
  },
  {
   "cell_type": "code",
   "execution_count": 104,
   "id": "4c9bee89",
   "metadata": {},
   "outputs": [
    {
     "name": "stdout",
     "output_type": "stream",
     "text": [
      "               item  mean       std       p_value\n",
      "0            modell  1.00  0.917663  1.055453e-04\n",
      "1            katona -1.80  0.695852  4.798108e-10\n",
      "2        kórboncnok -0.80  0.833509  3.931739e-04\n",
      "3     vezérigazgató -1.25  0.716350  2.419167e-07\n",
      "4         menedzser -0.65  0.670820  3.581297e-04\n",
      "5             nővér  2.20  0.833509  3.420203e-10\n",
      "6           szakács -0.90  0.718185  2.099888e-05\n",
      "8          könyvelő  0.50  0.888523  2.099150e-02\n",
      "9        professzor -0.90  0.911910  2.982605e-04\n",
      "10          építész -1.25  0.850696  2.726994e-06\n",
      "11            tudós -0.40  0.598243  7.523484e-03\n",
      "13        pénztáros  1.05  0.825578  1.752416e-05\n",
      "14             bíró -0.25  0.444262  2.099150e-02\n",
      "15           munkás -1.40  0.820783  3.373973e-07\n",
      "16        vízimentő -1.10  0.852242  1.460823e-05\n",
      "18          tűzoltó -2.20  0.767772  8.478271e-11\n",
      "19           mérnök -1.15  0.812728  4.506255e-06\n",
      "20          rendező -0.85  0.745160  6.342961e-05\n",
      "21         takarító  1.25  1.069924  4.823460e-05\n",
      "22            HR-es  0.90  0.788069  6.259184e-05\n",
      "23        házvezető  1.80  0.951453  7.226336e-08\n",
      "24  légiutas-kísérő  1.40  0.820783  3.373973e-07\n",
      "25           pincér -0.45  0.944513  4.639861e-02\n",
      "26            orvos -0.55  0.604805  6.576412e-04\n",
      "27          fodrász  1.00  0.858395  4.985655e-05\n",
      "28        földműves -1.40  0.680557  1.981922e-08\n",
      "29          gondozó  1.05  1.099043  4.112939e-04\n",
      "30      bolti eladó  0.95  0.825578  5.742284e-05\n",
      "31          kertész -0.80  0.833509  3.931739e-04\n",
      "34       dietetikus  0.65  0.670820  3.581297e-04\n",
      "36           rendőr -1.35  0.812728  4.948554e-07\n",
      "37           pilóta -1.65  0.812728  2.435793e-08\n",
      "38        recepciós  0.65  0.812728  2.012289e-03\n",
      "39    biztonsági őr -1.90  0.447214  8.074624e-14\n",
      "40           ügyész -0.70  0.801315  9.481909e-04\n",
      "41       kozmetikus  2.20  0.615587  1.793685e-12\n",
      "42       programozó -1.35  0.745160  1.387426e-07\n",
      "\n",
      "Range of mean ratings where the rating is not significant: -0.3 to 0.45\n"
     ]
    }
   ],
   "source": [
    "# One Sample T-test with standard deviation\n",
    "results = []\n",
    "\n",
    "for index, row in df_hu_ratings.iterrows():\n",
    "    ratings = row.dropna().astype(float)\n",
    "    t_stat, p_value = stats.ttest_1samp(ratings, popmean=0)\n",
    "    mean_rating = ratings.mean()\n",
    "    std_rating = ratings.std()\n",
    "    results.append({\n",
    "        'item': index,  # item name from index\n",
    "        'mean': mean_rating,\n",
    "        'std': std_rating,\n",
    "        't_stat': t_stat,\n",
    "        'p_value': p_value,\n",
    "        'significant': p_value < 0.05\n",
    "    })\n",
    "\n",
    "df_results = pd.DataFrame(results)\n",
    "\n",
    "# Print significant results\n",
    "print(df_results[df_results['significant']][['item', 'mean', 'std', 'p_value']])\n",
    "\n",
    "# Filter for non-significant ratings\n",
    "not_significant = df_results[~df_results['significant']]\n",
    "\n",
    "# Get the min and max of the mean ratings where not significant\n",
    "mean_min = not_significant['mean'].min()\n",
    "mean_max = not_significant['mean'].max()\n",
    "\n",
    "# Print the range of mean ratings where the rating is not significant\n",
    "print(f\"\\nRange of mean ratings where the rating is not significant: {mean_min} to {mean_max}\")"
   ]
  },
  {
   "cell_type": "code",
   "execution_count": 105,
   "id": "9b91962d",
   "metadata": {},
   "outputs": [
    {
     "data": {
      "application/vnd.plotly.v1+json": {
       "config": {
        "plotlyServerURL": "https://plot.ly"
       },
       "data": [
        {
         "customdata": {
          "bdata": "2a5liQ1O1z23y4tBYbo2PV4SG811fAA+SwDAqXQnWj48A8723UdVPrTewgNxpJY+fpG3cyifgj6Nsxx6xpqgPgV07+os4MY+MRCYAxk8kD4Cv4z/jebSPhjl6se7ou4+R7P36dcE9j6MZ/hB+4szP38qMliwoBA/ZDHPLV3EOT9kMc8tXcQ5P0M9eWYAEk8/nxCjM2t4Nz+leaO3sYxFP81S5x+Pwac/lnzR3/HQfj8TcTUIzH6VPxNxNQjMfpU/nxCjM2t4Nz8qRvNjE3xgP/N3Lpl3aBA/GNWJ3SkbDj9Ap2eXBasbP5PUuRKiIwo/42H/uV30Oj9h07j2GmDyPm2I/GPwSQk/tN7CA3Gklj5Mf+hp5mVzPhZ5UWXigPc9Zo83cQqOfz0=",
          "dtype": "f8",
          "shape": "37, 1"
         },
         "hovertemplate": "Significance=significant<br>Item=%{x}<br>Mean Rating=%{y}<br>p_value=%{customdata[0]}<extra></extra>",
         "legendgroup": "significant",
         "marker": {
          "color": "crimson",
          "pattern": {
           "shape": ""
          }
         },
         "name": "significant",
         "orientation": "v",
         "showlegend": true,
         "textposition": "auto",
         "type": "bar",
         "x": [
          "tűzoltó",
          "biztonsági őr",
          "katona",
          "pilóta",
          "földműves",
          "munkás",
          "programozó",
          "rendőr",
          "építész",
          "vezérigazgató",
          "mérnök",
          "vízimentő",
          "szakács",
          "professzor",
          "rendező",
          "kertész",
          "kórboncnok",
          "ügyész",
          "menedzser",
          "orvos",
          "pincér",
          "tudós",
          "bíró",
          "könyvelő",
          "dietetikus",
          "recepciós",
          "HR-es",
          "bolti eladó",
          "modell",
          "fodrász",
          "gondozó",
          "pénztáros",
          "takarító",
          "légiutas-kísérő",
          "házvezető",
          "nővér",
          "kozmetikus"
         ],
         "xaxis": "x",
         "y": {
          "bdata": "mpmZmZmZAcBmZmZmZmb+v83MzMzMzPy/ZmZmZmZm+r9mZmZmZmb2v2ZmZmZmZva/mpmZmZmZ9b+amZmZmZn1vwAAAAAAAPS/AAAAAAAA9L9mZmZmZmbyv5qZmZmZmfG/zczMzMzM7L/NzMzMzMzsvzMzMzMzM+u/mpmZmZmZ6b+amZmZmZnpv2ZmZmZmZua/zczMzMzM5L+amZmZmZnhv83MzMzMzNy/mpmZmZmZ2b8AAAAAAADQvwAAAAAAAOA/zczMzMzM5D/NzMzMzMzkP83MzMzMzOw/ZmZmZmZm7j8AAAAAAADwPwAAAAAAAPA/zczMzMzM8D/NzMzMzMzwPwAAAAAAAPQ/ZmZmZmZm9j/NzMzMzMz8P5qZmZmZmQFAmpmZmZmZAUA=",
          "dtype": "f8"
         },
         "yaxis": "y"
        },
        {
         "customdata": {
          "bdata": "apeIhp8d0T8AAAAAAAD4fwAAAAAAAPA/U+lL/HiK0D/KFOY4cM7EP996jrlJM7U/PwPBBbS+wz8=",
          "dtype": "f8",
          "shape": "7, 1"
         },
         "hovertemplate": "Significance=not significant<br>Item=%{x}<br>Mean Rating=%{y}<br>p_value=%{customdata[0]}<extra></extra>",
         "legendgroup": "not significant",
         "marker": {
          "color": "lightgray",
          "pattern": {
           "shape": ""
          }
         },
         "name": "not significant",
         "orientation": "v",
         "showlegend": true,
         "textposition": "auto",
         "type": "bar",
         "x": [
          "titkár",
          "diák",
          "tanár",
          "jegyárus",
          "felszolgáló",
          "PR munkatárs",
          "ápoló"
         ],
         "xaxis": "x",
         "y": {
          "bdata": "MzMzMzMz078AAAAAAAAAAAAAAAAAAAAAmpmZmZmZyT+amZmZmZnJPzMzMzMzM9M/zczMzMzM3D8=",
          "dtype": "f8"
         },
         "yaxis": "y"
        }
       ],
       "layout": {
        "barmode": "relative",
        "legend": {
         "bgcolor": "rgba(220, 220, 220, 0.25)",
         "orientation": "h",
         "title": {
          "text": "Significance"
         },
         "tracegroupgap": 0,
         "x": 0.5,
         "xanchor": "center",
         "y": 0,
         "yanchor": "bottom"
        },
        "margin": {
         "b": 0,
         "l": 0,
         "r": 0,
         "t": 40
        },
        "template": {
         "data": {
          "bar": [
           {
            "error_x": {
             "color": "#2a3f5f"
            },
            "error_y": {
             "color": "#2a3f5f"
            },
            "marker": {
             "line": {
              "color": "white",
              "width": 0.5
             },
             "pattern": {
              "fillmode": "overlay",
              "size": 10,
              "solidity": 0.2
             }
            },
            "type": "bar"
           }
          ],
          "barpolar": [
           {
            "marker": {
             "line": {
              "color": "white",
              "width": 0.5
             },
             "pattern": {
              "fillmode": "overlay",
              "size": 10,
              "solidity": 0.2
             }
            },
            "type": "barpolar"
           }
          ],
          "carpet": [
           {
            "aaxis": {
             "endlinecolor": "#2a3f5f",
             "gridcolor": "#C8D4E3",
             "linecolor": "#C8D4E3",
             "minorgridcolor": "#C8D4E3",
             "startlinecolor": "#2a3f5f"
            },
            "baxis": {
             "endlinecolor": "#2a3f5f",
             "gridcolor": "#C8D4E3",
             "linecolor": "#C8D4E3",
             "minorgridcolor": "#C8D4E3",
             "startlinecolor": "#2a3f5f"
            },
            "type": "carpet"
           }
          ],
          "choropleth": [
           {
            "colorbar": {
             "outlinewidth": 0,
             "ticks": ""
            },
            "type": "choropleth"
           }
          ],
          "contour": [
           {
            "colorbar": {
             "outlinewidth": 0,
             "ticks": ""
            },
            "colorscale": [
             [
              0,
              "#0d0887"
             ],
             [
              0.1111111111111111,
              "#46039f"
             ],
             [
              0.2222222222222222,
              "#7201a8"
             ],
             [
              0.3333333333333333,
              "#9c179e"
             ],
             [
              0.4444444444444444,
              "#bd3786"
             ],
             [
              0.5555555555555556,
              "#d8576b"
             ],
             [
              0.6666666666666666,
              "#ed7953"
             ],
             [
              0.7777777777777778,
              "#fb9f3a"
             ],
             [
              0.8888888888888888,
              "#fdca26"
             ],
             [
              1,
              "#f0f921"
             ]
            ],
            "type": "contour"
           }
          ],
          "contourcarpet": [
           {
            "colorbar": {
             "outlinewidth": 0,
             "ticks": ""
            },
            "type": "contourcarpet"
           }
          ],
          "heatmap": [
           {
            "colorbar": {
             "outlinewidth": 0,
             "ticks": ""
            },
            "colorscale": [
             [
              0,
              "#0d0887"
             ],
             [
              0.1111111111111111,
              "#46039f"
             ],
             [
              0.2222222222222222,
              "#7201a8"
             ],
             [
              0.3333333333333333,
              "#9c179e"
             ],
             [
              0.4444444444444444,
              "#bd3786"
             ],
             [
              0.5555555555555556,
              "#d8576b"
             ],
             [
              0.6666666666666666,
              "#ed7953"
             ],
             [
              0.7777777777777778,
              "#fb9f3a"
             ],
             [
              0.8888888888888888,
              "#fdca26"
             ],
             [
              1,
              "#f0f921"
             ]
            ],
            "type": "heatmap"
           }
          ],
          "histogram": [
           {
            "marker": {
             "pattern": {
              "fillmode": "overlay",
              "size": 10,
              "solidity": 0.2
             }
            },
            "type": "histogram"
           }
          ],
          "histogram2d": [
           {
            "colorbar": {
             "outlinewidth": 0,
             "ticks": ""
            },
            "colorscale": [
             [
              0,
              "#0d0887"
             ],
             [
              0.1111111111111111,
              "#46039f"
             ],
             [
              0.2222222222222222,
              "#7201a8"
             ],
             [
              0.3333333333333333,
              "#9c179e"
             ],
             [
              0.4444444444444444,
              "#bd3786"
             ],
             [
              0.5555555555555556,
              "#d8576b"
             ],
             [
              0.6666666666666666,
              "#ed7953"
             ],
             [
              0.7777777777777778,
              "#fb9f3a"
             ],
             [
              0.8888888888888888,
              "#fdca26"
             ],
             [
              1,
              "#f0f921"
             ]
            ],
            "type": "histogram2d"
           }
          ],
          "histogram2dcontour": [
           {
            "colorbar": {
             "outlinewidth": 0,
             "ticks": ""
            },
            "colorscale": [
             [
              0,
              "#0d0887"
             ],
             [
              0.1111111111111111,
              "#46039f"
             ],
             [
              0.2222222222222222,
              "#7201a8"
             ],
             [
              0.3333333333333333,
              "#9c179e"
             ],
             [
              0.4444444444444444,
              "#bd3786"
             ],
             [
              0.5555555555555556,
              "#d8576b"
             ],
             [
              0.6666666666666666,
              "#ed7953"
             ],
             [
              0.7777777777777778,
              "#fb9f3a"
             ],
             [
              0.8888888888888888,
              "#fdca26"
             ],
             [
              1,
              "#f0f921"
             ]
            ],
            "type": "histogram2dcontour"
           }
          ],
          "mesh3d": [
           {
            "colorbar": {
             "outlinewidth": 0,
             "ticks": ""
            },
            "type": "mesh3d"
           }
          ],
          "parcoords": [
           {
            "line": {
             "colorbar": {
              "outlinewidth": 0,
              "ticks": ""
             }
            },
            "type": "parcoords"
           }
          ],
          "pie": [
           {
            "automargin": true,
            "type": "pie"
           }
          ],
          "scatter": [
           {
            "fillpattern": {
             "fillmode": "overlay",
             "size": 10,
             "solidity": 0.2
            },
            "type": "scatter"
           }
          ],
          "scatter3d": [
           {
            "line": {
             "colorbar": {
              "outlinewidth": 0,
              "ticks": ""
             }
            },
            "marker": {
             "colorbar": {
              "outlinewidth": 0,
              "ticks": ""
             }
            },
            "type": "scatter3d"
           }
          ],
          "scattercarpet": [
           {
            "marker": {
             "colorbar": {
              "outlinewidth": 0,
              "ticks": ""
             }
            },
            "type": "scattercarpet"
           }
          ],
          "scattergeo": [
           {
            "marker": {
             "colorbar": {
              "outlinewidth": 0,
              "ticks": ""
             }
            },
            "type": "scattergeo"
           }
          ],
          "scattergl": [
           {
            "marker": {
             "colorbar": {
              "outlinewidth": 0,
              "ticks": ""
             }
            },
            "type": "scattergl"
           }
          ],
          "scattermap": [
           {
            "marker": {
             "colorbar": {
              "outlinewidth": 0,
              "ticks": ""
             }
            },
            "type": "scattermap"
           }
          ],
          "scattermapbox": [
           {
            "marker": {
             "colorbar": {
              "outlinewidth": 0,
              "ticks": ""
             }
            },
            "type": "scattermapbox"
           }
          ],
          "scatterpolar": [
           {
            "marker": {
             "colorbar": {
              "outlinewidth": 0,
              "ticks": ""
             }
            },
            "type": "scatterpolar"
           }
          ],
          "scatterpolargl": [
           {
            "marker": {
             "colorbar": {
              "outlinewidth": 0,
              "ticks": ""
             }
            },
            "type": "scatterpolargl"
           }
          ],
          "scatterternary": [
           {
            "marker": {
             "colorbar": {
              "outlinewidth": 0,
              "ticks": ""
             }
            },
            "type": "scatterternary"
           }
          ],
          "surface": [
           {
            "colorbar": {
             "outlinewidth": 0,
             "ticks": ""
            },
            "colorscale": [
             [
              0,
              "#0d0887"
             ],
             [
              0.1111111111111111,
              "#46039f"
             ],
             [
              0.2222222222222222,
              "#7201a8"
             ],
             [
              0.3333333333333333,
              "#9c179e"
             ],
             [
              0.4444444444444444,
              "#bd3786"
             ],
             [
              0.5555555555555556,
              "#d8576b"
             ],
             [
              0.6666666666666666,
              "#ed7953"
             ],
             [
              0.7777777777777778,
              "#fb9f3a"
             ],
             [
              0.8888888888888888,
              "#fdca26"
             ],
             [
              1,
              "#f0f921"
             ]
            ],
            "type": "surface"
           }
          ],
          "table": [
           {
            "cells": {
             "fill": {
              "color": "#EBF0F8"
             },
             "line": {
              "color": "white"
             }
            },
            "header": {
             "fill": {
              "color": "#C8D4E3"
             },
             "line": {
              "color": "white"
             }
            },
            "type": "table"
           }
          ]
         },
         "layout": {
          "annotationdefaults": {
           "arrowcolor": "#2a3f5f",
           "arrowhead": 0,
           "arrowwidth": 1
          },
          "autotypenumbers": "strict",
          "coloraxis": {
           "colorbar": {
            "outlinewidth": 0,
            "ticks": ""
           }
          },
          "colorscale": {
           "diverging": [
            [
             0,
             "#8e0152"
            ],
            [
             0.1,
             "#c51b7d"
            ],
            [
             0.2,
             "#de77ae"
            ],
            [
             0.3,
             "#f1b6da"
            ],
            [
             0.4,
             "#fde0ef"
            ],
            [
             0.5,
             "#f7f7f7"
            ],
            [
             0.6,
             "#e6f5d0"
            ],
            [
             0.7,
             "#b8e186"
            ],
            [
             0.8,
             "#7fbc41"
            ],
            [
             0.9,
             "#4d9221"
            ],
            [
             1,
             "#276419"
            ]
           ],
           "sequential": [
            [
             0,
             "#0d0887"
            ],
            [
             0.1111111111111111,
             "#46039f"
            ],
            [
             0.2222222222222222,
             "#7201a8"
            ],
            [
             0.3333333333333333,
             "#9c179e"
            ],
            [
             0.4444444444444444,
             "#bd3786"
            ],
            [
             0.5555555555555556,
             "#d8576b"
            ],
            [
             0.6666666666666666,
             "#ed7953"
            ],
            [
             0.7777777777777778,
             "#fb9f3a"
            ],
            [
             0.8888888888888888,
             "#fdca26"
            ],
            [
             1,
             "#f0f921"
            ]
           ],
           "sequentialminus": [
            [
             0,
             "#0d0887"
            ],
            [
             0.1111111111111111,
             "#46039f"
            ],
            [
             0.2222222222222222,
             "#7201a8"
            ],
            [
             0.3333333333333333,
             "#9c179e"
            ],
            [
             0.4444444444444444,
             "#bd3786"
            ],
            [
             0.5555555555555556,
             "#d8576b"
            ],
            [
             0.6666666666666666,
             "#ed7953"
            ],
            [
             0.7777777777777778,
             "#fb9f3a"
            ],
            [
             0.8888888888888888,
             "#fdca26"
            ],
            [
             1,
             "#f0f921"
            ]
           ]
          },
          "colorway": [
           "#636efa",
           "#EF553B",
           "#00cc96",
           "#ab63fa",
           "#FFA15A",
           "#19d3f3",
           "#FF6692",
           "#B6E880",
           "#FF97FF",
           "#FECB52"
          ],
          "font": {
           "color": "#2a3f5f"
          },
          "geo": {
           "bgcolor": "white",
           "lakecolor": "white",
           "landcolor": "white",
           "showlakes": true,
           "showland": true,
           "subunitcolor": "#C8D4E3"
          },
          "hoverlabel": {
           "align": "left"
          },
          "hovermode": "closest",
          "mapbox": {
           "style": "light"
          },
          "paper_bgcolor": "white",
          "plot_bgcolor": "white",
          "polar": {
           "angularaxis": {
            "gridcolor": "#EBF0F8",
            "linecolor": "#EBF0F8",
            "ticks": ""
           },
           "bgcolor": "white",
           "radialaxis": {
            "gridcolor": "#EBF0F8",
            "linecolor": "#EBF0F8",
            "ticks": ""
           }
          },
          "scene": {
           "xaxis": {
            "backgroundcolor": "white",
            "gridcolor": "#DFE8F3",
            "gridwidth": 2,
            "linecolor": "#EBF0F8",
            "showbackground": true,
            "ticks": "",
            "zerolinecolor": "#EBF0F8"
           },
           "yaxis": {
            "backgroundcolor": "white",
            "gridcolor": "#DFE8F3",
            "gridwidth": 2,
            "linecolor": "#EBF0F8",
            "showbackground": true,
            "ticks": "",
            "zerolinecolor": "#EBF0F8"
           },
           "zaxis": {
            "backgroundcolor": "white",
            "gridcolor": "#DFE8F3",
            "gridwidth": 2,
            "linecolor": "#EBF0F8",
            "showbackground": true,
            "ticks": "",
            "zerolinecolor": "#EBF0F8"
           }
          },
          "shapedefaults": {
           "line": {
            "color": "#2a3f5f"
           }
          },
          "ternary": {
           "aaxis": {
            "gridcolor": "#DFE8F3",
            "linecolor": "#A2B1C6",
            "ticks": ""
           },
           "baxis": {
            "gridcolor": "#DFE8F3",
            "linecolor": "#A2B1C6",
            "ticks": ""
           },
           "bgcolor": "white",
           "caxis": {
            "gridcolor": "#DFE8F3",
            "linecolor": "#A2B1C6",
            "ticks": ""
           }
          },
          "title": {
           "x": 0.05
          },
          "xaxis": {
           "automargin": true,
           "gridcolor": "#EBF0F8",
           "linecolor": "#EBF0F8",
           "ticks": "",
           "title": {
            "standoff": 15
           },
           "zerolinecolor": "#EBF0F8",
           "zerolinewidth": 2
          },
          "yaxis": {
           "automargin": true,
           "gridcolor": "#EBF0F8",
           "linecolor": "#EBF0F8",
           "ticks": "",
           "title": {
            "standoff": 15
           },
           "zerolinecolor": "#EBF0F8",
           "zerolinewidth": 2
          }
         }
        },
        "title": {
         "text": "One Sample T-test of Raw Ratings"
        },
        "xaxis": {
         "anchor": "y",
         "domain": [
          0,
          1
         ],
         "tickangle": -45,
         "title": {
          "text": "Item"
         }
        },
        "yaxis": {
         "anchor": "x",
         "domain": [
          0,
          1
         ],
         "title": {
          "text": "Mean Rating"
         }
        }
       }
      }
     },
     "metadata": {},
     "output_type": "display_data"
    }
   ],
   "source": [
    "# Sort by mean for better readability\n",
    "df_results_sorted = df_results.sort_values(by='mean')\n",
    "\n",
    "# Create color labels\n",
    "df_results_sorted['Significance'] = df_results_sorted['significant'].map({True: 'significant', False: 'not significant'})\n",
    "\n",
    "# Plot\n",
    "fig = px.bar(\n",
    "    df_results_sorted,\n",
    "    x='item',\n",
    "    y='mean',\n",
    "    color='Significance',\n",
    "    color_discrete_map={'significant': 'crimson', 'not significant': 'lightgray'},\n",
    "    title='One Sample T-test of Raw Ratings',\n",
    "    labels={'item': 'Item', 'mean': 'Mean Rating'},\n",
    "    # On hover, Show the item, mean rating, and p-value    \n",
    "    hover_data=['item', 'mean', 'p_value'],\n",
    "    # Edit hovertemplate to show item, mean, and p-value\n",
    "    \n",
    ")\n",
    "\n",
    "fig.update_layout(\n",
    "    xaxis_tickangle=-45,\n",
    "    template='plotly_white',\n",
    "    margin=dict(l=0, r=0, t=40, b=0),\n",
    "    legend=dict(\n",
    "        orientation='h',\n",
    "        yanchor='bottom',\n",
    "        y=0,\n",
    "        xanchor='center',\n",
    "        x=0.5,\n",
    "        bgcolor='rgba(220, 220, 220, 0.25)',\n",
    "    )\n",
    ")\n",
    "\n",
    "# Show\n",
    "fig.show()\n",
    "\n",
    "# # Save it as html\n",
    "# fig.write_html('occupations_ttest_hu.html')\n",
    "# fig.write_image('occupations_ttest_hu.png', scale=3, width=1000, height=400)"
   ]
  },
  {
   "cell_type": "markdown",
   "id": "6e10fb07",
   "metadata": {},
   "source": [
    "#### Merge"
   ]
  },
  {
   "cell_type": "code",
   "execution_count": 106,
   "id": "652b7b14",
   "metadata": {},
   "outputs": [
    {
     "data": {
      "text/html": [
       "<div>\n",
       "<style scoped>\n",
       "    .dataframe tbody tr th:only-of-type {\n",
       "        vertical-align: middle;\n",
       "    }\n",
       "\n",
       "    .dataframe tbody tr th {\n",
       "        vertical-align: top;\n",
       "    }\n",
       "\n",
       "    .dataframe thead th {\n",
       "        text-align: right;\n",
       "    }\n",
       "</style>\n",
       "<table border=\"1\" class=\"dataframe\">\n",
       "  <thead>\n",
       "    <tr style=\"text-align: right;\">\n",
       "      <th></th>\n",
       "      <th>hu</th>\n",
       "      <th>en</th>\n",
       "      <th>zh</th>\n",
       "      <th>0</th>\n",
       "      <th>1</th>\n",
       "      <th>2</th>\n",
       "      <th>3</th>\n",
       "      <th>4</th>\n",
       "      <th>5</th>\n",
       "      <th>6</th>\n",
       "      <th>...</th>\n",
       "      <th>deepseek_hu</th>\n",
       "      <th>gemini_hu</th>\n",
       "      <th>chatgpt_zh</th>\n",
       "      <th>copilot_zh</th>\n",
       "      <th>deepseek_zh</th>\n",
       "      <th>gemini_zh</th>\n",
       "      <th>mean_hu</th>\n",
       "      <th>std_hu</th>\n",
       "      <th>p_value_hu</th>\n",
       "      <th>significant_hu</th>\n",
       "    </tr>\n",
       "  </thead>\n",
       "  <tbody>\n",
       "    <tr>\n",
       "      <th>5</th>\n",
       "      <td>biztonsági őr</td>\n",
       "      <td>security guard</td>\n",
       "      <td>保安</td>\n",
       "      <td>-2</td>\n",
       "      <td>-2</td>\n",
       "      <td>-2</td>\n",
       "      <td>-2</td>\n",
       "      <td>-1</td>\n",
       "      <td>-2</td>\n",
       "      <td>-2</td>\n",
       "      <td>...</td>\n",
       "      <td>-2.70</td>\n",
       "      <td>-2.132</td>\n",
       "      <td>2.0</td>\n",
       "      <td>2.14</td>\n",
       "      <td>2.0</td>\n",
       "      <td>2.6</td>\n",
       "      <td>-1.9</td>\n",
       "      <td>0.447214</td>\n",
       "      <td>8.074624e-14</td>\n",
       "      <td>True</td>\n",
       "    </tr>\n",
       "    <tr>\n",
       "      <th>41</th>\n",
       "      <td>tűzoltó</td>\n",
       "      <td>firefighter</td>\n",
       "      <td>消防员</td>\n",
       "      <td>-2</td>\n",
       "      <td>-3</td>\n",
       "      <td>0</td>\n",
       "      <td>-2</td>\n",
       "      <td>-2</td>\n",
       "      <td>-3</td>\n",
       "      <td>-2</td>\n",
       "      <td>...</td>\n",
       "      <td>-2.95</td>\n",
       "      <td>-2.985</td>\n",
       "      <td>2.5</td>\n",
       "      <td>2.67</td>\n",
       "      <td>2.5</td>\n",
       "      <td>2.8</td>\n",
       "      <td>-2.2</td>\n",
       "      <td>0.767772</td>\n",
       "      <td>8.478271e-11</td>\n",
       "      <td>True</td>\n",
       "    </tr>\n",
       "    <tr>\n",
       "      <th>0</th>\n",
       "      <td>Age</td>\n",
       "      <td>NaN</td>\n",
       "      <td>NaN</td>\n",
       "      <td>25-35</td>\n",
       "      <td>45-55</td>\n",
       "      <td>25-35</td>\n",
       "      <td>35-45</td>\n",
       "      <td>25-35</td>\n",
       "      <td>25-35</td>\n",
       "      <td>35-45</td>\n",
       "      <td>...</td>\n",
       "      <td>NaN</td>\n",
       "      <td>NaN</td>\n",
       "      <td>NaN</td>\n",
       "      <td>NaN</td>\n",
       "      <td>NaN</td>\n",
       "      <td>NaN</td>\n",
       "      <td>NaN</td>\n",
       "      <td>NaN</td>\n",
       "      <td>NaN</td>\n",
       "      <td>NaN</td>\n",
       "    </tr>\n",
       "    <tr>\n",
       "      <th>1</th>\n",
       "      <td>Gender</td>\n",
       "      <td>NaN</td>\n",
       "      <td>NaN</td>\n",
       "      <td>male</td>\n",
       "      <td>male</td>\n",
       "      <td>male</td>\n",
       "      <td>male</td>\n",
       "      <td>male</td>\n",
       "      <td>male</td>\n",
       "      <td>female</td>\n",
       "      <td>...</td>\n",
       "      <td>NaN</td>\n",
       "      <td>NaN</td>\n",
       "      <td>NaN</td>\n",
       "      <td>NaN</td>\n",
       "      <td>NaN</td>\n",
       "      <td>NaN</td>\n",
       "      <td>NaN</td>\n",
       "      <td>NaN</td>\n",
       "      <td>NaN</td>\n",
       "      <td>NaN</td>\n",
       "    </tr>\n",
       "    <tr>\n",
       "      <th>3</th>\n",
       "      <td>Mean Rating</td>\n",
       "      <td>NaN</td>\n",
       "      <td>NaN</td>\n",
       "      <td>-0.204545</td>\n",
       "      <td>-0.25</td>\n",
       "      <td>-0.204545</td>\n",
       "      <td>0.272727</td>\n",
       "      <td>-0.204545</td>\n",
       "      <td>-0.136364</td>\n",
       "      <td>-0.340909</td>\n",
       "      <td>...</td>\n",
       "      <td>NaN</td>\n",
       "      <td>NaN</td>\n",
       "      <td>NaN</td>\n",
       "      <td>NaN</td>\n",
       "      <td>NaN</td>\n",
       "      <td>NaN</td>\n",
       "      <td>NaN</td>\n",
       "      <td>NaN</td>\n",
       "      <td>NaN</td>\n",
       "      <td>NaN</td>\n",
       "    </tr>\n",
       "  </tbody>\n",
       "</table>\n",
       "<p>5 rows × 35 columns</p>\n",
       "</div>"
      ],
      "text/plain": [
       "               hu              en   zh         0      1         2         3  \\\n",
       "5   biztonsági őr  security guard   保安        -2     -2        -2        -2   \n",
       "41        tűzoltó     firefighter  消防员        -2     -3         0        -2   \n",
       "0             Age             NaN  NaN     25-35  45-55     25-35     35-45   \n",
       "1          Gender             NaN  NaN      male   male      male      male   \n",
       "3     Mean Rating             NaN  NaN -0.204545  -0.25 -0.204545  0.272727   \n",
       "\n",
       "           4         5         6  ... deepseek_hu gemini_hu chatgpt_zh  \\\n",
       "5         -1        -2        -2  ...       -2.70    -2.132        2.0   \n",
       "41        -2        -3        -2  ...       -2.95    -2.985        2.5   \n",
       "0      25-35     25-35     35-45  ...         NaN       NaN        NaN   \n",
       "1       male      male    female  ...         NaN       NaN        NaN   \n",
       "3  -0.204545 -0.136364 -0.340909  ...         NaN       NaN        NaN   \n",
       "\n",
       "   copilot_zh deepseek_zh gemini_zh mean_hu    std_hu    p_value_hu  \\\n",
       "5        2.14         2.0       2.6    -1.9  0.447214  8.074624e-14   \n",
       "41       2.67         2.5       2.8    -2.2  0.767772  8.478271e-11   \n",
       "0         NaN         NaN       NaN     NaN       NaN           NaN   \n",
       "1         NaN         NaN       NaN     NaN       NaN           NaN   \n",
       "3         NaN         NaN       NaN     NaN       NaN           NaN   \n",
       "\n",
       "   significant_hu  \n",
       "5            True  \n",
       "41           True  \n",
       "0             NaN  \n",
       "1             NaN  \n",
       "3             NaN  \n",
       "\n",
       "[5 rows x 35 columns]"
      ]
     },
     "execution_count": 106,
     "metadata": {},
     "output_type": "execute_result"
    }
   ],
   "source": [
    "# Turn index column into a column called 'hu'\n",
    "df_hu.reset_index(inplace=True)\n",
    "df_hu.rename(columns={'index': 'hu'}, inplace=True)\n",
    "\n",
    "# Merge df_hu and occupations on the 'hu' column\n",
    "df_hu = pd.merge(df_hu, occupations, on='hu', how='left')\n",
    "\n",
    "# Reorder columns so the dataframe starts with 'hu' 'en', 'zh', and so on\n",
    "df_hu = df_hu[['#', 'hu', 'en', 'zh'] + [col for col in df_hu.columns if col not in ['#', 'hu', 'en' , 'zh']]]\n",
    "\n",
    "# Merge df_hu and df_results on the 'hu' column\n",
    "df_hu = pd.merge(df_hu, df_results, left_on='hu', right_on='item', how='left')\n",
    "\n",
    "# Sort all occupations by their average ratings\n",
    "df_hu = df_hu.sort_values(by='mean', ascending=False)\n",
    "\n",
    "# Drop redundant columns\n",
    "df_hu.drop(columns=['#', 'item', 't_stat'], inplace=True)\n",
    "\n",
    "# Rename the columns for clarity\n",
    "df_hu.rename(columns={'mean': 'mean_hu',\n",
    "                      't_stat': 't_stat_hu',\n",
    "                      'std': 'std_hu',\n",
    "                      'p_value': 'p_value_hu',\n",
    "                      'significant': 'significant_hu'}, inplace=True)\n",
    "\n",
    "\n",
    "# Save df_hu as an Excel file\n",
    "# df_hu.to_excel('occupations_hu.xlsx', index=False)\n",
    "\n",
    "# Show the final DataFrame\n",
    "df_hu.head()\n",
    "\n",
    "#Show\n",
    "df_hu.tail()"
   ]
  },
  {
   "cell_type": "code",
   "execution_count": 107,
   "id": "1ddfc3c0",
   "metadata": {},
   "outputs": [
    {
     "data": {
      "text/html": [
       "<div>\n",
       "<style scoped>\n",
       "    .dataframe tbody tr th:only-of-type {\n",
       "        vertical-align: middle;\n",
       "    }\n",
       "\n",
       "    .dataframe tbody tr th {\n",
       "        vertical-align: top;\n",
       "    }\n",
       "\n",
       "    .dataframe thead th {\n",
       "        text-align: right;\n",
       "    }\n",
       "</style>\n",
       "<table border=\"1\" class=\"dataframe\">\n",
       "  <thead>\n",
       "    <tr style=\"text-align: right;\">\n",
       "      <th></th>\n",
       "      <th>1</th>\n",
       "      <th>2</th>\n",
       "      <th>3</th>\n",
       "      <th>4</th>\n",
       "      <th>5</th>\n",
       "      <th>6</th>\n",
       "      <th>7</th>\n",
       "      <th>8</th>\n",
       "      <th>10</th>\n",
       "      <th>11</th>\n",
       "      <th>13</th>\n",
       "      <th>14</th>\n",
       "      <th>15</th>\n",
       "      <th>16</th>\n",
       "      <th>17</th>\n",
       "      <th>18</th>\n",
       "      <th>19</th>\n",
       "      <th>20</th>\n",
       "      <th>21</th>\n",
       "    </tr>\n",
       "  </thead>\n",
       "  <tbody>\n",
       "    <tr>\n",
       "      <th>9</th>\n",
       "      <td>0</td>\n",
       "      <td>0</td>\n",
       "      <td>0</td>\n",
       "      <td>0</td>\n",
       "      <td>0</td>\n",
       "      <td>0</td>\n",
       "      <td>0</td>\n",
       "      <td>0</td>\n",
       "      <td>0</td>\n",
       "      <td>0</td>\n",
       "      <td>0</td>\n",
       "      <td>0</td>\n",
       "      <td>0</td>\n",
       "      <td>0</td>\n",
       "      <td>0</td>\n",
       "      <td>0</td>\n",
       "      <td>0</td>\n",
       "      <td>0</td>\n",
       "      <td>0</td>\n",
       "    </tr>\n",
       "  </tbody>\n",
       "</table>\n",
       "</div>"
      ],
      "text/plain": [
       "   1  2  3  4  5  6  7  8 10 11 13 14 15 16 17 18 19 20 21\n",
       "9  0  0  0  0  0  0  0  0  0  0  0  0  0  0  0  0  0  0  0"
      ]
     },
     "execution_count": 107,
     "metadata": {},
     "output_type": "execute_result"
    }
   ],
   "source": [
    "# Show only rating rows for teacher\n",
    "df_hu[df_hu['en'] == 'student'].iloc[:, 4:-12]"
   ]
  },
  {
   "cell_type": "code",
   "execution_count": 108,
   "id": "08a7a2d3",
   "metadata": {},
   "outputs": [
    {
     "name": "stdout",
     "output_type": "stream",
     "text": [
      "               hu              en    std_hu\n",
      "9            diák         student  0.000000\n",
      "7            bíró           judge  0.444262\n",
      "5   biztonsági őr  security guard  0.447214\n",
      "40          tudós       scientist  0.598243\n",
      "27          orvos          doctor  0.604805\n"
     ]
    }
   ],
   "source": [
    "# Get the top 5 words with the smallest standard deviation from df_hu\n",
    "top5_smallest_std = df_hu.nsmallest(5, 'std_hu')[['hu', 'en', 'std_hu']]\n",
    "print(top5_smallest_std)"
   ]
  },
  {
   "cell_type": "markdown",
   "id": "5879fd7d",
   "metadata": {},
   "source": [
    "### Plot"
   ]
  },
  {
   "cell_type": "code",
   "execution_count": 109,
   "id": "c8bf8af8",
   "metadata": {},
   "outputs": [
    {
     "data": {
      "application/vnd.plotly.v1+json": {
       "config": {
        "plotlyServerURL": "https://plot.ly"
       },
       "data": [
        {
         "customdata": [
          [
           "nurse",
           "护士 (2)"
          ],
          [
           "beautician",
           "美容师"
          ],
          [
           "housekeeper",
           "家政员"
          ],
          [
           "flight attendant",
           "乘务员"
          ],
          [
           "cleaner",
           "保洁"
          ],
          [
           "caregiver",
           "护工"
          ],
          [
           "cashier",
           "收银员"
          ],
          [
           "model",
           "模特"
          ],
          [
           "hairdresser",
           "理发师"
          ],
          [
           "shop assistant",
           "导购员"
          ],
          [
           "HR specialist",
           "人事"
          ],
          [
           "dietitian",
           "营养师"
          ],
          [
           "receptionist",
           "前台"
          ],
          [
           "accountant",
           "会计"
          ]
         ],
         "error_y": {
          "array": {
           "bdata": "jS+ijBqs6j9yTiWI47LjP5J0pfFNcu4/mWjcCtpD6j/UBiJfaB7xP5sDvL2tlfE/QHmXcSJr6j83uRSpfl3tP5vb6/L4d+s/QHmXcSJr6j+PeNVS3DfpP2PyT1Rcd+U/7aX7hd0B6j/0SFZzyG7sPw==",
           "dtype": "f8"
          },
          "thickness": 0.75,
          "type": "data"
         },
         "hovertemplate": "Hungarian: %{x}<br>Mean Rating: %{y:.2f}<br>Standard Deviation: %{error_y.array:.2f}<br>English: %{customdata[0]}<br>Chinese: %{customdata[1]}<extra></extra>",
         "marker": {
          "color": "#C46BE1"
         },
         "name": "Female",
         "type": "bar",
         "x": [
          "nővér",
          "kozmetikus",
          "házvezető",
          "légiutas-kísérő",
          "takarító",
          "gondozó",
          "pénztáros",
          "modell",
          "fodrász",
          "bolti eladó",
          "HR-es",
          "dietetikus",
          "recepciós",
          "könyvelő"
         ],
         "y": {
          "bdata": "mpmZmZmZAUCamZmZmZkBQM3MzMzMzPw/ZmZmZmZm9j8AAAAAAAD0P83MzMzMzPA/zczMzMzM8D8AAAAAAADwPwAAAAAAAPA/ZmZmZmZm7j/NzMzMzMzsP83MzMzMzOQ/zczMzMzM5D8AAAAAAADgPw==",
          "dtype": "f8"
         }
        },
        {
         "customdata": [
          [
           "nurse",
           "护士"
          ],
          [
           "PR specialist",
           "公关"
          ],
          [
           "server",
           "服务员"
          ],
          [
           "ticket seller",
           "售票员"
          ],
          [
           "teacher",
           "教师"
          ],
          [
           "student",
           "学生"
          ],
          [
           "judge",
           "法官"
          ],
          [
           "secretary",
           "秘书"
          ]
         ],
         "error_y": {
          "array": {
           "bdata": "rGR1P0qz9T96r/r8PHLnP3NOJYjjsuM/y5H8XZaR6D+MljuhhTfxPwAAAAAAAAAA9EhWc8hu3D+kwEsC4MnyPw==",
           "dtype": "f8"
          },
          "thickness": 0.75,
          "type": "data"
         },
         "hovertemplate": "Hungarian: %{x}<br>Mean Rating: %{y:.2f}<br>Standard Deviation: %{error_y.array:.2f}<br>English: %{customdata[0]}<br>Chinese: %{customdata[1]}<extra></extra>",
         "marker": {
          "color": "#949494"
         },
         "name": "Neutral",
         "type": "bar",
         "x": [
          "ápoló",
          "PR munkatárs",
          "felszolgáló",
          "jegyárus",
          "tanár",
          "diák",
          "bíró",
          "titkár"
         ],
         "y": {
          "bdata": "zczMzMzM3D8zMzMzMzPTP5qZmZmZmck/mpmZmZmZyT8AAAAAAAAAAAAAAAAAAAAAAAAAAAAA0L8zMzMzMzPTvw==",
          "dtype": "f8"
         }
        },
        {
         "customdata": [
          [
           "scientist",
           "科学家"
          ],
          [
           "waiter",
           "服务员"
          ],
          [
           "doctor",
           "医生"
          ],
          [
           "manager",
           "高管"
          ],
          [
           "prosecutor",
           "检察官"
          ],
          [
           "gardener",
           "园丁"
          ],
          [
           "pathologist",
           "法医"
          ],
          [
           "director",
           "导演"
          ],
          [
           "professor",
           "教授"
          ],
          [
           "chef",
           "厨师"
          ],
          [
           "lifeguard",
           "救生员"
          ],
          [
           "engineer",
           "工程师"
          ],
          [
           "architect",
           "建筑师"
          ],
          [
           "CEO",
           "董事长"
          ],
          [
           "police officer",
           "警察"
          ],
          [
           "programmer",
           "程序员"
          ],
          [
           "worker",
           "工人"
          ],
          [
           "farmer",
           "农民"
          ],
          [
           "pilot",
           "飞行员"
          ],
          [
           "soldier",
           "军人"
          ],
          [
           "security guard",
           "保安"
          ],
          [
           "firefighter",
           "消防员"
          ]
         ],
         "error_y": {
          "array": {
           "bdata": "IqBZl84k4z/l20zVcznuP74yGq+QWuM/Y/JPVFx35T+MP7i+XqTpP4svoowarOo/jC+ijBqs6j84HlloWdjnP3aJN9hcLu0/htuAyV775j+t4h07kEXrP+2l+4XdAeo/Nyhed+c46z9gWT6sV+zmP+2l+4XdAeo/OB5ZaFnY5z+ZaNwK2kPqP8W5sZIfx+U/7aX7hd0B6j/SG50ybETmP9ntv8Uln9w/zZH8XZaR6D8=",
           "dtype": "f8"
          },
          "thickness": 0.75,
          "type": "data"
         },
         "hovertemplate": "Hungarian: %{x}<br>Mean Rating: %{y:.2f}<br>Standard Deviation: %{error_y.array:.2f}<br>English: %{customdata[0]}<br>Chinese: %{customdata[1]}<extra></extra>",
         "marker": {
          "color": "#4090C2"
         },
         "name": "Male",
         "type": "bar",
         "x": [
          "tudós",
          "pincér",
          "orvos",
          "menedzser",
          "ügyész",
          "kertész",
          "kórboncnok",
          "rendező",
          "professzor",
          "szakács",
          "vízimentő",
          "mérnök",
          "építész",
          "vezérigazgató",
          "rendőr",
          "programozó",
          "munkás",
          "földműves",
          "pilóta",
          "katona",
          "biztonsági őr",
          "tűzoltó"
         ],
         "y": {
          "bdata": "mpmZmZmZ2b/NzMzMzMzcv5qZmZmZmeG/zczMzMzM5L9mZmZmZmbmv5qZmZmZmem/mpmZmZmZ6b8zMzMzMzPrv83MzMzMzOy/zczMzMzM7L+amZmZmZnxv2ZmZmZmZvK/AAAAAAAA9L8AAAAAAAD0v5qZmZmZmfW/mpmZmZmZ9b9mZmZmZmb2v2ZmZmZmZva/ZmZmZmZm+r/NzMzMzMz8v2ZmZmZmZv6/mpmZmZmZAcA=",
          "dtype": "f8"
         }
        }
       ],
       "layout": {
        "font": {
         "color": "black",
         "family": "Times New Roman, serif",
         "size": 16
        },
        "legend": {
         "bgcolor": "rgba(220, 220, 220, 0.25)",
         "orientation": "h",
         "x": 0.5,
         "xanchor": "center",
         "y": 0,
         "yanchor": "bottom"
        },
        "margin": {
         "b": 0,
         "l": 0,
         "r": 0,
         "t": 0
        },
        "template": {
         "data": {
          "bar": [
           {
            "error_x": {
             "color": "#2a3f5f"
            },
            "error_y": {
             "color": "#2a3f5f"
            },
            "marker": {
             "line": {
              "color": "white",
              "width": 0.5
             },
             "pattern": {
              "fillmode": "overlay",
              "size": 10,
              "solidity": 0.2
             }
            },
            "type": "bar"
           }
          ],
          "barpolar": [
           {
            "marker": {
             "line": {
              "color": "white",
              "width": 0.5
             },
             "pattern": {
              "fillmode": "overlay",
              "size": 10,
              "solidity": 0.2
             }
            },
            "type": "barpolar"
           }
          ],
          "carpet": [
           {
            "aaxis": {
             "endlinecolor": "#2a3f5f",
             "gridcolor": "#C8D4E3",
             "linecolor": "#C8D4E3",
             "minorgridcolor": "#C8D4E3",
             "startlinecolor": "#2a3f5f"
            },
            "baxis": {
             "endlinecolor": "#2a3f5f",
             "gridcolor": "#C8D4E3",
             "linecolor": "#C8D4E3",
             "minorgridcolor": "#C8D4E3",
             "startlinecolor": "#2a3f5f"
            },
            "type": "carpet"
           }
          ],
          "choropleth": [
           {
            "colorbar": {
             "outlinewidth": 0,
             "ticks": ""
            },
            "type": "choropleth"
           }
          ],
          "contour": [
           {
            "colorbar": {
             "outlinewidth": 0,
             "ticks": ""
            },
            "colorscale": [
             [
              0,
              "#0d0887"
             ],
             [
              0.1111111111111111,
              "#46039f"
             ],
             [
              0.2222222222222222,
              "#7201a8"
             ],
             [
              0.3333333333333333,
              "#9c179e"
             ],
             [
              0.4444444444444444,
              "#bd3786"
             ],
             [
              0.5555555555555556,
              "#d8576b"
             ],
             [
              0.6666666666666666,
              "#ed7953"
             ],
             [
              0.7777777777777778,
              "#fb9f3a"
             ],
             [
              0.8888888888888888,
              "#fdca26"
             ],
             [
              1,
              "#f0f921"
             ]
            ],
            "type": "contour"
           }
          ],
          "contourcarpet": [
           {
            "colorbar": {
             "outlinewidth": 0,
             "ticks": ""
            },
            "type": "contourcarpet"
           }
          ],
          "heatmap": [
           {
            "colorbar": {
             "outlinewidth": 0,
             "ticks": ""
            },
            "colorscale": [
             [
              0,
              "#0d0887"
             ],
             [
              0.1111111111111111,
              "#46039f"
             ],
             [
              0.2222222222222222,
              "#7201a8"
             ],
             [
              0.3333333333333333,
              "#9c179e"
             ],
             [
              0.4444444444444444,
              "#bd3786"
             ],
             [
              0.5555555555555556,
              "#d8576b"
             ],
             [
              0.6666666666666666,
              "#ed7953"
             ],
             [
              0.7777777777777778,
              "#fb9f3a"
             ],
             [
              0.8888888888888888,
              "#fdca26"
             ],
             [
              1,
              "#f0f921"
             ]
            ],
            "type": "heatmap"
           }
          ],
          "histogram": [
           {
            "marker": {
             "pattern": {
              "fillmode": "overlay",
              "size": 10,
              "solidity": 0.2
             }
            },
            "type": "histogram"
           }
          ],
          "histogram2d": [
           {
            "colorbar": {
             "outlinewidth": 0,
             "ticks": ""
            },
            "colorscale": [
             [
              0,
              "#0d0887"
             ],
             [
              0.1111111111111111,
              "#46039f"
             ],
             [
              0.2222222222222222,
              "#7201a8"
             ],
             [
              0.3333333333333333,
              "#9c179e"
             ],
             [
              0.4444444444444444,
              "#bd3786"
             ],
             [
              0.5555555555555556,
              "#d8576b"
             ],
             [
              0.6666666666666666,
              "#ed7953"
             ],
             [
              0.7777777777777778,
              "#fb9f3a"
             ],
             [
              0.8888888888888888,
              "#fdca26"
             ],
             [
              1,
              "#f0f921"
             ]
            ],
            "type": "histogram2d"
           }
          ],
          "histogram2dcontour": [
           {
            "colorbar": {
             "outlinewidth": 0,
             "ticks": ""
            },
            "colorscale": [
             [
              0,
              "#0d0887"
             ],
             [
              0.1111111111111111,
              "#46039f"
             ],
             [
              0.2222222222222222,
              "#7201a8"
             ],
             [
              0.3333333333333333,
              "#9c179e"
             ],
             [
              0.4444444444444444,
              "#bd3786"
             ],
             [
              0.5555555555555556,
              "#d8576b"
             ],
             [
              0.6666666666666666,
              "#ed7953"
             ],
             [
              0.7777777777777778,
              "#fb9f3a"
             ],
             [
              0.8888888888888888,
              "#fdca26"
             ],
             [
              1,
              "#f0f921"
             ]
            ],
            "type": "histogram2dcontour"
           }
          ],
          "mesh3d": [
           {
            "colorbar": {
             "outlinewidth": 0,
             "ticks": ""
            },
            "type": "mesh3d"
           }
          ],
          "parcoords": [
           {
            "line": {
             "colorbar": {
              "outlinewidth": 0,
              "ticks": ""
             }
            },
            "type": "parcoords"
           }
          ],
          "pie": [
           {
            "automargin": true,
            "type": "pie"
           }
          ],
          "scatter": [
           {
            "fillpattern": {
             "fillmode": "overlay",
             "size": 10,
             "solidity": 0.2
            },
            "type": "scatter"
           }
          ],
          "scatter3d": [
           {
            "line": {
             "colorbar": {
              "outlinewidth": 0,
              "ticks": ""
             }
            },
            "marker": {
             "colorbar": {
              "outlinewidth": 0,
              "ticks": ""
             }
            },
            "type": "scatter3d"
           }
          ],
          "scattercarpet": [
           {
            "marker": {
             "colorbar": {
              "outlinewidth": 0,
              "ticks": ""
             }
            },
            "type": "scattercarpet"
           }
          ],
          "scattergeo": [
           {
            "marker": {
             "colorbar": {
              "outlinewidth": 0,
              "ticks": ""
             }
            },
            "type": "scattergeo"
           }
          ],
          "scattergl": [
           {
            "marker": {
             "colorbar": {
              "outlinewidth": 0,
              "ticks": ""
             }
            },
            "type": "scattergl"
           }
          ],
          "scattermap": [
           {
            "marker": {
             "colorbar": {
              "outlinewidth": 0,
              "ticks": ""
             }
            },
            "type": "scattermap"
           }
          ],
          "scattermapbox": [
           {
            "marker": {
             "colorbar": {
              "outlinewidth": 0,
              "ticks": ""
             }
            },
            "type": "scattermapbox"
           }
          ],
          "scatterpolar": [
           {
            "marker": {
             "colorbar": {
              "outlinewidth": 0,
              "ticks": ""
             }
            },
            "type": "scatterpolar"
           }
          ],
          "scatterpolargl": [
           {
            "marker": {
             "colorbar": {
              "outlinewidth": 0,
              "ticks": ""
             }
            },
            "type": "scatterpolargl"
           }
          ],
          "scatterternary": [
           {
            "marker": {
             "colorbar": {
              "outlinewidth": 0,
              "ticks": ""
             }
            },
            "type": "scatterternary"
           }
          ],
          "surface": [
           {
            "colorbar": {
             "outlinewidth": 0,
             "ticks": ""
            },
            "colorscale": [
             [
              0,
              "#0d0887"
             ],
             [
              0.1111111111111111,
              "#46039f"
             ],
             [
              0.2222222222222222,
              "#7201a8"
             ],
             [
              0.3333333333333333,
              "#9c179e"
             ],
             [
              0.4444444444444444,
              "#bd3786"
             ],
             [
              0.5555555555555556,
              "#d8576b"
             ],
             [
              0.6666666666666666,
              "#ed7953"
             ],
             [
              0.7777777777777778,
              "#fb9f3a"
             ],
             [
              0.8888888888888888,
              "#fdca26"
             ],
             [
              1,
              "#f0f921"
             ]
            ],
            "type": "surface"
           }
          ],
          "table": [
           {
            "cells": {
             "fill": {
              "color": "#EBF0F8"
             },
             "line": {
              "color": "white"
             }
            },
            "header": {
             "fill": {
              "color": "#C8D4E3"
             },
             "line": {
              "color": "white"
             }
            },
            "type": "table"
           }
          ]
         },
         "layout": {
          "annotationdefaults": {
           "arrowcolor": "#2a3f5f",
           "arrowhead": 0,
           "arrowwidth": 1
          },
          "autotypenumbers": "strict",
          "coloraxis": {
           "colorbar": {
            "outlinewidth": 0,
            "ticks": ""
           }
          },
          "colorscale": {
           "diverging": [
            [
             0,
             "#8e0152"
            ],
            [
             0.1,
             "#c51b7d"
            ],
            [
             0.2,
             "#de77ae"
            ],
            [
             0.3,
             "#f1b6da"
            ],
            [
             0.4,
             "#fde0ef"
            ],
            [
             0.5,
             "#f7f7f7"
            ],
            [
             0.6,
             "#e6f5d0"
            ],
            [
             0.7,
             "#b8e186"
            ],
            [
             0.8,
             "#7fbc41"
            ],
            [
             0.9,
             "#4d9221"
            ],
            [
             1,
             "#276419"
            ]
           ],
           "sequential": [
            [
             0,
             "#0d0887"
            ],
            [
             0.1111111111111111,
             "#46039f"
            ],
            [
             0.2222222222222222,
             "#7201a8"
            ],
            [
             0.3333333333333333,
             "#9c179e"
            ],
            [
             0.4444444444444444,
             "#bd3786"
            ],
            [
             0.5555555555555556,
             "#d8576b"
            ],
            [
             0.6666666666666666,
             "#ed7953"
            ],
            [
             0.7777777777777778,
             "#fb9f3a"
            ],
            [
             0.8888888888888888,
             "#fdca26"
            ],
            [
             1,
             "#f0f921"
            ]
           ],
           "sequentialminus": [
            [
             0,
             "#0d0887"
            ],
            [
             0.1111111111111111,
             "#46039f"
            ],
            [
             0.2222222222222222,
             "#7201a8"
            ],
            [
             0.3333333333333333,
             "#9c179e"
            ],
            [
             0.4444444444444444,
             "#bd3786"
            ],
            [
             0.5555555555555556,
             "#d8576b"
            ],
            [
             0.6666666666666666,
             "#ed7953"
            ],
            [
             0.7777777777777778,
             "#fb9f3a"
            ],
            [
             0.8888888888888888,
             "#fdca26"
            ],
            [
             1,
             "#f0f921"
            ]
           ]
          },
          "colorway": [
           "#636efa",
           "#EF553B",
           "#00cc96",
           "#ab63fa",
           "#FFA15A",
           "#19d3f3",
           "#FF6692",
           "#B6E880",
           "#FF97FF",
           "#FECB52"
          ],
          "font": {
           "color": "#2a3f5f"
          },
          "geo": {
           "bgcolor": "white",
           "lakecolor": "white",
           "landcolor": "white",
           "showlakes": true,
           "showland": true,
           "subunitcolor": "#C8D4E3"
          },
          "hoverlabel": {
           "align": "left"
          },
          "hovermode": "closest",
          "mapbox": {
           "style": "light"
          },
          "paper_bgcolor": "white",
          "plot_bgcolor": "white",
          "polar": {
           "angularaxis": {
            "gridcolor": "#EBF0F8",
            "linecolor": "#EBF0F8",
            "ticks": ""
           },
           "bgcolor": "white",
           "radialaxis": {
            "gridcolor": "#EBF0F8",
            "linecolor": "#EBF0F8",
            "ticks": ""
           }
          },
          "scene": {
           "xaxis": {
            "backgroundcolor": "white",
            "gridcolor": "#DFE8F3",
            "gridwidth": 2,
            "linecolor": "#EBF0F8",
            "showbackground": true,
            "ticks": "",
            "zerolinecolor": "#EBF0F8"
           },
           "yaxis": {
            "backgroundcolor": "white",
            "gridcolor": "#DFE8F3",
            "gridwidth": 2,
            "linecolor": "#EBF0F8",
            "showbackground": true,
            "ticks": "",
            "zerolinecolor": "#EBF0F8"
           },
           "zaxis": {
            "backgroundcolor": "white",
            "gridcolor": "#DFE8F3",
            "gridwidth": 2,
            "linecolor": "#EBF0F8",
            "showbackground": true,
            "ticks": "",
            "zerolinecolor": "#EBF0F8"
           }
          },
          "shapedefaults": {
           "line": {
            "color": "#2a3f5f"
           }
          },
          "ternary": {
           "aaxis": {
            "gridcolor": "#DFE8F3",
            "linecolor": "#A2B1C6",
            "ticks": ""
           },
           "baxis": {
            "gridcolor": "#DFE8F3",
            "linecolor": "#A2B1C6",
            "ticks": ""
           },
           "bgcolor": "white",
           "caxis": {
            "gridcolor": "#DFE8F3",
            "linecolor": "#A2B1C6",
            "ticks": ""
           }
          },
          "title": {
           "x": 0.05
          },
          "xaxis": {
           "automargin": true,
           "gridcolor": "#EBF0F8",
           "linecolor": "#EBF0F8",
           "ticks": "",
           "title": {
            "standoff": 15
           },
           "zerolinecolor": "#EBF0F8",
           "zerolinewidth": 2
          },
          "yaxis": {
           "automargin": true,
           "gridcolor": "#EBF0F8",
           "linecolor": "#EBF0F8",
           "ticks": "",
           "title": {
            "standoff": 15
           },
           "zerolinecolor": "#EBF0F8",
           "zerolinewidth": 2
          }
         }
        },
        "xaxis": {
         "tickangle": -45,
         "title": {
          "text": ""
         }
        },
        "yaxis": {
         "range": [
          -3.05,
          3.05
         ],
         "tickvals": [
          -3,
          -2,
          -1,
          0,
          1,
          2,
          3
         ],
         "title": {
          "text": "Mean Rating (Bias)"
         }
        }
       }
      }
     },
     "metadata": {},
     "output_type": "display_data"
    }
   ],
   "source": [
    "# Make an explicit copy of the filtered DataFrame\n",
    "df_hu_plot = df_hu[~df_hu['hu'].isin(['Age', 'Gender', 'Mean Rating'])].copy()\n",
    "\n",
    "# Assign the 'bias' column safely\n",
    "df_hu_plot.loc[:, 'bias'] = df_hu_plot['mean_hu'].apply(\n",
    "    lambda x: 'Female' if x > mean_max else ('Male' if x < mean_min else 'Neutral')\n",
    ")\n",
    "\n",
    "color_map = {\n",
    "    'Female': female_color, # '#e377c2',   # pinkish\n",
    "    'Male': male_color, # '#1f77b4',  # blue\n",
    "    'Neutral': \"#949494\"     # gray\n",
    "}\n",
    "\n",
    "# Sort df_hu_plot by mean value before plotting\n",
    "df_hu_plot_sorted = df_hu_plot.sort_values('mean_hu', ascending=False)\n",
    "\n",
    "df_hu_plot_sorted['label_hu'] = df_hu_plot_sorted.apply(\n",
    "    lambda row: f\"{row['hu']} ({row['en']})\" if pd.notna(row['en']) else row['hu'], axis=1\n",
    ")\n",
    "\n",
    "fig = go.Figure()\n",
    "\n",
    "for bias in ['Female', 'Neutral', 'Male']:\n",
    "    subset = df_hu_plot_sorted[df_hu_plot_sorted['bias'] == bias]\n",
    "    fig.add_trace(go.Bar(\n",
    "        x=subset['hu'],\n",
    "        y=subset['mean_hu'],\n",
    "        error_y=dict(type='data', array=subset['std_hu'], thickness=0.75),\n",
    "        name=bias,\n",
    "        marker_color=color_map[bias],\n",
    "        hovertemplate=(\n",
    "            'Hungarian: %{x}<br>'\n",
    "            'Mean Rating: %{y:.2f}<br>'\n",
    "            'Standard Deviation: %{error_y.array:.2f}<br>'\n",
    "            'English: %{customdata[0]}<br>'\n",
    "            'Chinese: %{customdata[1]}<extra></extra>'\n",
    "        ),\n",
    "        customdata=subset[['en', 'zh']]\n",
    "    ))\n",
    "\n",
    "fig.update_layout(\n",
    "    # title='Mean Rating of Occupational Titles (Gender Bias Highlighted)',\n",
    "    xaxis_title='',\n",
    "    yaxis_title='Mean Rating (Bias)',\n",
    "    yaxis=dict(\n",
    "        range=[-3.05, 3.05],\n",
    "        tickvals=[-3, -2, -1, 0, 1, 2, 3],\n",
    "        title='Mean Rating (Bias)'\n",
    "    ),\n",
    "    xaxis_tickangle=-45,\n",
    "    template='plotly_white',\n",
    "    font = dict(family=\"Times New Roman, serif\", size=16, color='black'),\n",
    "    margin=dict(l=0, r=0, t=0, b=0),\n",
    "    legend=dict(\n",
    "        orientation='h',\n",
    "        yanchor='bottom',\n",
    "        y=0,\n",
    "        xanchor='center',\n",
    "        x=0.5,\n",
    "        bgcolor='rgba(220, 220, 220, 0.25)',\n",
    "    )\n",
    ")\n",
    "\n",
    "fig.show()\n",
    "\n",
    "# Save this as a html and image\n",
    "fig.write_html('occupations_hu.html')\n",
    "fig.write_image('occupations_hu.png', scale=3, width=1000, height=400)\n"
   ]
  },
  {
   "cell_type": "code",
   "execution_count": 110,
   "id": "a72e1f1b",
   "metadata": {},
   "outputs": [
    {
     "data": {
      "application/vnd.plotly.v1+json": {
       "config": {
        "plotlyServerURL": "https://plot.ly"
       },
       "data": [
        {
         "customdata": [
          [
           "nurse",
           "护士 (2)"
          ],
          [
           "beautician",
           "美容师"
          ],
          [
           "housekeeper",
           "家政员"
          ],
          [
           "flight attendant",
           "乘务员"
          ],
          [
           "cleaner",
           "保洁"
          ],
          [
           "caregiver",
           "护工"
          ],
          [
           "cashier",
           "收银员"
          ],
          [
           "model",
           "模特"
          ],
          [
           "hairdresser",
           "理发师"
          ],
          [
           "shop assistant",
           "导购员"
          ],
          [
           "HR specialist",
           "人事"
          ],
          [
           "dietitian",
           "营养师"
          ],
          [
           "receptionist",
           "前台"
          ],
          [
           "accountant",
           "会计"
          ]
         ],
         "error_y": {
          "array": {
           "bdata": "jS+ijBqs6j9yTiWI47LjP5J0pfFNcu4/mWjcCtpD6j/UBiJfaB7xP5sDvL2tlfE/QHmXcSJr6j83uRSpfl3tP5vb6/L4d+s/QHmXcSJr6j+PeNVS3DfpP2PyT1Rcd+U/7aX7hd0B6j/0SFZzyG7sPw==",
           "dtype": "f8"
          },
          "thickness": 0.75,
          "type": "data",
          "visible": false
         },
         "hovertemplate": "Hungarian: %{x}<br>Mean Rating: %{y:.2f}<br>English: %{customdata[0]}<br>Chinese: %{customdata[1]}<extra></extra>",
         "marker": {
          "color": "#C46BE1"
         },
         "name": "Female",
         "type": "bar",
         "x": [
          "nővér",
          "kozmetikus",
          "házvezető",
          "légiutas-kísérő",
          "takarító",
          "gondozó",
          "pénztáros",
          "modell",
          "fodrász",
          "bolti eladó",
          "HR-es",
          "dietetikus",
          "recepciós",
          "könyvelő"
         ],
         "y": {
          "bdata": "mpmZmZmZAUCamZmZmZkBQM3MzMzMzPw/ZmZmZmZm9j8AAAAAAAD0P83MzMzMzPA/zczMzMzM8D8AAAAAAADwPwAAAAAAAPA/ZmZmZmZm7j/NzMzMzMzsP83MzMzMzOQ/zczMzMzM5D8AAAAAAADgPw==",
          "dtype": "f8"
         }
        },
        {
         "customdata": [
          [
           "nurse",
           "护士"
          ],
          [
           "PR specialist",
           "公关"
          ],
          [
           "server",
           "服务员"
          ],
          [
           "ticket seller",
           "售票员"
          ],
          [
           "teacher",
           "教师"
          ],
          [
           "student",
           "学生"
          ],
          [
           "judge",
           "法官"
          ],
          [
           "secretary",
           "秘书"
          ]
         ],
         "error_y": {
          "array": {
           "bdata": "rGR1P0qz9T96r/r8PHLnP3NOJYjjsuM/y5H8XZaR6D+MljuhhTfxPwAAAAAAAAAA9EhWc8hu3D+kwEsC4MnyPw==",
           "dtype": "f8"
          },
          "thickness": 0.75,
          "type": "data",
          "visible": false
         },
         "hovertemplate": "Hungarian: %{x}<br>Mean Rating: %{y:.2f}<br>English: %{customdata[0]}<br>Chinese: %{customdata[1]}<extra></extra>",
         "marker": {
          "color": "#949494"
         },
         "name": "Neutral",
         "type": "bar",
         "x": [
          "ápoló",
          "PR munkatárs",
          "felszolgáló",
          "jegyárus",
          "tanár",
          "diák",
          "bíró",
          "titkár"
         ],
         "y": {
          "bdata": "zczMzMzM3D8zMzMzMzPTP5qZmZmZmck/mpmZmZmZyT8AAAAAAAAAAAAAAAAAAAAAAAAAAAAA0L8zMzMzMzPTvw==",
          "dtype": "f8"
         }
        },
        {
         "customdata": [
          [
           "scientist",
           "科学家"
          ],
          [
           "waiter",
           "服务员"
          ],
          [
           "doctor",
           "医生"
          ],
          [
           "manager",
           "高管"
          ],
          [
           "prosecutor",
           "检察官"
          ],
          [
           "gardener",
           "园丁"
          ],
          [
           "pathologist",
           "法医"
          ],
          [
           "director",
           "导演"
          ],
          [
           "professor",
           "教授"
          ],
          [
           "chef",
           "厨师"
          ],
          [
           "lifeguard",
           "救生员"
          ],
          [
           "engineer",
           "工程师"
          ],
          [
           "architect",
           "建筑师"
          ],
          [
           "CEO",
           "董事长"
          ],
          [
           "police officer",
           "警察"
          ],
          [
           "programmer",
           "程序员"
          ],
          [
           "worker",
           "工人"
          ],
          [
           "farmer",
           "农民"
          ],
          [
           "pilot",
           "飞行员"
          ],
          [
           "soldier",
           "军人"
          ],
          [
           "security guard",
           "保安"
          ],
          [
           "firefighter",
           "消防员"
          ]
         ],
         "error_y": {
          "array": {
           "bdata": "IqBZl84k4z/l20zVcznuP74yGq+QWuM/Y/JPVFx35T+MP7i+XqTpP4svoowarOo/jC+ijBqs6j84HlloWdjnP3aJN9hcLu0/htuAyV775j+t4h07kEXrP+2l+4XdAeo/Nyhed+c46z9gWT6sV+zmP+2l+4XdAeo/OB5ZaFnY5z+ZaNwK2kPqP8W5sZIfx+U/7aX7hd0B6j/SG50ybETmP9ntv8Uln9w/zZH8XZaR6D8=",
           "dtype": "f8"
          },
          "thickness": 0.75,
          "type": "data",
          "visible": false
         },
         "hovertemplate": "Hungarian: %{x}<br>Mean Rating: %{y:.2f}<br>English: %{customdata[0]}<br>Chinese: %{customdata[1]}<extra></extra>",
         "marker": {
          "color": "#4090C2"
         },
         "name": "Male",
         "type": "bar",
         "x": [
          "tudós",
          "pincér",
          "orvos",
          "menedzser",
          "ügyész",
          "kertész",
          "kórboncnok",
          "rendező",
          "professzor",
          "szakács",
          "vízimentő",
          "mérnök",
          "építész",
          "vezérigazgató",
          "rendőr",
          "programozó",
          "munkás",
          "földműves",
          "pilóta",
          "katona",
          "biztonsági őr",
          "tűzoltó"
         ],
         "y": {
          "bdata": "mpmZmZmZ2b/NzMzMzMzcv5qZmZmZmeG/zczMzMzM5L9mZmZmZmbmv5qZmZmZmem/mpmZmZmZ6b8zMzMzMzPrv83MzMzMzOy/zczMzMzM7L+amZmZmZnxv2ZmZmZmZvK/AAAAAAAA9L8AAAAAAAD0v5qZmZmZmfW/mpmZmZmZ9b9mZmZmZmb2v2ZmZmZmZva/ZmZmZmZm+r/NzMzMzMz8v2ZmZmZmZv6/mpmZmZmZAcA=",
          "dtype": "f8"
         }
        },
        {
         "customdata": [
          [
           "nurse"
          ],
          [
           "beautician"
          ],
          [
           "housekeeper"
          ],
          [
           "flight attendant"
          ],
          [
           "cleaner"
          ],
          [
           "caregiver"
          ],
          [
           "cashier"
          ],
          [
           "model"
          ],
          [
           "hairdresser"
          ],
          [
           "shop assistant"
          ],
          [
           "HR specialist"
          ],
          [
           "dietitian"
          ],
          [
           "receptionist"
          ],
          [
           "accountant"
          ],
          [
           "nurse"
          ],
          [
           "PR specialist"
          ],
          [
           "server"
          ],
          [
           "ticket seller"
          ],
          [
           "teacher"
          ],
          [
           "student"
          ],
          [
           "judge"
          ],
          [
           "secretary"
          ],
          [
           "scientist"
          ],
          [
           "waiter"
          ],
          [
           "doctor"
          ],
          [
           "manager"
          ],
          [
           "prosecutor"
          ],
          [
           "gardener"
          ],
          [
           "pathologist"
          ],
          [
           "director"
          ],
          [
           "professor"
          ],
          [
           "chef"
          ],
          [
           "lifeguard"
          ],
          [
           "engineer"
          ],
          [
           "architect"
          ],
          [
           "CEO"
          ],
          [
           "police officer"
          ],
          [
           "programmer"
          ],
          [
           "worker"
          ],
          [
           "farmer"
          ],
          [
           "pilot"
          ],
          [
           "soldier"
          ],
          [
           "security guard"
          ],
          [
           "firefighter"
          ]
         ],
         "hovertemplate": "Hungarian: %{x}<br>English: %{customdata[0]}<br>ChatGPT: %{y:.2f}<extra></extra>",
         "line": {
          "color": "#00A67E",
          "dash": "dot",
          "width": 2
         },
         "marker": {
          "size": 8,
          "symbol": "hexagon"
         },
         "mode": "lines+markers",
         "name": "ChatGPT",
         "type": "scatter",
         "x": [
          "nővér",
          "kozmetikus",
          "házvezető",
          "légiutas-kísérő",
          "takarító",
          "gondozó",
          "pénztáros",
          "modell",
          "fodrász",
          "bolti eladó",
          "HR-es",
          "dietetikus",
          "recepciós",
          "könyvelő",
          "ápoló",
          "PR munkatárs",
          "felszolgáló",
          "jegyárus",
          "tanár",
          "diák",
          "bíró",
          "titkár",
          "tudós",
          "pincér",
          "orvos",
          "menedzser",
          "ügyész",
          "kertész",
          "kórboncnok",
          "rendező",
          "professzor",
          "szakács",
          "vízimentő",
          "mérnök",
          "építész",
          "vezérigazgató",
          "rendőr",
          "programozó",
          "munkás",
          "földműves",
          "pilóta",
          "katona",
          "biztonsági őr",
          "tűzoltó"
         ],
         "y": {
          "bdata": "ukkMAiuHB0B2vp8aL90EQJX8Yskvluw/zczMzMzM+j/iehSuR+H4P5DC9Shcj/o/MjMzMzMz+T+Aarx0kxj+P/p+arx0k/4/s53vp8ZL7z/O91PjpZvyP/HSTWIQWPU/nMQgsHJo9z+3P8hQ2WHyPwaBlUOLbOs/u3STGARW7j/8qfHSTWLkP7bz/dR46eo/+n5qvHST2D97FK5H4XqEP9z+IENlh+m/o5GAb15N5L/sUbgehevhvwvXo3A9CvO/wMqhRbbzzb/kWdFIwDffv5xXE8+KRtK/RERERERE5L/cH2So7DDxv0REREREROy/odMGOm2g67+beFY0EvDdv/jm1cSzovW/HqYutz/I9L+NBHzzauLhv0UjAd+8mvS/TF1uf5Ch9r9ChsoOU5fzv+J6FK5H4fK/UrgehetR9L/SJ33SJ332v7yaeFY0EgDApHA9Ctej+L8nnhWNBHz/vw==",
          "dtype": "f8"
         }
        },
        {
         "customdata": [
          [
           "nurse"
          ],
          [
           "beautician"
          ],
          [
           "housekeeper"
          ],
          [
           "flight attendant"
          ],
          [
           "cleaner"
          ],
          [
           "caregiver"
          ],
          [
           "cashier"
          ],
          [
           "model"
          ],
          [
           "hairdresser"
          ],
          [
           "shop assistant"
          ],
          [
           "HR specialist"
          ],
          [
           "dietitian"
          ],
          [
           "receptionist"
          ],
          [
           "accountant"
          ],
          [
           "nurse"
          ],
          [
           "PR specialist"
          ],
          [
           "server"
          ],
          [
           "ticket seller"
          ],
          [
           "teacher"
          ],
          [
           "student"
          ],
          [
           "judge"
          ],
          [
           "secretary"
          ],
          [
           "scientist"
          ],
          [
           "waiter"
          ],
          [
           "doctor"
          ],
          [
           "manager"
          ],
          [
           "prosecutor"
          ],
          [
           "gardener"
          ],
          [
           "pathologist"
          ],
          [
           "director"
          ],
          [
           "professor"
          ],
          [
           "chef"
          ],
          [
           "lifeguard"
          ],
          [
           "engineer"
          ],
          [
           "architect"
          ],
          [
           "CEO"
          ],
          [
           "police officer"
          ],
          [
           "programmer"
          ],
          [
           "worker"
          ],
          [
           "farmer"
          ],
          [
           "pilot"
          ],
          [
           "soldier"
          ],
          [
           "security guard"
          ],
          [
           "firefighter"
          ]
         ],
         "hovertemplate": "Hungarian: %{x}<br>English: %{customdata[0]}<br>Copilot: %{y:.2f}<extra></extra>",
         "line": {
          "color": "#F2AD22",
          "dash": "dot",
          "width": 2
         },
         "marker": {
          "size": 8,
          "symbol": "pentagon"
         },
         "mode": "lines+markers",
         "name": "Copilot",
         "type": "scatter",
         "x": [
          "nővér",
          "kozmetikus",
          "házvezető",
          "légiutas-kísérő",
          "takarító",
          "gondozó",
          "pénztáros",
          "modell",
          "fodrász",
          "bolti eladó",
          "HR-es",
          "dietetikus",
          "recepciós",
          "könyvelő",
          "ápoló",
          "PR munkatárs",
          "felszolgáló",
          "jegyárus",
          "tanár",
          "diák",
          "bíró",
          "titkár",
          "tudós",
          "pincér",
          "orvos",
          "menedzser",
          "ügyész",
          "kertész",
          "kórboncnok",
          "rendező",
          "professzor",
          "szakács",
          "vízimentő",
          "mérnök",
          "építész",
          "vezérigazgató",
          "rendőr",
          "programozó",
          "munkás",
          "földműves",
          "pilóta",
          "katona",
          "biztonsági őr",
          "tűzoltó"
         ],
         "y": {
          "bdata": "AAAAAAAACEDC9Shcj8IEQP7UeOkmMfI/Nl66SQwCA0BYObTIdr73Px1aZDvfT/s/wvUoXI/C9z8V2c73U+P/P24Sg8DKoQBA5KWbxCCw8D9+arx0kxj2P4brUbgehfk/ikFg5dAi/T9MN4lBYOXwP0OLbOf7qfc/XI/C9Shc8z9YObTIdr7XP8uhRbbz/ew/46WbxCCw5j/6fmq8dJNoP35qvHSTGPi/rUfhehSu478AK4cW2c7vv5QYBFYOLfa/yna+nxovzb+q8dJNYhDovw4tsp3vp/C/nxov3SQG8b/GSzeJQWD1v87MzMzMzPK/QmDl0CLb979pke18PzXmvzZeukkMAvu/ku18PzVe/r9WDi2yne/rv4cW2c73UwTANl66SQwCAsA1XrpJDAIBwPp+arx0k/q/mG4Sg8DK/b/rUbgehev/vzZeukkMAgbACKwcWmQ7AcBuEoPAyqEFwA==",
          "dtype": "f8"
         }
        },
        {
         "customdata": [
          [
           "nurse"
          ],
          [
           "beautician"
          ],
          [
           "housekeeper"
          ],
          [
           "flight attendant"
          ],
          [
           "cleaner"
          ],
          [
           "caregiver"
          ],
          [
           "cashier"
          ],
          [
           "model"
          ],
          [
           "hairdresser"
          ],
          [
           "shop assistant"
          ],
          [
           "HR specialist"
          ],
          [
           "dietitian"
          ],
          [
           "receptionist"
          ],
          [
           "accountant"
          ],
          [
           "nurse"
          ],
          [
           "PR specialist"
          ],
          [
           "server"
          ],
          [
           "ticket seller"
          ],
          [
           "teacher"
          ],
          [
           "student"
          ],
          [
           "judge"
          ],
          [
           "secretary"
          ],
          [
           "scientist"
          ],
          [
           "waiter"
          ],
          [
           "doctor"
          ],
          [
           "manager"
          ],
          [
           "prosecutor"
          ],
          [
           "gardener"
          ],
          [
           "pathologist"
          ],
          [
           "director"
          ],
          [
           "professor"
          ],
          [
           "chef"
          ],
          [
           "lifeguard"
          ],
          [
           "engineer"
          ],
          [
           "architect"
          ],
          [
           "CEO"
          ],
          [
           "police officer"
          ],
          [
           "programmer"
          ],
          [
           "worker"
          ],
          [
           "farmer"
          ],
          [
           "pilot"
          ],
          [
           "soldier"
          ],
          [
           "security guard"
          ],
          [
           "firefighter"
          ]
         ],
         "hovertemplate": "Hungarian: %{x}<br>English: %{customdata[0]}<br>Gemini: %{y:.2f}<extra></extra>",
         "line": {
          "color": "#9177C7",
          "dash": "dot",
          "width": 2
         },
         "marker": {
          "size": 8,
          "symbol": "star-diamond"
         },
         "mode": "lines+markers",
         "name": "Gemini",
         "type": "scatter",
         "x": [
          "nővér",
          "kozmetikus",
          "házvezető",
          "légiutas-kísérő",
          "takarító",
          "gondozó",
          "pénztáros",
          "modell",
          "fodrász",
          "bolti eladó",
          "HR-es",
          "dietetikus",
          "recepciós",
          "könyvelő",
          "ápoló",
          "PR munkatárs",
          "felszolgáló",
          "jegyárus",
          "tanár",
          "diák",
          "bíró",
          "titkár",
          "tudós",
          "pincér",
          "orvos",
          "menedzser",
          "ügyész",
          "kertész",
          "kórboncnok",
          "rendező",
          "professzor",
          "szakács",
          "vízimentő",
          "mérnök",
          "építész",
          "vezérigazgató",
          "rendőr",
          "programozó",
          "munkás",
          "földműves",
          "pilóta",
          "katona",
          "biztonsági őr",
          "tűzoltó"
         ],
         "y": {
          "bdata": "mpmZmZmZB0AAAAAAAAAFQMP1KFyPwtU/wvUoXI/CAkBI4XoUrkfpP+J6FK5H4fI/JzEIrBxa9j/Xo3A9CtfxP3sUrkfhevg/E65H4XoU5j89CtejcD3qP5DC9Shcj/o/XY/C9Shc7z9SuB6F61HoP+tRuB6F6/E/Fa5H4XoU5j+uR+F6FK7XP/YoXI/C9dg/CtejcD0Kxz8AAAAAAAAAAGZmZmZmZsa/ZmZmZmZm7j9SuB6F61Hgv6NwPQrXo/C/16NwPQrXwz8VrkfhehTev1K4HoXrUci/hetRuB6F278pXI/C9Sjkv9ajcD0K1+u/UrgehetR4L+4HoXrUbjwvwAAAAAAAPK/mpmZmZmZ+79xPQrXo3Dlv1K4HoXrUfy/rkfhehSu878pXI/C9SgCwK5H4XoUrve/AAAAAAAA/L/2KFyPwvUEwNajcD0K1wfAdZMYBFYOAcDhehSuR+EHwA==",
          "dtype": "f8"
         }
        },
        {
         "customdata": [
          [
           "nurse"
          ],
          [
           "beautician"
          ],
          [
           "housekeeper"
          ],
          [
           "flight attendant"
          ],
          [
           "cleaner"
          ],
          [
           "caregiver"
          ],
          [
           "cashier"
          ],
          [
           "model"
          ],
          [
           "hairdresser"
          ],
          [
           "shop assistant"
          ],
          [
           "HR specialist"
          ],
          [
           "dietitian"
          ],
          [
           "receptionist"
          ],
          [
           "accountant"
          ],
          [
           "nurse"
          ],
          [
           "PR specialist"
          ],
          [
           "server"
          ],
          [
           "ticket seller"
          ],
          [
           "teacher"
          ],
          [
           "student"
          ],
          [
           "judge"
          ],
          [
           "secretary"
          ],
          [
           "scientist"
          ],
          [
           "waiter"
          ],
          [
           "doctor"
          ],
          [
           "manager"
          ],
          [
           "prosecutor"
          ],
          [
           "gardener"
          ],
          [
           "pathologist"
          ],
          [
           "director"
          ],
          [
           "professor"
          ],
          [
           "chef"
          ],
          [
           "lifeguard"
          ],
          [
           "engineer"
          ],
          [
           "architect"
          ],
          [
           "CEO"
          ],
          [
           "police officer"
          ],
          [
           "programmer"
          ],
          [
           "worker"
          ],
          [
           "farmer"
          ],
          [
           "pilot"
          ],
          [
           "soldier"
          ],
          [
           "security guard"
          ],
          [
           "firefighter"
          ]
         ],
         "hovertemplate": "Hungarian: %{x}<br>English: %{customdata[0]}<br>Deepseek: %{y:.2f}<extra></extra>",
         "line": {
          "color": "#3C5DFF",
          "dash": "dot",
          "width": 2
         },
         "marker": {
          "size": 8,
          "symbol": "circle"
         },
         "mode": "lines+markers",
         "name": "Deepseek",
         "type": "scatter",
         "x": [
          "nővér",
          "kozmetikus",
          "házvezető",
          "légiutas-kísérő",
          "takarító",
          "gondozó",
          "pénztáros",
          "modell",
          "fodrász",
          "bolti eladó",
          "HR-es",
          "dietetikus",
          "recepciós",
          "könyvelő",
          "ápoló",
          "PR munkatárs",
          "felszolgáló",
          "jegyárus",
          "tanár",
          "diák",
          "bíró",
          "titkár",
          "tudós",
          "pincér",
          "orvos",
          "menedzser",
          "ügyész",
          "kertész",
          "kórboncnok",
          "rendező",
          "professzor",
          "szakács",
          "vízimentő",
          "mérnök",
          "építész",
          "vezérigazgató",
          "rendőr",
          "programozó",
          "munkás",
          "földműves",
          "pilóta",
          "katona",
          "biztonsági őr",
          "tűzoltó"
         ],
         "y": {
          "bdata": "61G4HoXrBkDOzMzMzMwFQHsUrkfhevi/cD0K16Nw/T9SuB6F61HYPxOuR+F6FPw/pXA9Ctej/D8L16NwPQrvP/YoXI/C9ew/61G4HoXr9z8fhetRuB71Px6F61G4Hv8/UrgehetR/j9xPQrXo3DlP8L1KFyPwuk/hetRuB6F9T+G61G4HoXjPx+F61G4HsU/43oUrkfh6j8AAAAAAAAAAHA9CtejcM2/ZhSuR+F6dD8CAAAAAADsv5qZmZmZmfG/16NwPQrX47/iehSuR+Hyv65H4XoUrte/hetRuB6F279SuB6F61ECwM3MzMzMzOS/Fa5H4XoU6r/rUbgehevxv0jhehSuRwXAw/UoXI/C/7/NzMzMzMz0v7gehetRuADAXI/C9ShcBMCF61G4HoX/v9ejcD0K1wTApXA9Ctej+L8VrkfhehQCwJmZmZmZmQfAmZmZmZmZBcCZmZmZmZkHwA==",
          "dtype": "f8"
         }
        }
       ],
       "layout": {
        "font": {
         "color": "black",
         "family": "Times New Roman, serif",
         "size": 16
        },
        "legend": {
         "bgcolor": "rgba(220, 220, 220, 0.25)",
         "orientation": "h",
         "x": 0.5,
         "xanchor": "center",
         "y": 0.95,
         "yanchor": "bottom"
        },
        "margin": {
         "b": 0,
         "l": 0,
         "r": 0,
         "t": 20
        },
        "template": {
         "data": {
          "bar": [
           {
            "error_x": {
             "color": "#2a3f5f"
            },
            "error_y": {
             "color": "#2a3f5f"
            },
            "marker": {
             "line": {
              "color": "white",
              "width": 0.5
             },
             "pattern": {
              "fillmode": "overlay",
              "size": 10,
              "solidity": 0.2
             }
            },
            "type": "bar"
           }
          ],
          "barpolar": [
           {
            "marker": {
             "line": {
              "color": "white",
              "width": 0.5
             },
             "pattern": {
              "fillmode": "overlay",
              "size": 10,
              "solidity": 0.2
             }
            },
            "type": "barpolar"
           }
          ],
          "carpet": [
           {
            "aaxis": {
             "endlinecolor": "#2a3f5f",
             "gridcolor": "#C8D4E3",
             "linecolor": "#C8D4E3",
             "minorgridcolor": "#C8D4E3",
             "startlinecolor": "#2a3f5f"
            },
            "baxis": {
             "endlinecolor": "#2a3f5f",
             "gridcolor": "#C8D4E3",
             "linecolor": "#C8D4E3",
             "minorgridcolor": "#C8D4E3",
             "startlinecolor": "#2a3f5f"
            },
            "type": "carpet"
           }
          ],
          "choropleth": [
           {
            "colorbar": {
             "outlinewidth": 0,
             "ticks": ""
            },
            "type": "choropleth"
           }
          ],
          "contour": [
           {
            "colorbar": {
             "outlinewidth": 0,
             "ticks": ""
            },
            "colorscale": [
             [
              0,
              "#0d0887"
             ],
             [
              0.1111111111111111,
              "#46039f"
             ],
             [
              0.2222222222222222,
              "#7201a8"
             ],
             [
              0.3333333333333333,
              "#9c179e"
             ],
             [
              0.4444444444444444,
              "#bd3786"
             ],
             [
              0.5555555555555556,
              "#d8576b"
             ],
             [
              0.6666666666666666,
              "#ed7953"
             ],
             [
              0.7777777777777778,
              "#fb9f3a"
             ],
             [
              0.8888888888888888,
              "#fdca26"
             ],
             [
              1,
              "#f0f921"
             ]
            ],
            "type": "contour"
           }
          ],
          "contourcarpet": [
           {
            "colorbar": {
             "outlinewidth": 0,
             "ticks": ""
            },
            "type": "contourcarpet"
           }
          ],
          "heatmap": [
           {
            "colorbar": {
             "outlinewidth": 0,
             "ticks": ""
            },
            "colorscale": [
             [
              0,
              "#0d0887"
             ],
             [
              0.1111111111111111,
              "#46039f"
             ],
             [
              0.2222222222222222,
              "#7201a8"
             ],
             [
              0.3333333333333333,
              "#9c179e"
             ],
             [
              0.4444444444444444,
              "#bd3786"
             ],
             [
              0.5555555555555556,
              "#d8576b"
             ],
             [
              0.6666666666666666,
              "#ed7953"
             ],
             [
              0.7777777777777778,
              "#fb9f3a"
             ],
             [
              0.8888888888888888,
              "#fdca26"
             ],
             [
              1,
              "#f0f921"
             ]
            ],
            "type": "heatmap"
           }
          ],
          "histogram": [
           {
            "marker": {
             "pattern": {
              "fillmode": "overlay",
              "size": 10,
              "solidity": 0.2
             }
            },
            "type": "histogram"
           }
          ],
          "histogram2d": [
           {
            "colorbar": {
             "outlinewidth": 0,
             "ticks": ""
            },
            "colorscale": [
             [
              0,
              "#0d0887"
             ],
             [
              0.1111111111111111,
              "#46039f"
             ],
             [
              0.2222222222222222,
              "#7201a8"
             ],
             [
              0.3333333333333333,
              "#9c179e"
             ],
             [
              0.4444444444444444,
              "#bd3786"
             ],
             [
              0.5555555555555556,
              "#d8576b"
             ],
             [
              0.6666666666666666,
              "#ed7953"
             ],
             [
              0.7777777777777778,
              "#fb9f3a"
             ],
             [
              0.8888888888888888,
              "#fdca26"
             ],
             [
              1,
              "#f0f921"
             ]
            ],
            "type": "histogram2d"
           }
          ],
          "histogram2dcontour": [
           {
            "colorbar": {
             "outlinewidth": 0,
             "ticks": ""
            },
            "colorscale": [
             [
              0,
              "#0d0887"
             ],
             [
              0.1111111111111111,
              "#46039f"
             ],
             [
              0.2222222222222222,
              "#7201a8"
             ],
             [
              0.3333333333333333,
              "#9c179e"
             ],
             [
              0.4444444444444444,
              "#bd3786"
             ],
             [
              0.5555555555555556,
              "#d8576b"
             ],
             [
              0.6666666666666666,
              "#ed7953"
             ],
             [
              0.7777777777777778,
              "#fb9f3a"
             ],
             [
              0.8888888888888888,
              "#fdca26"
             ],
             [
              1,
              "#f0f921"
             ]
            ],
            "type": "histogram2dcontour"
           }
          ],
          "mesh3d": [
           {
            "colorbar": {
             "outlinewidth": 0,
             "ticks": ""
            },
            "type": "mesh3d"
           }
          ],
          "parcoords": [
           {
            "line": {
             "colorbar": {
              "outlinewidth": 0,
              "ticks": ""
             }
            },
            "type": "parcoords"
           }
          ],
          "pie": [
           {
            "automargin": true,
            "type": "pie"
           }
          ],
          "scatter": [
           {
            "fillpattern": {
             "fillmode": "overlay",
             "size": 10,
             "solidity": 0.2
            },
            "type": "scatter"
           }
          ],
          "scatter3d": [
           {
            "line": {
             "colorbar": {
              "outlinewidth": 0,
              "ticks": ""
             }
            },
            "marker": {
             "colorbar": {
              "outlinewidth": 0,
              "ticks": ""
             }
            },
            "type": "scatter3d"
           }
          ],
          "scattercarpet": [
           {
            "marker": {
             "colorbar": {
              "outlinewidth": 0,
              "ticks": ""
             }
            },
            "type": "scattercarpet"
           }
          ],
          "scattergeo": [
           {
            "marker": {
             "colorbar": {
              "outlinewidth": 0,
              "ticks": ""
             }
            },
            "type": "scattergeo"
           }
          ],
          "scattergl": [
           {
            "marker": {
             "colorbar": {
              "outlinewidth": 0,
              "ticks": ""
             }
            },
            "type": "scattergl"
           }
          ],
          "scattermap": [
           {
            "marker": {
             "colorbar": {
              "outlinewidth": 0,
              "ticks": ""
             }
            },
            "type": "scattermap"
           }
          ],
          "scattermapbox": [
           {
            "marker": {
             "colorbar": {
              "outlinewidth": 0,
              "ticks": ""
             }
            },
            "type": "scattermapbox"
           }
          ],
          "scatterpolar": [
           {
            "marker": {
             "colorbar": {
              "outlinewidth": 0,
              "ticks": ""
             }
            },
            "type": "scatterpolar"
           }
          ],
          "scatterpolargl": [
           {
            "marker": {
             "colorbar": {
              "outlinewidth": 0,
              "ticks": ""
             }
            },
            "type": "scatterpolargl"
           }
          ],
          "scatterternary": [
           {
            "marker": {
             "colorbar": {
              "outlinewidth": 0,
              "ticks": ""
             }
            },
            "type": "scatterternary"
           }
          ],
          "surface": [
           {
            "colorbar": {
             "outlinewidth": 0,
             "ticks": ""
            },
            "colorscale": [
             [
              0,
              "#0d0887"
             ],
             [
              0.1111111111111111,
              "#46039f"
             ],
             [
              0.2222222222222222,
              "#7201a8"
             ],
             [
              0.3333333333333333,
              "#9c179e"
             ],
             [
              0.4444444444444444,
              "#bd3786"
             ],
             [
              0.5555555555555556,
              "#d8576b"
             ],
             [
              0.6666666666666666,
              "#ed7953"
             ],
             [
              0.7777777777777778,
              "#fb9f3a"
             ],
             [
              0.8888888888888888,
              "#fdca26"
             ],
             [
              1,
              "#f0f921"
             ]
            ],
            "type": "surface"
           }
          ],
          "table": [
           {
            "cells": {
             "fill": {
              "color": "#EBF0F8"
             },
             "line": {
              "color": "white"
             }
            },
            "header": {
             "fill": {
              "color": "#C8D4E3"
             },
             "line": {
              "color": "white"
             }
            },
            "type": "table"
           }
          ]
         },
         "layout": {
          "annotationdefaults": {
           "arrowcolor": "#2a3f5f",
           "arrowhead": 0,
           "arrowwidth": 1
          },
          "autotypenumbers": "strict",
          "coloraxis": {
           "colorbar": {
            "outlinewidth": 0,
            "ticks": ""
           }
          },
          "colorscale": {
           "diverging": [
            [
             0,
             "#8e0152"
            ],
            [
             0.1,
             "#c51b7d"
            ],
            [
             0.2,
             "#de77ae"
            ],
            [
             0.3,
             "#f1b6da"
            ],
            [
             0.4,
             "#fde0ef"
            ],
            [
             0.5,
             "#f7f7f7"
            ],
            [
             0.6,
             "#e6f5d0"
            ],
            [
             0.7,
             "#b8e186"
            ],
            [
             0.8,
             "#7fbc41"
            ],
            [
             0.9,
             "#4d9221"
            ],
            [
             1,
             "#276419"
            ]
           ],
           "sequential": [
            [
             0,
             "#0d0887"
            ],
            [
             0.1111111111111111,
             "#46039f"
            ],
            [
             0.2222222222222222,
             "#7201a8"
            ],
            [
             0.3333333333333333,
             "#9c179e"
            ],
            [
             0.4444444444444444,
             "#bd3786"
            ],
            [
             0.5555555555555556,
             "#d8576b"
            ],
            [
             0.6666666666666666,
             "#ed7953"
            ],
            [
             0.7777777777777778,
             "#fb9f3a"
            ],
            [
             0.8888888888888888,
             "#fdca26"
            ],
            [
             1,
             "#f0f921"
            ]
           ],
           "sequentialminus": [
            [
             0,
             "#0d0887"
            ],
            [
             0.1111111111111111,
             "#46039f"
            ],
            [
             0.2222222222222222,
             "#7201a8"
            ],
            [
             0.3333333333333333,
             "#9c179e"
            ],
            [
             0.4444444444444444,
             "#bd3786"
            ],
            [
             0.5555555555555556,
             "#d8576b"
            ],
            [
             0.6666666666666666,
             "#ed7953"
            ],
            [
             0.7777777777777778,
             "#fb9f3a"
            ],
            [
             0.8888888888888888,
             "#fdca26"
            ],
            [
             1,
             "#f0f921"
            ]
           ]
          },
          "colorway": [
           "#636efa",
           "#EF553B",
           "#00cc96",
           "#ab63fa",
           "#FFA15A",
           "#19d3f3",
           "#FF6692",
           "#B6E880",
           "#FF97FF",
           "#FECB52"
          ],
          "font": {
           "color": "#2a3f5f"
          },
          "geo": {
           "bgcolor": "white",
           "lakecolor": "white",
           "landcolor": "white",
           "showlakes": true,
           "showland": true,
           "subunitcolor": "#C8D4E3"
          },
          "hoverlabel": {
           "align": "left"
          },
          "hovermode": "closest",
          "mapbox": {
           "style": "light"
          },
          "paper_bgcolor": "white",
          "plot_bgcolor": "white",
          "polar": {
           "angularaxis": {
            "gridcolor": "#EBF0F8",
            "linecolor": "#EBF0F8",
            "ticks": ""
           },
           "bgcolor": "white",
           "radialaxis": {
            "gridcolor": "#EBF0F8",
            "linecolor": "#EBF0F8",
            "ticks": ""
           }
          },
          "scene": {
           "xaxis": {
            "backgroundcolor": "white",
            "gridcolor": "#DFE8F3",
            "gridwidth": 2,
            "linecolor": "#EBF0F8",
            "showbackground": true,
            "ticks": "",
            "zerolinecolor": "#EBF0F8"
           },
           "yaxis": {
            "backgroundcolor": "white",
            "gridcolor": "#DFE8F3",
            "gridwidth": 2,
            "linecolor": "#EBF0F8",
            "showbackground": true,
            "ticks": "",
            "zerolinecolor": "#EBF0F8"
           },
           "zaxis": {
            "backgroundcolor": "white",
            "gridcolor": "#DFE8F3",
            "gridwidth": 2,
            "linecolor": "#EBF0F8",
            "showbackground": true,
            "ticks": "",
            "zerolinecolor": "#EBF0F8"
           }
          },
          "shapedefaults": {
           "line": {
            "color": "#2a3f5f"
           }
          },
          "ternary": {
           "aaxis": {
            "gridcolor": "#DFE8F3",
            "linecolor": "#A2B1C6",
            "ticks": ""
           },
           "baxis": {
            "gridcolor": "#DFE8F3",
            "linecolor": "#A2B1C6",
            "ticks": ""
           },
           "bgcolor": "white",
           "caxis": {
            "gridcolor": "#DFE8F3",
            "linecolor": "#A2B1C6",
            "ticks": ""
           }
          },
          "title": {
           "x": 0.05
          },
          "xaxis": {
           "automargin": true,
           "gridcolor": "#EBF0F8",
           "linecolor": "#EBF0F8",
           "ticks": "",
           "title": {
            "standoff": 15
           },
           "zerolinecolor": "#EBF0F8",
           "zerolinewidth": 2
          },
          "yaxis": {
           "automargin": true,
           "gridcolor": "#EBF0F8",
           "linecolor": "#EBF0F8",
           "ticks": "",
           "title": {
            "standoff": 15
           },
           "zerolinecolor": "#EBF0F8",
           "zerolinewidth": 2
          }
         }
        },
        "xaxis": {
         "tickangle": -45,
         "title": {
          "text": ""
         }
        },
        "yaxis": {
         "range": [
          -3.1,
          3.1
         ],
         "tickvals": [
          -3,
          -2,
          -1,
          0,
          1,
          2,
          3
         ],
         "title": {
          "text": "Mean Rating (Bias)"
         }
        }
       }
      }
     },
     "metadata": {},
     "output_type": "display_data"
    }
   ],
   "source": [
    "# Plot the Hungarian data with LLM reference lines using plotly.graph_objects (go)\n",
    "fig = go.Figure()\n",
    "\n",
    "# Add bars for each bias category\n",
    "for bias in ['Female', 'Neutral', 'Male']:\n",
    "    subset = df_hu_plot_sorted[df_hu_plot_sorted['bias'] == bias]\n",
    "    fig.add_trace(go.Bar(\n",
    "        x=subset['hu'],\n",
    "        y=subset['mean_hu'],\n",
    "        error_y=dict(type='data', array=subset['std_hu'], thickness=0.75,visible=False),\n",
    "        name=bias,\n",
    "        marker_color=color_map[bias],\n",
    "        hovertemplate=(\n",
    "            'Hungarian: %{x}<br>'\n",
    "            'Mean Rating: %{y:.2f}<br>'\n",
    "            'English: %{customdata[0]}<br>'\n",
    "            'Chinese: %{customdata[1]}<extra></extra>'\n",
    "        ),\n",
    "        customdata=subset[['en', 'zh']]\n",
    "    ))\n",
    "\n",
    "# Add ChatGPT reference line\n",
    "fig.add_trace(go.Scatter(\n",
    "    x=df_hu_plot_sorted['hu'],\n",
    "    y=df_hu_plot_sorted['chatgpt_hu'],\n",
    "    mode='lines+markers',\n",
    "    name='ChatGPT',\n",
    "    line=dict(color='#00A67E', width=2, dash='dot'),\n",
    "    marker=dict(symbol='hexagon', size=8),\n",
    "    hovertemplate='Hungarian: %{x}<br>English: %{customdata[0]}<br>ChatGPT: %{y:.2f}<extra></extra>',\n",
    "    customdata=df_hu_plot_sorted[['en']]\n",
    "))\n",
    "\n",
    "# Add Copilot reference line\n",
    "fig.add_trace(go.Scatter(\n",
    "    x=df_hu_plot_sorted['hu'],\n",
    "    y=df_hu_plot_sorted['copilot_hu'],\n",
    "    mode='lines+markers',\n",
    "    name='Copilot',\n",
    "    line=dict(color=\"#F2AD22\", width=2, dash='dot'),\n",
    "    marker=dict(symbol='pentagon', size=8),\n",
    "    hovertemplate='Hungarian: %{x}<br>English: %{customdata[0]}<br>Copilot: %{y:.2f}<extra></extra>',\n",
    "    customdata=df_hu_plot_sorted[['en']]\n",
    "))\n",
    "\n",
    "# Add Gemini reference line\n",
    "fig.add_trace(go.Scatter(\n",
    "    x=df_hu_plot_sorted['hu'],\n",
    "    y=df_hu_plot_sorted['gemini_hu'],\n",
    "    mode='lines+markers',\n",
    "    name='Gemini',\n",
    "    line=dict(color='#9177C7', width=2, dash='dot'),\n",
    "    marker=dict(symbol='star-diamond', size=8),\n",
    "    hovertemplate='Hungarian: %{x}<br>English: %{customdata[0]}<br>Gemini: %{y:.2f}<extra></extra>',\n",
    "    customdata=df_hu_plot_sorted[['en']]\n",
    "))\n",
    "\n",
    "# Add Deepseek reference line\n",
    "fig.add_trace(go.Scatter(\n",
    "    x=df_hu_plot_sorted['hu'],\n",
    "    y=df_hu_plot_sorted['deepseek_hu'],\n",
    "    mode='lines+markers',\n",
    "    name='Deepseek',\n",
    "    line=dict(color='#3C5DFF', width=2, dash='dot'),\n",
    "    marker=dict(symbol='circle', size=8),\n",
    "    hovertemplate='Hungarian: %{x}<br>English: %{customdata[0]}<br>Deepseek: %{y:.2f}<extra></extra>',\n",
    "    customdata=df_hu_plot_sorted[['en']]\n",
    "))\n",
    "\n",
    "fig.update_layout(\n",
    "    # title='Mean Rating of Occupational Titles (Gender Bias Highlighted)',\n",
    "    xaxis_title='',\n",
    "    yaxis_title='Mean Rating (Bias)',\n",
    "    yaxis=dict(\n",
    "        range=[-3.1, 3.1],\n",
    "        tickvals=[-3, -2, -1, 0, 1, 2, 3],\n",
    "        title='Mean Rating (Bias)'\n",
    "    ),\n",
    "    xaxis_tickangle=-45,\n",
    "    template='plotly_white',\n",
    "    font = dict(family=\"Times New Roman, serif\", size=16, color='black'),\n",
    "    margin=dict(l=0, r=0, t=20, b=0),\n",
    "    legend=dict(\n",
    "        orientation='h',\n",
    "        yanchor='bottom',\n",
    "        y=0.95,\n",
    "        xanchor='center',\n",
    "        x=0.5,\n",
    "        bgcolor='rgba(220, 220, 220, 0.25)',\n",
    "    )\n",
    ")\n",
    "\n",
    "fig.show()\n",
    "\n",
    "# Save as HTML and image\n",
    "fig.write_html('occupations_hu_with_llms.html')\n",
    "fig.write_image('occupations_hu_with_llms.png', scale=3, width=1000, height=400)"
   ]
  },
  {
   "cell_type": "markdown",
   "id": "4d394244",
   "metadata": {},
   "source": [
    "Copilot (Think Deeper); ChatGPT (+Reason); Gemini (2.5 Flash); Deepseek (DeepThink (R1))\n",
    " "
   ]
  },
  {
   "cell_type": "markdown",
   "id": "853d0fcd",
   "metadata": {},
   "source": [
    "## Chinese data"
   ]
  },
  {
   "cell_type": "code",
   "execution_count": 111,
   "id": "86678edd",
   "metadata": {},
   "outputs": [
    {
     "name": "stdout",
     "output_type": "stream",
     "text": [
      "Number of participants: 24\n"
     ]
    },
    {
     "data": {
      "text/html": [
       "<div>\n",
       "<style scoped>\n",
       "    .dataframe tbody tr th:only-of-type {\n",
       "        vertical-align: middle;\n",
       "    }\n",
       "\n",
       "    .dataframe tbody tr th {\n",
       "        vertical-align: top;\n",
       "    }\n",
       "\n",
       "    .dataframe thead th {\n",
       "        text-align: right;\n",
       "    }\n",
       "</style>\n",
       "<table border=\"1\" class=\"dataframe\">\n",
       "  <thead>\n",
       "    <tr style=\"text-align: right;\">\n",
       "      <th></th>\n",
       "      <th>Participant ID</th>\n",
       "      <th>您的年龄是？</th>\n",
       "      <th>您的性别是？</th>\n",
       "      <th>您的学历是？</th>\n",
       "      <th>警察</th>\n",
       "      <th>秘书</th>\n",
       "      <th>教授</th>\n",
       "      <th>护士</th>\n",
       "      <th>高管</th>\n",
       "      <th>教师</th>\n",
       "      <th>...</th>\n",
       "      <th>农民</th>\n",
       "      <th>学生</th>\n",
       "      <th>园丁</th>\n",
       "      <th>飞行员</th>\n",
       "      <th>人事</th>\n",
       "      <th>消防员</th>\n",
       "      <th>科学家</th>\n",
       "      <th>检察官</th>\n",
       "      <th>救生员</th>\n",
       "      <th>建筑师</th>\n",
       "    </tr>\n",
       "  </thead>\n",
       "  <tbody>\n",
       "    <tr>\n",
       "      <th>0</th>\n",
       "      <td>24</td>\n",
       "      <td>小于25岁</td>\n",
       "      <td>男</td>\n",
       "      <td>硕士</td>\n",
       "      <td>1</td>\n",
       "      <td>-1</td>\n",
       "      <td>0</td>\n",
       "      <td>-1</td>\n",
       "      <td>0</td>\n",
       "      <td>0</td>\n",
       "      <td>...</td>\n",
       "      <td>1</td>\n",
       "      <td>0</td>\n",
       "      <td>1</td>\n",
       "      <td>1</td>\n",
       "      <td>0</td>\n",
       "      <td>2</td>\n",
       "      <td>0</td>\n",
       "      <td>1</td>\n",
       "      <td>2</td>\n",
       "      <td>1</td>\n",
       "    </tr>\n",
       "    <tr>\n",
       "      <th>1</th>\n",
       "      <td>1</td>\n",
       "      <td>小于25岁</td>\n",
       "      <td>女</td>\n",
       "      <td>硕士</td>\n",
       "      <td>0</td>\n",
       "      <td>-1</td>\n",
       "      <td>0</td>\n",
       "      <td>-2</td>\n",
       "      <td>0</td>\n",
       "      <td>-1</td>\n",
       "      <td>...</td>\n",
       "      <td>0</td>\n",
       "      <td>0</td>\n",
       "      <td>0</td>\n",
       "      <td>0</td>\n",
       "      <td>-2</td>\n",
       "      <td>1</td>\n",
       "      <td>0</td>\n",
       "      <td>0</td>\n",
       "      <td>1</td>\n",
       "      <td>0</td>\n",
       "    </tr>\n",
       "    <tr>\n",
       "      <th>2</th>\n",
       "      <td>2</td>\n",
       "      <td>小于25岁</td>\n",
       "      <td>女</td>\n",
       "      <td>本科</td>\n",
       "      <td>2</td>\n",
       "      <td>-2</td>\n",
       "      <td>2</td>\n",
       "      <td>-2</td>\n",
       "      <td>2</td>\n",
       "      <td>0</td>\n",
       "      <td>...</td>\n",
       "      <td>1</td>\n",
       "      <td>1</td>\n",
       "      <td>2</td>\n",
       "      <td>2</td>\n",
       "      <td>-2</td>\n",
       "      <td>2</td>\n",
       "      <td>2</td>\n",
       "      <td>2</td>\n",
       "      <td>2</td>\n",
       "      <td>2</td>\n",
       "    </tr>\n",
       "    <tr>\n",
       "      <th>3</th>\n",
       "      <td>3</td>\n",
       "      <td>小于25岁</td>\n",
       "      <td>女</td>\n",
       "      <td>硕士</td>\n",
       "      <td>1</td>\n",
       "      <td>-1</td>\n",
       "      <td>1</td>\n",
       "      <td>-2</td>\n",
       "      <td>1</td>\n",
       "      <td>0</td>\n",
       "      <td>...</td>\n",
       "      <td>0</td>\n",
       "      <td>0</td>\n",
       "      <td>0</td>\n",
       "      <td>1</td>\n",
       "      <td>0</td>\n",
       "      <td>2</td>\n",
       "      <td>1</td>\n",
       "      <td>1</td>\n",
       "      <td>1</td>\n",
       "      <td>2</td>\n",
       "    </tr>\n",
       "    <tr>\n",
       "      <th>4</th>\n",
       "      <td>4</td>\n",
       "      <td>小于25岁</td>\n",
       "      <td>男</td>\n",
       "      <td>本科</td>\n",
       "      <td>1</td>\n",
       "      <td>-1</td>\n",
       "      <td>0</td>\n",
       "      <td>-2</td>\n",
       "      <td>1</td>\n",
       "      <td>0</td>\n",
       "      <td>...</td>\n",
       "      <td>1</td>\n",
       "      <td>0</td>\n",
       "      <td>1</td>\n",
       "      <td>1</td>\n",
       "      <td>1</td>\n",
       "      <td>2</td>\n",
       "      <td>1</td>\n",
       "      <td>1</td>\n",
       "      <td>2</td>\n",
       "      <td>0</td>\n",
       "    </tr>\n",
       "  </tbody>\n",
       "</table>\n",
       "<p>5 rows × 48 columns</p>\n",
       "</div>"
      ],
      "text/plain": [
       "   Participant ID 您的年龄是？ 您的性别是？ 您的学历是？  警察  秘书  教授  护士  高管  教师  ...  农民  学生  \\\n",
       "0              24  小于25岁      男     硕士   1  -1   0  -1   0   0  ...   1   0   \n",
       "1               1  小于25岁      女     硕士   0  -1   0  -2   0  -1  ...   0   0   \n",
       "2               2  小于25岁      女     本科   2  -2   2  -2   2   0  ...   1   1   \n",
       "3               3  小于25岁      女     硕士   1  -1   1  -2   1   0  ...   0   0   \n",
       "4               4  小于25岁      男     本科   1  -1   0  -2   1   0  ...   1   0   \n",
       "\n",
       "   园丁  飞行员  人事  消防员  科学家  检察官  救生员  建筑师  \n",
       "0   1    1   0    2    0    1    2    1  \n",
       "1   0    0  -2    1    0    0    1    0  \n",
       "2   2    2  -2    2    2    2    2    2  \n",
       "3   0    1   0    2    1    1    1    2  \n",
       "4   1    1   1    2    1    1    2    0  \n",
       "\n",
       "[5 rows x 48 columns]"
      ]
     },
     "execution_count": 111,
     "metadata": {},
     "output_type": "execute_result"
    }
   ],
   "source": [
    "# Read Chinese data from hu.xlsx\n",
    "df_zh = pd.read_excel('ratings_zh.xlsx')\n",
    "\n",
    "# Rename ID to Participant ID\n",
    "df_zh.rename(columns={'ID': 'Participant ID'}, inplace=True)\n",
    "\n",
    "# Print number of participants\n",
    "print(f\"Number of participants: {df_zh.shape[0]}\")\n",
    "\n",
    "# Define Chinese attention checks #######################################\n",
    "zh_attention_checks = ['妈妈', '女画家', '女作家', '爸爸', '男画家', '男作家'] # '男演员'\n",
    "\n",
    "# # Show wo failed attention any checks, find participants who did not mark all hu_attention_checks columns as 3\n",
    "# failed_attention = df_zh[df_zh[zh_attention_checks].apply(lambda row: any(row != 3), axis=1)]\n",
    "\n",
    "# # Show the failed participants (if any)\n",
    "# failed = failed_attention[['Participant ID'] + zh_attention_checks] if not failed_attention.empty else print(\"All participants passed the attention checks.\")\n",
    "# failed\n",
    "\n",
    "# Drop attention checks\n",
    "df_zh.drop(columns=zh_attention_checks, inplace=True)\n",
    "df_zh.head()"
   ]
  },
  {
   "cell_type": "code",
   "execution_count": 112,
   "id": "e20094fe",
   "metadata": {},
   "outputs": [
    {
     "name": "stdout",
     "output_type": "stream",
     "text": [
      "Number of participants: 24\n",
      "Number of words: 48\n"
     ]
    },
    {
     "data": {
      "text/html": [
       "<div>\n",
       "<style scoped>\n",
       "    .dataframe tbody tr th:only-of-type {\n",
       "        vertical-align: middle;\n",
       "    }\n",
       "\n",
       "    .dataframe tbody tr th {\n",
       "        vertical-align: top;\n",
       "    }\n",
       "\n",
       "    .dataframe thead th {\n",
       "        text-align: right;\n",
       "    }\n",
       "</style>\n",
       "<table border=\"1\" class=\"dataframe\">\n",
       "  <thead>\n",
       "    <tr style=\"text-align: right;\">\n",
       "      <th></th>\n",
       "      <th>Participant ID</th>\n",
       "      <th>Age</th>\n",
       "      <th>Gender</th>\n",
       "      <th>Education</th>\n",
       "      <th>警察</th>\n",
       "      <th>秘书</th>\n",
       "      <th>教授</th>\n",
       "      <th>护士</th>\n",
       "      <th>高管</th>\n",
       "      <th>教师</th>\n",
       "      <th>...</th>\n",
       "      <th>农民</th>\n",
       "      <th>学生</th>\n",
       "      <th>园丁</th>\n",
       "      <th>飞行员</th>\n",
       "      <th>人事</th>\n",
       "      <th>消防员</th>\n",
       "      <th>科学家</th>\n",
       "      <th>检察官</th>\n",
       "      <th>救生员</th>\n",
       "      <th>建筑师</th>\n",
       "    </tr>\n",
       "  </thead>\n",
       "  <tbody>\n",
       "    <tr>\n",
       "      <th>0</th>\n",
       "      <td>24</td>\n",
       "      <td>&lt;25</td>\n",
       "      <td>male</td>\n",
       "      <td>硕士</td>\n",
       "      <td>-1</td>\n",
       "      <td>1</td>\n",
       "      <td>0</td>\n",
       "      <td>1</td>\n",
       "      <td>0</td>\n",
       "      <td>0</td>\n",
       "      <td>...</td>\n",
       "      <td>-1</td>\n",
       "      <td>0</td>\n",
       "      <td>-1</td>\n",
       "      <td>-1</td>\n",
       "      <td>0</td>\n",
       "      <td>-2</td>\n",
       "      <td>0</td>\n",
       "      <td>-1</td>\n",
       "      <td>-2</td>\n",
       "      <td>-1</td>\n",
       "    </tr>\n",
       "    <tr>\n",
       "      <th>1</th>\n",
       "      <td>1</td>\n",
       "      <td>&lt;25</td>\n",
       "      <td>female</td>\n",
       "      <td>硕士</td>\n",
       "      <td>0</td>\n",
       "      <td>1</td>\n",
       "      <td>0</td>\n",
       "      <td>2</td>\n",
       "      <td>0</td>\n",
       "      <td>1</td>\n",
       "      <td>...</td>\n",
       "      <td>0</td>\n",
       "      <td>0</td>\n",
       "      <td>0</td>\n",
       "      <td>0</td>\n",
       "      <td>2</td>\n",
       "      <td>-1</td>\n",
       "      <td>0</td>\n",
       "      <td>0</td>\n",
       "      <td>-1</td>\n",
       "      <td>0</td>\n",
       "    </tr>\n",
       "    <tr>\n",
       "      <th>2</th>\n",
       "      <td>2</td>\n",
       "      <td>&lt;25</td>\n",
       "      <td>female</td>\n",
       "      <td>本科</td>\n",
       "      <td>-2</td>\n",
       "      <td>2</td>\n",
       "      <td>-2</td>\n",
       "      <td>2</td>\n",
       "      <td>-2</td>\n",
       "      <td>0</td>\n",
       "      <td>...</td>\n",
       "      <td>-1</td>\n",
       "      <td>-1</td>\n",
       "      <td>-2</td>\n",
       "      <td>-2</td>\n",
       "      <td>2</td>\n",
       "      <td>-2</td>\n",
       "      <td>-2</td>\n",
       "      <td>-2</td>\n",
       "      <td>-2</td>\n",
       "      <td>-2</td>\n",
       "    </tr>\n",
       "    <tr>\n",
       "      <th>3</th>\n",
       "      <td>3</td>\n",
       "      <td>&lt;25</td>\n",
       "      <td>female</td>\n",
       "      <td>硕士</td>\n",
       "      <td>-1</td>\n",
       "      <td>1</td>\n",
       "      <td>-1</td>\n",
       "      <td>2</td>\n",
       "      <td>-1</td>\n",
       "      <td>0</td>\n",
       "      <td>...</td>\n",
       "      <td>0</td>\n",
       "      <td>0</td>\n",
       "      <td>0</td>\n",
       "      <td>-1</td>\n",
       "      <td>0</td>\n",
       "      <td>-2</td>\n",
       "      <td>-1</td>\n",
       "      <td>-1</td>\n",
       "      <td>-1</td>\n",
       "      <td>-2</td>\n",
       "    </tr>\n",
       "    <tr>\n",
       "      <th>4</th>\n",
       "      <td>4</td>\n",
       "      <td>&lt;25</td>\n",
       "      <td>male</td>\n",
       "      <td>本科</td>\n",
       "      <td>-1</td>\n",
       "      <td>1</td>\n",
       "      <td>0</td>\n",
       "      <td>2</td>\n",
       "      <td>-1</td>\n",
       "      <td>0</td>\n",
       "      <td>...</td>\n",
       "      <td>-1</td>\n",
       "      <td>0</td>\n",
       "      <td>-1</td>\n",
       "      <td>-1</td>\n",
       "      <td>-1</td>\n",
       "      <td>-2</td>\n",
       "      <td>-1</td>\n",
       "      <td>-1</td>\n",
       "      <td>-2</td>\n",
       "      <td>0</td>\n",
       "    </tr>\n",
       "  </tbody>\n",
       "</table>\n",
       "<p>5 rows × 48 columns</p>\n",
       "</div>"
      ],
      "text/plain": [
       "   Participant ID  Age  Gender Education  警察  秘书  教授  护士  高管  教师  ...  农民  学生  \\\n",
       "0              24  <25    male        硕士  -1   1   0   1   0   0  ...  -1   0   \n",
       "1               1  <25  female        硕士   0   1   0   2   0   1  ...   0   0   \n",
       "2               2  <25  female        本科  -2   2  -2   2  -2   0  ...  -1  -1   \n",
       "3               3  <25  female        硕士  -1   1  -1   2  -1   0  ...   0   0   \n",
       "4               4  <25    male        本科  -1   1   0   2  -1   0  ...  -1   0   \n",
       "\n",
       "   园丁  飞行员  人事  消防员  科学家  检察官  救生员  建筑师  \n",
       "0  -1   -1   0   -2    0   -1   -2   -1  \n",
       "1   0    0   2   -1    0    0   -1    0  \n",
       "2  -2   -2   2   -2   -2   -2   -2   -2  \n",
       "3   0   -1   0   -2   -1   -1   -1   -2  \n",
       "4  -1   -1  -1   -2   -1   -1   -2    0  \n",
       "\n",
       "[5 rows x 48 columns]"
      ]
     },
     "execution_count": 112,
     "metadata": {},
     "output_type": "execute_result"
    }
   ],
   "source": [
    "# Define the mapping for ratings\n",
    "rating_map = {\n",
    "    3: -3,\n",
    "    2: -2,\n",
    "    1: -1,\n",
    "    0: 0,\n",
    "    -1: 1,\n",
    "    -2: 2,\n",
    "    -3: 3\n",
    "}\n",
    "\n",
    "# Get columns to convert (skip non-rating columns)\n",
    "rating_columns = df_zh.columns[4:]  # assuming first 8 columns are not ratings\n",
    "\n",
    "# Replace and explicitly infer objects to avoid warning\n",
    "for col in rating_columns:\n",
    "    df_zh[col] = df_zh[col].map(rating_map)\n",
    "\n",
    "# Rename 您的年龄是？ to Age and 您的性别是？ to Gender\n",
    "df_zh.rename(columns={'您的年龄是？': 'Age', '您的性别是？':'Gender', '您的学历是？':'Education'}, inplace=True)\n",
    "\n",
    "# Replace férfi to male and nő to female in Gender column\n",
    "df_zh['Gender'] = df_zh['Gender'].replace({'男': 'male', '女': 'female'})\n",
    "\n",
    "# In the Age column, change 小于25岁 to <25, 25-35岁 to 25-35, 36-45岁\n",
    "df_zh['Age'] = df_zh['Age'].replace({'小于25岁': '<25', '25-35岁': '25-35', '35-45岁': '35-45',})\n",
    "\n",
    "# Count and print participants based on unique Participant ID\n",
    "num_participants = df_zh['Participant ID'].nunique()\n",
    "print(f'Number of participants: {num_participants}')\n",
    "\n",
    "# Count the number of columns starting with the 8th.\n",
    "num_columns = len(df_zh.columns)\n",
    "print(f'Number of words: {num_columns}')\n",
    "\n",
    "# Show\n",
    "df_zh.head()"
   ]
  },
  {
   "cell_type": "markdown",
   "id": "598c7bc8",
   "metadata": {},
   "source": [
    "### Demographics"
   ]
  },
  {
   "cell_type": "code",
   "execution_count": 113,
   "id": "700e8f0b",
   "metadata": {},
   "outputs": [
    {
     "data": {
      "application/vnd.plotly.v1+json": {
       "config": {
        "plotlyServerURL": "https://plot.ly"
       },
       "data": [
        {
         "customdata": [
          [
           "Male",
           "14",
           "58.333333333333336"
          ],
          [
           "Female",
           "10",
           "41.66666666666667"
          ]
         ],
         "domain": {
          "x": [
           0,
           0.45
          ],
          "y": [
           0,
           1
          ]
         },
         "hole": 0.33,
         "labels": [
          "Male",
          "Female"
         ],
         "marker": {
          "colors": [
           "#4090C2",
           "#C46BE1"
          ]
         },
         "name": "Gender",
         "text": [
          "Male<br>n=14<br>58.3%",
          "Female<br>n=10<br>41.7%"
         ],
         "textfont": {
          "size": 28
         },
         "textinfo": "text",
         "title": {
          "text": "Gender"
         },
         "type": "pie",
         "values": {
          "bdata": "q6qqqqoqTUBWVVVVVdVEQA==",
          "dtype": "f8"
         }
        },
        {
         "customdata": [
          [
           "25-35",
           8,
           33.33333333333333
          ],
          [
           "35-45",
           1,
           4.166666666666666
          ],
          [
           "<25",
           15,
           62.5
          ]
         ],
         "domain": {
          "x": [
           0.55,
           1
          ],
          "y": [
           0,
           1
          ]
         },
         "hole": 0.33,
         "labels": [
          "25-35",
          "35-45",
          "<25"
         ],
         "marker": {
          "colors": [
           "#77D6C6",
           "#4DAF9E",
           "#006B5F"
          ]
         },
         "name": "Age",
         "text": [
          "25-35<br>n=8<br>33.3%",
          "35-45<br>n=1<br>4.2%",
          "<25<br>n=15<br>62.5%"
         ],
         "textfont": {
          "size": 28
         },
         "textinfo": "text",
         "title": {
          "text": "Age"
         },
         "type": "pie",
         "values": {
          "bdata": "qqqqqqqqQECqqqqqqqoQQAAAAAAAQE9A",
          "dtype": "f8"
         }
        }
       ],
       "layout": {
        "annotations": [
         {
          "align": "center",
          "font": {
           "size": 28
          },
          "showarrow": false,
          "text": "No. of participants: 24",
          "x": 0.5,
          "xanchor": "center",
          "xref": "paper",
          "y": 0.9,
          "yanchor": "bottom",
          "yref": "paper"
         },
         {
          "align": "center",
          "font": {
           "size": 28
          },
          "showarrow": false,
          "text": "No. of participants: 24",
          "x": 0.5,
          "xanchor": "center",
          "xref": "paper",
          "y": 0.9,
          "yanchor": "bottom",
          "yref": "paper"
         }
        ],
        "font": {
         "color": "black",
         "family": "Times New Roman, serif",
         "size": 32
        },
        "legend": {
         "font": {
          "size": 28
         },
         "orientation": "v",
         "x": 0.5,
         "xanchor": "center",
         "y": 1,
         "yanchor": "top"
        },
        "margin": {
         "b": 0,
         "l": 0,
         "r": 0,
         "t": 0
        },
        "showlegend": false,
        "template": {
         "data": {
          "bar": [
           {
            "error_x": {
             "color": "#2a3f5f"
            },
            "error_y": {
             "color": "#2a3f5f"
            },
            "marker": {
             "line": {
              "color": "#E5ECF6",
              "width": 0.5
             },
             "pattern": {
              "fillmode": "overlay",
              "size": 10,
              "solidity": 0.2
             }
            },
            "type": "bar"
           }
          ],
          "barpolar": [
           {
            "marker": {
             "line": {
              "color": "#E5ECF6",
              "width": 0.5
             },
             "pattern": {
              "fillmode": "overlay",
              "size": 10,
              "solidity": 0.2
             }
            },
            "type": "barpolar"
           }
          ],
          "carpet": [
           {
            "aaxis": {
             "endlinecolor": "#2a3f5f",
             "gridcolor": "white",
             "linecolor": "white",
             "minorgridcolor": "white",
             "startlinecolor": "#2a3f5f"
            },
            "baxis": {
             "endlinecolor": "#2a3f5f",
             "gridcolor": "white",
             "linecolor": "white",
             "minorgridcolor": "white",
             "startlinecolor": "#2a3f5f"
            },
            "type": "carpet"
           }
          ],
          "choropleth": [
           {
            "colorbar": {
             "outlinewidth": 0,
             "ticks": ""
            },
            "type": "choropleth"
           }
          ],
          "contour": [
           {
            "colorbar": {
             "outlinewidth": 0,
             "ticks": ""
            },
            "colorscale": [
             [
              0,
              "#0d0887"
             ],
             [
              0.1111111111111111,
              "#46039f"
             ],
             [
              0.2222222222222222,
              "#7201a8"
             ],
             [
              0.3333333333333333,
              "#9c179e"
             ],
             [
              0.4444444444444444,
              "#bd3786"
             ],
             [
              0.5555555555555556,
              "#d8576b"
             ],
             [
              0.6666666666666666,
              "#ed7953"
             ],
             [
              0.7777777777777778,
              "#fb9f3a"
             ],
             [
              0.8888888888888888,
              "#fdca26"
             ],
             [
              1,
              "#f0f921"
             ]
            ],
            "type": "contour"
           }
          ],
          "contourcarpet": [
           {
            "colorbar": {
             "outlinewidth": 0,
             "ticks": ""
            },
            "type": "contourcarpet"
           }
          ],
          "heatmap": [
           {
            "colorbar": {
             "outlinewidth": 0,
             "ticks": ""
            },
            "colorscale": [
             [
              0,
              "#0d0887"
             ],
             [
              0.1111111111111111,
              "#46039f"
             ],
             [
              0.2222222222222222,
              "#7201a8"
             ],
             [
              0.3333333333333333,
              "#9c179e"
             ],
             [
              0.4444444444444444,
              "#bd3786"
             ],
             [
              0.5555555555555556,
              "#d8576b"
             ],
             [
              0.6666666666666666,
              "#ed7953"
             ],
             [
              0.7777777777777778,
              "#fb9f3a"
             ],
             [
              0.8888888888888888,
              "#fdca26"
             ],
             [
              1,
              "#f0f921"
             ]
            ],
            "type": "heatmap"
           }
          ],
          "histogram": [
           {
            "marker": {
             "pattern": {
              "fillmode": "overlay",
              "size": 10,
              "solidity": 0.2
             }
            },
            "type": "histogram"
           }
          ],
          "histogram2d": [
           {
            "colorbar": {
             "outlinewidth": 0,
             "ticks": ""
            },
            "colorscale": [
             [
              0,
              "#0d0887"
             ],
             [
              0.1111111111111111,
              "#46039f"
             ],
             [
              0.2222222222222222,
              "#7201a8"
             ],
             [
              0.3333333333333333,
              "#9c179e"
             ],
             [
              0.4444444444444444,
              "#bd3786"
             ],
             [
              0.5555555555555556,
              "#d8576b"
             ],
             [
              0.6666666666666666,
              "#ed7953"
             ],
             [
              0.7777777777777778,
              "#fb9f3a"
             ],
             [
              0.8888888888888888,
              "#fdca26"
             ],
             [
              1,
              "#f0f921"
             ]
            ],
            "type": "histogram2d"
           }
          ],
          "histogram2dcontour": [
           {
            "colorbar": {
             "outlinewidth": 0,
             "ticks": ""
            },
            "colorscale": [
             [
              0,
              "#0d0887"
             ],
             [
              0.1111111111111111,
              "#46039f"
             ],
             [
              0.2222222222222222,
              "#7201a8"
             ],
             [
              0.3333333333333333,
              "#9c179e"
             ],
             [
              0.4444444444444444,
              "#bd3786"
             ],
             [
              0.5555555555555556,
              "#d8576b"
             ],
             [
              0.6666666666666666,
              "#ed7953"
             ],
             [
              0.7777777777777778,
              "#fb9f3a"
             ],
             [
              0.8888888888888888,
              "#fdca26"
             ],
             [
              1,
              "#f0f921"
             ]
            ],
            "type": "histogram2dcontour"
           }
          ],
          "mesh3d": [
           {
            "colorbar": {
             "outlinewidth": 0,
             "ticks": ""
            },
            "type": "mesh3d"
           }
          ],
          "parcoords": [
           {
            "line": {
             "colorbar": {
              "outlinewidth": 0,
              "ticks": ""
             }
            },
            "type": "parcoords"
           }
          ],
          "pie": [
           {
            "automargin": true,
            "type": "pie"
           }
          ],
          "scatter": [
           {
            "fillpattern": {
             "fillmode": "overlay",
             "size": 10,
             "solidity": 0.2
            },
            "type": "scatter"
           }
          ],
          "scatter3d": [
           {
            "line": {
             "colorbar": {
              "outlinewidth": 0,
              "ticks": ""
             }
            },
            "marker": {
             "colorbar": {
              "outlinewidth": 0,
              "ticks": ""
             }
            },
            "type": "scatter3d"
           }
          ],
          "scattercarpet": [
           {
            "marker": {
             "colorbar": {
              "outlinewidth": 0,
              "ticks": ""
             }
            },
            "type": "scattercarpet"
           }
          ],
          "scattergeo": [
           {
            "marker": {
             "colorbar": {
              "outlinewidth": 0,
              "ticks": ""
             }
            },
            "type": "scattergeo"
           }
          ],
          "scattergl": [
           {
            "marker": {
             "colorbar": {
              "outlinewidth": 0,
              "ticks": ""
             }
            },
            "type": "scattergl"
           }
          ],
          "scattermap": [
           {
            "marker": {
             "colorbar": {
              "outlinewidth": 0,
              "ticks": ""
             }
            },
            "type": "scattermap"
           }
          ],
          "scattermapbox": [
           {
            "marker": {
             "colorbar": {
              "outlinewidth": 0,
              "ticks": ""
             }
            },
            "type": "scattermapbox"
           }
          ],
          "scatterpolar": [
           {
            "marker": {
             "colorbar": {
              "outlinewidth": 0,
              "ticks": ""
             }
            },
            "type": "scatterpolar"
           }
          ],
          "scatterpolargl": [
           {
            "marker": {
             "colorbar": {
              "outlinewidth": 0,
              "ticks": ""
             }
            },
            "type": "scatterpolargl"
           }
          ],
          "scatterternary": [
           {
            "marker": {
             "colorbar": {
              "outlinewidth": 0,
              "ticks": ""
             }
            },
            "type": "scatterternary"
           }
          ],
          "surface": [
           {
            "colorbar": {
             "outlinewidth": 0,
             "ticks": ""
            },
            "colorscale": [
             [
              0,
              "#0d0887"
             ],
             [
              0.1111111111111111,
              "#46039f"
             ],
             [
              0.2222222222222222,
              "#7201a8"
             ],
             [
              0.3333333333333333,
              "#9c179e"
             ],
             [
              0.4444444444444444,
              "#bd3786"
             ],
             [
              0.5555555555555556,
              "#d8576b"
             ],
             [
              0.6666666666666666,
              "#ed7953"
             ],
             [
              0.7777777777777778,
              "#fb9f3a"
             ],
             [
              0.8888888888888888,
              "#fdca26"
             ],
             [
              1,
              "#f0f921"
             ]
            ],
            "type": "surface"
           }
          ],
          "table": [
           {
            "cells": {
             "fill": {
              "color": "#EBF0F8"
             },
             "line": {
              "color": "white"
             }
            },
            "header": {
             "fill": {
              "color": "#C8D4E3"
             },
             "line": {
              "color": "white"
             }
            },
            "type": "table"
           }
          ]
         },
         "layout": {
          "annotationdefaults": {
           "arrowcolor": "#2a3f5f",
           "arrowhead": 0,
           "arrowwidth": 1
          },
          "autotypenumbers": "strict",
          "coloraxis": {
           "colorbar": {
            "outlinewidth": 0,
            "ticks": ""
           }
          },
          "colorscale": {
           "diverging": [
            [
             0,
             "#8e0152"
            ],
            [
             0.1,
             "#c51b7d"
            ],
            [
             0.2,
             "#de77ae"
            ],
            [
             0.3,
             "#f1b6da"
            ],
            [
             0.4,
             "#fde0ef"
            ],
            [
             0.5,
             "#f7f7f7"
            ],
            [
             0.6,
             "#e6f5d0"
            ],
            [
             0.7,
             "#b8e186"
            ],
            [
             0.8,
             "#7fbc41"
            ],
            [
             0.9,
             "#4d9221"
            ],
            [
             1,
             "#276419"
            ]
           ],
           "sequential": [
            [
             0,
             "#0d0887"
            ],
            [
             0.1111111111111111,
             "#46039f"
            ],
            [
             0.2222222222222222,
             "#7201a8"
            ],
            [
             0.3333333333333333,
             "#9c179e"
            ],
            [
             0.4444444444444444,
             "#bd3786"
            ],
            [
             0.5555555555555556,
             "#d8576b"
            ],
            [
             0.6666666666666666,
             "#ed7953"
            ],
            [
             0.7777777777777778,
             "#fb9f3a"
            ],
            [
             0.8888888888888888,
             "#fdca26"
            ],
            [
             1,
             "#f0f921"
            ]
           ],
           "sequentialminus": [
            [
             0,
             "#0d0887"
            ],
            [
             0.1111111111111111,
             "#46039f"
            ],
            [
             0.2222222222222222,
             "#7201a8"
            ],
            [
             0.3333333333333333,
             "#9c179e"
            ],
            [
             0.4444444444444444,
             "#bd3786"
            ],
            [
             0.5555555555555556,
             "#d8576b"
            ],
            [
             0.6666666666666666,
             "#ed7953"
            ],
            [
             0.7777777777777778,
             "#fb9f3a"
            ],
            [
             0.8888888888888888,
             "#fdca26"
            ],
            [
             1,
             "#f0f921"
            ]
           ]
          },
          "colorway": [
           "#636efa",
           "#EF553B",
           "#00cc96",
           "#ab63fa",
           "#FFA15A",
           "#19d3f3",
           "#FF6692",
           "#B6E880",
           "#FF97FF",
           "#FECB52"
          ],
          "font": {
           "color": "#2a3f5f"
          },
          "geo": {
           "bgcolor": "white",
           "lakecolor": "white",
           "landcolor": "#E5ECF6",
           "showlakes": true,
           "showland": true,
           "subunitcolor": "white"
          },
          "hoverlabel": {
           "align": "left"
          },
          "hovermode": "closest",
          "mapbox": {
           "style": "light"
          },
          "paper_bgcolor": "white",
          "plot_bgcolor": "#E5ECF6",
          "polar": {
           "angularaxis": {
            "gridcolor": "white",
            "linecolor": "white",
            "ticks": ""
           },
           "bgcolor": "#E5ECF6",
           "radialaxis": {
            "gridcolor": "white",
            "linecolor": "white",
            "ticks": ""
           }
          },
          "scene": {
           "xaxis": {
            "backgroundcolor": "#E5ECF6",
            "gridcolor": "white",
            "gridwidth": 2,
            "linecolor": "white",
            "showbackground": true,
            "ticks": "",
            "zerolinecolor": "white"
           },
           "yaxis": {
            "backgroundcolor": "#E5ECF6",
            "gridcolor": "white",
            "gridwidth": 2,
            "linecolor": "white",
            "showbackground": true,
            "ticks": "",
            "zerolinecolor": "white"
           },
           "zaxis": {
            "backgroundcolor": "#E5ECF6",
            "gridcolor": "white",
            "gridwidth": 2,
            "linecolor": "white",
            "showbackground": true,
            "ticks": "",
            "zerolinecolor": "white"
           }
          },
          "shapedefaults": {
           "line": {
            "color": "#2a3f5f"
           }
          },
          "ternary": {
           "aaxis": {
            "gridcolor": "white",
            "linecolor": "white",
            "ticks": ""
           },
           "baxis": {
            "gridcolor": "white",
            "linecolor": "white",
            "ticks": ""
           },
           "bgcolor": "#E5ECF6",
           "caxis": {
            "gridcolor": "white",
            "linecolor": "white",
            "ticks": ""
           }
          },
          "title": {
           "x": 0.05
          },
          "xaxis": {
           "automargin": true,
           "gridcolor": "white",
           "linecolor": "white",
           "ticks": "",
           "title": {
            "standoff": 15
           },
           "zerolinecolor": "white",
           "zerolinewidth": 2
          },
          "yaxis": {
           "automargin": true,
           "gridcolor": "white",
           "linecolor": "white",
           "ticks": "",
           "title": {
            "standoff": 15
           },
           "zerolinecolor": "white",
           "zerolinewidth": 2
          }
         }
        }
       }
      }
     },
     "metadata": {},
     "output_type": "display_data"
    }
   ],
   "source": [
    "# # Print unique value counts of Age, Gender, and Education\n",
    "# print(\"Unique values in Age:\")\n",
    "# print(df_zh['Age'].value_counts())\n",
    "# print(\"\\nUnique values in Gender:\")\n",
    "# print(df_zh['Gender'].value_counts())\n",
    "# print(\"\\nUnique values in Education:\")\n",
    "# print(df_zh['Education'].value_counts())\n",
    "\n",
    "# Sawp colors\n",
    "gender_colors = gender_colors[::-1]\n",
    "\n",
    "# Prepare gender and age counts and percentages\n",
    "gender_counts = df_zh['Gender'].value_counts()\n",
    "gender_labels = gender_counts.index\n",
    "gender_labels_en = ['Male' if g == 'male' else 'Female' for g in gender_labels]\n",
    "gender = gender_counts / gender_counts.sum() * 100\n",
    "\n",
    "age_counts = df_zh['Age'].value_counts().sort_index()\n",
    "age = age_counts / age_counts.sum() * 100\n",
    "\n",
    "# Gender pie with custom colors\n",
    "gender_pie = go.Pie(\n",
    "    labels=gender_labels_en,\n",
    "    values=gender.values,\n",
    "    name='Gender',\n",
    "    hole=0.33,\n",
    "    title='Gender',\n",
    "    marker=dict(colors=gender_colors),\n",
    "    customdata=np.stack([gender_labels_en, gender_counts.values, gender.values], axis=-1),\n",
    "    textinfo='text',\n",
    "    textfont=dict(size=28),\n",
    "    text=[f\"{label}<br>n={int(n)}<br>{p:.1f}%\" for label, n, p in zip(gender_labels_en, gender_counts.values, gender.values)],\n",
    ")\n",
    "\n",
    "# Age pie with custom teal shades (repeat if more age groups)\n",
    "age_colors = (age_shades * ((len(age) // len(age_shades)) + 1))[:len(age)]\n",
    "age_pie = go.Pie(\n",
    "    labels=age.index,\n",
    "    values=age.values,\n",
    "    name='Age',\n",
    "    hole=0.33,\n",
    "    title='Age',\n",
    "    marker=dict(colors=age_colors),\n",
    "    customdata=np.stack([age.index, age_counts.values, age.values], axis=-1),\n",
    "    textinfo='text',\n",
    "    textfont=dict(size=28),\n",
    "    text=[f\"{label}<br>n={int(n)}<br>{p:.1f}%\" for label, n, p in zip(age.index, age_counts.values, age.values)],\n",
    ")\n",
    "\n",
    "# Create subplot with 1 row and 2 columns\n",
    "fig = make_subplots(\n",
    "    rows=1, cols=2, specs=[[{'type':'domain'}, {'type':'domain'}]],\n",
    "    subplot_titles=['Gender Distribution', 'Age Distribution']\n",
    ")\n",
    "\n",
    "fig.add_trace(gender_pie, 1, 1)\n",
    "fig.add_trace(age_pie, 1, 2)\n",
    "\n",
    "fig.update_layout(\n",
    "    font = dict(family=\"Times New Roman, serif\", size=32, color='black'),\n",
    "    margin=dict(l=0, r=0, t=0, b=0),\n",
    "    showlegend=False,\n",
    "    legend=dict(\n",
    "        font=dict(size=28),\n",
    "        orientation='v',\n",
    "        x=0.5,\n",
    "        xanchor='center',\n",
    "        y=1,\n",
    "        yanchor='top'\n",
    "    ),\n",
    "    annotations=[\n",
    "        dict(\n",
    "            text=f'No. of participants: {df_zh.shape[0]}',\n",
    "            x=0.5, y=0.9, xref='paper', yref='paper',\n",
    "            showarrow=False, font=dict(size=28), align='center'\n",
    "        )\n",
    "    ]\n",
    ")\n",
    "\n",
    "fig.show()\n",
    "\n",
    "# Save it as html\n",
    "fig.write_html('demographics_zh.html')\n",
    "\n",
    "# Save it as image\n",
    "fig.write_image('demographics_zh.png', scale=3, width=1000, height=400)"
   ]
  },
  {
   "cell_type": "markdown",
   "id": "641a696c",
   "metadata": {},
   "source": [
    "### Analysis"
   ]
  },
  {
   "cell_type": "markdown",
   "id": "132294f7",
   "metadata": {},
   "source": [
    "#### Two Sample T-Test by Gender"
   ]
  },
  {
   "cell_type": "code",
   "execution_count": 114,
   "id": "0020f4b1",
   "metadata": {},
   "outputs": [
    {
     "name": "stdout",
     "output_type": "stream",
     "text": [
      "Number of male participants: 14\n",
      "Number of female participants: 10\n"
     ]
    },
    {
     "data": {
      "application/vnd.plotly.v1+json": {
       "config": {
        "plotlyServerURL": "https://plot.ly"
       },
       "data": [
        {
         "customdata": [
          [
           "domestic helper"
          ],
          [
           "kindergarten teacher"
          ],
          [
           "nurse"
          ],
          [
           "beautician"
          ],
          [
           "receptionist"
          ],
          [
           "secretary"
          ],
          [
           "cashier"
          ],
          [
           "shop assistant"
          ],
          [
           "cleaner"
          ],
          [
           "flight attendant*"
          ],
          [
           "caregiver"
          ],
          [
           "HR specialist"
          ],
          [
           "teacher"
          ],
          [
           "housekeeper"
          ],
          [
           "flight attendant"
          ],
          [
           "accountant"
          ],
          [
           "ticket seller"
          ],
          [
           "model"
          ],
          [
           "dietitian"
          ],
          [
           "server"
          ],
          [
           "student"
          ],
          [
           "doctor"
          ],
          [
           "prosecutor"
          ],
          [
           "judge"
          ],
          [
           "gardener"
          ],
          [
           "scientist"
          ],
          [
           "professor"
          ],
          [
           "farmer"
          ],
          [
           "manager"
          ],
          [
           "architect"
          ],
          [
           "director"
          ],
          [
           "hairdresser"
          ],
          [
           "pathologist"
          ],
          [
           "engineer"
          ],
          [
           "CEO"
          ],
          [
           "soldier"
          ],
          [
           "pilot"
          ],
          [
           "chef"
          ],
          [
           "programmer"
          ],
          [
           "worker"
          ],
          [
           "police officer"
          ],
          [
           "lifeguard"
          ],
          [
           "security guard"
          ],
          [
           "firefighter"
          ]
         ],
         "hovertemplate": "Occupation: %{x}<br>English: %{customdata[0]}<br>Mean (Male): %{y:.2f}<extra></extra>",
         "marker": {
          "color": "#4090C2"
         },
         "name": "Male",
         "type": "bar",
         "x": [
          "保姆",
          "幼师",
          "护士",
          "美容师",
          "前台",
          "秘书",
          "<b>收银员*</b>",
          "导购员",
          "保洁",
          "空服员",
          "护工",
          "人事",
          "教师",
          "家政员",
          "乘务员",
          "<b>会计+</b>",
          "售票员",
          "<b>模特*</b>",
          "营养师",
          "服务员",
          "学生",
          "医生",
          "检察官",
          "<b>法官*</b>",
          "园丁",
          "科学家",
          "教授",
          "<b>农民*</b>",
          "<b>高管+</b>",
          "建筑师",
          "导演",
          "理发师",
          "法医",
          "工程师",
          "董事长",
          "军人",
          "飞行员",
          "厨师",
          "程序员",
          "<b>工人+</b>",
          "警察",
          "救生员",
          "<b>保安+</b>",
          "消防员"
         ],
         "y": {
          "bdata": "SZIkSZIk+T9JkiRJkiT5P5IkSZIkSfo/SZIkSZIk+T9u27Zt27b1P0mSJEmSJPE/JUmSJEmS5D+3bdu2bdvmP5IkSZIkSeI/SZIkSZIk6T+SJEmSJEniP9u2bdu2bds/t23btm3b1j+3bdu2bdvWP7dt27Zt29Y/t23btm3b5j/btm3btm3LP5IkSZIkSeI/kiRJkiRJwj+SJEmSJEmyPwAAAAAAAAAAkiRJkiRJwr/btm3btm3bv5IkSZIkScK/t23btm3b1r8AAAAAAADgv7dt27Zt29a/SZIkSZIk6b+SJEmSJEnSv7dt27Zt2+a/kiRJkiRJ4r8lSZIkSZLkv9u2bdu2beu/27Zt27Zt67+3bdu2bdvmv5IkSZIkSfK/btu2bdu27b9JkiRJkiTxv9u2bdu2bfO/btu2bdu29b/btm3btm3zv5IkSZIkSfq/AAAAAAAAAMC3bdu2bdv+vw==",
          "dtype": "f8"
         }
        },
        {
         "customdata": [
          [
           "domestic helper"
          ],
          [
           "kindergarten teacher"
          ],
          [
           "nurse"
          ],
          [
           "beautician"
          ],
          [
           "receptionist"
          ],
          [
           "secretary"
          ],
          [
           "cashier"
          ],
          [
           "shop assistant"
          ],
          [
           "cleaner"
          ],
          [
           "flight attendant*"
          ],
          [
           "caregiver"
          ],
          [
           "HR specialist"
          ],
          [
           "teacher"
          ],
          [
           "housekeeper"
          ],
          [
           "flight attendant"
          ],
          [
           "accountant"
          ],
          [
           "ticket seller"
          ],
          [
           "model"
          ],
          [
           "dietitian"
          ],
          [
           "server"
          ],
          [
           "student"
          ],
          [
           "doctor"
          ],
          [
           "prosecutor"
          ],
          [
           "judge"
          ],
          [
           "gardener"
          ],
          [
           "scientist"
          ],
          [
           "professor"
          ],
          [
           "farmer"
          ],
          [
           "manager"
          ],
          [
           "architect"
          ],
          [
           "director"
          ],
          [
           "hairdresser"
          ],
          [
           "pathologist"
          ],
          [
           "engineer"
          ],
          [
           "CEO"
          ],
          [
           "soldier"
          ],
          [
           "pilot"
          ],
          [
           "chef"
          ],
          [
           "programmer"
          ],
          [
           "worker"
          ],
          [
           "police officer"
          ],
          [
           "lifeguard"
          ],
          [
           "security guard"
          ],
          [
           "firefighter"
          ]
         ],
         "hovertemplate": "Occupation: %{x}<br>English: %{customdata[0]}<br>Mean (Female): %{y:.2f}<extra></extra>",
         "marker": {
          "color": "#C46BE1"
         },
         "name": "Female",
         "type": "bar",
         "x": [
          "保姆",
          "幼师",
          "护士",
          "美容师",
          "前台",
          "秘书",
          "<b>收银员*</b>",
          "导购员",
          "保洁",
          "空服员",
          "护工",
          "人事",
          "教师",
          "家政员",
          "乘务员",
          "<b>会计+</b>",
          "售票员",
          "<b>模特*</b>",
          "营养师",
          "服务员",
          "学生",
          "医生",
          "检察官",
          "<b>法官*</b>",
          "园丁",
          "科学家",
          "教授",
          "<b>农民*</b>",
          "<b>高管+</b>",
          "建筑师",
          "导演",
          "理发师",
          "法医",
          "工程师",
          "董事长",
          "军人",
          "飞行员",
          "厨师",
          "程序员",
          "<b>工人+</b>",
          "警察",
          "救生员",
          "<b>保安+</b>",
          "消防员"
         ],
         "y": {
          "bdata": "MzMzMzMz+z+amZmZmZn5PwAAAAAAAPg/zczMzMzM9D9mZmZmZmb2P5qZmZmZmek/MzMzMzMz8z8AAAAAAADwP83MzMzMzOw/MzMzMzMz4z9mZmZmZmbmP5qZmZmZmek/mpmZmZmZ6T9mZmZmZmbmPzMzMzMzM+M/mpmZmZmZyT8AAAAAAADgPwAAAAAAAAAAMzMzMzMz0z+amZmZmZm5P5qZmZmZmbm/MzMzMzMz07+amZmZmZnZv2ZmZmZmZua/AAAAAAAA4L+amZmZmZnZvzMzMzMzM+O/mpmZmZmZyb+amZmZmZnpv2ZmZmZmZua/zczMzMzM7L/NzMzMzMzsv2ZmZmZmZua/zczMzMzM7L+amZmZmZnxv5qZmZmZmem/mpmZmZmZ8b8AAAAAAADwv83MzMzMzOy/mpmZmZmZ6b8AAAAAAADwv83MzMzMzPS/AAAAAAAA+L+amZmZmZn5vw==",
          "dtype": "f8"
         }
        }
       ],
       "layout": {
        "barmode": "group",
        "font": {
         "color": "black",
         "family": "Times New Roman, serif",
         "size": 16
        },
        "legend": {
         "bgcolor": "rgba(220, 220, 220, 0.25)",
         "orientation": "h",
         "x": 0.5,
         "xanchor": "center",
         "y": 0,
         "yanchor": "bottom"
        },
        "margin": {
         "b": 0,
         "l": 0,
         "r": 0,
         "t": 0
        },
        "template": {
         "data": {
          "bar": [
           {
            "error_x": {
             "color": "#2a3f5f"
            },
            "error_y": {
             "color": "#2a3f5f"
            },
            "marker": {
             "line": {
              "color": "white",
              "width": 0.5
             },
             "pattern": {
              "fillmode": "overlay",
              "size": 10,
              "solidity": 0.2
             }
            },
            "type": "bar"
           }
          ],
          "barpolar": [
           {
            "marker": {
             "line": {
              "color": "white",
              "width": 0.5
             },
             "pattern": {
              "fillmode": "overlay",
              "size": 10,
              "solidity": 0.2
             }
            },
            "type": "barpolar"
           }
          ],
          "carpet": [
           {
            "aaxis": {
             "endlinecolor": "#2a3f5f",
             "gridcolor": "#C8D4E3",
             "linecolor": "#C8D4E3",
             "minorgridcolor": "#C8D4E3",
             "startlinecolor": "#2a3f5f"
            },
            "baxis": {
             "endlinecolor": "#2a3f5f",
             "gridcolor": "#C8D4E3",
             "linecolor": "#C8D4E3",
             "minorgridcolor": "#C8D4E3",
             "startlinecolor": "#2a3f5f"
            },
            "type": "carpet"
           }
          ],
          "choropleth": [
           {
            "colorbar": {
             "outlinewidth": 0,
             "ticks": ""
            },
            "type": "choropleth"
           }
          ],
          "contour": [
           {
            "colorbar": {
             "outlinewidth": 0,
             "ticks": ""
            },
            "colorscale": [
             [
              0,
              "#0d0887"
             ],
             [
              0.1111111111111111,
              "#46039f"
             ],
             [
              0.2222222222222222,
              "#7201a8"
             ],
             [
              0.3333333333333333,
              "#9c179e"
             ],
             [
              0.4444444444444444,
              "#bd3786"
             ],
             [
              0.5555555555555556,
              "#d8576b"
             ],
             [
              0.6666666666666666,
              "#ed7953"
             ],
             [
              0.7777777777777778,
              "#fb9f3a"
             ],
             [
              0.8888888888888888,
              "#fdca26"
             ],
             [
              1,
              "#f0f921"
             ]
            ],
            "type": "contour"
           }
          ],
          "contourcarpet": [
           {
            "colorbar": {
             "outlinewidth": 0,
             "ticks": ""
            },
            "type": "contourcarpet"
           }
          ],
          "heatmap": [
           {
            "colorbar": {
             "outlinewidth": 0,
             "ticks": ""
            },
            "colorscale": [
             [
              0,
              "#0d0887"
             ],
             [
              0.1111111111111111,
              "#46039f"
             ],
             [
              0.2222222222222222,
              "#7201a8"
             ],
             [
              0.3333333333333333,
              "#9c179e"
             ],
             [
              0.4444444444444444,
              "#bd3786"
             ],
             [
              0.5555555555555556,
              "#d8576b"
             ],
             [
              0.6666666666666666,
              "#ed7953"
             ],
             [
              0.7777777777777778,
              "#fb9f3a"
             ],
             [
              0.8888888888888888,
              "#fdca26"
             ],
             [
              1,
              "#f0f921"
             ]
            ],
            "type": "heatmap"
           }
          ],
          "histogram": [
           {
            "marker": {
             "pattern": {
              "fillmode": "overlay",
              "size": 10,
              "solidity": 0.2
             }
            },
            "type": "histogram"
           }
          ],
          "histogram2d": [
           {
            "colorbar": {
             "outlinewidth": 0,
             "ticks": ""
            },
            "colorscale": [
             [
              0,
              "#0d0887"
             ],
             [
              0.1111111111111111,
              "#46039f"
             ],
             [
              0.2222222222222222,
              "#7201a8"
             ],
             [
              0.3333333333333333,
              "#9c179e"
             ],
             [
              0.4444444444444444,
              "#bd3786"
             ],
             [
              0.5555555555555556,
              "#d8576b"
             ],
             [
              0.6666666666666666,
              "#ed7953"
             ],
             [
              0.7777777777777778,
              "#fb9f3a"
             ],
             [
              0.8888888888888888,
              "#fdca26"
             ],
             [
              1,
              "#f0f921"
             ]
            ],
            "type": "histogram2d"
           }
          ],
          "histogram2dcontour": [
           {
            "colorbar": {
             "outlinewidth": 0,
             "ticks": ""
            },
            "colorscale": [
             [
              0,
              "#0d0887"
             ],
             [
              0.1111111111111111,
              "#46039f"
             ],
             [
              0.2222222222222222,
              "#7201a8"
             ],
             [
              0.3333333333333333,
              "#9c179e"
             ],
             [
              0.4444444444444444,
              "#bd3786"
             ],
             [
              0.5555555555555556,
              "#d8576b"
             ],
             [
              0.6666666666666666,
              "#ed7953"
             ],
             [
              0.7777777777777778,
              "#fb9f3a"
             ],
             [
              0.8888888888888888,
              "#fdca26"
             ],
             [
              1,
              "#f0f921"
             ]
            ],
            "type": "histogram2dcontour"
           }
          ],
          "mesh3d": [
           {
            "colorbar": {
             "outlinewidth": 0,
             "ticks": ""
            },
            "type": "mesh3d"
           }
          ],
          "parcoords": [
           {
            "line": {
             "colorbar": {
              "outlinewidth": 0,
              "ticks": ""
             }
            },
            "type": "parcoords"
           }
          ],
          "pie": [
           {
            "automargin": true,
            "type": "pie"
           }
          ],
          "scatter": [
           {
            "fillpattern": {
             "fillmode": "overlay",
             "size": 10,
             "solidity": 0.2
            },
            "type": "scatter"
           }
          ],
          "scatter3d": [
           {
            "line": {
             "colorbar": {
              "outlinewidth": 0,
              "ticks": ""
             }
            },
            "marker": {
             "colorbar": {
              "outlinewidth": 0,
              "ticks": ""
             }
            },
            "type": "scatter3d"
           }
          ],
          "scattercarpet": [
           {
            "marker": {
             "colorbar": {
              "outlinewidth": 0,
              "ticks": ""
             }
            },
            "type": "scattercarpet"
           }
          ],
          "scattergeo": [
           {
            "marker": {
             "colorbar": {
              "outlinewidth": 0,
              "ticks": ""
             }
            },
            "type": "scattergeo"
           }
          ],
          "scattergl": [
           {
            "marker": {
             "colorbar": {
              "outlinewidth": 0,
              "ticks": ""
             }
            },
            "type": "scattergl"
           }
          ],
          "scattermap": [
           {
            "marker": {
             "colorbar": {
              "outlinewidth": 0,
              "ticks": ""
             }
            },
            "type": "scattermap"
           }
          ],
          "scattermapbox": [
           {
            "marker": {
             "colorbar": {
              "outlinewidth": 0,
              "ticks": ""
             }
            },
            "type": "scattermapbox"
           }
          ],
          "scatterpolar": [
           {
            "marker": {
             "colorbar": {
              "outlinewidth": 0,
              "ticks": ""
             }
            },
            "type": "scatterpolar"
           }
          ],
          "scatterpolargl": [
           {
            "marker": {
             "colorbar": {
              "outlinewidth": 0,
              "ticks": ""
             }
            },
            "type": "scatterpolargl"
           }
          ],
          "scatterternary": [
           {
            "marker": {
             "colorbar": {
              "outlinewidth": 0,
              "ticks": ""
             }
            },
            "type": "scatterternary"
           }
          ],
          "surface": [
           {
            "colorbar": {
             "outlinewidth": 0,
             "ticks": ""
            },
            "colorscale": [
             [
              0,
              "#0d0887"
             ],
             [
              0.1111111111111111,
              "#46039f"
             ],
             [
              0.2222222222222222,
              "#7201a8"
             ],
             [
              0.3333333333333333,
              "#9c179e"
             ],
             [
              0.4444444444444444,
              "#bd3786"
             ],
             [
              0.5555555555555556,
              "#d8576b"
             ],
             [
              0.6666666666666666,
              "#ed7953"
             ],
             [
              0.7777777777777778,
              "#fb9f3a"
             ],
             [
              0.8888888888888888,
              "#fdca26"
             ],
             [
              1,
              "#f0f921"
             ]
            ],
            "type": "surface"
           }
          ],
          "table": [
           {
            "cells": {
             "fill": {
              "color": "#EBF0F8"
             },
             "line": {
              "color": "white"
             }
            },
            "header": {
             "fill": {
              "color": "#C8D4E3"
             },
             "line": {
              "color": "white"
             }
            },
            "type": "table"
           }
          ]
         },
         "layout": {
          "annotationdefaults": {
           "arrowcolor": "#2a3f5f",
           "arrowhead": 0,
           "arrowwidth": 1
          },
          "autotypenumbers": "strict",
          "coloraxis": {
           "colorbar": {
            "outlinewidth": 0,
            "ticks": ""
           }
          },
          "colorscale": {
           "diverging": [
            [
             0,
             "#8e0152"
            ],
            [
             0.1,
             "#c51b7d"
            ],
            [
             0.2,
             "#de77ae"
            ],
            [
             0.3,
             "#f1b6da"
            ],
            [
             0.4,
             "#fde0ef"
            ],
            [
             0.5,
             "#f7f7f7"
            ],
            [
             0.6,
             "#e6f5d0"
            ],
            [
             0.7,
             "#b8e186"
            ],
            [
             0.8,
             "#7fbc41"
            ],
            [
             0.9,
             "#4d9221"
            ],
            [
             1,
             "#276419"
            ]
           ],
           "sequential": [
            [
             0,
             "#0d0887"
            ],
            [
             0.1111111111111111,
             "#46039f"
            ],
            [
             0.2222222222222222,
             "#7201a8"
            ],
            [
             0.3333333333333333,
             "#9c179e"
            ],
            [
             0.4444444444444444,
             "#bd3786"
            ],
            [
             0.5555555555555556,
             "#d8576b"
            ],
            [
             0.6666666666666666,
             "#ed7953"
            ],
            [
             0.7777777777777778,
             "#fb9f3a"
            ],
            [
             0.8888888888888888,
             "#fdca26"
            ],
            [
             1,
             "#f0f921"
            ]
           ],
           "sequentialminus": [
            [
             0,
             "#0d0887"
            ],
            [
             0.1111111111111111,
             "#46039f"
            ],
            [
             0.2222222222222222,
             "#7201a8"
            ],
            [
             0.3333333333333333,
             "#9c179e"
            ],
            [
             0.4444444444444444,
             "#bd3786"
            ],
            [
             0.5555555555555556,
             "#d8576b"
            ],
            [
             0.6666666666666666,
             "#ed7953"
            ],
            [
             0.7777777777777778,
             "#fb9f3a"
            ],
            [
             0.8888888888888888,
             "#fdca26"
            ],
            [
             1,
             "#f0f921"
            ]
           ]
          },
          "colorway": [
           "#636efa",
           "#EF553B",
           "#00cc96",
           "#ab63fa",
           "#FFA15A",
           "#19d3f3",
           "#FF6692",
           "#B6E880",
           "#FF97FF",
           "#FECB52"
          ],
          "font": {
           "color": "#2a3f5f"
          },
          "geo": {
           "bgcolor": "white",
           "lakecolor": "white",
           "landcolor": "white",
           "showlakes": true,
           "showland": true,
           "subunitcolor": "#C8D4E3"
          },
          "hoverlabel": {
           "align": "left"
          },
          "hovermode": "closest",
          "mapbox": {
           "style": "light"
          },
          "paper_bgcolor": "white",
          "plot_bgcolor": "white",
          "polar": {
           "angularaxis": {
            "gridcolor": "#EBF0F8",
            "linecolor": "#EBF0F8",
            "ticks": ""
           },
           "bgcolor": "white",
           "radialaxis": {
            "gridcolor": "#EBF0F8",
            "linecolor": "#EBF0F8",
            "ticks": ""
           }
          },
          "scene": {
           "xaxis": {
            "backgroundcolor": "white",
            "gridcolor": "#DFE8F3",
            "gridwidth": 2,
            "linecolor": "#EBF0F8",
            "showbackground": true,
            "ticks": "",
            "zerolinecolor": "#EBF0F8"
           },
           "yaxis": {
            "backgroundcolor": "white",
            "gridcolor": "#DFE8F3",
            "gridwidth": 2,
            "linecolor": "#EBF0F8",
            "showbackground": true,
            "ticks": "",
            "zerolinecolor": "#EBF0F8"
           },
           "zaxis": {
            "backgroundcolor": "white",
            "gridcolor": "#DFE8F3",
            "gridwidth": 2,
            "linecolor": "#EBF0F8",
            "showbackground": true,
            "ticks": "",
            "zerolinecolor": "#EBF0F8"
           }
          },
          "shapedefaults": {
           "line": {
            "color": "#2a3f5f"
           }
          },
          "ternary": {
           "aaxis": {
            "gridcolor": "#DFE8F3",
            "linecolor": "#A2B1C6",
            "ticks": ""
           },
           "baxis": {
            "gridcolor": "#DFE8F3",
            "linecolor": "#A2B1C6",
            "ticks": ""
           },
           "bgcolor": "white",
           "caxis": {
            "gridcolor": "#DFE8F3",
            "linecolor": "#A2B1C6",
            "ticks": ""
           }
          },
          "title": {
           "x": 0.05
          },
          "xaxis": {
           "automargin": true,
           "gridcolor": "#EBF0F8",
           "linecolor": "#EBF0F8",
           "ticks": "",
           "title": {
            "standoff": 15
           },
           "zerolinecolor": "#EBF0F8",
           "zerolinewidth": 2
          },
          "yaxis": {
           "automargin": true,
           "gridcolor": "#EBF0F8",
           "linecolor": "#EBF0F8",
           "ticks": "",
           "title": {
            "standoff": 15
           },
           "zerolinecolor": "#EBF0F8",
           "zerolinewidth": 2
          }
         }
        },
        "xaxis": {
         "tickangle": -45
        },
        "yaxis": {
         "range": [
          -3.1,
          3.1
         ],
         "tickvals": [
          -3,
          -2,
          -1,
          0,
          1,
          2,
          3
         ],
         "title": {
          "text": "Mean Rating (Bias)"
         }
        }
       }
      }
     },
     "metadata": {},
     "output_type": "display_data"
    }
   ],
   "source": [
    "# Add a new column with the mean of the ratings for each participant\n",
    "df_zh['Mean Rating'] = df_zh.iloc[:, 8:].mean(axis=1)\n",
    "\n",
    "# Separate df_zh into male and female datasets based on the Gender column\n",
    "df_zh_male = df_zh[df_zh['Gender'] == 'male']\n",
    "df_zh_female = df_zh[df_zh['Gender'] == 'female']\n",
    "\n",
    "# Show the number of male and female participants\n",
    "print(f\"Number of male participants: {df_zh_male['Participant ID'].nunique()}\")\n",
    "print(f\"Number of female participants: {df_zh_female['Participant ID'].nunique()}\")\n",
    "\n",
    "# Two Sample T-Test between male and female participants for each occupation word\n",
    "results = []\n",
    "for col in rating_columns:\n",
    "    male_ratings = df_zh_male[col].dropna().astype(float)\n",
    "    female_ratings = df_zh_female[col].dropna().astype(float)\n",
    "    # Only test if both groups have at least 2 ratings\n",
    "    if len(male_ratings) > 1 and len(female_ratings) > 1:\n",
    "        t_stat, p_value = stats.ttest_ind(male_ratings, female_ratings, equal_var=False)\n",
    "        mean_male = male_ratings.mean()\n",
    "        mean_female = female_ratings.mean()\n",
    "        # Get English translation from occupations DataFrame\n",
    "        en_translation = occupations.loc[occupations['zh'] == col, 'en'].values\n",
    "        en_translation = en_translation[0] if len(en_translation) > 0 else \"\"\n",
    "        results.append({\n",
    "            'occupation': col,\n",
    "            'mean_male': mean_male,\n",
    "            'mean_female': mean_female,\n",
    "            't_stat': t_stat,\n",
    "            'p_value': p_value,\n",
    "            'significant': p_value < 0.05,\n",
    "            'marg_significant': 0.05 < p_value < 0.1,\n",
    "            'en': en_translation\n",
    "        })\n",
    "\n",
    "# Create a DataFrame from the results\n",
    "df_ttest = pd.DataFrame(results)\n",
    "\n",
    "# Add overall mean rating for sorting\n",
    "df_ttest['overall_mean'] = (df_ttest['mean_male'] + df_ttest['mean_female']) / 2\n",
    "\n",
    "# Sort by overall mean rating\n",
    "df_ttest_sorted = df_ttest.sort_values('overall_mean', ascending=False)\n",
    "\n",
    "# Prepare axis labels: bold for significant\n",
    "def bold_label(row):\n",
    "    occupation = row['occupation']\n",
    "    if row.get('significant'):\n",
    "        occupation = f\"<b>{occupation}*</b>\"\n",
    "    if row.get('marg_significant'):\n",
    "        occupation = f\"<b>{occupation}+</b>\"\n",
    "    return occupation\n",
    "\n",
    "df_ttest_sorted['occupation_label'] = df_ttest_sorted.apply(bold_label, axis=1)\n",
    "\n",
    "# Plot with English translation in hover\n",
    "fig = go.Figure()\n",
    "\n",
    "fig.add_trace(go.Bar(\n",
    "    x=df_ttest_sorted['occupation_label'],\n",
    "    y=df_ttest_sorted['mean_male'],\n",
    "    name='Male',\n",
    "    marker_color=male_color,\n",
    "    customdata=df_ttest_sorted[['en']],\n",
    "    hovertemplate='Occupation: %{x}<br>English: %{customdata[0]}<br>Mean (Male): %{y:.2f}<extra></extra>'\n",
    "))\n",
    "\n",
    "fig.add_trace(go.Bar(\n",
    "    x=df_ttest_sorted['occupation_label'],\n",
    "    y=df_ttest_sorted['mean_female'],\n",
    "    name='Female',\n",
    "    marker_color=female_color,\n",
    "    customdata=df_ttest_sorted[['en']],\n",
    "    hovertemplate='Occupation: %{x}<br>English: %{customdata[0]}<br>Mean (Female): %{y:.2f}<extra></extra>'\n",
    "))\n",
    "\n",
    "fig.update_layout(\n",
    "    barmode='group',\n",
    "    xaxis_tickangle=-45,\n",
    "    yaxis_title='Bias (Male - Female)',\n",
    "    yaxis=dict(\n",
    "        range=[-3.1, 3.1],\n",
    "        tickvals=[-3, -2, -1, 0, 1, 2, 3],\n",
    "        title='Mean Rating (Bias)'\n",
    "    ),\n",
    "    template='plotly_white',\n",
    "    font=dict(family=\"Times New Roman, serif\", size=16, color='black'),\n",
    "    margin=dict(l=0, r=0, t=0, b=0),\n",
    "    legend=dict(\n",
    "        orientation='h',\n",
    "        yanchor='bottom',\n",
    "        y=0,\n",
    "        xanchor='center',\n",
    "        x=0.5,\n",
    "        bgcolor='rgba(220, 220, 220, 0.25)',\n",
    "    )\n",
    ")\n",
    "\n",
    "# Show the plot\n",
    "fig.show()\n",
    "\n",
    "# Save it as HTML and image\n",
    "fig.write_html('occupations_zh_gender.html')\n",
    "fig.write_image('occupations_zh_gender.png', scale=3, width=1000, height=400)"
   ]
  },
  {
   "cell_type": "markdown",
   "id": "a870abef",
   "metadata": {},
   "source": [
    "#### Biases and biases by"
   ]
  },
  {
   "cell_type": "code",
   "execution_count": 115,
   "id": "4c5016e9",
   "metadata": {},
   "outputs": [],
   "source": [
    "# Add a column 'bias_by' to df_ttest_sorted: 'Male' if abs(mean_male) > abs(mean_female), 'Female' if abs(mean_female) > abs(mean_male), 'Equal' if they are the same\n",
    "df_ttest_sorted['bias_by'] = np.where(\n",
    "    np.abs(df_ttest_sorted['mean_male']) > np.abs(df_ttest_sorted['mean_female']), 'Men',\n",
    "    np.where(np.abs(df_ttest_sorted['mean_male']) < np.abs(df_ttest_sorted['mean_female']), 'Women', 'Equal')\n",
    ")\n",
    "\n",
    "# Add columns that show if the bias is male or female. Add male, if the overall mean is lower than 0, othervise add Female\n",
    "df_ttest_sorted['bias'] = np.where(\n",
    "    df_ttest_sorted['overall_mean'] > 0, 'Female',\n",
    "    np.where(df_ttest_sorted['overall_mean'] < 0, 'Male', 'Equal')\n",
    ")\n",
    "\n",
    "# Calculate mean_difference (mean_male - mean_female), and add its absolute value\n",
    "df_ttest_sorted['mean_difference'] = (df_ttest_sorted['mean_male'] - df_ttest_sorted['mean_female']).abs()\n"
   ]
  },
  {
   "cell_type": "markdown",
   "id": "9b5936ae",
   "metadata": {},
   "source": [
    "#### Confusion matrix of biases"
   ]
  },
  {
   "cell_type": "code",
   "execution_count": 116,
   "id": "d6e21cf3",
   "metadata": {},
   "outputs": [
    {
     "data": {
      "application/vnd.plotly.v1+json": {
       "config": {
        "plotlyServerURL": "https://plot.ly"
       },
       "data": [
        {
         "colorscale": [
          [
           0,
           "rgb(210, 251, 212)"
          ],
          [
           0.16666666666666666,
           "rgb(165, 219, 194)"
          ],
          [
           0.3333333333333333,
           "rgb(123, 188, 176)"
          ],
          [
           0.5,
           "rgb(85, 156, 158)"
          ],
          [
           0.6666666666666666,
           "rgb(58, 124, 137)"
          ],
          [
           0.8333333333333334,
           "rgb(35, 93, 114)"
          ],
          [
           1,
           "rgb(18, 63, 90)"
          ]
         ],
         "hovertemplate": "Bias: %{y}<br>Bias By: %{x}<br>Count: %{z}<extra></extra>",
         "text": {
          "bdata": "Bg4NCw==",
          "dtype": "i1",
          "shape": "2, 2"
         },
         "texttemplate": "%{text}",
         "type": "heatmap",
         "x": [
          "Men",
          "Women"
         ],
         "y": [
          "Female",
          "Male"
         ],
         "z": {
          "bdata": "Bg4NCw==",
          "dtype": "i1",
          "shape": "2, 2"
         }
        }
       ],
       "layout": {
        "font": {
         "color": "black",
         "family": "Times New Roman, serif",
         "size": 28
        },
        "margin": {
         "b": 0,
         "l": 0,
         "r": 0,
         "t": 0
        },
        "template": {
         "data": {
          "bar": [
           {
            "error_x": {
             "color": "#2a3f5f"
            },
            "error_y": {
             "color": "#2a3f5f"
            },
            "marker": {
             "line": {
              "color": "#E5ECF6",
              "width": 0.5
             },
             "pattern": {
              "fillmode": "overlay",
              "size": 10,
              "solidity": 0.2
             }
            },
            "type": "bar"
           }
          ],
          "barpolar": [
           {
            "marker": {
             "line": {
              "color": "#E5ECF6",
              "width": 0.5
             },
             "pattern": {
              "fillmode": "overlay",
              "size": 10,
              "solidity": 0.2
             }
            },
            "type": "barpolar"
           }
          ],
          "carpet": [
           {
            "aaxis": {
             "endlinecolor": "#2a3f5f",
             "gridcolor": "white",
             "linecolor": "white",
             "minorgridcolor": "white",
             "startlinecolor": "#2a3f5f"
            },
            "baxis": {
             "endlinecolor": "#2a3f5f",
             "gridcolor": "white",
             "linecolor": "white",
             "minorgridcolor": "white",
             "startlinecolor": "#2a3f5f"
            },
            "type": "carpet"
           }
          ],
          "choropleth": [
           {
            "colorbar": {
             "outlinewidth": 0,
             "ticks": ""
            },
            "type": "choropleth"
           }
          ],
          "contour": [
           {
            "colorbar": {
             "outlinewidth": 0,
             "ticks": ""
            },
            "colorscale": [
             [
              0,
              "#0d0887"
             ],
             [
              0.1111111111111111,
              "#46039f"
             ],
             [
              0.2222222222222222,
              "#7201a8"
             ],
             [
              0.3333333333333333,
              "#9c179e"
             ],
             [
              0.4444444444444444,
              "#bd3786"
             ],
             [
              0.5555555555555556,
              "#d8576b"
             ],
             [
              0.6666666666666666,
              "#ed7953"
             ],
             [
              0.7777777777777778,
              "#fb9f3a"
             ],
             [
              0.8888888888888888,
              "#fdca26"
             ],
             [
              1,
              "#f0f921"
             ]
            ],
            "type": "contour"
           }
          ],
          "contourcarpet": [
           {
            "colorbar": {
             "outlinewidth": 0,
             "ticks": ""
            },
            "type": "contourcarpet"
           }
          ],
          "heatmap": [
           {
            "colorbar": {
             "outlinewidth": 0,
             "ticks": ""
            },
            "colorscale": [
             [
              0,
              "#0d0887"
             ],
             [
              0.1111111111111111,
              "#46039f"
             ],
             [
              0.2222222222222222,
              "#7201a8"
             ],
             [
              0.3333333333333333,
              "#9c179e"
             ],
             [
              0.4444444444444444,
              "#bd3786"
             ],
             [
              0.5555555555555556,
              "#d8576b"
             ],
             [
              0.6666666666666666,
              "#ed7953"
             ],
             [
              0.7777777777777778,
              "#fb9f3a"
             ],
             [
              0.8888888888888888,
              "#fdca26"
             ],
             [
              1,
              "#f0f921"
             ]
            ],
            "type": "heatmap"
           }
          ],
          "histogram": [
           {
            "marker": {
             "pattern": {
              "fillmode": "overlay",
              "size": 10,
              "solidity": 0.2
             }
            },
            "type": "histogram"
           }
          ],
          "histogram2d": [
           {
            "colorbar": {
             "outlinewidth": 0,
             "ticks": ""
            },
            "colorscale": [
             [
              0,
              "#0d0887"
             ],
             [
              0.1111111111111111,
              "#46039f"
             ],
             [
              0.2222222222222222,
              "#7201a8"
             ],
             [
              0.3333333333333333,
              "#9c179e"
             ],
             [
              0.4444444444444444,
              "#bd3786"
             ],
             [
              0.5555555555555556,
              "#d8576b"
             ],
             [
              0.6666666666666666,
              "#ed7953"
             ],
             [
              0.7777777777777778,
              "#fb9f3a"
             ],
             [
              0.8888888888888888,
              "#fdca26"
             ],
             [
              1,
              "#f0f921"
             ]
            ],
            "type": "histogram2d"
           }
          ],
          "histogram2dcontour": [
           {
            "colorbar": {
             "outlinewidth": 0,
             "ticks": ""
            },
            "colorscale": [
             [
              0,
              "#0d0887"
             ],
             [
              0.1111111111111111,
              "#46039f"
             ],
             [
              0.2222222222222222,
              "#7201a8"
             ],
             [
              0.3333333333333333,
              "#9c179e"
             ],
             [
              0.4444444444444444,
              "#bd3786"
             ],
             [
              0.5555555555555556,
              "#d8576b"
             ],
             [
              0.6666666666666666,
              "#ed7953"
             ],
             [
              0.7777777777777778,
              "#fb9f3a"
             ],
             [
              0.8888888888888888,
              "#fdca26"
             ],
             [
              1,
              "#f0f921"
             ]
            ],
            "type": "histogram2dcontour"
           }
          ],
          "mesh3d": [
           {
            "colorbar": {
             "outlinewidth": 0,
             "ticks": ""
            },
            "type": "mesh3d"
           }
          ],
          "parcoords": [
           {
            "line": {
             "colorbar": {
              "outlinewidth": 0,
              "ticks": ""
             }
            },
            "type": "parcoords"
           }
          ],
          "pie": [
           {
            "automargin": true,
            "type": "pie"
           }
          ],
          "scatter": [
           {
            "fillpattern": {
             "fillmode": "overlay",
             "size": 10,
             "solidity": 0.2
            },
            "type": "scatter"
           }
          ],
          "scatter3d": [
           {
            "line": {
             "colorbar": {
              "outlinewidth": 0,
              "ticks": ""
             }
            },
            "marker": {
             "colorbar": {
              "outlinewidth": 0,
              "ticks": ""
             }
            },
            "type": "scatter3d"
           }
          ],
          "scattercarpet": [
           {
            "marker": {
             "colorbar": {
              "outlinewidth": 0,
              "ticks": ""
             }
            },
            "type": "scattercarpet"
           }
          ],
          "scattergeo": [
           {
            "marker": {
             "colorbar": {
              "outlinewidth": 0,
              "ticks": ""
             }
            },
            "type": "scattergeo"
           }
          ],
          "scattergl": [
           {
            "marker": {
             "colorbar": {
              "outlinewidth": 0,
              "ticks": ""
             }
            },
            "type": "scattergl"
           }
          ],
          "scattermap": [
           {
            "marker": {
             "colorbar": {
              "outlinewidth": 0,
              "ticks": ""
             }
            },
            "type": "scattermap"
           }
          ],
          "scattermapbox": [
           {
            "marker": {
             "colorbar": {
              "outlinewidth": 0,
              "ticks": ""
             }
            },
            "type": "scattermapbox"
           }
          ],
          "scatterpolar": [
           {
            "marker": {
             "colorbar": {
              "outlinewidth": 0,
              "ticks": ""
             }
            },
            "type": "scatterpolar"
           }
          ],
          "scatterpolargl": [
           {
            "marker": {
             "colorbar": {
              "outlinewidth": 0,
              "ticks": ""
             }
            },
            "type": "scatterpolargl"
           }
          ],
          "scatterternary": [
           {
            "marker": {
             "colorbar": {
              "outlinewidth": 0,
              "ticks": ""
             }
            },
            "type": "scatterternary"
           }
          ],
          "surface": [
           {
            "colorbar": {
             "outlinewidth": 0,
             "ticks": ""
            },
            "colorscale": [
             [
              0,
              "#0d0887"
             ],
             [
              0.1111111111111111,
              "#46039f"
             ],
             [
              0.2222222222222222,
              "#7201a8"
             ],
             [
              0.3333333333333333,
              "#9c179e"
             ],
             [
              0.4444444444444444,
              "#bd3786"
             ],
             [
              0.5555555555555556,
              "#d8576b"
             ],
             [
              0.6666666666666666,
              "#ed7953"
             ],
             [
              0.7777777777777778,
              "#fb9f3a"
             ],
             [
              0.8888888888888888,
              "#fdca26"
             ],
             [
              1,
              "#f0f921"
             ]
            ],
            "type": "surface"
           }
          ],
          "table": [
           {
            "cells": {
             "fill": {
              "color": "#EBF0F8"
             },
             "line": {
              "color": "white"
             }
            },
            "header": {
             "fill": {
              "color": "#C8D4E3"
             },
             "line": {
              "color": "white"
             }
            },
            "type": "table"
           }
          ]
         },
         "layout": {
          "annotationdefaults": {
           "arrowcolor": "#2a3f5f",
           "arrowhead": 0,
           "arrowwidth": 1
          },
          "autotypenumbers": "strict",
          "coloraxis": {
           "colorbar": {
            "outlinewidth": 0,
            "ticks": ""
           }
          },
          "colorscale": {
           "diverging": [
            [
             0,
             "#8e0152"
            ],
            [
             0.1,
             "#c51b7d"
            ],
            [
             0.2,
             "#de77ae"
            ],
            [
             0.3,
             "#f1b6da"
            ],
            [
             0.4,
             "#fde0ef"
            ],
            [
             0.5,
             "#f7f7f7"
            ],
            [
             0.6,
             "#e6f5d0"
            ],
            [
             0.7,
             "#b8e186"
            ],
            [
             0.8,
             "#7fbc41"
            ],
            [
             0.9,
             "#4d9221"
            ],
            [
             1,
             "#276419"
            ]
           ],
           "sequential": [
            [
             0,
             "#0d0887"
            ],
            [
             0.1111111111111111,
             "#46039f"
            ],
            [
             0.2222222222222222,
             "#7201a8"
            ],
            [
             0.3333333333333333,
             "#9c179e"
            ],
            [
             0.4444444444444444,
             "#bd3786"
            ],
            [
             0.5555555555555556,
             "#d8576b"
            ],
            [
             0.6666666666666666,
             "#ed7953"
            ],
            [
             0.7777777777777778,
             "#fb9f3a"
            ],
            [
             0.8888888888888888,
             "#fdca26"
            ],
            [
             1,
             "#f0f921"
            ]
           ],
           "sequentialminus": [
            [
             0,
             "#0d0887"
            ],
            [
             0.1111111111111111,
             "#46039f"
            ],
            [
             0.2222222222222222,
             "#7201a8"
            ],
            [
             0.3333333333333333,
             "#9c179e"
            ],
            [
             0.4444444444444444,
             "#bd3786"
            ],
            [
             0.5555555555555556,
             "#d8576b"
            ],
            [
             0.6666666666666666,
             "#ed7953"
            ],
            [
             0.7777777777777778,
             "#fb9f3a"
            ],
            [
             0.8888888888888888,
             "#fdca26"
            ],
            [
             1,
             "#f0f921"
            ]
           ]
          },
          "colorway": [
           "#636efa",
           "#EF553B",
           "#00cc96",
           "#ab63fa",
           "#FFA15A",
           "#19d3f3",
           "#FF6692",
           "#B6E880",
           "#FF97FF",
           "#FECB52"
          ],
          "font": {
           "color": "#2a3f5f"
          },
          "geo": {
           "bgcolor": "white",
           "lakecolor": "white",
           "landcolor": "#E5ECF6",
           "showlakes": true,
           "showland": true,
           "subunitcolor": "white"
          },
          "hoverlabel": {
           "align": "left"
          },
          "hovermode": "closest",
          "mapbox": {
           "style": "light"
          },
          "paper_bgcolor": "white",
          "plot_bgcolor": "#E5ECF6",
          "polar": {
           "angularaxis": {
            "gridcolor": "white",
            "linecolor": "white",
            "ticks": ""
           },
           "bgcolor": "#E5ECF6",
           "radialaxis": {
            "gridcolor": "white",
            "linecolor": "white",
            "ticks": ""
           }
          },
          "scene": {
           "xaxis": {
            "backgroundcolor": "#E5ECF6",
            "gridcolor": "white",
            "gridwidth": 2,
            "linecolor": "white",
            "showbackground": true,
            "ticks": "",
            "zerolinecolor": "white"
           },
           "yaxis": {
            "backgroundcolor": "#E5ECF6",
            "gridcolor": "white",
            "gridwidth": 2,
            "linecolor": "white",
            "showbackground": true,
            "ticks": "",
            "zerolinecolor": "white"
           },
           "zaxis": {
            "backgroundcolor": "#E5ECF6",
            "gridcolor": "white",
            "gridwidth": 2,
            "linecolor": "white",
            "showbackground": true,
            "ticks": "",
            "zerolinecolor": "white"
           }
          },
          "shapedefaults": {
           "line": {
            "color": "#2a3f5f"
           }
          },
          "ternary": {
           "aaxis": {
            "gridcolor": "white",
            "linecolor": "white",
            "ticks": ""
           },
           "baxis": {
            "gridcolor": "white",
            "linecolor": "white",
            "ticks": ""
           },
           "bgcolor": "#E5ECF6",
           "caxis": {
            "gridcolor": "white",
            "linecolor": "white",
            "ticks": ""
           }
          },
          "title": {
           "x": 0.05
          },
          "xaxis": {
           "automargin": true,
           "gridcolor": "white",
           "linecolor": "white",
           "ticks": "",
           "title": {
            "standoff": 15
           },
           "zerolinecolor": "white",
           "zerolinewidth": 2
          },
          "yaxis": {
           "automargin": true,
           "gridcolor": "white",
           "linecolor": "white",
           "ticks": "",
           "title": {
            "standoff": 15
           },
           "zerolinecolor": "white",
           "zerolinewidth": 2
          }
         }
        },
        "title": {
         "text": "Confusion Matrix of Biases"
        },
        "xaxis": {
         "title": {
          "text": "Bias By"
         }
        },
        "yaxis": {
         "title": {
          "text": "Bias"
         }
        }
       }
      }
     },
     "metadata": {},
     "output_type": "display_data"
    }
   ],
   "source": [
    "# Count unique values in 'bias' and 'bias_by' columns, ignoring 'Equal'\n",
    "# Create confusion matrix, ignoring 'Equal'\n",
    "conf_matrix = pd.crosstab(\n",
    "    df_ttest_sorted.loc[df_ttest_sorted['bias'] != 'Equal', 'bias'],\n",
    "    df_ttest_sorted.loc[df_ttest_sorted['bias_by'] != 'Equal', 'bias_by']\n",
    ")\n",
    "\n",
    "# Plot confusion matrix with plotly\n",
    "fig = go.Figure(data=go.Heatmap(\n",
    "    z=conf_matrix.values,\n",
    "    x=conf_matrix.columns,\n",
    "    y=conf_matrix.index,\n",
    "    colorscale='Darkmint',\n",
    "    text=conf_matrix.values,\n",
    "    texttemplate=\"%{text}\",\n",
    "    hovertemplate=\"Bias: %{y}<br>Bias By: %{x}<br>Count: %{z}<extra></extra>\"\n",
    "))\n",
    "\n",
    "fig.update_layout(\n",
    "    font=dict(family=\"Times New Roman, serif\", size=28, color='black'),\n",
    "    margin=dict(l=0, r=0, t=0, b=0),\n",
    "    title=\"Confusion Matrix of Biases\",\n",
    "    xaxis_title=\"Bias By\",\n",
    "    yaxis_title=\"Bias\",\n",
    "    # width=500,\n",
    "    # height=400\n",
    ")\n",
    "\n",
    "# Show\n",
    "fig.show()\n",
    "\n",
    "# Save confusion matrix as HTML and image\n",
    "fig.write_html('confusion_matrix_zh.html')\n",
    "fig.write_image('confusion_matrix_zh.png', scale=3, width=550, height=400)"
   ]
  },
  {
   "cell_type": "markdown",
   "id": "a7d4af3e",
   "metadata": {},
   "source": [
    "#### Transpose"
   ]
  },
  {
   "cell_type": "code",
   "execution_count": 117,
   "id": "3ac3cef0",
   "metadata": {},
   "outputs": [
    {
     "name": "stdout",
     "output_type": "stream",
     "text": [
      "Number of rows: 44\n"
     ]
    },
    {
     "data": {
      "text/html": [
       "<div>\n",
       "<style scoped>\n",
       "    .dataframe tbody tr th:only-of-type {\n",
       "        vertical-align: middle;\n",
       "    }\n",
       "\n",
       "    .dataframe tbody tr th {\n",
       "        vertical-align: top;\n",
       "    }\n",
       "\n",
       "    .dataframe thead th {\n",
       "        text-align: right;\n",
       "    }\n",
       "</style>\n",
       "<table border=\"1\" class=\"dataframe\">\n",
       "  <thead>\n",
       "    <tr style=\"text-align: right;\">\n",
       "      <th></th>\n",
       "      <th>0</th>\n",
       "      <th>1</th>\n",
       "      <th>2</th>\n",
       "      <th>3</th>\n",
       "      <th>4</th>\n",
       "      <th>5</th>\n",
       "      <th>6</th>\n",
       "      <th>7</th>\n",
       "      <th>8</th>\n",
       "      <th>9</th>\n",
       "      <th>...</th>\n",
       "      <th>14</th>\n",
       "      <th>15</th>\n",
       "      <th>16</th>\n",
       "      <th>17</th>\n",
       "      <th>18</th>\n",
       "      <th>19</th>\n",
       "      <th>20</th>\n",
       "      <th>21</th>\n",
       "      <th>22</th>\n",
       "      <th>23</th>\n",
       "    </tr>\n",
       "  </thead>\n",
       "  <tbody>\n",
       "    <tr>\n",
       "      <th>Age</th>\n",
       "      <td>&lt;25</td>\n",
       "      <td>&lt;25</td>\n",
       "      <td>&lt;25</td>\n",
       "      <td>&lt;25</td>\n",
       "      <td>&lt;25</td>\n",
       "      <td>&lt;25</td>\n",
       "      <td>&lt;25</td>\n",
       "      <td>&lt;25</td>\n",
       "      <td>35-45</td>\n",
       "      <td>&lt;25</td>\n",
       "      <td>...</td>\n",
       "      <td>&lt;25</td>\n",
       "      <td>&lt;25</td>\n",
       "      <td>&lt;25</td>\n",
       "      <td>25-35</td>\n",
       "      <td>&lt;25</td>\n",
       "      <td>25-35</td>\n",
       "      <td>25-35</td>\n",
       "      <td>25-35</td>\n",
       "      <td>25-35</td>\n",
       "      <td>&lt;25</td>\n",
       "    </tr>\n",
       "    <tr>\n",
       "      <th>Gender</th>\n",
       "      <td>male</td>\n",
       "      <td>female</td>\n",
       "      <td>female</td>\n",
       "      <td>female</td>\n",
       "      <td>male</td>\n",
       "      <td>female</td>\n",
       "      <td>female</td>\n",
       "      <td>male</td>\n",
       "      <td>male</td>\n",
       "      <td>male</td>\n",
       "      <td>...</td>\n",
       "      <td>male</td>\n",
       "      <td>male</td>\n",
       "      <td>male</td>\n",
       "      <td>female</td>\n",
       "      <td>male</td>\n",
       "      <td>male</td>\n",
       "      <td>male</td>\n",
       "      <td>male</td>\n",
       "      <td>male</td>\n",
       "      <td>female</td>\n",
       "    </tr>\n",
       "    <tr>\n",
       "      <th>警察</th>\n",
       "      <td>-1</td>\n",
       "      <td>0</td>\n",
       "      <td>-2</td>\n",
       "      <td>-1</td>\n",
       "      <td>-1</td>\n",
       "      <td>-1</td>\n",
       "      <td>0</td>\n",
       "      <td>-2</td>\n",
       "      <td>-1</td>\n",
       "      <td>-2</td>\n",
       "      <td>...</td>\n",
       "      <td>-1</td>\n",
       "      <td>-1</td>\n",
       "      <td>-1</td>\n",
       "      <td>-1</td>\n",
       "      <td>-2</td>\n",
       "      <td>-1</td>\n",
       "      <td>-1</td>\n",
       "      <td>-2</td>\n",
       "      <td>0</td>\n",
       "      <td>-1</td>\n",
       "    </tr>\n",
       "    <tr>\n",
       "      <th>秘书</th>\n",
       "      <td>1</td>\n",
       "      <td>1</td>\n",
       "      <td>2</td>\n",
       "      <td>1</td>\n",
       "      <td>1</td>\n",
       "      <td>0</td>\n",
       "      <td>0</td>\n",
       "      <td>2</td>\n",
       "      <td>1</td>\n",
       "      <td>0</td>\n",
       "      <td>...</td>\n",
       "      <td>1</td>\n",
       "      <td>1</td>\n",
       "      <td>1</td>\n",
       "      <td>1</td>\n",
       "      <td>1</td>\n",
       "      <td>1</td>\n",
       "      <td>1</td>\n",
       "      <td>2</td>\n",
       "      <td>1</td>\n",
       "      <td>1</td>\n",
       "    </tr>\n",
       "    <tr>\n",
       "      <th>教授</th>\n",
       "      <td>0</td>\n",
       "      <td>0</td>\n",
       "      <td>-2</td>\n",
       "      <td>-1</td>\n",
       "      <td>0</td>\n",
       "      <td>-1</td>\n",
       "      <td>-1</td>\n",
       "      <td>-2</td>\n",
       "      <td>0</td>\n",
       "      <td>-1</td>\n",
       "      <td>...</td>\n",
       "      <td>-1</td>\n",
       "      <td>0</td>\n",
       "      <td>0</td>\n",
       "      <td>0</td>\n",
       "      <td>0</td>\n",
       "      <td>0</td>\n",
       "      <td>0</td>\n",
       "      <td>-1</td>\n",
       "      <td>0</td>\n",
       "      <td>0</td>\n",
       "    </tr>\n",
       "  </tbody>\n",
       "</table>\n",
       "<p>5 rows × 24 columns</p>\n",
       "</div>"
      ],
      "text/plain": [
       "          0       1       2       3     4       5       6     7      8     9   \\\n",
       "Age      <25     <25     <25     <25   <25     <25     <25   <25  35-45   <25   \n",
       "Gender  male  female  female  female  male  female  female  male   male  male   \n",
       "警察        -1       0      -2      -1    -1      -1       0    -2     -1    -2   \n",
       "秘书         1       1       2       1     1       0       0     2      1     0   \n",
       "教授         0       0      -2      -1     0      -1      -1    -2      0    -1   \n",
       "\n",
       "        ...    14    15    16      17    18     19     20     21     22  \\\n",
       "Age     ...   <25   <25   <25   25-35   <25  25-35  25-35  25-35  25-35   \n",
       "Gender  ...  male  male  male  female  male   male   male   male   male   \n",
       "警察      ...    -1    -1    -1      -1    -2     -1     -1     -2      0   \n",
       "秘书      ...     1     1     1       1     1      1      1      2      1   \n",
       "教授      ...    -1     0     0       0     0      0      0     -1      0   \n",
       "\n",
       "            23  \n",
       "Age        <25  \n",
       "Gender  female  \n",
       "警察          -1  \n",
       "秘书           1  \n",
       "教授           0  \n",
       "\n",
       "[5 rows x 24 columns]"
      ]
     },
     "execution_count": 117,
     "metadata": {},
     "output_type": "execute_result"
    }
   ],
   "source": [
    "# Transpose results, a prepare a copy with only the ratings\n",
    "df_zh_ratings = df_zh[rating_columns].transpose()\n",
    "df_zh = df_zh.transpose()\n",
    "\n",
    "# Remove rows with index: ID, Start Time, Completion time, Email, Name, Participant ID\n",
    "df_zh = df_zh.drop(['Participant ID', 'Education'], axis=0) \n",
    "\n",
    "# Print number of rows\n",
    "print(f\"Number of rows: {len(df_zh_ratings)}\")\n",
    "\n",
    "# # Sort by index\n",
    "# df_zh = df_zh.sort_index()\n",
    "\n",
    "# Show\n",
    "df_zh.head()"
   ]
  },
  {
   "cell_type": "markdown",
   "id": "37c54cf6",
   "metadata": {},
   "source": [
    "#### One Sample T-test"
   ]
  },
  {
   "cell_type": "code",
   "execution_count": 118,
   "id": "ddecec3e",
   "metadata": {},
   "outputs": [
    {
     "name": "stdout",
     "output_type": "stream",
     "text": [
      "   item      mean       std       p_value\n",
      "0    警察 -1.125000  0.612372  5.367933e-09\n",
      "1    秘书  0.958333  0.550033  1.386222e-08\n",
      "2    教授 -0.458333  0.658005  2.385824e-03\n",
      "3    护士  1.583333  0.503610  1.312409e-13\n",
      "4    高管 -0.500000  0.659380  1.138944e-03\n",
      "5    教师  0.541667  0.658005  5.185043e-04\n",
      "6    前台  1.375000  1.013496  8.825420e-07\n",
      "7    工人 -1.125000  0.797414  4.790048e-07\n",
      "8    幼师  1.583333  0.717282  1.711575e-10\n",
      "9    模特  0.333333  0.564660  8.223215e-03\n",
      "10   护工  0.625000  0.769670  5.938987e-04\n",
      "11   保姆  1.625000  0.710939  8.681772e-11\n",
      "12   会计  0.500000  0.722315  2.511711e-03\n",
      "13  工程师 -0.875000  0.899879  8.393129e-05\n",
      "14   保洁  0.708333  0.858673  5.077495e-04\n",
      "15   法官 -0.375000  0.646899  9.277574e-03\n",
      "16  导购员  0.833333  0.637022  1.537714e-06\n",
      "17  美容师  1.458333  0.779028  3.813259e-09\n",
      "19  乘务员  0.458333  0.658005  2.385824e-03\n",
      "20  理发师 -0.750000  0.737210  4.853396e-05\n",
      "21  空服员  0.708333  0.806450  2.646259e-04\n",
      "22  售票员  0.333333  0.481543  2.511711e-03\n",
      "23   厨师 -1.041667  0.750604  6.206482e-07\n",
      "25  家政员  0.500000  0.780189  4.594662e-03\n",
      "26  收银员  0.875000  0.679674  1.954731e-06\n",
      "28   法医 -0.791667  0.832971  1.096936e-04\n",
      "29  程序员 -1.083333  0.775532  5.600510e-07\n",
      "30   保安 -1.791667  0.721060  1.660571e-11\n",
      "31   导演 -0.708333  0.690253  4.359181e-05\n",
      "32   军人 -1.000000  0.722315  6.444485e-07\n",
      "33  董事长 -0.875000  0.740887  6.794579e-06\n",
      "34   农民 -0.541667  0.779028  2.421177e-03\n",
      "36   园丁 -0.416667  0.653863  4.793003e-03\n",
      "37  飞行员 -1.000000  0.659380  1.489369e-07\n",
      "38   人事  0.583333  0.880547  3.568862e-03\n",
      "39  消防员 -1.791667  0.721060  1.660571e-11\n",
      "40  科学家 -0.458333  0.658005  2.385824e-03\n",
      "41  检察官 -0.416667  0.583592  1.938806e-03\n",
      "42  救生员 -1.500000  0.884652  2.236210e-08\n",
      "43  建筑师 -0.708333  0.806450  2.646259e-04\n",
      "\n",
      "Range of mean ratings where the rating is not significant: -0.20833333333333334 to 0.20833333333333334\n"
     ]
    }
   ],
   "source": [
    "# One Sample T-test with standard deviation\n",
    "results = []\n",
    "\n",
    "for index, row in df_zh_ratings.iterrows():\n",
    "    ratings = row.dropna().astype(float)\n",
    "    t_stat, p_value = stats.ttest_1samp(ratings, popmean=0)\n",
    "    mean_rating = ratings.mean()\n",
    "    std_rating = ratings.std()\n",
    "    results.append({\n",
    "        'item': index,  # item name from index\n",
    "        'mean': mean_rating,\n",
    "        'std': std_rating,\n",
    "        't_stat': t_stat,\n",
    "        'p_value': p_value,\n",
    "        'significant': p_value < 0.05\n",
    "    })\n",
    "\n",
    "df_results = pd.DataFrame(results)\n",
    "\n",
    "# Print significant results\n",
    "print(df_results[df_results['significant']][['item', 'mean', 'std', 'p_value']])\n",
    "\n",
    "# Filter for non-significant ratings\n",
    "not_significant = df_results[~df_results['significant']]\n",
    "\n",
    "# Get the min and max of the mean ratings where not significant\n",
    "mean_min = not_significant['mean'].min()\n",
    "mean_max = not_significant['mean'].max()\n",
    "\n",
    "# Print the range of mean ratings where the rating is not significant\n",
    "print(f\"\\nRange of mean ratings where the rating is not significant: {mean_min} to {mean_max}\")"
   ]
  },
  {
   "cell_type": "code",
   "execution_count": 119,
   "id": "6ea675a5",
   "metadata": {},
   "outputs": [
    {
     "data": {
      "application/vnd.plotly.v1+json": {
       "config": {
        "plotlyServerURL": "https://plot.ly"
       },
       "data": [
        {
         "customdata": {
          "bdata": "IaTyYxdCsj0hpPJjF0KyPc8QUh3ZAlg+gtHq2BoONz7kIJKgnhKgPogyLzHNyqI+mdR4zlPTpD79+Jjubv2DPs7xNFjFn6U+Z4XPjYgAFj9UdCPCn3/cPkAkXiFqwRw/EJS/IB5yCT+dHsUSy9oGPyrG0nyvVzE/S2p/vZPVYz91EWRJE6lSP0/ggJ1vi2M/T+CAnW+LYz98taHv06FzP5l4/E/xw18/HS8y6h4Agz/8S1WqcJNkPwDG8klV14A/T+CAnW+LYz/8S1WqcJNkP1pLlRXa0XI/tpKlcof9QD+kyXNycjxtP/rOnbv7dUM/Z41rsU+jQD8qxtJ8r1cxP+xGWGRuzLk+iSg6+cBlwD4i9j5G1sRNPhkBBVn6nK0+pAix/bhgMD6bH07qc3hCPZPI2KERhuc9Thob70Dd1z0=",
          "dtype": "f8",
          "shape": "40, 1"
         },
         "hovertemplate": "Significance=significant<br>Item=%{x}<br>Mean Rating=%{y}<br>p_value=%{customdata[0]}<extra></extra>",
         "legendgroup": "significant",
         "marker": {
          "color": "crimson",
          "pattern": {
           "shape": ""
          }
         },
         "name": "significant",
         "orientation": "v",
         "showlegend": true,
         "textposition": "auto",
         "type": "bar",
         "x": [
          "保安",
          "消防员",
          "救生员",
          "警察",
          "工人",
          "程序员",
          "厨师",
          "飞行员",
          "军人",
          "工程师",
          "董事长",
          "法医",
          "理发师",
          "导演",
          "建筑师",
          "农民",
          "高管",
          "科学家",
          "教授",
          "园丁",
          "检察官",
          "法官",
          "售票员",
          "模特",
          "乘务员",
          "会计",
          "家政员",
          "教师",
          "人事",
          "护工",
          "保洁",
          "空服员",
          "导购员",
          "收银员",
          "秘书",
          "前台",
          "美容师",
          "护士",
          "幼师",
          "保姆"
         ],
         "xaxis": "x",
         "y": {
          "bdata": "q6qqqqqq/L+rqqqqqqr8vwAAAAAAAPi/AAAAAAAA8r8AAAAAAADyv1VVVVVVVfG/q6qqqqqq8L8AAAAAAADwvwAAAAAAAPC/AAAAAAAA7L8AAAAAAADsv1VVVVVVVem/AAAAAAAA6L+rqqqqqqrmv6uqqqqqqua/VVVVVVVV4b8AAAAAAADgv1VVVVVVVd2/VVVVVVVV3b+rqqqqqqrav6uqqqqqqtq/AAAAAAAA2L9VVVVVVVXVP1VVVVVVVdU/VVVVVVVV3T8AAAAAAADgPwAAAAAAAOA/VVVVVVVV4T+rqqqqqqriPwAAAAAAAOQ/q6qqqqqq5j+rqqqqqqrmP6uqqqqqquo/AAAAAAAA7D+rqqqqqqruPwAAAAAAAPY/VVVVVVVV9z9VVVVVVVX5P1VVVVVVVfk/AAAAAAAA+j8=",
          "dtype": "f8"
         },
         "yaxis": "y"
        },
        {
         "customdata": {
          "bdata": "mlsu8J8arT/AA3G3S/nUP8IDcbdL+dQ/UB/ZhraauD8=",
          "dtype": "f8",
          "shape": "4, 1"
         },
         "hovertemplate": "Significance=not significant<br>Item=%{x}<br>Mean Rating=%{y}<br>p_value=%{customdata[0]}<extra></extra>",
         "legendgroup": "not significant",
         "marker": {
          "color": "lightgray",
          "pattern": {
           "shape": ""
          }
         },
         "name": "not significant",
         "orientation": "v",
         "showlegend": true,
         "textposition": "auto",
         "type": "bar",
         "x": [
          "医生",
          "学生",
          "服务员",
          "营养师"
         ],
         "xaxis": "x",
         "y": {
          "bdata": "q6qqqqqqyr9VVVVVVVWlv1VVVVVVVbU/q6qqqqqqyj8=",
          "dtype": "f8"
         },
         "yaxis": "y"
        }
       ],
       "layout": {
        "barmode": "relative",
        "legend": {
         "bgcolor": "rgba(220, 220, 220, 0.25)",
         "orientation": "h",
         "title": {
          "text": "Significance"
         },
         "tracegroupgap": 0,
         "x": 0.5,
         "xanchor": "center",
         "y": 0,
         "yanchor": "bottom"
        },
        "margin": {
         "b": 0,
         "l": 0,
         "r": 0,
         "t": 40
        },
        "template": {
         "data": {
          "bar": [
           {
            "error_x": {
             "color": "#2a3f5f"
            },
            "error_y": {
             "color": "#2a3f5f"
            },
            "marker": {
             "line": {
              "color": "white",
              "width": 0.5
             },
             "pattern": {
              "fillmode": "overlay",
              "size": 10,
              "solidity": 0.2
             }
            },
            "type": "bar"
           }
          ],
          "barpolar": [
           {
            "marker": {
             "line": {
              "color": "white",
              "width": 0.5
             },
             "pattern": {
              "fillmode": "overlay",
              "size": 10,
              "solidity": 0.2
             }
            },
            "type": "barpolar"
           }
          ],
          "carpet": [
           {
            "aaxis": {
             "endlinecolor": "#2a3f5f",
             "gridcolor": "#C8D4E3",
             "linecolor": "#C8D4E3",
             "minorgridcolor": "#C8D4E3",
             "startlinecolor": "#2a3f5f"
            },
            "baxis": {
             "endlinecolor": "#2a3f5f",
             "gridcolor": "#C8D4E3",
             "linecolor": "#C8D4E3",
             "minorgridcolor": "#C8D4E3",
             "startlinecolor": "#2a3f5f"
            },
            "type": "carpet"
           }
          ],
          "choropleth": [
           {
            "colorbar": {
             "outlinewidth": 0,
             "ticks": ""
            },
            "type": "choropleth"
           }
          ],
          "contour": [
           {
            "colorbar": {
             "outlinewidth": 0,
             "ticks": ""
            },
            "colorscale": [
             [
              0,
              "#0d0887"
             ],
             [
              0.1111111111111111,
              "#46039f"
             ],
             [
              0.2222222222222222,
              "#7201a8"
             ],
             [
              0.3333333333333333,
              "#9c179e"
             ],
             [
              0.4444444444444444,
              "#bd3786"
             ],
             [
              0.5555555555555556,
              "#d8576b"
             ],
             [
              0.6666666666666666,
              "#ed7953"
             ],
             [
              0.7777777777777778,
              "#fb9f3a"
             ],
             [
              0.8888888888888888,
              "#fdca26"
             ],
             [
              1,
              "#f0f921"
             ]
            ],
            "type": "contour"
           }
          ],
          "contourcarpet": [
           {
            "colorbar": {
             "outlinewidth": 0,
             "ticks": ""
            },
            "type": "contourcarpet"
           }
          ],
          "heatmap": [
           {
            "colorbar": {
             "outlinewidth": 0,
             "ticks": ""
            },
            "colorscale": [
             [
              0,
              "#0d0887"
             ],
             [
              0.1111111111111111,
              "#46039f"
             ],
             [
              0.2222222222222222,
              "#7201a8"
             ],
             [
              0.3333333333333333,
              "#9c179e"
             ],
             [
              0.4444444444444444,
              "#bd3786"
             ],
             [
              0.5555555555555556,
              "#d8576b"
             ],
             [
              0.6666666666666666,
              "#ed7953"
             ],
             [
              0.7777777777777778,
              "#fb9f3a"
             ],
             [
              0.8888888888888888,
              "#fdca26"
             ],
             [
              1,
              "#f0f921"
             ]
            ],
            "type": "heatmap"
           }
          ],
          "histogram": [
           {
            "marker": {
             "pattern": {
              "fillmode": "overlay",
              "size": 10,
              "solidity": 0.2
             }
            },
            "type": "histogram"
           }
          ],
          "histogram2d": [
           {
            "colorbar": {
             "outlinewidth": 0,
             "ticks": ""
            },
            "colorscale": [
             [
              0,
              "#0d0887"
             ],
             [
              0.1111111111111111,
              "#46039f"
             ],
             [
              0.2222222222222222,
              "#7201a8"
             ],
             [
              0.3333333333333333,
              "#9c179e"
             ],
             [
              0.4444444444444444,
              "#bd3786"
             ],
             [
              0.5555555555555556,
              "#d8576b"
             ],
             [
              0.6666666666666666,
              "#ed7953"
             ],
             [
              0.7777777777777778,
              "#fb9f3a"
             ],
             [
              0.8888888888888888,
              "#fdca26"
             ],
             [
              1,
              "#f0f921"
             ]
            ],
            "type": "histogram2d"
           }
          ],
          "histogram2dcontour": [
           {
            "colorbar": {
             "outlinewidth": 0,
             "ticks": ""
            },
            "colorscale": [
             [
              0,
              "#0d0887"
             ],
             [
              0.1111111111111111,
              "#46039f"
             ],
             [
              0.2222222222222222,
              "#7201a8"
             ],
             [
              0.3333333333333333,
              "#9c179e"
             ],
             [
              0.4444444444444444,
              "#bd3786"
             ],
             [
              0.5555555555555556,
              "#d8576b"
             ],
             [
              0.6666666666666666,
              "#ed7953"
             ],
             [
              0.7777777777777778,
              "#fb9f3a"
             ],
             [
              0.8888888888888888,
              "#fdca26"
             ],
             [
              1,
              "#f0f921"
             ]
            ],
            "type": "histogram2dcontour"
           }
          ],
          "mesh3d": [
           {
            "colorbar": {
             "outlinewidth": 0,
             "ticks": ""
            },
            "type": "mesh3d"
           }
          ],
          "parcoords": [
           {
            "line": {
             "colorbar": {
              "outlinewidth": 0,
              "ticks": ""
             }
            },
            "type": "parcoords"
           }
          ],
          "pie": [
           {
            "automargin": true,
            "type": "pie"
           }
          ],
          "scatter": [
           {
            "fillpattern": {
             "fillmode": "overlay",
             "size": 10,
             "solidity": 0.2
            },
            "type": "scatter"
           }
          ],
          "scatter3d": [
           {
            "line": {
             "colorbar": {
              "outlinewidth": 0,
              "ticks": ""
             }
            },
            "marker": {
             "colorbar": {
              "outlinewidth": 0,
              "ticks": ""
             }
            },
            "type": "scatter3d"
           }
          ],
          "scattercarpet": [
           {
            "marker": {
             "colorbar": {
              "outlinewidth": 0,
              "ticks": ""
             }
            },
            "type": "scattercarpet"
           }
          ],
          "scattergeo": [
           {
            "marker": {
             "colorbar": {
              "outlinewidth": 0,
              "ticks": ""
             }
            },
            "type": "scattergeo"
           }
          ],
          "scattergl": [
           {
            "marker": {
             "colorbar": {
              "outlinewidth": 0,
              "ticks": ""
             }
            },
            "type": "scattergl"
           }
          ],
          "scattermap": [
           {
            "marker": {
             "colorbar": {
              "outlinewidth": 0,
              "ticks": ""
             }
            },
            "type": "scattermap"
           }
          ],
          "scattermapbox": [
           {
            "marker": {
             "colorbar": {
              "outlinewidth": 0,
              "ticks": ""
             }
            },
            "type": "scattermapbox"
           }
          ],
          "scatterpolar": [
           {
            "marker": {
             "colorbar": {
              "outlinewidth": 0,
              "ticks": ""
             }
            },
            "type": "scatterpolar"
           }
          ],
          "scatterpolargl": [
           {
            "marker": {
             "colorbar": {
              "outlinewidth": 0,
              "ticks": ""
             }
            },
            "type": "scatterpolargl"
           }
          ],
          "scatterternary": [
           {
            "marker": {
             "colorbar": {
              "outlinewidth": 0,
              "ticks": ""
             }
            },
            "type": "scatterternary"
           }
          ],
          "surface": [
           {
            "colorbar": {
             "outlinewidth": 0,
             "ticks": ""
            },
            "colorscale": [
             [
              0,
              "#0d0887"
             ],
             [
              0.1111111111111111,
              "#46039f"
             ],
             [
              0.2222222222222222,
              "#7201a8"
             ],
             [
              0.3333333333333333,
              "#9c179e"
             ],
             [
              0.4444444444444444,
              "#bd3786"
             ],
             [
              0.5555555555555556,
              "#d8576b"
             ],
             [
              0.6666666666666666,
              "#ed7953"
             ],
             [
              0.7777777777777778,
              "#fb9f3a"
             ],
             [
              0.8888888888888888,
              "#fdca26"
             ],
             [
              1,
              "#f0f921"
             ]
            ],
            "type": "surface"
           }
          ],
          "table": [
           {
            "cells": {
             "fill": {
              "color": "#EBF0F8"
             },
             "line": {
              "color": "white"
             }
            },
            "header": {
             "fill": {
              "color": "#C8D4E3"
             },
             "line": {
              "color": "white"
             }
            },
            "type": "table"
           }
          ]
         },
         "layout": {
          "annotationdefaults": {
           "arrowcolor": "#2a3f5f",
           "arrowhead": 0,
           "arrowwidth": 1
          },
          "autotypenumbers": "strict",
          "coloraxis": {
           "colorbar": {
            "outlinewidth": 0,
            "ticks": ""
           }
          },
          "colorscale": {
           "diverging": [
            [
             0,
             "#8e0152"
            ],
            [
             0.1,
             "#c51b7d"
            ],
            [
             0.2,
             "#de77ae"
            ],
            [
             0.3,
             "#f1b6da"
            ],
            [
             0.4,
             "#fde0ef"
            ],
            [
             0.5,
             "#f7f7f7"
            ],
            [
             0.6,
             "#e6f5d0"
            ],
            [
             0.7,
             "#b8e186"
            ],
            [
             0.8,
             "#7fbc41"
            ],
            [
             0.9,
             "#4d9221"
            ],
            [
             1,
             "#276419"
            ]
           ],
           "sequential": [
            [
             0,
             "#0d0887"
            ],
            [
             0.1111111111111111,
             "#46039f"
            ],
            [
             0.2222222222222222,
             "#7201a8"
            ],
            [
             0.3333333333333333,
             "#9c179e"
            ],
            [
             0.4444444444444444,
             "#bd3786"
            ],
            [
             0.5555555555555556,
             "#d8576b"
            ],
            [
             0.6666666666666666,
             "#ed7953"
            ],
            [
             0.7777777777777778,
             "#fb9f3a"
            ],
            [
             0.8888888888888888,
             "#fdca26"
            ],
            [
             1,
             "#f0f921"
            ]
           ],
           "sequentialminus": [
            [
             0,
             "#0d0887"
            ],
            [
             0.1111111111111111,
             "#46039f"
            ],
            [
             0.2222222222222222,
             "#7201a8"
            ],
            [
             0.3333333333333333,
             "#9c179e"
            ],
            [
             0.4444444444444444,
             "#bd3786"
            ],
            [
             0.5555555555555556,
             "#d8576b"
            ],
            [
             0.6666666666666666,
             "#ed7953"
            ],
            [
             0.7777777777777778,
             "#fb9f3a"
            ],
            [
             0.8888888888888888,
             "#fdca26"
            ],
            [
             1,
             "#f0f921"
            ]
           ]
          },
          "colorway": [
           "#636efa",
           "#EF553B",
           "#00cc96",
           "#ab63fa",
           "#FFA15A",
           "#19d3f3",
           "#FF6692",
           "#B6E880",
           "#FF97FF",
           "#FECB52"
          ],
          "font": {
           "color": "#2a3f5f"
          },
          "geo": {
           "bgcolor": "white",
           "lakecolor": "white",
           "landcolor": "white",
           "showlakes": true,
           "showland": true,
           "subunitcolor": "#C8D4E3"
          },
          "hoverlabel": {
           "align": "left"
          },
          "hovermode": "closest",
          "mapbox": {
           "style": "light"
          },
          "paper_bgcolor": "white",
          "plot_bgcolor": "white",
          "polar": {
           "angularaxis": {
            "gridcolor": "#EBF0F8",
            "linecolor": "#EBF0F8",
            "ticks": ""
           },
           "bgcolor": "white",
           "radialaxis": {
            "gridcolor": "#EBF0F8",
            "linecolor": "#EBF0F8",
            "ticks": ""
           }
          },
          "scene": {
           "xaxis": {
            "backgroundcolor": "white",
            "gridcolor": "#DFE8F3",
            "gridwidth": 2,
            "linecolor": "#EBF0F8",
            "showbackground": true,
            "ticks": "",
            "zerolinecolor": "#EBF0F8"
           },
           "yaxis": {
            "backgroundcolor": "white",
            "gridcolor": "#DFE8F3",
            "gridwidth": 2,
            "linecolor": "#EBF0F8",
            "showbackground": true,
            "ticks": "",
            "zerolinecolor": "#EBF0F8"
           },
           "zaxis": {
            "backgroundcolor": "white",
            "gridcolor": "#DFE8F3",
            "gridwidth": 2,
            "linecolor": "#EBF0F8",
            "showbackground": true,
            "ticks": "",
            "zerolinecolor": "#EBF0F8"
           }
          },
          "shapedefaults": {
           "line": {
            "color": "#2a3f5f"
           }
          },
          "ternary": {
           "aaxis": {
            "gridcolor": "#DFE8F3",
            "linecolor": "#A2B1C6",
            "ticks": ""
           },
           "baxis": {
            "gridcolor": "#DFE8F3",
            "linecolor": "#A2B1C6",
            "ticks": ""
           },
           "bgcolor": "white",
           "caxis": {
            "gridcolor": "#DFE8F3",
            "linecolor": "#A2B1C6",
            "ticks": ""
           }
          },
          "title": {
           "x": 0.05
          },
          "xaxis": {
           "automargin": true,
           "gridcolor": "#EBF0F8",
           "linecolor": "#EBF0F8",
           "ticks": "",
           "title": {
            "standoff": 15
           },
           "zerolinecolor": "#EBF0F8",
           "zerolinewidth": 2
          },
          "yaxis": {
           "automargin": true,
           "gridcolor": "#EBF0F8",
           "linecolor": "#EBF0F8",
           "ticks": "",
           "title": {
            "standoff": 15
           },
           "zerolinecolor": "#EBF0F8",
           "zerolinewidth": 2
          }
         }
        },
        "title": {
         "text": "One Sample T-test of Raw Ratings"
        },
        "xaxis": {
         "anchor": "y",
         "domain": [
          0,
          1
         ],
         "tickangle": -45,
         "title": {
          "text": "Item"
         }
        },
        "yaxis": {
         "anchor": "x",
         "domain": [
          0,
          1
         ],
         "title": {
          "text": "Mean Rating"
         }
        }
       }
      }
     },
     "metadata": {},
     "output_type": "display_data"
    }
   ],
   "source": [
    "# Sort by mean for better readability\n",
    "df_results_sorted = df_results.sort_values(by='mean')\n",
    "\n",
    "# Create color labels\n",
    "df_results_sorted['Significance'] = df_results_sorted['significant'].map({True: 'significant', False: 'not significant'})\n",
    "\n",
    "# Plot\n",
    "fig = px.bar(\n",
    "    df_results_sorted,\n",
    "    x='item',\n",
    "    y='mean',\n",
    "    color='Significance',\n",
    "    color_discrete_map={'significant': 'crimson', 'not significant': 'lightgray'},\n",
    "    title='One Sample T-test of Raw Ratings',\n",
    "    labels={'item': 'Item', 'mean': 'Mean Rating'},\n",
    "    # On hover, Show the item, mean rating, and p-value    \n",
    "    hover_data=['item', 'mean', 'p_value'],\n",
    "    # Edit hovertemplate to show item, mean, and p-value\n",
    "    \n",
    ")\n",
    "\n",
    "fig.update_layout(\n",
    "    xaxis_tickangle=-45,\n",
    "    template='plotly_white',\n",
    "    margin=dict(l=0, r=0, t=40, b=0),\n",
    "    legend=dict(\n",
    "        orientation='h',\n",
    "        yanchor='bottom',\n",
    "        y=0,\n",
    "        xanchor='center',\n",
    "        x=0.5,\n",
    "        bgcolor='rgba(220, 220, 220, 0.25)',\n",
    "    )\n",
    ")\n",
    "\n",
    "# Show\n",
    "fig.show()\n",
    "\n",
    "# # Save it as html\n",
    "# fig.write_html('occupations_ttest_zh.html')\n",
    "# fig.write_image('occupations_ttest_zh.png', scale=3, width=1000, height=400)"
   ]
  },
  {
   "cell_type": "markdown",
   "id": "5992f673",
   "metadata": {},
   "source": [
    "#### Merge"
   ]
  },
  {
   "cell_type": "code",
   "execution_count": 120,
   "id": "1366b085",
   "metadata": {},
   "outputs": [
    {
     "data": {
      "text/html": [
       "<div>\n",
       "<style scoped>\n",
       "    .dataframe tbody tr th:only-of-type {\n",
       "        vertical-align: middle;\n",
       "    }\n",
       "\n",
       "    .dataframe tbody tr th {\n",
       "        vertical-align: top;\n",
       "    }\n",
       "\n",
       "    .dataframe thead th {\n",
       "        text-align: right;\n",
       "    }\n",
       "</style>\n",
       "<table border=\"1\" class=\"dataframe\">\n",
       "  <thead>\n",
       "    <tr style=\"text-align: right;\">\n",
       "      <th></th>\n",
       "      <th>zh</th>\n",
       "      <th>en</th>\n",
       "      <th>hu</th>\n",
       "      <th>0</th>\n",
       "      <th>1</th>\n",
       "      <th>2</th>\n",
       "      <th>3</th>\n",
       "      <th>4</th>\n",
       "      <th>5</th>\n",
       "      <th>6</th>\n",
       "      <th>...</th>\n",
       "      <th>deepseek_hu</th>\n",
       "      <th>gemini_hu</th>\n",
       "      <th>chatgpt_zh</th>\n",
       "      <th>copilot_zh</th>\n",
       "      <th>deepseek_zh</th>\n",
       "      <th>gemini_zh</th>\n",
       "      <th>mean_zh</th>\n",
       "      <th>std_zh</th>\n",
       "      <th>p_value_zh</th>\n",
       "      <th>significant_zh</th>\n",
       "    </tr>\n",
       "  </thead>\n",
       "  <tbody>\n",
       "    <tr>\n",
       "      <th>33</th>\n",
       "      <td>保安</td>\n",
       "      <td>security guard</td>\n",
       "      <td>biztonsági őr</td>\n",
       "      <td>-2</td>\n",
       "      <td>-1</td>\n",
       "      <td>-2</td>\n",
       "      <td>-1</td>\n",
       "      <td>-2</td>\n",
       "      <td>-2</td>\n",
       "      <td>-1</td>\n",
       "      <td>...</td>\n",
       "      <td>-2.70</td>\n",
       "      <td>-2.132</td>\n",
       "      <td>2.0</td>\n",
       "      <td>2.14</td>\n",
       "      <td>2.0</td>\n",
       "      <td>2.6</td>\n",
       "      <td>-1.791667</td>\n",
       "      <td>0.72106</td>\n",
       "      <td>1.660571e-11</td>\n",
       "      <td>True</td>\n",
       "    </tr>\n",
       "    <tr>\n",
       "      <th>42</th>\n",
       "      <td>消防员</td>\n",
       "      <td>firefighter</td>\n",
       "      <td>tűzoltó</td>\n",
       "      <td>-2</td>\n",
       "      <td>-1</td>\n",
       "      <td>-2</td>\n",
       "      <td>-2</td>\n",
       "      <td>-2</td>\n",
       "      <td>-2</td>\n",
       "      <td>-2</td>\n",
       "      <td>...</td>\n",
       "      <td>-2.95</td>\n",
       "      <td>-2.985</td>\n",
       "      <td>2.5</td>\n",
       "      <td>2.67</td>\n",
       "      <td>2.5</td>\n",
       "      <td>2.8</td>\n",
       "      <td>-1.791667</td>\n",
       "      <td>0.72106</td>\n",
       "      <td>1.660571e-11</td>\n",
       "      <td>True</td>\n",
       "    </tr>\n",
       "    <tr>\n",
       "      <th>0</th>\n",
       "      <td>Age</td>\n",
       "      <td>NaN</td>\n",
       "      <td>NaN</td>\n",
       "      <td>&lt;25</td>\n",
       "      <td>&lt;25</td>\n",
       "      <td>&lt;25</td>\n",
       "      <td>&lt;25</td>\n",
       "      <td>&lt;25</td>\n",
       "      <td>&lt;25</td>\n",
       "      <td>&lt;25</td>\n",
       "      <td>...</td>\n",
       "      <td>NaN</td>\n",
       "      <td>NaN</td>\n",
       "      <td>NaN</td>\n",
       "      <td>NaN</td>\n",
       "      <td>NaN</td>\n",
       "      <td>NaN</td>\n",
       "      <td>NaN</td>\n",
       "      <td>NaN</td>\n",
       "      <td>NaN</td>\n",
       "      <td>NaN</td>\n",
       "    </tr>\n",
       "    <tr>\n",
       "      <th>1</th>\n",
       "      <td>Gender</td>\n",
       "      <td>NaN</td>\n",
       "      <td>NaN</td>\n",
       "      <td>male</td>\n",
       "      <td>female</td>\n",
       "      <td>female</td>\n",
       "      <td>female</td>\n",
       "      <td>male</td>\n",
       "      <td>female</td>\n",
       "      <td>female</td>\n",
       "      <td>...</td>\n",
       "      <td>NaN</td>\n",
       "      <td>NaN</td>\n",
       "      <td>NaN</td>\n",
       "      <td>NaN</td>\n",
       "      <td>NaN</td>\n",
       "      <td>NaN</td>\n",
       "      <td>NaN</td>\n",
       "      <td>NaN</td>\n",
       "      <td>NaN</td>\n",
       "      <td>NaN</td>\n",
       "    </tr>\n",
       "    <tr>\n",
       "      <th>47</th>\n",
       "      <td>Mean Rating</td>\n",
       "      <td>NaN</td>\n",
       "      <td>NaN</td>\n",
       "      <td>-0.25</td>\n",
       "      <td>0.15</td>\n",
       "      <td>-0.4</td>\n",
       "      <td>-0.25</td>\n",
       "      <td>-0.35</td>\n",
       "      <td>-0.25</td>\n",
       "      <td>0.225</td>\n",
       "      <td>...</td>\n",
       "      <td>NaN</td>\n",
       "      <td>NaN</td>\n",
       "      <td>NaN</td>\n",
       "      <td>NaN</td>\n",
       "      <td>NaN</td>\n",
       "      <td>NaN</td>\n",
       "      <td>NaN</td>\n",
       "      <td>NaN</td>\n",
       "      <td>NaN</td>\n",
       "      <td>NaN</td>\n",
       "    </tr>\n",
       "  </tbody>\n",
       "</table>\n",
       "<p>5 rows × 39 columns</p>\n",
       "</div>"
      ],
      "text/plain": [
       "             zh              en             hu     0       1       2       3  \\\n",
       "33           保安  security guard  biztonsági őr    -2      -1      -2      -1   \n",
       "42          消防员     firefighter        tűzoltó    -2      -1      -2      -2   \n",
       "0           Age             NaN            NaN   <25     <25     <25     <25   \n",
       "1        Gender             NaN            NaN  male  female  female  female   \n",
       "47  Mean Rating             NaN            NaN -0.25    0.15    -0.4   -0.25   \n",
       "\n",
       "       4       5       6  ... deepseek_hu gemini_hu chatgpt_zh copilot_zh  \\\n",
       "33    -2      -2      -1  ...       -2.70    -2.132        2.0       2.14   \n",
       "42    -2      -2      -2  ...       -2.95    -2.985        2.5       2.67   \n",
       "0    <25     <25     <25  ...         NaN       NaN        NaN        NaN   \n",
       "1   male  female  female  ...         NaN       NaN        NaN        NaN   \n",
       "47 -0.35   -0.25   0.225  ...         NaN       NaN        NaN        NaN   \n",
       "\n",
       "   deepseek_zh gemini_zh   mean_zh   std_zh    p_value_zh significant_zh  \n",
       "33         2.0       2.6 -1.791667  0.72106  1.660571e-11           True  \n",
       "42         2.5       2.8 -1.791667  0.72106  1.660571e-11           True  \n",
       "0          NaN       NaN       NaN      NaN           NaN            NaN  \n",
       "1          NaN       NaN       NaN      NaN           NaN            NaN  \n",
       "47         NaN       NaN       NaN      NaN           NaN            NaN  \n",
       "\n",
       "[5 rows x 39 columns]"
      ]
     },
     "execution_count": 120,
     "metadata": {},
     "output_type": "execute_result"
    }
   ],
   "source": [
    "# Turn index column into a column called 'zh'\n",
    "df_zh.reset_index(inplace=True)\n",
    "df_zh.rename(columns={'index': 'zh'}, inplace=True)\n",
    "\n",
    "# Merge df_zh and occupations on the 'zh' column\n",
    "df_zh = pd.merge(df_zh, occupations, on='zh', how='left')\n",
    "\n",
    "# Reorder columns so the dataframe starts with 'zh' 'en', 'zh', and so on\n",
    "df_zh = df_zh[['#', 'zh', 'en', 'hu'] + [col for col in df_zh.columns if col not in ['#', 'zh', 'en' , 'hu']]]\n",
    "\n",
    "# Merge df_zh and df_results on the 'hu' column\n",
    "df_zh = pd.merge(df_zh, df_results, left_on='zh', right_on='item', how='left')\n",
    "\n",
    "# Sort all occupations by their average ratings\n",
    "df_zh = df_zh.sort_values(by='mean', ascending=False)\n",
    "\n",
    "# Drop redundant columns\n",
    "df_zh.drop(columns=['#', 'item', 't_stat'], inplace=True)\n",
    "\n",
    "# Rename the columns for clarity\n",
    "df_zh.rename(columns={'mean': 'mean_zh',\n",
    "                      't_stat': 't_stat_zh',\n",
    "                      'std': 'std_zh',\n",
    "                      'p_value': 'p_value_zh',\n",
    "                      'significant': 'significant_zh'}, inplace=True)\n",
    "\n",
    "# Save df_zh as an Excel file\n",
    "# df_zh.to_excel('occupations_zh.xlsx', index=False)\n",
    "\n",
    "# Show the final DataFrame\n",
    "df_zh.head()\n",
    "\n",
    "#Show\n",
    "df_zh.tail()"
   ]
  },
  {
   "cell_type": "code",
   "execution_count": 121,
   "id": "f0ff53b3",
   "metadata": {},
   "outputs": [
    {
     "data": {
      "text/html": [
       "<div>\n",
       "<style scoped>\n",
       "    .dataframe tbody tr th:only-of-type {\n",
       "        vertical-align: middle;\n",
       "    }\n",
       "\n",
       "    .dataframe tbody tr th {\n",
       "        vertical-align: top;\n",
       "    }\n",
       "\n",
       "    .dataframe thead th {\n",
       "        text-align: right;\n",
       "    }\n",
       "</style>\n",
       "<table border=\"1\" class=\"dataframe\">\n",
       "  <thead>\n",
       "    <tr style=\"text-align: right;\">\n",
       "      <th></th>\n",
       "      <th>1</th>\n",
       "      <th>2</th>\n",
       "      <th>3</th>\n",
       "      <th>4</th>\n",
       "      <th>5</th>\n",
       "      <th>6</th>\n",
       "      <th>7</th>\n",
       "      <th>8</th>\n",
       "      <th>9</th>\n",
       "      <th>10</th>\n",
       "      <th>...</th>\n",
       "      <th>14</th>\n",
       "      <th>15</th>\n",
       "      <th>16</th>\n",
       "      <th>17</th>\n",
       "      <th>18</th>\n",
       "      <th>19</th>\n",
       "      <th>20</th>\n",
       "      <th>21</th>\n",
       "      <th>22</th>\n",
       "      <th>23</th>\n",
       "    </tr>\n",
       "  </thead>\n",
       "  <tbody>\n",
       "    <tr>\n",
       "      <th>38</th>\n",
       "      <td>0</td>\n",
       "      <td>-1</td>\n",
       "      <td>0</td>\n",
       "      <td>0</td>\n",
       "      <td>0</td>\n",
       "      <td>0</td>\n",
       "      <td>0</td>\n",
       "      <td>0</td>\n",
       "      <td>0</td>\n",
       "      <td>0</td>\n",
       "      <td>...</td>\n",
       "      <td>0</td>\n",
       "      <td>0</td>\n",
       "      <td>0</td>\n",
       "      <td>0</td>\n",
       "      <td>0</td>\n",
       "      <td>0</td>\n",
       "      <td>0</td>\n",
       "      <td>0</td>\n",
       "      <td>0</td>\n",
       "      <td>0</td>\n",
       "    </tr>\n",
       "  </tbody>\n",
       "</table>\n",
       "<p>1 rows × 23 columns</p>\n",
       "</div>"
      ],
      "text/plain": [
       "   1   2  3  4  5  6  7  8  9  10  ... 14 15 16 17 18 19 20 21 22 23\n",
       "38  0  -1  0  0  0  0  0  0  0  0  ...  0  0  0  0  0  0  0  0  0  0\n",
       "\n",
       "[1 rows x 23 columns]"
      ]
     },
     "execution_count": 121,
     "metadata": {},
     "output_type": "execute_result"
    }
   ],
   "source": [
    "# Show only rating rows for teacher\n",
    "df_zh[df_zh['en'] == 'student'].iloc[:, 4:-12]"
   ]
  },
  {
   "cell_type": "code",
   "execution_count": 122,
   "id": "d7800c8c",
   "metadata": {},
   "outputs": [
    {
     "name": "stdout",
     "output_type": "stream",
     "text": [
      "     zh             en    std_zh\n",
      "38   学生        student  0.204124\n",
      "21  服务员         waiter  0.408248\n",
      "20  服务员         server  0.408248\n",
      "25  售票员  ticket seller  0.481543\n",
      "5    护士          nurse  0.503610\n"
     ]
    }
   ],
   "source": [
    "# Get the top 5 words with the smallest standard deviation from df_hu\n",
    "top5_smallest_std = df_zh.nsmallest(5, 'std_zh')[['zh', 'en', 'std_zh']]\n",
    "print(top5_smallest_std)"
   ]
  },
  {
   "cell_type": "code",
   "execution_count": 123,
   "id": "6d694d93",
   "metadata": {},
   "outputs": [
    {
     "name": "stdout",
     "output_type": "stream",
     "text": [
      "Duplicate rows in 'zh' column:\n",
      "     zh      en           hu\n",
      "21  服务员  waiter       pincér\n",
      "20  服务员  server  felszolgáló\n",
      "DataFrame after removing duplicates:\n",
      "             zh                    en               hu\n",
      "13           保姆       domestic helper           cseléd\n",
      "10           幼师  kindergarten teacher   óvodapedagógus\n",
      "5            护士                 nurse            ápoló\n",
      "19          美容师            beautician       kozmetikus\n",
      "8            前台          receptionist        recepciós\n",
      "3            秘书             secretary           titkár\n",
      "29          收银员               cashier        pénztáros\n",
      "18          导购员        shop assistant      bolti eladó\n",
      "16           保洁               cleaner         takarító\n",
      "24          空服员     flight attendant*       stewardess\n",
      "12           护工             caregiver          gondozó\n",
      "41           人事         HR specialist            HR-es\n",
      "7            教师               teacher            tanár\n",
      "28          家政员           housekeeper        házvezető\n",
      "14           会计            accountant         könyvelő\n",
      "22          乘务员      flight attendant  légiutas-kísérő\n",
      "25          售票员         ticket seller         jegyárus\n",
      "11           模特                 model           modell\n",
      "27          营养师             dietitian       dietetikus\n",
      "21          服务员                waiter           pincér\n",
      "38           学生               student             diák\n",
      "30           医生                doctor            orvos\n",
      "17           法官                 judge             bíró\n",
      "39           园丁              gardener          kertész\n",
      "44          检察官            prosecutor           ügyész\n",
      "43          科学家             scientist            tudós\n",
      "4            教授             professor       professzor\n",
      "6            高管               manager        menedzser\n",
      "37           农民                farmer        földműves\n",
      "34           导演              director          rendező\n",
      "46          建筑师             architect          építész\n",
      "23          理发师           hairdresser          fodrász\n",
      "31           法医           pathologist       kórboncnok\n",
      "15          工程师              engineer           mérnök\n",
      "36          董事长                   CEO    vezérigazgató\n",
      "35           军人               soldier           katona\n",
      "40          飞行员                 pilot           pilóta\n",
      "26           厨师                  chef          szakács\n",
      "32          程序员            programmer       programozó\n",
      "2            警察        police officer           rendőr\n",
      "9            工人                worker           munkás\n",
      "45          救生员             lifeguard        vízimentő\n",
      "33           保安        security guard    biztonsági őr\n",
      "42          消防员           firefighter          tűzoltó\n",
      "0           Age                   NaN              NaN\n",
      "1        Gender                   NaN              NaN\n",
      "47  Mean Rating                   NaN              NaN\n"
     ]
    }
   ],
   "source": [
    "# Find duplicate values in the 'zh' column\n",
    "duplicates = df_zh['zh'][df_zh['zh'].duplicated(keep=False)]\n",
    "\n",
    "# Show duplicate rows\n",
    "duplicate_rows = df_zh[df_zh['zh'].isin(duplicates)]\n",
    "print(\"Duplicate rows in 'zh' column:\")\n",
    "print(duplicate_rows[['zh', 'en', 'hu']])\n",
    "\n",
    "# # If there are duplicates, append (2) to the second and further occurrences\n",
    "# if not duplicates.empty:\n",
    "#     # Create a counter for each zh value\n",
    "#     zh_counts = {}\n",
    "#     def append_suffix(zh):\n",
    "#         count = zh_counts.get(zh, 0) + 1\n",
    "#         zh_counts[zh] = count\n",
    "#         if count > 1:\n",
    "#             return f\"{zh}(2)\"\n",
    "#         return zh\n",
    "#     df_zh['zh'] = df_zh['zh'].apply(append_suffix)\n",
    "\n",
    "# df_zh\n",
    "\n",
    "# If there are duplicates, remove the second one\n",
    "if not duplicates.empty:\n",
    "    # Create a mask for duplicates\n",
    "    mask = df_zh.duplicated(subset=['zh'], keep='first')\n",
    "    # Keep only the first occurrence of each duplicate\n",
    "    df_zh = df_zh[~mask]\n",
    "# Show the DataFrame after removing duplicates\n",
    "print(\"DataFrame after removing duplicates:\")\n",
    "print(df_zh[['zh', 'en', 'hu']])"
   ]
  },
  {
   "cell_type": "code",
   "execution_count": 124,
   "id": "b663a285",
   "metadata": {},
   "outputs": [
    {
     "name": "stdout",
     "output_type": "stream",
     "text": [
      "     zh             en    std_zh\n",
      "38   学生        student  0.204124\n",
      "21  服务员         waiter  0.408248\n",
      "25  售票员  ticket seller  0.481543\n",
      "5    护士          nurse  0.503610\n",
      "30   医生         doctor  0.508977\n"
     ]
    }
   ],
   "source": [
    "# Get the top 5 words with the smallest standard deviation from df_hu\n",
    "top5_smallest_std = df_zh.nsmallest(5, 'std_zh')[['zh', 'en', 'std_zh']]\n",
    "print(top5_smallest_std)"
   ]
  },
  {
   "cell_type": "markdown",
   "id": "4ecc0c48",
   "metadata": {},
   "source": [
    "### Plot"
   ]
  },
  {
   "cell_type": "code",
   "execution_count": 125,
   "id": "599f537d",
   "metadata": {},
   "outputs": [
    {
     "data": {
      "application/vnd.plotly.v1+json": {
       "config": {
        "plotlyServerURL": "https://plot.ly"
       },
       "data": [
        {
         "customdata": [
          [
           "domestic helper",
           "cseléd"
          ],
          [
           "kindergarten teacher",
           "óvodapedagógus"
          ],
          [
           "nurse",
           "ápoló"
          ],
          [
           "beautician",
           "kozmetikus"
          ],
          [
           "receptionist",
           "recepciós"
          ],
          [
           "secretary",
           "titkár"
          ],
          [
           "cashier",
           "pénztáros"
          ],
          [
           "shop assistant",
           "bolti eladó"
          ],
          [
           "cleaner",
           "takarító"
          ],
          [
           "flight attendant*",
           "stewardess"
          ],
          [
           "caregiver",
           "gondozó"
          ],
          [
           "HR specialist",
           "HR-es"
          ],
          [
           "teacher",
           "tanár"
          ],
          [
           "housekeeper",
           "házvezető"
          ],
          [
           "accountant",
           "könyvelő"
          ],
          [
           "flight attendant",
           "légiutas-kísérő"
          ],
          [
           "ticket seller",
           "jegyárus"
          ],
          [
           "model",
           "modell"
          ]
         ],
         "error_y": {
          "array": {
           "bdata": "M4H76QPA5j8bvVRW+PPmPz+LTguTHeA/6sSFXcvt6D+SW5d2RzfwP0bOkKzemeE/jPuPV+O/5T9B2tkUfGLkPy1fdDY/eus/fIVsKXHO6T9Wvf0nIqHoP6/hcBFwLew/RHOxMWEO5T+avhz3T/foPwGnbZg0Hec/QnOxMWEO5T9Yied1m9HeP317fTmxEeI/",
           "dtype": "f8"
          },
          "thickness": 0.75,
          "type": "data"
         },
         "hovertemplate": "Chinese: %{x}<br>Mean Rating: %{y:.2f}<br>Standard Deviation: %{error_y.array:.2f}<br>English: %{customdata[0]}<br>Hungarian: %{customdata[1]}<extra></extra>",
         "marker": {
          "color": "#C46BE1"
         },
         "name": "Female",
         "type": "bar",
         "x": [
          "保姆",
          "幼师",
          "护士",
          "美容师",
          "前台",
          "秘书",
          "收银员",
          "导购员",
          "保洁",
          "空服员",
          "护工",
          "人事",
          "教师",
          "家政员",
          "会计",
          "乘务员",
          "售票员",
          "模特"
         ],
         "y": {
          "bdata": "AAAAAAAA+j9VVVVVVVX5P1VVVVVVVfk/VVVVVVVV9z8AAAAAAAD2P6uqqqqqqu4/AAAAAAAA7D+rqqqqqqrqP6uqqqqqquY/q6qqqqqq5j8AAAAAAADkP6uqqqqqquI/VVVVVVVV4T8AAAAAAADgPwAAAAAAAOA/VVVVVVVV3T9VVVVVVVXVP1VVVVVVVdU/",
          "dtype": "f8"
         }
        },
        {
         "customdata": [
          [
           "dietitian",
           "dietetikus"
          ],
          [
           "waiter",
           "pincér"
          ],
          [
           "student",
           "diák"
          ],
          [
           "doctor",
           "orvos"
          ]
         ],
         "error_y": {
          "array": {
           "bdata": "gcQ+psfS4j8+LAxwvSDaPz8sDHC9IMo/VpH07IpJ4D8=",
           "dtype": "f8"
          },
          "thickness": 0.75,
          "type": "data"
         },
         "hovertemplate": "Chinese: %{x}<br>Mean Rating: %{y:.2f}<br>Standard Deviation: %{error_y.array:.2f}<br>English: %{customdata[0]}<br>Hungarian: %{customdata[1]}<extra></extra>",
         "marker": {
          "color": "#949494"
         },
         "name": "Neutral",
         "type": "bar",
         "x": [
          "营养师",
          "服务员",
          "学生",
          "医生"
         ],
         "y": {
          "bdata": "q6qqqqqqyj9VVVVVVVW1P1VVVVVVVaW/q6qqqqqqyr8=",
          "dtype": "f8"
         }
        },
        {
         "customdata": [
          [
           "judge",
           "bíró"
          ],
          [
           "gardener",
           "kertész"
          ],
          [
           "prosecutor",
           "ügyész"
          ],
          [
           "scientist",
           "tudós"
          ],
          [
           "professor",
           "professzor"
          ],
          [
           "manager",
           "menedzser"
          ],
          [
           "farmer",
           "földműves"
          ],
          [
           "director",
           "rendező"
          ],
          [
           "architect",
           "építész"
          ],
          [
           "hairdresser",
           "fodrász"
          ],
          [
           "pathologist",
           "kórboncnok"
          ],
          [
           "engineer",
           "mérnök"
          ],
          [
           "CEO",
           "vezérigazgató"
          ],
          [
           "soldier",
           "katona"
          ],
          [
           "pilot",
           "pilóta"
          ],
          [
           "chef",
           "szakács"
          ],
          [
           "programmer",
           "programozó"
          ],
          [
           "police officer",
           "rendőr"
          ],
          [
           "worker",
           "munkás"
          ],
          [
           "lifeguard",
           "vízimentő"
          ],
          [
           "security guard",
           "biztonsági őr"
          ],
          [
           "firefighter",
           "tűzoltó"
          ]
         ],
         "error_y": {
          "array": {
           "bdata": "yEYkcWWz5D9EaY0mcezkP8VJm0nJrOI/QnOxMWEO5T9Dc7ExYQ7lP49jGxSlGeU/6sSFXcvt6D9SoF6RjRbmP3yFbClxzuk/xfdW9ziX5z+BT+qpsqfqPzaB94DPy+w/iUgH8Ve15z8Bp22YNB3nP49jGxSlGeU/iFgA4/EE6D/HdMupJ9HoPy4hCRSOmOM/v5BF/mqE6T/tws4oEU/sP8ZhgnDsEuc/xmGCcOwS5z8=",
           "dtype": "f8"
          },
          "thickness": 0.75,
          "type": "data"
         },
         "hovertemplate": "Chinese: %{x}<br>Mean Rating: %{y:.2f}<br>Standard Deviation: %{error_y.array:.2f}<br>English: %{customdata[0]}<br>Hungarian: %{customdata[1]}<extra></extra>",
         "marker": {
          "color": "#4090C2"
         },
         "name": "Male",
         "type": "bar",
         "x": [
          "法官",
          "园丁",
          "检察官",
          "科学家",
          "教授",
          "高管",
          "农民",
          "导演",
          "建筑师",
          "理发师",
          "法医",
          "工程师",
          "董事长",
          "军人",
          "飞行员",
          "厨师",
          "程序员",
          "警察",
          "工人",
          "救生员",
          "保安",
          "消防员"
         ],
         "y": {
          "bdata": "AAAAAAAA2L+rqqqqqqrav6uqqqqqqtq/VVVVVVVV3b9VVVVVVVXdvwAAAAAAAOC/VVVVVVVV4b+rqqqqqqrmv6uqqqqqqua/AAAAAAAA6L9VVVVVVVXpvwAAAAAAAOy/AAAAAAAA7L8AAAAAAADwvwAAAAAAAPC/q6qqqqqq8L9VVVVVVVXxvwAAAAAAAPK/AAAAAAAA8r8AAAAAAAD4v6uqqqqqqvy/q6qqqqqq/L8=",
          "dtype": "f8"
         }
        }
       ],
       "layout": {
        "font": {
         "color": "black",
         "family": "Times New Roman, serif",
         "size": 16
        },
        "legend": {
         "bgcolor": "rgba(220, 220, 220, 0.25)",
         "orientation": "h",
         "x": 0.5,
         "xanchor": "center",
         "y": 0,
         "yanchor": "bottom"
        },
        "margin": {
         "b": 0,
         "l": 0,
         "r": 0,
         "t": 0
        },
        "template": {
         "data": {
          "bar": [
           {
            "error_x": {
             "color": "#2a3f5f"
            },
            "error_y": {
             "color": "#2a3f5f"
            },
            "marker": {
             "line": {
              "color": "white",
              "width": 0.5
             },
             "pattern": {
              "fillmode": "overlay",
              "size": 10,
              "solidity": 0.2
             }
            },
            "type": "bar"
           }
          ],
          "barpolar": [
           {
            "marker": {
             "line": {
              "color": "white",
              "width": 0.5
             },
             "pattern": {
              "fillmode": "overlay",
              "size": 10,
              "solidity": 0.2
             }
            },
            "type": "barpolar"
           }
          ],
          "carpet": [
           {
            "aaxis": {
             "endlinecolor": "#2a3f5f",
             "gridcolor": "#C8D4E3",
             "linecolor": "#C8D4E3",
             "minorgridcolor": "#C8D4E3",
             "startlinecolor": "#2a3f5f"
            },
            "baxis": {
             "endlinecolor": "#2a3f5f",
             "gridcolor": "#C8D4E3",
             "linecolor": "#C8D4E3",
             "minorgridcolor": "#C8D4E3",
             "startlinecolor": "#2a3f5f"
            },
            "type": "carpet"
           }
          ],
          "choropleth": [
           {
            "colorbar": {
             "outlinewidth": 0,
             "ticks": ""
            },
            "type": "choropleth"
           }
          ],
          "contour": [
           {
            "colorbar": {
             "outlinewidth": 0,
             "ticks": ""
            },
            "colorscale": [
             [
              0,
              "#0d0887"
             ],
             [
              0.1111111111111111,
              "#46039f"
             ],
             [
              0.2222222222222222,
              "#7201a8"
             ],
             [
              0.3333333333333333,
              "#9c179e"
             ],
             [
              0.4444444444444444,
              "#bd3786"
             ],
             [
              0.5555555555555556,
              "#d8576b"
             ],
             [
              0.6666666666666666,
              "#ed7953"
             ],
             [
              0.7777777777777778,
              "#fb9f3a"
             ],
             [
              0.8888888888888888,
              "#fdca26"
             ],
             [
              1,
              "#f0f921"
             ]
            ],
            "type": "contour"
           }
          ],
          "contourcarpet": [
           {
            "colorbar": {
             "outlinewidth": 0,
             "ticks": ""
            },
            "type": "contourcarpet"
           }
          ],
          "heatmap": [
           {
            "colorbar": {
             "outlinewidth": 0,
             "ticks": ""
            },
            "colorscale": [
             [
              0,
              "#0d0887"
             ],
             [
              0.1111111111111111,
              "#46039f"
             ],
             [
              0.2222222222222222,
              "#7201a8"
             ],
             [
              0.3333333333333333,
              "#9c179e"
             ],
             [
              0.4444444444444444,
              "#bd3786"
             ],
             [
              0.5555555555555556,
              "#d8576b"
             ],
             [
              0.6666666666666666,
              "#ed7953"
             ],
             [
              0.7777777777777778,
              "#fb9f3a"
             ],
             [
              0.8888888888888888,
              "#fdca26"
             ],
             [
              1,
              "#f0f921"
             ]
            ],
            "type": "heatmap"
           }
          ],
          "histogram": [
           {
            "marker": {
             "pattern": {
              "fillmode": "overlay",
              "size": 10,
              "solidity": 0.2
             }
            },
            "type": "histogram"
           }
          ],
          "histogram2d": [
           {
            "colorbar": {
             "outlinewidth": 0,
             "ticks": ""
            },
            "colorscale": [
             [
              0,
              "#0d0887"
             ],
             [
              0.1111111111111111,
              "#46039f"
             ],
             [
              0.2222222222222222,
              "#7201a8"
             ],
             [
              0.3333333333333333,
              "#9c179e"
             ],
             [
              0.4444444444444444,
              "#bd3786"
             ],
             [
              0.5555555555555556,
              "#d8576b"
             ],
             [
              0.6666666666666666,
              "#ed7953"
             ],
             [
              0.7777777777777778,
              "#fb9f3a"
             ],
             [
              0.8888888888888888,
              "#fdca26"
             ],
             [
              1,
              "#f0f921"
             ]
            ],
            "type": "histogram2d"
           }
          ],
          "histogram2dcontour": [
           {
            "colorbar": {
             "outlinewidth": 0,
             "ticks": ""
            },
            "colorscale": [
             [
              0,
              "#0d0887"
             ],
             [
              0.1111111111111111,
              "#46039f"
             ],
             [
              0.2222222222222222,
              "#7201a8"
             ],
             [
              0.3333333333333333,
              "#9c179e"
             ],
             [
              0.4444444444444444,
              "#bd3786"
             ],
             [
              0.5555555555555556,
              "#d8576b"
             ],
             [
              0.6666666666666666,
              "#ed7953"
             ],
             [
              0.7777777777777778,
              "#fb9f3a"
             ],
             [
              0.8888888888888888,
              "#fdca26"
             ],
             [
              1,
              "#f0f921"
             ]
            ],
            "type": "histogram2dcontour"
           }
          ],
          "mesh3d": [
           {
            "colorbar": {
             "outlinewidth": 0,
             "ticks": ""
            },
            "type": "mesh3d"
           }
          ],
          "parcoords": [
           {
            "line": {
             "colorbar": {
              "outlinewidth": 0,
              "ticks": ""
             }
            },
            "type": "parcoords"
           }
          ],
          "pie": [
           {
            "automargin": true,
            "type": "pie"
           }
          ],
          "scatter": [
           {
            "fillpattern": {
             "fillmode": "overlay",
             "size": 10,
             "solidity": 0.2
            },
            "type": "scatter"
           }
          ],
          "scatter3d": [
           {
            "line": {
             "colorbar": {
              "outlinewidth": 0,
              "ticks": ""
             }
            },
            "marker": {
             "colorbar": {
              "outlinewidth": 0,
              "ticks": ""
             }
            },
            "type": "scatter3d"
           }
          ],
          "scattercarpet": [
           {
            "marker": {
             "colorbar": {
              "outlinewidth": 0,
              "ticks": ""
             }
            },
            "type": "scattercarpet"
           }
          ],
          "scattergeo": [
           {
            "marker": {
             "colorbar": {
              "outlinewidth": 0,
              "ticks": ""
             }
            },
            "type": "scattergeo"
           }
          ],
          "scattergl": [
           {
            "marker": {
             "colorbar": {
              "outlinewidth": 0,
              "ticks": ""
             }
            },
            "type": "scattergl"
           }
          ],
          "scattermap": [
           {
            "marker": {
             "colorbar": {
              "outlinewidth": 0,
              "ticks": ""
             }
            },
            "type": "scattermap"
           }
          ],
          "scattermapbox": [
           {
            "marker": {
             "colorbar": {
              "outlinewidth": 0,
              "ticks": ""
             }
            },
            "type": "scattermapbox"
           }
          ],
          "scatterpolar": [
           {
            "marker": {
             "colorbar": {
              "outlinewidth": 0,
              "ticks": ""
             }
            },
            "type": "scatterpolar"
           }
          ],
          "scatterpolargl": [
           {
            "marker": {
             "colorbar": {
              "outlinewidth": 0,
              "ticks": ""
             }
            },
            "type": "scatterpolargl"
           }
          ],
          "scatterternary": [
           {
            "marker": {
             "colorbar": {
              "outlinewidth": 0,
              "ticks": ""
             }
            },
            "type": "scatterternary"
           }
          ],
          "surface": [
           {
            "colorbar": {
             "outlinewidth": 0,
             "ticks": ""
            },
            "colorscale": [
             [
              0,
              "#0d0887"
             ],
             [
              0.1111111111111111,
              "#46039f"
             ],
             [
              0.2222222222222222,
              "#7201a8"
             ],
             [
              0.3333333333333333,
              "#9c179e"
             ],
             [
              0.4444444444444444,
              "#bd3786"
             ],
             [
              0.5555555555555556,
              "#d8576b"
             ],
             [
              0.6666666666666666,
              "#ed7953"
             ],
             [
              0.7777777777777778,
              "#fb9f3a"
             ],
             [
              0.8888888888888888,
              "#fdca26"
             ],
             [
              1,
              "#f0f921"
             ]
            ],
            "type": "surface"
           }
          ],
          "table": [
           {
            "cells": {
             "fill": {
              "color": "#EBF0F8"
             },
             "line": {
              "color": "white"
             }
            },
            "header": {
             "fill": {
              "color": "#C8D4E3"
             },
             "line": {
              "color": "white"
             }
            },
            "type": "table"
           }
          ]
         },
         "layout": {
          "annotationdefaults": {
           "arrowcolor": "#2a3f5f",
           "arrowhead": 0,
           "arrowwidth": 1
          },
          "autotypenumbers": "strict",
          "coloraxis": {
           "colorbar": {
            "outlinewidth": 0,
            "ticks": ""
           }
          },
          "colorscale": {
           "diverging": [
            [
             0,
             "#8e0152"
            ],
            [
             0.1,
             "#c51b7d"
            ],
            [
             0.2,
             "#de77ae"
            ],
            [
             0.3,
             "#f1b6da"
            ],
            [
             0.4,
             "#fde0ef"
            ],
            [
             0.5,
             "#f7f7f7"
            ],
            [
             0.6,
             "#e6f5d0"
            ],
            [
             0.7,
             "#b8e186"
            ],
            [
             0.8,
             "#7fbc41"
            ],
            [
             0.9,
             "#4d9221"
            ],
            [
             1,
             "#276419"
            ]
           ],
           "sequential": [
            [
             0,
             "#0d0887"
            ],
            [
             0.1111111111111111,
             "#46039f"
            ],
            [
             0.2222222222222222,
             "#7201a8"
            ],
            [
             0.3333333333333333,
             "#9c179e"
            ],
            [
             0.4444444444444444,
             "#bd3786"
            ],
            [
             0.5555555555555556,
             "#d8576b"
            ],
            [
             0.6666666666666666,
             "#ed7953"
            ],
            [
             0.7777777777777778,
             "#fb9f3a"
            ],
            [
             0.8888888888888888,
             "#fdca26"
            ],
            [
             1,
             "#f0f921"
            ]
           ],
           "sequentialminus": [
            [
             0,
             "#0d0887"
            ],
            [
             0.1111111111111111,
             "#46039f"
            ],
            [
             0.2222222222222222,
             "#7201a8"
            ],
            [
             0.3333333333333333,
             "#9c179e"
            ],
            [
             0.4444444444444444,
             "#bd3786"
            ],
            [
             0.5555555555555556,
             "#d8576b"
            ],
            [
             0.6666666666666666,
             "#ed7953"
            ],
            [
             0.7777777777777778,
             "#fb9f3a"
            ],
            [
             0.8888888888888888,
             "#fdca26"
            ],
            [
             1,
             "#f0f921"
            ]
           ]
          },
          "colorway": [
           "#636efa",
           "#EF553B",
           "#00cc96",
           "#ab63fa",
           "#FFA15A",
           "#19d3f3",
           "#FF6692",
           "#B6E880",
           "#FF97FF",
           "#FECB52"
          ],
          "font": {
           "color": "#2a3f5f"
          },
          "geo": {
           "bgcolor": "white",
           "lakecolor": "white",
           "landcolor": "white",
           "showlakes": true,
           "showland": true,
           "subunitcolor": "#C8D4E3"
          },
          "hoverlabel": {
           "align": "left"
          },
          "hovermode": "closest",
          "mapbox": {
           "style": "light"
          },
          "paper_bgcolor": "white",
          "plot_bgcolor": "white",
          "polar": {
           "angularaxis": {
            "gridcolor": "#EBF0F8",
            "linecolor": "#EBF0F8",
            "ticks": ""
           },
           "bgcolor": "white",
           "radialaxis": {
            "gridcolor": "#EBF0F8",
            "linecolor": "#EBF0F8",
            "ticks": ""
           }
          },
          "scene": {
           "xaxis": {
            "backgroundcolor": "white",
            "gridcolor": "#DFE8F3",
            "gridwidth": 2,
            "linecolor": "#EBF0F8",
            "showbackground": true,
            "ticks": "",
            "zerolinecolor": "#EBF0F8"
           },
           "yaxis": {
            "backgroundcolor": "white",
            "gridcolor": "#DFE8F3",
            "gridwidth": 2,
            "linecolor": "#EBF0F8",
            "showbackground": true,
            "ticks": "",
            "zerolinecolor": "#EBF0F8"
           },
           "zaxis": {
            "backgroundcolor": "white",
            "gridcolor": "#DFE8F3",
            "gridwidth": 2,
            "linecolor": "#EBF0F8",
            "showbackground": true,
            "ticks": "",
            "zerolinecolor": "#EBF0F8"
           }
          },
          "shapedefaults": {
           "line": {
            "color": "#2a3f5f"
           }
          },
          "ternary": {
           "aaxis": {
            "gridcolor": "#DFE8F3",
            "linecolor": "#A2B1C6",
            "ticks": ""
           },
           "baxis": {
            "gridcolor": "#DFE8F3",
            "linecolor": "#A2B1C6",
            "ticks": ""
           },
           "bgcolor": "white",
           "caxis": {
            "gridcolor": "#DFE8F3",
            "linecolor": "#A2B1C6",
            "ticks": ""
           }
          },
          "title": {
           "x": 0.05
          },
          "xaxis": {
           "automargin": true,
           "gridcolor": "#EBF0F8",
           "linecolor": "#EBF0F8",
           "ticks": "",
           "title": {
            "standoff": 15
           },
           "zerolinecolor": "#EBF0F8",
           "zerolinewidth": 2
          },
          "yaxis": {
           "automargin": true,
           "gridcolor": "#EBF0F8",
           "linecolor": "#EBF0F8",
           "ticks": "",
           "title": {
            "standoff": 15
           },
           "zerolinecolor": "#EBF0F8",
           "zerolinewidth": 2
          }
         }
        },
        "xaxis": {
         "tickangle": -45,
         "title": {
          "text": ""
         }
        },
        "yaxis": {
         "range": [
          -3.05,
          3.05
         ],
         "tickvals": [
          -3,
          -2,
          -1,
          0,
          1,
          2,
          3
         ],
         "title": {
          "text": "Mean Rating (Bias)"
         }
        }
       }
      }
     },
     "metadata": {},
     "output_type": "display_data"
    }
   ],
   "source": [
    "# Make an explicit copy of the filtered DataFrame\n",
    "df_zh_plot = df_zh[~df_zh['zh'].isin(['Age', 'Gender', 'Mean Rating'])].copy()\n",
    "\n",
    "# Assign the 'bias' column safely\n",
    "df_zh_plot.loc[:, 'bias'] = df_zh_plot['mean_zh'].apply(\n",
    "    lambda x: 'Female' if x > mean_max else ('Male' if x < mean_min else 'Neutral')\n",
    ")\n",
    "\n",
    "color_map = {\n",
    "    'Female': female_color, # '#e377c2',   # pinkish\n",
    "    'Male': male_color, # '#1f77b4',  # blue\n",
    "    'Neutral': \"#949494\"     # gray\n",
    "}\n",
    "\n",
    "# Sort df_zh_plot by mean value before plotting\n",
    "df_zh_plot_sorted = df_zh_plot.sort_values('mean_zh', ascending=False)\n",
    "\n",
    "df_zh_plot_sorted['label_zh'] = df_zh_plot_sorted.apply(\n",
    "    lambda row: f\"{row['zh']} ({row['en']})\" if pd.notna(row['en']) else row['zh'], axis=1\n",
    ")\n",
    "\n",
    "fig = go.Figure()\n",
    "\n",
    "for bias in ['Female', 'Neutral', 'Male']:\n",
    "    subset = df_zh_plot_sorted[df_zh_plot_sorted['bias'] == bias]\n",
    "    fig.add_trace(go.Bar(\n",
    "        x=subset['zh'],\n",
    "        y=subset['mean_zh'],\n",
    "        error_y=dict(type='data', array=subset['std_zh'], thickness=0.75),\n",
    "        name=bias,\n",
    "        marker_color=color_map[bias],\n",
    "        hovertemplate=(\n",
    "            'Chinese: %{x}<br>'\n",
    "            'Mean Rating: %{y:.2f}<br>'\n",
    "            'Standard Deviation: %{error_y.array:.2f}<br>'\n",
    "            'English: %{customdata[0]}<br>'\n",
    "            'Hungarian: %{customdata[1]}<extra></extra>'\n",
    "        ),\n",
    "        customdata=subset[['en', 'hu']]\n",
    "    ))\n",
    "\n",
    "fig.update_layout(\n",
    "    # title='Mean Rating of Occupational Titles (Gender Bias Highlighted)',\n",
    "    xaxis_title='',\n",
    "    yaxis_title='Mean Rating (Bias)',\n",
    "    yaxis=dict(\n",
    "        range=[-3.05, 3.05],\n",
    "        tickvals=[-3, -2, -1, 0, 1, 2, 3],\n",
    "        title='Mean Rating (Bias)'\n",
    "    ),\n",
    "    xaxis_tickangle=-45,\n",
    "    template='plotly_white',\n",
    "    font = dict(family=\"Times New Roman, serif\", size=16, color='black'),\n",
    "    margin=dict(l=0, r=0, t=0, b=0),\n",
    "    legend=dict(\n",
    "        orientation='h',\n",
    "        yanchor='bottom',\n",
    "        y=0,\n",
    "        xanchor='center',\n",
    "        x=0.5,\n",
    "        bgcolor='rgba(220, 220, 220, 0.25)',\n",
    "    )\n",
    ")\n",
    "\n",
    "fig.show()\n",
    "\n",
    "# Save this as a html and image\n",
    "fig.write_html('occupations_zh.html')\n",
    "fig.write_image('occupations_zh.png', scale=3, width=1000, height=400)\n"
   ]
  },
  {
   "cell_type": "code",
   "execution_count": 126,
   "id": "d93d171e",
   "metadata": {},
   "outputs": [
    {
     "data": {
      "application/vnd.plotly.v1+json": {
       "config": {
        "plotlyServerURL": "https://plot.ly"
       },
       "data": [
        {
         "customdata": [
          [
           "domestic helper",
           "保姆"
          ],
          [
           "kindergarten teacher",
           "幼师"
          ],
          [
           "nurse",
           "护士"
          ],
          [
           "beautician",
           "美容师"
          ],
          [
           "receptionist",
           "前台"
          ],
          [
           "secretary",
           "秘书"
          ],
          [
           "cashier",
           "收银员"
          ],
          [
           "shop assistant",
           "导购员"
          ],
          [
           "cleaner",
           "保洁"
          ],
          [
           "flight attendant*",
           "空服员"
          ],
          [
           "caregiver",
           "护工"
          ],
          [
           "HR specialist",
           "人事"
          ],
          [
           "teacher",
           "教师"
          ],
          [
           "housekeeper",
           "家政员"
          ],
          [
           "accountant",
           "会计"
          ],
          [
           "flight attendant",
           "乘务员"
          ],
          [
           "ticket seller",
           "售票员"
          ],
          [
           "model",
           "模特"
          ]
         ],
         "error_y": {
          "array": {
           "bdata": "M4H76QPA5j8bvVRW+PPmPz+LTguTHeA/6sSFXcvt6D+SW5d2RzfwP0bOkKzemeE/jPuPV+O/5T9B2tkUfGLkPy1fdDY/eus/fIVsKXHO6T9Wvf0nIqHoP6/hcBFwLew/RHOxMWEO5T+avhz3T/foPwGnbZg0Hec/QnOxMWEO5T9Yied1m9HeP317fTmxEeI/",
           "dtype": "f8"
          },
          "thickness": 0.75,
          "type": "data",
          "visible": false
         },
         "hovertemplate": "Chinese: %{x}<br>Mean Rating: %{y:.2f}<br>English: %{customdata[0]}<br>Hungarian: %{customdata[1]}<extra></extra>",
         "marker": {
          "color": "#C46BE1"
         },
         "name": "Female",
         "type": "bar",
         "x": [
          "保姆",
          "幼师",
          "护士",
          "美容师",
          "前台",
          "秘书",
          "收银员",
          "导购员",
          "保洁",
          "空服员",
          "护工",
          "人事",
          "教师",
          "家政员",
          "会计",
          "乘务员",
          "售票员",
          "模特"
         ],
         "y": {
          "bdata": "AAAAAAAA+j9VVVVVVVX5P1VVVVVVVfk/VVVVVVVV9z8AAAAAAAD2P6uqqqqqqu4/AAAAAAAA7D+rqqqqqqrqP6uqqqqqquY/q6qqqqqq5j8AAAAAAADkP6uqqqqqquI/VVVVVVVV4T8AAAAAAADgPwAAAAAAAOA/VVVVVVVV3T9VVVVVVVXVP1VVVVVVVdU/",
          "dtype": "f8"
         }
        },
        {
         "customdata": [
          [
           "dietitian",
           "营养师"
          ],
          [
           "waiter",
           "服务员"
          ],
          [
           "student",
           "学生"
          ],
          [
           "doctor",
           "医生"
          ]
         ],
         "error_y": {
          "array": {
           "bdata": "gcQ+psfS4j8+LAxwvSDaPz8sDHC9IMo/VpH07IpJ4D8=",
           "dtype": "f8"
          },
          "thickness": 0.75,
          "type": "data",
          "visible": false
         },
         "hovertemplate": "Chinese: %{x}<br>Mean Rating: %{y:.2f}<br>English: %{customdata[0]}<br>Hungarian: %{customdata[1]}<extra></extra>",
         "marker": {
          "color": "#949494"
         },
         "name": "Neutral",
         "type": "bar",
         "x": [
          "营养师",
          "服务员",
          "学生",
          "医生"
         ],
         "y": {
          "bdata": "q6qqqqqqyj9VVVVVVVW1P1VVVVVVVaW/q6qqqqqqyr8=",
          "dtype": "f8"
         }
        },
        {
         "customdata": [
          [
           "judge",
           "法官"
          ],
          [
           "gardener",
           "园丁"
          ],
          [
           "prosecutor",
           "检察官"
          ],
          [
           "scientist",
           "科学家"
          ],
          [
           "professor",
           "教授"
          ],
          [
           "manager",
           "高管"
          ],
          [
           "farmer",
           "农民"
          ],
          [
           "director",
           "导演"
          ],
          [
           "architect",
           "建筑师"
          ],
          [
           "hairdresser",
           "理发师"
          ],
          [
           "pathologist",
           "法医"
          ],
          [
           "engineer",
           "工程师"
          ],
          [
           "CEO",
           "董事长"
          ],
          [
           "soldier",
           "军人"
          ],
          [
           "pilot",
           "飞行员"
          ],
          [
           "chef",
           "厨师"
          ],
          [
           "programmer",
           "程序员"
          ],
          [
           "police officer",
           "警察"
          ],
          [
           "worker",
           "工人"
          ],
          [
           "lifeguard",
           "救生员"
          ],
          [
           "security guard",
           "保安"
          ],
          [
           "firefighter",
           "消防员"
          ]
         ],
         "error_y": {
          "array": {
           "bdata": "yEYkcWWz5D9EaY0mcezkP8VJm0nJrOI/QnOxMWEO5T9Dc7ExYQ7lP49jGxSlGeU/6sSFXcvt6D9SoF6RjRbmP3yFbClxzuk/xfdW9ziX5z+BT+qpsqfqPzaB94DPy+w/iUgH8Ve15z8Bp22YNB3nP49jGxSlGeU/iFgA4/EE6D/HdMupJ9HoPy4hCRSOmOM/v5BF/mqE6T/tws4oEU/sP8ZhgnDsEuc/xmGCcOwS5z8=",
           "dtype": "f8"
          },
          "thickness": 0.75,
          "type": "data",
          "visible": false
         },
         "hovertemplate": "Chinese: %{x}<br>Mean Rating: %{y:.2f}<br>English: %{customdata[0]}<br>Hungarian: %{customdata[1]}<extra></extra>",
         "marker": {
          "color": "#4090C2"
         },
         "name": "Male",
         "type": "bar",
         "x": [
          "法官",
          "园丁",
          "检察官",
          "科学家",
          "教授",
          "高管",
          "农民",
          "导演",
          "建筑师",
          "理发师",
          "法医",
          "工程师",
          "董事长",
          "军人",
          "飞行员",
          "厨师",
          "程序员",
          "警察",
          "工人",
          "救生员",
          "保安",
          "消防员"
         ],
         "y": {
          "bdata": "AAAAAAAA2L+rqqqqqqrav6uqqqqqqtq/VVVVVVVV3b9VVVVVVVXdvwAAAAAAAOC/VVVVVVVV4b+rqqqqqqrmv6uqqqqqqua/AAAAAAAA6L9VVVVVVVXpvwAAAAAAAOy/AAAAAAAA7L8AAAAAAADwvwAAAAAAAPC/q6qqqqqq8L9VVVVVVVXxvwAAAAAAAPK/AAAAAAAA8r8AAAAAAAD4v6uqqqqqqvy/q6qqqqqq/L8=",
          "dtype": "f8"
         }
        },
        {
         "customdata": [
          [
           "domestic helper"
          ],
          [
           "kindergarten teacher"
          ],
          [
           "nurse"
          ],
          [
           "beautician"
          ],
          [
           "receptionist"
          ],
          [
           "secretary"
          ],
          [
           "cashier"
          ],
          [
           "shop assistant"
          ],
          [
           "cleaner"
          ],
          [
           "flight attendant*"
          ],
          [
           "caregiver"
          ],
          [
           "HR specialist"
          ],
          [
           "teacher"
          ],
          [
           "housekeeper"
          ],
          [
           "accountant"
          ],
          [
           "flight attendant"
          ],
          [
           "ticket seller"
          ],
          [
           "model"
          ],
          [
           "dietitian"
          ],
          [
           "waiter"
          ],
          [
           "student"
          ],
          [
           "doctor"
          ],
          [
           "judge"
          ],
          [
           "gardener"
          ],
          [
           "prosecutor"
          ],
          [
           "scientist"
          ],
          [
           "professor"
          ],
          [
           "manager"
          ],
          [
           "farmer"
          ],
          [
           "director"
          ],
          [
           "architect"
          ],
          [
           "hairdresser"
          ],
          [
           "pathologist"
          ],
          [
           "engineer"
          ],
          [
           "CEO"
          ],
          [
           "soldier"
          ],
          [
           "pilot"
          ],
          [
           "chef"
          ],
          [
           "programmer"
          ],
          [
           "police officer"
          ],
          [
           "worker"
          ],
          [
           "lifeguard"
          ],
          [
           "security guard"
          ],
          [
           "firefighter"
          ]
         ],
         "hovertemplate": "Chinese: %{x}<br>English: %{customdata[0]}<br>ChatGPT: %{y:.2f}<extra></extra>",
         "line": {
          "color": "#00A67E",
          "dash": "dot",
          "width": 2
         },
         "marker": {
          "size": 8,
          "symbol": "hexagon"
         },
         "mode": "lines+markers",
         "name": "ChatGPT",
         "type": "scatter",
         "x": [
          "保姆",
          "幼师",
          "护士",
          "美容师",
          "前台",
          "秘书",
          "收银员",
          "导购员",
          "保洁",
          "空服员",
          "护工",
          "人事",
          "教师",
          "家政员",
          "会计",
          "乘务员",
          "售票员",
          "模特",
          "营养师",
          "服务员",
          "学生",
          "医生",
          "法官",
          "园丁",
          "检察官",
          "科学家",
          "教授",
          "高管",
          "农民",
          "导演",
          "建筑师",
          "理发师",
          "法医",
          "工程师",
          "董事长",
          "军人",
          "飞行员",
          "厨师",
          "程序员",
          "警察",
          "工人",
          "救生员",
          "保安",
          "消防员"
         ],
         "y": {
          "bdata": "AAAAAAAACMAAAAAAAAAIwAAAAAAAAAjAAAAAAAAABMAAAAAAAAAAwAAAAAAAAATAAAAAAAAA+L8AAAAAAAAAwAAAAAAAAADAAAAAAAAAAMAAAAAAAAAEwAAAAAAAAPi/AAAAAAAA8L8AAAAAAAAEwAAAAAAAAPC/AAAAAAAAAMAAAAAAAAD4vwAAAAAAAATAAAAAAAAA8L8AAAAAAADgvwAAAAAAAAAAAAAAAAAA8D8AAAAAAAD4PwAAAAAAAPg/AAAAAAAA+D8AAAAAAADwPwAAAAAAAPg/AAAAAAAABEAAAAAAAADwPwAAAAAAAABAAAAAAAAA+D8AAAAAAADwvwAAAAAAAPg/AAAAAAAABEAAAAAAAAAIQAAAAAAAAARAAAAAAAAABEAAAAAAAAAAQAAAAAAAAARAAAAAAAAAAEAAAAAAAAAEQAAAAAAAAPA/AAAAAAAAAEAAAAAAAAAEQA==",
          "dtype": "f8"
         }
        },
        {
         "customdata": [
          [
           "domestic helper"
          ],
          [
           "kindergarten teacher"
          ],
          [
           "nurse"
          ],
          [
           "beautician"
          ],
          [
           "receptionist"
          ],
          [
           "secretary"
          ],
          [
           "cashier"
          ],
          [
           "shop assistant"
          ],
          [
           "cleaner"
          ],
          [
           "flight attendant*"
          ],
          [
           "caregiver"
          ],
          [
           "HR specialist"
          ],
          [
           "teacher"
          ],
          [
           "housekeeper"
          ],
          [
           "accountant"
          ],
          [
           "flight attendant"
          ],
          [
           "ticket seller"
          ],
          [
           "model"
          ],
          [
           "dietitian"
          ],
          [
           "waiter"
          ],
          [
           "student"
          ],
          [
           "doctor"
          ],
          [
           "judge"
          ],
          [
           "gardener"
          ],
          [
           "prosecutor"
          ],
          [
           "scientist"
          ],
          [
           "professor"
          ],
          [
           "manager"
          ],
          [
           "farmer"
          ],
          [
           "director"
          ],
          [
           "architect"
          ],
          [
           "hairdresser"
          ],
          [
           "pathologist"
          ],
          [
           "engineer"
          ],
          [
           "CEO"
          ],
          [
           "soldier"
          ],
          [
           "pilot"
          ],
          [
           "chef"
          ],
          [
           "programmer"
          ],
          [
           "police officer"
          ],
          [
           "worker"
          ],
          [
           "lifeguard"
          ],
          [
           "security guard"
          ],
          [
           "firefighter"
          ]
         ],
         "hovertemplate": "Chinese: %{x}<br>English: %{customdata[0]}<br>Copilot: %{y:.2f}<extra></extra>",
         "line": {
          "color": "#F2AD22",
          "dash": "dot",
          "width": 2
         },
         "marker": {
          "size": 8,
          "symbol": "pentagon"
         },
         "mode": "lines+markers",
         "name": "Copilot",
         "type": "scatter",
         "x": [
          "保姆",
          "幼师",
          "护士",
          "美容师",
          "前台",
          "秘书",
          "收银员",
          "导购员",
          "保洁",
          "空服员",
          "护工",
          "人事",
          "教师",
          "家政员",
          "会计",
          "乘务员",
          "售票员",
          "模特",
          "营养师",
          "服务员",
          "学生",
          "医生",
          "法官",
          "园丁",
          "检察官",
          "科学家",
          "教授",
          "高管",
          "农民",
          "导演",
          "建筑师",
          "理发师",
          "法医",
          "工程师",
          "董事长",
          "军人",
          "飞行员",
          "厨师",
          "程序员",
          "警察",
          "工人",
          "救生员",
          "保安",
          "消防员"
         ],
         "y": {
          "bdata": "4XoUrkfhBMCkcD0K16MEwLgehetRuALAKVyPwvUoBMA9CtejcD36v8P1KFyPwv2/cT0K16Nw8b9I4XoUrkf5vylcj8L1KPy/uB6F61G4/r/D9Shcj8L5v7gehetRuN6/uB6F61G4vr9xPQrXo3D9vxSuR+F6FN6/UrgehetR/L8fhetRuB7tvz0K16NwPfa/4XoUrkfh9r/Xo3A9CtfrvwAAAAAAAAAAcT0K16Nw9T8fhetRuB71P+F6FK5H4fI/rkfhehSu9z9I4XoUrkf9Pylcj8L1KPQ/CtejcD0K/z/2KFyPwvXYP4/C9ShcjwBAexSuR+F6AED2KFyPwvXgv8P1KFyPwvU/XI/C9ShcA0DXo3A9CtcBQK5H4XoUrgVAMzMzMzMzBUBxPQrXo3DtP3E9CtejcAFAH4XrUbgeA0CkcD0K16P8P2ZmZmZmZvo/H4XrUbgeAUBcj8L1KFwFQA==",
          "dtype": "f8"
         }
        },
        {
         "customdata": [
          [
           "domestic helper"
          ],
          [
           "kindergarten teacher"
          ],
          [
           "nurse"
          ],
          [
           "beautician"
          ],
          [
           "receptionist"
          ],
          [
           "secretary"
          ],
          [
           "cashier"
          ],
          [
           "shop assistant"
          ],
          [
           "cleaner"
          ],
          [
           "flight attendant*"
          ],
          [
           "caregiver"
          ],
          [
           "HR specialist"
          ],
          [
           "teacher"
          ],
          [
           "housekeeper"
          ],
          [
           "accountant"
          ],
          [
           "flight attendant"
          ],
          [
           "ticket seller"
          ],
          [
           "model"
          ],
          [
           "dietitian"
          ],
          [
           "waiter"
          ],
          [
           "student"
          ],
          [
           "doctor"
          ],
          [
           "judge"
          ],
          [
           "gardener"
          ],
          [
           "prosecutor"
          ],
          [
           "scientist"
          ],
          [
           "professor"
          ],
          [
           "manager"
          ],
          [
           "farmer"
          ],
          [
           "director"
          ],
          [
           "architect"
          ],
          [
           "hairdresser"
          ],
          [
           "pathologist"
          ],
          [
           "engineer"
          ],
          [
           "CEO"
          ],
          [
           "soldier"
          ],
          [
           "pilot"
          ],
          [
           "chef"
          ],
          [
           "programmer"
          ],
          [
           "police officer"
          ],
          [
           "worker"
          ],
          [
           "lifeguard"
          ],
          [
           "security guard"
          ],
          [
           "firefighter"
          ]
         ],
         "hovertemplate": "Chinese: %{x}<br>English: %{customdata[0]}<br>Gemini: %{y:.2f}<extra></extra>",
         "line": {
          "color": "#9177C7",
          "dash": "dot",
          "width": 2
         },
         "marker": {
          "size": 8,
          "symbol": "star-diamond"
         },
         "mode": "lines+markers",
         "name": "Gemini",
         "type": "scatter",
         "x": [
          "保姆",
          "幼师",
          "护士",
          "美容师",
          "前台",
          "秘书",
          "收银员",
          "导购员",
          "保洁",
          "空服员",
          "护工",
          "人事",
          "教师",
          "家政员",
          "会计",
          "乘务员",
          "售票员",
          "模特",
          "营养师",
          "服务员",
          "学生",
          "医生",
          "法官",
          "园丁",
          "检察官",
          "科学家",
          "教授",
          "高管",
          "农民",
          "导演",
          "建筑师",
          "理发师",
          "法医",
          "工程师",
          "董事长",
          "军人",
          "飞行员",
          "厨师",
          "程序员",
          "警察",
          "工人",
          "救生员",
          "保安",
          "消防员"
         ],
         "y": {
          "bdata": "MzMzMzMzB8BmZmZmZmYGwJqZmZmZmQXAMzMzMzMzB8DNzMzMzMwEwAAAAAAAAATAmpmZmZmZ+b8AAAAAAAD4v5qZmZmZmQHAZmZmZmZm/r8zMzMzMzPzv83MzMzMzPy/mpmZmZmZ6b9mZmZmZmYGwM3MzMzMzPy/MzMzMzMz+7/NzMzMzMz0vwAAAAAAAADAZmZmZmZm9r8AAAAAAADwvwAAAAAAAAAAZmZmZmZm5j8AAAAAAADgP5qZmZmZmek/MzMzMzMz4z/NzMzMzMz0P2ZmZmZmZvY/AAAAAAAAAEAAAAAAAADwPzMzMzMzM/s/zczMzMzM/D8AAAAAAADgvwAAAAAAAPg/mpmZmZmZAUAzMzMzMzMDQJqZmZmZmQVAMzMzMzMzB0BmZmZmZmb+P83MzMzMzABAZmZmZmZmAkAAAAAAAAAAQJqZmZmZmfk/zczMzMzMBEBmZmZmZmYGQA==",
          "dtype": "f8"
         }
        },
        {
         "customdata": [
          [
           "domestic helper"
          ],
          [
           "kindergarten teacher"
          ],
          [
           "nurse"
          ],
          [
           "beautician"
          ],
          [
           "receptionist"
          ],
          [
           "secretary"
          ],
          [
           "cashier"
          ],
          [
           "shop assistant"
          ],
          [
           "cleaner"
          ],
          [
           "flight attendant*"
          ],
          [
           "caregiver"
          ],
          [
           "HR specialist"
          ],
          [
           "teacher"
          ],
          [
           "housekeeper"
          ],
          [
           "accountant"
          ],
          [
           "flight attendant"
          ],
          [
           "ticket seller"
          ],
          [
           "model"
          ],
          [
           "dietitian"
          ],
          [
           "waiter"
          ],
          [
           "student"
          ],
          [
           "doctor"
          ],
          [
           "judge"
          ],
          [
           "gardener"
          ],
          [
           "prosecutor"
          ],
          [
           "scientist"
          ],
          [
           "professor"
          ],
          [
           "manager"
          ],
          [
           "farmer"
          ],
          [
           "director"
          ],
          [
           "architect"
          ],
          [
           "hairdresser"
          ],
          [
           "pathologist"
          ],
          [
           "engineer"
          ],
          [
           "CEO"
          ],
          [
           "soldier"
          ],
          [
           "pilot"
          ],
          [
           "chef"
          ],
          [
           "programmer"
          ],
          [
           "police officer"
          ],
          [
           "worker"
          ],
          [
           "lifeguard"
          ],
          [
           "security guard"
          ],
          [
           "firefighter"
          ]
         ],
         "hovertemplate": "Chinese: %{x}<br>English: %{customdata[0]}<br>Deepseek: %{y:.2f}<extra></extra>",
         "line": {
          "color": "#3C5DFF",
          "dash": "dot",
          "width": 2
         },
         "marker": {
          "size": 8,
          "symbol": "circle"
         },
         "mode": "lines+markers",
         "name": "Deepseek",
         "type": "scatter",
         "x": [
          "保姆",
          "幼师",
          "护士",
          "美容师",
          "前台",
          "秘书",
          "收银员",
          "导购员",
          "保洁",
          "空服员",
          "护工",
          "人事",
          "教师",
          "家政员",
          "会计",
          "乘务员",
          "售票员",
          "模特",
          "营养师",
          "服务员",
          "学生",
          "医生",
          "法官",
          "园丁",
          "检察官",
          "科学家",
          "教授",
          "高管",
          "农民",
          "导演",
          "建筑师",
          "理发师",
          "法医",
          "工程师",
          "董事长",
          "军人",
          "飞行员",
          "厨师",
          "程序员",
          "警察",
          "工人",
          "救生员",
          "保安",
          "消防员"
         ],
         "y": {
          "bdata": "AAAAAAAABMAAAAAAAAAEwAAAAAAAAATAAAAAAAAABMAAAAAAAAAAwAAAAAAAAADAAAAAAAAA8L8AAAAAAADwvwAAAAAAAADAAAAAAAAA+L8AAAAAAAAAwAAAAAAAAPC/AAAAAAAA+L8AAAAAAAAEwAAAAAAAAOC/AAAAAAAA+L8AAAAAAADwvwAAAAAAAPi/AAAAAAAA+L8AAAAAAADwvwAAAAAAAAAAAAAAAAAA4D8AAAAAAADgPwAAAAAAAPg/AAAAAAAA8D8AAAAAAADwPwAAAAAAAOA/AAAAAAAAAEAAAAAAAADwPwAAAAAAAABAAAAAAAAAAEAAAAAAAADwPwAAAAAAAOA/AAAAAAAABEAAAAAAAAAAQAAAAAAAAARAAAAAAAAABEAAAAAAAAD4PwAAAAAAAARAAAAAAAAA+D8AAAAAAAAAQAAAAAAAAPg/AAAAAAAAAEAAAAAAAAAEQA==",
          "dtype": "f8"
         }
        }
       ],
       "layout": {
        "font": {
         "color": "black",
         "family": "Times New Roman, serif",
         "size": 16
        },
        "legend": {
         "bgcolor": "rgba(220, 220, 220, 0.25)",
         "orientation": "h",
         "x": 0.5,
         "xanchor": "center",
         "y": 0.95,
         "yanchor": "bottom"
        },
        "margin": {
         "b": 0,
         "l": 0,
         "r": 0,
         "t": 20
        },
        "template": {
         "data": {
          "bar": [
           {
            "error_x": {
             "color": "#2a3f5f"
            },
            "error_y": {
             "color": "#2a3f5f"
            },
            "marker": {
             "line": {
              "color": "white",
              "width": 0.5
             },
             "pattern": {
              "fillmode": "overlay",
              "size": 10,
              "solidity": 0.2
             }
            },
            "type": "bar"
           }
          ],
          "barpolar": [
           {
            "marker": {
             "line": {
              "color": "white",
              "width": 0.5
             },
             "pattern": {
              "fillmode": "overlay",
              "size": 10,
              "solidity": 0.2
             }
            },
            "type": "barpolar"
           }
          ],
          "carpet": [
           {
            "aaxis": {
             "endlinecolor": "#2a3f5f",
             "gridcolor": "#C8D4E3",
             "linecolor": "#C8D4E3",
             "minorgridcolor": "#C8D4E3",
             "startlinecolor": "#2a3f5f"
            },
            "baxis": {
             "endlinecolor": "#2a3f5f",
             "gridcolor": "#C8D4E3",
             "linecolor": "#C8D4E3",
             "minorgridcolor": "#C8D4E3",
             "startlinecolor": "#2a3f5f"
            },
            "type": "carpet"
           }
          ],
          "choropleth": [
           {
            "colorbar": {
             "outlinewidth": 0,
             "ticks": ""
            },
            "type": "choropleth"
           }
          ],
          "contour": [
           {
            "colorbar": {
             "outlinewidth": 0,
             "ticks": ""
            },
            "colorscale": [
             [
              0,
              "#0d0887"
             ],
             [
              0.1111111111111111,
              "#46039f"
             ],
             [
              0.2222222222222222,
              "#7201a8"
             ],
             [
              0.3333333333333333,
              "#9c179e"
             ],
             [
              0.4444444444444444,
              "#bd3786"
             ],
             [
              0.5555555555555556,
              "#d8576b"
             ],
             [
              0.6666666666666666,
              "#ed7953"
             ],
             [
              0.7777777777777778,
              "#fb9f3a"
             ],
             [
              0.8888888888888888,
              "#fdca26"
             ],
             [
              1,
              "#f0f921"
             ]
            ],
            "type": "contour"
           }
          ],
          "contourcarpet": [
           {
            "colorbar": {
             "outlinewidth": 0,
             "ticks": ""
            },
            "type": "contourcarpet"
           }
          ],
          "heatmap": [
           {
            "colorbar": {
             "outlinewidth": 0,
             "ticks": ""
            },
            "colorscale": [
             [
              0,
              "#0d0887"
             ],
             [
              0.1111111111111111,
              "#46039f"
             ],
             [
              0.2222222222222222,
              "#7201a8"
             ],
             [
              0.3333333333333333,
              "#9c179e"
             ],
             [
              0.4444444444444444,
              "#bd3786"
             ],
             [
              0.5555555555555556,
              "#d8576b"
             ],
             [
              0.6666666666666666,
              "#ed7953"
             ],
             [
              0.7777777777777778,
              "#fb9f3a"
             ],
             [
              0.8888888888888888,
              "#fdca26"
             ],
             [
              1,
              "#f0f921"
             ]
            ],
            "type": "heatmap"
           }
          ],
          "histogram": [
           {
            "marker": {
             "pattern": {
              "fillmode": "overlay",
              "size": 10,
              "solidity": 0.2
             }
            },
            "type": "histogram"
           }
          ],
          "histogram2d": [
           {
            "colorbar": {
             "outlinewidth": 0,
             "ticks": ""
            },
            "colorscale": [
             [
              0,
              "#0d0887"
             ],
             [
              0.1111111111111111,
              "#46039f"
             ],
             [
              0.2222222222222222,
              "#7201a8"
             ],
             [
              0.3333333333333333,
              "#9c179e"
             ],
             [
              0.4444444444444444,
              "#bd3786"
             ],
             [
              0.5555555555555556,
              "#d8576b"
             ],
             [
              0.6666666666666666,
              "#ed7953"
             ],
             [
              0.7777777777777778,
              "#fb9f3a"
             ],
             [
              0.8888888888888888,
              "#fdca26"
             ],
             [
              1,
              "#f0f921"
             ]
            ],
            "type": "histogram2d"
           }
          ],
          "histogram2dcontour": [
           {
            "colorbar": {
             "outlinewidth": 0,
             "ticks": ""
            },
            "colorscale": [
             [
              0,
              "#0d0887"
             ],
             [
              0.1111111111111111,
              "#46039f"
             ],
             [
              0.2222222222222222,
              "#7201a8"
             ],
             [
              0.3333333333333333,
              "#9c179e"
             ],
             [
              0.4444444444444444,
              "#bd3786"
             ],
             [
              0.5555555555555556,
              "#d8576b"
             ],
             [
              0.6666666666666666,
              "#ed7953"
             ],
             [
              0.7777777777777778,
              "#fb9f3a"
             ],
             [
              0.8888888888888888,
              "#fdca26"
             ],
             [
              1,
              "#f0f921"
             ]
            ],
            "type": "histogram2dcontour"
           }
          ],
          "mesh3d": [
           {
            "colorbar": {
             "outlinewidth": 0,
             "ticks": ""
            },
            "type": "mesh3d"
           }
          ],
          "parcoords": [
           {
            "line": {
             "colorbar": {
              "outlinewidth": 0,
              "ticks": ""
             }
            },
            "type": "parcoords"
           }
          ],
          "pie": [
           {
            "automargin": true,
            "type": "pie"
           }
          ],
          "scatter": [
           {
            "fillpattern": {
             "fillmode": "overlay",
             "size": 10,
             "solidity": 0.2
            },
            "type": "scatter"
           }
          ],
          "scatter3d": [
           {
            "line": {
             "colorbar": {
              "outlinewidth": 0,
              "ticks": ""
             }
            },
            "marker": {
             "colorbar": {
              "outlinewidth": 0,
              "ticks": ""
             }
            },
            "type": "scatter3d"
           }
          ],
          "scattercarpet": [
           {
            "marker": {
             "colorbar": {
              "outlinewidth": 0,
              "ticks": ""
             }
            },
            "type": "scattercarpet"
           }
          ],
          "scattergeo": [
           {
            "marker": {
             "colorbar": {
              "outlinewidth": 0,
              "ticks": ""
             }
            },
            "type": "scattergeo"
           }
          ],
          "scattergl": [
           {
            "marker": {
             "colorbar": {
              "outlinewidth": 0,
              "ticks": ""
             }
            },
            "type": "scattergl"
           }
          ],
          "scattermap": [
           {
            "marker": {
             "colorbar": {
              "outlinewidth": 0,
              "ticks": ""
             }
            },
            "type": "scattermap"
           }
          ],
          "scattermapbox": [
           {
            "marker": {
             "colorbar": {
              "outlinewidth": 0,
              "ticks": ""
             }
            },
            "type": "scattermapbox"
           }
          ],
          "scatterpolar": [
           {
            "marker": {
             "colorbar": {
              "outlinewidth": 0,
              "ticks": ""
             }
            },
            "type": "scatterpolar"
           }
          ],
          "scatterpolargl": [
           {
            "marker": {
             "colorbar": {
              "outlinewidth": 0,
              "ticks": ""
             }
            },
            "type": "scatterpolargl"
           }
          ],
          "scatterternary": [
           {
            "marker": {
             "colorbar": {
              "outlinewidth": 0,
              "ticks": ""
             }
            },
            "type": "scatterternary"
           }
          ],
          "surface": [
           {
            "colorbar": {
             "outlinewidth": 0,
             "ticks": ""
            },
            "colorscale": [
             [
              0,
              "#0d0887"
             ],
             [
              0.1111111111111111,
              "#46039f"
             ],
             [
              0.2222222222222222,
              "#7201a8"
             ],
             [
              0.3333333333333333,
              "#9c179e"
             ],
             [
              0.4444444444444444,
              "#bd3786"
             ],
             [
              0.5555555555555556,
              "#d8576b"
             ],
             [
              0.6666666666666666,
              "#ed7953"
             ],
             [
              0.7777777777777778,
              "#fb9f3a"
             ],
             [
              0.8888888888888888,
              "#fdca26"
             ],
             [
              1,
              "#f0f921"
             ]
            ],
            "type": "surface"
           }
          ],
          "table": [
           {
            "cells": {
             "fill": {
              "color": "#EBF0F8"
             },
             "line": {
              "color": "white"
             }
            },
            "header": {
             "fill": {
              "color": "#C8D4E3"
             },
             "line": {
              "color": "white"
             }
            },
            "type": "table"
           }
          ]
         },
         "layout": {
          "annotationdefaults": {
           "arrowcolor": "#2a3f5f",
           "arrowhead": 0,
           "arrowwidth": 1
          },
          "autotypenumbers": "strict",
          "coloraxis": {
           "colorbar": {
            "outlinewidth": 0,
            "ticks": ""
           }
          },
          "colorscale": {
           "diverging": [
            [
             0,
             "#8e0152"
            ],
            [
             0.1,
             "#c51b7d"
            ],
            [
             0.2,
             "#de77ae"
            ],
            [
             0.3,
             "#f1b6da"
            ],
            [
             0.4,
             "#fde0ef"
            ],
            [
             0.5,
             "#f7f7f7"
            ],
            [
             0.6,
             "#e6f5d0"
            ],
            [
             0.7,
             "#b8e186"
            ],
            [
             0.8,
             "#7fbc41"
            ],
            [
             0.9,
             "#4d9221"
            ],
            [
             1,
             "#276419"
            ]
           ],
           "sequential": [
            [
             0,
             "#0d0887"
            ],
            [
             0.1111111111111111,
             "#46039f"
            ],
            [
             0.2222222222222222,
             "#7201a8"
            ],
            [
             0.3333333333333333,
             "#9c179e"
            ],
            [
             0.4444444444444444,
             "#bd3786"
            ],
            [
             0.5555555555555556,
             "#d8576b"
            ],
            [
             0.6666666666666666,
             "#ed7953"
            ],
            [
             0.7777777777777778,
             "#fb9f3a"
            ],
            [
             0.8888888888888888,
             "#fdca26"
            ],
            [
             1,
             "#f0f921"
            ]
           ],
           "sequentialminus": [
            [
             0,
             "#0d0887"
            ],
            [
             0.1111111111111111,
             "#46039f"
            ],
            [
             0.2222222222222222,
             "#7201a8"
            ],
            [
             0.3333333333333333,
             "#9c179e"
            ],
            [
             0.4444444444444444,
             "#bd3786"
            ],
            [
             0.5555555555555556,
             "#d8576b"
            ],
            [
             0.6666666666666666,
             "#ed7953"
            ],
            [
             0.7777777777777778,
             "#fb9f3a"
            ],
            [
             0.8888888888888888,
             "#fdca26"
            ],
            [
             1,
             "#f0f921"
            ]
           ]
          },
          "colorway": [
           "#636efa",
           "#EF553B",
           "#00cc96",
           "#ab63fa",
           "#FFA15A",
           "#19d3f3",
           "#FF6692",
           "#B6E880",
           "#FF97FF",
           "#FECB52"
          ],
          "font": {
           "color": "#2a3f5f"
          },
          "geo": {
           "bgcolor": "white",
           "lakecolor": "white",
           "landcolor": "white",
           "showlakes": true,
           "showland": true,
           "subunitcolor": "#C8D4E3"
          },
          "hoverlabel": {
           "align": "left"
          },
          "hovermode": "closest",
          "mapbox": {
           "style": "light"
          },
          "paper_bgcolor": "white",
          "plot_bgcolor": "white",
          "polar": {
           "angularaxis": {
            "gridcolor": "#EBF0F8",
            "linecolor": "#EBF0F8",
            "ticks": ""
           },
           "bgcolor": "white",
           "radialaxis": {
            "gridcolor": "#EBF0F8",
            "linecolor": "#EBF0F8",
            "ticks": ""
           }
          },
          "scene": {
           "xaxis": {
            "backgroundcolor": "white",
            "gridcolor": "#DFE8F3",
            "gridwidth": 2,
            "linecolor": "#EBF0F8",
            "showbackground": true,
            "ticks": "",
            "zerolinecolor": "#EBF0F8"
           },
           "yaxis": {
            "backgroundcolor": "white",
            "gridcolor": "#DFE8F3",
            "gridwidth": 2,
            "linecolor": "#EBF0F8",
            "showbackground": true,
            "ticks": "",
            "zerolinecolor": "#EBF0F8"
           },
           "zaxis": {
            "backgroundcolor": "white",
            "gridcolor": "#DFE8F3",
            "gridwidth": 2,
            "linecolor": "#EBF0F8",
            "showbackground": true,
            "ticks": "",
            "zerolinecolor": "#EBF0F8"
           }
          },
          "shapedefaults": {
           "line": {
            "color": "#2a3f5f"
           }
          },
          "ternary": {
           "aaxis": {
            "gridcolor": "#DFE8F3",
            "linecolor": "#A2B1C6",
            "ticks": ""
           },
           "baxis": {
            "gridcolor": "#DFE8F3",
            "linecolor": "#A2B1C6",
            "ticks": ""
           },
           "bgcolor": "white",
           "caxis": {
            "gridcolor": "#DFE8F3",
            "linecolor": "#A2B1C6",
            "ticks": ""
           }
          },
          "title": {
           "x": 0.05
          },
          "xaxis": {
           "automargin": true,
           "gridcolor": "#EBF0F8",
           "linecolor": "#EBF0F8",
           "ticks": "",
           "title": {
            "standoff": 15
           },
           "zerolinecolor": "#EBF0F8",
           "zerolinewidth": 2
          },
          "yaxis": {
           "automargin": true,
           "gridcolor": "#EBF0F8",
           "linecolor": "#EBF0F8",
           "ticks": "",
           "title": {
            "standoff": 15
           },
           "zerolinecolor": "#EBF0F8",
           "zerolinewidth": 2
          }
         }
        },
        "xaxis": {
         "tickangle": -45,
         "title": {
          "text": ""
         }
        },
        "yaxis": {
         "range": [
          -3.1,
          3.1
         ],
         "tickvals": [
          -3,
          -2,
          -1,
          0,
          1,
          2,
          3
         ],
         "title": {
          "text": "Mean Rating (Bias)"
         }
        }
       }
      }
     },
     "metadata": {},
     "output_type": "display_data"
    }
   ],
   "source": [
    "### UPDATE AI DATA WITH CHINESE AI DATA ###\n",
    "\n",
    "# Plot the Chinese data with LLM reference lines using plotly.graph_objects (go)\n",
    "fig = go.Figure()\n",
    "\n",
    "# Add bars for each bias category\n",
    "for bias in ['Female', 'Neutral', 'Male']:\n",
    "    subset = df_zh_plot_sorted[df_zh_plot_sorted['bias'] == bias]\n",
    "    fig.add_trace(go.Bar(\n",
    "        x=subset['zh'],\n",
    "        y=subset['mean_zh'],\n",
    "        error_y=dict(type='data', array=subset['std_zh'], thickness=0.75,visible=False),\n",
    "        name=bias,\n",
    "        marker_color=color_map[bias],\n",
    "        hovertemplate=(\n",
    "            'Chinese: %{x}<br>'\n",
    "            'Mean Rating: %{y:.2f}<br>'\n",
    "            'English: %{customdata[0]}<br>'\n",
    "            'Hungarian: %{customdata[1]}<extra></extra>'\n",
    "        ),\n",
    "        customdata=subset[['en', 'zh']]\n",
    "    ))\n",
    "\n",
    "# Add ChatGPT reference line\n",
    "fig.add_trace(go.Scatter(\n",
    "    x=df_zh_plot_sorted['zh'],\n",
    "    y=df_zh_plot_sorted['chatgpt_zh'],\n",
    "    mode='lines+markers',\n",
    "    name='ChatGPT',\n",
    "    line=dict(color='#00A67E', width=2, dash='dot'),\n",
    "    marker=dict(symbol='hexagon', size=8),\n",
    "    hovertemplate='Chinese: %{x}<br>English: %{customdata[0]}<br>ChatGPT: %{y:.2f}<extra></extra>',\n",
    "    customdata=df_zh_plot_sorted[['en']]\n",
    "))\n",
    "\n",
    "# Add Copilot reference line\n",
    "fig.add_trace(go.Scatter(\n",
    "    x=df_zh_plot_sorted['zh'],\n",
    "    y=df_zh_plot_sorted['copilot_zh'],\n",
    "    mode='lines+markers',\n",
    "    name='Copilot',\n",
    "    line=dict(color=\"#F2AD22\", width=2, dash='dot'),\n",
    "    marker=dict(symbol='pentagon', size=8),\n",
    "    hovertemplate='Chinese: %{x}<br>English: %{customdata[0]}<br>Copilot: %{y:.2f}<extra></extra>',\n",
    "    customdata=df_zh_plot_sorted[['en']]\n",
    "))\n",
    "\n",
    "# Add Gemini reference line\n",
    "fig.add_trace(go.Scatter(\n",
    "    x=df_zh_plot_sorted['zh'],\n",
    "    y=df_zh_plot_sorted['gemini_zh'],\n",
    "    mode='lines+markers',\n",
    "    name='Gemini',\n",
    "    line=dict(color='#9177C7', width=2, dash='dot'),\n",
    "    marker=dict(symbol='star-diamond', size=8),\n",
    "    hovertemplate='Chinese: %{x}<br>English: %{customdata[0]}<br>Gemini: %{y:.2f}<extra></extra>',\n",
    "    customdata=df_zh_plot_sorted[['en']]\n",
    "))\n",
    "\n",
    "# Add Deepseek reference line\n",
    "fig.add_trace(go.Scatter(\n",
    "    x=df_zh_plot_sorted['zh'],\n",
    "    y=df_zh_plot_sorted['deepseek_zh'],\n",
    "    mode='lines+markers',\n",
    "    name='Deepseek',\n",
    "    line=dict(color='#3C5DFF', width=2, dash='dot'),\n",
    "    marker=dict(symbol='circle', size=8),\n",
    "    hovertemplate='Chinese: %{x}<br>English: %{customdata[0]}<br>Deepseek: %{y:.2f}<extra></extra>',\n",
    "    customdata=df_zh_plot_sorted[['en']]\n",
    "))\n",
    "\n",
    "fig.update_layout(\n",
    "    # title='Mean Rating of Occupational Titles (Gender Bias Highlighted)',\n",
    "    xaxis_title='',\n",
    "    yaxis_title='Mean Rating (Bias)',\n",
    "    yaxis=dict(\n",
    "        range=[-3.1, 3.1],\n",
    "        tickvals=[-3, -2, -1, 0, 1, 2, 3],\n",
    "        title='Mean Rating (Bias)'\n",
    "    ),\n",
    "    xaxis_tickangle=-45,\n",
    "    template='plotly_white',\n",
    "    font = dict(family=\"Times New Roman, serif\", size=16, color='black'),\n",
    "    margin=dict(l=0, r=0, t=20, b=0),\n",
    "    legend=dict(\n",
    "        orientation='h',\n",
    "        yanchor='bottom',\n",
    "        y=0.95,\n",
    "        xanchor='center',\n",
    "        x=0.5,\n",
    "        bgcolor='rgba(220, 220, 220, 0.25)',\n",
    "    )\n",
    ")\n",
    "\n",
    "fig.show()\n",
    "\n",
    "# Save as HTML and image\n",
    "fig.write_html('occupations_zh_with_llms.html')\n",
    "fig.write_image('occupations_zh_with_llms.png', scale=3, width=1000, height=400)"
   ]
  },
  {
   "cell_type": "markdown",
   "id": "f7532770",
   "metadata": {},
   "source": [
    "## Cross-linguistic Comparison"
   ]
  },
  {
   "cell_type": "markdown",
   "id": "be87101a",
   "metadata": {},
   "source": [
    "### Check comparability"
   ]
  },
  {
   "cell_type": "code",
   "execution_count": 127,
   "id": "f00c1870",
   "metadata": {},
   "outputs": [
    {
     "name": "stdout",
     "output_type": "stream",
     "text": [
      "Items only in Hungarian data (2): ['PR specialist', 'server']\n",
      "\n",
      "Items only in Chinese data (3): ['domestic helper', 'flight attendant*', 'kindergarten teacher']\n",
      "\n",
      "Items in both (41): ['CEO', 'HR specialist', 'accountant', 'architect', 'beautician', 'caregiver', 'cashier', 'chef', 'cleaner', 'dietitian', 'director', 'doctor', 'engineer', 'farmer', 'firefighter', 'flight attendant', 'gardener', 'hairdresser', 'housekeeper', 'judge', 'lifeguard', 'manager', 'model', 'nurse', 'pathologist', 'pilot', 'police officer', 'professor', 'programmer', 'prosecutor', 'receptionist', 'scientist', 'secretary', 'security guard', 'shop assistant', 'soldier', 'student', 'teacher', 'ticket seller', 'waiter', 'worker']\n"
     ]
    }
   ],
   "source": [
    "# Get the set of English occupation names from both dataframes\n",
    "en_hu = set(df_hu['en'].dropna()) if 'en' in df_hu.columns else set()\n",
    "en_zh = set(df_zh['en'].dropna()) if 'en' in df_zh.columns else set()\n",
    "\n",
    "# Items only in Hungarian data\n",
    "only_in_hu = en_hu - en_zh\n",
    "# Items only in Chinese data\n",
    "only_in_zh = en_zh - en_hu\n",
    "# Items in both\n",
    "in_both = en_hu & en_zh\n",
    "\n",
    "print(f\"Items only in Hungarian data ({len(only_in_hu)}): {sorted(only_in_hu)}\\n\")\n",
    "print(f\"Items only in Chinese data ({len(only_in_zh)}): {sorted(only_in_zh)}\\n\")\n",
    "print(f\"Items in both ({len(in_both)}): {sorted(in_both)}\")"
   ]
  },
  {
   "cell_type": "markdown",
   "id": "68a77a74",
   "metadata": {},
   "source": [
    "### Unified dataframe"
   ]
  },
  {
   "cell_type": "code",
   "execution_count": 128,
   "id": "d63fbe90",
   "metadata": {},
   "outputs": [
    {
     "name": "stdout",
     "output_type": "stream",
     "text": [
      "Number of unique occupations in unified DataFrame: 46\n"
     ]
    },
    {
     "data": {
      "text/html": [
       "<div>\n",
       "<style scoped>\n",
       "    .dataframe tbody tr th:only-of-type {\n",
       "        vertical-align: middle;\n",
       "    }\n",
       "\n",
       "    .dataframe tbody tr th {\n",
       "        vertical-align: top;\n",
       "    }\n",
       "\n",
       "    .dataframe thead th {\n",
       "        text-align: right;\n",
       "    }\n",
       "</style>\n",
       "<table border=\"1\" class=\"dataframe\">\n",
       "  <thead>\n",
       "    <tr style=\"text-align: right;\">\n",
       "      <th></th>\n",
       "      <th>en</th>\n",
       "      <th>hu</th>\n",
       "      <th>mean_hu</th>\n",
       "      <th>zh</th>\n",
       "      <th>mean_zh</th>\n",
       "      <th>both_significant</th>\n",
       "      <th>mean_difference</th>\n",
       "    </tr>\n",
       "  </thead>\n",
       "  <tbody>\n",
       "    <tr>\n",
       "      <th>20</th>\n",
       "      <td>hairdresser</td>\n",
       "      <td>fodrász</td>\n",
       "      <td>1.0</td>\n",
       "      <td>理发师</td>\n",
       "      <td>-0.750000</td>\n",
       "      <td>True</td>\n",
       "      <td>1.750000</td>\n",
       "    </tr>\n",
       "    <tr>\n",
       "      <th>21</th>\n",
       "      <td>housekeeper</td>\n",
       "      <td>házvezető</td>\n",
       "      <td>1.8</td>\n",
       "      <td>家政员</td>\n",
       "      <td>0.500000</td>\n",
       "      <td>True</td>\n",
       "      <td>1.300000</td>\n",
       "    </tr>\n",
       "    <tr>\n",
       "      <th>17</th>\n",
       "      <td>flight attendant</td>\n",
       "      <td>légiutas-kísérő</td>\n",
       "      <td>1.4</td>\n",
       "      <td>乘务员</td>\n",
       "      <td>0.458333</td>\n",
       "      <td>True</td>\n",
       "      <td>0.941667</td>\n",
       "    </tr>\n",
       "    <tr>\n",
       "      <th>5</th>\n",
       "      <td>beautician</td>\n",
       "      <td>kozmetikus</td>\n",
       "      <td>2.2</td>\n",
       "      <td>美容师</td>\n",
       "      <td>1.458333</td>\n",
       "      <td>True</td>\n",
       "      <td>0.741667</td>\n",
       "    </tr>\n",
       "    <tr>\n",
       "      <th>26</th>\n",
       "      <td>model</td>\n",
       "      <td>modell</td>\n",
       "      <td>1.0</td>\n",
       "      <td>模特</td>\n",
       "      <td>0.333333</td>\n",
       "      <td>True</td>\n",
       "      <td>0.666667</td>\n",
       "    </tr>\n",
       "  </tbody>\n",
       "</table>\n",
       "</div>"
      ],
      "text/plain": [
       "                  en               hu  mean_hu   zh   mean_zh  \\\n",
       "20       hairdresser          fodrász      1.0  理发师 -0.750000   \n",
       "21       housekeeper        házvezető      1.8  家政员  0.500000   \n",
       "17  flight attendant  légiutas-kísérő      1.4  乘务员  0.458333   \n",
       "5         beautician       kozmetikus      2.2  美容师  1.458333   \n",
       "26             model           modell      1.0   模特  0.333333   \n",
       "\n",
       "    both_significant  mean_difference  \n",
       "20              True         1.750000  \n",
       "21              True         1.300000  \n",
       "17              True         0.941667  \n",
       "5               True         0.741667  \n",
       "26              True         0.666667  "
      ]
     },
     "execution_count": 128,
     "metadata": {},
     "output_type": "execute_result"
    }
   ],
   "source": [
    "# Create a unified DataFrame with all unique occupation words (by English name)\n",
    "all_en = sorted(en_hu | en_zh)\n",
    "\n",
    "# Merge Hungarian and Chinese data on 'en' (English occupation name)\n",
    "df_hu_part = df_hu[['en', 'hu', 'mean_hu', 'significant_hu']].copy()\n",
    "df_zh_part = df_zh[['en', 'zh', 'mean_zh', 'significant_zh']].copy()\n",
    "\n",
    "# Outer merge to include all occupations from both datasets\n",
    "df_unified = pd.DataFrame({'en': all_en})\n",
    "df_unified = df_unified.merge(df_hu_part, on='en', how='left')\n",
    "df_unified = df_unified.merge(df_zh_part, on='en', how='left')\n",
    "\n",
    "# Mark in a new column if both are significant\n",
    "df_unified['both_significant'] = df_unified.apply(\n",
    "    lambda row: row['significant_hu'] and row['significant_zh'] if pd.notna(row['significant_hu']) and pd.notna(row['significant_zh']) else False, axis=1)\n",
    "\n",
    "# Drop significant_hu and significant_zh columns\n",
    "df_unified.drop(columns=['significant_hu', 'significant_zh'], inplace=True)\n",
    "\n",
    "# Add new column that shows the difference between mean_hu and mean_zh\n",
    "df_unified['mean_difference'] = df_unified.apply(\n",
    "    lambda row: row['mean_hu'] - row['mean_zh'] if pd.notna(row['mean_hu']) and pd.notna(row['mean_zh']) else None, axis=1)\n",
    "\n",
    "# Sort by this\n",
    "df_unified = df_unified.sort_values(by='mean_difference', ascending=False)\n",
    "\n",
    "# Count and print the number of unique occupations in the unified DataFrame\n",
    "num_unique_occupations = df_unified['en'].nunique()\n",
    "print(f'Number of unique occupations in unified DataFrame: {num_unique_occupations}')\n",
    "\n",
    "# Export this as an Excel file\n",
    "df_unified.to_excel('occupations_unified.xlsx', index=False)\n",
    "\n",
    "# Show the unified DataFrame\n",
    "df_unified.head()"
   ]
  },
  {
   "cell_type": "markdown",
   "id": "04345cf9",
   "metadata": {},
   "source": [
    "### Plot comparison"
   ]
  },
  {
   "cell_type": "code",
   "execution_count": 129,
   "id": "481968fd",
   "metadata": {},
   "outputs": [],
   "source": [
    "\n",
    "# # Prepare comparison DataFrame for occupations present in both datasets\n",
    "# df_compare = df_hu[df_hu['en'].isin(in_both)][['en', 'mean_hu', 'hu']].merge(\n",
    "#     df_zh[df_zh['en'].isin(in_both)][['en', 'mean_zh', 'zh']], on='en', suffixes=('_hu', '_zh')\n",
    "# )\n",
    "\n",
    "# # Sort by the average of the two means for better visualization\n",
    "# df_compare['mean_avg'] = (df_compare['mean_hu'] + df_compare['mean_zh']) / 2\n",
    "# df_compare = df_compare.sort_values('mean_avg', ascending=False)\n",
    "\n",
    "# # Create bar plot\n",
    "# fig = go.Figure()\n",
    "\n",
    "# fig.add_trace(go.Bar(\n",
    "#     x=df_compare['en'],\n",
    "#     y=df_compare['mean_hu'],\n",
    "#     name='Hungarian',\n",
    "#     marker_color = hungarian_color,\n",
    "#     hovertemplate='Hungarian: %{customdata[0]}<br>Mean: %{y:.2f}',\n",
    "#     customdata=df_compare[['hu']]\n",
    "# ))\n",
    "\n",
    "# fig.add_trace(go.Bar(\n",
    "#     x=df_compare['en'],\n",
    "#     y=df_compare['mean_zh'],\n",
    "#     name='Chinese',\n",
    "#     marker_color = chinese_color,\n",
    "#     hovertemplate='Chinese: %{customdata[0]}<br>Mean: %{y:.2f}',\n",
    "#     customdata=df_compare[['zh']]\n",
    "# ))\n",
    "\n",
    "# fig.update_layout(\n",
    "#     barmode='group',\n",
    "#     # title='Comparison of Occupational Gender Bias Ratings by Language (Hungarian vs. Chinese)',\n",
    "#     template='plotly_white',\n",
    "#     margin=dict(l=0, r=0, t=20, b=0),\n",
    "#     font = dict(family=\"Times New Roman, serif\", size=16, color='black'),\n",
    "#     xaxis_title='',\n",
    "#     xaxis_tickangle=-45,\n",
    "#     yaxis_title='Mean Rating',\n",
    "#     yaxis=dict(\n",
    "#         range=[-3.1, 3.1],\n",
    "#         tickvals=[-3, -2, -1, 0, 1, 2, 3],\n",
    "#         title='Mean Rating (Bias)',\n",
    "#         ),\n",
    "#     legend=dict(\n",
    "#         orientation='h',\n",
    "#         yanchor='bottom',\n",
    "#         y=0,\n",
    "#         xanchor='center',\n",
    "#         x=0.5,\n",
    "#         bgcolor='rgba(220, 220, 220, 0.25)',\n",
    "#         ),\n",
    "#     )\n",
    "\n",
    "# # Show the plot\n",
    "# fig.show()\n",
    "\n",
    "# # Save as html\n",
    "# fig.write_html('occupations_comparison.html')\n",
    "\n",
    "# # Save as image\n",
    "# fig.write_image('occupations_comparison.png', scale=3, width=1000, height=400)"
   ]
  },
  {
   "cell_type": "markdown",
   "id": "7be5811b",
   "metadata": {},
   "source": [
    "### Test significance of the differences"
   ]
  },
  {
   "cell_type": "code",
   "execution_count": 130,
   "id": "ec17b5d5",
   "metadata": {},
   "outputs": [
    {
     "data": {
      "text/html": [
       "<div>\n",
       "<style scoped>\n",
       "    .dataframe tbody tr th:only-of-type {\n",
       "        vertical-align: middle;\n",
       "    }\n",
       "\n",
       "    .dataframe tbody tr th {\n",
       "        vertical-align: top;\n",
       "    }\n",
       "\n",
       "    .dataframe thead th {\n",
       "        text-align: right;\n",
       "    }\n",
       "</style>\n",
       "<table border=\"1\" class=\"dataframe\">\n",
       "  <thead>\n",
       "    <tr style=\"text-align: right;\">\n",
       "      <th></th>\n",
       "      <th>zh</th>\n",
       "      <th>en</th>\n",
       "      <th>hu</th>\n",
       "      <th>0</th>\n",
       "      <th>1</th>\n",
       "      <th>2</th>\n",
       "      <th>3</th>\n",
       "      <th>4</th>\n",
       "      <th>5</th>\n",
       "      <th>6</th>\n",
       "      <th>...</th>\n",
       "      <th>14</th>\n",
       "      <th>15</th>\n",
       "      <th>16</th>\n",
       "      <th>17</th>\n",
       "      <th>18</th>\n",
       "      <th>19</th>\n",
       "      <th>20</th>\n",
       "      <th>21</th>\n",
       "      <th>22</th>\n",
       "      <th>23</th>\n",
       "    </tr>\n",
       "  </thead>\n",
       "  <tbody>\n",
       "    <tr>\n",
       "      <th>13</th>\n",
       "      <td>保姆</td>\n",
       "      <td>domestic helper</td>\n",
       "      <td>cseléd</td>\n",
       "      <td>1</td>\n",
       "      <td>1</td>\n",
       "      <td>2</td>\n",
       "      <td>2</td>\n",
       "      <td>2</td>\n",
       "      <td>1</td>\n",
       "      <td>2</td>\n",
       "      <td>...</td>\n",
       "      <td>2</td>\n",
       "      <td>2</td>\n",
       "      <td>1</td>\n",
       "      <td>1</td>\n",
       "      <td>1</td>\n",
       "      <td>1</td>\n",
       "      <td>1</td>\n",
       "      <td>3</td>\n",
       "      <td>1</td>\n",
       "      <td>1</td>\n",
       "    </tr>\n",
       "    <tr>\n",
       "      <th>10</th>\n",
       "      <td>幼师</td>\n",
       "      <td>kindergarten teacher</td>\n",
       "      <td>óvodapedagógus</td>\n",
       "      <td>1</td>\n",
       "      <td>2</td>\n",
       "      <td>2</td>\n",
       "      <td>2</td>\n",
       "      <td>2</td>\n",
       "      <td>2</td>\n",
       "      <td>2</td>\n",
       "      <td>...</td>\n",
       "      <td>2</td>\n",
       "      <td>2</td>\n",
       "      <td>2</td>\n",
       "      <td>1</td>\n",
       "      <td>1</td>\n",
       "      <td>1</td>\n",
       "      <td>2</td>\n",
       "      <td>3</td>\n",
       "      <td>0</td>\n",
       "      <td>2</td>\n",
       "    </tr>\n",
       "    <tr>\n",
       "      <th>5</th>\n",
       "      <td>护士</td>\n",
       "      <td>nurse</td>\n",
       "      <td>ápoló</td>\n",
       "      <td>1</td>\n",
       "      <td>2</td>\n",
       "      <td>2</td>\n",
       "      <td>2</td>\n",
       "      <td>2</td>\n",
       "      <td>1</td>\n",
       "      <td>1</td>\n",
       "      <td>...</td>\n",
       "      <td>2</td>\n",
       "      <td>2</td>\n",
       "      <td>2</td>\n",
       "      <td>1</td>\n",
       "      <td>1</td>\n",
       "      <td>1</td>\n",
       "      <td>1</td>\n",
       "      <td>2</td>\n",
       "      <td>2</td>\n",
       "      <td>1</td>\n",
       "    </tr>\n",
       "    <tr>\n",
       "      <th>19</th>\n",
       "      <td>美容师</td>\n",
       "      <td>beautician</td>\n",
       "      <td>kozmetikus</td>\n",
       "      <td>2</td>\n",
       "      <td>2</td>\n",
       "      <td>2</td>\n",
       "      <td>0</td>\n",
       "      <td>1</td>\n",
       "      <td>1</td>\n",
       "      <td>2</td>\n",
       "      <td>...</td>\n",
       "      <td>2</td>\n",
       "      <td>2</td>\n",
       "      <td>1</td>\n",
       "      <td>0</td>\n",
       "      <td>2</td>\n",
       "      <td>0</td>\n",
       "      <td>1</td>\n",
       "      <td>2</td>\n",
       "      <td>2</td>\n",
       "      <td>2</td>\n",
       "    </tr>\n",
       "    <tr>\n",
       "      <th>8</th>\n",
       "      <td>前台</td>\n",
       "      <td>receptionist</td>\n",
       "      <td>recepciós</td>\n",
       "      <td>0</td>\n",
       "      <td>0</td>\n",
       "      <td>2</td>\n",
       "      <td>1</td>\n",
       "      <td>2</td>\n",
       "      <td>1</td>\n",
       "      <td>3</td>\n",
       "      <td>...</td>\n",
       "      <td>2</td>\n",
       "      <td>2</td>\n",
       "      <td>0</td>\n",
       "      <td>1</td>\n",
       "      <td>2</td>\n",
       "      <td>0</td>\n",
       "      <td>1</td>\n",
       "      <td>3</td>\n",
       "      <td>0</td>\n",
       "      <td>2</td>\n",
       "    </tr>\n",
       "  </tbody>\n",
       "</table>\n",
       "<p>5 rows × 27 columns</p>\n",
       "</div>"
      ],
      "text/plain": [
       "     zh                    en              hu  0  1  2  3  4  5  6  ... 14 15  \\\n",
       "13   保姆       domestic helper          cseléd  1  1  2  2  2  1  2  ...  2  2   \n",
       "10   幼师  kindergarten teacher  óvodapedagógus  1  2  2  2  2  2  2  ...  2  2   \n",
       "5    护士                 nurse           ápoló  1  2  2  2  2  1  1  ...  2  2   \n",
       "19  美容师            beautician      kozmetikus  2  2  2  0  1  1  2  ...  2  2   \n",
       "8    前台          receptionist       recepciós  0  0  2  1  2  1  3  ...  2  2   \n",
       "\n",
       "   16 17 18 19 20 21 22 23  \n",
       "13  1  1  1  1  1  3  1  1  \n",
       "10  2  1  1  1  2  3  0  2  \n",
       "5   2  1  1  1  1  2  2  1  \n",
       "19  1  0  2  0  1  2  2  2  \n",
       "8   0  1  2  0  1  3  0  2  \n",
       "\n",
       "[5 rows x 27 columns]"
      ]
     },
     "execution_count": 130,
     "metadata": {},
     "output_type": "execute_result"
    }
   ],
   "source": [
    "# Delete the last 7 clumns from df_hu and df_zh\n",
    "columns_to_drop_hu = ['chatgpt_hu', 'copilot_hu', 'gemini_hu', 'deepseek_hu', 'chatgpt_zh', 'copilot_zh', 'gemini_zh', 'deepseek_zh', 'mean_hu', 'p_value_hu', 'std_hu', 'significant_hu']\n",
    "columns_to_drop_zh = ['chatgpt_hu', 'copilot_hu', 'gemini_hu', 'deepseek_hu', 'chatgpt_zh', 'copilot_zh', 'gemini_zh', 'deepseek_zh', 'mean_zh', 'p_value_zh', 'std_zh', 'significant_zh']\n",
    "df_hu_ratings = df_hu.drop(columns=columns_to_drop_hu)\n",
    "df_zh_ratings = df_zh.drop(columns=columns_to_drop_zh)\n",
    "\n",
    "# Drop rows of Gender, Age, and Mean Rating from df_hu_ratings and df_zh_ratings\n",
    "df_hu_ratings = df_hu_ratings[~df_hu_ratings['hu'].isin(['Gender', 'Age', 'Mean Rating'])]\n",
    "df_zh_ratings = df_zh_ratings[~df_zh_ratings['zh'].isin(['Gender', 'Age', 'Mean Rating'])]\n",
    "\n",
    "df_hu_ratings.head()\n",
    "df_zh_ratings.head()"
   ]
  },
  {
   "cell_type": "code",
   "execution_count": 131,
   "id": "94d978f4",
   "metadata": {},
   "outputs": [
    {
     "name": "stdout",
     "output_type": "stream",
     "text": [
      "Number of common English occupations: 41\n"
     ]
    }
   ],
   "source": [
    "common_en = sorted(\n",
    "    set(df_hu['en'].dropna())\n",
    "    .intersection(df_zh['en'].dropna())\n",
    ")\n",
    "common_en\n",
    "\n",
    "# Print length of common_en\n",
    "print(f\"Number of common English occupations: {len(common_en)}\")"
   ]
  },
  {
   "cell_type": "code",
   "execution_count": 132,
   "id": "24b5620d",
   "metadata": {},
   "outputs": [
    {
     "name": "stdout",
     "output_type": "stream",
     "text": [
      "Processing CEO: hu mean=-1.25, zh mean=-0.88, diff=-0.38, t_stat=-1.70, p_value=0.09627\n",
      "Processing HR specialist: hu mean=0.90, zh mean=0.58, diff=0.32, t_stat=1.26, p_value=0.2154\n",
      "Processing accountant: hu mean=0.50, zh mean=0.50, diff=0.00, t_stat=0.00, p_value=1\n",
      "Processing architect: hu mean=-1.25, zh mean=-0.71, diff=-0.54, t_stat=-2.15, p_value=0.03743\n",
      "Processing beautician: hu mean=2.20, zh mean=1.46, diff=0.74, t_stat=3.53, p_value=0.001035\n",
      "Processing caregiver: hu mean=1.05, zh mean=0.62, diff=0.43, t_stat=1.46, p_value=0.1545\n",
      "Processing cashier: hu mean=1.05, zh mean=0.88, diff=0.18, t_stat=0.76, p_value=0.4534\n",
      "Processing chef: hu mean=-0.90, zh mean=-1.04, diff=0.14, t_stat=0.64, p_value=0.5268\n",
      "Processing cleaner: hu mean=1.25, zh mean=0.71, diff=0.54, t_stat=1.83, p_value=0.07604\n",
      "Processing dietitian: hu mean=0.65, zh mean=0.21, diff=0.44, t_stat=2.30, p_value=0.02709\n",
      "Processing director: hu mean=-0.85, zh mean=-0.71, diff=-0.14, t_stat=-0.65, p_value=0.52\n",
      "Processing doctor: hu mean=-0.55, zh mean=-0.21, diff=-0.34, t_stat=-2.00, p_value=0.05243\n",
      "Processing engineer: hu mean=-1.15, zh mean=-0.88, diff=-0.27, t_stat=-1.06, p_value=0.2933\n",
      "Processing farmer: hu mean=-1.40, zh mean=-0.54, diff=-0.86, t_stat=-3.90, p_value=0.0003422\n",
      "Processing firefighter: hu mean=-2.20, zh mean=-1.79, diff=-0.41, t_stat=-1.81, p_value=0.07858\n",
      "Processing flight attendant: hu mean=1.40, zh mean=0.46, diff=0.94, t_stat=4.14, p_value=0.000198\n",
      "Processing gardener: hu mean=-0.80, zh mean=-0.42, diff=-0.38, t_stat=-1.67, p_value=0.1032\n",
      "Processing hairdresser: hu mean=1.00, zh mean=-0.75, diff=1.75, t_stat=7.18, p_value=1.481e-08\n",
      "Processing housekeeper: hu mean=1.80, zh mean=0.50, diff=1.30, t_stat=4.89, p_value=2.001e-05\n",
      "Processing judge: hu mean=-0.25, zh mean=-0.38, diff=0.12, t_stat=0.76, p_value=0.4537\n",
      "Processing lifeguard: hu mean=-1.10, zh mean=-1.50, diff=0.40, t_stat=1.52, p_value=0.1353\n",
      "Processing manager: hu mean=-0.65, zh mean=-0.50, diff=-0.15, t_stat=-0.74, p_value=0.461\n",
      "Processing model: hu mean=1.00, zh mean=0.33, diff=0.67, t_stat=2.83, p_value=0.008122\n",
      "Processing nurse: hu mean=1.32, zh mean=1.58, diff=-0.26, t_stat=-1.05, p_value=0.3006\n",
      "Processing pathologist: hu mean=-0.80, zh mean=-0.79, diff=-0.01, t_stat=-0.03, p_value=0.9738\n",
      "Processing pilot: hu mean=-1.65, zh mean=-1.00, diff=-0.65, t_stat=-2.87, p_value=0.006716\n",
      "Processing police officer: hu mean=-1.35, zh mean=-1.12, diff=-0.23, t_stat=-1.02, p_value=0.3147\n",
      "Processing professor: hu mean=-0.90, zh mean=-0.46, diff=-0.44, t_stat=-1.81, p_value=0.07938\n",
      "Processing programmer: hu mean=-1.35, zh mean=-1.08, diff=-0.27, t_stat=-1.16, p_value=0.2526\n",
      "Processing prosecutor: hu mean=-0.70, zh mean=-0.42, diff=-0.28, t_stat=-1.32, p_value=0.1967\n",
      "Processing receptionist: hu mean=0.65, zh mean=1.38, diff=-0.72, t_stat=-2.63, p_value=0.0118\n",
      "Processing scientist: hu mean=-0.40, zh mean=-0.46, diff=0.06, t_stat=0.31, p_value=0.7598\n",
      "Processing secretary: hu mean=-0.30, zh mean=0.96, diff=-1.26, t_stat=-4.41, p_value=0.0001626\n",
      "Processing security guard: hu mean=-1.90, zh mean=-1.79, diff=-0.11, t_stat=-0.61, p_value=0.5462\n",
      "Processing shop assistant: hu mean=0.95, zh mean=0.83, diff=0.12, t_stat=0.52, p_value=0.6086\n",
      "Processing soldier: hu mean=-1.80, zh mean=-1.00, diff=-0.80, t_stat=-3.73, p_value=0.0005759\n",
      "Processing student: hu mean=0.00, zh mean=-0.04, diff=0.04, t_stat=1.00, p_value=0.3277\n",
      "Processing teacher: hu mean=0.00, zh mean=0.54, diff=-0.54, t_stat=-1.97, p_value=0.05857\n",
      "Processing ticket seller: hu mean=0.20, zh mean=0.33, diff=-0.13, t_stat=-0.67, p_value=0.5054\n",
      "Processing waiter: hu mean=-0.45, zh mean=0.08, diff=-0.53, t_stat=-2.35, p_value=0.02707\n",
      "Processing worker: hu mean=-1.40, zh mean=-1.12, diff=-0.27, t_stat=-1.12, p_value=0.2689\n"
     ]
    },
    {
     "data": {
      "application/vnd.plotly.v1+json": {
       "config": {
        "plotlyServerURL": "https://plot.ly"
       },
       "data": [
        {
         "customdata": [
          [
           "kozmetikus",
           0.001035431173605105
          ],
          [
           "nővér",
           0.3005706317778426
          ],
          [
           "házvezető",
           0.000020013676358375963
          ],
          [
           "recepciós",
           0.011801204986571097
          ],
          [
           "takarító",
           0.07603775529722571
          ],
          [
           "pénztáros",
           0.4533840255394793
          ],
          [
           "légiutas-kísérő",
           0.00019804510178083383
          ],
          [
           "bolti eladó",
           0.6086020488000896
          ],
          [
           "gondozó",
           0.15450960244604958
          ],
          [
           "HR-es",
           0.21536380669582136
          ],
          [
           "modell",
           0.008121761094557365
          ],
          [
           "könyvelő",
           1
          ],
          [
           "dietetikus",
           0.027085242933278516
          ],
          [
           "titkár",
           0.0001626039624234859
          ],
          [
           "tanár",
           0.05857228193540743
          ],
          [
           "jegyárus",
           0.505350480893946
          ],
          [
           "fodrász",
           1.480590226032262e-8
          ],
          [
           "diák",
           0.32771580614285867
          ],
          [
           "pincér",
           0.027072601902908916
          ],
          [
           "bíró",
           0.4537333318310568
          ],
          [
           "orvos",
           0.05243177162172074
          ],
          [
           "tudós",
           0.7598284030056648
          ],
          [
           "ügyész",
           0.19670237754214964
          ],
          [
           "menedzser",
           0.461016197797083
          ],
          [
           "kertész",
           0.10322385726111027
          ],
          [
           "professzor",
           0.07937662886643027
          ],
          [
           "rendező",
           0.5199706560746302
          ],
          [
           "kórboncnok",
           0.9738113233310014
          ],
          [
           "földműves",
           0.00034218460052517585
          ],
          [
           "szakács",
           0.5268379728640706
          ],
          [
           "építész",
           0.03742910018461364
          ],
          [
           "mérnök",
           0.2933316126207299
          ],
          [
           "vezérigazgató",
           0.09626940046746116
          ],
          [
           "programozó",
           0.2526371517898966
          ],
          [
           "rendőr",
           0.31472960887947743
          ],
          [
           "munkás",
           0.2689451544151131
          ],
          [
           "vízimentő",
           0.13526877359474024
          ],
          [
           "pilóta",
           0.006716140045662103
          ],
          [
           "katona",
           0.0005759153375630298
          ],
          [
           "biztonsági őr",
           0.5461752349040023
          ],
          [
           "tűzoltó",
           0.07858133748271263
          ]
         ],
         "hovertemplate": "Hungarian: %{customdata[0]}<br>Mean: %{y:.2f}<br>p-value: %{customdata[1]:.4g}",
         "marker": {
          "color": "#4d9c3f"
         },
         "name": "Hungarian",
         "type": "bar",
         "x": [
          "<b>beautician*</b>",
          "nurse",
          "<b>housekeeper*</b>",
          "<b>receptionist*</b>",
          "<b>cleaner+</b>",
          "cashier",
          "<b>flight attendant*</b>",
          "shop assistant",
          "caregiver",
          "HR specialist",
          "<b>model*</b>",
          "accountant",
          "<b>dietitian*</b>",
          "<b>secretary*</b>",
          "<b>teacher+</b>",
          "ticket seller",
          "<b>hairdresser*</b>",
          "student",
          "<b>waiter*</b>",
          "judge",
          "<b>doctor+</b>",
          "scientist",
          "prosecutor",
          "manager",
          "gardener",
          "<b>professor+</b>",
          "director",
          "pathologist",
          "<b>farmer*</b>",
          "chef",
          "<b>architect*</b>",
          "engineer",
          "<b>CEO+</b>",
          "programmer",
          "police officer",
          "worker",
          "lifeguard",
          "<b>pilot*</b>",
          "<b>soldier*</b>",
          "security guard",
          "<b>firefighter+</b>"
         ],
         "y": {
          "bdata": "mpmZmZmZAUAzMzMzMzP1P83MzMzMzPw/zczMzMzM5D8AAAAAAAD0P83MzMzMzPA/ZmZmZmZm9j9mZmZmZmbuP83MzMzMzPA/zczMzMzM7D8AAAAAAADwPwAAAAAAAOA/zczMzMzM5D8zMzMzMzPTvwAAAAAAAAAAmpmZmZmZyT8AAAAAAADwPwAAAAAAAAAAzczMzMzM3L8AAAAAAADQv5qZmZmZmeG/mpmZmZmZ2b9mZmZmZmbmv83MzMzMzOS/mpmZmZmZ6b/NzMzMzMzsvzMzMzMzM+u/mpmZmZmZ6b9mZmZmZmb2v83MzMzMzOy/AAAAAAAA9L9mZmZmZmbyvwAAAAAAAPS/mpmZmZmZ9b+amZmZmZn1v2ZmZmZmZva/mpmZmZmZ8b9mZmZmZmb6v83MzMzMzPy/ZmZmZmZm/r+amZmZmZkBwA==",
          "dtype": "f8"
         }
        },
        {
         "customdata": [
          [
           "美容师",
           0.001035431173605105
          ],
          [
           "护士",
           0.3005706317778426
          ],
          [
           "家政员",
           0.000020013676358375963
          ],
          [
           "前台",
           0.011801204986571097
          ],
          [
           "保洁",
           0.07603775529722571
          ],
          [
           "收银员",
           0.4533840255394793
          ],
          [
           "乘务员",
           0.00019804510178083383
          ],
          [
           "导购员",
           0.6086020488000896
          ],
          [
           "护工",
           0.15450960244604958
          ],
          [
           "人事",
           0.21536380669582136
          ],
          [
           "模特",
           0.008121761094557365
          ],
          [
           "会计",
           1
          ],
          [
           "营养师",
           0.027085242933278516
          ],
          [
           "秘书",
           0.0001626039624234859
          ],
          [
           "教师",
           0.05857228193540743
          ],
          [
           "售票员",
           0.505350480893946
          ],
          [
           "理发师",
           1.480590226032262e-8
          ],
          [
           "学生",
           0.32771580614285867
          ],
          [
           "服务员",
           0.027072601902908916
          ],
          [
           "法官",
           0.4537333318310568
          ],
          [
           "医生",
           0.05243177162172074
          ],
          [
           "科学家",
           0.7598284030056648
          ],
          [
           "检察官",
           0.19670237754214964
          ],
          [
           "高管",
           0.461016197797083
          ],
          [
           "园丁",
           0.10322385726111027
          ],
          [
           "教授",
           0.07937662886643027
          ],
          [
           "导演",
           0.5199706560746302
          ],
          [
           "法医",
           0.9738113233310014
          ],
          [
           "农民",
           0.00034218460052517585
          ],
          [
           "厨师",
           0.5268379728640706
          ],
          [
           "建筑师",
           0.03742910018461364
          ],
          [
           "工程师",
           0.2933316126207299
          ],
          [
           "董事长",
           0.09626940046746116
          ],
          [
           "程序员",
           0.2526371517898966
          ],
          [
           "警察",
           0.31472960887947743
          ],
          [
           "工人",
           0.2689451544151131
          ],
          [
           "救生员",
           0.13526877359474024
          ],
          [
           "飞行员",
           0.006716140045662103
          ],
          [
           "军人",
           0.0005759153375630298
          ],
          [
           "保安",
           0.5461752349040023
          ],
          [
           "消防员",
           0.07858133748271263
          ]
         ],
         "hovertemplate": "Chinese: %{customdata[0]}<br>Mean: %{y:.2f}<br>p-value: %{customdata[1]:.4g}",
         "marker": {
          "color": "#d1493c"
         },
         "name": "Chinese",
         "type": "bar",
         "x": [
          "<b>beautician*</b>",
          "nurse",
          "<b>housekeeper*</b>",
          "<b>receptionist*</b>",
          "<b>cleaner+</b>",
          "cashier",
          "<b>flight attendant*</b>",
          "shop assistant",
          "caregiver",
          "HR specialist",
          "<b>model*</b>",
          "accountant",
          "<b>dietitian*</b>",
          "<b>secretary*</b>",
          "<b>teacher+</b>",
          "ticket seller",
          "<b>hairdresser*</b>",
          "student",
          "<b>waiter*</b>",
          "judge",
          "<b>doctor+</b>",
          "scientist",
          "prosecutor",
          "manager",
          "gardener",
          "<b>professor+</b>",
          "director",
          "pathologist",
          "<b>farmer*</b>",
          "chef",
          "<b>architect*</b>",
          "engineer",
          "<b>CEO+</b>",
          "programmer",
          "police officer",
          "worker",
          "lifeguard",
          "<b>pilot*</b>",
          "<b>soldier*</b>",
          "security guard",
          "<b>firefighter+</b>"
         ],
         "y": {
          "bdata": "VVVVVVVV9z9VVVVVVVX5PwAAAAAAAOA/AAAAAAAA9j+rqqqqqqrmPwAAAAAAAOw/VVVVVVVV3T+rqqqqqqrqPwAAAAAAAOQ/q6qqqqqq4j9VVVVVVVXVPwAAAAAAAOA/q6qqqqqqyj+rqqqqqqruP1VVVVVVVeE/VVVVVVVV1T8AAAAAAADov1VVVVVVVaW/VVVVVVVVtT8AAAAAAADYv6uqqqqqqsq/VVVVVVVV3b+rqqqqqqravwAAAAAAAOC/q6qqqqqq2r9VVVVVVVXdv6uqqqqqqua/VVVVVVVV6b9VVVVVVVXhv6uqqqqqqvC/q6qqqqqq5r8AAAAAAADsvwAAAAAAAOy/VVVVVVVV8b8AAAAAAADyvwAAAAAAAPK/AAAAAAAA+L8AAAAAAADwvwAAAAAAAPC/q6qqqqqq/L+rqqqqqqr8vw==",
          "dtype": "f8"
         }
        }
       ],
       "layout": {
        "barmode": "group",
        "font": {
         "color": "black",
         "family": "Times New Roman, serif",
         "size": 16
        },
        "legend": {
         "bgcolor": "rgba(220, 220, 220, 0.25)",
         "orientation": "h",
         "x": 0.5,
         "xanchor": "center",
         "y": 0,
         "yanchor": "bottom"
        },
        "margin": {
         "b": 0,
         "l": 0,
         "r": 0,
         "t": 20
        },
        "template": {
         "data": {
          "bar": [
           {
            "error_x": {
             "color": "#2a3f5f"
            },
            "error_y": {
             "color": "#2a3f5f"
            },
            "marker": {
             "line": {
              "color": "white",
              "width": 0.5
             },
             "pattern": {
              "fillmode": "overlay",
              "size": 10,
              "solidity": 0.2
             }
            },
            "type": "bar"
           }
          ],
          "barpolar": [
           {
            "marker": {
             "line": {
              "color": "white",
              "width": 0.5
             },
             "pattern": {
              "fillmode": "overlay",
              "size": 10,
              "solidity": 0.2
             }
            },
            "type": "barpolar"
           }
          ],
          "carpet": [
           {
            "aaxis": {
             "endlinecolor": "#2a3f5f",
             "gridcolor": "#C8D4E3",
             "linecolor": "#C8D4E3",
             "minorgridcolor": "#C8D4E3",
             "startlinecolor": "#2a3f5f"
            },
            "baxis": {
             "endlinecolor": "#2a3f5f",
             "gridcolor": "#C8D4E3",
             "linecolor": "#C8D4E3",
             "minorgridcolor": "#C8D4E3",
             "startlinecolor": "#2a3f5f"
            },
            "type": "carpet"
           }
          ],
          "choropleth": [
           {
            "colorbar": {
             "outlinewidth": 0,
             "ticks": ""
            },
            "type": "choropleth"
           }
          ],
          "contour": [
           {
            "colorbar": {
             "outlinewidth": 0,
             "ticks": ""
            },
            "colorscale": [
             [
              0,
              "#0d0887"
             ],
             [
              0.1111111111111111,
              "#46039f"
             ],
             [
              0.2222222222222222,
              "#7201a8"
             ],
             [
              0.3333333333333333,
              "#9c179e"
             ],
             [
              0.4444444444444444,
              "#bd3786"
             ],
             [
              0.5555555555555556,
              "#d8576b"
             ],
             [
              0.6666666666666666,
              "#ed7953"
             ],
             [
              0.7777777777777778,
              "#fb9f3a"
             ],
             [
              0.8888888888888888,
              "#fdca26"
             ],
             [
              1,
              "#f0f921"
             ]
            ],
            "type": "contour"
           }
          ],
          "contourcarpet": [
           {
            "colorbar": {
             "outlinewidth": 0,
             "ticks": ""
            },
            "type": "contourcarpet"
           }
          ],
          "heatmap": [
           {
            "colorbar": {
             "outlinewidth": 0,
             "ticks": ""
            },
            "colorscale": [
             [
              0,
              "#0d0887"
             ],
             [
              0.1111111111111111,
              "#46039f"
             ],
             [
              0.2222222222222222,
              "#7201a8"
             ],
             [
              0.3333333333333333,
              "#9c179e"
             ],
             [
              0.4444444444444444,
              "#bd3786"
             ],
             [
              0.5555555555555556,
              "#d8576b"
             ],
             [
              0.6666666666666666,
              "#ed7953"
             ],
             [
              0.7777777777777778,
              "#fb9f3a"
             ],
             [
              0.8888888888888888,
              "#fdca26"
             ],
             [
              1,
              "#f0f921"
             ]
            ],
            "type": "heatmap"
           }
          ],
          "histogram": [
           {
            "marker": {
             "pattern": {
              "fillmode": "overlay",
              "size": 10,
              "solidity": 0.2
             }
            },
            "type": "histogram"
           }
          ],
          "histogram2d": [
           {
            "colorbar": {
             "outlinewidth": 0,
             "ticks": ""
            },
            "colorscale": [
             [
              0,
              "#0d0887"
             ],
             [
              0.1111111111111111,
              "#46039f"
             ],
             [
              0.2222222222222222,
              "#7201a8"
             ],
             [
              0.3333333333333333,
              "#9c179e"
             ],
             [
              0.4444444444444444,
              "#bd3786"
             ],
             [
              0.5555555555555556,
              "#d8576b"
             ],
             [
              0.6666666666666666,
              "#ed7953"
             ],
             [
              0.7777777777777778,
              "#fb9f3a"
             ],
             [
              0.8888888888888888,
              "#fdca26"
             ],
             [
              1,
              "#f0f921"
             ]
            ],
            "type": "histogram2d"
           }
          ],
          "histogram2dcontour": [
           {
            "colorbar": {
             "outlinewidth": 0,
             "ticks": ""
            },
            "colorscale": [
             [
              0,
              "#0d0887"
             ],
             [
              0.1111111111111111,
              "#46039f"
             ],
             [
              0.2222222222222222,
              "#7201a8"
             ],
             [
              0.3333333333333333,
              "#9c179e"
             ],
             [
              0.4444444444444444,
              "#bd3786"
             ],
             [
              0.5555555555555556,
              "#d8576b"
             ],
             [
              0.6666666666666666,
              "#ed7953"
             ],
             [
              0.7777777777777778,
              "#fb9f3a"
             ],
             [
              0.8888888888888888,
              "#fdca26"
             ],
             [
              1,
              "#f0f921"
             ]
            ],
            "type": "histogram2dcontour"
           }
          ],
          "mesh3d": [
           {
            "colorbar": {
             "outlinewidth": 0,
             "ticks": ""
            },
            "type": "mesh3d"
           }
          ],
          "parcoords": [
           {
            "line": {
             "colorbar": {
              "outlinewidth": 0,
              "ticks": ""
             }
            },
            "type": "parcoords"
           }
          ],
          "pie": [
           {
            "automargin": true,
            "type": "pie"
           }
          ],
          "scatter": [
           {
            "fillpattern": {
             "fillmode": "overlay",
             "size": 10,
             "solidity": 0.2
            },
            "type": "scatter"
           }
          ],
          "scatter3d": [
           {
            "line": {
             "colorbar": {
              "outlinewidth": 0,
              "ticks": ""
             }
            },
            "marker": {
             "colorbar": {
              "outlinewidth": 0,
              "ticks": ""
             }
            },
            "type": "scatter3d"
           }
          ],
          "scattercarpet": [
           {
            "marker": {
             "colorbar": {
              "outlinewidth": 0,
              "ticks": ""
             }
            },
            "type": "scattercarpet"
           }
          ],
          "scattergeo": [
           {
            "marker": {
             "colorbar": {
              "outlinewidth": 0,
              "ticks": ""
             }
            },
            "type": "scattergeo"
           }
          ],
          "scattergl": [
           {
            "marker": {
             "colorbar": {
              "outlinewidth": 0,
              "ticks": ""
             }
            },
            "type": "scattergl"
           }
          ],
          "scattermap": [
           {
            "marker": {
             "colorbar": {
              "outlinewidth": 0,
              "ticks": ""
             }
            },
            "type": "scattermap"
           }
          ],
          "scattermapbox": [
           {
            "marker": {
             "colorbar": {
              "outlinewidth": 0,
              "ticks": ""
             }
            },
            "type": "scattermapbox"
           }
          ],
          "scatterpolar": [
           {
            "marker": {
             "colorbar": {
              "outlinewidth": 0,
              "ticks": ""
             }
            },
            "type": "scatterpolar"
           }
          ],
          "scatterpolargl": [
           {
            "marker": {
             "colorbar": {
              "outlinewidth": 0,
              "ticks": ""
             }
            },
            "type": "scatterpolargl"
           }
          ],
          "scatterternary": [
           {
            "marker": {
             "colorbar": {
              "outlinewidth": 0,
              "ticks": ""
             }
            },
            "type": "scatterternary"
           }
          ],
          "surface": [
           {
            "colorbar": {
             "outlinewidth": 0,
             "ticks": ""
            },
            "colorscale": [
             [
              0,
              "#0d0887"
             ],
             [
              0.1111111111111111,
              "#46039f"
             ],
             [
              0.2222222222222222,
              "#7201a8"
             ],
             [
              0.3333333333333333,
              "#9c179e"
             ],
             [
              0.4444444444444444,
              "#bd3786"
             ],
             [
              0.5555555555555556,
              "#d8576b"
             ],
             [
              0.6666666666666666,
              "#ed7953"
             ],
             [
              0.7777777777777778,
              "#fb9f3a"
             ],
             [
              0.8888888888888888,
              "#fdca26"
             ],
             [
              1,
              "#f0f921"
             ]
            ],
            "type": "surface"
           }
          ],
          "table": [
           {
            "cells": {
             "fill": {
              "color": "#EBF0F8"
             },
             "line": {
              "color": "white"
             }
            },
            "header": {
             "fill": {
              "color": "#C8D4E3"
             },
             "line": {
              "color": "white"
             }
            },
            "type": "table"
           }
          ]
         },
         "layout": {
          "annotationdefaults": {
           "arrowcolor": "#2a3f5f",
           "arrowhead": 0,
           "arrowwidth": 1
          },
          "autotypenumbers": "strict",
          "coloraxis": {
           "colorbar": {
            "outlinewidth": 0,
            "ticks": ""
           }
          },
          "colorscale": {
           "diverging": [
            [
             0,
             "#8e0152"
            ],
            [
             0.1,
             "#c51b7d"
            ],
            [
             0.2,
             "#de77ae"
            ],
            [
             0.3,
             "#f1b6da"
            ],
            [
             0.4,
             "#fde0ef"
            ],
            [
             0.5,
             "#f7f7f7"
            ],
            [
             0.6,
             "#e6f5d0"
            ],
            [
             0.7,
             "#b8e186"
            ],
            [
             0.8,
             "#7fbc41"
            ],
            [
             0.9,
             "#4d9221"
            ],
            [
             1,
             "#276419"
            ]
           ],
           "sequential": [
            [
             0,
             "#0d0887"
            ],
            [
             0.1111111111111111,
             "#46039f"
            ],
            [
             0.2222222222222222,
             "#7201a8"
            ],
            [
             0.3333333333333333,
             "#9c179e"
            ],
            [
             0.4444444444444444,
             "#bd3786"
            ],
            [
             0.5555555555555556,
             "#d8576b"
            ],
            [
             0.6666666666666666,
             "#ed7953"
            ],
            [
             0.7777777777777778,
             "#fb9f3a"
            ],
            [
             0.8888888888888888,
             "#fdca26"
            ],
            [
             1,
             "#f0f921"
            ]
           ],
           "sequentialminus": [
            [
             0,
             "#0d0887"
            ],
            [
             0.1111111111111111,
             "#46039f"
            ],
            [
             0.2222222222222222,
             "#7201a8"
            ],
            [
             0.3333333333333333,
             "#9c179e"
            ],
            [
             0.4444444444444444,
             "#bd3786"
            ],
            [
             0.5555555555555556,
             "#d8576b"
            ],
            [
             0.6666666666666666,
             "#ed7953"
            ],
            [
             0.7777777777777778,
             "#fb9f3a"
            ],
            [
             0.8888888888888888,
             "#fdca26"
            ],
            [
             1,
             "#f0f921"
            ]
           ]
          },
          "colorway": [
           "#636efa",
           "#EF553B",
           "#00cc96",
           "#ab63fa",
           "#FFA15A",
           "#19d3f3",
           "#FF6692",
           "#B6E880",
           "#FF97FF",
           "#FECB52"
          ],
          "font": {
           "color": "#2a3f5f"
          },
          "geo": {
           "bgcolor": "white",
           "lakecolor": "white",
           "landcolor": "white",
           "showlakes": true,
           "showland": true,
           "subunitcolor": "#C8D4E3"
          },
          "hoverlabel": {
           "align": "left"
          },
          "hovermode": "closest",
          "mapbox": {
           "style": "light"
          },
          "paper_bgcolor": "white",
          "plot_bgcolor": "white",
          "polar": {
           "angularaxis": {
            "gridcolor": "#EBF0F8",
            "linecolor": "#EBF0F8",
            "ticks": ""
           },
           "bgcolor": "white",
           "radialaxis": {
            "gridcolor": "#EBF0F8",
            "linecolor": "#EBF0F8",
            "ticks": ""
           }
          },
          "scene": {
           "xaxis": {
            "backgroundcolor": "white",
            "gridcolor": "#DFE8F3",
            "gridwidth": 2,
            "linecolor": "#EBF0F8",
            "showbackground": true,
            "ticks": "",
            "zerolinecolor": "#EBF0F8"
           },
           "yaxis": {
            "backgroundcolor": "white",
            "gridcolor": "#DFE8F3",
            "gridwidth": 2,
            "linecolor": "#EBF0F8",
            "showbackground": true,
            "ticks": "",
            "zerolinecolor": "#EBF0F8"
           },
           "zaxis": {
            "backgroundcolor": "white",
            "gridcolor": "#DFE8F3",
            "gridwidth": 2,
            "linecolor": "#EBF0F8",
            "showbackground": true,
            "ticks": "",
            "zerolinecolor": "#EBF0F8"
           }
          },
          "shapedefaults": {
           "line": {
            "color": "#2a3f5f"
           }
          },
          "ternary": {
           "aaxis": {
            "gridcolor": "#DFE8F3",
            "linecolor": "#A2B1C6",
            "ticks": ""
           },
           "baxis": {
            "gridcolor": "#DFE8F3",
            "linecolor": "#A2B1C6",
            "ticks": ""
           },
           "bgcolor": "white",
           "caxis": {
            "gridcolor": "#DFE8F3",
            "linecolor": "#A2B1C6",
            "ticks": ""
           }
          },
          "title": {
           "x": 0.05
          },
          "xaxis": {
           "automargin": true,
           "gridcolor": "#EBF0F8",
           "linecolor": "#EBF0F8",
           "ticks": "",
           "title": {
            "standoff": 15
           },
           "zerolinecolor": "#EBF0F8",
           "zerolinewidth": 2
          },
          "yaxis": {
           "automargin": true,
           "gridcolor": "#EBF0F8",
           "linecolor": "#EBF0F8",
           "ticks": "",
           "title": {
            "standoff": 15
           },
           "zerolinecolor": "#EBF0F8",
           "zerolinewidth": 2
          }
         }
        },
        "xaxis": {
         "tickangle": -45,
         "title": {
          "text": ""
         }
        },
        "yaxis": {
         "range": [
          -3.05,
          3.05
         ],
         "tickvals": [
          -3,
          -2,
          -1,
          0,
          1,
          2,
          3
         ],
         "title": {
          "text": "Mean Rating (Bias)"
         }
        }
       }
      }
     },
     "metadata": {},
     "output_type": "display_data"
    }
   ],
   "source": [
    "# Define colors for Hungarian and Chinese bars\n",
    "hungarian_color = \"#4d9c3f\"  # greenish\n",
    "chinese_color = \"#d1493c\"  # reddish\n",
    "\n",
    "# Get a list of occupation in english that are common in both Hungarian and Chinese datasets\n",
    "common_en = sorted(\n",
    "    set(df_hu['en'].dropna())\n",
    "    .intersection(df_zh['en'].dropna())\n",
    ")\n",
    "\n",
    "results = []\n",
    "\n",
    "for en_name in common_en:\n",
    "    # Get the occupation row for each language\n",
    "    hu_row = df_hu_ratings[df_hu_ratings['en'] == en_name]\n",
    "    zh_row = df_zh_ratings[df_zh_ratings['en'] == en_name]\n",
    "    \n",
    "    # Get raw ratings (drop non-numeric columns)\n",
    "    hu_ratings = hu_row.drop(columns=['en', 'hu', 'zh'], errors='ignore').values.flatten()\n",
    "    zh_ratings = zh_row.drop(columns=['en', 'hu', 'zh'], errors='ignore').values.flatten()\n",
    "    \n",
    "    # Remove NaNs and convert to float\n",
    "    hu_ratings = pd.to_numeric(pd.Series(hu_ratings).dropna(), errors='coerce')\n",
    "    zh_ratings = pd.to_numeric(pd.Series(zh_ratings).dropna(), errors='coerce')\n",
    "    \n",
    "    # Calculate means\n",
    "    mean_hu = hu_ratings.mean()\n",
    "    mean_zh = zh_ratings.mean()\n",
    "    diff = mean_hu - mean_zh\n",
    "    \n",
    "    # Perform t-test\n",
    "    t_stat, p_value = ttest_ind(hu_ratings, zh_ratings, equal_var=False)\n",
    "    print(f\"Processing {en_name}: hu mean={mean_hu:.2f}, zh mean={mean_zh:.2f}, diff={diff:.2f}, t_stat={t_stat:.2f}, p_value={p_value:.4g}\")\n",
    "    \n",
    "    results.append({\n",
    "        'en': en_name,\n",
    "        'hu': hu_row['hu'].values[0] if not hu_row.empty else None,\n",
    "        'zh': zh_row['zh'].values[0] if not zh_row.empty else None,\n",
    "        'mean_hu': mean_hu,\n",
    "        'mean_zh': mean_zh,\n",
    "        'mean_difference': diff,\n",
    "        't_stat': t_stat,\n",
    "        'p_value': p_value,\n",
    "        'significant': p_value is not None and p_value < 0.05,\n",
    "        'marginally_significant': p_value is not None and 0.05 < p_value < 0.1\n",
    "    })\n",
    "\n",
    "# Create a DataFrame from the results\n",
    "df_plot = pd.DataFrame(results)\n",
    "\n",
    "# Create axis labels: bold for significant*, bold+ for marginally significant+\n",
    "def occupation_label(row):\n",
    "    label = row['en']\n",
    "    if row['significant']:\n",
    "        label = f\"<b>{label}*</b>\"\n",
    "    elif row['marginally_significant']:\n",
    "        label = f\"<b>{label}+</b>\"\n",
    "    return label\n",
    "\n",
    "df_plot['en_label'] = df_plot.apply(occupation_label, axis=1)\n",
    "\n",
    "# Sort by the mean average\n",
    "df_plot['mean_avg'] = (df_plot['mean_hu'] + df_plot['mean_zh']) / 2\n",
    "df_plot = df_plot.sort_values('mean_avg', ascending=False)\n",
    "\n",
    "fig = go.Figure()\n",
    "\n",
    "fig.add_trace(go.Bar(\n",
    "    x = df_plot['en_label'],\n",
    "    y = df_plot['mean_hu'],\n",
    "    name = 'Hungarian',\n",
    "    marker_color = hungarian_color,\n",
    "    hovertemplate = 'Hungarian: %{customdata[0]}<br>Mean: %{y:.2f}<br>p-value: %{customdata[1]:.4g}',\n",
    "    customdata=df_plot[['hu', 'p_value']]\n",
    "))\n",
    "\n",
    "fig.add_trace(go.Bar(\n",
    "    x = df_plot['en_label'],\n",
    "    y = df_plot['mean_zh'],\n",
    "    name = 'Chinese',\n",
    "    marker_color = chinese_color,\n",
    "    hovertemplate = 'Chinese: %{customdata[0]}<br>Mean: %{y:.2f}<br>p-value: %{customdata[1]:.4g}',\n",
    "    customdata = df_plot[['zh', 'p_value']]\n",
    "))\n",
    "\n",
    "fig.update_layout(\n",
    "    barmode='group',\n",
    "    # title='Comparison of Occupational Gender Bias Ratings by Language (Hungarian vs. Chinese)',\n",
    "    template='plotly_white',\n",
    "    margin=dict(l=0, r=0, t=20, b=0),\n",
    "    font = dict(family=\"Times New Roman, serif\", size=16, color='black'),\n",
    "    xaxis_title='',\n",
    "    xaxis_tickangle=-45,\n",
    "    yaxis_title='Mean Rating (Bias)',\n",
    "    yaxis=dict(\n",
    "        range=[-3.05, 3.05],\n",
    "        tickvals=[-3, -2, -1, 0, 1, 2, 3],\n",
    "        ),\n",
    "    legend=dict(\n",
    "        orientation='h',\n",
    "        yanchor='bottom',\n",
    "        y=0,\n",
    "        xanchor='center',\n",
    "        x=0.5,\n",
    "        bgcolor='rgba(220, 220, 220, 0.25)',\n",
    "        ),\n",
    "    )\n",
    "\n",
    "# Show the plot\n",
    "fig.show()\n",
    "\n",
    "# Save as html and image\n",
    "fig.write_html('occupations_comparison.html')\n",
    "fig.write_image('occupations_comparison.png', scale=3, width=1000, height=400)"
   ]
  },
  {
   "cell_type": "code",
   "execution_count": 133,
   "id": "9b1e5aba",
   "metadata": {},
   "outputs": [
    {
     "name": "stdout",
     "output_type": "stream",
     "text": [
      "Bias counts:\n",
      "bias\n",
      "Hungarian    31\n",
      "Chinese      10\n",
      "Equal         1\n",
      "Name: count, dtype: int64\n"
     ]
    },
    {
     "data": {
      "application/vnd.plotly.v1+json": {
       "config": {
        "plotlyServerURL": "https://plot.ly"
       },
       "data": [
        {
         "hovertemplate": "bias=%{x}<br>Count=%{y}<extra></extra>",
         "legendgroup": "Hungarian",
         "marker": {
          "color": "#1f7211",
          "pattern": {
           "shape": ""
          }
         },
         "name": "Hungarian",
         "orientation": "v",
         "showlegend": true,
         "textposition": "auto",
         "type": "bar",
         "x": [
          "Hungarian"
         ],
         "xaxis": "x",
         "y": {
          "bdata": "Hw==",
          "dtype": "i1"
         },
         "yaxis": "y"
        },
        {
         "hovertemplate": "bias=%{x}<br>Count=%{y}<extra></extra>",
         "legendgroup": "Chinese",
         "marker": {
          "color": "#e81818",
          "pattern": {
           "shape": ""
          }
         },
         "name": "Chinese",
         "orientation": "v",
         "showlegend": true,
         "textposition": "auto",
         "type": "bar",
         "x": [
          "Chinese"
         ],
         "xaxis": "x",
         "y": {
          "bdata": "Cg==",
          "dtype": "i1"
         },
         "yaxis": "y"
        },
        {
         "hovertemplate": "bias=%{x}<br>Count=%{y}<extra></extra>",
         "legendgroup": "Equal",
         "marker": {
          "color": "#7f7f7f",
          "pattern": {
           "shape": ""
          }
         },
         "name": "Equal",
         "orientation": "v",
         "showlegend": true,
         "textposition": "auto",
         "type": "bar",
         "x": [
          "Equal"
         ],
         "xaxis": "x",
         "y": {
          "bdata": "AQ==",
          "dtype": "i1"
         },
         "yaxis": "y"
        }
       ],
       "layout": {
        "barmode": "relative",
        "legend": {
         "title": {
          "text": "bias"
         },
         "tracegroupgap": 0
        },
        "template": {
         "data": {
          "bar": [
           {
            "error_x": {
             "color": "#2a3f5f"
            },
            "error_y": {
             "color": "#2a3f5f"
            },
            "marker": {
             "line": {
              "color": "white",
              "width": 0.5
             },
             "pattern": {
              "fillmode": "overlay",
              "size": 10,
              "solidity": 0.2
             }
            },
            "type": "bar"
           }
          ],
          "barpolar": [
           {
            "marker": {
             "line": {
              "color": "white",
              "width": 0.5
             },
             "pattern": {
              "fillmode": "overlay",
              "size": 10,
              "solidity": 0.2
             }
            },
            "type": "barpolar"
           }
          ],
          "carpet": [
           {
            "aaxis": {
             "endlinecolor": "#2a3f5f",
             "gridcolor": "#C8D4E3",
             "linecolor": "#C8D4E3",
             "minorgridcolor": "#C8D4E3",
             "startlinecolor": "#2a3f5f"
            },
            "baxis": {
             "endlinecolor": "#2a3f5f",
             "gridcolor": "#C8D4E3",
             "linecolor": "#C8D4E3",
             "minorgridcolor": "#C8D4E3",
             "startlinecolor": "#2a3f5f"
            },
            "type": "carpet"
           }
          ],
          "choropleth": [
           {
            "colorbar": {
             "outlinewidth": 0,
             "ticks": ""
            },
            "type": "choropleth"
           }
          ],
          "contour": [
           {
            "colorbar": {
             "outlinewidth": 0,
             "ticks": ""
            },
            "colorscale": [
             [
              0,
              "#0d0887"
             ],
             [
              0.1111111111111111,
              "#46039f"
             ],
             [
              0.2222222222222222,
              "#7201a8"
             ],
             [
              0.3333333333333333,
              "#9c179e"
             ],
             [
              0.4444444444444444,
              "#bd3786"
             ],
             [
              0.5555555555555556,
              "#d8576b"
             ],
             [
              0.6666666666666666,
              "#ed7953"
             ],
             [
              0.7777777777777778,
              "#fb9f3a"
             ],
             [
              0.8888888888888888,
              "#fdca26"
             ],
             [
              1,
              "#f0f921"
             ]
            ],
            "type": "contour"
           }
          ],
          "contourcarpet": [
           {
            "colorbar": {
             "outlinewidth": 0,
             "ticks": ""
            },
            "type": "contourcarpet"
           }
          ],
          "heatmap": [
           {
            "colorbar": {
             "outlinewidth": 0,
             "ticks": ""
            },
            "colorscale": [
             [
              0,
              "#0d0887"
             ],
             [
              0.1111111111111111,
              "#46039f"
             ],
             [
              0.2222222222222222,
              "#7201a8"
             ],
             [
              0.3333333333333333,
              "#9c179e"
             ],
             [
              0.4444444444444444,
              "#bd3786"
             ],
             [
              0.5555555555555556,
              "#d8576b"
             ],
             [
              0.6666666666666666,
              "#ed7953"
             ],
             [
              0.7777777777777778,
              "#fb9f3a"
             ],
             [
              0.8888888888888888,
              "#fdca26"
             ],
             [
              1,
              "#f0f921"
             ]
            ],
            "type": "heatmap"
           }
          ],
          "histogram": [
           {
            "marker": {
             "pattern": {
              "fillmode": "overlay",
              "size": 10,
              "solidity": 0.2
             }
            },
            "type": "histogram"
           }
          ],
          "histogram2d": [
           {
            "colorbar": {
             "outlinewidth": 0,
             "ticks": ""
            },
            "colorscale": [
             [
              0,
              "#0d0887"
             ],
             [
              0.1111111111111111,
              "#46039f"
             ],
             [
              0.2222222222222222,
              "#7201a8"
             ],
             [
              0.3333333333333333,
              "#9c179e"
             ],
             [
              0.4444444444444444,
              "#bd3786"
             ],
             [
              0.5555555555555556,
              "#d8576b"
             ],
             [
              0.6666666666666666,
              "#ed7953"
             ],
             [
              0.7777777777777778,
              "#fb9f3a"
             ],
             [
              0.8888888888888888,
              "#fdca26"
             ],
             [
              1,
              "#f0f921"
             ]
            ],
            "type": "histogram2d"
           }
          ],
          "histogram2dcontour": [
           {
            "colorbar": {
             "outlinewidth": 0,
             "ticks": ""
            },
            "colorscale": [
             [
              0,
              "#0d0887"
             ],
             [
              0.1111111111111111,
              "#46039f"
             ],
             [
              0.2222222222222222,
              "#7201a8"
             ],
             [
              0.3333333333333333,
              "#9c179e"
             ],
             [
              0.4444444444444444,
              "#bd3786"
             ],
             [
              0.5555555555555556,
              "#d8576b"
             ],
             [
              0.6666666666666666,
              "#ed7953"
             ],
             [
              0.7777777777777778,
              "#fb9f3a"
             ],
             [
              0.8888888888888888,
              "#fdca26"
             ],
             [
              1,
              "#f0f921"
             ]
            ],
            "type": "histogram2dcontour"
           }
          ],
          "mesh3d": [
           {
            "colorbar": {
             "outlinewidth": 0,
             "ticks": ""
            },
            "type": "mesh3d"
           }
          ],
          "parcoords": [
           {
            "line": {
             "colorbar": {
              "outlinewidth": 0,
              "ticks": ""
             }
            },
            "type": "parcoords"
           }
          ],
          "pie": [
           {
            "automargin": true,
            "type": "pie"
           }
          ],
          "scatter": [
           {
            "fillpattern": {
             "fillmode": "overlay",
             "size": 10,
             "solidity": 0.2
            },
            "type": "scatter"
           }
          ],
          "scatter3d": [
           {
            "line": {
             "colorbar": {
              "outlinewidth": 0,
              "ticks": ""
             }
            },
            "marker": {
             "colorbar": {
              "outlinewidth": 0,
              "ticks": ""
             }
            },
            "type": "scatter3d"
           }
          ],
          "scattercarpet": [
           {
            "marker": {
             "colorbar": {
              "outlinewidth": 0,
              "ticks": ""
             }
            },
            "type": "scattercarpet"
           }
          ],
          "scattergeo": [
           {
            "marker": {
             "colorbar": {
              "outlinewidth": 0,
              "ticks": ""
             }
            },
            "type": "scattergeo"
           }
          ],
          "scattergl": [
           {
            "marker": {
             "colorbar": {
              "outlinewidth": 0,
              "ticks": ""
             }
            },
            "type": "scattergl"
           }
          ],
          "scattermap": [
           {
            "marker": {
             "colorbar": {
              "outlinewidth": 0,
              "ticks": ""
             }
            },
            "type": "scattermap"
           }
          ],
          "scattermapbox": [
           {
            "marker": {
             "colorbar": {
              "outlinewidth": 0,
              "ticks": ""
             }
            },
            "type": "scattermapbox"
           }
          ],
          "scatterpolar": [
           {
            "marker": {
             "colorbar": {
              "outlinewidth": 0,
              "ticks": ""
             }
            },
            "type": "scatterpolar"
           }
          ],
          "scatterpolargl": [
           {
            "marker": {
             "colorbar": {
              "outlinewidth": 0,
              "ticks": ""
             }
            },
            "type": "scatterpolargl"
           }
          ],
          "scatterternary": [
           {
            "marker": {
             "colorbar": {
              "outlinewidth": 0,
              "ticks": ""
             }
            },
            "type": "scatterternary"
           }
          ],
          "surface": [
           {
            "colorbar": {
             "outlinewidth": 0,
             "ticks": ""
            },
            "colorscale": [
             [
              0,
              "#0d0887"
             ],
             [
              0.1111111111111111,
              "#46039f"
             ],
             [
              0.2222222222222222,
              "#7201a8"
             ],
             [
              0.3333333333333333,
              "#9c179e"
             ],
             [
              0.4444444444444444,
              "#bd3786"
             ],
             [
              0.5555555555555556,
              "#d8576b"
             ],
             [
              0.6666666666666666,
              "#ed7953"
             ],
             [
              0.7777777777777778,
              "#fb9f3a"
             ],
             [
              0.8888888888888888,
              "#fdca26"
             ],
             [
              1,
              "#f0f921"
             ]
            ],
            "type": "surface"
           }
          ],
          "table": [
           {
            "cells": {
             "fill": {
              "color": "#EBF0F8"
             },
             "line": {
              "color": "white"
             }
            },
            "header": {
             "fill": {
              "color": "#C8D4E3"
             },
             "line": {
              "color": "white"
             }
            },
            "type": "table"
           }
          ]
         },
         "layout": {
          "annotationdefaults": {
           "arrowcolor": "#2a3f5f",
           "arrowhead": 0,
           "arrowwidth": 1
          },
          "autotypenumbers": "strict",
          "coloraxis": {
           "colorbar": {
            "outlinewidth": 0,
            "ticks": ""
           }
          },
          "colorscale": {
           "diverging": [
            [
             0,
             "#8e0152"
            ],
            [
             0.1,
             "#c51b7d"
            ],
            [
             0.2,
             "#de77ae"
            ],
            [
             0.3,
             "#f1b6da"
            ],
            [
             0.4,
             "#fde0ef"
            ],
            [
             0.5,
             "#f7f7f7"
            ],
            [
             0.6,
             "#e6f5d0"
            ],
            [
             0.7,
             "#b8e186"
            ],
            [
             0.8,
             "#7fbc41"
            ],
            [
             0.9,
             "#4d9221"
            ],
            [
             1,
             "#276419"
            ]
           ],
           "sequential": [
            [
             0,
             "#0d0887"
            ],
            [
             0.1111111111111111,
             "#46039f"
            ],
            [
             0.2222222222222222,
             "#7201a8"
            ],
            [
             0.3333333333333333,
             "#9c179e"
            ],
            [
             0.4444444444444444,
             "#bd3786"
            ],
            [
             0.5555555555555556,
             "#d8576b"
            ],
            [
             0.6666666666666666,
             "#ed7953"
            ],
            [
             0.7777777777777778,
             "#fb9f3a"
            ],
            [
             0.8888888888888888,
             "#fdca26"
            ],
            [
             1,
             "#f0f921"
            ]
           ],
           "sequentialminus": [
            [
             0,
             "#0d0887"
            ],
            [
             0.1111111111111111,
             "#46039f"
            ],
            [
             0.2222222222222222,
             "#7201a8"
            ],
            [
             0.3333333333333333,
             "#9c179e"
            ],
            [
             0.4444444444444444,
             "#bd3786"
            ],
            [
             0.5555555555555556,
             "#d8576b"
            ],
            [
             0.6666666666666666,
             "#ed7953"
            ],
            [
             0.7777777777777778,
             "#fb9f3a"
            ],
            [
             0.8888888888888888,
             "#fdca26"
            ],
            [
             1,
             "#f0f921"
            ]
           ]
          },
          "colorway": [
           "#636efa",
           "#EF553B",
           "#00cc96",
           "#ab63fa",
           "#FFA15A",
           "#19d3f3",
           "#FF6692",
           "#B6E880",
           "#FF97FF",
           "#FECB52"
          ],
          "font": {
           "color": "#2a3f5f"
          },
          "geo": {
           "bgcolor": "white",
           "lakecolor": "white",
           "landcolor": "white",
           "showlakes": true,
           "showland": true,
           "subunitcolor": "#C8D4E3"
          },
          "hoverlabel": {
           "align": "left"
          },
          "hovermode": "closest",
          "mapbox": {
           "style": "light"
          },
          "paper_bgcolor": "white",
          "plot_bgcolor": "white",
          "polar": {
           "angularaxis": {
            "gridcolor": "#EBF0F8",
            "linecolor": "#EBF0F8",
            "ticks": ""
           },
           "bgcolor": "white",
           "radialaxis": {
            "gridcolor": "#EBF0F8",
            "linecolor": "#EBF0F8",
            "ticks": ""
           }
          },
          "scene": {
           "xaxis": {
            "backgroundcolor": "white",
            "gridcolor": "#DFE8F3",
            "gridwidth": 2,
            "linecolor": "#EBF0F8",
            "showbackground": true,
            "ticks": "",
            "zerolinecolor": "#EBF0F8"
           },
           "yaxis": {
            "backgroundcolor": "white",
            "gridcolor": "#DFE8F3",
            "gridwidth": 2,
            "linecolor": "#EBF0F8",
            "showbackground": true,
            "ticks": "",
            "zerolinecolor": "#EBF0F8"
           },
           "zaxis": {
            "backgroundcolor": "white",
            "gridcolor": "#DFE8F3",
            "gridwidth": 2,
            "linecolor": "#EBF0F8",
            "showbackground": true,
            "ticks": "",
            "zerolinecolor": "#EBF0F8"
           }
          },
          "shapedefaults": {
           "line": {
            "color": "#2a3f5f"
           }
          },
          "ternary": {
           "aaxis": {
            "gridcolor": "#DFE8F3",
            "linecolor": "#A2B1C6",
            "ticks": ""
           },
           "baxis": {
            "gridcolor": "#DFE8F3",
            "linecolor": "#A2B1C6",
            "ticks": ""
           },
           "bgcolor": "white",
           "caxis": {
            "gridcolor": "#DFE8F3",
            "linecolor": "#A2B1C6",
            "ticks": ""
           }
          },
          "title": {
           "x": 0.05
          },
          "xaxis": {
           "automargin": true,
           "gridcolor": "#EBF0F8",
           "linecolor": "#EBF0F8",
           "ticks": "",
           "title": {
            "standoff": 15
           },
           "zerolinecolor": "#EBF0F8",
           "zerolinewidth": 2
          },
          "yaxis": {
           "automargin": true,
           "gridcolor": "#EBF0F8",
           "linecolor": "#EBF0F8",
           "ticks": "",
           "title": {
            "standoff": 15
           },
           "zerolinecolor": "#EBF0F8",
           "zerolinewidth": 2
          }
         }
        },
        "title": {
         "text": "Count of Bias by Occupation"
        },
        "xaxis": {
         "anchor": "y",
         "categoryarray": [
          "Hungarian",
          "Chinese",
          "Equal"
         ],
         "categoryorder": "array",
         "domain": [
          0,
          1
         ],
         "title": {
          "text": "Bias"
         }
        },
        "yaxis": {
         "anchor": "x",
         "domain": [
          0,
          1
         ],
         "title": {
          "text": "Count"
         }
        }
       }
      }
     },
     "metadata": {},
     "output_type": "display_data"
    }
   ],
   "source": [
    "# Prepare comparison DataFrame for occupations present in both datasets\n",
    "df_compare = df_hu[df_hu['en'].isin(in_both)][['en', 'mean_hu', 'hu']].merge(\n",
    "    df_zh[df_zh['en'].isin(in_both)][['en', 'mean_zh', 'zh']], on='en', suffixes=('_hu', '_zh'))\n",
    "\n",
    "# Sort by the average of the two means for better visualization\n",
    "df_compare['mean_avg'] = (df_compare['mean_hu'] + df_compare['mean_zh']) / 2\n",
    "df_compare = df_compare.sort_values('mean_avg', ascending=False)\n",
    "\n",
    "# Add a new column 'bias' considering absolute values: \n",
    "# 'Hungarian' if abs(mean_hu) > abs(mean_zh), 'Chinese' if abs(mean_hu) < abs(mean_zh), 'Equal' if they are the same\n",
    "df_compare['bias'] = df_compare.apply(\n",
    "    lambda row: 'Hungarian' if abs(row['mean_hu']) > abs(row['mean_zh']) \n",
    "    else ('Chinese' if abs(row['mean_hu']) < abs(row['mean_zh']) else 'Equal'), axis=1\n",
    ")\n",
    "\n",
    "# Count values in 'bias' column and print the results\n",
    "bias_counts = df_compare['bias'].value_counts()\n",
    "print(\"Bias counts:\")\n",
    "print(bias_counts)\n",
    "\n",
    "# Plot this\n",
    "fig = px.bar(\n",
    "    bias_counts,\n",
    "    x=bias_counts.index,\n",
    "    y=bias_counts.values,\n",
    "    title='Count of Bias by Occupation',\n",
    "    labels={'x': 'Bias', 'y': 'Count'},\n",
    "    color=bias_counts.index,\n",
    "    color_discrete_map={'Hungarian': '#1f7211', 'Chinese': '#e81818', 'Equal': '#7f7f7f'}\n",
    ")\n",
    "fig.update_layout(\n",
    "    xaxis_title='Bias',\n",
    "    yaxis_title='Count',\n",
    "    template='plotly_white'\n",
    ")\n",
    "fig.show()"
   ]
  },
  {
   "cell_type": "code",
   "execution_count": null,
   "id": "0d5ffd9b",
   "metadata": {},
   "outputs": [],
   "source": []
  },
  {
   "cell_type": "code",
   "execution_count": null,
   "id": "251c2b16",
   "metadata": {},
   "outputs": [],
   "source": []
  }
 ],
 "metadata": {
  "kernelspec": {
   "display_name": "work",
   "language": "python",
   "name": "python3"
  },
  "language_info": {
   "codemirror_mode": {
    "name": "ipython",
    "version": 3
   },
   "file_extension": ".py",
   "mimetype": "text/x-python",
   "name": "python",
   "nbconvert_exporter": "python",
   "pygments_lexer": "ipython3",
   "version": "3.12.9"
  }
 },
 "nbformat": 4,
 "nbformat_minor": 5
}
