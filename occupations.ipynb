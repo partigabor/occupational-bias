{
 "cells": [
  {
   "cell_type": "markdown",
   "id": "b6c4d51f",
   "metadata": {},
   "source": [
    "# Occupational Gender Bias"
   ]
  },
  {
   "cell_type": "code",
   "execution_count": 2252,
   "id": "4e144a44",
   "metadata": {},
   "outputs": [],
   "source": [
    "# Import libraries\n",
    "import pandas as pd\n",
    "import numpy as np\n",
    "from scipy import stats\n",
    "from scipy.stats import ttest_ind\n",
    "from plotly.subplots import make_subplots\n",
    "import plotly.graph_objects as go\n",
    "import plotly.express as px"
   ]
  },
  {
   "cell_type": "markdown",
   "id": "c73d6049",
   "metadata": {},
   "source": [
    "## Occupations data"
   ]
  },
  {
   "cell_type": "code",
   "execution_count": 2253,
   "id": "8767c1fc",
   "metadata": {},
   "outputs": [
    {
     "data": {
      "text/html": [
       "<div>\n",
       "<style scoped>\n",
       "    .dataframe tbody tr th:only-of-type {\n",
       "        vertical-align: middle;\n",
       "    }\n",
       "\n",
       "    .dataframe tbody tr th {\n",
       "        vertical-align: top;\n",
       "    }\n",
       "\n",
       "    .dataframe thead th {\n",
       "        text-align: right;\n",
       "    }\n",
       "</style>\n",
       "<table border=\"1\" class=\"dataframe\">\n",
       "  <thead>\n",
       "    <tr style=\"text-align: right;\">\n",
       "      <th></th>\n",
       "      <th>#</th>\n",
       "      <th>zh</th>\n",
       "      <th>en</th>\n",
       "      <th>hu</th>\n",
       "      <th>chatgpt</th>\n",
       "      <th>copilot</th>\n",
       "      <th>gemini</th>\n",
       "      <th>deepseek</th>\n",
       "    </tr>\n",
       "  </thead>\n",
       "  <tbody>\n",
       "    <tr>\n",
       "      <th>0</th>\n",
       "      <td>1.0</td>\n",
       "      <td>模特</td>\n",
       "      <td>model</td>\n",
       "      <td>modell</td>\n",
       "      <td>2.5</td>\n",
       "      <td>1.8</td>\n",
       "      <td>1.0</td>\n",
       "      <td>-0.30</td>\n",
       "    </tr>\n",
       "    <tr>\n",
       "      <th>1</th>\n",
       "      <td>2.0</td>\n",
       "      <td>军人</td>\n",
       "      <td>soldier</td>\n",
       "      <td>katona</td>\n",
       "      <td>-2.8</td>\n",
       "      <td>-2.5</td>\n",
       "      <td>-2.5</td>\n",
       "      <td>-2.95</td>\n",
       "    </tr>\n",
       "    <tr>\n",
       "      <th>2</th>\n",
       "      <td>3.0</td>\n",
       "      <td>法医</td>\n",
       "      <td>pathologist</td>\n",
       "      <td>kórboncnok</td>\n",
       "      <td>-1.2</td>\n",
       "      <td>-1.5</td>\n",
       "      <td>-0.5</td>\n",
       "      <td>-1.80</td>\n",
       "    </tr>\n",
       "    <tr>\n",
       "      <th>3</th>\n",
       "      <td>4.0</td>\n",
       "      <td>董事长</td>\n",
       "      <td>CEO</td>\n",
       "      <td>vezérigazgató</td>\n",
       "      <td>-2.5</td>\n",
       "      <td>-2.0</td>\n",
       "      <td>-2.0</td>\n",
       "      <td>-2.10</td>\n",
       "    </tr>\n",
       "    <tr>\n",
       "      <th>4</th>\n",
       "      <td>5.0</td>\n",
       "      <td>高管</td>\n",
       "      <td>manager</td>\n",
       "      <td>menedzser</td>\n",
       "      <td>-1.0</td>\n",
       "      <td>-1.5</td>\n",
       "      <td>-1.5</td>\n",
       "      <td>-1.20</td>\n",
       "    </tr>\n",
       "  </tbody>\n",
       "</table>\n",
       "</div>"
      ],
      "text/plain": [
       "     #   zh           en             hu  chatgpt  copilot  gemini  deepseek\n",
       "0  1.0   模特        model         modell      2.5      1.8     1.0     -0.30\n",
       "1  2.0   军人      soldier         katona     -2.8     -2.5    -2.5     -2.95\n",
       "2  3.0   法医  pathologist     kórboncnok     -1.2     -1.5    -0.5     -1.80\n",
       "3  4.0  董事长          CEO  vezérigazgató     -2.5     -2.0    -2.0     -2.10\n",
       "4  5.0   高管      manager      menedzser     -1.0     -1.5    -1.5     -1.20"
      ]
     },
     "execution_count": 2253,
     "metadata": {},
     "output_type": "execute_result"
    }
   ],
   "source": [
    "# Read files\n",
    "occupations = pd.read_excel('occupations.xlsx')\n",
    "occupations.head()"
   ]
  },
  {
   "cell_type": "markdown",
   "id": "fa3120c9",
   "metadata": {},
   "source": [
    "## Hungarian data"
   ]
  },
  {
   "cell_type": "code",
   "execution_count": 2254,
   "id": "c125d60e",
   "metadata": {},
   "outputs": [
    {
     "name": "stdout",
     "output_type": "stream",
     "text": [
      "Rejected participants: ['5e57a0020c3c6a14a1624031', '599494e7bf8bcf0001ab6973', '5f5a27482be30c0718bbf1e0']\n"
     ]
    },
    {
     "data": {
      "text/html": [
       "<div>\n",
       "<style scoped>\n",
       "    .dataframe tbody tr th:only-of-type {\n",
       "        vertical-align: middle;\n",
       "    }\n",
       "\n",
       "    .dataframe tbody tr th {\n",
       "        vertical-align: top;\n",
       "    }\n",
       "\n",
       "    .dataframe thead th {\n",
       "        text-align: right;\n",
       "    }\n",
       "</style>\n",
       "<table border=\"1\" class=\"dataframe\">\n",
       "  <thead>\n",
       "    <tr style=\"text-align: right;\">\n",
       "      <th></th>\n",
       "      <th>Submission id</th>\n",
       "      <th>Participant id</th>\n",
       "      <th>Status</th>\n",
       "      <th>Custom study tncs accepted at</th>\n",
       "      <th>Started at</th>\n",
       "      <th>Completed at</th>\n",
       "      <th>Reviewed at</th>\n",
       "      <th>Archived at</th>\n",
       "      <th>Time taken</th>\n",
       "      <th>Completion code</th>\n",
       "      <th>Total approvals</th>\n",
       "      <th>Age</th>\n",
       "      <th>Sex</th>\n",
       "      <th>Ethnicity simplified</th>\n",
       "      <th>Country of birth</th>\n",
       "      <th>Country of residence</th>\n",
       "      <th>Nationality</th>\n",
       "      <th>Language</th>\n",
       "      <th>Student status</th>\n",
       "      <th>Employment status</th>\n",
       "    </tr>\n",
       "  </thead>\n",
       "  <tbody>\n",
       "    <tr>\n",
       "      <th>0</th>\n",
       "      <td>68708cf6b2a5c6baa48d6343</td>\n",
       "      <td>5ef60257cd680928de23ccae</td>\n",
       "      <td>APPROVED</td>\n",
       "      <td>Not Applicable</td>\n",
       "      <td>2025-07-11T04:03:02.613000Z</td>\n",
       "      <td>2025-07-11T04:07:42.625000Z</td>\n",
       "      <td>2025-07-15T04:08:31.855000Z</td>\n",
       "      <td>2025-07-11T04:07:43.031319Z</td>\n",
       "      <td>281.0</td>\n",
       "      <td>C1MO6037</td>\n",
       "      <td>377</td>\n",
       "      <td>29</td>\n",
       "      <td>Male</td>\n",
       "      <td>White</td>\n",
       "      <td>Hungary</td>\n",
       "      <td>Hungary</td>\n",
       "      <td>Hungary</td>\n",
       "      <td>Hungarian</td>\n",
       "      <td>Yes</td>\n",
       "      <td>Full-Time</td>\n",
       "    </tr>\n",
       "    <tr>\n",
       "      <th>1</th>\n",
       "      <td>68708d873d4d0b6d92e59937</td>\n",
       "      <td>5c48be0496d59b000183e68d</td>\n",
       "      <td>APPROVED</td>\n",
       "      <td>Not Applicable</td>\n",
       "      <td>2025-07-11T04:05:42.316000Z</td>\n",
       "      <td>2025-07-11T04:13:25.502000Z</td>\n",
       "      <td>2025-07-15T04:08:32.344000Z</td>\n",
       "      <td>2025-07-11T04:13:25.947923Z</td>\n",
       "      <td>464.0</td>\n",
       "      <td>C1MO6037</td>\n",
       "      <td>1457</td>\n",
       "      <td>48</td>\n",
       "      <td>Male</td>\n",
       "      <td>White</td>\n",
       "      <td>Hungary</td>\n",
       "      <td>Hungary</td>\n",
       "      <td>Hungary</td>\n",
       "      <td>Hungarian</td>\n",
       "      <td>No</td>\n",
       "      <td>Full-Time</td>\n",
       "    </tr>\n",
       "    <tr>\n",
       "      <th>2</th>\n",
       "      <td>68708f072c19330dab93cd7b</td>\n",
       "      <td>5d3449524e8363001735fc41</td>\n",
       "      <td>APPROVED</td>\n",
       "      <td>Not Applicable</td>\n",
       "      <td>2025-07-11T04:12:14.614000Z</td>\n",
       "      <td>2025-07-11T04:20:51.642000Z</td>\n",
       "      <td>2025-07-15T04:08:32.762000Z</td>\n",
       "      <td>2025-07-11T04:20:52.060603Z</td>\n",
       "      <td>518.0</td>\n",
       "      <td>C1MO6037</td>\n",
       "      <td>657</td>\n",
       "      <td>42</td>\n",
       "      <td>Male</td>\n",
       "      <td>White</td>\n",
       "      <td>Hungary</td>\n",
       "      <td>Hungary</td>\n",
       "      <td>Hungary</td>\n",
       "      <td>Hungarian</td>\n",
       "      <td>DATA_EXPIRED</td>\n",
       "      <td>Full-Time</td>\n",
       "    </tr>\n",
       "    <tr>\n",
       "      <th>3</th>\n",
       "      <td>68708f80de42cf279f3089d8</td>\n",
       "      <td>5a913d2cf0536100017196d8</td>\n",
       "      <td>APPROVED</td>\n",
       "      <td>Not Applicable</td>\n",
       "      <td>2025-07-11T04:13:57.716000Z</td>\n",
       "      <td>2025-07-11T04:16:47.135000Z</td>\n",
       "      <td>2025-07-15T04:08:33.160000Z</td>\n",
       "      <td>2025-07-11T04:16:47.592395Z</td>\n",
       "      <td>170.0</td>\n",
       "      <td>C1MO6037</td>\n",
       "      <td>29</td>\n",
       "      <td>27</td>\n",
       "      <td>Male</td>\n",
       "      <td>White</td>\n",
       "      <td>Hungary</td>\n",
       "      <td>Hungary</td>\n",
       "      <td>Hungary</td>\n",
       "      <td>Hungarian</td>\n",
       "      <td>No</td>\n",
       "      <td>Full-Time</td>\n",
       "    </tr>\n",
       "    <tr>\n",
       "      <th>4</th>\n",
       "      <td>68708fb5ab7d87dd294e6c74</td>\n",
       "      <td>5d3873197860c8001a106e02</td>\n",
       "      <td>APPROVED</td>\n",
       "      <td>Not Applicable</td>\n",
       "      <td>2025-07-11T04:16:49.056000Z</td>\n",
       "      <td>2025-07-11T04:21:24.387000Z</td>\n",
       "      <td>2025-07-15T04:08:33.533000Z</td>\n",
       "      <td>2025-07-11T04:21:24.787505Z</td>\n",
       "      <td>276.0</td>\n",
       "      <td>C1MO6037</td>\n",
       "      <td>2564</td>\n",
       "      <td>34</td>\n",
       "      <td>Male</td>\n",
       "      <td>White</td>\n",
       "      <td>Hungary</td>\n",
       "      <td>Hungary</td>\n",
       "      <td>Hungary</td>\n",
       "      <td>Hungarian</td>\n",
       "      <td>No</td>\n",
       "      <td>Full-Time</td>\n",
       "    </tr>\n",
       "  </tbody>\n",
       "</table>\n",
       "</div>"
      ],
      "text/plain": [
       "              Submission id            Participant id    Status  \\\n",
       "0  68708cf6b2a5c6baa48d6343  5ef60257cd680928de23ccae  APPROVED   \n",
       "1  68708d873d4d0b6d92e59937  5c48be0496d59b000183e68d  APPROVED   \n",
       "2  68708f072c19330dab93cd7b  5d3449524e8363001735fc41  APPROVED   \n",
       "3  68708f80de42cf279f3089d8  5a913d2cf0536100017196d8  APPROVED   \n",
       "4  68708fb5ab7d87dd294e6c74  5d3873197860c8001a106e02  APPROVED   \n",
       "\n",
       "  Custom study tncs accepted at                   Started at  \\\n",
       "0                Not Applicable  2025-07-11T04:03:02.613000Z   \n",
       "1                Not Applicable  2025-07-11T04:05:42.316000Z   \n",
       "2                Not Applicable  2025-07-11T04:12:14.614000Z   \n",
       "3                Not Applicable  2025-07-11T04:13:57.716000Z   \n",
       "4                Not Applicable  2025-07-11T04:16:49.056000Z   \n",
       "\n",
       "                  Completed at                  Reviewed at  \\\n",
       "0  2025-07-11T04:07:42.625000Z  2025-07-15T04:08:31.855000Z   \n",
       "1  2025-07-11T04:13:25.502000Z  2025-07-15T04:08:32.344000Z   \n",
       "2  2025-07-11T04:20:51.642000Z  2025-07-15T04:08:32.762000Z   \n",
       "3  2025-07-11T04:16:47.135000Z  2025-07-15T04:08:33.160000Z   \n",
       "4  2025-07-11T04:21:24.387000Z  2025-07-15T04:08:33.533000Z   \n",
       "\n",
       "                   Archived at  Time taken Completion code  Total approvals  \\\n",
       "0  2025-07-11T04:07:43.031319Z       281.0        C1MO6037              377   \n",
       "1  2025-07-11T04:13:25.947923Z       464.0        C1MO6037             1457   \n",
       "2  2025-07-11T04:20:52.060603Z       518.0        C1MO6037              657   \n",
       "3  2025-07-11T04:16:47.592395Z       170.0        C1MO6037               29   \n",
       "4  2025-07-11T04:21:24.787505Z       276.0        C1MO6037             2564   \n",
       "\n",
       "  Age   Sex Ethnicity simplified Country of birth Country of residence  \\\n",
       "0  29  Male                White          Hungary              Hungary   \n",
       "1  48  Male                White          Hungary              Hungary   \n",
       "2  42  Male                White          Hungary              Hungary   \n",
       "3  27  Male                White          Hungary              Hungary   \n",
       "4  34  Male                White          Hungary              Hungary   \n",
       "\n",
       "  Nationality   Language Student status Employment status  \n",
       "0     Hungary  Hungarian            Yes         Full-Time  \n",
       "1     Hungary  Hungarian             No         Full-Time  \n",
       "2     Hungary  Hungarian   DATA_EXPIRED         Full-Time  \n",
       "3     Hungary  Hungarian             No         Full-Time  \n",
       "4     Hungary  Hungarian             No         Full-Time  "
      ]
     },
     "execution_count": 2254,
     "metadata": {},
     "output_type": "execute_result"
    }
   ],
   "source": [
    "# Read Hungarian participant data from prolific_hu.csv\n",
    "df_prolific_hu = pd.read_csv('prolific_hu.csv')\n",
    "\n",
    "# Return Participant id of rows where Status is RETURNED or REJECTED\n",
    "rejects = df_prolific_hu[df_prolific_hu['Status'].isin(['RETURNED', 'REJECTED'])]['Participant id'].unique()\n",
    "\n",
    "# create reject list\n",
    "rejects_list = rejects.tolist()\n",
    "print(f\"Rejected participants: {rejects_list}\")\n",
    "\n",
    "df_prolific_hu.head()"
   ]
  },
  {
   "cell_type": "code",
   "execution_count": 2255,
   "id": "21d18857",
   "metadata": {},
   "outputs": [
    {
     "name": "stdout",
     "output_type": "stream",
     "text": [
      "Number of participants: 22\n"
     ]
    },
    {
     "data": {
      "text/html": [
       "<div>\n",
       "<style scoped>\n",
       "    .dataframe tbody tr th:only-of-type {\n",
       "        vertical-align: middle;\n",
       "    }\n",
       "\n",
       "    .dataframe tbody tr th {\n",
       "        vertical-align: top;\n",
       "    }\n",
       "\n",
       "    .dataframe thead th {\n",
       "        text-align: right;\n",
       "    }\n",
       "</style>\n",
       "<table border=\"1\" class=\"dataframe\">\n",
       "  <thead>\n",
       "    <tr style=\"text-align: right;\">\n",
       "      <th></th>\n",
       "      <th>Participant id</th>\n",
       "      <th>pincérnő</th>\n",
       "      <th>titkárnő</th>\n",
       "      <th>tanárnő</th>\n",
       "      <th>takarítónő</th>\n",
       "      <th>ápolónő</th>\n",
       "      <th>házvezetőnő</th>\n",
       "    </tr>\n",
       "  </thead>\n",
       "  <tbody>\n",
       "    <tr>\n",
       "      <th>2</th>\n",
       "      <td>5a913d2cf0536100017196d8</td>\n",
       "      <td>Teljesen női</td>\n",
       "      <td>Nagyrészt női</td>\n",
       "      <td>Teljesen női</td>\n",
       "      <td>Teljesen női</td>\n",
       "      <td>Teljesen női</td>\n",
       "      <td>Teljesen női</td>\n",
       "    </tr>\n",
       "    <tr>\n",
       "      <th>9</th>\n",
       "      <td>599494e7bf8bcf0001ab6973</td>\n",
       "      <td>Teljesen női</td>\n",
       "      <td>Teljesen férfi</td>\n",
       "      <td>Teljesen női</td>\n",
       "      <td>Teljesen női</td>\n",
       "      <td>Teljesen női</td>\n",
       "      <td>Teljesen női</td>\n",
       "    </tr>\n",
       "    <tr>\n",
       "      <th>12</th>\n",
       "      <td>5e9ab5df2893af141343bce7</td>\n",
       "      <td>Inkább női</td>\n",
       "      <td>Nagyrészt női</td>\n",
       "      <td>Inkább női</td>\n",
       "      <td>Inkább női</td>\n",
       "      <td>Nagyrészt női</td>\n",
       "      <td>Inkább női</td>\n",
       "    </tr>\n",
       "    <tr>\n",
       "      <th>14</th>\n",
       "      <td>S</td>\n",
       "      <td>Teljesen női</td>\n",
       "      <td>Teljesen női</td>\n",
       "      <td>Teljesen női</td>\n",
       "      <td>Nagyrészt női</td>\n",
       "      <td>Teljesen női</td>\n",
       "      <td>Teljesen női</td>\n",
       "    </tr>\n",
       "  </tbody>\n",
       "</table>\n",
       "</div>"
      ],
      "text/plain": [
       "              Participant id      pincérnő        titkárnő       tanárnő  \\\n",
       "2   5a913d2cf0536100017196d8  Teljesen női   Nagyrészt női  Teljesen női   \n",
       "9   599494e7bf8bcf0001ab6973  Teljesen női  Teljesen férfi  Teljesen női   \n",
       "12  5e9ab5df2893af141343bce7    Inkább női   Nagyrészt női    Inkább női   \n",
       "14                         S  Teljesen női    Teljesen női  Teljesen női   \n",
       "\n",
       "       takarítónő        ápolónő   házvezetőnő  \n",
       "2    Teljesen női   Teljesen női  Teljesen női  \n",
       "9    Teljesen női   Teljesen női  Teljesen női  \n",
       "12     Inkább női  Nagyrészt női    Inkább női  \n",
       "14  Nagyrészt női   Teljesen női  Teljesen női  "
      ]
     },
     "execution_count": 2255,
     "metadata": {},
     "output_type": "execute_result"
    }
   ],
   "source": [
    "# Read Hungarian data from hu.xlsx\n",
    "df_hu = pd.read_excel('ratings_hu.xlsx')\n",
    "\n",
    "# Rename Prolific ID to Participant id\n",
    "df_hu.rename(columns={'Prolific ID': 'Participant id'}, inplace=True)\n",
    "\n",
    "# Print number of participants\n",
    "print(f\"Number of participants: {df_hu.shape[0]}\")\n",
    "\n",
    "# Define Hungarian attention checks\n",
    "hu_attention_checks = ['pincérnő', 'titkárnő', 'tanárnő', 'takarítónő', 'ápolónő', 'házvezetőnő']\n",
    "\n",
    "# Show wo failed attention any checks, find participants who did not mark all hu_attention_checks columns as 3\n",
    "failed_attention = df_hu[df_hu[hu_attention_checks].apply(lambda row: any(row != 'Teljesen női'), axis=1)]\n",
    "\n",
    "# Show the failed participants (if any)\n",
    "failed = failed_attention[['Participant id'] + hu_attention_checks] if not failed_attention.empty else print(\"All participants passed the attention checks.\")\n",
    "failed"
   ]
  },
  {
   "cell_type": "code",
   "execution_count": 2256,
   "id": "ba89a339",
   "metadata": {},
   "outputs": [
    {
     "name": "stdout",
     "output_type": "stream",
     "text": [
      "Number of participants: 20\n"
     ]
    }
   ],
   "source": [
    "# Remove those who failed miserably\n",
    "df_hu = df_hu[df_hu['Participant id'] != '5e9ab5df2893af141343bce7']\n",
    "df_hu = df_hu[df_hu['Participant id'] != '599494e7bf8bcf0001ab6973']\n",
    "\n",
    "# Remove participants who were rejected\n",
    "df_hu = df_hu[~df_hu['Participant id'].isin(rejects_list)]\n",
    "\n",
    "# Print number of participants\n",
    "print(f\"Number of participants: {df_hu.shape[0]}\")\n",
    "\n",
    "# Drop attention checks\n",
    "df_hu.drop(columns=hu_attention_checks, inplace=True)"
   ]
  },
  {
   "cell_type": "code",
   "execution_count": 2257,
   "id": "381f0f1c",
   "metadata": {},
   "outputs": [
    {
     "name": "stdout",
     "output_type": "stream",
     "text": [
      "Number of participants: 20\n",
      "Number of words: 44\n"
     ]
    },
    {
     "data": {
      "text/html": [
       "<div>\n",
       "<style scoped>\n",
       "    .dataframe tbody tr th:only-of-type {\n",
       "        vertical-align: middle;\n",
       "    }\n",
       "\n",
       "    .dataframe tbody tr th {\n",
       "        vertical-align: top;\n",
       "    }\n",
       "\n",
       "    .dataframe thead th {\n",
       "        text-align: right;\n",
       "    }\n",
       "</style>\n",
       "<table border=\"1\" class=\"dataframe\">\n",
       "  <thead>\n",
       "    <tr style=\"text-align: right;\">\n",
       "      <th></th>\n",
       "      <th>ID</th>\n",
       "      <th>Start time</th>\n",
       "      <th>Completion time</th>\n",
       "      <th>Email</th>\n",
       "      <th>Name</th>\n",
       "      <th>Participant id</th>\n",
       "      <th>Age</th>\n",
       "      <th>Gender</th>\n",
       "      <th>modell</th>\n",
       "      <th>katona</th>\n",
       "      <th>...</th>\n",
       "      <th>dietetikus</th>\n",
       "      <th>tanár</th>\n",
       "      <th>rendőr</th>\n",
       "      <th>pilóta</th>\n",
       "      <th>recepciós</th>\n",
       "      <th>biztonsági őr</th>\n",
       "      <th>ügyész</th>\n",
       "      <th>kozmetikus</th>\n",
       "      <th>programozó</th>\n",
       "      <th>diák</th>\n",
       "    </tr>\n",
       "  </thead>\n",
       "  <tbody>\n",
       "    <tr>\n",
       "      <th>0</th>\n",
       "      <td>1</td>\n",
       "      <td>2025-07-11 12:06:52</td>\n",
       "      <td>2025-07-11 12:07:43</td>\n",
       "      <td>anonymous</td>\n",
       "      <td>NaN</td>\n",
       "      <td>5ef60257cd680928de23ccae</td>\n",
       "      <td>25-35</td>\n",
       "      <td>férfi</td>\n",
       "      <td>2</td>\n",
       "      <td>-3</td>\n",
       "      <td>...</td>\n",
       "      <td>0</td>\n",
       "      <td>0</td>\n",
       "      <td>-2</td>\n",
       "      <td>-1</td>\n",
       "      <td>0</td>\n",
       "      <td>-2</td>\n",
       "      <td>0</td>\n",
       "      <td>2</td>\n",
       "      <td>-1</td>\n",
       "      <td>0</td>\n",
       "    </tr>\n",
       "    <tr>\n",
       "      <th>1</th>\n",
       "      <td>2</td>\n",
       "      <td>2025-07-11 12:06:58</td>\n",
       "      <td>2025-07-11 12:13:33</td>\n",
       "      <td>anonymous</td>\n",
       "      <td>NaN</td>\n",
       "      <td>5c48be0496d59b000183e68d</td>\n",
       "      <td>45-55</td>\n",
       "      <td>férfi</td>\n",
       "      <td>2</td>\n",
       "      <td>-2</td>\n",
       "      <td>...</td>\n",
       "      <td>0</td>\n",
       "      <td>0</td>\n",
       "      <td>-2</td>\n",
       "      <td>-2</td>\n",
       "      <td>1</td>\n",
       "      <td>-2</td>\n",
       "      <td>-1</td>\n",
       "      <td>3</td>\n",
       "      <td>-2</td>\n",
       "      <td>0</td>\n",
       "    </tr>\n",
       "    <tr>\n",
       "      <th>2</th>\n",
       "      <td>3</td>\n",
       "      <td>2025-07-11 12:14:03</td>\n",
       "      <td>2025-07-11 12:16:52</td>\n",
       "      <td>anonymous</td>\n",
       "      <td>NaN</td>\n",
       "      <td>5a913d2cf0536100017196d8</td>\n",
       "      <td>25-35</td>\n",
       "      <td>férfi</td>\n",
       "      <td>0</td>\n",
       "      <td>-2</td>\n",
       "      <td>...</td>\n",
       "      <td>0</td>\n",
       "      <td>0</td>\n",
       "      <td>-1</td>\n",
       "      <td>0</td>\n",
       "      <td>0</td>\n",
       "      <td>-2</td>\n",
       "      <td>0</td>\n",
       "      <td>2</td>\n",
       "      <td>0</td>\n",
       "      <td>0</td>\n",
       "    </tr>\n",
       "    <tr>\n",
       "      <th>3</th>\n",
       "      <td>4</td>\n",
       "      <td>2025-07-11 12:12:24</td>\n",
       "      <td>2025-07-11 12:21:19</td>\n",
       "      <td>anonymous</td>\n",
       "      <td>NaN</td>\n",
       "      <td>5d3449524e8363001735fc41</td>\n",
       "      <td>35-45</td>\n",
       "      <td>férfi</td>\n",
       "      <td>2</td>\n",
       "      <td>-2</td>\n",
       "      <td>...</td>\n",
       "      <td>1</td>\n",
       "      <td>2</td>\n",
       "      <td>-2</td>\n",
       "      <td>-2</td>\n",
       "      <td>2</td>\n",
       "      <td>-2</td>\n",
       "      <td>-1</td>\n",
       "      <td>3</td>\n",
       "      <td>-2</td>\n",
       "      <td>0</td>\n",
       "    </tr>\n",
       "    <tr>\n",
       "      <th>4</th>\n",
       "      <td>5</td>\n",
       "      <td>2025-07-11 12:16:52</td>\n",
       "      <td>2025-07-11 12:21:35</td>\n",
       "      <td>anonymous</td>\n",
       "      <td>NaN</td>\n",
       "      <td>5d3873197860c8001a106e02</td>\n",
       "      <td>25-35</td>\n",
       "      <td>férfi</td>\n",
       "      <td>0</td>\n",
       "      <td>-2</td>\n",
       "      <td>...</td>\n",
       "      <td>0</td>\n",
       "      <td>0</td>\n",
       "      <td>-1</td>\n",
       "      <td>-1</td>\n",
       "      <td>0</td>\n",
       "      <td>-1</td>\n",
       "      <td>0</td>\n",
       "      <td>2</td>\n",
       "      <td>-2</td>\n",
       "      <td>0</td>\n",
       "    </tr>\n",
       "  </tbody>\n",
       "</table>\n",
       "<p>5 rows × 52 columns</p>\n",
       "</div>"
      ],
      "text/plain": [
       "   ID          Start time     Completion time      Email  Name  \\\n",
       "0   1 2025-07-11 12:06:52 2025-07-11 12:07:43  anonymous   NaN   \n",
       "1   2 2025-07-11 12:06:58 2025-07-11 12:13:33  anonymous   NaN   \n",
       "2   3 2025-07-11 12:14:03 2025-07-11 12:16:52  anonymous   NaN   \n",
       "3   4 2025-07-11 12:12:24 2025-07-11 12:21:19  anonymous   NaN   \n",
       "4   5 2025-07-11 12:16:52 2025-07-11 12:21:35  anonymous   NaN   \n",
       "\n",
       "             Participant id    Age Gender  modell  katona  ...  dietetikus  \\\n",
       "0  5ef60257cd680928de23ccae  25-35  férfi       2      -3  ...           0   \n",
       "1  5c48be0496d59b000183e68d  45-55  férfi       2      -2  ...           0   \n",
       "2  5a913d2cf0536100017196d8  25-35  férfi       0      -2  ...           0   \n",
       "3  5d3449524e8363001735fc41  35-45  férfi       2      -2  ...           1   \n",
       "4  5d3873197860c8001a106e02  25-35  férfi       0      -2  ...           0   \n",
       "\n",
       "   tanár  rendőr  pilóta  recepciós  biztonsági őr  ügyész  kozmetikus  \\\n",
       "0      0      -2      -1          0             -2       0           2   \n",
       "1      0      -2      -2          1             -2      -1           3   \n",
       "2      0      -1       0          0             -2       0           2   \n",
       "3      2      -2      -2          2             -2      -1           3   \n",
       "4      0      -1      -1          0             -1       0           2   \n",
       "\n",
       "   programozó  diák  \n",
       "0          -1     0  \n",
       "1          -2     0  \n",
       "2           0     0  \n",
       "3          -2     0  \n",
       "4          -2     0  \n",
       "\n",
       "[5 rows x 52 columns]"
      ]
     },
     "execution_count": 2257,
     "metadata": {},
     "output_type": "execute_result"
    }
   ],
   "source": [
    "# Define the mapping for ratings\n",
    "rating_map = {\n",
    "    'Teljesen férfi': -3,\n",
    "    'Nagyrészt férfi': -2,\n",
    "    'Inkább férfi': -1,\n",
    "    'Semleges/egyenlő': 0,\n",
    "    'Inkább női': 1,\n",
    "    'Nagyrészt női': 2,\n",
    "    'Teljesen női': 3\n",
    "}\n",
    "\n",
    "# Get columns to convert (skip non-rating columns)\n",
    "rating_columns = df_hu.columns[8:]  # assuming first 8 columns are not ratings\n",
    "\n",
    "# Replace and explicitly infer objects to avoid warning\n",
    "for col in rating_columns:\n",
    "    df_hu[col] = df_hu[col].map(rating_map)\n",
    "    \n",
    "# Drop rows where Prolific ID is in rejects_list\n",
    "df_hu = df_hu[~df_hu['Participant id'].isin(rejects_list)]\n",
    "\n",
    "# Rename Életkor to Age and Nem to Sex\n",
    "df_hu.rename(columns={'Életkor': 'Age', 'Nem':'Gender'}, inplace=True)\n",
    "\n",
    "# Count and print participants based on unique Participant id\n",
    "num_participants = df_hu['Participant id'].nunique()\n",
    "print(f'Number of participants: {num_participants}')\n",
    "\n",
    "# Count the number of columns starting with the 8th.\n",
    "num_columns = len(df_hu.columns) - 8\n",
    "print(f'Number of words: {num_columns}')\n",
    "\n",
    "# Show\n",
    "df_hu.head()\n",
    "    "
   ]
  },
  {
   "cell_type": "markdown",
   "id": "c7ad821f",
   "metadata": {},
   "source": [
    "### Demographics"
   ]
  },
  {
   "cell_type": "code",
   "execution_count": 2258,
   "id": "cfc1cd19",
   "metadata": {},
   "outputs": [
    {
     "data": {
      "application/vnd.plotly.v1+json": {
       "config": {
        "plotlyServerURL": "https://plot.ly"
       },
       "data": [
        {
         "customdata": [
          [
           "Female",
           "11",
           "55.00000000000001"
          ],
          [
           "Male",
           "9",
           "45.0"
          ]
         ],
         "domain": {
          "x": [
           0,
           0.45
          ],
          "y": [
           0,
           1
          ]
         },
         "hole": 0.33,
         "labels": [
          "Female",
          "Male"
         ],
         "name": "Gender",
         "text": [
          "Female<br>n=11<br>55.0%",
          "Male<br>n=9<br>45.0%"
         ],
         "textfont": {
          "size": 28
         },
         "textinfo": "text",
         "title": {
          "text": "Gender"
         },
         "type": "pie",
         "values": {
          "bdata": "AQAAAACAS0AAAAAAAIBGQA==",
          "dtype": "f8"
         }
        },
        {
         "customdata": [
          [
           "25-35",
           12,
           60
          ],
          [
           "35-45",
           3,
           15
          ],
          [
           "45-55",
           5,
           25
          ]
         ],
         "domain": {
          "x": [
           0.55,
           1
          ],
          "y": [
           0,
           1
          ]
         },
         "hole": 0.33,
         "labels": [
          "25-35",
          "35-45",
          "45-55"
         ],
         "name": "Age",
         "text": [
          "25-35<br>n=12<br>60.0%",
          "35-45<br>n=3<br>15.0%",
          "45-55<br>n=5<br>25.0%"
         ],
         "textfont": {
          "size": 28
         },
         "textinfo": "text",
         "title": {
          "text": "Age"
         },
         "type": "pie",
         "values": {
          "bdata": "AAAAAAAATkAAAAAAAAAuQAAAAAAAADlA",
          "dtype": "f8"
         }
        }
       ],
       "layout": {
        "annotations": [
         {
          "align": "center",
          "font": {
           "size": 28
          },
          "showarrow": false,
          "text": "No. of participants: 20",
          "x": 0.5,
          "xanchor": "center",
          "xref": "paper",
          "y": 0,
          "yanchor": "bottom",
          "yref": "paper"
         },
         {
          "align": "center",
          "font": {
           "size": 28
          },
          "showarrow": false,
          "text": "No. of participants: 20",
          "x": 0.5,
          "xanchor": "center",
          "xref": "paper",
          "y": 0,
          "yanchor": "bottom",
          "yref": "paper"
         }
        ],
        "font": {
         "color": "black",
         "family": "Times New Roman, serif",
         "size": 32
        },
        "legend": {
         "font": {
          "size": 28
         },
         "orientation": "v",
         "x": 0.5,
         "xanchor": "center",
         "y": 1,
         "yanchor": "top"
        },
        "margin": {
         "b": 0,
         "l": 0,
         "r": 0,
         "t": 0
        },
        "showlegend": false,
        "template": {
         "data": {
          "bar": [
           {
            "error_x": {
             "color": "#2a3f5f"
            },
            "error_y": {
             "color": "#2a3f5f"
            },
            "marker": {
             "line": {
              "color": "#E5ECF6",
              "width": 0.5
             },
             "pattern": {
              "fillmode": "overlay",
              "size": 10,
              "solidity": 0.2
             }
            },
            "type": "bar"
           }
          ],
          "barpolar": [
           {
            "marker": {
             "line": {
              "color": "#E5ECF6",
              "width": 0.5
             },
             "pattern": {
              "fillmode": "overlay",
              "size": 10,
              "solidity": 0.2
             }
            },
            "type": "barpolar"
           }
          ],
          "carpet": [
           {
            "aaxis": {
             "endlinecolor": "#2a3f5f",
             "gridcolor": "white",
             "linecolor": "white",
             "minorgridcolor": "white",
             "startlinecolor": "#2a3f5f"
            },
            "baxis": {
             "endlinecolor": "#2a3f5f",
             "gridcolor": "white",
             "linecolor": "white",
             "minorgridcolor": "white",
             "startlinecolor": "#2a3f5f"
            },
            "type": "carpet"
           }
          ],
          "choropleth": [
           {
            "colorbar": {
             "outlinewidth": 0,
             "ticks": ""
            },
            "type": "choropleth"
           }
          ],
          "contour": [
           {
            "colorbar": {
             "outlinewidth": 0,
             "ticks": ""
            },
            "colorscale": [
             [
              0,
              "#0d0887"
             ],
             [
              0.1111111111111111,
              "#46039f"
             ],
             [
              0.2222222222222222,
              "#7201a8"
             ],
             [
              0.3333333333333333,
              "#9c179e"
             ],
             [
              0.4444444444444444,
              "#bd3786"
             ],
             [
              0.5555555555555556,
              "#d8576b"
             ],
             [
              0.6666666666666666,
              "#ed7953"
             ],
             [
              0.7777777777777778,
              "#fb9f3a"
             ],
             [
              0.8888888888888888,
              "#fdca26"
             ],
             [
              1,
              "#f0f921"
             ]
            ],
            "type": "contour"
           }
          ],
          "contourcarpet": [
           {
            "colorbar": {
             "outlinewidth": 0,
             "ticks": ""
            },
            "type": "contourcarpet"
           }
          ],
          "heatmap": [
           {
            "colorbar": {
             "outlinewidth": 0,
             "ticks": ""
            },
            "colorscale": [
             [
              0,
              "#0d0887"
             ],
             [
              0.1111111111111111,
              "#46039f"
             ],
             [
              0.2222222222222222,
              "#7201a8"
             ],
             [
              0.3333333333333333,
              "#9c179e"
             ],
             [
              0.4444444444444444,
              "#bd3786"
             ],
             [
              0.5555555555555556,
              "#d8576b"
             ],
             [
              0.6666666666666666,
              "#ed7953"
             ],
             [
              0.7777777777777778,
              "#fb9f3a"
             ],
             [
              0.8888888888888888,
              "#fdca26"
             ],
             [
              1,
              "#f0f921"
             ]
            ],
            "type": "heatmap"
           }
          ],
          "histogram": [
           {
            "marker": {
             "pattern": {
              "fillmode": "overlay",
              "size": 10,
              "solidity": 0.2
             }
            },
            "type": "histogram"
           }
          ],
          "histogram2d": [
           {
            "colorbar": {
             "outlinewidth": 0,
             "ticks": ""
            },
            "colorscale": [
             [
              0,
              "#0d0887"
             ],
             [
              0.1111111111111111,
              "#46039f"
             ],
             [
              0.2222222222222222,
              "#7201a8"
             ],
             [
              0.3333333333333333,
              "#9c179e"
             ],
             [
              0.4444444444444444,
              "#bd3786"
             ],
             [
              0.5555555555555556,
              "#d8576b"
             ],
             [
              0.6666666666666666,
              "#ed7953"
             ],
             [
              0.7777777777777778,
              "#fb9f3a"
             ],
             [
              0.8888888888888888,
              "#fdca26"
             ],
             [
              1,
              "#f0f921"
             ]
            ],
            "type": "histogram2d"
           }
          ],
          "histogram2dcontour": [
           {
            "colorbar": {
             "outlinewidth": 0,
             "ticks": ""
            },
            "colorscale": [
             [
              0,
              "#0d0887"
             ],
             [
              0.1111111111111111,
              "#46039f"
             ],
             [
              0.2222222222222222,
              "#7201a8"
             ],
             [
              0.3333333333333333,
              "#9c179e"
             ],
             [
              0.4444444444444444,
              "#bd3786"
             ],
             [
              0.5555555555555556,
              "#d8576b"
             ],
             [
              0.6666666666666666,
              "#ed7953"
             ],
             [
              0.7777777777777778,
              "#fb9f3a"
             ],
             [
              0.8888888888888888,
              "#fdca26"
             ],
             [
              1,
              "#f0f921"
             ]
            ],
            "type": "histogram2dcontour"
           }
          ],
          "mesh3d": [
           {
            "colorbar": {
             "outlinewidth": 0,
             "ticks": ""
            },
            "type": "mesh3d"
           }
          ],
          "parcoords": [
           {
            "line": {
             "colorbar": {
              "outlinewidth": 0,
              "ticks": ""
             }
            },
            "type": "parcoords"
           }
          ],
          "pie": [
           {
            "automargin": true,
            "type": "pie"
           }
          ],
          "scatter": [
           {
            "fillpattern": {
             "fillmode": "overlay",
             "size": 10,
             "solidity": 0.2
            },
            "type": "scatter"
           }
          ],
          "scatter3d": [
           {
            "line": {
             "colorbar": {
              "outlinewidth": 0,
              "ticks": ""
             }
            },
            "marker": {
             "colorbar": {
              "outlinewidth": 0,
              "ticks": ""
             }
            },
            "type": "scatter3d"
           }
          ],
          "scattercarpet": [
           {
            "marker": {
             "colorbar": {
              "outlinewidth": 0,
              "ticks": ""
             }
            },
            "type": "scattercarpet"
           }
          ],
          "scattergeo": [
           {
            "marker": {
             "colorbar": {
              "outlinewidth": 0,
              "ticks": ""
             }
            },
            "type": "scattergeo"
           }
          ],
          "scattergl": [
           {
            "marker": {
             "colorbar": {
              "outlinewidth": 0,
              "ticks": ""
             }
            },
            "type": "scattergl"
           }
          ],
          "scattermap": [
           {
            "marker": {
             "colorbar": {
              "outlinewidth": 0,
              "ticks": ""
             }
            },
            "type": "scattermap"
           }
          ],
          "scattermapbox": [
           {
            "marker": {
             "colorbar": {
              "outlinewidth": 0,
              "ticks": ""
             }
            },
            "type": "scattermapbox"
           }
          ],
          "scatterpolar": [
           {
            "marker": {
             "colorbar": {
              "outlinewidth": 0,
              "ticks": ""
             }
            },
            "type": "scatterpolar"
           }
          ],
          "scatterpolargl": [
           {
            "marker": {
             "colorbar": {
              "outlinewidth": 0,
              "ticks": ""
             }
            },
            "type": "scatterpolargl"
           }
          ],
          "scatterternary": [
           {
            "marker": {
             "colorbar": {
              "outlinewidth": 0,
              "ticks": ""
             }
            },
            "type": "scatterternary"
           }
          ],
          "surface": [
           {
            "colorbar": {
             "outlinewidth": 0,
             "ticks": ""
            },
            "colorscale": [
             [
              0,
              "#0d0887"
             ],
             [
              0.1111111111111111,
              "#46039f"
             ],
             [
              0.2222222222222222,
              "#7201a8"
             ],
             [
              0.3333333333333333,
              "#9c179e"
             ],
             [
              0.4444444444444444,
              "#bd3786"
             ],
             [
              0.5555555555555556,
              "#d8576b"
             ],
             [
              0.6666666666666666,
              "#ed7953"
             ],
             [
              0.7777777777777778,
              "#fb9f3a"
             ],
             [
              0.8888888888888888,
              "#fdca26"
             ],
             [
              1,
              "#f0f921"
             ]
            ],
            "type": "surface"
           }
          ],
          "table": [
           {
            "cells": {
             "fill": {
              "color": "#EBF0F8"
             },
             "line": {
              "color": "white"
             }
            },
            "header": {
             "fill": {
              "color": "#C8D4E3"
             },
             "line": {
              "color": "white"
             }
            },
            "type": "table"
           }
          ]
         },
         "layout": {
          "annotationdefaults": {
           "arrowcolor": "#2a3f5f",
           "arrowhead": 0,
           "arrowwidth": 1
          },
          "autotypenumbers": "strict",
          "coloraxis": {
           "colorbar": {
            "outlinewidth": 0,
            "ticks": ""
           }
          },
          "colorscale": {
           "diverging": [
            [
             0,
             "#8e0152"
            ],
            [
             0.1,
             "#c51b7d"
            ],
            [
             0.2,
             "#de77ae"
            ],
            [
             0.3,
             "#f1b6da"
            ],
            [
             0.4,
             "#fde0ef"
            ],
            [
             0.5,
             "#f7f7f7"
            ],
            [
             0.6,
             "#e6f5d0"
            ],
            [
             0.7,
             "#b8e186"
            ],
            [
             0.8,
             "#7fbc41"
            ],
            [
             0.9,
             "#4d9221"
            ],
            [
             1,
             "#276419"
            ]
           ],
           "sequential": [
            [
             0,
             "#0d0887"
            ],
            [
             0.1111111111111111,
             "#46039f"
            ],
            [
             0.2222222222222222,
             "#7201a8"
            ],
            [
             0.3333333333333333,
             "#9c179e"
            ],
            [
             0.4444444444444444,
             "#bd3786"
            ],
            [
             0.5555555555555556,
             "#d8576b"
            ],
            [
             0.6666666666666666,
             "#ed7953"
            ],
            [
             0.7777777777777778,
             "#fb9f3a"
            ],
            [
             0.8888888888888888,
             "#fdca26"
            ],
            [
             1,
             "#f0f921"
            ]
           ],
           "sequentialminus": [
            [
             0,
             "#0d0887"
            ],
            [
             0.1111111111111111,
             "#46039f"
            ],
            [
             0.2222222222222222,
             "#7201a8"
            ],
            [
             0.3333333333333333,
             "#9c179e"
            ],
            [
             0.4444444444444444,
             "#bd3786"
            ],
            [
             0.5555555555555556,
             "#d8576b"
            ],
            [
             0.6666666666666666,
             "#ed7953"
            ],
            [
             0.7777777777777778,
             "#fb9f3a"
            ],
            [
             0.8888888888888888,
             "#fdca26"
            ],
            [
             1,
             "#f0f921"
            ]
           ]
          },
          "colorway": [
           "#636efa",
           "#EF553B",
           "#00cc96",
           "#ab63fa",
           "#FFA15A",
           "#19d3f3",
           "#FF6692",
           "#B6E880",
           "#FF97FF",
           "#FECB52"
          ],
          "font": {
           "color": "#2a3f5f"
          },
          "geo": {
           "bgcolor": "white",
           "lakecolor": "white",
           "landcolor": "#E5ECF6",
           "showlakes": true,
           "showland": true,
           "subunitcolor": "white"
          },
          "hoverlabel": {
           "align": "left"
          },
          "hovermode": "closest",
          "mapbox": {
           "style": "light"
          },
          "paper_bgcolor": "white",
          "plot_bgcolor": "#E5ECF6",
          "polar": {
           "angularaxis": {
            "gridcolor": "white",
            "linecolor": "white",
            "ticks": ""
           },
           "bgcolor": "#E5ECF6",
           "radialaxis": {
            "gridcolor": "white",
            "linecolor": "white",
            "ticks": ""
           }
          },
          "scene": {
           "xaxis": {
            "backgroundcolor": "#E5ECF6",
            "gridcolor": "white",
            "gridwidth": 2,
            "linecolor": "white",
            "showbackground": true,
            "ticks": "",
            "zerolinecolor": "white"
           },
           "yaxis": {
            "backgroundcolor": "#E5ECF6",
            "gridcolor": "white",
            "gridwidth": 2,
            "linecolor": "white",
            "showbackground": true,
            "ticks": "",
            "zerolinecolor": "white"
           },
           "zaxis": {
            "backgroundcolor": "#E5ECF6",
            "gridcolor": "white",
            "gridwidth": 2,
            "linecolor": "white",
            "showbackground": true,
            "ticks": "",
            "zerolinecolor": "white"
           }
          },
          "shapedefaults": {
           "line": {
            "color": "#2a3f5f"
           }
          },
          "ternary": {
           "aaxis": {
            "gridcolor": "white",
            "linecolor": "white",
            "ticks": ""
           },
           "baxis": {
            "gridcolor": "white",
            "linecolor": "white",
            "ticks": ""
           },
           "bgcolor": "#E5ECF6",
           "caxis": {
            "gridcolor": "white",
            "linecolor": "white",
            "ticks": ""
           }
          },
          "title": {
           "x": 0.05
          },
          "xaxis": {
           "automargin": true,
           "gridcolor": "white",
           "linecolor": "white",
           "ticks": "",
           "title": {
            "standoff": 15
           },
           "zerolinecolor": "white",
           "zerolinewidth": 2
          },
          "yaxis": {
           "automargin": true,
           "gridcolor": "white",
           "linecolor": "white",
           "ticks": "",
           "title": {
            "standoff": 15
           },
           "zerolinecolor": "white",
           "zerolinewidth": 2
          }
         }
        }
       }
      }
     },
     "metadata": {},
     "output_type": "display_data"
    }
   ],
   "source": [
    "# Prepare gender and age counts and percentages\n",
    "gender_counts = df_hu['Gender'].value_counts()\n",
    "gender_labels = gender_counts.index\n",
    "gender_labels_en = ['Male' if g == 'férfi' else 'Female' for g in gender_labels]\n",
    "gender = gender_counts / gender_counts.sum() * 100\n",
    "\n",
    "age_counts = df_hu['Age'].value_counts().sort_index()\n",
    "age = age_counts / age_counts.sum() * 100\n",
    "\n",
    "# Gender pie with clean hover labels\n",
    "gender_pie = go.Pie(\n",
    "    labels=gender_labels_en,\n",
    "    values=gender.values,\n",
    "    name='Gender',\n",
    "    hole=0.33,\n",
    "    title='Gender',\n",
    "    customdata=np.stack([gender_labels_en, gender_counts.values, gender.values], axis=-1),\n",
    "    textinfo='text',\n",
    "    textfont=dict(size=28),\n",
    "    text=[f\"{label}<br>n={int(n)}<br>{p:.1f}%\" for label, n, p in zip(gender_labels_en, gender_counts.values, gender.values)],\n",
    ")\n",
    "\n",
    "# Age pie with clean hover labels\n",
    "age_pie = go.Pie(\n",
    "    labels=age.index,\n",
    "    values=age.values,\n",
    "    name='Age',\n",
    "    hole=0.33,\n",
    "    title='Age',\n",
    "    customdata=np.stack([age.index, age_counts.values, age.values], axis=-1),\n",
    "    textinfo='text',\n",
    "    textfont=dict(size=28),\n",
    "    # hovertemplate='<b>%{customdata[0]}</b><br>n=%{customdata[1]}<br>%{customdata[2]:.1f}%<extra></extra>',\n",
    "    text=[f\"{label}<br>n={int(n)}<br>{p:.1f}%\" for label, n, p in zip(age.index, age_counts.values, age.values)],\n",
    ")\n",
    "\n",
    "# Create subplot with 1 row and 2 columns\n",
    "fig = make_subplots(\n",
    "    rows=1, cols=2, specs=[[{'type':'domain'}, {'type':'domain'}]],\n",
    "    subplot_titles=['Gender Distribution', 'Age Distribution']\n",
    ")\n",
    "\n",
    "fig.add_trace(gender_pie, 1, 1)\n",
    "fig.add_trace(age_pie, 1, 2)\n",
    "\n",
    "fig.update_layout(\n",
    "    # title_text='Gender and Age Distribution',\n",
    "    font = dict(family=\"Times New Roman, serif\", size=32, color='black'),\n",
    "    margin=dict(l=0, r=0, t=0, b=0),\n",
    "    showlegend=False,\n",
    "    legend=dict(\n",
    "        font=dict(size=28),\n",
    "        orientation='v',\n",
    "        x=0.5,\n",
    "        xanchor='center',\n",
    "        y=1,\n",
    "        yanchor='top'\n",
    "    ),\n",
    "    annotations=[\n",
    "        dict(\n",
    "            text=f'No. of participants: {df_hu.shape[0]}',\n",
    "            x=0.5, y=0, xref='paper', yref='paper',\n",
    "            showarrow=False, font=dict(size=28), align='center'\n",
    "        )\n",
    "    ]\n",
    ")\n",
    "\n",
    "fig.show()\n",
    "\n",
    "# Save it as html\n",
    "fig.write_html('demographics_hu.html')\n",
    "\n",
    "# Save it as image\n",
    "fig.write_image('demographics_hu.png', scale=3, width=1000, height=500)\n"
   ]
  },
  {
   "cell_type": "code",
   "execution_count": 2259,
   "id": "b68dd42b",
   "metadata": {},
   "outputs": [
    {
     "data": {
      "application/vnd.plotly.v1+json": {
       "config": {
        "plotlyServerURL": "https://plot.ly"
       },
       "data": [
        {
         "customdata": [
          [
           "Female",
           "11",
           "55.00000000000001"
          ],
          [
           "Male",
           "9",
           "45.0"
          ]
         ],
         "domain": {
          "x": [
           0,
           0.45
          ],
          "y": [
           0,
           1
          ]
         },
         "hole": 0.33,
         "labels": [
          "Female",
          "Male"
         ],
         "marker": {
          "colors": [
           "#C46BE1",
           "#4090C2"
          ]
         },
         "name": "Gender",
         "text": [
          "Female<br>n=11<br>55.0%",
          "Male<br>n=9<br>45.0%"
         ],
         "textfont": {
          "size": 28
         },
         "textinfo": "text",
         "title": {
          "text": "Gender"
         },
         "type": "pie",
         "values": {
          "bdata": "AQAAAACAS0AAAAAAAIBGQA==",
          "dtype": "f8"
         }
        },
        {
         "customdata": [
          [
           "25-35",
           12,
           60
          ],
          [
           "35-45",
           3,
           15
          ],
          [
           "45-55",
           5,
           25
          ]
         ],
         "domain": {
          "x": [
           0.55,
           1
          ],
          "y": [
           0,
           1
          ]
         },
         "hole": 0.33,
         "labels": [
          "25-35",
          "35-45",
          "45-55"
         ],
         "marker": {
          "colors": [
           "#77D6C6",
           "#4DAF9E",
           "#006B5F"
          ]
         },
         "name": "Age",
         "text": [
          "25-35<br>n=12<br>60.0%",
          "35-45<br>n=3<br>15.0%",
          "45-55<br>n=5<br>25.0%"
         ],
         "textfont": {
          "size": 28
         },
         "textinfo": "text",
         "title": {
          "text": "Age"
         },
         "type": "pie",
         "values": {
          "bdata": "AAAAAAAATkAAAAAAAAAuQAAAAAAAADlA",
          "dtype": "f8"
         }
        }
       ],
       "layout": {
        "annotations": [
         {
          "align": "center",
          "font": {
           "size": 28
          },
          "showarrow": false,
          "text": "No. of participants: 20",
          "x": 0.5,
          "xanchor": "center",
          "xref": "paper",
          "y": 0,
          "yanchor": "bottom",
          "yref": "paper"
         },
         {
          "align": "center",
          "font": {
           "size": 28
          },
          "showarrow": false,
          "text": "No. of participants: 20",
          "x": 0.5,
          "xanchor": "center",
          "xref": "paper",
          "y": 0,
          "yanchor": "bottom",
          "yref": "paper"
         }
        ],
        "font": {
         "color": "black",
         "family": "Times New Roman, serif",
         "size": 32
        },
        "legend": {
         "font": {
          "size": 28
         },
         "orientation": "v",
         "x": 0.5,
         "xanchor": "center",
         "y": 1,
         "yanchor": "top"
        },
        "margin": {
         "b": 0,
         "l": 0,
         "r": 0,
         "t": 0
        },
        "showlegend": false,
        "template": {
         "data": {
          "bar": [
           {
            "error_x": {
             "color": "#2a3f5f"
            },
            "error_y": {
             "color": "#2a3f5f"
            },
            "marker": {
             "line": {
              "color": "#E5ECF6",
              "width": 0.5
             },
             "pattern": {
              "fillmode": "overlay",
              "size": 10,
              "solidity": 0.2
             }
            },
            "type": "bar"
           }
          ],
          "barpolar": [
           {
            "marker": {
             "line": {
              "color": "#E5ECF6",
              "width": 0.5
             },
             "pattern": {
              "fillmode": "overlay",
              "size": 10,
              "solidity": 0.2
             }
            },
            "type": "barpolar"
           }
          ],
          "carpet": [
           {
            "aaxis": {
             "endlinecolor": "#2a3f5f",
             "gridcolor": "white",
             "linecolor": "white",
             "minorgridcolor": "white",
             "startlinecolor": "#2a3f5f"
            },
            "baxis": {
             "endlinecolor": "#2a3f5f",
             "gridcolor": "white",
             "linecolor": "white",
             "minorgridcolor": "white",
             "startlinecolor": "#2a3f5f"
            },
            "type": "carpet"
           }
          ],
          "choropleth": [
           {
            "colorbar": {
             "outlinewidth": 0,
             "ticks": ""
            },
            "type": "choropleth"
           }
          ],
          "contour": [
           {
            "colorbar": {
             "outlinewidth": 0,
             "ticks": ""
            },
            "colorscale": [
             [
              0,
              "#0d0887"
             ],
             [
              0.1111111111111111,
              "#46039f"
             ],
             [
              0.2222222222222222,
              "#7201a8"
             ],
             [
              0.3333333333333333,
              "#9c179e"
             ],
             [
              0.4444444444444444,
              "#bd3786"
             ],
             [
              0.5555555555555556,
              "#d8576b"
             ],
             [
              0.6666666666666666,
              "#ed7953"
             ],
             [
              0.7777777777777778,
              "#fb9f3a"
             ],
             [
              0.8888888888888888,
              "#fdca26"
             ],
             [
              1,
              "#f0f921"
             ]
            ],
            "type": "contour"
           }
          ],
          "contourcarpet": [
           {
            "colorbar": {
             "outlinewidth": 0,
             "ticks": ""
            },
            "type": "contourcarpet"
           }
          ],
          "heatmap": [
           {
            "colorbar": {
             "outlinewidth": 0,
             "ticks": ""
            },
            "colorscale": [
             [
              0,
              "#0d0887"
             ],
             [
              0.1111111111111111,
              "#46039f"
             ],
             [
              0.2222222222222222,
              "#7201a8"
             ],
             [
              0.3333333333333333,
              "#9c179e"
             ],
             [
              0.4444444444444444,
              "#bd3786"
             ],
             [
              0.5555555555555556,
              "#d8576b"
             ],
             [
              0.6666666666666666,
              "#ed7953"
             ],
             [
              0.7777777777777778,
              "#fb9f3a"
             ],
             [
              0.8888888888888888,
              "#fdca26"
             ],
             [
              1,
              "#f0f921"
             ]
            ],
            "type": "heatmap"
           }
          ],
          "histogram": [
           {
            "marker": {
             "pattern": {
              "fillmode": "overlay",
              "size": 10,
              "solidity": 0.2
             }
            },
            "type": "histogram"
           }
          ],
          "histogram2d": [
           {
            "colorbar": {
             "outlinewidth": 0,
             "ticks": ""
            },
            "colorscale": [
             [
              0,
              "#0d0887"
             ],
             [
              0.1111111111111111,
              "#46039f"
             ],
             [
              0.2222222222222222,
              "#7201a8"
             ],
             [
              0.3333333333333333,
              "#9c179e"
             ],
             [
              0.4444444444444444,
              "#bd3786"
             ],
             [
              0.5555555555555556,
              "#d8576b"
             ],
             [
              0.6666666666666666,
              "#ed7953"
             ],
             [
              0.7777777777777778,
              "#fb9f3a"
             ],
             [
              0.8888888888888888,
              "#fdca26"
             ],
             [
              1,
              "#f0f921"
             ]
            ],
            "type": "histogram2d"
           }
          ],
          "histogram2dcontour": [
           {
            "colorbar": {
             "outlinewidth": 0,
             "ticks": ""
            },
            "colorscale": [
             [
              0,
              "#0d0887"
             ],
             [
              0.1111111111111111,
              "#46039f"
             ],
             [
              0.2222222222222222,
              "#7201a8"
             ],
             [
              0.3333333333333333,
              "#9c179e"
             ],
             [
              0.4444444444444444,
              "#bd3786"
             ],
             [
              0.5555555555555556,
              "#d8576b"
             ],
             [
              0.6666666666666666,
              "#ed7953"
             ],
             [
              0.7777777777777778,
              "#fb9f3a"
             ],
             [
              0.8888888888888888,
              "#fdca26"
             ],
             [
              1,
              "#f0f921"
             ]
            ],
            "type": "histogram2dcontour"
           }
          ],
          "mesh3d": [
           {
            "colorbar": {
             "outlinewidth": 0,
             "ticks": ""
            },
            "type": "mesh3d"
           }
          ],
          "parcoords": [
           {
            "line": {
             "colorbar": {
              "outlinewidth": 0,
              "ticks": ""
             }
            },
            "type": "parcoords"
           }
          ],
          "pie": [
           {
            "automargin": true,
            "type": "pie"
           }
          ],
          "scatter": [
           {
            "fillpattern": {
             "fillmode": "overlay",
             "size": 10,
             "solidity": 0.2
            },
            "type": "scatter"
           }
          ],
          "scatter3d": [
           {
            "line": {
             "colorbar": {
              "outlinewidth": 0,
              "ticks": ""
             }
            },
            "marker": {
             "colorbar": {
              "outlinewidth": 0,
              "ticks": ""
             }
            },
            "type": "scatter3d"
           }
          ],
          "scattercarpet": [
           {
            "marker": {
             "colorbar": {
              "outlinewidth": 0,
              "ticks": ""
             }
            },
            "type": "scattercarpet"
           }
          ],
          "scattergeo": [
           {
            "marker": {
             "colorbar": {
              "outlinewidth": 0,
              "ticks": ""
             }
            },
            "type": "scattergeo"
           }
          ],
          "scattergl": [
           {
            "marker": {
             "colorbar": {
              "outlinewidth": 0,
              "ticks": ""
             }
            },
            "type": "scattergl"
           }
          ],
          "scattermap": [
           {
            "marker": {
             "colorbar": {
              "outlinewidth": 0,
              "ticks": ""
             }
            },
            "type": "scattermap"
           }
          ],
          "scattermapbox": [
           {
            "marker": {
             "colorbar": {
              "outlinewidth": 0,
              "ticks": ""
             }
            },
            "type": "scattermapbox"
           }
          ],
          "scatterpolar": [
           {
            "marker": {
             "colorbar": {
              "outlinewidth": 0,
              "ticks": ""
             }
            },
            "type": "scatterpolar"
           }
          ],
          "scatterpolargl": [
           {
            "marker": {
             "colorbar": {
              "outlinewidth": 0,
              "ticks": ""
             }
            },
            "type": "scatterpolargl"
           }
          ],
          "scatterternary": [
           {
            "marker": {
             "colorbar": {
              "outlinewidth": 0,
              "ticks": ""
             }
            },
            "type": "scatterternary"
           }
          ],
          "surface": [
           {
            "colorbar": {
             "outlinewidth": 0,
             "ticks": ""
            },
            "colorscale": [
             [
              0,
              "#0d0887"
             ],
             [
              0.1111111111111111,
              "#46039f"
             ],
             [
              0.2222222222222222,
              "#7201a8"
             ],
             [
              0.3333333333333333,
              "#9c179e"
             ],
             [
              0.4444444444444444,
              "#bd3786"
             ],
             [
              0.5555555555555556,
              "#d8576b"
             ],
             [
              0.6666666666666666,
              "#ed7953"
             ],
             [
              0.7777777777777778,
              "#fb9f3a"
             ],
             [
              0.8888888888888888,
              "#fdca26"
             ],
             [
              1,
              "#f0f921"
             ]
            ],
            "type": "surface"
           }
          ],
          "table": [
           {
            "cells": {
             "fill": {
              "color": "#EBF0F8"
             },
             "line": {
              "color": "white"
             }
            },
            "header": {
             "fill": {
              "color": "#C8D4E3"
             },
             "line": {
              "color": "white"
             }
            },
            "type": "table"
           }
          ]
         },
         "layout": {
          "annotationdefaults": {
           "arrowcolor": "#2a3f5f",
           "arrowhead": 0,
           "arrowwidth": 1
          },
          "autotypenumbers": "strict",
          "coloraxis": {
           "colorbar": {
            "outlinewidth": 0,
            "ticks": ""
           }
          },
          "colorscale": {
           "diverging": [
            [
             0,
             "#8e0152"
            ],
            [
             0.1,
             "#c51b7d"
            ],
            [
             0.2,
             "#de77ae"
            ],
            [
             0.3,
             "#f1b6da"
            ],
            [
             0.4,
             "#fde0ef"
            ],
            [
             0.5,
             "#f7f7f7"
            ],
            [
             0.6,
             "#e6f5d0"
            ],
            [
             0.7,
             "#b8e186"
            ],
            [
             0.8,
             "#7fbc41"
            ],
            [
             0.9,
             "#4d9221"
            ],
            [
             1,
             "#276419"
            ]
           ],
           "sequential": [
            [
             0,
             "#0d0887"
            ],
            [
             0.1111111111111111,
             "#46039f"
            ],
            [
             0.2222222222222222,
             "#7201a8"
            ],
            [
             0.3333333333333333,
             "#9c179e"
            ],
            [
             0.4444444444444444,
             "#bd3786"
            ],
            [
             0.5555555555555556,
             "#d8576b"
            ],
            [
             0.6666666666666666,
             "#ed7953"
            ],
            [
             0.7777777777777778,
             "#fb9f3a"
            ],
            [
             0.8888888888888888,
             "#fdca26"
            ],
            [
             1,
             "#f0f921"
            ]
           ],
           "sequentialminus": [
            [
             0,
             "#0d0887"
            ],
            [
             0.1111111111111111,
             "#46039f"
            ],
            [
             0.2222222222222222,
             "#7201a8"
            ],
            [
             0.3333333333333333,
             "#9c179e"
            ],
            [
             0.4444444444444444,
             "#bd3786"
            ],
            [
             0.5555555555555556,
             "#d8576b"
            ],
            [
             0.6666666666666666,
             "#ed7953"
            ],
            [
             0.7777777777777778,
             "#fb9f3a"
            ],
            [
             0.8888888888888888,
             "#fdca26"
            ],
            [
             1,
             "#f0f921"
            ]
           ]
          },
          "colorway": [
           "#636efa",
           "#EF553B",
           "#00cc96",
           "#ab63fa",
           "#FFA15A",
           "#19d3f3",
           "#FF6692",
           "#B6E880",
           "#FF97FF",
           "#FECB52"
          ],
          "font": {
           "color": "#2a3f5f"
          },
          "geo": {
           "bgcolor": "white",
           "lakecolor": "white",
           "landcolor": "#E5ECF6",
           "showlakes": true,
           "showland": true,
           "subunitcolor": "white"
          },
          "hoverlabel": {
           "align": "left"
          },
          "hovermode": "closest",
          "mapbox": {
           "style": "light"
          },
          "paper_bgcolor": "white",
          "plot_bgcolor": "#E5ECF6",
          "polar": {
           "angularaxis": {
            "gridcolor": "white",
            "linecolor": "white",
            "ticks": ""
           },
           "bgcolor": "#E5ECF6",
           "radialaxis": {
            "gridcolor": "white",
            "linecolor": "white",
            "ticks": ""
           }
          },
          "scene": {
           "xaxis": {
            "backgroundcolor": "#E5ECF6",
            "gridcolor": "white",
            "gridwidth": 2,
            "linecolor": "white",
            "showbackground": true,
            "ticks": "",
            "zerolinecolor": "white"
           },
           "yaxis": {
            "backgroundcolor": "#E5ECF6",
            "gridcolor": "white",
            "gridwidth": 2,
            "linecolor": "white",
            "showbackground": true,
            "ticks": "",
            "zerolinecolor": "white"
           },
           "zaxis": {
            "backgroundcolor": "#E5ECF6",
            "gridcolor": "white",
            "gridwidth": 2,
            "linecolor": "white",
            "showbackground": true,
            "ticks": "",
            "zerolinecolor": "white"
           }
          },
          "shapedefaults": {
           "line": {
            "color": "#2a3f5f"
           }
          },
          "ternary": {
           "aaxis": {
            "gridcolor": "white",
            "linecolor": "white",
            "ticks": ""
           },
           "baxis": {
            "gridcolor": "white",
            "linecolor": "white",
            "ticks": ""
           },
           "bgcolor": "#E5ECF6",
           "caxis": {
            "gridcolor": "white",
            "linecolor": "white",
            "ticks": ""
           }
          },
          "title": {
           "x": 0.05
          },
          "xaxis": {
           "automargin": true,
           "gridcolor": "white",
           "linecolor": "white",
           "ticks": "",
           "title": {
            "standoff": 15
           },
           "zerolinecolor": "white",
           "zerolinewidth": 2
          },
          "yaxis": {
           "automargin": true,
           "gridcolor": "white",
           "linecolor": "white",
           "ticks": "",
           "title": {
            "standoff": 15
           },
           "zerolinecolor": "white",
           "zerolinewidth": 2
          }
         }
        }
       }
      }
     },
     "metadata": {},
     "output_type": "display_data"
    }
   ],
   "source": [
    "# Custom colors\n",
    "female_color = \"#C46BE1\"\n",
    "male_color = \"#4090C2\"\n",
    "neutral_color = \"#949494\"\n",
    "\n",
    "color_map = {\n",
    "    'Men': female_color,\n",
    "    'Women': male_color,\n",
    "    'Equal': neutral_color\n",
    "}\n",
    "\n",
    "# Three shades of teal for age groups\n",
    "gender_colors = [female_color, male_color]\n",
    "age_shades = ['#77D6C6', '#4DAF9E', '#006B5F']\n",
    "\n",
    "# Prepare gender and age counts and percentages\n",
    "gender_counts = df_hu['Gender'].value_counts()\n",
    "gender_labels = gender_counts.index\n",
    "gender_labels_en = ['Male' if g == 'férfi' else 'Female' for g in gender_labels]\n",
    "gender = gender_counts / gender_counts.sum() * 100\n",
    "\n",
    "age_counts = df_hu['Age'].value_counts().sort_index()\n",
    "age = age_counts / age_counts.sum() * 100\n",
    "\n",
    "# Gender pie with custom colors\n",
    "gender_pie = go.Pie(\n",
    "    labels=gender_labels_en,\n",
    "    values=gender.values,\n",
    "    name='Gender',\n",
    "    hole=0.33,\n",
    "    title='Gender',\n",
    "    marker=dict(colors=gender_colors),\n",
    "    customdata=np.stack([gender_labels_en, gender_counts.values, gender.values], axis=-1),\n",
    "    textinfo='text',\n",
    "    textfont=dict(size=28),\n",
    "    text=[f\"{label}<br>n={int(n)}<br>{p:.1f}%\" for label, n, p in zip(gender_labels_en, gender_counts.values, gender.values)],\n",
    ")\n",
    "\n",
    "# Age pie with custom teal shades (repeat if more age groups)\n",
    "age_colors = (age_shades * ((len(age) // len(age_shades)) + 1))[:len(age)]\n",
    "age_pie = go.Pie(\n",
    "    labels=age.index,\n",
    "    values=age.values,\n",
    "    name='Age',\n",
    "    hole=0.33,\n",
    "    title='Age',\n",
    "    marker=dict(colors=age_colors),\n",
    "    customdata=np.stack([age.index, age_counts.values, age.values], axis=-1),\n",
    "    textinfo='text',\n",
    "    textfont=dict(size=28),\n",
    "    text=[f\"{label}<br>n={int(n)}<br>{p:.1f}%\" for label, n, p in zip(age.index, age_counts.values, age.values)],\n",
    ")\n",
    "\n",
    "# Create subplot with 1 row and 2 columns\n",
    "fig = make_subplots(\n",
    "    rows=1, cols=2, specs=[[{'type':'domain'}, {'type':'domain'}]],\n",
    "    subplot_titles=['Gender Distribution', 'Age Distribution']\n",
    ")\n",
    "\n",
    "fig.add_trace(gender_pie, 1, 1)\n",
    "fig.add_trace(age_pie, 1, 2)\n",
    "\n",
    "fig.update_layout(\n",
    "    font = dict(family=\"Times New Roman, serif\", size=32, color='black'),\n",
    "    margin=dict(l=0, r=0, t=0, b=0),\n",
    "    showlegend=False,\n",
    "    legend=dict(\n",
    "        font=dict(size=28),\n",
    "        orientation='v',\n",
    "        x=0.5,\n",
    "        xanchor='center',\n",
    "        y=1,\n",
    "        yanchor='top'\n",
    "    ),\n",
    "    annotations=[\n",
    "        dict(\n",
    "            text=f'No. of participants: {df_hu.shape[0]}',\n",
    "            x=0.5, y=0, xref='paper', yref='paper',\n",
    "            showarrow=False, font=dict(size=28), align='center'\n",
    "        )\n",
    "    ]\n",
    ")\n",
    "\n",
    "fig.show()\n",
    "\n",
    "# Save it as html\n",
    "fig.write_html('demographics_hu.html')\n",
    "\n",
    "# Save it as image\n",
    "fig.write_image('demographics_hu.png', scale=3, width=1000, height=500)"
   ]
  },
  {
   "cell_type": "markdown",
   "id": "dd4e21e1",
   "metadata": {},
   "source": [
    "### Analysis"
   ]
  },
  {
   "cell_type": "markdown",
   "id": "9b89d98c",
   "metadata": {},
   "source": [
    "#### Two Sample T-Test by Gender"
   ]
  },
  {
   "cell_type": "code",
   "execution_count": 2260,
   "id": "4929717e",
   "metadata": {},
   "outputs": [
    {
     "name": "stdout",
     "output_type": "stream",
     "text": [
      "Number of male participants: 9\n",
      "Number of female participants: 11\n"
     ]
    },
    {
     "data": {
      "application/vnd.plotly.v1+json": {
       "config": {
        "plotlyServerURL": "https://plot.ly"
       },
       "data": [
        {
         "marker": {
          "color": "#1f77b4"
         },
         "name": "Male",
         "type": "bar",
         "x": [
          "<b>nővér+</b>",
          "kozmetikus",
          "házvezető",
          "légiutas-kísérő",
          "takarító",
          "gondozó",
          "pénztáros",
          "modell",
          "fodrász",
          "bolti eladó",
          "HR-es",
          "recepciós",
          "dietetikus",
          "könyvelő",
          "ápoló",
          "<b>PR munkatárs+</b>",
          "jegyárus",
          "felszolgáló",
          "diák",
          "tanár",
          "bíró",
          "titkár",
          "tudós",
          "pincér",
          "orvos",
          "menedzser",
          "ügyész",
          "kertész",
          "kórboncnok",
          "rendező",
          "szakács",
          "professzor",
          "vízimentő",
          "mérnök",
          "vezérigazgató",
          "<b>építész+</b>",
          "programozó",
          "<b>rendőr*</b>",
          "munkás",
          "földműves",
          "pilóta",
          "<b>katona+</b>",
          "biztonsági őr",
          "tűzoltó"
         ],
         "y": {
          "bdata": "HMdxHMdxBECrqqqqqqoCQBzHcRzHcfw/q6qqqqqq+j/HcRzHcRz3P8dxHMdxHPc/VVVVVVVV9T9VVVVVVVX1PxzHcRzHcew/AAAAAAAA8D8AAAAAAADwP1VVVVVVVeU/chzHcRzH4T9VVVVVVVXlP1VVVVVVVeU/VVVVVVVV5T8cx3Ecx3HcPxzHcRzHcbw/AAAAAAAAAAAcx3Ecx3G8v1VVVVVVVdW/HMdxHMdx3L9VVVVVVVXVvxzHcRzHcdy/VVVVVVVV5b9VVVVVVVXlv1VVVVVVVeW/OY7jOI7j6L9yHMdxHMfxvxzHcRzHcey/AAAAAAAA8L9yHMdxHMfxv+Q4juM4jvO/VVVVVVVV9b8AAAAAAADwv6uqqqqqqvq/OY7jOI7j+L8cx3Ecx3H8v1VVVVVVVfW/OY7jOI7j+L85juM4juP4vzmO4ziO4wDAjuM4juM4/r8AAAAAAAAAwA==",
          "dtype": "f8"
         }
        },
        {
         "marker": {
          "color": "#e377c2"
         },
         "name": "Female",
         "type": "bar",
         "x": [
          "<b>nővér+</b>",
          "kozmetikus",
          "házvezető",
          "légiutas-kísérő",
          "takarító",
          "gondozó",
          "pénztáros",
          "modell",
          "fodrász",
          "bolti eladó",
          "HR-es",
          "recepciós",
          "dietetikus",
          "könyvelő",
          "ápoló",
          "<b>PR munkatárs+</b>",
          "jegyárus",
          "felszolgáló",
          "diák",
          "tanár",
          "bíró",
          "titkár",
          "tudós",
          "pincér",
          "orvos",
          "menedzser",
          "ügyész",
          "kertész",
          "kórboncnok",
          "rendező",
          "szakács",
          "professzor",
          "vízimentő",
          "mérnök",
          "vezérigazgató",
          "<b>építész+</b>",
          "programozó",
          "<b>rendőr*</b>",
          "munkás",
          "földműves",
          "pilóta",
          "<b>katona+</b>",
          "biztonsági őr",
          "tűzoltó"
         ],
         "y": {
          "bdata": "jC666KKL/j+66KKLLroAQBdddNFFF/0/6aKLLrro8j900UUXXXTxP0YXXXTRRec/L7rooosu6j9GF1100UXnP3TRRRdddPE/F1100UUX7T8vuuiiiy7qP1100UUXXeQ/RhdddNFF5z9GF1100UXXP3TRRRdddNE/AAAAAAAAAAAAAAAAAAAAAHTRRRdddNE/AAAAAAAAAABGF1100UW3P0YXXXTRRce/RhdddNFFx78XXXTRRRfdvxdddNFFF92/F1100UUX3b9ddNFFF13kv0YXXXTRRee/L7rooosu6r900UUXXXThvy+66KKLLuq/L7rooosu6r9GF1100UXnvwAAAAAAAPC/AAAAAAAA8L9GF1100UX3vxdddNFFF+2/6aKLLrro8r8AAAAAAADwv0YXXXTRRfe/XXTRRRdd9L+jiy666KL7v7rooosuuvi/jC666KKL/r/poosuuugCwA==",
          "dtype": "f8"
         }
        }
       ],
       "layout": {
        "barmode": "group",
        "template": {
         "data": {
          "bar": [
           {
            "error_x": {
             "color": "#2a3f5f"
            },
            "error_y": {
             "color": "#2a3f5f"
            },
            "marker": {
             "line": {
              "color": "white",
              "width": 0.5
             },
             "pattern": {
              "fillmode": "overlay",
              "size": 10,
              "solidity": 0.2
             }
            },
            "type": "bar"
           }
          ],
          "barpolar": [
           {
            "marker": {
             "line": {
              "color": "white",
              "width": 0.5
             },
             "pattern": {
              "fillmode": "overlay",
              "size": 10,
              "solidity": 0.2
             }
            },
            "type": "barpolar"
           }
          ],
          "carpet": [
           {
            "aaxis": {
             "endlinecolor": "#2a3f5f",
             "gridcolor": "#C8D4E3",
             "linecolor": "#C8D4E3",
             "minorgridcolor": "#C8D4E3",
             "startlinecolor": "#2a3f5f"
            },
            "baxis": {
             "endlinecolor": "#2a3f5f",
             "gridcolor": "#C8D4E3",
             "linecolor": "#C8D4E3",
             "minorgridcolor": "#C8D4E3",
             "startlinecolor": "#2a3f5f"
            },
            "type": "carpet"
           }
          ],
          "choropleth": [
           {
            "colorbar": {
             "outlinewidth": 0,
             "ticks": ""
            },
            "type": "choropleth"
           }
          ],
          "contour": [
           {
            "colorbar": {
             "outlinewidth": 0,
             "ticks": ""
            },
            "colorscale": [
             [
              0,
              "#0d0887"
             ],
             [
              0.1111111111111111,
              "#46039f"
             ],
             [
              0.2222222222222222,
              "#7201a8"
             ],
             [
              0.3333333333333333,
              "#9c179e"
             ],
             [
              0.4444444444444444,
              "#bd3786"
             ],
             [
              0.5555555555555556,
              "#d8576b"
             ],
             [
              0.6666666666666666,
              "#ed7953"
             ],
             [
              0.7777777777777778,
              "#fb9f3a"
             ],
             [
              0.8888888888888888,
              "#fdca26"
             ],
             [
              1,
              "#f0f921"
             ]
            ],
            "type": "contour"
           }
          ],
          "contourcarpet": [
           {
            "colorbar": {
             "outlinewidth": 0,
             "ticks": ""
            },
            "type": "contourcarpet"
           }
          ],
          "heatmap": [
           {
            "colorbar": {
             "outlinewidth": 0,
             "ticks": ""
            },
            "colorscale": [
             [
              0,
              "#0d0887"
             ],
             [
              0.1111111111111111,
              "#46039f"
             ],
             [
              0.2222222222222222,
              "#7201a8"
             ],
             [
              0.3333333333333333,
              "#9c179e"
             ],
             [
              0.4444444444444444,
              "#bd3786"
             ],
             [
              0.5555555555555556,
              "#d8576b"
             ],
             [
              0.6666666666666666,
              "#ed7953"
             ],
             [
              0.7777777777777778,
              "#fb9f3a"
             ],
             [
              0.8888888888888888,
              "#fdca26"
             ],
             [
              1,
              "#f0f921"
             ]
            ],
            "type": "heatmap"
           }
          ],
          "histogram": [
           {
            "marker": {
             "pattern": {
              "fillmode": "overlay",
              "size": 10,
              "solidity": 0.2
             }
            },
            "type": "histogram"
           }
          ],
          "histogram2d": [
           {
            "colorbar": {
             "outlinewidth": 0,
             "ticks": ""
            },
            "colorscale": [
             [
              0,
              "#0d0887"
             ],
             [
              0.1111111111111111,
              "#46039f"
             ],
             [
              0.2222222222222222,
              "#7201a8"
             ],
             [
              0.3333333333333333,
              "#9c179e"
             ],
             [
              0.4444444444444444,
              "#bd3786"
             ],
             [
              0.5555555555555556,
              "#d8576b"
             ],
             [
              0.6666666666666666,
              "#ed7953"
             ],
             [
              0.7777777777777778,
              "#fb9f3a"
             ],
             [
              0.8888888888888888,
              "#fdca26"
             ],
             [
              1,
              "#f0f921"
             ]
            ],
            "type": "histogram2d"
           }
          ],
          "histogram2dcontour": [
           {
            "colorbar": {
             "outlinewidth": 0,
             "ticks": ""
            },
            "colorscale": [
             [
              0,
              "#0d0887"
             ],
             [
              0.1111111111111111,
              "#46039f"
             ],
             [
              0.2222222222222222,
              "#7201a8"
             ],
             [
              0.3333333333333333,
              "#9c179e"
             ],
             [
              0.4444444444444444,
              "#bd3786"
             ],
             [
              0.5555555555555556,
              "#d8576b"
             ],
             [
              0.6666666666666666,
              "#ed7953"
             ],
             [
              0.7777777777777778,
              "#fb9f3a"
             ],
             [
              0.8888888888888888,
              "#fdca26"
             ],
             [
              1,
              "#f0f921"
             ]
            ],
            "type": "histogram2dcontour"
           }
          ],
          "mesh3d": [
           {
            "colorbar": {
             "outlinewidth": 0,
             "ticks": ""
            },
            "type": "mesh3d"
           }
          ],
          "parcoords": [
           {
            "line": {
             "colorbar": {
              "outlinewidth": 0,
              "ticks": ""
             }
            },
            "type": "parcoords"
           }
          ],
          "pie": [
           {
            "automargin": true,
            "type": "pie"
           }
          ],
          "scatter": [
           {
            "fillpattern": {
             "fillmode": "overlay",
             "size": 10,
             "solidity": 0.2
            },
            "type": "scatter"
           }
          ],
          "scatter3d": [
           {
            "line": {
             "colorbar": {
              "outlinewidth": 0,
              "ticks": ""
             }
            },
            "marker": {
             "colorbar": {
              "outlinewidth": 0,
              "ticks": ""
             }
            },
            "type": "scatter3d"
           }
          ],
          "scattercarpet": [
           {
            "marker": {
             "colorbar": {
              "outlinewidth": 0,
              "ticks": ""
             }
            },
            "type": "scattercarpet"
           }
          ],
          "scattergeo": [
           {
            "marker": {
             "colorbar": {
              "outlinewidth": 0,
              "ticks": ""
             }
            },
            "type": "scattergeo"
           }
          ],
          "scattergl": [
           {
            "marker": {
             "colorbar": {
              "outlinewidth": 0,
              "ticks": ""
             }
            },
            "type": "scattergl"
           }
          ],
          "scattermap": [
           {
            "marker": {
             "colorbar": {
              "outlinewidth": 0,
              "ticks": ""
             }
            },
            "type": "scattermap"
           }
          ],
          "scattermapbox": [
           {
            "marker": {
             "colorbar": {
              "outlinewidth": 0,
              "ticks": ""
             }
            },
            "type": "scattermapbox"
           }
          ],
          "scatterpolar": [
           {
            "marker": {
             "colorbar": {
              "outlinewidth": 0,
              "ticks": ""
             }
            },
            "type": "scatterpolar"
           }
          ],
          "scatterpolargl": [
           {
            "marker": {
             "colorbar": {
              "outlinewidth": 0,
              "ticks": ""
             }
            },
            "type": "scatterpolargl"
           }
          ],
          "scatterternary": [
           {
            "marker": {
             "colorbar": {
              "outlinewidth": 0,
              "ticks": ""
             }
            },
            "type": "scatterternary"
           }
          ],
          "surface": [
           {
            "colorbar": {
             "outlinewidth": 0,
             "ticks": ""
            },
            "colorscale": [
             [
              0,
              "#0d0887"
             ],
             [
              0.1111111111111111,
              "#46039f"
             ],
             [
              0.2222222222222222,
              "#7201a8"
             ],
             [
              0.3333333333333333,
              "#9c179e"
             ],
             [
              0.4444444444444444,
              "#bd3786"
             ],
             [
              0.5555555555555556,
              "#d8576b"
             ],
             [
              0.6666666666666666,
              "#ed7953"
             ],
             [
              0.7777777777777778,
              "#fb9f3a"
             ],
             [
              0.8888888888888888,
              "#fdca26"
             ],
             [
              1,
              "#f0f921"
             ]
            ],
            "type": "surface"
           }
          ],
          "table": [
           {
            "cells": {
             "fill": {
              "color": "#EBF0F8"
             },
             "line": {
              "color": "white"
             }
            },
            "header": {
             "fill": {
              "color": "#C8D4E3"
             },
             "line": {
              "color": "white"
             }
            },
            "type": "table"
           }
          ]
         },
         "layout": {
          "annotationdefaults": {
           "arrowcolor": "#2a3f5f",
           "arrowhead": 0,
           "arrowwidth": 1
          },
          "autotypenumbers": "strict",
          "coloraxis": {
           "colorbar": {
            "outlinewidth": 0,
            "ticks": ""
           }
          },
          "colorscale": {
           "diverging": [
            [
             0,
             "#8e0152"
            ],
            [
             0.1,
             "#c51b7d"
            ],
            [
             0.2,
             "#de77ae"
            ],
            [
             0.3,
             "#f1b6da"
            ],
            [
             0.4,
             "#fde0ef"
            ],
            [
             0.5,
             "#f7f7f7"
            ],
            [
             0.6,
             "#e6f5d0"
            ],
            [
             0.7,
             "#b8e186"
            ],
            [
             0.8,
             "#7fbc41"
            ],
            [
             0.9,
             "#4d9221"
            ],
            [
             1,
             "#276419"
            ]
           ],
           "sequential": [
            [
             0,
             "#0d0887"
            ],
            [
             0.1111111111111111,
             "#46039f"
            ],
            [
             0.2222222222222222,
             "#7201a8"
            ],
            [
             0.3333333333333333,
             "#9c179e"
            ],
            [
             0.4444444444444444,
             "#bd3786"
            ],
            [
             0.5555555555555556,
             "#d8576b"
            ],
            [
             0.6666666666666666,
             "#ed7953"
            ],
            [
             0.7777777777777778,
             "#fb9f3a"
            ],
            [
             0.8888888888888888,
             "#fdca26"
            ],
            [
             1,
             "#f0f921"
            ]
           ],
           "sequentialminus": [
            [
             0,
             "#0d0887"
            ],
            [
             0.1111111111111111,
             "#46039f"
            ],
            [
             0.2222222222222222,
             "#7201a8"
            ],
            [
             0.3333333333333333,
             "#9c179e"
            ],
            [
             0.4444444444444444,
             "#bd3786"
            ],
            [
             0.5555555555555556,
             "#d8576b"
            ],
            [
             0.6666666666666666,
             "#ed7953"
            ],
            [
             0.7777777777777778,
             "#fb9f3a"
            ],
            [
             0.8888888888888888,
             "#fdca26"
            ],
            [
             1,
             "#f0f921"
            ]
           ]
          },
          "colorway": [
           "#636efa",
           "#EF553B",
           "#00cc96",
           "#ab63fa",
           "#FFA15A",
           "#19d3f3",
           "#FF6692",
           "#B6E880",
           "#FF97FF",
           "#FECB52"
          ],
          "font": {
           "color": "#2a3f5f"
          },
          "geo": {
           "bgcolor": "white",
           "lakecolor": "white",
           "landcolor": "white",
           "showlakes": true,
           "showland": true,
           "subunitcolor": "#C8D4E3"
          },
          "hoverlabel": {
           "align": "left"
          },
          "hovermode": "closest",
          "mapbox": {
           "style": "light"
          },
          "paper_bgcolor": "white",
          "plot_bgcolor": "white",
          "polar": {
           "angularaxis": {
            "gridcolor": "#EBF0F8",
            "linecolor": "#EBF0F8",
            "ticks": ""
           },
           "bgcolor": "white",
           "radialaxis": {
            "gridcolor": "#EBF0F8",
            "linecolor": "#EBF0F8",
            "ticks": ""
           }
          },
          "scene": {
           "xaxis": {
            "backgroundcolor": "white",
            "gridcolor": "#DFE8F3",
            "gridwidth": 2,
            "linecolor": "#EBF0F8",
            "showbackground": true,
            "ticks": "",
            "zerolinecolor": "#EBF0F8"
           },
           "yaxis": {
            "backgroundcolor": "white",
            "gridcolor": "#DFE8F3",
            "gridwidth": 2,
            "linecolor": "#EBF0F8",
            "showbackground": true,
            "ticks": "",
            "zerolinecolor": "#EBF0F8"
           },
           "zaxis": {
            "backgroundcolor": "white",
            "gridcolor": "#DFE8F3",
            "gridwidth": 2,
            "linecolor": "#EBF0F8",
            "showbackground": true,
            "ticks": "",
            "zerolinecolor": "#EBF0F8"
           }
          },
          "shapedefaults": {
           "line": {
            "color": "#2a3f5f"
           }
          },
          "ternary": {
           "aaxis": {
            "gridcolor": "#DFE8F3",
            "linecolor": "#A2B1C6",
            "ticks": ""
           },
           "baxis": {
            "gridcolor": "#DFE8F3",
            "linecolor": "#A2B1C6",
            "ticks": ""
           },
           "bgcolor": "white",
           "caxis": {
            "gridcolor": "#DFE8F3",
            "linecolor": "#A2B1C6",
            "ticks": ""
           }
          },
          "title": {
           "x": 0.05
          },
          "xaxis": {
           "automargin": true,
           "gridcolor": "#EBF0F8",
           "linecolor": "#EBF0F8",
           "ticks": "",
           "title": {
            "standoff": 15
           },
           "zerolinecolor": "#EBF0F8",
           "zerolinewidth": 2
          },
          "yaxis": {
           "automargin": true,
           "gridcolor": "#EBF0F8",
           "linecolor": "#EBF0F8",
           "ticks": "",
           "title": {
            "standoff": 15
           },
           "zerolinecolor": "#EBF0F8",
           "zerolinewidth": 2
          }
         }
        },
        "title": {
         "text": "Mean Ratings of Occupational Titles by Gender"
        },
        "xaxis": {
         "tickangle": -45,
         "title": {
          "text": "Hungarian data (significant*, and marginally significant+ in <b>bold</b>)"
         }
        },
        "yaxis": {
         "title": {
          "text": "Bias (Male - Female)"
         }
        }
       }
      }
     },
     "metadata": {},
     "output_type": "display_data"
    }
   ],
   "source": [
    "# Add a new column with the mean of the ratings for each participant\n",
    "df_hu['Mean Rating'] = df_hu.iloc[:, 8:].mean(axis=1)\n",
    "\n",
    "# Separate df_hu into male and female datasets based on the Gender column\n",
    "df_hu_male = df_hu[df_hu['Gender'] == 'férfi']\n",
    "df_hu_female = df_hu[df_hu['Gender'] == 'nő']\n",
    "\n",
    "# Show the number of male and female participants\n",
    "print(f\"Number of male participants: {df_hu_male['Participant id'].nunique()}\")\n",
    "print(f\"Number of female participants: {df_hu_female['Participant id'].nunique()}\")\n",
    "\n",
    "# Two Sample T-Test between male and female participants for each occupation word\n",
    "results = []\n",
    "for col in rating_columns:\n",
    "    male_ratings = df_hu_male[col].dropna().astype(float)\n",
    "    female_ratings = df_hu_female[col].dropna().astype(float)\n",
    "    # Only test if both groups have at least 2 ratings\n",
    "    if len(male_ratings) > 1 and len(female_ratings) > 1:\n",
    "        t_stat, p_value = stats.ttest_ind(male_ratings, female_ratings, equal_var=False)\n",
    "        mean_male = male_ratings.mean()\n",
    "        mean_female = female_ratings.mean()\n",
    "        results.append({\n",
    "            'occupation': col,\n",
    "            'mean_male': mean_male,\n",
    "            'mean_female': mean_female,\n",
    "            't_stat': t_stat,\n",
    "            'p_value': p_value,\n",
    "            'significant': p_value < 0.05,\n",
    "            'marg_significant': 0.05 < p_value < 0.1\n",
    "        })\n",
    "\n",
    "df_ttest = pd.DataFrame(results)\n",
    "\n",
    "# Add overall mean rating for sorting\n",
    "df_ttest['overall_mean'] = (df_ttest['mean_male'] + df_ttest['mean_female']) / 2\n",
    "\n",
    "# Sort by overall mean rating\n",
    "df_ttest_sorted = df_ttest.sort_values('overall_mean', ascending=False)\n",
    "\n",
    "# Prepare axis labels: bold for significant\n",
    "def bold_label(row):\n",
    "    occupation = row['occupation']\n",
    "    \n",
    "    if row.get('significant'):\n",
    "        occupation = f\"<b>{occupation}*</b>\"\n",
    "    \n",
    "    if row.get('marg_significant'):\n",
    "        occupation = f\"<b>{occupation}+</b>\"\n",
    "    \n",
    "    return occupation\n",
    "\n",
    "df_ttest_sorted['occupation_label'] = df_ttest_sorted.apply(bold_label, axis=1)\n",
    "\n",
    "# Plot\n",
    "fig = go.Figure()\n",
    "fig.add_trace(go.Bar(\n",
    "    x=df_ttest_sorted['occupation_label'],\n",
    "    y=df_ttest_sorted['mean_male'],\n",
    "    name='Male',\n",
    "    marker_color='#1f77b4'\n",
    "))\n",
    "fig.add_trace(go.Bar(\n",
    "    x=df_ttest_sorted['occupation_label'],\n",
    "    y=df_ttest_sorted['mean_female'],\n",
    "    name='Female',\n",
    "    marker_color='#e377c2'\n",
    "))\n",
    "fig.update_layout(\n",
    "    barmode='group',\n",
    "    title='Mean Ratings of Occupational Titles by Gender',\n",
    "    xaxis_title='Hungarian data (significant*, and marginally significant+ in <b>bold</b>)',\n",
    "    yaxis_title='Bias (Male - Female)',\n",
    "    xaxis_tickangle=-45,\n",
    "    template='plotly_white'\n",
    ")\n",
    "fig.show()\n",
    "\n",
    "# Save results and plot\n",
    "df_ttest_sorted.to_excel('occupations_gender_ttest_hu.xlsx', index=False)\n",
    "fig.write_html('occupations_gender_ttest_hu.html')\n",
    "fig.write_image('occupations_gender_ttest_hu.png', scale=3, width=1000, height=500)"
   ]
  },
  {
   "cell_type": "markdown",
   "id": "c870daa9",
   "metadata": {},
   "source": [
    "#### Biases and biases by"
   ]
  },
  {
   "cell_type": "code",
   "execution_count": 2261,
   "id": "ed8b2255",
   "metadata": {},
   "outputs": [],
   "source": [
    "# Add a column 'bias_by' to df_ttest_sorted: 'Male' if abs(mean_male) > abs(mean_female), 'Female' if abs(mean_female) > abs(mean_male), 'Equal' if they are the same\n",
    "df_ttest_sorted['bias_by'] = np.where(\n",
    "    np.abs(df_ttest_sorted['mean_male']) > np.abs(df_ttest_sorted['mean_female']), 'Men',\n",
    "    np.where(np.abs(df_ttest_sorted['mean_male']) < np.abs(df_ttest_sorted['mean_female']), 'Women', 'Equal')\n",
    ")\n",
    "\n",
    "# Add columns that show if the bias is male or female. Add male, if the overall mean is lower than 0, othervise add Female\n",
    "df_ttest_sorted['bias'] = np.where(\n",
    "    df_ttest_sorted['overall_mean'] > 0, 'Female',\n",
    "    np.where(df_ttest_sorted['overall_mean'] < 0, 'Male', 'Equal')\n",
    ")\n",
    "\n",
    "# Calculate mean_difference (mean_male - mean_female), and add its absolute value\n",
    "df_ttest_sorted['mean_difference'] = (df_ttest_sorted['mean_male'] - df_ttest_sorted['mean_female']).abs()\n"
   ]
  },
  {
   "cell_type": "code",
   "execution_count": 2262,
   "id": "b3efb5e8",
   "metadata": {},
   "outputs": [
    {
     "data": {
      "application/vnd.plotly.v1+json": {
       "config": {
        "plotlyServerURL": "https://plot.ly"
       },
       "data": [
        {
         "customdata": [
          [
           0.6464646464646462,
           "Men"
          ],
          [
           0.24242424242424265,
           "Men"
          ],
          [
           0.04040404040404044,
           "Women"
          ],
          [
           0.48484848484848486,
           "Men"
          ],
          [
           0.3535353535353536,
           "Men"
          ],
          [
           0.7171717171717171,
           "Men"
          ],
          [
           0.515151515151515,
           "Men"
          ],
          [
           0.606060606060606,
           "Men"
          ],
          [
           0.202020202020202,
           "Women"
          ],
          [
           0.09090909090909094,
           "Men"
          ],
          [
           0.18181818181818177,
           "Men"
          ],
          [
           0.030303030303030276,
           "Men"
          ],
          [
           0.1717171717171717,
           "Women"
          ],
          [
           0.303030303030303,
           "Men"
          ],
          [
           0.3939393939393939,
           "Men"
          ],
          [
           0.6666666666666666,
           "Men"
          ],
          [
           0.4444444444444444,
           "Men"
          ],
          [
           0.1616161616161616,
           "Women"
          ],
          [
           0,
           "Equal"
          ],
          [
           0.20202020202020202,
           "Men"
          ],
          [
           0.1515151515151515,
           "Men"
          ],
          [
           0.2626262626262626,
           "Men"
          ],
          [
           0.12121212121212122,
           "Women"
          ],
          [
           0.01010101010101011,
           "Women"
          ],
          [
           0.2121212121212121,
           "Men"
          ],
          [
           0.030303030303030276,
           "Men"
          ],
          [
           0.06060606060606066,
           "Women"
          ],
          [
           0.04040404040404044,
           "Women"
          ],
          [
           0.5656565656565657,
           "Men"
          ],
          [
           0.07070707070707061,
           "Men"
          ],
          [
           0.18181818181818177,
           "Men"
          ],
          [
           0.38383838383838387,
           "Men"
          ],
          [
           0.22222222222222232,
           "Men"
          ],
          [
           0.33333333333333326,
           "Men"
          ],
          [
           0.4545454545454546,
           "Women"
          ],
          [
           0.7575757575757577,
           "Men"
          ],
          [
           0.3737373737373737,
           "Men"
          ],
          [
           0.7777777777777777,
           "Men"
          ],
          [
           0.12121212121212133,
           "Women"
          ],
          [
           0.2828282828282829,
           "Men"
          ],
          [
           0.1717171717171717,
           "Women"
          ],
          [
           0.5656565656565657,
           "Men"
          ],
          [
           0.020202020202020332,
           "Women"
          ],
          [
           0.36363636363636376,
           "Women"
          ]
         ],
         "hovertemplate": "Occupation: %{x}<br>Overall Mean: %{y:.2f}<br>Mean Diff: %{customdata[0]:.2f}<br>Greater Bias: %{customdata[1]}<extra></extra>",
         "marker": {
          "color": [
           "#C46BE1",
           "#C46BE1",
           "#4090C2",
           "#C46BE1",
           "#C46BE1",
           "#C46BE1",
           "#C46BE1",
           "#C46BE1",
           "#4090C2",
           "#C46BE1",
           "#C46BE1",
           "#C46BE1",
           "#4090C2",
           "#C46BE1",
           "#C46BE1",
           "#C46BE1",
           "#C46BE1",
           "#4090C2",
           "#949494",
           "#C46BE1",
           "#C46BE1",
           "#C46BE1",
           "#4090C2",
           "#4090C2",
           "#C46BE1",
           "#C46BE1",
           "#4090C2",
           "#4090C2",
           "#C46BE1",
           "#C46BE1",
           "#C46BE1",
           "#C46BE1",
           "#C46BE1",
           "#C46BE1",
           "#4090C2",
           "#C46BE1",
           "#C46BE1",
           "#C46BE1",
           "#4090C2",
           "#C46BE1",
           "#4090C2",
           "#C46BE1",
           "#4090C2",
           "#4090C2"
          ]
         },
         "type": "bar",
         "x": [
          "nővér",
          "kozmetikus",
          "házvezető",
          "légiutas-kísérő",
          "takarító",
          "gondozó",
          "pénztáros",
          "modell",
          "fodrász",
          "bolti eladó",
          "HR-es",
          "recepciós",
          "dietetikus",
          "könyvelő",
          "ápoló",
          "PR munkatárs",
          "jegyárus",
          "felszolgáló",
          "diák",
          "tanár",
          "bíró",
          "titkár",
          "tudós",
          "pincér",
          "orvos",
          "menedzser",
          "ügyész",
          "kertész",
          "kórboncnok",
          "rendező",
          "szakács",
          "professzor",
          "vízimentő",
          "mérnök",
          "vezérigazgató",
          "építész",
          "programozó",
          "rendőr",
          "munkás",
          "földműves",
          "pilóta",
          "katona",
          "biztonsági őr",
          "tűzoltó"
         ],
         "y": {
          "bdata": "MW9nSMzbAUCyySabbLIBQBoS83aGxPw/yiabbLLJ9j+eITFvZ0j0P7V+pUCtX/E/Ntlkk0028T988MEHH3zwPwK1fqVAre8/jC666KKL7j8YXXTRRRftP9lkk0022eQ/3BkS83aG5D988MEHH3zgPw8++OCDD94/VVVVVVVV1T8cx3Ecx3HMPztDYt7OkMg/AAAAAAAAAABYv1Kg1q+Ev3zwwQcffNC/YClQ61cK1L822WSTTTbZvxoS83aGxNy/8MEHH3zw4b/ZZJNNNtnkv0422WSTTea/NCTm7QyJ6b8sBWr9SoHqv6ZArV8pUOu/GF100UUX7b8VqPUrBWrtv3Icx3Ecx/G/qqqqqqqq8r+jiy666KLzv5tssskmm/S/kZi3MyTm9b+O4ziO4zj2v0422WSTTfa/S4Fav1Kg9r/uDIl5O0P6v5YCtX6lQP2/DYl5O0Ni/r900UUXXXQBwA==",
          "dtype": "f8"
         }
        }
       ],
       "layout": {
        "template": {
         "data": {
          "bar": [
           {
            "error_x": {
             "color": "#2a3f5f"
            },
            "error_y": {
             "color": "#2a3f5f"
            },
            "marker": {
             "line": {
              "color": "white",
              "width": 0.5
             },
             "pattern": {
              "fillmode": "overlay",
              "size": 10,
              "solidity": 0.2
             }
            },
            "type": "bar"
           }
          ],
          "barpolar": [
           {
            "marker": {
             "line": {
              "color": "white",
              "width": 0.5
             },
             "pattern": {
              "fillmode": "overlay",
              "size": 10,
              "solidity": 0.2
             }
            },
            "type": "barpolar"
           }
          ],
          "carpet": [
           {
            "aaxis": {
             "endlinecolor": "#2a3f5f",
             "gridcolor": "#C8D4E3",
             "linecolor": "#C8D4E3",
             "minorgridcolor": "#C8D4E3",
             "startlinecolor": "#2a3f5f"
            },
            "baxis": {
             "endlinecolor": "#2a3f5f",
             "gridcolor": "#C8D4E3",
             "linecolor": "#C8D4E3",
             "minorgridcolor": "#C8D4E3",
             "startlinecolor": "#2a3f5f"
            },
            "type": "carpet"
           }
          ],
          "choropleth": [
           {
            "colorbar": {
             "outlinewidth": 0,
             "ticks": ""
            },
            "type": "choropleth"
           }
          ],
          "contour": [
           {
            "colorbar": {
             "outlinewidth": 0,
             "ticks": ""
            },
            "colorscale": [
             [
              0,
              "#0d0887"
             ],
             [
              0.1111111111111111,
              "#46039f"
             ],
             [
              0.2222222222222222,
              "#7201a8"
             ],
             [
              0.3333333333333333,
              "#9c179e"
             ],
             [
              0.4444444444444444,
              "#bd3786"
             ],
             [
              0.5555555555555556,
              "#d8576b"
             ],
             [
              0.6666666666666666,
              "#ed7953"
             ],
             [
              0.7777777777777778,
              "#fb9f3a"
             ],
             [
              0.8888888888888888,
              "#fdca26"
             ],
             [
              1,
              "#f0f921"
             ]
            ],
            "type": "contour"
           }
          ],
          "contourcarpet": [
           {
            "colorbar": {
             "outlinewidth": 0,
             "ticks": ""
            },
            "type": "contourcarpet"
           }
          ],
          "heatmap": [
           {
            "colorbar": {
             "outlinewidth": 0,
             "ticks": ""
            },
            "colorscale": [
             [
              0,
              "#0d0887"
             ],
             [
              0.1111111111111111,
              "#46039f"
             ],
             [
              0.2222222222222222,
              "#7201a8"
             ],
             [
              0.3333333333333333,
              "#9c179e"
             ],
             [
              0.4444444444444444,
              "#bd3786"
             ],
             [
              0.5555555555555556,
              "#d8576b"
             ],
             [
              0.6666666666666666,
              "#ed7953"
             ],
             [
              0.7777777777777778,
              "#fb9f3a"
             ],
             [
              0.8888888888888888,
              "#fdca26"
             ],
             [
              1,
              "#f0f921"
             ]
            ],
            "type": "heatmap"
           }
          ],
          "histogram": [
           {
            "marker": {
             "pattern": {
              "fillmode": "overlay",
              "size": 10,
              "solidity": 0.2
             }
            },
            "type": "histogram"
           }
          ],
          "histogram2d": [
           {
            "colorbar": {
             "outlinewidth": 0,
             "ticks": ""
            },
            "colorscale": [
             [
              0,
              "#0d0887"
             ],
             [
              0.1111111111111111,
              "#46039f"
             ],
             [
              0.2222222222222222,
              "#7201a8"
             ],
             [
              0.3333333333333333,
              "#9c179e"
             ],
             [
              0.4444444444444444,
              "#bd3786"
             ],
             [
              0.5555555555555556,
              "#d8576b"
             ],
             [
              0.6666666666666666,
              "#ed7953"
             ],
             [
              0.7777777777777778,
              "#fb9f3a"
             ],
             [
              0.8888888888888888,
              "#fdca26"
             ],
             [
              1,
              "#f0f921"
             ]
            ],
            "type": "histogram2d"
           }
          ],
          "histogram2dcontour": [
           {
            "colorbar": {
             "outlinewidth": 0,
             "ticks": ""
            },
            "colorscale": [
             [
              0,
              "#0d0887"
             ],
             [
              0.1111111111111111,
              "#46039f"
             ],
             [
              0.2222222222222222,
              "#7201a8"
             ],
             [
              0.3333333333333333,
              "#9c179e"
             ],
             [
              0.4444444444444444,
              "#bd3786"
             ],
             [
              0.5555555555555556,
              "#d8576b"
             ],
             [
              0.6666666666666666,
              "#ed7953"
             ],
             [
              0.7777777777777778,
              "#fb9f3a"
             ],
             [
              0.8888888888888888,
              "#fdca26"
             ],
             [
              1,
              "#f0f921"
             ]
            ],
            "type": "histogram2dcontour"
           }
          ],
          "mesh3d": [
           {
            "colorbar": {
             "outlinewidth": 0,
             "ticks": ""
            },
            "type": "mesh3d"
           }
          ],
          "parcoords": [
           {
            "line": {
             "colorbar": {
              "outlinewidth": 0,
              "ticks": ""
             }
            },
            "type": "parcoords"
           }
          ],
          "pie": [
           {
            "automargin": true,
            "type": "pie"
           }
          ],
          "scatter": [
           {
            "fillpattern": {
             "fillmode": "overlay",
             "size": 10,
             "solidity": 0.2
            },
            "type": "scatter"
           }
          ],
          "scatter3d": [
           {
            "line": {
             "colorbar": {
              "outlinewidth": 0,
              "ticks": ""
             }
            },
            "marker": {
             "colorbar": {
              "outlinewidth": 0,
              "ticks": ""
             }
            },
            "type": "scatter3d"
           }
          ],
          "scattercarpet": [
           {
            "marker": {
             "colorbar": {
              "outlinewidth": 0,
              "ticks": ""
             }
            },
            "type": "scattercarpet"
           }
          ],
          "scattergeo": [
           {
            "marker": {
             "colorbar": {
              "outlinewidth": 0,
              "ticks": ""
             }
            },
            "type": "scattergeo"
           }
          ],
          "scattergl": [
           {
            "marker": {
             "colorbar": {
              "outlinewidth": 0,
              "ticks": ""
             }
            },
            "type": "scattergl"
           }
          ],
          "scattermap": [
           {
            "marker": {
             "colorbar": {
              "outlinewidth": 0,
              "ticks": ""
             }
            },
            "type": "scattermap"
           }
          ],
          "scattermapbox": [
           {
            "marker": {
             "colorbar": {
              "outlinewidth": 0,
              "ticks": ""
             }
            },
            "type": "scattermapbox"
           }
          ],
          "scatterpolar": [
           {
            "marker": {
             "colorbar": {
              "outlinewidth": 0,
              "ticks": ""
             }
            },
            "type": "scatterpolar"
           }
          ],
          "scatterpolargl": [
           {
            "marker": {
             "colorbar": {
              "outlinewidth": 0,
              "ticks": ""
             }
            },
            "type": "scatterpolargl"
           }
          ],
          "scatterternary": [
           {
            "marker": {
             "colorbar": {
              "outlinewidth": 0,
              "ticks": ""
             }
            },
            "type": "scatterternary"
           }
          ],
          "surface": [
           {
            "colorbar": {
             "outlinewidth": 0,
             "ticks": ""
            },
            "colorscale": [
             [
              0,
              "#0d0887"
             ],
             [
              0.1111111111111111,
              "#46039f"
             ],
             [
              0.2222222222222222,
              "#7201a8"
             ],
             [
              0.3333333333333333,
              "#9c179e"
             ],
             [
              0.4444444444444444,
              "#bd3786"
             ],
             [
              0.5555555555555556,
              "#d8576b"
             ],
             [
              0.6666666666666666,
              "#ed7953"
             ],
             [
              0.7777777777777778,
              "#fb9f3a"
             ],
             [
              0.8888888888888888,
              "#fdca26"
             ],
             [
              1,
              "#f0f921"
             ]
            ],
            "type": "surface"
           }
          ],
          "table": [
           {
            "cells": {
             "fill": {
              "color": "#EBF0F8"
             },
             "line": {
              "color": "white"
             }
            },
            "header": {
             "fill": {
              "color": "#C8D4E3"
             },
             "line": {
              "color": "white"
             }
            },
            "type": "table"
           }
          ]
         },
         "layout": {
          "annotationdefaults": {
           "arrowcolor": "#2a3f5f",
           "arrowhead": 0,
           "arrowwidth": 1
          },
          "autotypenumbers": "strict",
          "coloraxis": {
           "colorbar": {
            "outlinewidth": 0,
            "ticks": ""
           }
          },
          "colorscale": {
           "diverging": [
            [
             0,
             "#8e0152"
            ],
            [
             0.1,
             "#c51b7d"
            ],
            [
             0.2,
             "#de77ae"
            ],
            [
             0.3,
             "#f1b6da"
            ],
            [
             0.4,
             "#fde0ef"
            ],
            [
             0.5,
             "#f7f7f7"
            ],
            [
             0.6,
             "#e6f5d0"
            ],
            [
             0.7,
             "#b8e186"
            ],
            [
             0.8,
             "#7fbc41"
            ],
            [
             0.9,
             "#4d9221"
            ],
            [
             1,
             "#276419"
            ]
           ],
           "sequential": [
            [
             0,
             "#0d0887"
            ],
            [
             0.1111111111111111,
             "#46039f"
            ],
            [
             0.2222222222222222,
             "#7201a8"
            ],
            [
             0.3333333333333333,
             "#9c179e"
            ],
            [
             0.4444444444444444,
             "#bd3786"
            ],
            [
             0.5555555555555556,
             "#d8576b"
            ],
            [
             0.6666666666666666,
             "#ed7953"
            ],
            [
             0.7777777777777778,
             "#fb9f3a"
            ],
            [
             0.8888888888888888,
             "#fdca26"
            ],
            [
             1,
             "#f0f921"
            ]
           ],
           "sequentialminus": [
            [
             0,
             "#0d0887"
            ],
            [
             0.1111111111111111,
             "#46039f"
            ],
            [
             0.2222222222222222,
             "#7201a8"
            ],
            [
             0.3333333333333333,
             "#9c179e"
            ],
            [
             0.4444444444444444,
             "#bd3786"
            ],
            [
             0.5555555555555556,
             "#d8576b"
            ],
            [
             0.6666666666666666,
             "#ed7953"
            ],
            [
             0.7777777777777778,
             "#fb9f3a"
            ],
            [
             0.8888888888888888,
             "#fdca26"
            ],
            [
             1,
             "#f0f921"
            ]
           ]
          },
          "colorway": [
           "#636efa",
           "#EF553B",
           "#00cc96",
           "#ab63fa",
           "#FFA15A",
           "#19d3f3",
           "#FF6692",
           "#B6E880",
           "#FF97FF",
           "#FECB52"
          ],
          "font": {
           "color": "#2a3f5f"
          },
          "geo": {
           "bgcolor": "white",
           "lakecolor": "white",
           "landcolor": "white",
           "showlakes": true,
           "showland": true,
           "subunitcolor": "#C8D4E3"
          },
          "hoverlabel": {
           "align": "left"
          },
          "hovermode": "closest",
          "mapbox": {
           "style": "light"
          },
          "paper_bgcolor": "white",
          "plot_bgcolor": "white",
          "polar": {
           "angularaxis": {
            "gridcolor": "#EBF0F8",
            "linecolor": "#EBF0F8",
            "ticks": ""
           },
           "bgcolor": "white",
           "radialaxis": {
            "gridcolor": "#EBF0F8",
            "linecolor": "#EBF0F8",
            "ticks": ""
           }
          },
          "scene": {
           "xaxis": {
            "backgroundcolor": "white",
            "gridcolor": "#DFE8F3",
            "gridwidth": 2,
            "linecolor": "#EBF0F8",
            "showbackground": true,
            "ticks": "",
            "zerolinecolor": "#EBF0F8"
           },
           "yaxis": {
            "backgroundcolor": "white",
            "gridcolor": "#DFE8F3",
            "gridwidth": 2,
            "linecolor": "#EBF0F8",
            "showbackground": true,
            "ticks": "",
            "zerolinecolor": "#EBF0F8"
           },
           "zaxis": {
            "backgroundcolor": "white",
            "gridcolor": "#DFE8F3",
            "gridwidth": 2,
            "linecolor": "#EBF0F8",
            "showbackground": true,
            "ticks": "",
            "zerolinecolor": "#EBF0F8"
           }
          },
          "shapedefaults": {
           "line": {
            "color": "#2a3f5f"
           }
          },
          "ternary": {
           "aaxis": {
            "gridcolor": "#DFE8F3",
            "linecolor": "#A2B1C6",
            "ticks": ""
           },
           "baxis": {
            "gridcolor": "#DFE8F3",
            "linecolor": "#A2B1C6",
            "ticks": ""
           },
           "bgcolor": "white",
           "caxis": {
            "gridcolor": "#DFE8F3",
            "linecolor": "#A2B1C6",
            "ticks": ""
           }
          },
          "title": {
           "x": 0.05
          },
          "xaxis": {
           "automargin": true,
           "gridcolor": "#EBF0F8",
           "linecolor": "#EBF0F8",
           "ticks": "",
           "title": {
            "standoff": 15
           },
           "zerolinecolor": "#EBF0F8",
           "zerolinewidth": 2
          },
          "yaxis": {
           "automargin": true,
           "gridcolor": "#EBF0F8",
           "linecolor": "#EBF0F8",
           "ticks": "",
           "title": {
            "standoff": 15
           },
           "zerolinecolor": "#EBF0F8",
           "zerolinewidth": 2
          }
         }
        },
        "title": {
         "text": "Mean Ratings by Dominantly Biased Group, Sorted by Mean Rating Difference"
        },
        "xaxis": {
         "tickangle": -45,
         "title": {
          "text": "Occupation (No significance)"
         }
        },
        "yaxis": {
         "title": {
          "text": "Overall Mean Rating"
         }
        }
       }
      }
     },
     "metadata": {},
     "output_type": "display_data"
    }
   ],
   "source": [
    "# Plot\n",
    "fig = go.Figure()\n",
    "fig.add_trace(go.Bar(\n",
    "    x=df_ttest_sorted['occupation'],\n",
    "    y=df_ttest_sorted['overall_mean'],\n",
    "    marker_color=df_ttest_sorted['bias_by'].map(color_map),\n",
    "    customdata=df_ttest_sorted[['mean_difference', 'bias_by']],\n",
    "    hovertemplate='Occupation: %{x}<br>Overall Mean: %{y:.2f}<br>Mean Diff: %{customdata[0]:.2f}<br>Greater Bias: %{customdata[1]}<extra></extra>'\n",
    "))\n",
    "# Layout\n",
    "fig.update_layout(\n",
    "    title='Mean Ratings by Dominantly Biased Group, Sorted by Mean Rating Difference',\n",
    "    xaxis_title='Occupation (No significance)',\n",
    "    yaxis_title='Overall Mean Rating',\n",
    "    xaxis_tickangle=-45,\n",
    "    template='plotly_white'\n",
    ")\n",
    "\n",
    "fig.show()"
   ]
  },
  {
   "cell_type": "markdown",
   "id": "7459c63f",
   "metadata": {},
   "source": [
    "#### Confusion matrix of biases"
   ]
  },
  {
   "cell_type": "code",
   "execution_count": 2263,
   "id": "59df16a3",
   "metadata": {},
   "outputs": [
    {
     "data": {
      "application/vnd.plotly.v1+json": {
       "config": {
        "plotlyServerURL": "https://plot.ly"
       },
       "data": [
        {
         "colorscale": [
          [
           0,
           "rgb(210, 251, 212)"
          ],
          [
           0.16666666666666666,
           "rgb(165, 219, 194)"
          ],
          [
           0.3333333333333333,
           "rgb(123, 188, 176)"
          ],
          [
           0.5,
           "rgb(85, 156, 158)"
          ],
          [
           0.6666666666666666,
           "rgb(58, 124, 137)"
          ],
          [
           0.8333333333333334,
           "rgb(35, 93, 114)"
          ],
          [
           1,
           "rgb(18, 63, 90)"
          ]
         ],
         "hovertemplate": "Bias: %{y}<br>Bias By: %{x}<br>Count: %{z}<extra></extra>",
         "text": {
          "bdata": "DgQQCQ==",
          "dtype": "i1",
          "shape": "2, 2"
         },
         "texttemplate": "%{text}",
         "type": "heatmap",
         "x": [
          "Men",
          "Women"
         ],
         "y": [
          "Female",
          "Male"
         ],
         "z": {
          "bdata": "DgQQCQ==",
          "dtype": "i1",
          "shape": "2, 2"
         }
        }
       ],
       "layout": {
        "height": 400,
        "template": {
         "data": {
          "bar": [
           {
            "error_x": {
             "color": "#2a3f5f"
            },
            "error_y": {
             "color": "#2a3f5f"
            },
            "marker": {
             "line": {
              "color": "#E5ECF6",
              "width": 0.5
             },
             "pattern": {
              "fillmode": "overlay",
              "size": 10,
              "solidity": 0.2
             }
            },
            "type": "bar"
           }
          ],
          "barpolar": [
           {
            "marker": {
             "line": {
              "color": "#E5ECF6",
              "width": 0.5
             },
             "pattern": {
              "fillmode": "overlay",
              "size": 10,
              "solidity": 0.2
             }
            },
            "type": "barpolar"
           }
          ],
          "carpet": [
           {
            "aaxis": {
             "endlinecolor": "#2a3f5f",
             "gridcolor": "white",
             "linecolor": "white",
             "minorgridcolor": "white",
             "startlinecolor": "#2a3f5f"
            },
            "baxis": {
             "endlinecolor": "#2a3f5f",
             "gridcolor": "white",
             "linecolor": "white",
             "minorgridcolor": "white",
             "startlinecolor": "#2a3f5f"
            },
            "type": "carpet"
           }
          ],
          "choropleth": [
           {
            "colorbar": {
             "outlinewidth": 0,
             "ticks": ""
            },
            "type": "choropleth"
           }
          ],
          "contour": [
           {
            "colorbar": {
             "outlinewidth": 0,
             "ticks": ""
            },
            "colorscale": [
             [
              0,
              "#0d0887"
             ],
             [
              0.1111111111111111,
              "#46039f"
             ],
             [
              0.2222222222222222,
              "#7201a8"
             ],
             [
              0.3333333333333333,
              "#9c179e"
             ],
             [
              0.4444444444444444,
              "#bd3786"
             ],
             [
              0.5555555555555556,
              "#d8576b"
             ],
             [
              0.6666666666666666,
              "#ed7953"
             ],
             [
              0.7777777777777778,
              "#fb9f3a"
             ],
             [
              0.8888888888888888,
              "#fdca26"
             ],
             [
              1,
              "#f0f921"
             ]
            ],
            "type": "contour"
           }
          ],
          "contourcarpet": [
           {
            "colorbar": {
             "outlinewidth": 0,
             "ticks": ""
            },
            "type": "contourcarpet"
           }
          ],
          "heatmap": [
           {
            "colorbar": {
             "outlinewidth": 0,
             "ticks": ""
            },
            "colorscale": [
             [
              0,
              "#0d0887"
             ],
             [
              0.1111111111111111,
              "#46039f"
             ],
             [
              0.2222222222222222,
              "#7201a8"
             ],
             [
              0.3333333333333333,
              "#9c179e"
             ],
             [
              0.4444444444444444,
              "#bd3786"
             ],
             [
              0.5555555555555556,
              "#d8576b"
             ],
             [
              0.6666666666666666,
              "#ed7953"
             ],
             [
              0.7777777777777778,
              "#fb9f3a"
             ],
             [
              0.8888888888888888,
              "#fdca26"
             ],
             [
              1,
              "#f0f921"
             ]
            ],
            "type": "heatmap"
           }
          ],
          "histogram": [
           {
            "marker": {
             "pattern": {
              "fillmode": "overlay",
              "size": 10,
              "solidity": 0.2
             }
            },
            "type": "histogram"
           }
          ],
          "histogram2d": [
           {
            "colorbar": {
             "outlinewidth": 0,
             "ticks": ""
            },
            "colorscale": [
             [
              0,
              "#0d0887"
             ],
             [
              0.1111111111111111,
              "#46039f"
             ],
             [
              0.2222222222222222,
              "#7201a8"
             ],
             [
              0.3333333333333333,
              "#9c179e"
             ],
             [
              0.4444444444444444,
              "#bd3786"
             ],
             [
              0.5555555555555556,
              "#d8576b"
             ],
             [
              0.6666666666666666,
              "#ed7953"
             ],
             [
              0.7777777777777778,
              "#fb9f3a"
             ],
             [
              0.8888888888888888,
              "#fdca26"
             ],
             [
              1,
              "#f0f921"
             ]
            ],
            "type": "histogram2d"
           }
          ],
          "histogram2dcontour": [
           {
            "colorbar": {
             "outlinewidth": 0,
             "ticks": ""
            },
            "colorscale": [
             [
              0,
              "#0d0887"
             ],
             [
              0.1111111111111111,
              "#46039f"
             ],
             [
              0.2222222222222222,
              "#7201a8"
             ],
             [
              0.3333333333333333,
              "#9c179e"
             ],
             [
              0.4444444444444444,
              "#bd3786"
             ],
             [
              0.5555555555555556,
              "#d8576b"
             ],
             [
              0.6666666666666666,
              "#ed7953"
             ],
             [
              0.7777777777777778,
              "#fb9f3a"
             ],
             [
              0.8888888888888888,
              "#fdca26"
             ],
             [
              1,
              "#f0f921"
             ]
            ],
            "type": "histogram2dcontour"
           }
          ],
          "mesh3d": [
           {
            "colorbar": {
             "outlinewidth": 0,
             "ticks": ""
            },
            "type": "mesh3d"
           }
          ],
          "parcoords": [
           {
            "line": {
             "colorbar": {
              "outlinewidth": 0,
              "ticks": ""
             }
            },
            "type": "parcoords"
           }
          ],
          "pie": [
           {
            "automargin": true,
            "type": "pie"
           }
          ],
          "scatter": [
           {
            "fillpattern": {
             "fillmode": "overlay",
             "size": 10,
             "solidity": 0.2
            },
            "type": "scatter"
           }
          ],
          "scatter3d": [
           {
            "line": {
             "colorbar": {
              "outlinewidth": 0,
              "ticks": ""
             }
            },
            "marker": {
             "colorbar": {
              "outlinewidth": 0,
              "ticks": ""
             }
            },
            "type": "scatter3d"
           }
          ],
          "scattercarpet": [
           {
            "marker": {
             "colorbar": {
              "outlinewidth": 0,
              "ticks": ""
             }
            },
            "type": "scattercarpet"
           }
          ],
          "scattergeo": [
           {
            "marker": {
             "colorbar": {
              "outlinewidth": 0,
              "ticks": ""
             }
            },
            "type": "scattergeo"
           }
          ],
          "scattergl": [
           {
            "marker": {
             "colorbar": {
              "outlinewidth": 0,
              "ticks": ""
             }
            },
            "type": "scattergl"
           }
          ],
          "scattermap": [
           {
            "marker": {
             "colorbar": {
              "outlinewidth": 0,
              "ticks": ""
             }
            },
            "type": "scattermap"
           }
          ],
          "scattermapbox": [
           {
            "marker": {
             "colorbar": {
              "outlinewidth": 0,
              "ticks": ""
             }
            },
            "type": "scattermapbox"
           }
          ],
          "scatterpolar": [
           {
            "marker": {
             "colorbar": {
              "outlinewidth": 0,
              "ticks": ""
             }
            },
            "type": "scatterpolar"
           }
          ],
          "scatterpolargl": [
           {
            "marker": {
             "colorbar": {
              "outlinewidth": 0,
              "ticks": ""
             }
            },
            "type": "scatterpolargl"
           }
          ],
          "scatterternary": [
           {
            "marker": {
             "colorbar": {
              "outlinewidth": 0,
              "ticks": ""
             }
            },
            "type": "scatterternary"
           }
          ],
          "surface": [
           {
            "colorbar": {
             "outlinewidth": 0,
             "ticks": ""
            },
            "colorscale": [
             [
              0,
              "#0d0887"
             ],
             [
              0.1111111111111111,
              "#46039f"
             ],
             [
              0.2222222222222222,
              "#7201a8"
             ],
             [
              0.3333333333333333,
              "#9c179e"
             ],
             [
              0.4444444444444444,
              "#bd3786"
             ],
             [
              0.5555555555555556,
              "#d8576b"
             ],
             [
              0.6666666666666666,
              "#ed7953"
             ],
             [
              0.7777777777777778,
              "#fb9f3a"
             ],
             [
              0.8888888888888888,
              "#fdca26"
             ],
             [
              1,
              "#f0f921"
             ]
            ],
            "type": "surface"
           }
          ],
          "table": [
           {
            "cells": {
             "fill": {
              "color": "#EBF0F8"
             },
             "line": {
              "color": "white"
             }
            },
            "header": {
             "fill": {
              "color": "#C8D4E3"
             },
             "line": {
              "color": "white"
             }
            },
            "type": "table"
           }
          ]
         },
         "layout": {
          "annotationdefaults": {
           "arrowcolor": "#2a3f5f",
           "arrowhead": 0,
           "arrowwidth": 1
          },
          "autotypenumbers": "strict",
          "coloraxis": {
           "colorbar": {
            "outlinewidth": 0,
            "ticks": ""
           }
          },
          "colorscale": {
           "diverging": [
            [
             0,
             "#8e0152"
            ],
            [
             0.1,
             "#c51b7d"
            ],
            [
             0.2,
             "#de77ae"
            ],
            [
             0.3,
             "#f1b6da"
            ],
            [
             0.4,
             "#fde0ef"
            ],
            [
             0.5,
             "#f7f7f7"
            ],
            [
             0.6,
             "#e6f5d0"
            ],
            [
             0.7,
             "#b8e186"
            ],
            [
             0.8,
             "#7fbc41"
            ],
            [
             0.9,
             "#4d9221"
            ],
            [
             1,
             "#276419"
            ]
           ],
           "sequential": [
            [
             0,
             "#0d0887"
            ],
            [
             0.1111111111111111,
             "#46039f"
            ],
            [
             0.2222222222222222,
             "#7201a8"
            ],
            [
             0.3333333333333333,
             "#9c179e"
            ],
            [
             0.4444444444444444,
             "#bd3786"
            ],
            [
             0.5555555555555556,
             "#d8576b"
            ],
            [
             0.6666666666666666,
             "#ed7953"
            ],
            [
             0.7777777777777778,
             "#fb9f3a"
            ],
            [
             0.8888888888888888,
             "#fdca26"
            ],
            [
             1,
             "#f0f921"
            ]
           ],
           "sequentialminus": [
            [
             0,
             "#0d0887"
            ],
            [
             0.1111111111111111,
             "#46039f"
            ],
            [
             0.2222222222222222,
             "#7201a8"
            ],
            [
             0.3333333333333333,
             "#9c179e"
            ],
            [
             0.4444444444444444,
             "#bd3786"
            ],
            [
             0.5555555555555556,
             "#d8576b"
            ],
            [
             0.6666666666666666,
             "#ed7953"
            ],
            [
             0.7777777777777778,
             "#fb9f3a"
            ],
            [
             0.8888888888888888,
             "#fdca26"
            ],
            [
             1,
             "#f0f921"
            ]
           ]
          },
          "colorway": [
           "#636efa",
           "#EF553B",
           "#00cc96",
           "#ab63fa",
           "#FFA15A",
           "#19d3f3",
           "#FF6692",
           "#B6E880",
           "#FF97FF",
           "#FECB52"
          ],
          "font": {
           "color": "#2a3f5f"
          },
          "geo": {
           "bgcolor": "white",
           "lakecolor": "white",
           "landcolor": "#E5ECF6",
           "showlakes": true,
           "showland": true,
           "subunitcolor": "white"
          },
          "hoverlabel": {
           "align": "left"
          },
          "hovermode": "closest",
          "mapbox": {
           "style": "light"
          },
          "paper_bgcolor": "white",
          "plot_bgcolor": "#E5ECF6",
          "polar": {
           "angularaxis": {
            "gridcolor": "white",
            "linecolor": "white",
            "ticks": ""
           },
           "bgcolor": "#E5ECF6",
           "radialaxis": {
            "gridcolor": "white",
            "linecolor": "white",
            "ticks": ""
           }
          },
          "scene": {
           "xaxis": {
            "backgroundcolor": "#E5ECF6",
            "gridcolor": "white",
            "gridwidth": 2,
            "linecolor": "white",
            "showbackground": true,
            "ticks": "",
            "zerolinecolor": "white"
           },
           "yaxis": {
            "backgroundcolor": "#E5ECF6",
            "gridcolor": "white",
            "gridwidth": 2,
            "linecolor": "white",
            "showbackground": true,
            "ticks": "",
            "zerolinecolor": "white"
           },
           "zaxis": {
            "backgroundcolor": "#E5ECF6",
            "gridcolor": "white",
            "gridwidth": 2,
            "linecolor": "white",
            "showbackground": true,
            "ticks": "",
            "zerolinecolor": "white"
           }
          },
          "shapedefaults": {
           "line": {
            "color": "#2a3f5f"
           }
          },
          "ternary": {
           "aaxis": {
            "gridcolor": "white",
            "linecolor": "white",
            "ticks": ""
           },
           "baxis": {
            "gridcolor": "white",
            "linecolor": "white",
            "ticks": ""
           },
           "bgcolor": "#E5ECF6",
           "caxis": {
            "gridcolor": "white",
            "linecolor": "white",
            "ticks": ""
           }
          },
          "title": {
           "x": 0.05
          },
          "xaxis": {
           "automargin": true,
           "gridcolor": "white",
           "linecolor": "white",
           "ticks": "",
           "title": {
            "standoff": 15
           },
           "zerolinecolor": "white",
           "zerolinewidth": 2
          },
          "yaxis": {
           "automargin": true,
           "gridcolor": "white",
           "linecolor": "white",
           "ticks": "",
           "title": {
            "standoff": 15
           },
           "zerolinecolor": "white",
           "zerolinewidth": 2
          }
         }
        },
        "title": {
         "text": "Confusion Matrix of Bias vs Bias By<br>(Excluding 'Equal')"
        },
        "width": 400,
        "xaxis": {
         "title": {
          "text": "Bias By"
         }
        },
        "yaxis": {
         "title": {
          "text": "Bias"
         }
        }
       }
      }
     },
     "metadata": {},
     "output_type": "display_data"
    }
   ],
   "source": [
    "# Count unique values in 'bias' and 'bias_by' columns, ignoring 'Equal'\n",
    "# Create confusion matrix, ignoring 'Equal'\n",
    "conf_matrix = pd.crosstab(\n",
    "    df_ttest_sorted.loc[df_ttest_sorted['bias'] != 'Equal', 'bias'],\n",
    "    df_ttest_sorted.loc[df_ttest_sorted['bias_by'] != 'Equal', 'bias_by']\n",
    ")\n",
    "\n",
    "# Plot confusion matrix with plotly\n",
    "fig = go.Figure(data=go.Heatmap(\n",
    "    z=conf_matrix.values,\n",
    "    x=conf_matrix.columns,\n",
    "    y=conf_matrix.index,\n",
    "    colorscale='Darkmint',\n",
    "    text=conf_matrix.values,\n",
    "    texttemplate=\"%{text}\",\n",
    "    hovertemplate=\"Bias: %{y}<br>Bias By: %{x}<br>Count: %{z}<extra></extra>\"\n",
    "))\n",
    "\n",
    "fig.update_layout(\n",
    "    title=\"Confusion Matrix of Bias vs Bias By<br>(Excluding 'Equal')\",\n",
    "    xaxis_title=\"Bias By\",\n",
    "    yaxis_title=\"Bias\",\n",
    "    width=400,\n",
    "    height=400\n",
    ")\n",
    "\n",
    "fig.show()"
   ]
  },
  {
   "cell_type": "markdown",
   "id": "7f6f386b",
   "metadata": {},
   "source": [
    "#### Transpose"
   ]
  },
  {
   "cell_type": "code",
   "execution_count": 2264,
   "id": "b40b091a",
   "metadata": {},
   "outputs": [
    {
     "data": {
      "text/html": [
       "<div>\n",
       "<style scoped>\n",
       "    .dataframe tbody tr th:only-of-type {\n",
       "        vertical-align: middle;\n",
       "    }\n",
       "\n",
       "    .dataframe tbody tr th {\n",
       "        vertical-align: top;\n",
       "    }\n",
       "\n",
       "    .dataframe thead th {\n",
       "        text-align: right;\n",
       "    }\n",
       "</style>\n",
       "<table border=\"1\" class=\"dataframe\">\n",
       "  <thead>\n",
       "    <tr style=\"text-align: right;\">\n",
       "      <th></th>\n",
       "      <th>0</th>\n",
       "      <th>1</th>\n",
       "      <th>2</th>\n",
       "      <th>3</th>\n",
       "      <th>4</th>\n",
       "      <th>5</th>\n",
       "      <th>6</th>\n",
       "      <th>7</th>\n",
       "      <th>8</th>\n",
       "      <th>10</th>\n",
       "      <th>11</th>\n",
       "      <th>13</th>\n",
       "      <th>14</th>\n",
       "      <th>15</th>\n",
       "      <th>16</th>\n",
       "      <th>17</th>\n",
       "      <th>18</th>\n",
       "      <th>19</th>\n",
       "      <th>20</th>\n",
       "      <th>21</th>\n",
       "    </tr>\n",
       "  </thead>\n",
       "  <tbody>\n",
       "    <tr>\n",
       "      <th>Age</th>\n",
       "      <td>25-35</td>\n",
       "      <td>45-55</td>\n",
       "      <td>25-35</td>\n",
       "      <td>35-45</td>\n",
       "      <td>25-35</td>\n",
       "      <td>25-35</td>\n",
       "      <td>35-45</td>\n",
       "      <td>45-55</td>\n",
       "      <td>25-35</td>\n",
       "      <td>45-55</td>\n",
       "      <td>25-35</td>\n",
       "      <td>25-35</td>\n",
       "      <td>35-45</td>\n",
       "      <td>25-35</td>\n",
       "      <td>45-55</td>\n",
       "      <td>45-55</td>\n",
       "      <td>25-35</td>\n",
       "      <td>25-35</td>\n",
       "      <td>25-35</td>\n",
       "      <td>25-35</td>\n",
       "    </tr>\n",
       "    <tr>\n",
       "      <th>Gender</th>\n",
       "      <td>férfi</td>\n",
       "      <td>férfi</td>\n",
       "      <td>férfi</td>\n",
       "      <td>férfi</td>\n",
       "      <td>férfi</td>\n",
       "      <td>férfi</td>\n",
       "      <td>nő</td>\n",
       "      <td>nő</td>\n",
       "      <td>férfi</td>\n",
       "      <td>nő</td>\n",
       "      <td>férfi</td>\n",
       "      <td>nő</td>\n",
       "      <td>nő</td>\n",
       "      <td>nő</td>\n",
       "      <td>nő</td>\n",
       "      <td>nő</td>\n",
       "      <td>nő</td>\n",
       "      <td>nő</td>\n",
       "      <td>nő</td>\n",
       "      <td>férfi</td>\n",
       "    </tr>\n",
       "    <tr>\n",
       "      <th>modell</th>\n",
       "      <td>2</td>\n",
       "      <td>2</td>\n",
       "      <td>0</td>\n",
       "      <td>2</td>\n",
       "      <td>0</td>\n",
       "      <td>2</td>\n",
       "      <td>2</td>\n",
       "      <td>1</td>\n",
       "      <td>1</td>\n",
       "      <td>0</td>\n",
       "      <td>1</td>\n",
       "      <td>0</td>\n",
       "      <td>0</td>\n",
       "      <td>1</td>\n",
       "      <td>2</td>\n",
       "      <td>0</td>\n",
       "      <td>0</td>\n",
       "      <td>2</td>\n",
       "      <td>0</td>\n",
       "      <td>2</td>\n",
       "    </tr>\n",
       "    <tr>\n",
       "      <th>katona</th>\n",
       "      <td>-3</td>\n",
       "      <td>-2</td>\n",
       "      <td>-2</td>\n",
       "      <td>-2</td>\n",
       "      <td>-2</td>\n",
       "      <td>-2</td>\n",
       "      <td>-2</td>\n",
       "      <td>-2</td>\n",
       "      <td>-2</td>\n",
       "      <td>-1</td>\n",
       "      <td>-2</td>\n",
       "      <td>0</td>\n",
       "      <td>-1</td>\n",
       "      <td>-2</td>\n",
       "      <td>-2</td>\n",
       "      <td>-1</td>\n",
       "      <td>-2</td>\n",
       "      <td>-3</td>\n",
       "      <td>-1</td>\n",
       "      <td>-2</td>\n",
       "    </tr>\n",
       "    <tr>\n",
       "      <th>kórboncnok</th>\n",
       "      <td>0</td>\n",
       "      <td>-1</td>\n",
       "      <td>0</td>\n",
       "      <td>-1</td>\n",
       "      <td>-2</td>\n",
       "      <td>-1</td>\n",
       "      <td>-1</td>\n",
       "      <td>-2</td>\n",
       "      <td>-2</td>\n",
       "      <td>0</td>\n",
       "      <td>-1</td>\n",
       "      <td>0</td>\n",
       "      <td>-1</td>\n",
       "      <td>0</td>\n",
       "      <td>0</td>\n",
       "      <td>0</td>\n",
       "      <td>0</td>\n",
       "      <td>-2</td>\n",
       "      <td>0</td>\n",
       "      <td>-2</td>\n",
       "    </tr>\n",
       "    <tr>\n",
       "      <th>vezérigazgató</th>\n",
       "      <td>-1</td>\n",
       "      <td>-1</td>\n",
       "      <td>-1</td>\n",
       "      <td>-1</td>\n",
       "      <td>0</td>\n",
       "      <td>-1</td>\n",
       "      <td>-1</td>\n",
       "      <td>-2</td>\n",
       "      <td>-2</td>\n",
       "      <td>-1</td>\n",
       "      <td>-1</td>\n",
       "      <td>0</td>\n",
       "      <td>-2</td>\n",
       "      <td>-2</td>\n",
       "      <td>-2</td>\n",
       "      <td>0</td>\n",
       "      <td>-2</td>\n",
       "      <td>-2</td>\n",
       "      <td>-2</td>\n",
       "      <td>-1</td>\n",
       "    </tr>\n",
       "    <tr>\n",
       "      <th>menedzser</th>\n",
       "      <td>-1</td>\n",
       "      <td>0</td>\n",
       "      <td>-1</td>\n",
       "      <td>0</td>\n",
       "      <td>0</td>\n",
       "      <td>0</td>\n",
       "      <td>-1</td>\n",
       "      <td>-1</td>\n",
       "      <td>-2</td>\n",
       "      <td>0</td>\n",
       "      <td>-1</td>\n",
       "      <td>0</td>\n",
       "      <td>-1</td>\n",
       "      <td>0</td>\n",
       "      <td>-2</td>\n",
       "      <td>0</td>\n",
       "      <td>-1</td>\n",
       "      <td>-1</td>\n",
       "      <td>0</td>\n",
       "      <td>-1</td>\n",
       "    </tr>\n",
       "    <tr>\n",
       "      <th>nővér</th>\n",
       "      <td>3</td>\n",
       "      <td>3</td>\n",
       "      <td>2</td>\n",
       "      <td>3</td>\n",
       "      <td>3</td>\n",
       "      <td>3</td>\n",
       "      <td>3</td>\n",
       "      <td>2</td>\n",
       "      <td>3</td>\n",
       "      <td>1</td>\n",
       "      <td>2</td>\n",
       "      <td>1</td>\n",
       "      <td>2</td>\n",
       "      <td>3</td>\n",
       "      <td>3</td>\n",
       "      <td>1</td>\n",
       "      <td>1</td>\n",
       "      <td>2</td>\n",
       "      <td>2</td>\n",
       "      <td>1</td>\n",
       "    </tr>\n",
       "    <tr>\n",
       "      <th>szakács</th>\n",
       "      <td>0</td>\n",
       "      <td>0</td>\n",
       "      <td>-1</td>\n",
       "      <td>-1</td>\n",
       "      <td>-1</td>\n",
       "      <td>-2</td>\n",
       "      <td>-1</td>\n",
       "      <td>-1</td>\n",
       "      <td>-2</td>\n",
       "      <td>-1</td>\n",
       "      <td>-2</td>\n",
       "      <td>0</td>\n",
       "      <td>-1</td>\n",
       "      <td>-1</td>\n",
       "      <td>-2</td>\n",
       "      <td>0</td>\n",
       "      <td>-1</td>\n",
       "      <td>-1</td>\n",
       "      <td>0</td>\n",
       "      <td>0</td>\n",
       "    </tr>\n",
       "    <tr>\n",
       "      <th>felszolgáló</th>\n",
       "      <td>0</td>\n",
       "      <td>-1</td>\n",
       "      <td>0</td>\n",
       "      <td>1</td>\n",
       "      <td>0</td>\n",
       "      <td>0</td>\n",
       "      <td>0</td>\n",
       "      <td>0</td>\n",
       "      <td>1</td>\n",
       "      <td>0</td>\n",
       "      <td>0</td>\n",
       "      <td>0</td>\n",
       "      <td>0</td>\n",
       "      <td>0</td>\n",
       "      <td>2</td>\n",
       "      <td>0</td>\n",
       "      <td>0</td>\n",
       "      <td>1</td>\n",
       "      <td>0</td>\n",
       "      <td>0</td>\n",
       "    </tr>\n",
       "  </tbody>\n",
       "</table>\n",
       "</div>"
      ],
      "text/plain": [
       "                  0      1      2      3      4      5      6      7      8   \\\n",
       "Age            25-35  45-55  25-35  35-45  25-35  25-35  35-45  45-55  25-35   \n",
       "Gender         férfi  férfi  férfi  férfi  férfi  férfi     nő     nő  férfi   \n",
       "modell             2      2      0      2      0      2      2      1      1   \n",
       "katona            -3     -2     -2     -2     -2     -2     -2     -2     -2   \n",
       "kórboncnok         0     -1      0     -1     -2     -1     -1     -2     -2   \n",
       "vezérigazgató     -1     -1     -1     -1      0     -1     -1     -2     -2   \n",
       "menedzser         -1      0     -1      0      0      0     -1     -1     -2   \n",
       "nővér              3      3      2      3      3      3      3      2      3   \n",
       "szakács            0      0     -1     -1     -1     -2     -1     -1     -2   \n",
       "felszolgáló        0     -1      0      1      0      0      0      0      1   \n",
       "\n",
       "                  10     11     13     14     15     16     17     18     19  \\\n",
       "Age            45-55  25-35  25-35  35-45  25-35  45-55  45-55  25-35  25-35   \n",
       "Gender            nő  férfi     nő     nő     nő     nő     nő     nő     nő   \n",
       "modell             0      1      0      0      1      2      0      0      2   \n",
       "katona            -1     -2      0     -1     -2     -2     -1     -2     -3   \n",
       "kórboncnok         0     -1      0     -1      0      0      0      0     -2   \n",
       "vezérigazgató     -1     -1      0     -2     -2     -2      0     -2     -2   \n",
       "menedzser          0     -1      0     -1      0     -2      0     -1     -1   \n",
       "nővér              1      2      1      2      3      3      1      1      2   \n",
       "szakács           -1     -2      0     -1     -1     -2      0     -1     -1   \n",
       "felszolgáló        0      0      0      0      0      2      0      0      1   \n",
       "\n",
       "                  20     21  \n",
       "Age            25-35  25-35  \n",
       "Gender            nő  férfi  \n",
       "modell             0      2  \n",
       "katona            -1     -2  \n",
       "kórboncnok         0     -2  \n",
       "vezérigazgató     -2     -1  \n",
       "menedzser          0     -1  \n",
       "nővér              2      1  \n",
       "szakács            0      0  \n",
       "felszolgáló        0      0  "
      ]
     },
     "execution_count": 2264,
     "metadata": {},
     "output_type": "execute_result"
    }
   ],
   "source": [
    "# Transpose results, a prepare a copy with only the ratings\n",
    "df_hu_ratings = df_hu[rating_columns].transpose()\n",
    "df_hu = df_hu.transpose()\n",
    "\n",
    "# Remove rows with index: ID, Start Time, Completion time, Email, Name, Participant id\n",
    "df_hu = df_hu.drop(['ID', 'Start time', 'Completion time', 'Email', 'Name', 'Participant id'], axis=0) \n",
    "\n",
    "# Show\n",
    "df_hu.head(10)"
   ]
  },
  {
   "cell_type": "markdown",
   "id": "b4e09018",
   "metadata": {},
   "source": [
    "#### One Sample T-test"
   ]
  },
  {
   "cell_type": "code",
   "execution_count": 2265,
   "id": "4c9bee89",
   "metadata": {},
   "outputs": [
    {
     "name": "stdout",
     "output_type": "stream",
     "text": [
      "               item  mean       std       p_value\n",
      "0            modell  1.00  0.917663  1.055453e-04\n",
      "1            katona -1.80  0.695852  4.798108e-10\n",
      "2        kórboncnok -0.80  0.833509  3.931739e-04\n",
      "3     vezérigazgató -1.25  0.716350  2.419167e-07\n",
      "4         menedzser -0.65  0.670820  3.581297e-04\n",
      "5             nővér  2.20  0.833509  3.420203e-10\n",
      "6           szakács -0.90  0.718185  2.099888e-05\n",
      "8          könyvelő  0.50  0.888523  2.099150e-02\n",
      "9        professzor -0.90  0.911910  2.982605e-04\n",
      "10          építész -1.25  0.850696  2.726994e-06\n",
      "11            tudós -0.40  0.598243  7.523484e-03\n",
      "13        pénztáros  1.05  0.825578  1.752416e-05\n",
      "14             bíró -0.25  0.444262  2.099150e-02\n",
      "15           munkás -1.40  0.820783  3.373973e-07\n",
      "16        vízimentő -1.10  0.852242  1.460823e-05\n",
      "18          tűzoltó -2.20  0.767772  8.478271e-11\n",
      "19           mérnök -1.15  0.812728  4.506255e-06\n",
      "20          rendező -0.85  0.745160  6.342961e-05\n",
      "21         takarító  1.25  1.069924  4.823460e-05\n",
      "22            HR-es  0.90  0.788069  6.259184e-05\n",
      "23        házvezető  1.80  0.951453  7.226336e-08\n",
      "24  légiutas-kísérő  1.40  0.820783  3.373973e-07\n",
      "25           pincér -0.45  0.944513  4.639861e-02\n",
      "26            orvos -0.55  0.604805  6.576412e-04\n",
      "27          fodrász  1.00  0.858395  4.985655e-05\n",
      "28        földműves -1.40  0.680557  1.981922e-08\n",
      "29          gondozó  1.05  1.099043  4.112939e-04\n",
      "30      bolti eladó  0.95  0.825578  5.742284e-05\n",
      "31          kertész -0.80  0.833509  3.931739e-04\n",
      "34       dietetikus  0.65  0.670820  3.581297e-04\n",
      "36           rendőr -1.35  0.812728  4.948554e-07\n",
      "37           pilóta -1.65  0.812728  2.435793e-08\n",
      "38        recepciós  0.65  0.812728  2.012289e-03\n",
      "39    biztonsági őr -1.90  0.447214  8.074624e-14\n",
      "40           ügyész -0.70  0.801315  9.481909e-04\n",
      "41       kozmetikus  2.20  0.615587  1.793685e-12\n",
      "42       programozó -1.35  0.745160  1.387426e-07\n",
      "\n",
      "Range of mean ratings where the rating is not significant: -0.3 to 0.45\n"
     ]
    }
   ],
   "source": [
    "# One Sample T-test with standard deviation\n",
    "results = []\n",
    "\n",
    "for index, row in df_hu_ratings.iterrows():\n",
    "    ratings = row.dropna().astype(float)\n",
    "    t_stat, p_value = stats.ttest_1samp(ratings, popmean=0)\n",
    "    mean_rating = ratings.mean()\n",
    "    std_rating = ratings.std()\n",
    "    results.append({\n",
    "        'item': index,  # item name from index\n",
    "        'mean': mean_rating,\n",
    "        'std': std_rating,\n",
    "        't_stat': t_stat,\n",
    "        'p_value': p_value,\n",
    "        'significant': p_value < 0.05\n",
    "    })\n",
    "\n",
    "df_results = pd.DataFrame(results)\n",
    "\n",
    "# Print significant results\n",
    "print(df_results[df_results['significant']][['item', 'mean', 'std', 'p_value']])\n",
    "\n",
    "# Filter for non-significant ratings\n",
    "not_significant = df_results[~df_results['significant']]\n",
    "\n",
    "# Get the min and max of the mean ratings where not significant\n",
    "mean_min = not_significant['mean'].min()\n",
    "mean_max = not_significant['mean'].max()\n",
    "\n",
    "# Print the range of mean ratings where the rating is not significant\n",
    "print(f\"\\nRange of mean ratings where the rating is not significant: {mean_min} to {mean_max}\")"
   ]
  },
  {
   "cell_type": "code",
   "execution_count": 2266,
   "id": "9b91962d",
   "metadata": {},
   "outputs": [],
   "source": [
    "# # Sort by mean for better readability\n",
    "# df_results_sorted = df_results.sort_values(by='mean')\n",
    "\n",
    "# # Create color labels\n",
    "# df_results_sorted['Significance'] = df_results_sorted['significant'].map({True: 'significant', False: 'not significant'})\n",
    "\n",
    "# # Plot\n",
    "# fig = px.bar(\n",
    "#     df_results_sorted,\n",
    "#     x='item',\n",
    "#     y='mean',\n",
    "#     color='Significance',\n",
    "#     color_discrete_map={'significant': 'crimson', 'not significant': 'lightgray'},\n",
    "#     title='One Sample T-test of Raw Ratings',\n",
    "#     labels={'item': 'Item', 'mean': 'Mean Rating'},\n",
    "#     # On hover, Show the item, mean rating, and p-value    \n",
    "#     hover_data=['item', 'mean', 'p_value'],\n",
    "#     # Edit hovertemplate to show item, mean, and p-value\n",
    "    \n",
    "# )\n",
    "\n",
    "# fig.update_layout(\n",
    "#     xaxis_tickangle=-45,\n",
    "#     template='plotly_white',\n",
    "#     margin=dict(l=0, r=0, t=40, b=0),\n",
    "#     legend=dict(\n",
    "#         orientation='h',\n",
    "#         yanchor='bottom',\n",
    "#         y=0,\n",
    "#         xanchor='center',\n",
    "#         x=0.5,\n",
    "#         bgcolor='rgba(220, 220, 220, 0.25)',\n",
    "#     )\n",
    "# )\n",
    "\n",
    "# # Show\n",
    "# fig.show()\n",
    "\n",
    "# # Save it as html\n",
    "# fig.write_html('occupations_ttest_hu.html')\n",
    "\n",
    "# # Save it as image  \n",
    "# fig.write_image('occupations_ttest_hu.png', scale=3, width=1000, height=400)"
   ]
  },
  {
   "cell_type": "markdown",
   "id": "6e10fb07",
   "metadata": {},
   "source": [
    "#### Merge"
   ]
  },
  {
   "cell_type": "code",
   "execution_count": 2267,
   "id": "652b7b14",
   "metadata": {},
   "outputs": [
    {
     "data": {
      "text/html": [
       "<div>\n",
       "<style scoped>\n",
       "    .dataframe tbody tr th:only-of-type {\n",
       "        vertical-align: middle;\n",
       "    }\n",
       "\n",
       "    .dataframe tbody tr th {\n",
       "        vertical-align: top;\n",
       "    }\n",
       "\n",
       "    .dataframe thead th {\n",
       "        text-align: right;\n",
       "    }\n",
       "</style>\n",
       "<table border=\"1\" class=\"dataframe\">\n",
       "  <thead>\n",
       "    <tr style=\"text-align: right;\">\n",
       "      <th></th>\n",
       "      <th>hu</th>\n",
       "      <th>en</th>\n",
       "      <th>zh</th>\n",
       "      <th>0</th>\n",
       "      <th>1</th>\n",
       "      <th>2</th>\n",
       "      <th>3</th>\n",
       "      <th>4</th>\n",
       "      <th>5</th>\n",
       "      <th>6</th>\n",
       "      <th>...</th>\n",
       "      <th>20</th>\n",
       "      <th>21</th>\n",
       "      <th>chatgpt</th>\n",
       "      <th>copilot</th>\n",
       "      <th>gemini</th>\n",
       "      <th>deepseek</th>\n",
       "      <th>hu_mean</th>\n",
       "      <th>hu_std</th>\n",
       "      <th>hu_p_value</th>\n",
       "      <th>hu_significant</th>\n",
       "    </tr>\n",
       "  </thead>\n",
       "  <tbody>\n",
       "    <tr>\n",
       "      <th>41</th>\n",
       "      <td>biztonsági őr</td>\n",
       "      <td>security guard</td>\n",
       "      <td>保安</td>\n",
       "      <td>-2</td>\n",
       "      <td>-2</td>\n",
       "      <td>-2</td>\n",
       "      <td>-2</td>\n",
       "      <td>-1</td>\n",
       "      <td>-2</td>\n",
       "      <td>-2</td>\n",
       "      <td>...</td>\n",
       "      <td>-1</td>\n",
       "      <td>-2</td>\n",
       "      <td>-2.5</td>\n",
       "      <td>-1.8</td>\n",
       "      <td>-2.5</td>\n",
       "      <td>-2.85</td>\n",
       "      <td>-1.9</td>\n",
       "      <td>0.447214</td>\n",
       "      <td>8.074624e-14</td>\n",
       "      <td>True</td>\n",
       "    </tr>\n",
       "    <tr>\n",
       "      <th>20</th>\n",
       "      <td>tűzoltó</td>\n",
       "      <td>firefighter</td>\n",
       "      <td>消防员</td>\n",
       "      <td>-2</td>\n",
       "      <td>-3</td>\n",
       "      <td>0</td>\n",
       "      <td>-2</td>\n",
       "      <td>-2</td>\n",
       "      <td>-3</td>\n",
       "      <td>-2</td>\n",
       "      <td>...</td>\n",
       "      <td>-2</td>\n",
       "      <td>-2</td>\n",
       "      <td>-2.9</td>\n",
       "      <td>-2.5</td>\n",
       "      <td>-2.8</td>\n",
       "      <td>-2.98</td>\n",
       "      <td>-2.2</td>\n",
       "      <td>0.767772</td>\n",
       "      <td>8.478271e-11</td>\n",
       "      <td>True</td>\n",
       "    </tr>\n",
       "    <tr>\n",
       "      <th>0</th>\n",
       "      <td>Age</td>\n",
       "      <td>NaN</td>\n",
       "      <td>NaN</td>\n",
       "      <td>25-35</td>\n",
       "      <td>45-55</td>\n",
       "      <td>25-35</td>\n",
       "      <td>35-45</td>\n",
       "      <td>25-35</td>\n",
       "      <td>25-35</td>\n",
       "      <td>35-45</td>\n",
       "      <td>...</td>\n",
       "      <td>25-35</td>\n",
       "      <td>25-35</td>\n",
       "      <td>NaN</td>\n",
       "      <td>NaN</td>\n",
       "      <td>NaN</td>\n",
       "      <td>NaN</td>\n",
       "      <td>NaN</td>\n",
       "      <td>NaN</td>\n",
       "      <td>NaN</td>\n",
       "      <td>NaN</td>\n",
       "    </tr>\n",
       "    <tr>\n",
       "      <th>1</th>\n",
       "      <td>Gender</td>\n",
       "      <td>NaN</td>\n",
       "      <td>NaN</td>\n",
       "      <td>férfi</td>\n",
       "      <td>férfi</td>\n",
       "      <td>férfi</td>\n",
       "      <td>férfi</td>\n",
       "      <td>férfi</td>\n",
       "      <td>férfi</td>\n",
       "      <td>nő</td>\n",
       "      <td>...</td>\n",
       "      <td>nő</td>\n",
       "      <td>férfi</td>\n",
       "      <td>NaN</td>\n",
       "      <td>NaN</td>\n",
       "      <td>NaN</td>\n",
       "      <td>NaN</td>\n",
       "      <td>NaN</td>\n",
       "      <td>NaN</td>\n",
       "      <td>NaN</td>\n",
       "      <td>NaN</td>\n",
       "    </tr>\n",
       "    <tr>\n",
       "      <th>46</th>\n",
       "      <td>Mean Rating</td>\n",
       "      <td>NaN</td>\n",
       "      <td>NaN</td>\n",
       "      <td>-0.204545</td>\n",
       "      <td>-0.25</td>\n",
       "      <td>-0.204545</td>\n",
       "      <td>0.272727</td>\n",
       "      <td>-0.204545</td>\n",
       "      <td>-0.136364</td>\n",
       "      <td>-0.340909</td>\n",
       "      <td>...</td>\n",
       "      <td>-0.25</td>\n",
       "      <td>-0.272727</td>\n",
       "      <td>NaN</td>\n",
       "      <td>NaN</td>\n",
       "      <td>NaN</td>\n",
       "      <td>NaN</td>\n",
       "      <td>NaN</td>\n",
       "      <td>NaN</td>\n",
       "      <td>NaN</td>\n",
       "      <td>NaN</td>\n",
       "    </tr>\n",
       "  </tbody>\n",
       "</table>\n",
       "<p>5 rows × 31 columns</p>\n",
       "</div>"
      ],
      "text/plain": [
       "               hu              en   zh         0      1         2         3  \\\n",
       "41  biztonsági őr  security guard   保安        -2     -2        -2        -2   \n",
       "20        tűzoltó     firefighter  消防员        -2     -3         0        -2   \n",
       "0             Age             NaN  NaN     25-35  45-55     25-35     35-45   \n",
       "1          Gender             NaN  NaN     férfi  férfi     férfi     férfi   \n",
       "46    Mean Rating             NaN  NaN -0.204545  -0.25 -0.204545  0.272727   \n",
       "\n",
       "           4         5         6  ...     20        21 chatgpt copilot gemini  \\\n",
       "41        -1        -2        -2  ...     -1        -2    -2.5    -1.8   -2.5   \n",
       "20        -2        -3        -2  ...     -2        -2    -2.9    -2.5   -2.8   \n",
       "0      25-35     25-35     35-45  ...  25-35     25-35     NaN     NaN    NaN   \n",
       "1      férfi     férfi        nő  ...     nő     férfi     NaN     NaN    NaN   \n",
       "46 -0.204545 -0.136364 -0.340909  ...  -0.25 -0.272727     NaN     NaN    NaN   \n",
       "\n",
       "   deepseek hu_mean    hu_std    hu_p_value hu_significant  \n",
       "41    -2.85    -1.9  0.447214  8.074624e-14           True  \n",
       "20    -2.98    -2.2  0.767772  8.478271e-11           True  \n",
       "0       NaN     NaN       NaN           NaN            NaN  \n",
       "1       NaN     NaN       NaN           NaN            NaN  \n",
       "46      NaN     NaN       NaN           NaN            NaN  \n",
       "\n",
       "[5 rows x 31 columns]"
      ]
     },
     "execution_count": 2267,
     "metadata": {},
     "output_type": "execute_result"
    }
   ],
   "source": [
    "# Turn index column into a column called 'hu'\n",
    "df_hu.reset_index(inplace=True)\n",
    "df_hu.rename(columns={'index': 'hu'}, inplace=True)\n",
    "\n",
    "# Merge df_hu and occupations on the 'hu' column\n",
    "df_hu = pd.merge(df_hu, occupations, on='hu', how='left')\n",
    "\n",
    "# Reorder columns so the dataframe starts with 'hu' 'en', 'zh', and so on\n",
    "df_hu = df_hu[['#', 'hu', 'en', 'zh'] + [col for col in df_hu.columns if col not in ['#', 'hu', 'en' , 'zh']]]\n",
    "\n",
    "# Merge df_hu and df_results on the 'hu' column\n",
    "df_hu = pd.merge(df_hu, df_results, left_on='hu', right_on='item', how='left')\n",
    "\n",
    "# Sort all occupations by their average ratings\n",
    "df_hu = df_hu.sort_values(by='mean', ascending=False)\n",
    "\n",
    "# Drop redundant columns\n",
    "df_hu.drop(columns=['#', 'item', 't_stat'], inplace=True)\n",
    "\n",
    "# Rename the columns for clarity\n",
    "df_hu.rename(columns={'mean': 'hu_mean',\n",
    "                      't_stat': 'hu_t_stat',\n",
    "                      'std': 'hu_std',\n",
    "                      'p_value': 'hu_p_value',\n",
    "                      'significant': 'hu_significant'}, inplace=True)\n",
    "\n",
    "\n",
    "# Save df_hu as an Excel file\n",
    "df_hu.to_excel('occupations_hu.xlsx', index=False)\n",
    "\n",
    "# Show the final DataFrame\n",
    "df_hu.head()\n",
    "\n",
    "#Show\n",
    "df_hu.tail()"
   ]
  },
  {
   "cell_type": "markdown",
   "id": "5879fd7d",
   "metadata": {},
   "source": [
    "### Plot"
   ]
  },
  {
   "cell_type": "code",
   "execution_count": 2268,
   "id": "c8bf8af8",
   "metadata": {},
   "outputs": [
    {
     "data": {
      "application/vnd.plotly.v1+json": {
       "config": {
        "plotlyServerURL": "https://plot.ly"
       },
       "data": [
        {
         "customdata": [
          [
           "nurse",
           "护士"
          ],
          [
           "beautician",
           "美容师"
          ],
          [
           "housekeeper",
           "家政员"
          ],
          [
           "flight attendant",
           "乘务员"
          ],
          [
           "cleaner",
           "保洁"
          ],
          [
           "caretaker",
           "护工"
          ],
          [
           "cashier",
           "收银员"
          ],
          [
           "hairdresser",
           "理发师"
          ],
          [
           "model",
           "模特"
          ],
          [
           "shop assistant",
           "导购员"
          ],
          [
           "HR specialist",
           "人力資源"
          ],
          [
           "dietitian",
           "营养师"
          ],
          [
           "receptionist",
           "前台"
          ],
          [
           "accountant",
           "会计"
          ]
         ],
         "error_y": {
          "array": {
           "bdata": "jS+ijBqs6j9yTiWI47LjP5J0pfFNcu4/mWjcCtpD6j/UBiJfaB7xP5sDvL2tlfE/QHmXcSJr6j+b2+vy+HfrPze5FKl+Xe0/QHmXcSJr6j+PeNVS3DfpP2PyT1Rcd+U/7aX7hd0B6j/0SFZzyG7sPw==",
           "dtype": "f8"
          },
          "thickness": 0.75,
          "type": "data"
         },
         "hovertemplate": "Hungarian: %{x}<br>Mean Rating: %{y:.2f}<br>Standard Deviation: %{error_y.array:.2f}<br>English: %{customdata[0]}<br>Chinese: %{customdata[1]}<extra></extra>",
         "marker": {
          "color": "#C46BE1"
         },
         "name": "Female",
         "type": "bar",
         "x": [
          "nővér",
          "kozmetikus",
          "házvezető",
          "légiutas-kísérő",
          "takarító",
          "gondozó",
          "pénztáros",
          "fodrász",
          "modell",
          "bolti eladó",
          "HR-es",
          "dietetikus",
          "recepciós",
          "könyvelő"
         ],
         "y": {
          "bdata": "mpmZmZmZAUCamZmZmZkBQM3MzMzMzPw/ZmZmZmZm9j8AAAAAAAD0P83MzMzMzPA/zczMzMzM8D8AAAAAAADwPwAAAAAAAPA/ZmZmZmZm7j/NzMzMzMzsP83MzMzMzOQ/zczMzMzM5D8AAAAAAADgPw==",
          "dtype": "f8"
         }
        },
        {
         "customdata": [
          [
           "(male) nurse",
           "护士 (男)"
          ],
          [
           "PR specialist",
           "公关"
          ],
          [
           "waiter*",
           "服务员*"
          ],
          [
           "ticketseller",
           "售票员"
          ],
          [
           "student",
           "學生"
          ],
          [
           "teacher",
           "教师"
          ],
          [
           "judge",
           "法官"
          ],
          [
           "secretary",
           "秘书"
          ]
         ],
         "error_y": {
          "array": {
           "bdata": "rGR1P0qz9T96r/r8PHLnP3NOJYjjsuM/y5H8XZaR6D8AAAAAAAAAAIyWO6GFN/E/9EhWc8hu3D+kwEsC4MnyPw==",
           "dtype": "f8"
          },
          "thickness": 0.75,
          "type": "data"
         },
         "hovertemplate": "Hungarian: %{x}<br>Mean Rating: %{y:.2f}<br>Standard Deviation: %{error_y.array:.2f}<br>English: %{customdata[0]}<br>Chinese: %{customdata[1]}<extra></extra>",
         "marker": {
          "color": "#949494"
         },
         "name": "Neutral",
         "type": "bar",
         "x": [
          "ápoló",
          "PR munkatárs",
          "felszolgáló",
          "jegyárus",
          "diák",
          "tanár",
          "bíró",
          "titkár"
         ],
         "y": {
          "bdata": "zczMzMzM3D8zMzMzMzPTP5qZmZmZmck/mpmZmZmZyT8AAAAAAAAAAAAAAAAAAAAAAAAAAAAA0L8zMzMzMzPTvw==",
          "dtype": "f8"
         }
        },
        {
         "customdata": [
          [
           "scientist",
           "科学家"
          ],
          [
           "waiter",
           "服务员"
          ],
          [
           "doctor",
           "医生"
          ],
          [
           "manager",
           "高管"
          ],
          [
           "prosecutor",
           "检察官"
          ],
          [
           "pathologist",
           "法医"
          ],
          [
           "gardener",
           "園丁"
          ],
          [
           "director",
           "导演"
          ],
          [
           "chef",
           "厨师"
          ],
          [
           "professor",
           "教授"
          ],
          [
           "lifeguard",
           "救生员"
          ],
          [
           "engineer",
           "工程师"
          ],
          [
           "CEO",
           "董事长"
          ],
          [
           "architect",
           "建筑师"
          ],
          [
           "programmer",
           "程序员"
          ],
          [
           "police officer",
           "警察"
          ],
          [
           "farmer",
           "農民"
          ],
          [
           "worker",
           "工人"
          ],
          [
           "pilot",
           "機長"
          ],
          [
           "soldier",
           "军人"
          ],
          [
           "security guard",
           "保安"
          ],
          [
           "firefighter",
           "消防员"
          ]
         ],
         "error_y": {
          "array": {
           "bdata": "IqBZl84k4z/l20zVcznuP74yGq+QWuM/Y/JPVFx35T+MP7i+XqTpP4wvoowarOo/iy+ijBqs6j84HlloWdjnP4bbgMle++Y/dok32Fwu7T+t4h07kEXrP+2l+4XdAeo/YFk+rFfs5j83KF535zjrPzgeWWhZ2Oc/7aX7hd0B6j/FubGSH8flP5lo3AraQ+o/7aX7hd0B6j/SG50ybETmP9ntv8Uln9w/zZH8XZaR6D8=",
           "dtype": "f8"
          },
          "thickness": 0.75,
          "type": "data"
         },
         "hovertemplate": "Hungarian: %{x}<br>Mean Rating: %{y:.2f}<br>Standard Deviation: %{error_y.array:.2f}<br>English: %{customdata[0]}<br>Chinese: %{customdata[1]}<extra></extra>",
         "marker": {
          "color": "#4090C2"
         },
         "name": "Male",
         "type": "bar",
         "x": [
          "tudós",
          "pincér",
          "orvos",
          "menedzser",
          "ügyész",
          "kórboncnok",
          "kertész",
          "rendező",
          "szakács",
          "professzor",
          "vízimentő",
          "mérnök",
          "vezérigazgató",
          "építész",
          "programozó",
          "rendőr",
          "földműves",
          "munkás",
          "pilóta",
          "katona",
          "biztonsági őr",
          "tűzoltó"
         ],
         "y": {
          "bdata": "mpmZmZmZ2b/NzMzMzMzcv5qZmZmZmeG/zczMzMzM5L9mZmZmZmbmv5qZmZmZmem/mpmZmZmZ6b8zMzMzMzPrv83MzMzMzOy/zczMzMzM7L+amZmZmZnxv2ZmZmZmZvK/AAAAAAAA9L8AAAAAAAD0v5qZmZmZmfW/mpmZmZmZ9b9mZmZmZmb2v2ZmZmZmZva/ZmZmZmZm+r/NzMzMzMz8v2ZmZmZmZv6/mpmZmZmZAcA=",
          "dtype": "f8"
         }
        }
       ],
       "layout": {
        "font": {
         "color": "black",
         "family": "Times New Roman, serif",
         "size": 16
        },
        "legend": {
         "bgcolor": "rgba(220, 220, 220, 0.25)",
         "orientation": "h",
         "x": 0.5,
         "xanchor": "center",
         "y": 0,
         "yanchor": "bottom"
        },
        "margin": {
         "b": 0,
         "l": 0,
         "r": 0,
         "t": 0
        },
        "template": {
         "data": {
          "bar": [
           {
            "error_x": {
             "color": "#2a3f5f"
            },
            "error_y": {
             "color": "#2a3f5f"
            },
            "marker": {
             "line": {
              "color": "white",
              "width": 0.5
             },
             "pattern": {
              "fillmode": "overlay",
              "size": 10,
              "solidity": 0.2
             }
            },
            "type": "bar"
           }
          ],
          "barpolar": [
           {
            "marker": {
             "line": {
              "color": "white",
              "width": 0.5
             },
             "pattern": {
              "fillmode": "overlay",
              "size": 10,
              "solidity": 0.2
             }
            },
            "type": "barpolar"
           }
          ],
          "carpet": [
           {
            "aaxis": {
             "endlinecolor": "#2a3f5f",
             "gridcolor": "#C8D4E3",
             "linecolor": "#C8D4E3",
             "minorgridcolor": "#C8D4E3",
             "startlinecolor": "#2a3f5f"
            },
            "baxis": {
             "endlinecolor": "#2a3f5f",
             "gridcolor": "#C8D4E3",
             "linecolor": "#C8D4E3",
             "minorgridcolor": "#C8D4E3",
             "startlinecolor": "#2a3f5f"
            },
            "type": "carpet"
           }
          ],
          "choropleth": [
           {
            "colorbar": {
             "outlinewidth": 0,
             "ticks": ""
            },
            "type": "choropleth"
           }
          ],
          "contour": [
           {
            "colorbar": {
             "outlinewidth": 0,
             "ticks": ""
            },
            "colorscale": [
             [
              0,
              "#0d0887"
             ],
             [
              0.1111111111111111,
              "#46039f"
             ],
             [
              0.2222222222222222,
              "#7201a8"
             ],
             [
              0.3333333333333333,
              "#9c179e"
             ],
             [
              0.4444444444444444,
              "#bd3786"
             ],
             [
              0.5555555555555556,
              "#d8576b"
             ],
             [
              0.6666666666666666,
              "#ed7953"
             ],
             [
              0.7777777777777778,
              "#fb9f3a"
             ],
             [
              0.8888888888888888,
              "#fdca26"
             ],
             [
              1,
              "#f0f921"
             ]
            ],
            "type": "contour"
           }
          ],
          "contourcarpet": [
           {
            "colorbar": {
             "outlinewidth": 0,
             "ticks": ""
            },
            "type": "contourcarpet"
           }
          ],
          "heatmap": [
           {
            "colorbar": {
             "outlinewidth": 0,
             "ticks": ""
            },
            "colorscale": [
             [
              0,
              "#0d0887"
             ],
             [
              0.1111111111111111,
              "#46039f"
             ],
             [
              0.2222222222222222,
              "#7201a8"
             ],
             [
              0.3333333333333333,
              "#9c179e"
             ],
             [
              0.4444444444444444,
              "#bd3786"
             ],
             [
              0.5555555555555556,
              "#d8576b"
             ],
             [
              0.6666666666666666,
              "#ed7953"
             ],
             [
              0.7777777777777778,
              "#fb9f3a"
             ],
             [
              0.8888888888888888,
              "#fdca26"
             ],
             [
              1,
              "#f0f921"
             ]
            ],
            "type": "heatmap"
           }
          ],
          "histogram": [
           {
            "marker": {
             "pattern": {
              "fillmode": "overlay",
              "size": 10,
              "solidity": 0.2
             }
            },
            "type": "histogram"
           }
          ],
          "histogram2d": [
           {
            "colorbar": {
             "outlinewidth": 0,
             "ticks": ""
            },
            "colorscale": [
             [
              0,
              "#0d0887"
             ],
             [
              0.1111111111111111,
              "#46039f"
             ],
             [
              0.2222222222222222,
              "#7201a8"
             ],
             [
              0.3333333333333333,
              "#9c179e"
             ],
             [
              0.4444444444444444,
              "#bd3786"
             ],
             [
              0.5555555555555556,
              "#d8576b"
             ],
             [
              0.6666666666666666,
              "#ed7953"
             ],
             [
              0.7777777777777778,
              "#fb9f3a"
             ],
             [
              0.8888888888888888,
              "#fdca26"
             ],
             [
              1,
              "#f0f921"
             ]
            ],
            "type": "histogram2d"
           }
          ],
          "histogram2dcontour": [
           {
            "colorbar": {
             "outlinewidth": 0,
             "ticks": ""
            },
            "colorscale": [
             [
              0,
              "#0d0887"
             ],
             [
              0.1111111111111111,
              "#46039f"
             ],
             [
              0.2222222222222222,
              "#7201a8"
             ],
             [
              0.3333333333333333,
              "#9c179e"
             ],
             [
              0.4444444444444444,
              "#bd3786"
             ],
             [
              0.5555555555555556,
              "#d8576b"
             ],
             [
              0.6666666666666666,
              "#ed7953"
             ],
             [
              0.7777777777777778,
              "#fb9f3a"
             ],
             [
              0.8888888888888888,
              "#fdca26"
             ],
             [
              1,
              "#f0f921"
             ]
            ],
            "type": "histogram2dcontour"
           }
          ],
          "mesh3d": [
           {
            "colorbar": {
             "outlinewidth": 0,
             "ticks": ""
            },
            "type": "mesh3d"
           }
          ],
          "parcoords": [
           {
            "line": {
             "colorbar": {
              "outlinewidth": 0,
              "ticks": ""
             }
            },
            "type": "parcoords"
           }
          ],
          "pie": [
           {
            "automargin": true,
            "type": "pie"
           }
          ],
          "scatter": [
           {
            "fillpattern": {
             "fillmode": "overlay",
             "size": 10,
             "solidity": 0.2
            },
            "type": "scatter"
           }
          ],
          "scatter3d": [
           {
            "line": {
             "colorbar": {
              "outlinewidth": 0,
              "ticks": ""
             }
            },
            "marker": {
             "colorbar": {
              "outlinewidth": 0,
              "ticks": ""
             }
            },
            "type": "scatter3d"
           }
          ],
          "scattercarpet": [
           {
            "marker": {
             "colorbar": {
              "outlinewidth": 0,
              "ticks": ""
             }
            },
            "type": "scattercarpet"
           }
          ],
          "scattergeo": [
           {
            "marker": {
             "colorbar": {
              "outlinewidth": 0,
              "ticks": ""
             }
            },
            "type": "scattergeo"
           }
          ],
          "scattergl": [
           {
            "marker": {
             "colorbar": {
              "outlinewidth": 0,
              "ticks": ""
             }
            },
            "type": "scattergl"
           }
          ],
          "scattermap": [
           {
            "marker": {
             "colorbar": {
              "outlinewidth": 0,
              "ticks": ""
             }
            },
            "type": "scattermap"
           }
          ],
          "scattermapbox": [
           {
            "marker": {
             "colorbar": {
              "outlinewidth": 0,
              "ticks": ""
             }
            },
            "type": "scattermapbox"
           }
          ],
          "scatterpolar": [
           {
            "marker": {
             "colorbar": {
              "outlinewidth": 0,
              "ticks": ""
             }
            },
            "type": "scatterpolar"
           }
          ],
          "scatterpolargl": [
           {
            "marker": {
             "colorbar": {
              "outlinewidth": 0,
              "ticks": ""
             }
            },
            "type": "scatterpolargl"
           }
          ],
          "scatterternary": [
           {
            "marker": {
             "colorbar": {
              "outlinewidth": 0,
              "ticks": ""
             }
            },
            "type": "scatterternary"
           }
          ],
          "surface": [
           {
            "colorbar": {
             "outlinewidth": 0,
             "ticks": ""
            },
            "colorscale": [
             [
              0,
              "#0d0887"
             ],
             [
              0.1111111111111111,
              "#46039f"
             ],
             [
              0.2222222222222222,
              "#7201a8"
             ],
             [
              0.3333333333333333,
              "#9c179e"
             ],
             [
              0.4444444444444444,
              "#bd3786"
             ],
             [
              0.5555555555555556,
              "#d8576b"
             ],
             [
              0.6666666666666666,
              "#ed7953"
             ],
             [
              0.7777777777777778,
              "#fb9f3a"
             ],
             [
              0.8888888888888888,
              "#fdca26"
             ],
             [
              1,
              "#f0f921"
             ]
            ],
            "type": "surface"
           }
          ],
          "table": [
           {
            "cells": {
             "fill": {
              "color": "#EBF0F8"
             },
             "line": {
              "color": "white"
             }
            },
            "header": {
             "fill": {
              "color": "#C8D4E3"
             },
             "line": {
              "color": "white"
             }
            },
            "type": "table"
           }
          ]
         },
         "layout": {
          "annotationdefaults": {
           "arrowcolor": "#2a3f5f",
           "arrowhead": 0,
           "arrowwidth": 1
          },
          "autotypenumbers": "strict",
          "coloraxis": {
           "colorbar": {
            "outlinewidth": 0,
            "ticks": ""
           }
          },
          "colorscale": {
           "diverging": [
            [
             0,
             "#8e0152"
            ],
            [
             0.1,
             "#c51b7d"
            ],
            [
             0.2,
             "#de77ae"
            ],
            [
             0.3,
             "#f1b6da"
            ],
            [
             0.4,
             "#fde0ef"
            ],
            [
             0.5,
             "#f7f7f7"
            ],
            [
             0.6,
             "#e6f5d0"
            ],
            [
             0.7,
             "#b8e186"
            ],
            [
             0.8,
             "#7fbc41"
            ],
            [
             0.9,
             "#4d9221"
            ],
            [
             1,
             "#276419"
            ]
           ],
           "sequential": [
            [
             0,
             "#0d0887"
            ],
            [
             0.1111111111111111,
             "#46039f"
            ],
            [
             0.2222222222222222,
             "#7201a8"
            ],
            [
             0.3333333333333333,
             "#9c179e"
            ],
            [
             0.4444444444444444,
             "#bd3786"
            ],
            [
             0.5555555555555556,
             "#d8576b"
            ],
            [
             0.6666666666666666,
             "#ed7953"
            ],
            [
             0.7777777777777778,
             "#fb9f3a"
            ],
            [
             0.8888888888888888,
             "#fdca26"
            ],
            [
             1,
             "#f0f921"
            ]
           ],
           "sequentialminus": [
            [
             0,
             "#0d0887"
            ],
            [
             0.1111111111111111,
             "#46039f"
            ],
            [
             0.2222222222222222,
             "#7201a8"
            ],
            [
             0.3333333333333333,
             "#9c179e"
            ],
            [
             0.4444444444444444,
             "#bd3786"
            ],
            [
             0.5555555555555556,
             "#d8576b"
            ],
            [
             0.6666666666666666,
             "#ed7953"
            ],
            [
             0.7777777777777778,
             "#fb9f3a"
            ],
            [
             0.8888888888888888,
             "#fdca26"
            ],
            [
             1,
             "#f0f921"
            ]
           ]
          },
          "colorway": [
           "#636efa",
           "#EF553B",
           "#00cc96",
           "#ab63fa",
           "#FFA15A",
           "#19d3f3",
           "#FF6692",
           "#B6E880",
           "#FF97FF",
           "#FECB52"
          ],
          "font": {
           "color": "#2a3f5f"
          },
          "geo": {
           "bgcolor": "white",
           "lakecolor": "white",
           "landcolor": "white",
           "showlakes": true,
           "showland": true,
           "subunitcolor": "#C8D4E3"
          },
          "hoverlabel": {
           "align": "left"
          },
          "hovermode": "closest",
          "mapbox": {
           "style": "light"
          },
          "paper_bgcolor": "white",
          "plot_bgcolor": "white",
          "polar": {
           "angularaxis": {
            "gridcolor": "#EBF0F8",
            "linecolor": "#EBF0F8",
            "ticks": ""
           },
           "bgcolor": "white",
           "radialaxis": {
            "gridcolor": "#EBF0F8",
            "linecolor": "#EBF0F8",
            "ticks": ""
           }
          },
          "scene": {
           "xaxis": {
            "backgroundcolor": "white",
            "gridcolor": "#DFE8F3",
            "gridwidth": 2,
            "linecolor": "#EBF0F8",
            "showbackground": true,
            "ticks": "",
            "zerolinecolor": "#EBF0F8"
           },
           "yaxis": {
            "backgroundcolor": "white",
            "gridcolor": "#DFE8F3",
            "gridwidth": 2,
            "linecolor": "#EBF0F8",
            "showbackground": true,
            "ticks": "",
            "zerolinecolor": "#EBF0F8"
           },
           "zaxis": {
            "backgroundcolor": "white",
            "gridcolor": "#DFE8F3",
            "gridwidth": 2,
            "linecolor": "#EBF0F8",
            "showbackground": true,
            "ticks": "",
            "zerolinecolor": "#EBF0F8"
           }
          },
          "shapedefaults": {
           "line": {
            "color": "#2a3f5f"
           }
          },
          "ternary": {
           "aaxis": {
            "gridcolor": "#DFE8F3",
            "linecolor": "#A2B1C6",
            "ticks": ""
           },
           "baxis": {
            "gridcolor": "#DFE8F3",
            "linecolor": "#A2B1C6",
            "ticks": ""
           },
           "bgcolor": "white",
           "caxis": {
            "gridcolor": "#DFE8F3",
            "linecolor": "#A2B1C6",
            "ticks": ""
           }
          },
          "title": {
           "x": 0.05
          },
          "xaxis": {
           "automargin": true,
           "gridcolor": "#EBF0F8",
           "linecolor": "#EBF0F8",
           "ticks": "",
           "title": {
            "standoff": 15
           },
           "zerolinecolor": "#EBF0F8",
           "zerolinewidth": 2
          },
          "yaxis": {
           "automargin": true,
           "gridcolor": "#EBF0F8",
           "linecolor": "#EBF0F8",
           "ticks": "",
           "title": {
            "standoff": 15
           },
           "zerolinecolor": "#EBF0F8",
           "zerolinewidth": 2
          }
         }
        },
        "xaxis": {
         "tickangle": -45,
         "title": {
          "text": ""
         }
        },
        "yaxis": {
         "range": [
          -3.05,
          3.05
         ],
         "tickvals": [
          -3,
          -2,
          -1,
          0,
          1,
          2,
          3
         ],
         "title": {
          "text": "Mean Rating (Bias)"
         }
        }
       }
      }
     },
     "metadata": {},
     "output_type": "display_data"
    }
   ],
   "source": [
    "# Make an explicit copy of the filtered DataFrame\n",
    "df_hu_plot = df_hu[~df_hu['hu'].isin(['Age', 'Gender', 'Mean Rating'])].copy()\n",
    "\n",
    "# Assign the 'bias' column safely\n",
    "df_hu_plot.loc[:, 'bias'] = df_hu_plot['hu_mean'].apply(\n",
    "    lambda x: 'Female' if x > mean_max else ('Male' if x < mean_min else 'Neutral')\n",
    ")\n",
    "\n",
    "color_map = {\n",
    "    'Female': female_color, # '#e377c2',   # pinkish\n",
    "    'Male': male_color, # '#1f77b4',  # blue\n",
    "    'Neutral': \"#949494\"     # gray\n",
    "}\n",
    "\n",
    "# Sort df_hu_plot by mean value before plotting\n",
    "df_hu_plot_sorted = df_hu_plot.sort_values('hu_mean', ascending=False)\n",
    "\n",
    "df_hu_plot_sorted['hu_label'] = df_hu_plot_sorted.apply(\n",
    "    lambda row: f\"{row['hu']} ({row['en']})\" if pd.notna(row['en']) else row['hu'], axis=1\n",
    ")\n",
    "\n",
    "fig = go.Figure()\n",
    "\n",
    "for bias in ['Female', 'Neutral', 'Male']:\n",
    "    subset = df_hu_plot_sorted[df_hu_plot_sorted['bias'] == bias]\n",
    "    fig.add_trace(go.Bar(\n",
    "        x=subset['hu'],\n",
    "        y=subset['hu_mean'],\n",
    "        error_y=dict(type='data', array=subset['hu_std'], thickness=0.75),\n",
    "        name=bias,\n",
    "        marker_color=color_map[bias],\n",
    "        hovertemplate=(\n",
    "            'Hungarian: %{x}<br>'\n",
    "            'Mean Rating: %{y:.2f}<br>'\n",
    "            'Standard Deviation: %{error_y.array:.2f}<br>'\n",
    "            'English: %{customdata[0]}<br>'\n",
    "            'Chinese: %{customdata[1]}<extra></extra>'\n",
    "        ),\n",
    "        customdata=subset[['en', 'zh']]\n",
    "    ))\n",
    "\n",
    "fig.update_layout(\n",
    "    # title='Mean Rating of Occupational Titles (Gender Bias Highlighted)',\n",
    "    xaxis_title='',\n",
    "    yaxis_title='Mean Rating (Bias)',\n",
    "    yaxis=dict(\n",
    "        range=[-3.05, 3.05],\n",
    "        tickvals=[-3, -2, -1, 0, 1, 2, 3],\n",
    "        title='Mean Rating (Bias)'\n",
    "    ),\n",
    "    xaxis_tickangle=-45,\n",
    "    template='plotly_white',\n",
    "    font = dict(family=\"Times New Roman, serif\", size=16, color='black'),\n",
    "    margin=dict(l=0, r=0, t=0, b=0),\n",
    "    legend=dict(\n",
    "        orientation='h',\n",
    "        yanchor='bottom',\n",
    "        y=0,\n",
    "        xanchor='center',\n",
    "        x=0.5,\n",
    "        bgcolor='rgba(220, 220, 220, 0.25)',\n",
    "    )\n",
    ")\n",
    "\n",
    "fig.show()\n",
    "\n",
    "# Save this as a html and image\n",
    "fig.write_html('occupations_hu.html')\n",
    "fig.write_image('occupations_hu.png', scale=3, width=1000, height=400)\n"
   ]
  },
  {
   "cell_type": "code",
   "execution_count": 2269,
   "id": "a72e1f1b",
   "metadata": {},
   "outputs": [
    {
     "data": {
      "application/vnd.plotly.v1+json": {
       "config": {
        "plotlyServerURL": "https://plot.ly"
       },
       "data": [
        {
         "customdata": [
          [
           "nurse",
           "护士"
          ],
          [
           "beautician",
           "美容师"
          ],
          [
           "housekeeper",
           "家政员"
          ],
          [
           "flight attendant",
           "乘务员"
          ],
          [
           "cleaner",
           "保洁"
          ],
          [
           "caretaker",
           "护工"
          ],
          [
           "cashier",
           "收银员"
          ],
          [
           "hairdresser",
           "理发师"
          ],
          [
           "model",
           "模特"
          ],
          [
           "shop assistant",
           "导购员"
          ],
          [
           "HR specialist",
           "人力資源"
          ],
          [
           "dietitian",
           "营养师"
          ],
          [
           "receptionist",
           "前台"
          ],
          [
           "accountant",
           "会计"
          ]
         ],
         "error_y": {
          "array": {
           "bdata": "jS+ijBqs6j9yTiWI47LjP5J0pfFNcu4/mWjcCtpD6j/UBiJfaB7xP5sDvL2tlfE/QHmXcSJr6j+b2+vy+HfrPze5FKl+Xe0/QHmXcSJr6j+PeNVS3DfpP2PyT1Rcd+U/7aX7hd0B6j/0SFZzyG7sPw==",
           "dtype": "f8"
          },
          "thickness": 0.75,
          "type": "data",
          "visible": false
         },
         "hovertemplate": "Hungarian: %{x}<br>Mean Rating: %{y:.2f}<br>English: %{customdata[0]}<br>Chinese: %{customdata[1]}<extra></extra>",
         "marker": {
          "color": "#C46BE1"
         },
         "name": "Female",
         "type": "bar",
         "x": [
          "nővér",
          "kozmetikus",
          "házvezető",
          "légiutas-kísérő",
          "takarító",
          "gondozó",
          "pénztáros",
          "fodrász",
          "modell",
          "bolti eladó",
          "HR-es",
          "dietetikus",
          "recepciós",
          "könyvelő"
         ],
         "y": {
          "bdata": "mpmZmZmZAUCamZmZmZkBQM3MzMzMzPw/ZmZmZmZm9j8AAAAAAAD0P83MzMzMzPA/zczMzMzM8D8AAAAAAADwPwAAAAAAAPA/ZmZmZmZm7j/NzMzMzMzsP83MzMzMzOQ/zczMzMzM5D8AAAAAAADgPw==",
          "dtype": "f8"
         }
        },
        {
         "customdata": [
          [
           "(male) nurse",
           "护士 (男)"
          ],
          [
           "PR specialist",
           "公关"
          ],
          [
           "waiter*",
           "服务员*"
          ],
          [
           "ticketseller",
           "售票员"
          ],
          [
           "student",
           "學生"
          ],
          [
           "teacher",
           "教师"
          ],
          [
           "judge",
           "法官"
          ],
          [
           "secretary",
           "秘书"
          ]
         ],
         "error_y": {
          "array": {
           "bdata": "rGR1P0qz9T96r/r8PHLnP3NOJYjjsuM/y5H8XZaR6D8AAAAAAAAAAIyWO6GFN/E/9EhWc8hu3D+kwEsC4MnyPw==",
           "dtype": "f8"
          },
          "thickness": 0.75,
          "type": "data",
          "visible": false
         },
         "hovertemplate": "Hungarian: %{x}<br>Mean Rating: %{y:.2f}<br>English: %{customdata[0]}<br>Chinese: %{customdata[1]}<extra></extra>",
         "marker": {
          "color": "#949494"
         },
         "name": "Neutral",
         "type": "bar",
         "x": [
          "ápoló",
          "PR munkatárs",
          "felszolgáló",
          "jegyárus",
          "diák",
          "tanár",
          "bíró",
          "titkár"
         ],
         "y": {
          "bdata": "zczMzMzM3D8zMzMzMzPTP5qZmZmZmck/mpmZmZmZyT8AAAAAAAAAAAAAAAAAAAAAAAAAAAAA0L8zMzMzMzPTvw==",
          "dtype": "f8"
         }
        },
        {
         "customdata": [
          [
           "scientist",
           "科学家"
          ],
          [
           "waiter",
           "服务员"
          ],
          [
           "doctor",
           "医生"
          ],
          [
           "manager",
           "高管"
          ],
          [
           "prosecutor",
           "检察官"
          ],
          [
           "pathologist",
           "法医"
          ],
          [
           "gardener",
           "園丁"
          ],
          [
           "director",
           "导演"
          ],
          [
           "chef",
           "厨师"
          ],
          [
           "professor",
           "教授"
          ],
          [
           "lifeguard",
           "救生员"
          ],
          [
           "engineer",
           "工程师"
          ],
          [
           "CEO",
           "董事长"
          ],
          [
           "architect",
           "建筑师"
          ],
          [
           "programmer",
           "程序员"
          ],
          [
           "police officer",
           "警察"
          ],
          [
           "farmer",
           "農民"
          ],
          [
           "worker",
           "工人"
          ],
          [
           "pilot",
           "機長"
          ],
          [
           "soldier",
           "军人"
          ],
          [
           "security guard",
           "保安"
          ],
          [
           "firefighter",
           "消防员"
          ]
         ],
         "error_y": {
          "array": {
           "bdata": "IqBZl84k4z/l20zVcznuP74yGq+QWuM/Y/JPVFx35T+MP7i+XqTpP4wvoowarOo/iy+ijBqs6j84HlloWdjnP4bbgMle++Y/dok32Fwu7T+t4h07kEXrP+2l+4XdAeo/YFk+rFfs5j83KF535zjrPzgeWWhZ2Oc/7aX7hd0B6j/FubGSH8flP5lo3AraQ+o/7aX7hd0B6j/SG50ybETmP9ntv8Uln9w/zZH8XZaR6D8=",
           "dtype": "f8"
          },
          "thickness": 0.75,
          "type": "data",
          "visible": false
         },
         "hovertemplate": "Hungarian: %{x}<br>Mean Rating: %{y:.2f}<br>English: %{customdata[0]}<br>Chinese: %{customdata[1]}<extra></extra>",
         "marker": {
          "color": "#4090C2"
         },
         "name": "Male",
         "type": "bar",
         "x": [
          "tudós",
          "pincér",
          "orvos",
          "menedzser",
          "ügyész",
          "kórboncnok",
          "kertész",
          "rendező",
          "szakács",
          "professzor",
          "vízimentő",
          "mérnök",
          "vezérigazgató",
          "építész",
          "programozó",
          "rendőr",
          "földműves",
          "munkás",
          "pilóta",
          "katona",
          "biztonsági őr",
          "tűzoltó"
         ],
         "y": {
          "bdata": "mpmZmZmZ2b/NzMzMzMzcv5qZmZmZmeG/zczMzMzM5L9mZmZmZmbmv5qZmZmZmem/mpmZmZmZ6b8zMzMzMzPrv83MzMzMzOy/zczMzMzM7L+amZmZmZnxv2ZmZmZmZvK/AAAAAAAA9L8AAAAAAAD0v5qZmZmZmfW/mpmZmZmZ9b9mZmZmZmb2v2ZmZmZmZva/ZmZmZmZm+r/NzMzMzMz8v2ZmZmZmZv6/mpmZmZmZAcA=",
          "dtype": "f8"
         }
        },
        {
         "customdata": [
          [
           "nurse"
          ],
          [
           "beautician"
          ],
          [
           "housekeeper"
          ],
          [
           "flight attendant"
          ],
          [
           "cleaner"
          ],
          [
           "caretaker"
          ],
          [
           "cashier"
          ],
          [
           "hairdresser"
          ],
          [
           "model"
          ],
          [
           "shop assistant"
          ],
          [
           "HR specialist"
          ],
          [
           "dietitian"
          ],
          [
           "receptionist"
          ],
          [
           "accountant"
          ],
          [
           "(male) nurse"
          ],
          [
           "PR specialist"
          ],
          [
           "waiter*"
          ],
          [
           "ticketseller"
          ],
          [
           "student"
          ],
          [
           "teacher"
          ],
          [
           "judge"
          ],
          [
           "secretary"
          ],
          [
           "scientist"
          ],
          [
           "waiter"
          ],
          [
           "doctor"
          ],
          [
           "manager"
          ],
          [
           "prosecutor"
          ],
          [
           "pathologist"
          ],
          [
           "gardener"
          ],
          [
           "director"
          ],
          [
           "chef"
          ],
          [
           "professor"
          ],
          [
           "lifeguard"
          ],
          [
           "engineer"
          ],
          [
           "CEO"
          ],
          [
           "architect"
          ],
          [
           "programmer"
          ],
          [
           "police officer"
          ],
          [
           "farmer"
          ],
          [
           "worker"
          ],
          [
           "pilot"
          ],
          [
           "soldier"
          ],
          [
           "security guard"
          ],
          [
           "firefighter"
          ]
         ],
         "hovertemplate": "Hungarian: %{x}<br>English: %{customdata[0]}<br>ChatGPT: %{y:.2f}<extra></extra>",
         "line": {
          "color": "#00A67E",
          "dash": "dot",
          "width": 2
         },
         "marker": {
          "size": 8,
          "symbol": "hexagon"
         },
         "mode": "lines+markers",
         "name": "ChatGPT",
         "type": "scatter",
         "x": [
          "nővér",
          "kozmetikus",
          "házvezető",
          "légiutas-kísérő",
          "takarító",
          "gondozó",
          "pénztáros",
          "fodrász",
          "modell",
          "bolti eladó",
          "HR-es",
          "dietetikus",
          "recepciós",
          "könyvelő",
          "ápoló",
          "PR munkatárs",
          "felszolgáló",
          "jegyárus",
          "diák",
          "tanár",
          "bíró",
          "titkár",
          "tudós",
          "pincér",
          "orvos",
          "menedzser",
          "ügyész",
          "kórboncnok",
          "kertész",
          "rendező",
          "szakács",
          "professzor",
          "vízimentő",
          "mérnök",
          "vezérigazgató",
          "építész",
          "programozó",
          "rendőr",
          "földműves",
          "munkás",
          "pilóta",
          "katona",
          "biztonsági őr",
          "tűzoltó"
         ],
         "y": {
          "bdata": "MzMzMzMzB0AzMzMzMzMHQM3MzMzMzPw/mpmZmZmZAUAzMzMzMzPzPwAAAAAAAARAMzMzMzMz8z9mZmZmZmb+PwAAAAAAAARAZmZmZmZm9j8AAAAAAAD4P83MzMzMzABAzczMzMzMAEBmZmZmZmbmP2ZmZmZmZv4/AAAAAAAA+D+amZmZmZnpP5qZmZmZmek/AAAAAAAAAACamZmZmZnpP83MzMzMzPS/zczMzMzM7D/NzMzMzMz8v83MzMzMzOy/AAAAAAAA4L8AAAAAAADwvzMzMzMzM/O/MzMzMzMz878AAAAAAADwv83MzMzMzPy/mpmZmZmZ6b8AAAAAAAAAwAAAAAAAAPi/AAAAAAAABMAAAAAAAAAEwJqZmZmZmQHAzczMzMzM/L+amZmZmZkFwAAAAAAAAADAAAAAAAAABMAAAAAAAAAEwGZmZmZmZgbAAAAAAAAABMAzMzMzMzMHwA==",
          "dtype": "f8"
         }
        },
        {
         "customdata": [
          [
           "nurse"
          ],
          [
           "beautician"
          ],
          [
           "housekeeper"
          ],
          [
           "flight attendant"
          ],
          [
           "cleaner"
          ],
          [
           "caretaker"
          ],
          [
           "cashier"
          ],
          [
           "hairdresser"
          ],
          [
           "model"
          ],
          [
           "shop assistant"
          ],
          [
           "HR specialist"
          ],
          [
           "dietitian"
          ],
          [
           "receptionist"
          ],
          [
           "accountant"
          ],
          [
           "(male) nurse"
          ],
          [
           "PR specialist"
          ],
          [
           "waiter*"
          ],
          [
           "ticketseller"
          ],
          [
           "student"
          ],
          [
           "teacher"
          ],
          [
           "judge"
          ],
          [
           "secretary"
          ],
          [
           "scientist"
          ],
          [
           "waiter"
          ],
          [
           "doctor"
          ],
          [
           "manager"
          ],
          [
           "prosecutor"
          ],
          [
           "pathologist"
          ],
          [
           "gardener"
          ],
          [
           "director"
          ],
          [
           "chef"
          ],
          [
           "professor"
          ],
          [
           "lifeguard"
          ],
          [
           "engineer"
          ],
          [
           "CEO"
          ],
          [
           "architect"
          ],
          [
           "programmer"
          ],
          [
           "police officer"
          ],
          [
           "farmer"
          ],
          [
           "worker"
          ],
          [
           "pilot"
          ],
          [
           "soldier"
          ],
          [
           "security guard"
          ],
          [
           "firefighter"
          ]
         ],
         "hovertemplate": "Hungarian: %{x}<br>English: %{customdata[0]}<br>Copilot: %{y:.2f}<extra></extra>",
         "line": {
          "color": "#F2AD22",
          "dash": "dot",
          "width": 2
         },
         "marker": {
          "size": 8,
          "symbol": "pentagon"
         },
         "mode": "lines+markers",
         "name": "Copilot",
         "type": "scatter",
         "x": [
          "nővér",
          "kozmetikus",
          "házvezető",
          "légiutas-kísérő",
          "takarító",
          "gondozó",
          "pénztáros",
          "fodrász",
          "modell",
          "bolti eladó",
          "HR-es",
          "dietetikus",
          "recepciós",
          "könyvelő",
          "ápoló",
          "PR munkatárs",
          "felszolgáló",
          "jegyárus",
          "diák",
          "tanár",
          "bíró",
          "titkár",
          "tudós",
          "pincér",
          "orvos",
          "menedzser",
          "ügyész",
          "kórboncnok",
          "kertész",
          "rendező",
          "szakács",
          "professzor",
          "vízimentő",
          "mérnök",
          "vezérigazgató",
          "építész",
          "programozó",
          "rendőr",
          "földműves",
          "munkás",
          "pilóta",
          "katona",
          "biztonsági őr",
          "tűzoltó"
         ],
         "y": {
          "bdata": "AAAAAAAACEAAAAAAAAAEQAAAAAAAAABAAAAAAAAAAEDNzMzMzMz8PwAAAAAAAPg/AAAAAAAA+D/NzMzMzMz8P83MzMzMzPw/MzMzMzMz8z/NzMzMzMz8PwAAAAAAAABAzczMzMzM/D8AAAAAAADgPwAAAAAAAPg/AAAAAAAA+D+amZmZmZnpP5qZmZmZmek/AAAAAAAAAAAAAAAAAADwPwAAAAAAAPi/mpmZmZmZ6T8zMzMzMzPzvwAAAAAAAADAmpmZmZmZ6b8AAAAAAAD4vwAAAAAAAPi/AAAAAAAA+L/NzMzMzMz8v83MzMzMzPy/MzMzMzMz87/NzMzMzMz8vwAAAAAAAPi/AAAAAAAAAMAAAAAAAAAAwJqZmZmZmem/AAAAAAAAAMAAAAAAAAAEwAAAAAAAAADAAAAAAAAAAMCamZmZmZkBwAAAAAAAAATAzczMzMzM/L8AAAAAAAAEwA==",
          "dtype": "f8"
         }
        },
        {
         "customdata": [
          [
           "nurse"
          ],
          [
           "beautician"
          ],
          [
           "housekeeper"
          ],
          [
           "flight attendant"
          ],
          [
           "cleaner"
          ],
          [
           "caretaker"
          ],
          [
           "cashier"
          ],
          [
           "hairdresser"
          ],
          [
           "model"
          ],
          [
           "shop assistant"
          ],
          [
           "HR specialist"
          ],
          [
           "dietitian"
          ],
          [
           "receptionist"
          ],
          [
           "accountant"
          ],
          [
           "(male) nurse"
          ],
          [
           "PR specialist"
          ],
          [
           "waiter*"
          ],
          [
           "ticketseller"
          ],
          [
           "student"
          ],
          [
           "teacher"
          ],
          [
           "judge"
          ],
          [
           "secretary"
          ],
          [
           "scientist"
          ],
          [
           "waiter"
          ],
          [
           "doctor"
          ],
          [
           "manager"
          ],
          [
           "prosecutor"
          ],
          [
           "pathologist"
          ],
          [
           "gardener"
          ],
          [
           "director"
          ],
          [
           "chef"
          ],
          [
           "professor"
          ],
          [
           "lifeguard"
          ],
          [
           "engineer"
          ],
          [
           "CEO"
          ],
          [
           "architect"
          ],
          [
           "programmer"
          ],
          [
           "police officer"
          ],
          [
           "farmer"
          ],
          [
           "worker"
          ],
          [
           "pilot"
          ],
          [
           "soldier"
          ],
          [
           "security guard"
          ],
          [
           "firefighter"
          ]
         ],
         "hovertemplate": "Hungarian: %{x}<br>English: %{customdata[0]}<br>Gemini: %{y:.2f}<extra></extra>",
         "line": {
          "color": "#9177C7",
          "dash": "dot",
          "width": 2
         },
         "marker": {
          "size": 8,
          "symbol": "star-diamond"
         },
         "mode": "lines+markers",
         "name": "Gemini",
         "type": "scatter",
         "x": [
          "nővér",
          "kozmetikus",
          "házvezető",
          "légiutas-kísérő",
          "takarító",
          "gondozó",
          "pénztáros",
          "fodrász",
          "modell",
          "bolti eladó",
          "HR-es",
          "dietetikus",
          "recepciós",
          "könyvelő",
          "ápoló",
          "PR munkatárs",
          "felszolgáló",
          "jegyárus",
          "diák",
          "tanár",
          "bíró",
          "titkár",
          "tudós",
          "pincér",
          "orvos",
          "menedzser",
          "ügyész",
          "kórboncnok",
          "kertész",
          "rendező",
          "szakács",
          "professzor",
          "vízimentő",
          "mérnök",
          "vezérigazgató",
          "építész",
          "programozó",
          "rendőr",
          "földműves",
          "munkás",
          "pilóta",
          "katona",
          "biztonsági őr",
          "tűzoltó"
         ],
         "y": {
          "bdata": "AAAAAAAACEAAAAAAAAAIQAAAAAAAAABAAAAAAAAAAEAAAAAAAAAAQAAAAAAAAARAAAAAAAAAAEAAAAAAAAAAQAAAAAAAAPA/AAAAAAAAAEAAAAAAAAD4PwAAAAAAAABAAAAAAAAABEAAAAAAAADgPwAAAAAAAARAAAAAAAAA+D8AAAAAAAAAAAAAAAAAAPA/AAAAAAAAAAAAAAAAAADwPwAAAAAAAPC/AAAAAAAA+D8AAAAAAAD4vwAAAAAAAPC/AAAAAAAAAAAAAAAAAAD4vwAAAAAAAPi/AAAAAAAA4L8AAAAAAADgvwAAAAAAAPi/AAAAAAAA8L8AAAAAAADwvwAAAAAAAOC/AAAAAAAABMAAAAAAAAAAwAAAAAAAAPi/AAAAAAAABMAAAAAAAAAAwAAAAAAAAADAAAAAAAAABMBmZmZmZmYGwAAAAAAAAATAAAAAAAAABMBmZmZmZmYGwA==",
          "dtype": "f8"
         }
        },
        {
         "customdata": [
          [
           "nurse"
          ],
          [
           "beautician"
          ],
          [
           "housekeeper"
          ],
          [
           "flight attendant"
          ],
          [
           "cleaner"
          ],
          [
           "caretaker"
          ],
          [
           "cashier"
          ],
          [
           "hairdresser"
          ],
          [
           "model"
          ],
          [
           "shop assistant"
          ],
          [
           "HR specialist"
          ],
          [
           "dietitian"
          ],
          [
           "receptionist"
          ],
          [
           "accountant"
          ],
          [
           "(male) nurse"
          ],
          [
           "PR specialist"
          ],
          [
           "waiter*"
          ],
          [
           "ticketseller"
          ],
          [
           "student"
          ],
          [
           "teacher"
          ],
          [
           "judge"
          ],
          [
           "secretary"
          ],
          [
           "scientist"
          ],
          [
           "waiter"
          ],
          [
           "doctor"
          ],
          [
           "manager"
          ],
          [
           "prosecutor"
          ],
          [
           "pathologist"
          ],
          [
           "gardener"
          ],
          [
           "director"
          ],
          [
           "chef"
          ],
          [
           "professor"
          ],
          [
           "lifeguard"
          ],
          [
           "engineer"
          ],
          [
           "CEO"
          ],
          [
           "architect"
          ],
          [
           "programmer"
          ],
          [
           "police officer"
          ],
          [
           "farmer"
          ],
          [
           "worker"
          ],
          [
           "pilot"
          ],
          [
           "soldier"
          ],
          [
           "security guard"
          ],
          [
           "firefighter"
          ]
         ],
         "hovertemplate": "Hungarian: %{x}<br>English: %{customdata[0]}<br>Deepseek: %{y:.2f}<extra></extra>",
         "line": {
          "color": "#3C5DFF",
          "dash": "dot",
          "width": 2
         },
         "marker": {
          "size": 8,
          "symbol": "circle"
         },
         "mode": "lines+markers",
         "name": "Deepseek",
         "type": "scatter",
         "x": [
          "nővér",
          "kozmetikus",
          "házvezető",
          "légiutas-kísérő",
          "takarító",
          "gondozó",
          "pénztáros",
          "fodrász",
          "modell",
          "bolti eladó",
          "HR-es",
          "dietetikus",
          "recepciós",
          "könyvelő",
          "ápoló",
          "PR munkatárs",
          "felszolgáló",
          "jegyárus",
          "diák",
          "tanár",
          "bíró",
          "titkár",
          "tudós",
          "pincér",
          "orvos",
          "menedzser",
          "ügyész",
          "kórboncnok",
          "kertész",
          "rendező",
          "szakács",
          "professzor",
          "vízimentő",
          "mérnök",
          "vezérigazgató",
          "építész",
          "programozó",
          "rendőr",
          "földműves",
          "munkás",
          "pilóta",
          "katona",
          "biztonsági őr",
          "tűzoltó"
         ],
         "y": {
          "bdata": "zczMzMzMBkAAAAAAAAAGQAAAAAAAAPg/MzMzMzMz/z+amZmZmZnJv5qZmZmZmQFAZmZmZmZm/j+amZmZmZnpPzMzMzMzM9O/zczMzMzM/D8AAAAAAADgP2ZmZmZmZv4/zczMzMzMAECamZmZmZnZP2ZmZmZmZuY/ZmZmZmZm5j8zMzMzMzPjP83MzMzMzOw/AAAAAAAAAACamZmZmZm5PwAAAAAAAOC/MzMzMzMz0z9mZmZmZmb2vwAAAAAAAPi/mpmZmZmZ+b8zMzMzMzPzvwAAAAAAAPC/zczMzMzM/L9mZmZmZmbmv5qZmZmZmfG/AAAAAAAA/L+amZmZmZnpv83MzMzMzAbAMzMzMzMzA8DNzMzMzMwAwJqZmZmZmQHAZmZmZmZmAsDNzMzMzMwEwM3MzMzMzADAmpmZmZmZBcAzMzMzMzMDwJqZmZmZmQfAzczMzMzMBsDXo3A9CtcHwA==",
          "dtype": "f8"
         }
        }
       ],
       "layout": {
        "font": {
         "color": "black",
         "family": "Times New Roman, serif",
         "size": 16
        },
        "legend": {
         "bgcolor": "rgba(220, 220, 220, 0.25)",
         "orientation": "h",
         "x": 0.5,
         "xanchor": "center",
         "y": 0.95,
         "yanchor": "bottom"
        },
        "margin": {
         "b": 0,
         "l": 0,
         "r": 0,
         "t": 20
        },
        "template": {
         "data": {
          "bar": [
           {
            "error_x": {
             "color": "#2a3f5f"
            },
            "error_y": {
             "color": "#2a3f5f"
            },
            "marker": {
             "line": {
              "color": "white",
              "width": 0.5
             },
             "pattern": {
              "fillmode": "overlay",
              "size": 10,
              "solidity": 0.2
             }
            },
            "type": "bar"
           }
          ],
          "barpolar": [
           {
            "marker": {
             "line": {
              "color": "white",
              "width": 0.5
             },
             "pattern": {
              "fillmode": "overlay",
              "size": 10,
              "solidity": 0.2
             }
            },
            "type": "barpolar"
           }
          ],
          "carpet": [
           {
            "aaxis": {
             "endlinecolor": "#2a3f5f",
             "gridcolor": "#C8D4E3",
             "linecolor": "#C8D4E3",
             "minorgridcolor": "#C8D4E3",
             "startlinecolor": "#2a3f5f"
            },
            "baxis": {
             "endlinecolor": "#2a3f5f",
             "gridcolor": "#C8D4E3",
             "linecolor": "#C8D4E3",
             "minorgridcolor": "#C8D4E3",
             "startlinecolor": "#2a3f5f"
            },
            "type": "carpet"
           }
          ],
          "choropleth": [
           {
            "colorbar": {
             "outlinewidth": 0,
             "ticks": ""
            },
            "type": "choropleth"
           }
          ],
          "contour": [
           {
            "colorbar": {
             "outlinewidth": 0,
             "ticks": ""
            },
            "colorscale": [
             [
              0,
              "#0d0887"
             ],
             [
              0.1111111111111111,
              "#46039f"
             ],
             [
              0.2222222222222222,
              "#7201a8"
             ],
             [
              0.3333333333333333,
              "#9c179e"
             ],
             [
              0.4444444444444444,
              "#bd3786"
             ],
             [
              0.5555555555555556,
              "#d8576b"
             ],
             [
              0.6666666666666666,
              "#ed7953"
             ],
             [
              0.7777777777777778,
              "#fb9f3a"
             ],
             [
              0.8888888888888888,
              "#fdca26"
             ],
             [
              1,
              "#f0f921"
             ]
            ],
            "type": "contour"
           }
          ],
          "contourcarpet": [
           {
            "colorbar": {
             "outlinewidth": 0,
             "ticks": ""
            },
            "type": "contourcarpet"
           }
          ],
          "heatmap": [
           {
            "colorbar": {
             "outlinewidth": 0,
             "ticks": ""
            },
            "colorscale": [
             [
              0,
              "#0d0887"
             ],
             [
              0.1111111111111111,
              "#46039f"
             ],
             [
              0.2222222222222222,
              "#7201a8"
             ],
             [
              0.3333333333333333,
              "#9c179e"
             ],
             [
              0.4444444444444444,
              "#bd3786"
             ],
             [
              0.5555555555555556,
              "#d8576b"
             ],
             [
              0.6666666666666666,
              "#ed7953"
             ],
             [
              0.7777777777777778,
              "#fb9f3a"
             ],
             [
              0.8888888888888888,
              "#fdca26"
             ],
             [
              1,
              "#f0f921"
             ]
            ],
            "type": "heatmap"
           }
          ],
          "histogram": [
           {
            "marker": {
             "pattern": {
              "fillmode": "overlay",
              "size": 10,
              "solidity": 0.2
             }
            },
            "type": "histogram"
           }
          ],
          "histogram2d": [
           {
            "colorbar": {
             "outlinewidth": 0,
             "ticks": ""
            },
            "colorscale": [
             [
              0,
              "#0d0887"
             ],
             [
              0.1111111111111111,
              "#46039f"
             ],
             [
              0.2222222222222222,
              "#7201a8"
             ],
             [
              0.3333333333333333,
              "#9c179e"
             ],
             [
              0.4444444444444444,
              "#bd3786"
             ],
             [
              0.5555555555555556,
              "#d8576b"
             ],
             [
              0.6666666666666666,
              "#ed7953"
             ],
             [
              0.7777777777777778,
              "#fb9f3a"
             ],
             [
              0.8888888888888888,
              "#fdca26"
             ],
             [
              1,
              "#f0f921"
             ]
            ],
            "type": "histogram2d"
           }
          ],
          "histogram2dcontour": [
           {
            "colorbar": {
             "outlinewidth": 0,
             "ticks": ""
            },
            "colorscale": [
             [
              0,
              "#0d0887"
             ],
             [
              0.1111111111111111,
              "#46039f"
             ],
             [
              0.2222222222222222,
              "#7201a8"
             ],
             [
              0.3333333333333333,
              "#9c179e"
             ],
             [
              0.4444444444444444,
              "#bd3786"
             ],
             [
              0.5555555555555556,
              "#d8576b"
             ],
             [
              0.6666666666666666,
              "#ed7953"
             ],
             [
              0.7777777777777778,
              "#fb9f3a"
             ],
             [
              0.8888888888888888,
              "#fdca26"
             ],
             [
              1,
              "#f0f921"
             ]
            ],
            "type": "histogram2dcontour"
           }
          ],
          "mesh3d": [
           {
            "colorbar": {
             "outlinewidth": 0,
             "ticks": ""
            },
            "type": "mesh3d"
           }
          ],
          "parcoords": [
           {
            "line": {
             "colorbar": {
              "outlinewidth": 0,
              "ticks": ""
             }
            },
            "type": "parcoords"
           }
          ],
          "pie": [
           {
            "automargin": true,
            "type": "pie"
           }
          ],
          "scatter": [
           {
            "fillpattern": {
             "fillmode": "overlay",
             "size": 10,
             "solidity": 0.2
            },
            "type": "scatter"
           }
          ],
          "scatter3d": [
           {
            "line": {
             "colorbar": {
              "outlinewidth": 0,
              "ticks": ""
             }
            },
            "marker": {
             "colorbar": {
              "outlinewidth": 0,
              "ticks": ""
             }
            },
            "type": "scatter3d"
           }
          ],
          "scattercarpet": [
           {
            "marker": {
             "colorbar": {
              "outlinewidth": 0,
              "ticks": ""
             }
            },
            "type": "scattercarpet"
           }
          ],
          "scattergeo": [
           {
            "marker": {
             "colorbar": {
              "outlinewidth": 0,
              "ticks": ""
             }
            },
            "type": "scattergeo"
           }
          ],
          "scattergl": [
           {
            "marker": {
             "colorbar": {
              "outlinewidth": 0,
              "ticks": ""
             }
            },
            "type": "scattergl"
           }
          ],
          "scattermap": [
           {
            "marker": {
             "colorbar": {
              "outlinewidth": 0,
              "ticks": ""
             }
            },
            "type": "scattermap"
           }
          ],
          "scattermapbox": [
           {
            "marker": {
             "colorbar": {
              "outlinewidth": 0,
              "ticks": ""
             }
            },
            "type": "scattermapbox"
           }
          ],
          "scatterpolar": [
           {
            "marker": {
             "colorbar": {
              "outlinewidth": 0,
              "ticks": ""
             }
            },
            "type": "scatterpolar"
           }
          ],
          "scatterpolargl": [
           {
            "marker": {
             "colorbar": {
              "outlinewidth": 0,
              "ticks": ""
             }
            },
            "type": "scatterpolargl"
           }
          ],
          "scatterternary": [
           {
            "marker": {
             "colorbar": {
              "outlinewidth": 0,
              "ticks": ""
             }
            },
            "type": "scatterternary"
           }
          ],
          "surface": [
           {
            "colorbar": {
             "outlinewidth": 0,
             "ticks": ""
            },
            "colorscale": [
             [
              0,
              "#0d0887"
             ],
             [
              0.1111111111111111,
              "#46039f"
             ],
             [
              0.2222222222222222,
              "#7201a8"
             ],
             [
              0.3333333333333333,
              "#9c179e"
             ],
             [
              0.4444444444444444,
              "#bd3786"
             ],
             [
              0.5555555555555556,
              "#d8576b"
             ],
             [
              0.6666666666666666,
              "#ed7953"
             ],
             [
              0.7777777777777778,
              "#fb9f3a"
             ],
             [
              0.8888888888888888,
              "#fdca26"
             ],
             [
              1,
              "#f0f921"
             ]
            ],
            "type": "surface"
           }
          ],
          "table": [
           {
            "cells": {
             "fill": {
              "color": "#EBF0F8"
             },
             "line": {
              "color": "white"
             }
            },
            "header": {
             "fill": {
              "color": "#C8D4E3"
             },
             "line": {
              "color": "white"
             }
            },
            "type": "table"
           }
          ]
         },
         "layout": {
          "annotationdefaults": {
           "arrowcolor": "#2a3f5f",
           "arrowhead": 0,
           "arrowwidth": 1
          },
          "autotypenumbers": "strict",
          "coloraxis": {
           "colorbar": {
            "outlinewidth": 0,
            "ticks": ""
           }
          },
          "colorscale": {
           "diverging": [
            [
             0,
             "#8e0152"
            ],
            [
             0.1,
             "#c51b7d"
            ],
            [
             0.2,
             "#de77ae"
            ],
            [
             0.3,
             "#f1b6da"
            ],
            [
             0.4,
             "#fde0ef"
            ],
            [
             0.5,
             "#f7f7f7"
            ],
            [
             0.6,
             "#e6f5d0"
            ],
            [
             0.7,
             "#b8e186"
            ],
            [
             0.8,
             "#7fbc41"
            ],
            [
             0.9,
             "#4d9221"
            ],
            [
             1,
             "#276419"
            ]
           ],
           "sequential": [
            [
             0,
             "#0d0887"
            ],
            [
             0.1111111111111111,
             "#46039f"
            ],
            [
             0.2222222222222222,
             "#7201a8"
            ],
            [
             0.3333333333333333,
             "#9c179e"
            ],
            [
             0.4444444444444444,
             "#bd3786"
            ],
            [
             0.5555555555555556,
             "#d8576b"
            ],
            [
             0.6666666666666666,
             "#ed7953"
            ],
            [
             0.7777777777777778,
             "#fb9f3a"
            ],
            [
             0.8888888888888888,
             "#fdca26"
            ],
            [
             1,
             "#f0f921"
            ]
           ],
           "sequentialminus": [
            [
             0,
             "#0d0887"
            ],
            [
             0.1111111111111111,
             "#46039f"
            ],
            [
             0.2222222222222222,
             "#7201a8"
            ],
            [
             0.3333333333333333,
             "#9c179e"
            ],
            [
             0.4444444444444444,
             "#bd3786"
            ],
            [
             0.5555555555555556,
             "#d8576b"
            ],
            [
             0.6666666666666666,
             "#ed7953"
            ],
            [
             0.7777777777777778,
             "#fb9f3a"
            ],
            [
             0.8888888888888888,
             "#fdca26"
            ],
            [
             1,
             "#f0f921"
            ]
           ]
          },
          "colorway": [
           "#636efa",
           "#EF553B",
           "#00cc96",
           "#ab63fa",
           "#FFA15A",
           "#19d3f3",
           "#FF6692",
           "#B6E880",
           "#FF97FF",
           "#FECB52"
          ],
          "font": {
           "color": "#2a3f5f"
          },
          "geo": {
           "bgcolor": "white",
           "lakecolor": "white",
           "landcolor": "white",
           "showlakes": true,
           "showland": true,
           "subunitcolor": "#C8D4E3"
          },
          "hoverlabel": {
           "align": "left"
          },
          "hovermode": "closest",
          "mapbox": {
           "style": "light"
          },
          "paper_bgcolor": "white",
          "plot_bgcolor": "white",
          "polar": {
           "angularaxis": {
            "gridcolor": "#EBF0F8",
            "linecolor": "#EBF0F8",
            "ticks": ""
           },
           "bgcolor": "white",
           "radialaxis": {
            "gridcolor": "#EBF0F8",
            "linecolor": "#EBF0F8",
            "ticks": ""
           }
          },
          "scene": {
           "xaxis": {
            "backgroundcolor": "white",
            "gridcolor": "#DFE8F3",
            "gridwidth": 2,
            "linecolor": "#EBF0F8",
            "showbackground": true,
            "ticks": "",
            "zerolinecolor": "#EBF0F8"
           },
           "yaxis": {
            "backgroundcolor": "white",
            "gridcolor": "#DFE8F3",
            "gridwidth": 2,
            "linecolor": "#EBF0F8",
            "showbackground": true,
            "ticks": "",
            "zerolinecolor": "#EBF0F8"
           },
           "zaxis": {
            "backgroundcolor": "white",
            "gridcolor": "#DFE8F3",
            "gridwidth": 2,
            "linecolor": "#EBF0F8",
            "showbackground": true,
            "ticks": "",
            "zerolinecolor": "#EBF0F8"
           }
          },
          "shapedefaults": {
           "line": {
            "color": "#2a3f5f"
           }
          },
          "ternary": {
           "aaxis": {
            "gridcolor": "#DFE8F3",
            "linecolor": "#A2B1C6",
            "ticks": ""
           },
           "baxis": {
            "gridcolor": "#DFE8F3",
            "linecolor": "#A2B1C6",
            "ticks": ""
           },
           "bgcolor": "white",
           "caxis": {
            "gridcolor": "#DFE8F3",
            "linecolor": "#A2B1C6",
            "ticks": ""
           }
          },
          "title": {
           "x": 0.05
          },
          "xaxis": {
           "automargin": true,
           "gridcolor": "#EBF0F8",
           "linecolor": "#EBF0F8",
           "ticks": "",
           "title": {
            "standoff": 15
           },
           "zerolinecolor": "#EBF0F8",
           "zerolinewidth": 2
          },
          "yaxis": {
           "automargin": true,
           "gridcolor": "#EBF0F8",
           "linecolor": "#EBF0F8",
           "ticks": "",
           "title": {
            "standoff": 15
           },
           "zerolinecolor": "#EBF0F8",
           "zerolinewidth": 2
          }
         }
        },
        "xaxis": {
         "tickangle": -45,
         "title": {
          "text": ""
         }
        },
        "yaxis": {
         "range": [
          -3.1,
          3.1
         ],
         "tickvals": [
          -3,
          -2,
          -1,
          0,
          1,
          2,
          3
         ],
         "title": {
          "text": "Mean Rating (Bias)"
         }
        }
       }
      }
     },
     "metadata": {},
     "output_type": "display_data"
    }
   ],
   "source": [
    "# Plot the Hungarian data with LLM reference lines using plotly.graph_objects (go)\n",
    "fig = go.Figure()\n",
    "\n",
    "# Add bars for each bias category\n",
    "for bias in ['Female', 'Neutral', 'Male']:\n",
    "    subset = df_hu_plot_sorted[df_hu_plot_sorted['bias'] == bias]\n",
    "    fig.add_trace(go.Bar(\n",
    "        x=subset['hu'],\n",
    "        y=subset['hu_mean'],\n",
    "        error_y=dict(type='data', array=subset['hu_std'], thickness=0.75,visible=False),\n",
    "        name=bias,\n",
    "        marker_color=color_map[bias],\n",
    "        hovertemplate=(\n",
    "            'Hungarian: %{x}<br>'\n",
    "            'Mean Rating: %{y:.2f}<br>'\n",
    "            'English: %{customdata[0]}<br>'\n",
    "            'Chinese: %{customdata[1]}<extra></extra>'\n",
    "        ),\n",
    "        customdata=subset[['en', 'zh']]\n",
    "    ))\n",
    "\n",
    "# Add ChatGPT reference line\n",
    "fig.add_trace(go.Scatter(\n",
    "    x=df_hu_plot_sorted['hu'],\n",
    "    y=df_hu_plot_sorted['chatgpt'],\n",
    "    mode='lines+markers',\n",
    "    name='ChatGPT',\n",
    "    line=dict(color='#00A67E', width=2, dash='dot'),\n",
    "    marker=dict(symbol='hexagon', size=8),\n",
    "    hovertemplate='Hungarian: %{x}<br>English: %{customdata[0]}<br>ChatGPT: %{y:.2f}<extra></extra>',\n",
    "    customdata=df_hu_plot_sorted[['en']]\n",
    "))\n",
    "\n",
    "# Add Copilot reference line\n",
    "fig.add_trace(go.Scatter(\n",
    "    x=df_hu_plot_sorted['hu'],\n",
    "    y=df_hu_plot_sorted['copilot'],\n",
    "    mode='lines+markers',\n",
    "    name='Copilot',\n",
    "    line=dict(color=\"#F2AD22\", width=2, dash='dot'),\n",
    "    marker=dict(symbol='pentagon', size=8),\n",
    "    hovertemplate='Hungarian: %{x}<br>English: %{customdata[0]}<br>Copilot: %{y:.2f}<extra></extra>',\n",
    "    customdata=df_hu_plot_sorted[['en']]\n",
    "))\n",
    "\n",
    "# Add Gemini reference line\n",
    "fig.add_trace(go.Scatter(\n",
    "    x=df_hu_plot_sorted['hu'],\n",
    "    y=df_hu_plot_sorted['gemini'],\n",
    "    mode='lines+markers',\n",
    "    name='Gemini',\n",
    "    line=dict(color='#9177C7', width=2, dash='dot'),\n",
    "    marker=dict(symbol='star-diamond', size=8),\n",
    "    hovertemplate='Hungarian: %{x}<br>English: %{customdata[0]}<br>Gemini: %{y:.2f}<extra></extra>',\n",
    "    customdata=df_hu_plot_sorted[['en']]\n",
    "))\n",
    "\n",
    "# Add Deepseek reference line\n",
    "fig.add_trace(go.Scatter(\n",
    "    x=df_hu_plot_sorted['hu'],\n",
    "    y=df_hu_plot_sorted['deepseek'],\n",
    "    mode='lines+markers',\n",
    "    name='Deepseek',\n",
    "    line=dict(color='#3C5DFF', width=2, dash='dot'),\n",
    "    marker=dict(symbol='circle', size=8),\n",
    "    hovertemplate='Hungarian: %{x}<br>English: %{customdata[0]}<br>Deepseek: %{y:.2f}<extra></extra>',\n",
    "    customdata=df_hu_plot_sorted[['en']]\n",
    "))\n",
    "\n",
    "fig.update_layout(\n",
    "    # title='Mean Rating of Occupational Titles (Gender Bias Highlighted)',\n",
    "    xaxis_title='',\n",
    "    yaxis_title='Mean Rating (Bias)',\n",
    "    yaxis=dict(\n",
    "        range=[-3.1, 3.1],\n",
    "        tickvals=[-3, -2, -1, 0, 1, 2, 3],\n",
    "        title='Mean Rating (Bias)'\n",
    "    ),\n",
    "    xaxis_tickangle=-45,\n",
    "    template='plotly_white',\n",
    "    font = dict(family=\"Times New Roman, serif\", size=16, color='black'),\n",
    "    margin=dict(l=0, r=0, t=20, b=0),\n",
    "    legend=dict(\n",
    "        orientation='h',\n",
    "        yanchor='bottom',\n",
    "        y=0.95,\n",
    "        xanchor='center',\n",
    "        x=0.5,\n",
    "        bgcolor='rgba(220, 220, 220, 0.25)',\n",
    "    )\n",
    ")\n",
    "\n",
    "fig.show()\n",
    "\n",
    "# Save as HTML and image\n",
    "fig.write_html('occupations_hu_llms.html')\n",
    "fig.write_image('occupations_hu_llms.png', scale=3, width=1000, height=400)"
   ]
  },
  {
   "cell_type": "markdown",
   "id": "853d0fcd",
   "metadata": {},
   "source": [
    "## Chinese data"
   ]
  },
  {
   "cell_type": "code",
   "execution_count": 2270,
   "id": "86678edd",
   "metadata": {},
   "outputs": [
    {
     "name": "stdout",
     "output_type": "stream",
     "text": [
      "Number of participants: 17\n",
      "Number of words: 41\n"
     ]
    },
    {
     "data": {
      "text/html": [
       "<div>\n",
       "<style scoped>\n",
       "    .dataframe tbody tr th:only-of-type {\n",
       "        vertical-align: middle;\n",
       "    }\n",
       "\n",
       "    .dataframe tbody tr th {\n",
       "        vertical-align: top;\n",
       "    }\n",
       "\n",
       "    .dataframe thead th {\n",
       "        text-align: right;\n",
       "    }\n",
       "</style>\n",
       "<table border=\"1\" class=\"dataframe\">\n",
       "  <thead>\n",
       "    <tr style=\"text-align: right;\">\n",
       "      <th></th>\n",
       "      <th>ID</th>\n",
       "      <th>警察</th>\n",
       "      <th>秘书</th>\n",
       "      <th>教授</th>\n",
       "      <th>护士</th>\n",
       "      <th>高管</th>\n",
       "      <th>教师</th>\n",
       "      <th>前台</th>\n",
       "      <th>工人</th>\n",
       "      <th>公关</th>\n",
       "      <th>...</th>\n",
       "      <th>程序员</th>\n",
       "      <th>保安</th>\n",
       "      <th>导演</th>\n",
       "      <th>军人</th>\n",
       "      <th>董事长</th>\n",
       "      <th>消防员</th>\n",
       "      <th>科学家</th>\n",
       "      <th>检察官</th>\n",
       "      <th>救生员</th>\n",
       "      <th>建筑师</th>\n",
       "    </tr>\n",
       "  </thead>\n",
       "  <tbody>\n",
       "    <tr>\n",
       "      <th>0</th>\n",
       "      <td>1</td>\n",
       "      <td>-2</td>\n",
       "      <td>1</td>\n",
       "      <td>0</td>\n",
       "      <td>1</td>\n",
       "      <td>0</td>\n",
       "      <td>1</td>\n",
       "      <td>1</td>\n",
       "      <td>-1</td>\n",
       "      <td>0</td>\n",
       "      <td>...</td>\n",
       "      <td>0</td>\n",
       "      <td>-1</td>\n",
       "      <td>0</td>\n",
       "      <td>-2</td>\n",
       "      <td>0</td>\n",
       "      <td>-2</td>\n",
       "      <td>0</td>\n",
       "      <td>0</td>\n",
       "      <td>0</td>\n",
       "      <td>0</td>\n",
       "    </tr>\n",
       "    <tr>\n",
       "      <th>1</th>\n",
       "      <td>4</td>\n",
       "      <td>-2</td>\n",
       "      <td>2</td>\n",
       "      <td>0</td>\n",
       "      <td>2</td>\n",
       "      <td>0</td>\n",
       "      <td>0</td>\n",
       "      <td>2</td>\n",
       "      <td>0</td>\n",
       "      <td>0</td>\n",
       "      <td>...</td>\n",
       "      <td>-2</td>\n",
       "      <td>-2</td>\n",
       "      <td>-1</td>\n",
       "      <td>-2</td>\n",
       "      <td>-2</td>\n",
       "      <td>-2</td>\n",
       "      <td>-2</td>\n",
       "      <td>-1</td>\n",
       "      <td>-2</td>\n",
       "      <td>-2</td>\n",
       "    </tr>\n",
       "    <tr>\n",
       "      <th>2</th>\n",
       "      <td>5</td>\n",
       "      <td>-1</td>\n",
       "      <td>2</td>\n",
       "      <td>0</td>\n",
       "      <td>2</td>\n",
       "      <td>0</td>\n",
       "      <td>1</td>\n",
       "      <td>1</td>\n",
       "      <td>-2</td>\n",
       "      <td>0</td>\n",
       "      <td>...</td>\n",
       "      <td>-2</td>\n",
       "      <td>-2</td>\n",
       "      <td>-1</td>\n",
       "      <td>-2</td>\n",
       "      <td>-1</td>\n",
       "      <td>-1</td>\n",
       "      <td>-1</td>\n",
       "      <td>-1</td>\n",
       "      <td>-2</td>\n",
       "      <td>-1</td>\n",
       "    </tr>\n",
       "    <tr>\n",
       "      <th>3</th>\n",
       "      <td>6</td>\n",
       "      <td>-1</td>\n",
       "      <td>0</td>\n",
       "      <td>-1</td>\n",
       "      <td>2</td>\n",
       "      <td>-1</td>\n",
       "      <td>1</td>\n",
       "      <td>1</td>\n",
       "      <td>0</td>\n",
       "      <td>0</td>\n",
       "      <td>...</td>\n",
       "      <td>-2</td>\n",
       "      <td>-2</td>\n",
       "      <td>-1</td>\n",
       "      <td>-2</td>\n",
       "      <td>-1</td>\n",
       "      <td>-2</td>\n",
       "      <td>-1</td>\n",
       "      <td>0</td>\n",
       "      <td>-1</td>\n",
       "      <td>-1</td>\n",
       "    </tr>\n",
       "    <tr>\n",
       "      <th>4</th>\n",
       "      <td>7</td>\n",
       "      <td>-2</td>\n",
       "      <td>2</td>\n",
       "      <td>-1</td>\n",
       "      <td>2</td>\n",
       "      <td>-1</td>\n",
       "      <td>2</td>\n",
       "      <td>2</td>\n",
       "      <td>-3</td>\n",
       "      <td>0</td>\n",
       "      <td>...</td>\n",
       "      <td>-2</td>\n",
       "      <td>-2</td>\n",
       "      <td>-1</td>\n",
       "      <td>-1</td>\n",
       "      <td>-2</td>\n",
       "      <td>-2</td>\n",
       "      <td>-1</td>\n",
       "      <td>-1</td>\n",
       "      <td>-2</td>\n",
       "      <td>-2</td>\n",
       "    </tr>\n",
       "  </tbody>\n",
       "</table>\n",
       "<p>5 rows × 41 columns</p>\n",
       "</div>"
      ],
      "text/plain": [
       "   ID  警察  秘书  教授  护士  高管  教师  前台  工人  公关  ...  程序员  保安  导演  军人  董事长  消防员  \\\n",
       "0   1  -2   1   0   1   0   1   1  -1   0  ...    0  -1   0  -2    0   -2   \n",
       "1   4  -2   2   0   2   0   0   2   0   0  ...   -2  -2  -1  -2   -2   -2   \n",
       "2   5  -1   2   0   2   0   1   1  -2   0  ...   -2  -2  -1  -2   -1   -1   \n",
       "3   6  -1   0  -1   2  -1   1   1   0   0  ...   -2  -2  -1  -2   -1   -2   \n",
       "4   7  -2   2  -1   2  -1   2   2  -3   0  ...   -2  -2  -1  -1   -2   -2   \n",
       "\n",
       "   科学家  检察官  救生员  建筑师  \n",
       "0    0    0    0    0  \n",
       "1   -2   -1   -2   -2  \n",
       "2   -1   -1   -2   -1  \n",
       "3   -1    0   -1   -1  \n",
       "4   -1   -1   -2   -2  \n",
       "\n",
       "[5 rows x 41 columns]"
      ]
     },
     "execution_count": 2270,
     "metadata": {},
     "output_type": "execute_result"
    }
   ],
   "source": [
    "# Read Chinese data from hu.xlsx\n",
    "df_zh = pd.read_excel('ratings_zh.xlsx')\n",
    "\n",
    "# Define Chinese attention checks #######################################\n",
    "zh_attention_checks = ['妈妈', '女画家', '女作家', '爸爸', '男演员', '男作家']\n",
    "\n",
    "# Drop attention checks\n",
    "df_zh.drop(columns=zh_attention_checks, inplace=True)\n",
    "\n",
    "# Define the mapping for ratings\n",
    "rating_map = {\n",
    "    '完全由男性担任': -3,\n",
    "    '大多由男性担任': -2,\n",
    "    '较多由男性担任': -1,\n",
    "    '男女比例大致相当': 0,\n",
    "    '较多由女性担任': 1,\n",
    "    '大多由女性担任': 2,\n",
    "    '完全由女性担任': 3\n",
    "}\n",
    "\n",
    "# Get columns to convert (skip non-rating columns)\n",
    "rating_columns = df_zh.columns[1:]  # assuming first 8 columns are not ratings\n",
    "\n",
    "# Replace and explicitly infer objects to avoid warning\n",
    "for col in rating_columns:\n",
    "    df_zh[col] = df_zh[col].map(rating_map)\n",
    "\n",
    "# Count and print participants based on unique Participant id\n",
    "num_participants = df_zh['ID'].nunique()\n",
    "print(f'Number of participants: {num_participants}')\n",
    "\n",
    "# Count the number of columns starting with the 8th.\n",
    "num_columns = len(df_zh.columns)\n",
    "print(f'Number of words: {num_columns}')\n",
    "\n",
    "# Show\n",
    "df_zh.head()"
   ]
  },
  {
   "cell_type": "markdown",
   "id": "641a696c",
   "metadata": {},
   "source": [
    "### Analysis"
   ]
  },
  {
   "cell_type": "markdown",
   "id": "132294f7",
   "metadata": {},
   "source": [
    "#### Two Sample T-Test by Gender"
   ]
  },
  {
   "cell_type": "code",
   "execution_count": null,
   "id": "0020f4b1",
   "metadata": {},
   "outputs": [],
   "source": []
  },
  {
   "cell_type": "markdown",
   "id": "a7d4af3e",
   "metadata": {},
   "source": [
    "#### Transpose"
   ]
  },
  {
   "cell_type": "code",
   "execution_count": 2271,
   "id": "3ac3cef0",
   "metadata": {},
   "outputs": [
    {
     "data": {
      "text/html": [
       "<div>\n",
       "<style scoped>\n",
       "    .dataframe tbody tr th:only-of-type {\n",
       "        vertical-align: middle;\n",
       "    }\n",
       "\n",
       "    .dataframe tbody tr th {\n",
       "        vertical-align: top;\n",
       "    }\n",
       "\n",
       "    .dataframe thead th {\n",
       "        text-align: right;\n",
       "    }\n",
       "</style>\n",
       "<table border=\"1\" class=\"dataframe\">\n",
       "  <thead>\n",
       "    <tr style=\"text-align: right;\">\n",
       "      <th></th>\n",
       "      <th>0</th>\n",
       "      <th>1</th>\n",
       "      <th>2</th>\n",
       "      <th>3</th>\n",
       "      <th>4</th>\n",
       "      <th>5</th>\n",
       "      <th>6</th>\n",
       "      <th>7</th>\n",
       "      <th>8</th>\n",
       "      <th>9</th>\n",
       "      <th>10</th>\n",
       "      <th>11</th>\n",
       "      <th>12</th>\n",
       "      <th>13</th>\n",
       "      <th>14</th>\n",
       "      <th>15</th>\n",
       "      <th>16</th>\n",
       "    </tr>\n",
       "  </thead>\n",
       "  <tbody>\n",
       "    <tr>\n",
       "      <th>警察</th>\n",
       "      <td>-2</td>\n",
       "      <td>-2</td>\n",
       "      <td>-1</td>\n",
       "      <td>-1</td>\n",
       "      <td>-2</td>\n",
       "      <td>-2</td>\n",
       "      <td>-2</td>\n",
       "      <td>-2</td>\n",
       "      <td>-1</td>\n",
       "      <td>-1</td>\n",
       "      <td>-2</td>\n",
       "      <td>-3</td>\n",
       "      <td>-2</td>\n",
       "      <td>-3</td>\n",
       "      <td>-2</td>\n",
       "      <td>-2</td>\n",
       "      <td>-2</td>\n",
       "    </tr>\n",
       "    <tr>\n",
       "      <th>秘书</th>\n",
       "      <td>1</td>\n",
       "      <td>2</td>\n",
       "      <td>2</td>\n",
       "      <td>0</td>\n",
       "      <td>2</td>\n",
       "      <td>2</td>\n",
       "      <td>2</td>\n",
       "      <td>1</td>\n",
       "      <td>-1</td>\n",
       "      <td>2</td>\n",
       "      <td>2</td>\n",
       "      <td>3</td>\n",
       "      <td>1</td>\n",
       "      <td>1</td>\n",
       "      <td>1</td>\n",
       "      <td>2</td>\n",
       "      <td>1</td>\n",
       "    </tr>\n",
       "    <tr>\n",
       "      <th>教授</th>\n",
       "      <td>0</td>\n",
       "      <td>0</td>\n",
       "      <td>0</td>\n",
       "      <td>-1</td>\n",
       "      <td>-1</td>\n",
       "      <td>-2</td>\n",
       "      <td>-1</td>\n",
       "      <td>0</td>\n",
       "      <td>0</td>\n",
       "      <td>-1</td>\n",
       "      <td>0</td>\n",
       "      <td>-1</td>\n",
       "      <td>-2</td>\n",
       "      <td>-2</td>\n",
       "      <td>0</td>\n",
       "      <td>0</td>\n",
       "      <td>0</td>\n",
       "    </tr>\n",
       "    <tr>\n",
       "      <th>护士</th>\n",
       "      <td>1</td>\n",
       "      <td>2</td>\n",
       "      <td>2</td>\n",
       "      <td>2</td>\n",
       "      <td>2</td>\n",
       "      <td>2</td>\n",
       "      <td>2</td>\n",
       "      <td>2</td>\n",
       "      <td>2</td>\n",
       "      <td>2</td>\n",
       "      <td>1</td>\n",
       "      <td>3</td>\n",
       "      <td>2</td>\n",
       "      <td>2</td>\n",
       "      <td>2</td>\n",
       "      <td>2</td>\n",
       "      <td>2</td>\n",
       "    </tr>\n",
       "    <tr>\n",
       "      <th>高管</th>\n",
       "      <td>0</td>\n",
       "      <td>0</td>\n",
       "      <td>0</td>\n",
       "      <td>-1</td>\n",
       "      <td>-1</td>\n",
       "      <td>-2</td>\n",
       "      <td>-2</td>\n",
       "      <td>-1</td>\n",
       "      <td>0</td>\n",
       "      <td>-1</td>\n",
       "      <td>0</td>\n",
       "      <td>-2</td>\n",
       "      <td>-1</td>\n",
       "      <td>-1</td>\n",
       "      <td>0</td>\n",
       "      <td>0</td>\n",
       "      <td>-1</td>\n",
       "    </tr>\n",
       "  </tbody>\n",
       "</table>\n",
       "</div>"
      ],
      "text/plain": [
       "    0   1   2   3   4   5   6   7   8   9   10  11  12  13  14  15  16\n",
       "警察  -2  -2  -1  -1  -2  -2  -2  -2  -1  -1  -2  -3  -2  -3  -2  -2  -2\n",
       "秘书   1   2   2   0   2   2   2   1  -1   2   2   3   1   1   1   2   1\n",
       "教授   0   0   0  -1  -1  -2  -1   0   0  -1   0  -1  -2  -2   0   0   0\n",
       "护士   1   2   2   2   2   2   2   2   2   2   1   3   2   2   2   2   2\n",
       "高管   0   0   0  -1  -1  -2  -2  -1   0  -1   0  -2  -1  -1   0   0  -1"
      ]
     },
     "execution_count": 2271,
     "metadata": {},
     "output_type": "execute_result"
    }
   ],
   "source": [
    "# Transpose results, a prepare a copy with only the ratings\n",
    "df_zh_ratings = df_zh[rating_columns].transpose()\n",
    "df_zh = df_zh.transpose()\n",
    "\n",
    "# Remove rows with index: ID, Start Time, Completion time, Email, Name, Participant id\n",
    "df_zh = df_zh.drop(['ID'], axis=0) \n",
    "\n",
    "# Show\n",
    "df_zh.head()"
   ]
  },
  {
   "cell_type": "markdown",
   "id": "37c54cf6",
   "metadata": {},
   "source": [
    "### One Sample T-test"
   ]
  },
  {
   "cell_type": "code",
   "execution_count": 2272,
   "id": "ddecec3e",
   "metadata": {},
   "outputs": [
    {
     "name": "stdout",
     "output_type": "stream",
     "text": [
      "   item      mean       p_value\n",
      "0    警察 -1.882353  6.926729e-10\n",
      "1    秘书  1.411765  1.280319e-05\n",
      "2    教授 -0.647059  3.701534e-03\n",
      "3    护士  1.941176  2.762582e-12\n",
      "4    高管 -0.764706  6.924293e-04\n",
      "5    教师  1.117647  2.710431e-04\n",
      "6    前台  1.588235  3.801807e-07\n",
      "7    工人 -1.588235  2.510694e-05\n",
      "8    公关  0.588235  1.319208e-02\n",
      "9    幼师  2.000000  1.827768e-11\n",
      "10   模特  1.117647  1.395229e-04\n",
      "11   护工  1.058824  1.005465e-03\n",
      "12   保姆  2.117647  1.092694e-09\n",
      "13   会计  0.705882  1.336629e-02\n",
      "14  工程师 -1.352941  2.524732e-06\n",
      "15   保洁  1.294118  2.958650e-04\n",
      "17  导购员  1.294118  2.697127e-05\n",
      "18  美容师  1.882353  6.926729e-10\n",
      "19  服务员  0.882353  6.206554e-04\n",
      "20  乘务员  1.117647  1.395229e-04\n",
      "21  理发师 -1.058824  2.510694e-05\n",
      "22  空服员  1.000000  7.969979e-04\n",
      "23  售票员  1.000000  7.969979e-04\n",
      "24   厨师 -1.529412  1.601761e-07\n",
      "25  营养师  0.588235  1.319208e-02\n",
      "26  家政员  1.235294  4.096206e-03\n",
      "27  收银员  1.529412  6.696565e-07\n",
      "28   医生 -0.705882  1.803579e-02\n",
      "29   法医 -0.823529  4.096206e-03\n",
      "30  程序员 -1.470588  8.348424e-06\n",
      "31   保安 -2.058824  5.815362e-11\n",
      "32   导演 -1.000000  2.554369e-05\n",
      "33   军人 -1.705882  1.937965e-08\n",
      "34  董事长 -1.235294  3.705792e-05\n",
      "35  消防员 -2.000000  3.109305e-09\n",
      "36  科学家 -1.058824  7.484609e-05\n",
      "37  检察官 -1.058824  1.758016e-04\n",
      "38  救生员 -1.764706  1.696706e-07\n",
      "39  建筑师 -1.764706  7.616580e-09\n",
      "\n",
      "Range of mean ratings where the rating is not significant: -0.35294117647058826 to -0.35294117647058826\n"
     ]
    }
   ],
   "source": [
    "# One Sample T-test\n",
    "results = []\n",
    "\n",
    "for index, row in df_zh_ratings.iterrows():\n",
    "    ratings = row.dropna().astype(float)\n",
    "    t_stat, p_value = stats.ttest_1samp(ratings, popmean=0)\n",
    "    mean_rating = ratings.mean()\n",
    "    results.append({\n",
    "        'item': index,  # item name from index\n",
    "        'mean': mean_rating,\n",
    "        't_stat': t_stat,\n",
    "        'p_value': p_value,\n",
    "        'significant': p_value < 0.05\n",
    "    })\n",
    "\n",
    "df_results = pd.DataFrame(results)\n",
    "\n",
    "# Print significant results\n",
    "print(df_results[df_results['significant']][['item', 'mean', 'p_value']])\n",
    "\n",
    "# Filter for non-significant ratings\n",
    "not_significant = df_results[~df_results['significant']]\n",
    "\n",
    "# Get the min and max of the mean ratings where not significant\n",
    "mean_min = not_significant['mean'].min()\n",
    "mean_max = not_significant['mean'].max()\n",
    "\n",
    "# Print the range of mean ratings where the rating is not significant\n",
    "print(f\"\\nRange of mean ratings where the rating is not significant: {mean_min} to {mean_max}\")\n"
   ]
  },
  {
   "cell_type": "code",
   "execution_count": 2273,
   "id": "6ea675a5",
   "metadata": {},
   "outputs": [
    {
     "data": {
      "application/vnd.plotly.v1+json": {
       "config": {
        "plotlyServerURL": "https://plot.ly"
       },
       "data": [
        {
         "customdata": {
          "bdata": "h1lwy2T4zz20ESNZb7UqPk4pcLjQzAc+tE0lT0JbQD4GUuNk1sWGPlOmnssJz1Q+azwJz5dT+j5dKGOMm3+FPiSlGaYGguE+ZF2N9NEtxT7da7x91G0DPyA6v3/sCic/XjwJz5dT+j574HsV1p4TP4L5H7nUyPo+hpym3S7HcD8zdKWOhLBGPw24MYn5d5I/JN9t1q1Sbj909J2ScwSLP2r0nZJzBIs/SOUPjclfiz/t7+xQb1ZEP5ptpfSzHUo/mm2l9LMdSj8lEbDoOXlQPz7kucicSSI/xKAtWFnDMT8+5LnInEkiP3Ocpt0ux3A/OZttV8pjMz+qEcFwC0j8PprZmBep2eo+D3PKQk54pj4b69t0dIOZPk4pcLjQzAc+ssb8AshMiD150gz6tRi0PZDni++3xRI+",
          "dtype": "f8",
          "shape": "39, 1"
         },
         "hovertemplate": "significance=Significant<br>Item=%{x}<br>Mean Rating=%{y}<br>p_value=%{customdata[0]}<extra></extra>",
         "legendgroup": "Significant",
         "marker": {
          "color": "crimson",
          "pattern": {
           "shape": ""
          }
         },
         "name": "Significant",
         "orientation": "v",
         "showlegend": true,
         "textposition": "auto",
         "type": "bar",
         "x": [
          "保安",
          "消防员",
          "警察",
          "建筑师",
          "救生员",
          "军人",
          "工人",
          "厨师",
          "程序员",
          "工程师",
          "董事长",
          "检察官",
          "理发师",
          "科学家",
          "导演",
          "法医",
          "高管",
          "医生",
          "教授",
          "营养师",
          "公关",
          "会计",
          "服务员",
          "售票员",
          "空服员",
          "护工",
          "乘务员",
          "教师",
          "模特",
          "家政员",
          "保洁",
          "导购员",
          "秘书",
          "收银员",
          "前台",
          "美容师",
          "护士",
          "幼师",
          "保姆"
         ],
         "xaxis": "x",
         "y": {
          "bdata": "eHh4eHh4AMAAAAAAAAAAwB4eHh4eHv6/PDw8PDw8/L88PDw8PDz8v0tLS0tLS/u/aWlpaWlp+b94eHh4eHj4v4iHh4eHh/e/pqWlpaWl9b/Ew8PDw8Pzv/Hw8PDw8PC/8fDw8PDw8L/x8PDw8PDwvwAAAAAAAPC/WlpaWlpa6r94eHh4eHjov5eWlpaWlua/tbS0tLS05L/T0tLS0tLiP9PS0tLS0uI/l5aWlpaW5j88PDw8PDzsPwAAAAAAAPA/AAAAAAAA8D/x8PDw8PDwP+Lh4eHh4fE/4uHh4eHh8T/i4eHh4eHxP8TDw8PDw/M/tbS0tLS09D+1tLS0tLT0P5eWlpaWlvY/eHh4eHh4+D9paWlpaWn5Px4eHh4eHv4/Dw8PDw8P/z8AAAAAAAAAQPHw8PDw8ABA",
          "dtype": "f8"
         },
         "yaxis": "y"
        },
        {
         "customdata": {
          "bdata": "2sCOCIhVvD8=",
          "dtype": "f8",
          "shape": "1, 1"
         },
         "hovertemplate": "significance=Not Significant<br>Item=%{x}<br>Mean Rating=%{y}<br>p_value=%{customdata[0]}<extra></extra>",
         "legendgroup": "Not Significant",
         "marker": {
          "color": "lightgray",
          "pattern": {
           "shape": ""
          }
         },
         "name": "Not Significant",
         "orientation": "v",
         "showlegend": true,
         "textposition": "auto",
         "type": "bar",
         "x": [
          "法官"
         ],
         "xaxis": "x",
         "y": {
          "bdata": "l5aWlpaW1r8=",
          "dtype": "f8"
         },
         "yaxis": "y"
        }
       ],
       "layout": {
        "barmode": "relative",
        "legend": {
         "title": {
          "text": "significance"
         },
         "tracegroupgap": 0
        },
        "template": {
         "data": {
          "bar": [
           {
            "error_x": {
             "color": "#2a3f5f"
            },
            "error_y": {
             "color": "#2a3f5f"
            },
            "marker": {
             "line": {
              "color": "white",
              "width": 0.5
             },
             "pattern": {
              "fillmode": "overlay",
              "size": 10,
              "solidity": 0.2
             }
            },
            "type": "bar"
           }
          ],
          "barpolar": [
           {
            "marker": {
             "line": {
              "color": "white",
              "width": 0.5
             },
             "pattern": {
              "fillmode": "overlay",
              "size": 10,
              "solidity": 0.2
             }
            },
            "type": "barpolar"
           }
          ],
          "carpet": [
           {
            "aaxis": {
             "endlinecolor": "#2a3f5f",
             "gridcolor": "#C8D4E3",
             "linecolor": "#C8D4E3",
             "minorgridcolor": "#C8D4E3",
             "startlinecolor": "#2a3f5f"
            },
            "baxis": {
             "endlinecolor": "#2a3f5f",
             "gridcolor": "#C8D4E3",
             "linecolor": "#C8D4E3",
             "minorgridcolor": "#C8D4E3",
             "startlinecolor": "#2a3f5f"
            },
            "type": "carpet"
           }
          ],
          "choropleth": [
           {
            "colorbar": {
             "outlinewidth": 0,
             "ticks": ""
            },
            "type": "choropleth"
           }
          ],
          "contour": [
           {
            "colorbar": {
             "outlinewidth": 0,
             "ticks": ""
            },
            "colorscale": [
             [
              0,
              "#0d0887"
             ],
             [
              0.1111111111111111,
              "#46039f"
             ],
             [
              0.2222222222222222,
              "#7201a8"
             ],
             [
              0.3333333333333333,
              "#9c179e"
             ],
             [
              0.4444444444444444,
              "#bd3786"
             ],
             [
              0.5555555555555556,
              "#d8576b"
             ],
             [
              0.6666666666666666,
              "#ed7953"
             ],
             [
              0.7777777777777778,
              "#fb9f3a"
             ],
             [
              0.8888888888888888,
              "#fdca26"
             ],
             [
              1,
              "#f0f921"
             ]
            ],
            "type": "contour"
           }
          ],
          "contourcarpet": [
           {
            "colorbar": {
             "outlinewidth": 0,
             "ticks": ""
            },
            "type": "contourcarpet"
           }
          ],
          "heatmap": [
           {
            "colorbar": {
             "outlinewidth": 0,
             "ticks": ""
            },
            "colorscale": [
             [
              0,
              "#0d0887"
             ],
             [
              0.1111111111111111,
              "#46039f"
             ],
             [
              0.2222222222222222,
              "#7201a8"
             ],
             [
              0.3333333333333333,
              "#9c179e"
             ],
             [
              0.4444444444444444,
              "#bd3786"
             ],
             [
              0.5555555555555556,
              "#d8576b"
             ],
             [
              0.6666666666666666,
              "#ed7953"
             ],
             [
              0.7777777777777778,
              "#fb9f3a"
             ],
             [
              0.8888888888888888,
              "#fdca26"
             ],
             [
              1,
              "#f0f921"
             ]
            ],
            "type": "heatmap"
           }
          ],
          "histogram": [
           {
            "marker": {
             "pattern": {
              "fillmode": "overlay",
              "size": 10,
              "solidity": 0.2
             }
            },
            "type": "histogram"
           }
          ],
          "histogram2d": [
           {
            "colorbar": {
             "outlinewidth": 0,
             "ticks": ""
            },
            "colorscale": [
             [
              0,
              "#0d0887"
             ],
             [
              0.1111111111111111,
              "#46039f"
             ],
             [
              0.2222222222222222,
              "#7201a8"
             ],
             [
              0.3333333333333333,
              "#9c179e"
             ],
             [
              0.4444444444444444,
              "#bd3786"
             ],
             [
              0.5555555555555556,
              "#d8576b"
             ],
             [
              0.6666666666666666,
              "#ed7953"
             ],
             [
              0.7777777777777778,
              "#fb9f3a"
             ],
             [
              0.8888888888888888,
              "#fdca26"
             ],
             [
              1,
              "#f0f921"
             ]
            ],
            "type": "histogram2d"
           }
          ],
          "histogram2dcontour": [
           {
            "colorbar": {
             "outlinewidth": 0,
             "ticks": ""
            },
            "colorscale": [
             [
              0,
              "#0d0887"
             ],
             [
              0.1111111111111111,
              "#46039f"
             ],
             [
              0.2222222222222222,
              "#7201a8"
             ],
             [
              0.3333333333333333,
              "#9c179e"
             ],
             [
              0.4444444444444444,
              "#bd3786"
             ],
             [
              0.5555555555555556,
              "#d8576b"
             ],
             [
              0.6666666666666666,
              "#ed7953"
             ],
             [
              0.7777777777777778,
              "#fb9f3a"
             ],
             [
              0.8888888888888888,
              "#fdca26"
             ],
             [
              1,
              "#f0f921"
             ]
            ],
            "type": "histogram2dcontour"
           }
          ],
          "mesh3d": [
           {
            "colorbar": {
             "outlinewidth": 0,
             "ticks": ""
            },
            "type": "mesh3d"
           }
          ],
          "parcoords": [
           {
            "line": {
             "colorbar": {
              "outlinewidth": 0,
              "ticks": ""
             }
            },
            "type": "parcoords"
           }
          ],
          "pie": [
           {
            "automargin": true,
            "type": "pie"
           }
          ],
          "scatter": [
           {
            "fillpattern": {
             "fillmode": "overlay",
             "size": 10,
             "solidity": 0.2
            },
            "type": "scatter"
           }
          ],
          "scatter3d": [
           {
            "line": {
             "colorbar": {
              "outlinewidth": 0,
              "ticks": ""
             }
            },
            "marker": {
             "colorbar": {
              "outlinewidth": 0,
              "ticks": ""
             }
            },
            "type": "scatter3d"
           }
          ],
          "scattercarpet": [
           {
            "marker": {
             "colorbar": {
              "outlinewidth": 0,
              "ticks": ""
             }
            },
            "type": "scattercarpet"
           }
          ],
          "scattergeo": [
           {
            "marker": {
             "colorbar": {
              "outlinewidth": 0,
              "ticks": ""
             }
            },
            "type": "scattergeo"
           }
          ],
          "scattergl": [
           {
            "marker": {
             "colorbar": {
              "outlinewidth": 0,
              "ticks": ""
             }
            },
            "type": "scattergl"
           }
          ],
          "scattermap": [
           {
            "marker": {
             "colorbar": {
              "outlinewidth": 0,
              "ticks": ""
             }
            },
            "type": "scattermap"
           }
          ],
          "scattermapbox": [
           {
            "marker": {
             "colorbar": {
              "outlinewidth": 0,
              "ticks": ""
             }
            },
            "type": "scattermapbox"
           }
          ],
          "scatterpolar": [
           {
            "marker": {
             "colorbar": {
              "outlinewidth": 0,
              "ticks": ""
             }
            },
            "type": "scatterpolar"
           }
          ],
          "scatterpolargl": [
           {
            "marker": {
             "colorbar": {
              "outlinewidth": 0,
              "ticks": ""
             }
            },
            "type": "scatterpolargl"
           }
          ],
          "scatterternary": [
           {
            "marker": {
             "colorbar": {
              "outlinewidth": 0,
              "ticks": ""
             }
            },
            "type": "scatterternary"
           }
          ],
          "surface": [
           {
            "colorbar": {
             "outlinewidth": 0,
             "ticks": ""
            },
            "colorscale": [
             [
              0,
              "#0d0887"
             ],
             [
              0.1111111111111111,
              "#46039f"
             ],
             [
              0.2222222222222222,
              "#7201a8"
             ],
             [
              0.3333333333333333,
              "#9c179e"
             ],
             [
              0.4444444444444444,
              "#bd3786"
             ],
             [
              0.5555555555555556,
              "#d8576b"
             ],
             [
              0.6666666666666666,
              "#ed7953"
             ],
             [
              0.7777777777777778,
              "#fb9f3a"
             ],
             [
              0.8888888888888888,
              "#fdca26"
             ],
             [
              1,
              "#f0f921"
             ]
            ],
            "type": "surface"
           }
          ],
          "table": [
           {
            "cells": {
             "fill": {
              "color": "#EBF0F8"
             },
             "line": {
              "color": "white"
             }
            },
            "header": {
             "fill": {
              "color": "#C8D4E3"
             },
             "line": {
              "color": "white"
             }
            },
            "type": "table"
           }
          ]
         },
         "layout": {
          "annotationdefaults": {
           "arrowcolor": "#2a3f5f",
           "arrowhead": 0,
           "arrowwidth": 1
          },
          "autotypenumbers": "strict",
          "coloraxis": {
           "colorbar": {
            "outlinewidth": 0,
            "ticks": ""
           }
          },
          "colorscale": {
           "diverging": [
            [
             0,
             "#8e0152"
            ],
            [
             0.1,
             "#c51b7d"
            ],
            [
             0.2,
             "#de77ae"
            ],
            [
             0.3,
             "#f1b6da"
            ],
            [
             0.4,
             "#fde0ef"
            ],
            [
             0.5,
             "#f7f7f7"
            ],
            [
             0.6,
             "#e6f5d0"
            ],
            [
             0.7,
             "#b8e186"
            ],
            [
             0.8,
             "#7fbc41"
            ],
            [
             0.9,
             "#4d9221"
            ],
            [
             1,
             "#276419"
            ]
           ],
           "sequential": [
            [
             0,
             "#0d0887"
            ],
            [
             0.1111111111111111,
             "#46039f"
            ],
            [
             0.2222222222222222,
             "#7201a8"
            ],
            [
             0.3333333333333333,
             "#9c179e"
            ],
            [
             0.4444444444444444,
             "#bd3786"
            ],
            [
             0.5555555555555556,
             "#d8576b"
            ],
            [
             0.6666666666666666,
             "#ed7953"
            ],
            [
             0.7777777777777778,
             "#fb9f3a"
            ],
            [
             0.8888888888888888,
             "#fdca26"
            ],
            [
             1,
             "#f0f921"
            ]
           ],
           "sequentialminus": [
            [
             0,
             "#0d0887"
            ],
            [
             0.1111111111111111,
             "#46039f"
            ],
            [
             0.2222222222222222,
             "#7201a8"
            ],
            [
             0.3333333333333333,
             "#9c179e"
            ],
            [
             0.4444444444444444,
             "#bd3786"
            ],
            [
             0.5555555555555556,
             "#d8576b"
            ],
            [
             0.6666666666666666,
             "#ed7953"
            ],
            [
             0.7777777777777778,
             "#fb9f3a"
            ],
            [
             0.8888888888888888,
             "#fdca26"
            ],
            [
             1,
             "#f0f921"
            ]
           ]
          },
          "colorway": [
           "#636efa",
           "#EF553B",
           "#00cc96",
           "#ab63fa",
           "#FFA15A",
           "#19d3f3",
           "#FF6692",
           "#B6E880",
           "#FF97FF",
           "#FECB52"
          ],
          "font": {
           "color": "#2a3f5f"
          },
          "geo": {
           "bgcolor": "white",
           "lakecolor": "white",
           "landcolor": "white",
           "showlakes": true,
           "showland": true,
           "subunitcolor": "#C8D4E3"
          },
          "hoverlabel": {
           "align": "left"
          },
          "hovermode": "closest",
          "mapbox": {
           "style": "light"
          },
          "paper_bgcolor": "white",
          "plot_bgcolor": "white",
          "polar": {
           "angularaxis": {
            "gridcolor": "#EBF0F8",
            "linecolor": "#EBF0F8",
            "ticks": ""
           },
           "bgcolor": "white",
           "radialaxis": {
            "gridcolor": "#EBF0F8",
            "linecolor": "#EBF0F8",
            "ticks": ""
           }
          },
          "scene": {
           "xaxis": {
            "backgroundcolor": "white",
            "gridcolor": "#DFE8F3",
            "gridwidth": 2,
            "linecolor": "#EBF0F8",
            "showbackground": true,
            "ticks": "",
            "zerolinecolor": "#EBF0F8"
           },
           "yaxis": {
            "backgroundcolor": "white",
            "gridcolor": "#DFE8F3",
            "gridwidth": 2,
            "linecolor": "#EBF0F8",
            "showbackground": true,
            "ticks": "",
            "zerolinecolor": "#EBF0F8"
           },
           "zaxis": {
            "backgroundcolor": "white",
            "gridcolor": "#DFE8F3",
            "gridwidth": 2,
            "linecolor": "#EBF0F8",
            "showbackground": true,
            "ticks": "",
            "zerolinecolor": "#EBF0F8"
           }
          },
          "shapedefaults": {
           "line": {
            "color": "#2a3f5f"
           }
          },
          "ternary": {
           "aaxis": {
            "gridcolor": "#DFE8F3",
            "linecolor": "#A2B1C6",
            "ticks": ""
           },
           "baxis": {
            "gridcolor": "#DFE8F3",
            "linecolor": "#A2B1C6",
            "ticks": ""
           },
           "bgcolor": "white",
           "caxis": {
            "gridcolor": "#DFE8F3",
            "linecolor": "#A2B1C6",
            "ticks": ""
           }
          },
          "title": {
           "x": 0.05
          },
          "xaxis": {
           "automargin": true,
           "gridcolor": "#EBF0F8",
           "linecolor": "#EBF0F8",
           "ticks": "",
           "title": {
            "standoff": 15
           },
           "zerolinecolor": "#EBF0F8",
           "zerolinewidth": 2
          },
          "yaxis": {
           "automargin": true,
           "gridcolor": "#EBF0F8",
           "linecolor": "#EBF0F8",
           "ticks": "",
           "title": {
            "standoff": 15
           },
           "zerolinecolor": "#EBF0F8",
           "zerolinewidth": 2
          }
         }
        },
        "title": {
         "text": "One Sample T-test of Ratings from Likert Scale"
        },
        "xaxis": {
         "anchor": "y",
         "domain": [
          0,
          1
         ],
         "tickangle": -45,
         "title": {
          "text": "Item"
         }
        },
        "yaxis": {
         "anchor": "x",
         "domain": [
          0,
          1
         ],
         "title": {
          "text": "Mean Rating (Bias)"
         }
        }
       }
      }
     },
     "metadata": {},
     "output_type": "display_data"
    }
   ],
   "source": [
    "# Sort by mean for better readability\n",
    "df_results_sorted = df_results.sort_values(by='mean')\n",
    "\n",
    "# Create color labels\n",
    "df_results_sorted['significance'] = df_results_sorted['significant'].map({True: 'Significant', False: 'Not Significant'})\n",
    "\n",
    "# Plot\n",
    "fig = px.bar(\n",
    "    df_results_sorted,\n",
    "    x='item',\n",
    "    y='mean',\n",
    "    color='significance',\n",
    "    color_discrete_map={'Significant': 'crimson', 'Not Significant': 'lightgray'},\n",
    "    title='One Sample T-test of Ratings from Likert Scale',\n",
    "    labels={'item': 'Item', 'mean': 'Mean Rating'},\n",
    "    hover_data=['p_value']\n",
    ")\n",
    "\n",
    "fig.update_layout(\n",
    "    xaxis_tickangle=-45,\n",
    "    yaxis_title='Mean Rating (Bias)',\n",
    "    xaxis_title='Item',\n",
    "    template='plotly_white'\n",
    ")\n",
    "\n",
    "fig.show()\n",
    "\n",
    "# Save it as html\n",
    "fig.write_html('occupations_ttest_zh.html')\n",
    "\n",
    "# Save it as image\n",
    "fig.write_image('occupations_ttest_zh.png', scale=3, width=1000, height=500)"
   ]
  },
  {
   "cell_type": "markdown",
   "id": "5992f673",
   "metadata": {},
   "source": [
    "### Merge"
   ]
  },
  {
   "cell_type": "code",
   "execution_count": 2274,
   "id": "1366b085",
   "metadata": {},
   "outputs": [
    {
     "data": {
      "text/html": [
       "<div>\n",
       "<style scoped>\n",
       "    .dataframe tbody tr th:only-of-type {\n",
       "        vertical-align: middle;\n",
       "    }\n",
       "\n",
       "    .dataframe tbody tr th {\n",
       "        vertical-align: top;\n",
       "    }\n",
       "\n",
       "    .dataframe thead th {\n",
       "        text-align: right;\n",
       "    }\n",
       "</style>\n",
       "<table border=\"1\" class=\"dataframe\">\n",
       "  <thead>\n",
       "    <tr style=\"text-align: right;\">\n",
       "      <th></th>\n",
       "      <th>#</th>\n",
       "      <th>hu</th>\n",
       "      <th>en</th>\n",
       "      <th>zh</th>\n",
       "      <th>0</th>\n",
       "      <th>1</th>\n",
       "      <th>2</th>\n",
       "      <th>3</th>\n",
       "      <th>4</th>\n",
       "      <th>5</th>\n",
       "      <th>...</th>\n",
       "      <th>14</th>\n",
       "      <th>15</th>\n",
       "      <th>16</th>\n",
       "      <th>chatgpt</th>\n",
       "      <th>copilot</th>\n",
       "      <th>gemini</th>\n",
       "      <th>deepseek</th>\n",
       "      <th>zh_mean</th>\n",
       "      <th>zh_p_value</th>\n",
       "      <th>zh_significant</th>\n",
       "    </tr>\n",
       "  </thead>\n",
       "  <tbody>\n",
       "    <tr>\n",
       "      <th>12</th>\n",
       "      <td>NaN</td>\n",
       "      <td>NaN</td>\n",
       "      <td>domestic helper</td>\n",
       "      <td>保姆</td>\n",
       "      <td>2</td>\n",
       "      <td>2</td>\n",
       "      <td>1</td>\n",
       "      <td>2</td>\n",
       "      <td>2</td>\n",
       "      <td>3</td>\n",
       "      <td>...</td>\n",
       "      <td>2</td>\n",
       "      <td>3</td>\n",
       "      <td>1</td>\n",
       "      <td>NaN</td>\n",
       "      <td>NaN</td>\n",
       "      <td>NaN</td>\n",
       "      <td>NaN</td>\n",
       "      <td>2.117647</td>\n",
       "      <td>1.092694e-09</td>\n",
       "      <td>True</td>\n",
       "    </tr>\n",
       "    <tr>\n",
       "      <th>9</th>\n",
       "      <td>NaN</td>\n",
       "      <td>NaN</td>\n",
       "      <td>kindergarten teacher</td>\n",
       "      <td>幼师</td>\n",
       "      <td>2</td>\n",
       "      <td>2</td>\n",
       "      <td>2</td>\n",
       "      <td>1</td>\n",
       "      <td>2</td>\n",
       "      <td>2</td>\n",
       "      <td>...</td>\n",
       "      <td>2</td>\n",
       "      <td>2</td>\n",
       "      <td>2</td>\n",
       "      <td>NaN</td>\n",
       "      <td>NaN</td>\n",
       "      <td>NaN</td>\n",
       "      <td>NaN</td>\n",
       "      <td>2.000000</td>\n",
       "      <td>1.827768e-11</td>\n",
       "      <td>True</td>\n",
       "    </tr>\n",
       "    <tr>\n",
       "      <th>3</th>\n",
       "      <td>6.0</td>\n",
       "      <td>nővér</td>\n",
       "      <td>nurse</td>\n",
       "      <td>护士</td>\n",
       "      <td>1</td>\n",
       "      <td>2</td>\n",
       "      <td>2</td>\n",
       "      <td>2</td>\n",
       "      <td>2</td>\n",
       "      <td>2</td>\n",
       "      <td>...</td>\n",
       "      <td>2</td>\n",
       "      <td>2</td>\n",
       "      <td>2</td>\n",
       "      <td>2.9</td>\n",
       "      <td>3.0</td>\n",
       "      <td>3.0</td>\n",
       "      <td>2.85</td>\n",
       "      <td>1.941176</td>\n",
       "      <td>2.762582e-12</td>\n",
       "      <td>True</td>\n",
       "    </tr>\n",
       "    <tr>\n",
       "      <th>18</th>\n",
       "      <td>48.0</td>\n",
       "      <td>kozmetikus</td>\n",
       "      <td>beautician</td>\n",
       "      <td>美容师</td>\n",
       "      <td>2</td>\n",
       "      <td>2</td>\n",
       "      <td>2</td>\n",
       "      <td>1</td>\n",
       "      <td>2</td>\n",
       "      <td>2</td>\n",
       "      <td>...</td>\n",
       "      <td>2</td>\n",
       "      <td>2</td>\n",
       "      <td>1</td>\n",
       "      <td>2.9</td>\n",
       "      <td>2.5</td>\n",
       "      <td>3.0</td>\n",
       "      <td>2.75</td>\n",
       "      <td>1.882353</td>\n",
       "      <td>6.926729e-10</td>\n",
       "      <td>True</td>\n",
       "    </tr>\n",
       "    <tr>\n",
       "      <th>6</th>\n",
       "      <td>45.0</td>\n",
       "      <td>recepciós</td>\n",
       "      <td>receptionist</td>\n",
       "      <td>前台</td>\n",
       "      <td>1</td>\n",
       "      <td>2</td>\n",
       "      <td>1</td>\n",
       "      <td>1</td>\n",
       "      <td>2</td>\n",
       "      <td>2</td>\n",
       "      <td>...</td>\n",
       "      <td>2</td>\n",
       "      <td>3</td>\n",
       "      <td>0</td>\n",
       "      <td>2.1</td>\n",
       "      <td>1.8</td>\n",
       "      <td>2.5</td>\n",
       "      <td>2.10</td>\n",
       "      <td>1.588235</td>\n",
       "      <td>3.801807e-07</td>\n",
       "      <td>True</td>\n",
       "    </tr>\n",
       "  </tbody>\n",
       "</table>\n",
       "<p>5 rows × 28 columns</p>\n",
       "</div>"
      ],
      "text/plain": [
       "       #          hu                    en   zh  0  1  2  3  4  5  ...  14  \\\n",
       "12   NaN         NaN       domestic helper   保姆  2  2  1  2  2  3  ...   2   \n",
       "9    NaN         NaN  kindergarten teacher   幼师  2  2  2  1  2  2  ...   2   \n",
       "3    6.0       nővér                 nurse   护士  1  2  2  2  2  2  ...   2   \n",
       "18  48.0  kozmetikus            beautician  美容师  2  2  2  1  2  2  ...   2   \n",
       "6   45.0   recepciós          receptionist   前台  1  2  1  1  2  2  ...   2   \n",
       "\n",
       "    15  16  chatgpt  copilot  gemini  deepseek   zh_mean    zh_p_value  \\\n",
       "12   3   1      NaN      NaN     NaN       NaN  2.117647  1.092694e-09   \n",
       "9    2   2      NaN      NaN     NaN       NaN  2.000000  1.827768e-11   \n",
       "3    2   2      2.9      3.0     3.0      2.85  1.941176  2.762582e-12   \n",
       "18   2   1      2.9      2.5     3.0      2.75  1.882353  6.926729e-10   \n",
       "6    3   0      2.1      1.8     2.5      2.10  1.588235  3.801807e-07   \n",
       "\n",
       "    zh_significant  \n",
       "12            True  \n",
       "9             True  \n",
       "3             True  \n",
       "18            True  \n",
       "6             True  \n",
       "\n",
       "[5 rows x 28 columns]"
      ]
     },
     "execution_count": 2274,
     "metadata": {},
     "output_type": "execute_result"
    }
   ],
   "source": [
    "# Turn index column into a column called 'zh'\n",
    "df_zh.reset_index(inplace=True)\n",
    "df_zh.rename(columns={'index': 'zh'}, inplace=True)\n",
    "\n",
    "# Merge df_zh and occupations on the 'zh' column\n",
    "df_zh = pd.merge(df_zh, occupations, on='zh', how='left')\n",
    "\n",
    "# Reorder columns so the dataframe starts with 'hu' 'en', 'zh', and so on\n",
    "df_zh = df_zh[['#', 'hu', 'en', 'zh'] + [col for col in df_zh.columns if col not in ['#', 'hu', 'en' , 'zh']]]\n",
    "\n",
    "# Merge df_zh and df_results on the 'zh' column\n",
    "df_zh = pd.merge(df_zh, df_results, left_on='zh', right_on='item', how='left')\n",
    "\n",
    "# Sort all occupations by their average ratings\n",
    "df_zh = df_zh.sort_values(by='mean', ascending=False)\n",
    "\n",
    "# Drop the 'item' column as it is redundant now\n",
    "df_zh.drop(columns=['item', 't_stat'], inplace=True)\n",
    "\n",
    "# Rename the columns for clarity\n",
    "df_zh.rename(columns={'mean': 'zh_mean',\n",
    "                      't_stat': 'zh_t_stat',\n",
    "                      'p_value': 'zh_p_value',\n",
    "                      'significant': 'zh_significant'}, inplace=True)\n",
    "\n",
    "# Save df_zh as an Excel file\n",
    "df_zh.to_excel('occupations_zh.xlsx', index=False)\n",
    "\n",
    "# Show the final DataFrame\n",
    "df_zh.head()"
   ]
  },
  {
   "cell_type": "markdown",
   "id": "4ecc0c48",
   "metadata": {},
   "source": [
    "### Plot"
   ]
  },
  {
   "cell_type": "code",
   "execution_count": 2275,
   "id": "599f537d",
   "metadata": {},
   "outputs": [
    {
     "data": {
      "application/vnd.plotly.v1+json": {
       "config": {
        "plotlyServerURL": "https://plot.ly"
       },
       "data": [
        {
         "customdata": [
          [
           "domestic helper"
          ],
          [
           "kindergarten teacher"
          ],
          [
           "nurse"
          ],
          [
           "beautician"
          ],
          [
           "receptionist"
          ],
          [
           "cashier"
          ],
          [
           "secretary"
          ],
          [
           "shop assistant"
          ],
          [
           "cleaner"
          ],
          [
           "housekeeper"
          ],
          [
           "model"
          ],
          [
           "flight attendant"
          ],
          [
           "teacher"
          ],
          [
           "caretaker"
          ],
          [
           "ticketseller"
          ],
          [
           "flight attendant*"
          ],
          [
           "waiter"
          ],
          [
           "accountant"
          ],
          [
           "PR specialist"
          ],
          [
           "dietitian"
          ]
         ],
         "hovertemplate": "Bias=Female<br>Chinese=%{x}<br>Rating=%{y}<br>English=%{customdata[0]}<extra></extra>",
         "legendgroup": "Female",
         "marker": {
          "color": "#e377c2",
          "pattern": {
           "shape": ""
          }
         },
         "name": "Female",
         "orientation": "v",
         "showlegend": true,
         "textposition": "auto",
         "type": "bar",
         "x": [
          "保姆",
          "幼师",
          "护士",
          "美容师",
          "前台",
          "收银员",
          "秘书",
          "导购员",
          "保洁",
          "家政员",
          "模特",
          "乘务员",
          "教师",
          "护工",
          "售票员",
          "空服员",
          "服务员",
          "会计",
          "公关",
          "营养师"
         ],
         "xaxis": "x",
         "y": {
          "bdata": "8fDw8PDwAEAAAAAAAAAAQA8PDw8PD/8/Hh4eHh4e/j9paWlpaWn5P3h4eHh4ePg/l5aWlpaW9j+1tLS0tLT0P7W0tLS0tPQ/xMPDw8PD8z/i4eHh4eHxP+Lh4eHh4fE/4uHh4eHh8T/x8PDw8PDwPwAAAAAAAPA/AAAAAAAA8D88PDw8PDzsP5eWlpaWluY/09LS0tLS4j/T0tLS0tLiPw==",
          "dtype": "f8"
         },
         "yaxis": "y"
        },
        {
         "customdata": [
          [
           "judge"
          ]
         ],
         "hovertemplate": "Bias=Neutral<br>Chinese=%{x}<br>Rating=%{y}<br>English=%{customdata[0]}<extra></extra>",
         "legendgroup": "Neutral",
         "marker": {
          "color": "#7f7f7f",
          "pattern": {
           "shape": ""
          }
         },
         "name": "Neutral",
         "orientation": "v",
         "showlegend": true,
         "textposition": "auto",
         "type": "bar",
         "x": [
          "法官"
         ],
         "xaxis": "x",
         "y": {
          "bdata": "l5aWlpaW1r8=",
          "dtype": "f8"
         },
         "yaxis": "y"
        },
        {
         "customdata": [
          [
           "professor"
          ],
          [
           "doctor"
          ],
          [
           "manager"
          ],
          [
           "pathologist"
          ],
          [
           "director"
          ],
          [
           "scientist"
          ],
          [
           "hairdresser"
          ],
          [
           "prosecutor"
          ],
          [
           "CEO"
          ],
          [
           "engineer"
          ],
          [
           "programmer"
          ],
          [
           "chef"
          ],
          [
           "worker"
          ],
          [
           "soldier"
          ],
          [
           "architect"
          ],
          [
           "lifeguard"
          ],
          [
           "police officer"
          ],
          [
           "firefighter"
          ],
          [
           "security guard"
          ]
         ],
         "hovertemplate": "Bias=Male<br>Chinese=%{x}<br>Rating=%{y}<br>English=%{customdata[0]}<extra></extra>",
         "legendgroup": "Male",
         "marker": {
          "color": "#1f77b4",
          "pattern": {
           "shape": ""
          }
         },
         "name": "Male",
         "orientation": "v",
         "showlegend": true,
         "textposition": "auto",
         "type": "bar",
         "x": [
          "教授",
          "医生",
          "高管",
          "法医",
          "导演",
          "科学家",
          "理发师",
          "检察官",
          "董事长",
          "工程师",
          "程序员",
          "厨师",
          "工人",
          "军人",
          "建筑师",
          "救生员",
          "警察",
          "消防员",
          "保安"
         ],
         "xaxis": "x",
         "y": {
          "bdata": "tbS0tLS05L+XlpaWlpbmv3h4eHh4eOi/WlpaWlpa6r8AAAAAAADwv/Hw8PDw8PC/8fDw8PDw8L/x8PDw8PDwv8TDw8PDw/O/pqWlpaWl9b+Ih4eHh4f3v3h4eHh4ePi/aWlpaWlp+b9LS0tLS0v7vzw8PDw8PPy/PDw8PDw8/L8eHh4eHh7+vwAAAAAAAADAeHh4eHh4AMA=",
          "dtype": "f8"
         },
         "yaxis": "y"
        }
       ],
       "layout": {
        "barmode": "relative",
        "legend": {
         "title": {
          "text": "Bias"
         },
         "tracegroupgap": 0
        },
        "template": {
         "data": {
          "bar": [
           {
            "error_x": {
             "color": "#2a3f5f"
            },
            "error_y": {
             "color": "#2a3f5f"
            },
            "marker": {
             "line": {
              "color": "#E5ECF6",
              "width": 0.5
             },
             "pattern": {
              "fillmode": "overlay",
              "size": 10,
              "solidity": 0.2
             }
            },
            "type": "bar"
           }
          ],
          "barpolar": [
           {
            "marker": {
             "line": {
              "color": "#E5ECF6",
              "width": 0.5
             },
             "pattern": {
              "fillmode": "overlay",
              "size": 10,
              "solidity": 0.2
             }
            },
            "type": "barpolar"
           }
          ],
          "carpet": [
           {
            "aaxis": {
             "endlinecolor": "#2a3f5f",
             "gridcolor": "white",
             "linecolor": "white",
             "minorgridcolor": "white",
             "startlinecolor": "#2a3f5f"
            },
            "baxis": {
             "endlinecolor": "#2a3f5f",
             "gridcolor": "white",
             "linecolor": "white",
             "minorgridcolor": "white",
             "startlinecolor": "#2a3f5f"
            },
            "type": "carpet"
           }
          ],
          "choropleth": [
           {
            "colorbar": {
             "outlinewidth": 0,
             "ticks": ""
            },
            "type": "choropleth"
           }
          ],
          "contour": [
           {
            "colorbar": {
             "outlinewidth": 0,
             "ticks": ""
            },
            "colorscale": [
             [
              0,
              "#0d0887"
             ],
             [
              0.1111111111111111,
              "#46039f"
             ],
             [
              0.2222222222222222,
              "#7201a8"
             ],
             [
              0.3333333333333333,
              "#9c179e"
             ],
             [
              0.4444444444444444,
              "#bd3786"
             ],
             [
              0.5555555555555556,
              "#d8576b"
             ],
             [
              0.6666666666666666,
              "#ed7953"
             ],
             [
              0.7777777777777778,
              "#fb9f3a"
             ],
             [
              0.8888888888888888,
              "#fdca26"
             ],
             [
              1,
              "#f0f921"
             ]
            ],
            "type": "contour"
           }
          ],
          "contourcarpet": [
           {
            "colorbar": {
             "outlinewidth": 0,
             "ticks": ""
            },
            "type": "contourcarpet"
           }
          ],
          "heatmap": [
           {
            "colorbar": {
             "outlinewidth": 0,
             "ticks": ""
            },
            "colorscale": [
             [
              0,
              "#0d0887"
             ],
             [
              0.1111111111111111,
              "#46039f"
             ],
             [
              0.2222222222222222,
              "#7201a8"
             ],
             [
              0.3333333333333333,
              "#9c179e"
             ],
             [
              0.4444444444444444,
              "#bd3786"
             ],
             [
              0.5555555555555556,
              "#d8576b"
             ],
             [
              0.6666666666666666,
              "#ed7953"
             ],
             [
              0.7777777777777778,
              "#fb9f3a"
             ],
             [
              0.8888888888888888,
              "#fdca26"
             ],
             [
              1,
              "#f0f921"
             ]
            ],
            "type": "heatmap"
           }
          ],
          "histogram": [
           {
            "marker": {
             "pattern": {
              "fillmode": "overlay",
              "size": 10,
              "solidity": 0.2
             }
            },
            "type": "histogram"
           }
          ],
          "histogram2d": [
           {
            "colorbar": {
             "outlinewidth": 0,
             "ticks": ""
            },
            "colorscale": [
             [
              0,
              "#0d0887"
             ],
             [
              0.1111111111111111,
              "#46039f"
             ],
             [
              0.2222222222222222,
              "#7201a8"
             ],
             [
              0.3333333333333333,
              "#9c179e"
             ],
             [
              0.4444444444444444,
              "#bd3786"
             ],
             [
              0.5555555555555556,
              "#d8576b"
             ],
             [
              0.6666666666666666,
              "#ed7953"
             ],
             [
              0.7777777777777778,
              "#fb9f3a"
             ],
             [
              0.8888888888888888,
              "#fdca26"
             ],
             [
              1,
              "#f0f921"
             ]
            ],
            "type": "histogram2d"
           }
          ],
          "histogram2dcontour": [
           {
            "colorbar": {
             "outlinewidth": 0,
             "ticks": ""
            },
            "colorscale": [
             [
              0,
              "#0d0887"
             ],
             [
              0.1111111111111111,
              "#46039f"
             ],
             [
              0.2222222222222222,
              "#7201a8"
             ],
             [
              0.3333333333333333,
              "#9c179e"
             ],
             [
              0.4444444444444444,
              "#bd3786"
             ],
             [
              0.5555555555555556,
              "#d8576b"
             ],
             [
              0.6666666666666666,
              "#ed7953"
             ],
             [
              0.7777777777777778,
              "#fb9f3a"
             ],
             [
              0.8888888888888888,
              "#fdca26"
             ],
             [
              1,
              "#f0f921"
             ]
            ],
            "type": "histogram2dcontour"
           }
          ],
          "mesh3d": [
           {
            "colorbar": {
             "outlinewidth": 0,
             "ticks": ""
            },
            "type": "mesh3d"
           }
          ],
          "parcoords": [
           {
            "line": {
             "colorbar": {
              "outlinewidth": 0,
              "ticks": ""
             }
            },
            "type": "parcoords"
           }
          ],
          "pie": [
           {
            "automargin": true,
            "type": "pie"
           }
          ],
          "scatter": [
           {
            "fillpattern": {
             "fillmode": "overlay",
             "size": 10,
             "solidity": 0.2
            },
            "type": "scatter"
           }
          ],
          "scatter3d": [
           {
            "line": {
             "colorbar": {
              "outlinewidth": 0,
              "ticks": ""
             }
            },
            "marker": {
             "colorbar": {
              "outlinewidth": 0,
              "ticks": ""
             }
            },
            "type": "scatter3d"
           }
          ],
          "scattercarpet": [
           {
            "marker": {
             "colorbar": {
              "outlinewidth": 0,
              "ticks": ""
             }
            },
            "type": "scattercarpet"
           }
          ],
          "scattergeo": [
           {
            "marker": {
             "colorbar": {
              "outlinewidth": 0,
              "ticks": ""
             }
            },
            "type": "scattergeo"
           }
          ],
          "scattergl": [
           {
            "marker": {
             "colorbar": {
              "outlinewidth": 0,
              "ticks": ""
             }
            },
            "type": "scattergl"
           }
          ],
          "scattermap": [
           {
            "marker": {
             "colorbar": {
              "outlinewidth": 0,
              "ticks": ""
             }
            },
            "type": "scattermap"
           }
          ],
          "scattermapbox": [
           {
            "marker": {
             "colorbar": {
              "outlinewidth": 0,
              "ticks": ""
             }
            },
            "type": "scattermapbox"
           }
          ],
          "scatterpolar": [
           {
            "marker": {
             "colorbar": {
              "outlinewidth": 0,
              "ticks": ""
             }
            },
            "type": "scatterpolar"
           }
          ],
          "scatterpolargl": [
           {
            "marker": {
             "colorbar": {
              "outlinewidth": 0,
              "ticks": ""
             }
            },
            "type": "scatterpolargl"
           }
          ],
          "scatterternary": [
           {
            "marker": {
             "colorbar": {
              "outlinewidth": 0,
              "ticks": ""
             }
            },
            "type": "scatterternary"
           }
          ],
          "surface": [
           {
            "colorbar": {
             "outlinewidth": 0,
             "ticks": ""
            },
            "colorscale": [
             [
              0,
              "#0d0887"
             ],
             [
              0.1111111111111111,
              "#46039f"
             ],
             [
              0.2222222222222222,
              "#7201a8"
             ],
             [
              0.3333333333333333,
              "#9c179e"
             ],
             [
              0.4444444444444444,
              "#bd3786"
             ],
             [
              0.5555555555555556,
              "#d8576b"
             ],
             [
              0.6666666666666666,
              "#ed7953"
             ],
             [
              0.7777777777777778,
              "#fb9f3a"
             ],
             [
              0.8888888888888888,
              "#fdca26"
             ],
             [
              1,
              "#f0f921"
             ]
            ],
            "type": "surface"
           }
          ],
          "table": [
           {
            "cells": {
             "fill": {
              "color": "#EBF0F8"
             },
             "line": {
              "color": "white"
             }
            },
            "header": {
             "fill": {
              "color": "#C8D4E3"
             },
             "line": {
              "color": "white"
             }
            },
            "type": "table"
           }
          ]
         },
         "layout": {
          "annotationdefaults": {
           "arrowcolor": "#2a3f5f",
           "arrowhead": 0,
           "arrowwidth": 1
          },
          "autotypenumbers": "strict",
          "coloraxis": {
           "colorbar": {
            "outlinewidth": 0,
            "ticks": ""
           }
          },
          "colorscale": {
           "diverging": [
            [
             0,
             "#8e0152"
            ],
            [
             0.1,
             "#c51b7d"
            ],
            [
             0.2,
             "#de77ae"
            ],
            [
             0.3,
             "#f1b6da"
            ],
            [
             0.4,
             "#fde0ef"
            ],
            [
             0.5,
             "#f7f7f7"
            ],
            [
             0.6,
             "#e6f5d0"
            ],
            [
             0.7,
             "#b8e186"
            ],
            [
             0.8,
             "#7fbc41"
            ],
            [
             0.9,
             "#4d9221"
            ],
            [
             1,
             "#276419"
            ]
           ],
           "sequential": [
            [
             0,
             "#0d0887"
            ],
            [
             0.1111111111111111,
             "#46039f"
            ],
            [
             0.2222222222222222,
             "#7201a8"
            ],
            [
             0.3333333333333333,
             "#9c179e"
            ],
            [
             0.4444444444444444,
             "#bd3786"
            ],
            [
             0.5555555555555556,
             "#d8576b"
            ],
            [
             0.6666666666666666,
             "#ed7953"
            ],
            [
             0.7777777777777778,
             "#fb9f3a"
            ],
            [
             0.8888888888888888,
             "#fdca26"
            ],
            [
             1,
             "#f0f921"
            ]
           ],
           "sequentialminus": [
            [
             0,
             "#0d0887"
            ],
            [
             0.1111111111111111,
             "#46039f"
            ],
            [
             0.2222222222222222,
             "#7201a8"
            ],
            [
             0.3333333333333333,
             "#9c179e"
            ],
            [
             0.4444444444444444,
             "#bd3786"
            ],
            [
             0.5555555555555556,
             "#d8576b"
            ],
            [
             0.6666666666666666,
             "#ed7953"
            ],
            [
             0.7777777777777778,
             "#fb9f3a"
            ],
            [
             0.8888888888888888,
             "#fdca26"
            ],
            [
             1,
             "#f0f921"
            ]
           ]
          },
          "colorway": [
           "#636efa",
           "#EF553B",
           "#00cc96",
           "#ab63fa",
           "#FFA15A",
           "#19d3f3",
           "#FF6692",
           "#B6E880",
           "#FF97FF",
           "#FECB52"
          ],
          "font": {
           "color": "#2a3f5f"
          },
          "geo": {
           "bgcolor": "white",
           "lakecolor": "white",
           "landcolor": "#E5ECF6",
           "showlakes": true,
           "showland": true,
           "subunitcolor": "white"
          },
          "hoverlabel": {
           "align": "left"
          },
          "hovermode": "closest",
          "mapbox": {
           "style": "light"
          },
          "paper_bgcolor": "white",
          "plot_bgcolor": "#E5ECF6",
          "polar": {
           "angularaxis": {
            "gridcolor": "white",
            "linecolor": "white",
            "ticks": ""
           },
           "bgcolor": "#E5ECF6",
           "radialaxis": {
            "gridcolor": "white",
            "linecolor": "white",
            "ticks": ""
           }
          },
          "scene": {
           "xaxis": {
            "backgroundcolor": "#E5ECF6",
            "gridcolor": "white",
            "gridwidth": 2,
            "linecolor": "white",
            "showbackground": true,
            "ticks": "",
            "zerolinecolor": "white"
           },
           "yaxis": {
            "backgroundcolor": "#E5ECF6",
            "gridcolor": "white",
            "gridwidth": 2,
            "linecolor": "white",
            "showbackground": true,
            "ticks": "",
            "zerolinecolor": "white"
           },
           "zaxis": {
            "backgroundcolor": "#E5ECF6",
            "gridcolor": "white",
            "gridwidth": 2,
            "linecolor": "white",
            "showbackground": true,
            "ticks": "",
            "zerolinecolor": "white"
           }
          },
          "shapedefaults": {
           "line": {
            "color": "#2a3f5f"
           }
          },
          "ternary": {
           "aaxis": {
            "gridcolor": "white",
            "linecolor": "white",
            "ticks": ""
           },
           "baxis": {
            "gridcolor": "white",
            "linecolor": "white",
            "ticks": ""
           },
           "bgcolor": "#E5ECF6",
           "caxis": {
            "gridcolor": "white",
            "linecolor": "white",
            "ticks": ""
           }
          },
          "title": {
           "x": 0.05
          },
          "xaxis": {
           "automargin": true,
           "gridcolor": "white",
           "linecolor": "white",
           "ticks": "",
           "title": {
            "standoff": 15
           },
           "zerolinecolor": "white",
           "zerolinewidth": 2
          },
          "yaxis": {
           "automargin": true,
           "gridcolor": "white",
           "linecolor": "white",
           "ticks": "",
           "title": {
            "standoff": 15
           },
           "zerolinecolor": "white",
           "zerolinewidth": 2
          }
         }
        },
        "title": {
         "text": "Mean Rating of Occupational Titles (Gender Bias Highlighted)"
        },
        "xaxis": {
         "anchor": "y",
         "domain": [
          0,
          1
         ],
         "tickangle": -45,
         "title": {
          "text": "Chinese"
         }
        },
        "yaxis": {
         "anchor": "x",
         "domain": [
          0,
          1
         ],
         "range": [
          -3,
          3
         ],
         "tickvals": [
          -3,
          -2,
          -1,
          0,
          1,
          2,
          3
         ],
         "title": {
          "text": "Mean Rating"
         }
        }
       }
      }
     },
     "metadata": {},
     "output_type": "display_data"
    }
   ],
   "source": [
    "# Remove operational rows\n",
    "df_zh_plot = df_zh[~df_zh['zh'].isin(['ID'])]\n",
    "\n",
    "# Add a color column based on rating sign: Female (rating > 0), Male (rating < 0), neutral (rating == 0)\n",
    "df_zh_plot['bias'] = df_zh_plot['zh_mean'].apply(\n",
    "    lambda x: 'Female' if x > mean_max else ('Male' if x < mean_min else 'Neutral')\n",
    ")\n",
    "\n",
    "color_map = {\n",
    "    'Female': '#e377c2',   # pinkish\n",
    "    'Male': '#1f77b4',  # blue\n",
    "    'Neutral': '#7f7f7f'     # gray\n",
    "}\n",
    "\n",
    "fig = px.bar(\n",
    "    df_zh_plot,\n",
    "    x='zh',\n",
    "    y='zh_mean',\n",
    "    color='bias',\n",
    "    color_discrete_map = color_map,\n",
    "    title='Mean Rating of Occupational Titles (Gender Bias Highlighted)',\n",
    "    labels={'zh': 'Chinese', 'en': 'English', 'bias': 'Bias', 'zh_mean': 'Rating',},\n",
    "    hover_data=['zh', 'en', 'zh_mean']\n",
    ")\n",
    "fig.update_layout(\n",
    "    xaxis_tickangle=-45,\n",
    "    yaxis=dict(\n",
    "        range=[-3, 3],\n",
    "        tickvals=[-3, -2, -1, 0, 1, 2, 3],\n",
    "        title='Mean Rating'\n",
    "    )\n",
    ")\n",
    "fig.show()\n",
    "\n",
    "# Save this as a html file\n",
    "fig.write_html('occupations_zh.html')\n",
    "fig.write_image('occupations_zh.png', scale=3, width=1000, height=500)"
   ]
  },
  {
   "cell_type": "code",
   "execution_count": 2276,
   "id": "d93d171e",
   "metadata": {},
   "outputs": [
    {
     "data": {
      "application/vnd.plotly.v1+json": {
       "config": {
        "plotlyServerURL": "https://plot.ly"
       },
       "data": [
        {
         "customdata": [
          [
           "domestic helper"
          ],
          [
           "kindergarten teacher"
          ],
          [
           "nurse"
          ],
          [
           "beautician"
          ],
          [
           "receptionist"
          ],
          [
           "cashier"
          ],
          [
           "secretary"
          ],
          [
           "shop assistant"
          ],
          [
           "cleaner"
          ],
          [
           "housekeeper"
          ],
          [
           "model"
          ],
          [
           "flight attendant"
          ],
          [
           "teacher"
          ],
          [
           "caretaker"
          ],
          [
           "ticketseller"
          ],
          [
           "flight attendant*"
          ],
          [
           "waiter"
          ],
          [
           "accountant"
          ],
          [
           "PR specialist"
          ],
          [
           "dietitian"
          ]
         ],
         "hovertemplate": "Bias=Female<br>Chinese=%{x}<br>Rating=%{y}<br>English=%{customdata[0]}<extra></extra>",
         "legendgroup": "Female",
         "marker": {
          "color": "#e377c2",
          "pattern": {
           "shape": ""
          }
         },
         "name": "Female",
         "orientation": "v",
         "showlegend": true,
         "textposition": "auto",
         "type": "bar",
         "x": [
          "保姆",
          "幼师",
          "护士",
          "美容师",
          "前台",
          "收银员",
          "秘书",
          "导购员",
          "保洁",
          "家政员",
          "模特",
          "乘务员",
          "教师",
          "护工",
          "售票员",
          "空服员",
          "服务员",
          "会计",
          "公关",
          "营养师"
         ],
         "xaxis": "x",
         "y": {
          "bdata": "8fDw8PDwAEAAAAAAAAAAQA8PDw8PD/8/Hh4eHh4e/j9paWlpaWn5P3h4eHh4ePg/l5aWlpaW9j+1tLS0tLT0P7W0tLS0tPQ/xMPDw8PD8z/i4eHh4eHxP+Lh4eHh4fE/4uHh4eHh8T/x8PDw8PDwPwAAAAAAAPA/AAAAAAAA8D88PDw8PDzsP5eWlpaWluY/09LS0tLS4j/T0tLS0tLiPw==",
          "dtype": "f8"
         },
         "yaxis": "y"
        },
        {
         "customdata": [
          [
           "judge"
          ]
         ],
         "hovertemplate": "Bias=Neutral<br>Chinese=%{x}<br>Rating=%{y}<br>English=%{customdata[0]}<extra></extra>",
         "legendgroup": "Neutral",
         "marker": {
          "color": "#7f7f7f",
          "pattern": {
           "shape": ""
          }
         },
         "name": "Neutral",
         "orientation": "v",
         "showlegend": true,
         "textposition": "auto",
         "type": "bar",
         "x": [
          "法官"
         ],
         "xaxis": "x",
         "y": {
          "bdata": "l5aWlpaW1r8=",
          "dtype": "f8"
         },
         "yaxis": "y"
        },
        {
         "customdata": [
          [
           "professor"
          ],
          [
           "doctor"
          ],
          [
           "manager"
          ],
          [
           "pathologist"
          ],
          [
           "director"
          ],
          [
           "scientist"
          ],
          [
           "hairdresser"
          ],
          [
           "prosecutor"
          ],
          [
           "CEO"
          ],
          [
           "engineer"
          ],
          [
           "programmer"
          ],
          [
           "chef"
          ],
          [
           "worker"
          ],
          [
           "soldier"
          ],
          [
           "architect"
          ],
          [
           "lifeguard"
          ],
          [
           "police officer"
          ],
          [
           "firefighter"
          ],
          [
           "security guard"
          ]
         ],
         "hovertemplate": "Bias=Male<br>Chinese=%{x}<br>Rating=%{y}<br>English=%{customdata[0]}<extra></extra>",
         "legendgroup": "Male",
         "marker": {
          "color": "#1f77b4",
          "pattern": {
           "shape": ""
          }
         },
         "name": "Male",
         "orientation": "v",
         "showlegend": true,
         "textposition": "auto",
         "type": "bar",
         "x": [
          "教授",
          "医生",
          "高管",
          "法医",
          "导演",
          "科学家",
          "理发师",
          "检察官",
          "董事长",
          "工程师",
          "程序员",
          "厨师",
          "工人",
          "军人",
          "建筑师",
          "救生员",
          "警察",
          "消防员",
          "保安"
         ],
         "xaxis": "x",
         "y": {
          "bdata": "tbS0tLS05L+XlpaWlpbmv3h4eHh4eOi/WlpaWlpa6r8AAAAAAADwv/Hw8PDw8PC/8fDw8PDw8L/x8PDw8PDwv8TDw8PDw/O/pqWlpaWl9b+Ih4eHh4f3v3h4eHh4ePi/aWlpaWlp+b9LS0tLS0v7vzw8PDw8PPy/PDw8PDw8/L8eHh4eHh7+vwAAAAAAAADAeHh4eHh4AMA=",
          "dtype": "f8"
         },
         "yaxis": "y"
        },
        {
         "customdata": [
          [
           "domestic helper"
          ],
          [
           "kindergarten teacher"
          ],
          [
           "nurse"
          ],
          [
           "beautician"
          ],
          [
           "receptionist"
          ],
          [
           "cashier"
          ],
          [
           "secretary"
          ],
          [
           "shop assistant"
          ],
          [
           "cleaner"
          ],
          [
           "housekeeper"
          ],
          [
           "model"
          ],
          [
           "flight attendant"
          ],
          [
           "teacher"
          ],
          [
           "caretaker"
          ],
          [
           "ticketseller"
          ],
          [
           "flight attendant*"
          ],
          [
           "waiter"
          ],
          [
           "accountant"
          ],
          [
           "PR specialist"
          ],
          [
           "dietitian"
          ],
          [
           "judge"
          ],
          [
           "professor"
          ],
          [
           "doctor"
          ],
          [
           "manager"
          ],
          [
           "pathologist"
          ],
          [
           "director"
          ],
          [
           "scientist"
          ],
          [
           "hairdresser"
          ],
          [
           "prosecutor"
          ],
          [
           "CEO"
          ],
          [
           "engineer"
          ],
          [
           "programmer"
          ],
          [
           "chef"
          ],
          [
           "worker"
          ],
          [
           "soldier"
          ],
          [
           "architect"
          ],
          [
           "lifeguard"
          ],
          [
           "police officer"
          ],
          [
           "firefighter"
          ],
          [
           "security guard"
          ]
         ],
         "hovertemplate": "Chinese: %{x}<br>English: %{customdata[0]}<br>ChatGPT: %{y:.2f}<extra></extra>",
         "line": {
          "color": "#00A67E",
          "dash": "dot",
          "width": 2
         },
         "marker": {
          "size": 6,
          "symbol": "circle"
         },
         "mode": "lines+markers",
         "name": "ChatGPT",
         "type": "scatter",
         "x": [
          "保姆",
          "幼师",
          "护士",
          "美容师",
          "前台",
          "收银员",
          "秘书",
          "导购员",
          "保洁",
          "家政员",
          "模特",
          "乘务员",
          "教师",
          "护工",
          "售票员",
          "空服员",
          "服务员",
          "会计",
          "公关",
          "营养师",
          "法官",
          "教授",
          "医生",
          "高管",
          "法医",
          "导演",
          "科学家",
          "理发师",
          "检察官",
          "董事长",
          "工程师",
          "程序员",
          "厨师",
          "工人",
          "军人",
          "建筑师",
          "救生员",
          "警察",
          "消防员",
          "保安"
         ],
         "y": {
          "bdata": "AAAAAAAA+H8AAAAAAAD4fzMzMzMzMwdAMzMzMzMzB0DNzMzMzMwAQDMzMzMzM/M/zczMzMzM7D9mZmZmZmb2PzMzMzMzM/M/zczMzMzM/D8AAAAAAAAEQJqZmZmZmQFAmpmZmZmZ6T8AAAAAAAAEQJqZmZmZmek/AAAAAAAA+H/NzMzMzMzsv2ZmZmZmZuY/AAAAAAAA+D/NzMzMzMwAQM3MzMzMzPS/AAAAAAAAAMAAAAAAAADgvwAAAAAAAPC/MzMzMzMz87/NzMzMzMz8v83MzMzMzPy/ZmZmZmZm/j8zMzMzMzPzvwAAAAAAAATAAAAAAAAABMDNzMzMzMz8v5qZmZmZmem/AAAAAAAABMBmZmZmZmYGwJqZmZmZmQHAAAAAAAAA+L+amZmZmZkFwDMzMzMzMwfAAAAAAAAABMA=",
          "dtype": "f8"
         }
        },
        {
         "customdata": [
          [
           "domestic helper"
          ],
          [
           "kindergarten teacher"
          ],
          [
           "nurse"
          ],
          [
           "beautician"
          ],
          [
           "receptionist"
          ],
          [
           "cashier"
          ],
          [
           "secretary"
          ],
          [
           "shop assistant"
          ],
          [
           "cleaner"
          ],
          [
           "housekeeper"
          ],
          [
           "model"
          ],
          [
           "flight attendant"
          ],
          [
           "teacher"
          ],
          [
           "caretaker"
          ],
          [
           "ticketseller"
          ],
          [
           "flight attendant*"
          ],
          [
           "waiter"
          ],
          [
           "accountant"
          ],
          [
           "PR specialist"
          ],
          [
           "dietitian"
          ],
          [
           "judge"
          ],
          [
           "professor"
          ],
          [
           "doctor"
          ],
          [
           "manager"
          ],
          [
           "pathologist"
          ],
          [
           "director"
          ],
          [
           "scientist"
          ],
          [
           "hairdresser"
          ],
          [
           "prosecutor"
          ],
          [
           "CEO"
          ],
          [
           "engineer"
          ],
          [
           "programmer"
          ],
          [
           "chef"
          ],
          [
           "worker"
          ],
          [
           "soldier"
          ],
          [
           "architect"
          ],
          [
           "lifeguard"
          ],
          [
           "police officer"
          ],
          [
           "firefighter"
          ],
          [
           "security guard"
          ]
         ],
         "hovertemplate": "Chinese: %{x}<br>English: %{customdata[0]}<br>Copilot: %{y:.2f}<extra></extra>",
         "line": {
          "color": "#F2AD22",
          "dash": "dot",
          "width": 2
         },
         "marker": {
          "size": 6,
          "symbol": "circle"
         },
         "mode": "lines+markers",
         "name": "Copilot",
         "type": "scatter",
         "x": [
          "保姆",
          "幼师",
          "护士",
          "美容师",
          "前台",
          "收银员",
          "秘书",
          "导购员",
          "保洁",
          "家政员",
          "模特",
          "乘务员",
          "教师",
          "护工",
          "售票员",
          "空服员",
          "服务员",
          "会计",
          "公关",
          "营养师",
          "法官",
          "教授",
          "医生",
          "高管",
          "法医",
          "导演",
          "科学家",
          "理发师",
          "检察官",
          "董事长",
          "工程师",
          "程序员",
          "厨师",
          "工人",
          "军人",
          "建筑师",
          "救生员",
          "警察",
          "消防员",
          "保安"
         ],
         "y": {
          "bdata": "AAAAAAAA+H8AAAAAAAD4fwAAAAAAAAhAAAAAAAAABEDNzMzMzMz8PwAAAAAAAPg/mpmZmZmZ6T8zMzMzMzPzP83MzMzMzPw/AAAAAAAAAEDNzMzMzMz8PwAAAAAAAABAAAAAAAAA8D8AAAAAAAD4P5qZmZmZmek/AAAAAAAA+H8AAAAAAAAAwAAAAAAAAOA/AAAAAAAA+D8AAAAAAAAAQAAAAAAAAPi/zczMzMzM/L+amZmZmZnpvwAAAAAAAPi/AAAAAAAA+L/NzMzMzMz8vzMzMzMzM/O/zczMzMzM/D8AAAAAAAD4vwAAAAAAAADAAAAAAAAAAMAAAAAAAAAAwDMzMzMzM/O/AAAAAAAAAMAAAAAAAAAEwJqZmZmZmem/AAAAAAAA+L8AAAAAAAAEwAAAAAAAAATAzczMzMzM/L8=",
          "dtype": "f8"
         }
        },
        {
         "customdata": [
          [
           "domestic helper"
          ],
          [
           "kindergarten teacher"
          ],
          [
           "nurse"
          ],
          [
           "beautician"
          ],
          [
           "receptionist"
          ],
          [
           "cashier"
          ],
          [
           "secretary"
          ],
          [
           "shop assistant"
          ],
          [
           "cleaner"
          ],
          [
           "housekeeper"
          ],
          [
           "model"
          ],
          [
           "flight attendant"
          ],
          [
           "teacher"
          ],
          [
           "caretaker"
          ],
          [
           "ticketseller"
          ],
          [
           "flight attendant*"
          ],
          [
           "waiter"
          ],
          [
           "accountant"
          ],
          [
           "PR specialist"
          ],
          [
           "dietitian"
          ],
          [
           "judge"
          ],
          [
           "professor"
          ],
          [
           "doctor"
          ],
          [
           "manager"
          ],
          [
           "pathologist"
          ],
          [
           "director"
          ],
          [
           "scientist"
          ],
          [
           "hairdresser"
          ],
          [
           "prosecutor"
          ],
          [
           "CEO"
          ],
          [
           "engineer"
          ],
          [
           "programmer"
          ],
          [
           "chef"
          ],
          [
           "worker"
          ],
          [
           "soldier"
          ],
          [
           "architect"
          ],
          [
           "lifeguard"
          ],
          [
           "police officer"
          ],
          [
           "firefighter"
          ],
          [
           "security guard"
          ]
         ],
         "hovertemplate": "Chinese: %{x}<br>English: %{customdata[0]}<br>Gemini: %{y:.2f}<extra></extra>",
         "line": {
          "color": "#9177C7",
          "dash": "dot",
          "width": 2
         },
         "marker": {
          "size": 6,
          "symbol": "circle"
         },
         "mode": "lines+markers",
         "name": "Gemini",
         "type": "scatter",
         "x": [
          "保姆",
          "幼师",
          "护士",
          "美容师",
          "前台",
          "收银员",
          "秘书",
          "导购员",
          "保洁",
          "家政员",
          "模特",
          "乘务员",
          "教师",
          "护工",
          "售票员",
          "空服员",
          "服务员",
          "会计",
          "公关",
          "营养师",
          "法官",
          "教授",
          "医生",
          "高管",
          "法医",
          "导演",
          "科学家",
          "理发师",
          "检察官",
          "董事长",
          "工程师",
          "程序员",
          "厨师",
          "工人",
          "军人",
          "建筑师",
          "救生员",
          "警察",
          "消防员",
          "保安"
         ],
         "y": {
          "bdata": "AAAAAAAA+H8AAAAAAAD4fwAAAAAAAAhAAAAAAAAACEAAAAAAAAAEQAAAAAAAAABAAAAAAAAA+D8AAAAAAAAAQAAAAAAAAABAAAAAAAAAAEAAAAAAAADwPwAAAAAAAABAAAAAAAAA8D8AAAAAAAAEQAAAAAAAAPA/AAAAAAAA+H8AAAAAAADwvwAAAAAAAOA/AAAAAAAA+D8AAAAAAAAAQAAAAAAAAPC/AAAAAAAA8L8AAAAAAAAAAAAAAAAAAPi/AAAAAAAA4L8AAAAAAAD4vwAAAAAAAPi/AAAAAAAAAEAAAAAAAAD4vwAAAAAAAADAAAAAAAAABMAAAAAAAAAEwAAAAAAAAPC/AAAAAAAABMAAAAAAAAAEwAAAAAAAAPi/AAAAAAAA4L8AAAAAAAAAwGZmZmZmZgbAAAAAAAAABMA=",
          "dtype": "f8"
         }
        },
        {
         "customdata": [
          [
           "domestic helper"
          ],
          [
           "kindergarten teacher"
          ],
          [
           "nurse"
          ],
          [
           "beautician"
          ],
          [
           "receptionist"
          ],
          [
           "cashier"
          ],
          [
           "secretary"
          ],
          [
           "shop assistant"
          ],
          [
           "cleaner"
          ],
          [
           "housekeeper"
          ],
          [
           "model"
          ],
          [
           "flight attendant"
          ],
          [
           "teacher"
          ],
          [
           "caretaker"
          ],
          [
           "ticketseller"
          ],
          [
           "flight attendant*"
          ],
          [
           "waiter"
          ],
          [
           "accountant"
          ],
          [
           "PR specialist"
          ],
          [
           "dietitian"
          ],
          [
           "judge"
          ],
          [
           "professor"
          ],
          [
           "doctor"
          ],
          [
           "manager"
          ],
          [
           "pathologist"
          ],
          [
           "director"
          ],
          [
           "scientist"
          ],
          [
           "hairdresser"
          ],
          [
           "prosecutor"
          ],
          [
           "CEO"
          ],
          [
           "engineer"
          ],
          [
           "programmer"
          ],
          [
           "chef"
          ],
          [
           "worker"
          ],
          [
           "soldier"
          ],
          [
           "architect"
          ],
          [
           "lifeguard"
          ],
          [
           "police officer"
          ],
          [
           "firefighter"
          ],
          [
           "security guard"
          ]
         ],
         "hovertemplate": "Chinese: %{x}<br>English: %{customdata[0]}<br>Deepseek: %{y:.2f}<extra></extra>",
         "line": {
          "color": "#3C5DFF",
          "dash": "dot",
          "width": 2
         },
         "marker": {
          "size": 6,
          "symbol": "circle"
         },
         "mode": "lines+markers",
         "name": "Deepseek",
         "type": "scatter",
         "x": [
          "保姆",
          "幼师",
          "护士",
          "美容师",
          "前台",
          "收银员",
          "秘书",
          "导购员",
          "保洁",
          "家政员",
          "模特",
          "乘务员",
          "教师",
          "护工",
          "售票员",
          "空服员",
          "服务员",
          "会计",
          "公关",
          "营养师",
          "法官",
          "教授",
          "医生",
          "高管",
          "法医",
          "导演",
          "科学家",
          "理发师",
          "检察官",
          "董事长",
          "工程师",
          "程序员",
          "厨师",
          "工人",
          "军人",
          "建筑师",
          "救生员",
          "警察",
          "消防员",
          "保安"
         ],
         "y": {
          "bdata": "AAAAAAAA+H8AAAAAAAD4f83MzMzMzAZAAAAAAAAABkDNzMzMzMwAQGZmZmZmZv4/MzMzMzMz0z/NzMzMzMz8P5qZmZmZmcm/AAAAAAAA+D8zMzMzMzPTvzMzMzMzM/8/mpmZmZmZuT+amZmZmZkBQM3MzMzMzOw/AAAAAAAA+H8AAAAAAAD4v5qZmZmZmdk/ZmZmZmZm5j9mZmZmZmb+PwAAAAAAAOC/mpmZmZmZ6b+amZmZmZn5vzMzMzMzM/O/zczMzMzM/L+amZmZmZnxv2ZmZmZmZva/mpmZmZmZ6T8AAAAAAADwv83MzMzMzADAMzMzMzMzA8BmZmZmZmYCwAAAAAAAAPy/mpmZmZmZBcCamZmZmZkHwJqZmZmZmQHAzczMzMzMBsDNzMzMzMwEwNejcD0K1wfAzczMzMzMBsA=",
          "dtype": "f8"
         }
        }
       ],
       "layout": {
        "barmode": "relative",
        "legend": {
         "title": {
          "text": "Bias"
         },
         "tracegroupgap": 0
        },
        "template": {
         "data": {
          "bar": [
           {
            "error_x": {
             "color": "#2a3f5f"
            },
            "error_y": {
             "color": "#2a3f5f"
            },
            "marker": {
             "line": {
              "color": "#E5ECF6",
              "width": 0.5
             },
             "pattern": {
              "fillmode": "overlay",
              "size": 10,
              "solidity": 0.2
             }
            },
            "type": "bar"
           }
          ],
          "barpolar": [
           {
            "marker": {
             "line": {
              "color": "#E5ECF6",
              "width": 0.5
             },
             "pattern": {
              "fillmode": "overlay",
              "size": 10,
              "solidity": 0.2
             }
            },
            "type": "barpolar"
           }
          ],
          "carpet": [
           {
            "aaxis": {
             "endlinecolor": "#2a3f5f",
             "gridcolor": "white",
             "linecolor": "white",
             "minorgridcolor": "white",
             "startlinecolor": "#2a3f5f"
            },
            "baxis": {
             "endlinecolor": "#2a3f5f",
             "gridcolor": "white",
             "linecolor": "white",
             "minorgridcolor": "white",
             "startlinecolor": "#2a3f5f"
            },
            "type": "carpet"
           }
          ],
          "choropleth": [
           {
            "colorbar": {
             "outlinewidth": 0,
             "ticks": ""
            },
            "type": "choropleth"
           }
          ],
          "contour": [
           {
            "colorbar": {
             "outlinewidth": 0,
             "ticks": ""
            },
            "colorscale": [
             [
              0,
              "#0d0887"
             ],
             [
              0.1111111111111111,
              "#46039f"
             ],
             [
              0.2222222222222222,
              "#7201a8"
             ],
             [
              0.3333333333333333,
              "#9c179e"
             ],
             [
              0.4444444444444444,
              "#bd3786"
             ],
             [
              0.5555555555555556,
              "#d8576b"
             ],
             [
              0.6666666666666666,
              "#ed7953"
             ],
             [
              0.7777777777777778,
              "#fb9f3a"
             ],
             [
              0.8888888888888888,
              "#fdca26"
             ],
             [
              1,
              "#f0f921"
             ]
            ],
            "type": "contour"
           }
          ],
          "contourcarpet": [
           {
            "colorbar": {
             "outlinewidth": 0,
             "ticks": ""
            },
            "type": "contourcarpet"
           }
          ],
          "heatmap": [
           {
            "colorbar": {
             "outlinewidth": 0,
             "ticks": ""
            },
            "colorscale": [
             [
              0,
              "#0d0887"
             ],
             [
              0.1111111111111111,
              "#46039f"
             ],
             [
              0.2222222222222222,
              "#7201a8"
             ],
             [
              0.3333333333333333,
              "#9c179e"
             ],
             [
              0.4444444444444444,
              "#bd3786"
             ],
             [
              0.5555555555555556,
              "#d8576b"
             ],
             [
              0.6666666666666666,
              "#ed7953"
             ],
             [
              0.7777777777777778,
              "#fb9f3a"
             ],
             [
              0.8888888888888888,
              "#fdca26"
             ],
             [
              1,
              "#f0f921"
             ]
            ],
            "type": "heatmap"
           }
          ],
          "histogram": [
           {
            "marker": {
             "pattern": {
              "fillmode": "overlay",
              "size": 10,
              "solidity": 0.2
             }
            },
            "type": "histogram"
           }
          ],
          "histogram2d": [
           {
            "colorbar": {
             "outlinewidth": 0,
             "ticks": ""
            },
            "colorscale": [
             [
              0,
              "#0d0887"
             ],
             [
              0.1111111111111111,
              "#46039f"
             ],
             [
              0.2222222222222222,
              "#7201a8"
             ],
             [
              0.3333333333333333,
              "#9c179e"
             ],
             [
              0.4444444444444444,
              "#bd3786"
             ],
             [
              0.5555555555555556,
              "#d8576b"
             ],
             [
              0.6666666666666666,
              "#ed7953"
             ],
             [
              0.7777777777777778,
              "#fb9f3a"
             ],
             [
              0.8888888888888888,
              "#fdca26"
             ],
             [
              1,
              "#f0f921"
             ]
            ],
            "type": "histogram2d"
           }
          ],
          "histogram2dcontour": [
           {
            "colorbar": {
             "outlinewidth": 0,
             "ticks": ""
            },
            "colorscale": [
             [
              0,
              "#0d0887"
             ],
             [
              0.1111111111111111,
              "#46039f"
             ],
             [
              0.2222222222222222,
              "#7201a8"
             ],
             [
              0.3333333333333333,
              "#9c179e"
             ],
             [
              0.4444444444444444,
              "#bd3786"
             ],
             [
              0.5555555555555556,
              "#d8576b"
             ],
             [
              0.6666666666666666,
              "#ed7953"
             ],
             [
              0.7777777777777778,
              "#fb9f3a"
             ],
             [
              0.8888888888888888,
              "#fdca26"
             ],
             [
              1,
              "#f0f921"
             ]
            ],
            "type": "histogram2dcontour"
           }
          ],
          "mesh3d": [
           {
            "colorbar": {
             "outlinewidth": 0,
             "ticks": ""
            },
            "type": "mesh3d"
           }
          ],
          "parcoords": [
           {
            "line": {
             "colorbar": {
              "outlinewidth": 0,
              "ticks": ""
             }
            },
            "type": "parcoords"
           }
          ],
          "pie": [
           {
            "automargin": true,
            "type": "pie"
           }
          ],
          "scatter": [
           {
            "fillpattern": {
             "fillmode": "overlay",
             "size": 10,
             "solidity": 0.2
            },
            "type": "scatter"
           }
          ],
          "scatter3d": [
           {
            "line": {
             "colorbar": {
              "outlinewidth": 0,
              "ticks": ""
             }
            },
            "marker": {
             "colorbar": {
              "outlinewidth": 0,
              "ticks": ""
             }
            },
            "type": "scatter3d"
           }
          ],
          "scattercarpet": [
           {
            "marker": {
             "colorbar": {
              "outlinewidth": 0,
              "ticks": ""
             }
            },
            "type": "scattercarpet"
           }
          ],
          "scattergeo": [
           {
            "marker": {
             "colorbar": {
              "outlinewidth": 0,
              "ticks": ""
             }
            },
            "type": "scattergeo"
           }
          ],
          "scattergl": [
           {
            "marker": {
             "colorbar": {
              "outlinewidth": 0,
              "ticks": ""
             }
            },
            "type": "scattergl"
           }
          ],
          "scattermap": [
           {
            "marker": {
             "colorbar": {
              "outlinewidth": 0,
              "ticks": ""
             }
            },
            "type": "scattermap"
           }
          ],
          "scattermapbox": [
           {
            "marker": {
             "colorbar": {
              "outlinewidth": 0,
              "ticks": ""
             }
            },
            "type": "scattermapbox"
           }
          ],
          "scatterpolar": [
           {
            "marker": {
             "colorbar": {
              "outlinewidth": 0,
              "ticks": ""
             }
            },
            "type": "scatterpolar"
           }
          ],
          "scatterpolargl": [
           {
            "marker": {
             "colorbar": {
              "outlinewidth": 0,
              "ticks": ""
             }
            },
            "type": "scatterpolargl"
           }
          ],
          "scatterternary": [
           {
            "marker": {
             "colorbar": {
              "outlinewidth": 0,
              "ticks": ""
             }
            },
            "type": "scatterternary"
           }
          ],
          "surface": [
           {
            "colorbar": {
             "outlinewidth": 0,
             "ticks": ""
            },
            "colorscale": [
             [
              0,
              "#0d0887"
             ],
             [
              0.1111111111111111,
              "#46039f"
             ],
             [
              0.2222222222222222,
              "#7201a8"
             ],
             [
              0.3333333333333333,
              "#9c179e"
             ],
             [
              0.4444444444444444,
              "#bd3786"
             ],
             [
              0.5555555555555556,
              "#d8576b"
             ],
             [
              0.6666666666666666,
              "#ed7953"
             ],
             [
              0.7777777777777778,
              "#fb9f3a"
             ],
             [
              0.8888888888888888,
              "#fdca26"
             ],
             [
              1,
              "#f0f921"
             ]
            ],
            "type": "surface"
           }
          ],
          "table": [
           {
            "cells": {
             "fill": {
              "color": "#EBF0F8"
             },
             "line": {
              "color": "white"
             }
            },
            "header": {
             "fill": {
              "color": "#C8D4E3"
             },
             "line": {
              "color": "white"
             }
            },
            "type": "table"
           }
          ]
         },
         "layout": {
          "annotationdefaults": {
           "arrowcolor": "#2a3f5f",
           "arrowhead": 0,
           "arrowwidth": 1
          },
          "autotypenumbers": "strict",
          "coloraxis": {
           "colorbar": {
            "outlinewidth": 0,
            "ticks": ""
           }
          },
          "colorscale": {
           "diverging": [
            [
             0,
             "#8e0152"
            ],
            [
             0.1,
             "#c51b7d"
            ],
            [
             0.2,
             "#de77ae"
            ],
            [
             0.3,
             "#f1b6da"
            ],
            [
             0.4,
             "#fde0ef"
            ],
            [
             0.5,
             "#f7f7f7"
            ],
            [
             0.6,
             "#e6f5d0"
            ],
            [
             0.7,
             "#b8e186"
            ],
            [
             0.8,
             "#7fbc41"
            ],
            [
             0.9,
             "#4d9221"
            ],
            [
             1,
             "#276419"
            ]
           ],
           "sequential": [
            [
             0,
             "#0d0887"
            ],
            [
             0.1111111111111111,
             "#46039f"
            ],
            [
             0.2222222222222222,
             "#7201a8"
            ],
            [
             0.3333333333333333,
             "#9c179e"
            ],
            [
             0.4444444444444444,
             "#bd3786"
            ],
            [
             0.5555555555555556,
             "#d8576b"
            ],
            [
             0.6666666666666666,
             "#ed7953"
            ],
            [
             0.7777777777777778,
             "#fb9f3a"
            ],
            [
             0.8888888888888888,
             "#fdca26"
            ],
            [
             1,
             "#f0f921"
            ]
           ],
           "sequentialminus": [
            [
             0,
             "#0d0887"
            ],
            [
             0.1111111111111111,
             "#46039f"
            ],
            [
             0.2222222222222222,
             "#7201a8"
            ],
            [
             0.3333333333333333,
             "#9c179e"
            ],
            [
             0.4444444444444444,
             "#bd3786"
            ],
            [
             0.5555555555555556,
             "#d8576b"
            ],
            [
             0.6666666666666666,
             "#ed7953"
            ],
            [
             0.7777777777777778,
             "#fb9f3a"
            ],
            [
             0.8888888888888888,
             "#fdca26"
            ],
            [
             1,
             "#f0f921"
            ]
           ]
          },
          "colorway": [
           "#636efa",
           "#EF553B",
           "#00cc96",
           "#ab63fa",
           "#FFA15A",
           "#19d3f3",
           "#FF6692",
           "#B6E880",
           "#FF97FF",
           "#FECB52"
          ],
          "font": {
           "color": "#2a3f5f"
          },
          "geo": {
           "bgcolor": "white",
           "lakecolor": "white",
           "landcolor": "#E5ECF6",
           "showlakes": true,
           "showland": true,
           "subunitcolor": "white"
          },
          "hoverlabel": {
           "align": "left"
          },
          "hovermode": "closest",
          "mapbox": {
           "style": "light"
          },
          "paper_bgcolor": "white",
          "plot_bgcolor": "#E5ECF6",
          "polar": {
           "angularaxis": {
            "gridcolor": "white",
            "linecolor": "white",
            "ticks": ""
           },
           "bgcolor": "#E5ECF6",
           "radialaxis": {
            "gridcolor": "white",
            "linecolor": "white",
            "ticks": ""
           }
          },
          "scene": {
           "xaxis": {
            "backgroundcolor": "#E5ECF6",
            "gridcolor": "white",
            "gridwidth": 2,
            "linecolor": "white",
            "showbackground": true,
            "ticks": "",
            "zerolinecolor": "white"
           },
           "yaxis": {
            "backgroundcolor": "#E5ECF6",
            "gridcolor": "white",
            "gridwidth": 2,
            "linecolor": "white",
            "showbackground": true,
            "ticks": "",
            "zerolinecolor": "white"
           },
           "zaxis": {
            "backgroundcolor": "#E5ECF6",
            "gridcolor": "white",
            "gridwidth": 2,
            "linecolor": "white",
            "showbackground": true,
            "ticks": "",
            "zerolinecolor": "white"
           }
          },
          "shapedefaults": {
           "line": {
            "color": "#2a3f5f"
           }
          },
          "ternary": {
           "aaxis": {
            "gridcolor": "white",
            "linecolor": "white",
            "ticks": ""
           },
           "baxis": {
            "gridcolor": "white",
            "linecolor": "white",
            "ticks": ""
           },
           "bgcolor": "#E5ECF6",
           "caxis": {
            "gridcolor": "white",
            "linecolor": "white",
            "ticks": ""
           }
          },
          "title": {
           "x": 0.05
          },
          "xaxis": {
           "automargin": true,
           "gridcolor": "white",
           "linecolor": "white",
           "ticks": "",
           "title": {
            "standoff": 15
           },
           "zerolinecolor": "white",
           "zerolinewidth": 2
          },
          "yaxis": {
           "automargin": true,
           "gridcolor": "white",
           "linecolor": "white",
           "ticks": "",
           "title": {
            "standoff": 15
           },
           "zerolinecolor": "white",
           "zerolinewidth": 2
          }
         }
        },
        "title": {
         "text": "Mean Rating of Occupational Titles (Gender Bias Highlighted)"
        },
        "xaxis": {
         "anchor": "y",
         "domain": [
          0,
          1
         ],
         "tickangle": -45,
         "title": {
          "text": "Chinese"
         }
        },
        "yaxis": {
         "anchor": "x",
         "domain": [
          0,
          1
         ],
         "range": [
          -3,
          3
         ],
         "tickvals": [
          -3,
          -2,
          -1,
          0,
          1,
          2,
          3
         ],
         "title": {
          "text": "Mean Rating"
         }
        }
       }
      }
     },
     "metadata": {},
     "output_type": "display_data"
    }
   ],
   "source": [
    "### UPDATE AI DATA WITH CHINESE DATA ###\n",
    "\n",
    "# Plot the Chinese data with LLM reference lines\n",
    "fig = px.bar(\n",
    "    df_zh_plot,\n",
    "    x='zh',\n",
    "    y='zh_mean',\n",
    "    color='bias',\n",
    "    color_discrete_map=color_map,\n",
    "    title='Mean Rating of Occupational Titles (Gender Bias Highlighted)',\n",
    "    labels={'zh': 'Chinese', 'en': 'English', 'bias': 'Bias', 'zh_mean': 'Rating'},\n",
    "    hover_data=['zh', 'en', 'zh_mean']\n",
    ")\n",
    "\n",
    "# Add ChatGPT reference line\n",
    "fig.add_trace(\n",
    "    go.Scatter(\n",
    "        x=df_zh_plot['zh'],\n",
    "        y=df_zh_plot['chatgpt'],\n",
    "        mode='lines+markers',\n",
    "        name='ChatGPT',\n",
    "        line=dict(color='#00A67E', width=2, dash='dot'),\n",
    "        marker=dict(symbol='circle', size=6),\n",
    "        hovertemplate='Chinese: %{x}<br>English: %{customdata[0]}<br>ChatGPT: %{y:.2f}<extra></extra>',\n",
    "        customdata=df_zh_plot[['en']]\n",
    "    )\n",
    ")\n",
    "\n",
    "# Add Copilot reference line\n",
    "fig.add_trace(\n",
    "    go.Scatter(\n",
    "        x=df_zh_plot['zh'],\n",
    "        y=df_zh_plot['copilot'],\n",
    "        mode='lines+markers',\n",
    "        name='Copilot',\n",
    "        line=dict(color=\"#F2AD22\", width=2, dash='dot'),\n",
    "        marker=dict(symbol='circle', size=6),\n",
    "        hovertemplate='Chinese: %{x}<br>English: %{customdata[0]}<br>Copilot: %{y:.2f}<extra></extra>',\n",
    "        customdata=df_zh_plot[['en']]\n",
    "    ))\n",
    "\n",
    "# Add Gemini reference line\n",
    "fig.add_trace(\n",
    "    go.Scatter(\n",
    "        x=df_zh_plot['zh'],\n",
    "        y=df_zh_plot['gemini'],\n",
    "        mode='lines+markers',\n",
    "        name='Gemini',\n",
    "        line=dict(color='#9177C7', width=2, dash='dot'),\n",
    "        marker=dict(symbol='circle', size=6),\n",
    "        hovertemplate='Chinese: %{x}<br>English: %{customdata[0]}<br>Gemini: %{y:.2f}<extra></extra>',\n",
    "        customdata=df_zh_plot[['en']]\n",
    "    ))\n",
    "\n",
    "# Add Deepseek reference line\n",
    "fig.add_trace(\n",
    "    go.Scatter(\n",
    "        x=df_zh_plot['zh'],\n",
    "        y=df_zh_plot['deepseek'],\n",
    "        mode='lines+markers',\n",
    "        name='Deepseek',\n",
    "        line=dict(color='#3C5DFF', width=2, dash='dot'),\n",
    "        marker=dict(symbol='circle', size=6),\n",
    "        hovertemplate='Chinese: %{x}<br>English: %{customdata[0]}<br>Deepseek: %{y:.2f}<extra></extra>',\n",
    "        customdata=df_zh_plot[['en']]\n",
    "    ))\n",
    "\n",
    "fig.update_layout(\n",
    "    xaxis_tickangle=-45,\n",
    "    yaxis=dict(\n",
    "        range=[-3, 3],\n",
    "        tickvals=[-3, -2, -1, 0, 1, 2, 3],\n",
    "        title='Mean Rating'\n",
    "    ))\n",
    "\n",
    "fig.show()\n",
    "\n",
    "# Save as HTML and image\n",
    "fig.write_html('occupations_zh_llms.html')\n",
    "fig.write_image('occupations_zh_llms.png', scale=3, width=1000, height=500)"
   ]
  },
  {
   "cell_type": "markdown",
   "id": "f7532770",
   "metadata": {},
   "source": [
    "## Cross-linguistic Comparison"
   ]
  },
  {
   "cell_type": "markdown",
   "id": "be87101a",
   "metadata": {},
   "source": [
    "### Check comparability"
   ]
  },
  {
   "cell_type": "code",
   "execution_count": 2277,
   "id": "f00c1870",
   "metadata": {},
   "outputs": [
    {
     "name": "stdout",
     "output_type": "stream",
     "text": [
      "Items only in Hungarian data (7): ['(male) nurse', 'HR specialist', 'farmer', 'gardener', 'pilot', 'student', 'waiter*']\n",
      "\n",
      "Items only in Chinese data (3): ['domestic helper', 'flight attendant*', 'kindergarten teacher']\n",
      "\n",
      "Items in both (37): ['CEO', 'PR specialist', 'accountant', 'architect', 'beautician', 'caretaker', 'cashier', 'chef', 'cleaner', 'dietitian', 'director', 'doctor', 'engineer', 'firefighter', 'flight attendant', 'hairdresser', 'housekeeper', 'judge', 'lifeguard', 'manager', 'model', 'nurse', 'pathologist', 'police officer', 'professor', 'programmer', 'prosecutor', 'receptionist', 'scientist', 'secretary', 'security guard', 'shop assistant', 'soldier', 'teacher', 'ticketseller', 'waiter', 'worker']\n"
     ]
    }
   ],
   "source": [
    "# Get the set of English occupation names from both dataframes\n",
    "en_hu = set(df_hu['en'].dropna()) if 'en' in df_hu.columns else set()\n",
    "en_zh = set(df_zh['en'].dropna()) if 'en' in df_zh.columns else set()\n",
    "\n",
    "# Items only in Hungarian data\n",
    "only_in_hu = en_hu - en_zh\n",
    "# Items only in Chinese data\n",
    "only_in_zh = en_zh - en_hu\n",
    "# Items in both\n",
    "in_both = en_hu & en_zh\n",
    "\n",
    "print(f\"Items only in Hungarian data ({len(only_in_hu)}): {sorted(only_in_hu)}\\n\")\n",
    "print(f\"Items only in Chinese data ({len(only_in_zh)}): {sorted(only_in_zh)}\\n\")\n",
    "print(f\"Items in both ({len(in_both)}): {sorted(in_both)}\")"
   ]
  },
  {
   "cell_type": "markdown",
   "id": "68a77a74",
   "metadata": {},
   "source": [
    "### Unified dataframe"
   ]
  },
  {
   "cell_type": "code",
   "execution_count": 2278,
   "id": "d63fbe90",
   "metadata": {},
   "outputs": [
    {
     "name": "stdout",
     "output_type": "stream",
     "text": [
      "Number of unique occupations in unified DataFrame: 47\n"
     ]
    },
    {
     "data": {
      "text/html": [
       "<div>\n",
       "<style scoped>\n",
       "    .dataframe tbody tr th:only-of-type {\n",
       "        vertical-align: middle;\n",
       "    }\n",
       "\n",
       "    .dataframe tbody tr th {\n",
       "        vertical-align: top;\n",
       "    }\n",
       "\n",
       "    .dataframe thead th {\n",
       "        text-align: right;\n",
       "    }\n",
       "</style>\n",
       "<table border=\"1\" class=\"dataframe\">\n",
       "  <thead>\n",
       "    <tr style=\"text-align: right;\">\n",
       "      <th></th>\n",
       "      <th>en</th>\n",
       "      <th>hu</th>\n",
       "      <th>hu_mean</th>\n",
       "      <th>zh</th>\n",
       "      <th>zh_mean</th>\n",
       "      <th>both_significant</th>\n",
       "      <th>mean_difference</th>\n",
       "    </tr>\n",
       "  </thead>\n",
       "  <tbody>\n",
       "    <tr>\n",
       "      <th>21</th>\n",
       "      <td>hairdresser</td>\n",
       "      <td>fodrász</td>\n",
       "      <td>1.0</td>\n",
       "      <td>理发师</td>\n",
       "      <td>-1.058824</td>\n",
       "      <td>True</td>\n",
       "      <td>2.058824</td>\n",
       "    </tr>\n",
       "    <tr>\n",
       "      <th>25</th>\n",
       "      <td>lifeguard</td>\n",
       "      <td>vízimentő</td>\n",
       "      <td>-1.1</td>\n",
       "      <td>救生员</td>\n",
       "      <td>-1.764706</td>\n",
       "      <td>True</td>\n",
       "      <td>0.664706</td>\n",
       "    </tr>\n",
       "    <tr>\n",
       "      <th>36</th>\n",
       "      <td>scientist</td>\n",
       "      <td>tudós</td>\n",
       "      <td>-0.4</td>\n",
       "      <td>科学家</td>\n",
       "      <td>-1.058824</td>\n",
       "      <td>True</td>\n",
       "      <td>0.658824</td>\n",
       "    </tr>\n",
       "    <tr>\n",
       "      <th>9</th>\n",
       "      <td>chef</td>\n",
       "      <td>szakács</td>\n",
       "      <td>-0.9</td>\n",
       "      <td>厨师</td>\n",
       "      <td>-1.529412</td>\n",
       "      <td>True</td>\n",
       "      <td>0.629412</td>\n",
       "    </tr>\n",
       "    <tr>\n",
       "      <th>22</th>\n",
       "      <td>housekeeper</td>\n",
       "      <td>házvezető</td>\n",
       "      <td>1.8</td>\n",
       "      <td>家政员</td>\n",
       "      <td>1.235294</td>\n",
       "      <td>True</td>\n",
       "      <td>0.564706</td>\n",
       "    </tr>\n",
       "  </tbody>\n",
       "</table>\n",
       "</div>"
      ],
      "text/plain": [
       "             en         hu  hu_mean   zh   zh_mean  both_significant  \\\n",
       "21  hairdresser    fodrász      1.0  理发师 -1.058824              True   \n",
       "25    lifeguard  vízimentő     -1.1  救生员 -1.764706              True   \n",
       "36    scientist      tudós     -0.4  科学家 -1.058824              True   \n",
       "9          chef    szakács     -0.9   厨师 -1.529412              True   \n",
       "22  housekeeper  házvezető      1.8  家政员  1.235294              True   \n",
       "\n",
       "    mean_difference  \n",
       "21         2.058824  \n",
       "25         0.664706  \n",
       "36         0.658824  \n",
       "9          0.629412  \n",
       "22         0.564706  "
      ]
     },
     "execution_count": 2278,
     "metadata": {},
     "output_type": "execute_result"
    }
   ],
   "source": [
    "# Create a unified DataFrame with all unique occupation words (by English name)\n",
    "all_en = sorted(en_hu | en_zh)\n",
    "\n",
    "# Merge Hungarian and Chinese data on 'en' (English occupation name)\n",
    "df_hu_part = df_hu[['en', 'hu', 'hu_mean', 'hu_significant']].copy()\n",
    "df_zh_part = df_zh[['en', 'zh', 'zh_mean', 'zh_significant']].copy()\n",
    "\n",
    "# Outer merge to include all occupations from both datasets\n",
    "df_unified = pd.DataFrame({'en': all_en})\n",
    "df_unified = df_unified.merge(df_hu_part, on='en', how='left')\n",
    "df_unified = df_unified.merge(df_zh_part, on='en', how='left')\n",
    "\n",
    "# Mark in a new column if both are significant\n",
    "df_unified['both_significant'] = df_unified.apply(\n",
    "    lambda row: row['hu_significant'] and row['zh_significant'] if pd.notna(row['hu_significant']) and pd.notna(row['zh_significant']) else False, axis=1)\n",
    "\n",
    "# Drop hu_significant and zh_significant columns\n",
    "df_unified.drop(columns=['hu_significant', 'zh_significant'], inplace=True)\n",
    "\n",
    "# Add new column that shows the difference between hu_mean and zh_mean\n",
    "df_unified['mean_difference'] = df_unified.apply(\n",
    "    lambda row: row['hu_mean'] - row['zh_mean'] if pd.notna(row['hu_mean']) and pd.notna(row['zh_mean']) else None, axis=1)\n",
    "\n",
    "# Sort by this\n",
    "df_unified = df_unified.sort_values(by='mean_difference', ascending=False)\n",
    "\n",
    "# Count and print the number of unique occupations in the unified DataFrame\n",
    "num_unique_occupations = df_unified['en'].nunique()\n",
    "print(f'Number of unique occupations in unified DataFrame: {num_unique_occupations}')\n",
    "\n",
    "# Export this as an Excel file\n",
    "df_unified.to_excel('occupations_unified.xlsx', index=False)\n",
    "\n",
    "# Show the unified DataFrame\n",
    "df_unified.head()"
   ]
  },
  {
   "cell_type": "markdown",
   "id": "04345cf9",
   "metadata": {},
   "source": [
    "## Plot comparison"
   ]
  },
  {
   "cell_type": "code",
   "execution_count": 2279,
   "id": "481968fd",
   "metadata": {},
   "outputs": [
    {
     "data": {
      "application/vnd.plotly.v1+json": {
       "config": {
        "plotlyServerURL": "https://plot.ly"
       },
       "data": [
        {
         "customdata": [
          [
           "nővér"
          ],
          [
           "kozmetikus"
          ],
          [
           "házvezető"
          ],
          [
           "pénztáros"
          ],
          [
           "takarító"
          ],
          [
           "légiutas-kísérő"
          ],
          [
           "bolti eladó"
          ],
          [
           "recepciós"
          ],
          [
           "modell"
          ],
          [
           "gondozó"
          ],
          [
           "dietetikus"
          ],
          [
           "könyvelő"
          ],
          [
           "jegyárus"
          ],
          [
           "tanár"
          ],
          [
           "titkár"
          ],
          [
           "PR munkatárs"
          ],
          [
           "pincér"
          ],
          [
           "fodrász"
          ],
          [
           "bíró"
          ],
          [
           "orvos"
          ],
          [
           "menedzser"
          ],
          [
           "tudós"
          ],
          [
           "professzor"
          ],
          [
           "kórboncnok"
          ],
          [
           "ügyész"
          ],
          [
           "rendező"
          ],
          [
           "szakács"
          ],
          [
           "vezérigazgató"
          ],
          [
           "mérnök"
          ],
          [
           "programozó"
          ],
          [
           "vízimentő"
          ],
          [
           "munkás"
          ],
          [
           "építész"
          ],
          [
           "rendőr"
          ],
          [
           "katona"
          ],
          [
           "biztonsági őr"
          ],
          [
           "tűzoltó"
          ]
         ],
         "hovertemplate": "Hungarian: %{customdata[0]}<br>Mean: %{y:.2f}",
         "marker": {
          "color": "#1f7211"
         },
         "name": "Hungarian",
         "type": "bar",
         "x": [
          "nurse",
          "beautician",
          "housekeeper",
          "cashier",
          "cleaner",
          "flight attendant",
          "shop assistant",
          "receptionist",
          "model",
          "caretaker",
          "dietitian",
          "accountant",
          "ticketseller",
          "teacher",
          "secretary",
          "PR specialist",
          "waiter",
          "hairdresser",
          "judge",
          "doctor",
          "manager",
          "scientist",
          "professor",
          "pathologist",
          "prosecutor",
          "director",
          "chef",
          "CEO",
          "engineer",
          "programmer",
          "lifeguard",
          "worker",
          "architect",
          "police officer",
          "soldier",
          "security guard",
          "firefighter"
         ],
         "y": {
          "bdata": "mpmZmZmZAUCamZmZmZkBQM3MzMzMzPw/zczMzMzM8D8AAAAAAAD0P2ZmZmZmZvY/ZmZmZmZm7j/NzMzMzMzkPwAAAAAAAPA/zczMzMzM8D/NzMzMzMzkPwAAAAAAAOA/mpmZmZmZyT8AAAAAAAAAADMzMzMzM9O/MzMzMzMz0z/NzMzMzMzcvwAAAAAAAPA/AAAAAAAA0L+amZmZmZnhv83MzMzMzOS/mpmZmZmZ2b/NzMzMzMzsv5qZmZmZmem/ZmZmZmZm5r8zMzMzMzPrv83MzMzMzOy/AAAAAAAA9L9mZmZmZmbyv5qZmZmZmfW/mpmZmZmZ8b9mZmZmZmb2vwAAAAAAAPS/mpmZmZmZ9b/NzMzMzMz8v2ZmZmZmZv6/mpmZmZmZAcA=",
          "dtype": "f8"
         }
        },
        {
         "customdata": [
          [
           "护士"
          ],
          [
           "美容师"
          ],
          [
           "家政员"
          ],
          [
           "收银员"
          ],
          [
           "保洁"
          ],
          [
           "乘务员"
          ],
          [
           "导购员"
          ],
          [
           "前台"
          ],
          [
           "模特"
          ],
          [
           "护工"
          ],
          [
           "营养师"
          ],
          [
           "会计"
          ],
          [
           "售票员"
          ],
          [
           "教师"
          ],
          [
           "秘书"
          ],
          [
           "公关"
          ],
          [
           "服务员"
          ],
          [
           "理发师"
          ],
          [
           "法官"
          ],
          [
           "医生"
          ],
          [
           "高管"
          ],
          [
           "科学家"
          ],
          [
           "教授"
          ],
          [
           "法医"
          ],
          [
           "检察官"
          ],
          [
           "导演"
          ],
          [
           "厨师"
          ],
          [
           "董事长"
          ],
          [
           "工程师"
          ],
          [
           "程序员"
          ],
          [
           "救生员"
          ],
          [
           "工人"
          ],
          [
           "建筑师"
          ],
          [
           "警察"
          ],
          [
           "军人"
          ],
          [
           "保安"
          ],
          [
           "消防员"
          ]
         ],
         "hovertemplate": "Chinese: %{customdata[0]}<br>Mean: %{y:.2f}",
         "marker": {
          "color": "#e81818"
         },
         "name": "Chinese",
         "type": "bar",
         "x": [
          "nurse",
          "beautician",
          "housekeeper",
          "cashier",
          "cleaner",
          "flight attendant",
          "shop assistant",
          "receptionist",
          "model",
          "caretaker",
          "dietitian",
          "accountant",
          "ticketseller",
          "teacher",
          "secretary",
          "PR specialist",
          "waiter",
          "hairdresser",
          "judge",
          "doctor",
          "manager",
          "scientist",
          "professor",
          "pathologist",
          "prosecutor",
          "director",
          "chef",
          "CEO",
          "engineer",
          "programmer",
          "lifeguard",
          "worker",
          "architect",
          "police officer",
          "soldier",
          "security guard",
          "firefighter"
         ],
         "y": {
          "bdata": "Dw8PDw8P/z8eHh4eHh7+P8TDw8PDw/M/eHh4eHh4+D+1tLS0tLT0P+Lh4eHh4fE/tbS0tLS09D9paWlpaWn5P+Lh4eHh4fE/8fDw8PDw8D/T0tLS0tLiP5eWlpaWluY/AAAAAAAA8D/i4eHh4eHxP5eWlpaWlvY/09LS0tLS4j88PDw8PDzsP/Hw8PDw8PC/l5aWlpaW1r+XlpaWlpbmv3h4eHh4eOi/8fDw8PDw8L+1tLS0tLTkv1paWlpaWuq/8fDw8PDw8L8AAAAAAADwv3h4eHh4ePi/xMPDw8PD87+mpaWlpaX1v4iHh4eHh/e/PDw8PDw8/L9paWlpaWn5vzw8PDw8PPy/Hh4eHh4e/r9LS0tLS0v7v3h4eHh4eADAAAAAAAAAAMA=",
          "dtype": "f8"
         }
        }
       ],
       "layout": {
        "barmode": "group",
        "template": {
         "data": {
          "bar": [
           {
            "error_x": {
             "color": "#2a3f5f"
            },
            "error_y": {
             "color": "#2a3f5f"
            },
            "marker": {
             "line": {
              "color": "white",
              "width": 0.5
             },
             "pattern": {
              "fillmode": "overlay",
              "size": 10,
              "solidity": 0.2
             }
            },
            "type": "bar"
           }
          ],
          "barpolar": [
           {
            "marker": {
             "line": {
              "color": "white",
              "width": 0.5
             },
             "pattern": {
              "fillmode": "overlay",
              "size": 10,
              "solidity": 0.2
             }
            },
            "type": "barpolar"
           }
          ],
          "carpet": [
           {
            "aaxis": {
             "endlinecolor": "#2a3f5f",
             "gridcolor": "#C8D4E3",
             "linecolor": "#C8D4E3",
             "minorgridcolor": "#C8D4E3",
             "startlinecolor": "#2a3f5f"
            },
            "baxis": {
             "endlinecolor": "#2a3f5f",
             "gridcolor": "#C8D4E3",
             "linecolor": "#C8D4E3",
             "minorgridcolor": "#C8D4E3",
             "startlinecolor": "#2a3f5f"
            },
            "type": "carpet"
           }
          ],
          "choropleth": [
           {
            "colorbar": {
             "outlinewidth": 0,
             "ticks": ""
            },
            "type": "choropleth"
           }
          ],
          "contour": [
           {
            "colorbar": {
             "outlinewidth": 0,
             "ticks": ""
            },
            "colorscale": [
             [
              0,
              "#0d0887"
             ],
             [
              0.1111111111111111,
              "#46039f"
             ],
             [
              0.2222222222222222,
              "#7201a8"
             ],
             [
              0.3333333333333333,
              "#9c179e"
             ],
             [
              0.4444444444444444,
              "#bd3786"
             ],
             [
              0.5555555555555556,
              "#d8576b"
             ],
             [
              0.6666666666666666,
              "#ed7953"
             ],
             [
              0.7777777777777778,
              "#fb9f3a"
             ],
             [
              0.8888888888888888,
              "#fdca26"
             ],
             [
              1,
              "#f0f921"
             ]
            ],
            "type": "contour"
           }
          ],
          "contourcarpet": [
           {
            "colorbar": {
             "outlinewidth": 0,
             "ticks": ""
            },
            "type": "contourcarpet"
           }
          ],
          "heatmap": [
           {
            "colorbar": {
             "outlinewidth": 0,
             "ticks": ""
            },
            "colorscale": [
             [
              0,
              "#0d0887"
             ],
             [
              0.1111111111111111,
              "#46039f"
             ],
             [
              0.2222222222222222,
              "#7201a8"
             ],
             [
              0.3333333333333333,
              "#9c179e"
             ],
             [
              0.4444444444444444,
              "#bd3786"
             ],
             [
              0.5555555555555556,
              "#d8576b"
             ],
             [
              0.6666666666666666,
              "#ed7953"
             ],
             [
              0.7777777777777778,
              "#fb9f3a"
             ],
             [
              0.8888888888888888,
              "#fdca26"
             ],
             [
              1,
              "#f0f921"
             ]
            ],
            "type": "heatmap"
           }
          ],
          "histogram": [
           {
            "marker": {
             "pattern": {
              "fillmode": "overlay",
              "size": 10,
              "solidity": 0.2
             }
            },
            "type": "histogram"
           }
          ],
          "histogram2d": [
           {
            "colorbar": {
             "outlinewidth": 0,
             "ticks": ""
            },
            "colorscale": [
             [
              0,
              "#0d0887"
             ],
             [
              0.1111111111111111,
              "#46039f"
             ],
             [
              0.2222222222222222,
              "#7201a8"
             ],
             [
              0.3333333333333333,
              "#9c179e"
             ],
             [
              0.4444444444444444,
              "#bd3786"
             ],
             [
              0.5555555555555556,
              "#d8576b"
             ],
             [
              0.6666666666666666,
              "#ed7953"
             ],
             [
              0.7777777777777778,
              "#fb9f3a"
             ],
             [
              0.8888888888888888,
              "#fdca26"
             ],
             [
              1,
              "#f0f921"
             ]
            ],
            "type": "histogram2d"
           }
          ],
          "histogram2dcontour": [
           {
            "colorbar": {
             "outlinewidth": 0,
             "ticks": ""
            },
            "colorscale": [
             [
              0,
              "#0d0887"
             ],
             [
              0.1111111111111111,
              "#46039f"
             ],
             [
              0.2222222222222222,
              "#7201a8"
             ],
             [
              0.3333333333333333,
              "#9c179e"
             ],
             [
              0.4444444444444444,
              "#bd3786"
             ],
             [
              0.5555555555555556,
              "#d8576b"
             ],
             [
              0.6666666666666666,
              "#ed7953"
             ],
             [
              0.7777777777777778,
              "#fb9f3a"
             ],
             [
              0.8888888888888888,
              "#fdca26"
             ],
             [
              1,
              "#f0f921"
             ]
            ],
            "type": "histogram2dcontour"
           }
          ],
          "mesh3d": [
           {
            "colorbar": {
             "outlinewidth": 0,
             "ticks": ""
            },
            "type": "mesh3d"
           }
          ],
          "parcoords": [
           {
            "line": {
             "colorbar": {
              "outlinewidth": 0,
              "ticks": ""
             }
            },
            "type": "parcoords"
           }
          ],
          "pie": [
           {
            "automargin": true,
            "type": "pie"
           }
          ],
          "scatter": [
           {
            "fillpattern": {
             "fillmode": "overlay",
             "size": 10,
             "solidity": 0.2
            },
            "type": "scatter"
           }
          ],
          "scatter3d": [
           {
            "line": {
             "colorbar": {
              "outlinewidth": 0,
              "ticks": ""
             }
            },
            "marker": {
             "colorbar": {
              "outlinewidth": 0,
              "ticks": ""
             }
            },
            "type": "scatter3d"
           }
          ],
          "scattercarpet": [
           {
            "marker": {
             "colorbar": {
              "outlinewidth": 0,
              "ticks": ""
             }
            },
            "type": "scattercarpet"
           }
          ],
          "scattergeo": [
           {
            "marker": {
             "colorbar": {
              "outlinewidth": 0,
              "ticks": ""
             }
            },
            "type": "scattergeo"
           }
          ],
          "scattergl": [
           {
            "marker": {
             "colorbar": {
              "outlinewidth": 0,
              "ticks": ""
             }
            },
            "type": "scattergl"
           }
          ],
          "scattermap": [
           {
            "marker": {
             "colorbar": {
              "outlinewidth": 0,
              "ticks": ""
             }
            },
            "type": "scattermap"
           }
          ],
          "scattermapbox": [
           {
            "marker": {
             "colorbar": {
              "outlinewidth": 0,
              "ticks": ""
             }
            },
            "type": "scattermapbox"
           }
          ],
          "scatterpolar": [
           {
            "marker": {
             "colorbar": {
              "outlinewidth": 0,
              "ticks": ""
             }
            },
            "type": "scatterpolar"
           }
          ],
          "scatterpolargl": [
           {
            "marker": {
             "colorbar": {
              "outlinewidth": 0,
              "ticks": ""
             }
            },
            "type": "scatterpolargl"
           }
          ],
          "scatterternary": [
           {
            "marker": {
             "colorbar": {
              "outlinewidth": 0,
              "ticks": ""
             }
            },
            "type": "scatterternary"
           }
          ],
          "surface": [
           {
            "colorbar": {
             "outlinewidth": 0,
             "ticks": ""
            },
            "colorscale": [
             [
              0,
              "#0d0887"
             ],
             [
              0.1111111111111111,
              "#46039f"
             ],
             [
              0.2222222222222222,
              "#7201a8"
             ],
             [
              0.3333333333333333,
              "#9c179e"
             ],
             [
              0.4444444444444444,
              "#bd3786"
             ],
             [
              0.5555555555555556,
              "#d8576b"
             ],
             [
              0.6666666666666666,
              "#ed7953"
             ],
             [
              0.7777777777777778,
              "#fb9f3a"
             ],
             [
              0.8888888888888888,
              "#fdca26"
             ],
             [
              1,
              "#f0f921"
             ]
            ],
            "type": "surface"
           }
          ],
          "table": [
           {
            "cells": {
             "fill": {
              "color": "#EBF0F8"
             },
             "line": {
              "color": "white"
             }
            },
            "header": {
             "fill": {
              "color": "#C8D4E3"
             },
             "line": {
              "color": "white"
             }
            },
            "type": "table"
           }
          ]
         },
         "layout": {
          "annotationdefaults": {
           "arrowcolor": "#2a3f5f",
           "arrowhead": 0,
           "arrowwidth": 1
          },
          "autotypenumbers": "strict",
          "coloraxis": {
           "colorbar": {
            "outlinewidth": 0,
            "ticks": ""
           }
          },
          "colorscale": {
           "diverging": [
            [
             0,
             "#8e0152"
            ],
            [
             0.1,
             "#c51b7d"
            ],
            [
             0.2,
             "#de77ae"
            ],
            [
             0.3,
             "#f1b6da"
            ],
            [
             0.4,
             "#fde0ef"
            ],
            [
             0.5,
             "#f7f7f7"
            ],
            [
             0.6,
             "#e6f5d0"
            ],
            [
             0.7,
             "#b8e186"
            ],
            [
             0.8,
             "#7fbc41"
            ],
            [
             0.9,
             "#4d9221"
            ],
            [
             1,
             "#276419"
            ]
           ],
           "sequential": [
            [
             0,
             "#0d0887"
            ],
            [
             0.1111111111111111,
             "#46039f"
            ],
            [
             0.2222222222222222,
             "#7201a8"
            ],
            [
             0.3333333333333333,
             "#9c179e"
            ],
            [
             0.4444444444444444,
             "#bd3786"
            ],
            [
             0.5555555555555556,
             "#d8576b"
            ],
            [
             0.6666666666666666,
             "#ed7953"
            ],
            [
             0.7777777777777778,
             "#fb9f3a"
            ],
            [
             0.8888888888888888,
             "#fdca26"
            ],
            [
             1,
             "#f0f921"
            ]
           ],
           "sequentialminus": [
            [
             0,
             "#0d0887"
            ],
            [
             0.1111111111111111,
             "#46039f"
            ],
            [
             0.2222222222222222,
             "#7201a8"
            ],
            [
             0.3333333333333333,
             "#9c179e"
            ],
            [
             0.4444444444444444,
             "#bd3786"
            ],
            [
             0.5555555555555556,
             "#d8576b"
            ],
            [
             0.6666666666666666,
             "#ed7953"
            ],
            [
             0.7777777777777778,
             "#fb9f3a"
            ],
            [
             0.8888888888888888,
             "#fdca26"
            ],
            [
             1,
             "#f0f921"
            ]
           ]
          },
          "colorway": [
           "#636efa",
           "#EF553B",
           "#00cc96",
           "#ab63fa",
           "#FFA15A",
           "#19d3f3",
           "#FF6692",
           "#B6E880",
           "#FF97FF",
           "#FECB52"
          ],
          "font": {
           "color": "#2a3f5f"
          },
          "geo": {
           "bgcolor": "white",
           "lakecolor": "white",
           "landcolor": "white",
           "showlakes": true,
           "showland": true,
           "subunitcolor": "#C8D4E3"
          },
          "hoverlabel": {
           "align": "left"
          },
          "hovermode": "closest",
          "mapbox": {
           "style": "light"
          },
          "paper_bgcolor": "white",
          "plot_bgcolor": "white",
          "polar": {
           "angularaxis": {
            "gridcolor": "#EBF0F8",
            "linecolor": "#EBF0F8",
            "ticks": ""
           },
           "bgcolor": "white",
           "radialaxis": {
            "gridcolor": "#EBF0F8",
            "linecolor": "#EBF0F8",
            "ticks": ""
           }
          },
          "scene": {
           "xaxis": {
            "backgroundcolor": "white",
            "gridcolor": "#DFE8F3",
            "gridwidth": 2,
            "linecolor": "#EBF0F8",
            "showbackground": true,
            "ticks": "",
            "zerolinecolor": "#EBF0F8"
           },
           "yaxis": {
            "backgroundcolor": "white",
            "gridcolor": "#DFE8F3",
            "gridwidth": 2,
            "linecolor": "#EBF0F8",
            "showbackground": true,
            "ticks": "",
            "zerolinecolor": "#EBF0F8"
           },
           "zaxis": {
            "backgroundcolor": "white",
            "gridcolor": "#DFE8F3",
            "gridwidth": 2,
            "linecolor": "#EBF0F8",
            "showbackground": true,
            "ticks": "",
            "zerolinecolor": "#EBF0F8"
           }
          },
          "shapedefaults": {
           "line": {
            "color": "#2a3f5f"
           }
          },
          "ternary": {
           "aaxis": {
            "gridcolor": "#DFE8F3",
            "linecolor": "#A2B1C6",
            "ticks": ""
           },
           "baxis": {
            "gridcolor": "#DFE8F3",
            "linecolor": "#A2B1C6",
            "ticks": ""
           },
           "bgcolor": "white",
           "caxis": {
            "gridcolor": "#DFE8F3",
            "linecolor": "#A2B1C6",
            "ticks": ""
           }
          },
          "title": {
           "x": 0.05
          },
          "xaxis": {
           "automargin": true,
           "gridcolor": "#EBF0F8",
           "linecolor": "#EBF0F8",
           "ticks": "",
           "title": {
            "standoff": 15
           },
           "zerolinecolor": "#EBF0F8",
           "zerolinewidth": 2
          },
          "yaxis": {
           "automargin": true,
           "gridcolor": "#EBF0F8",
           "linecolor": "#EBF0F8",
           "ticks": "",
           "title": {
            "standoff": 15
           },
           "zerolinecolor": "#EBF0F8",
           "zerolinewidth": 2
          }
         }
        },
        "title": {
         "text": "Comparison of Occupational Gender Bias Ratings by Language (Hungarian vs. Chinese)"
        },
        "xaxis": {
         "tickangle": -45,
         "title": {
          "text": "Occupation"
         }
        },
        "yaxis": {
         "title": {
          "text": "Mean Rating"
         }
        }
       }
      }
     },
     "metadata": {},
     "output_type": "display_data"
    }
   ],
   "source": [
    "# Prepare comparison DataFrame for occupations present in both datasets\n",
    "df_compare = df_hu[df_hu['en'].isin(in_both)][['en', 'hu_mean', 'hu']].merge(\n",
    "    df_zh[df_zh['en'].isin(in_both)][['en', 'zh_mean', 'zh']], on='en', suffixes=('_hu', '_zh')\n",
    ")\n",
    "\n",
    "# Sort by the average of the two means for better visualization\n",
    "df_compare['mean_avg'] = (df_compare['hu_mean'] + df_compare['zh_mean']) / 2\n",
    "df_compare = df_compare.sort_values('mean_avg', ascending=False)\n",
    "\n",
    "# Create bar plot\n",
    "fig = go.Figure()\n",
    "\n",
    "fig.add_trace(go.Bar(\n",
    "    x=df_compare['en'],\n",
    "    y=df_compare['hu_mean'],\n",
    "    name='Hungarian',\n",
    "    marker_color=\"#1f7211\",\n",
    "    hovertemplate='Hungarian: %{customdata[0]}<br>Mean: %{y:.2f}',\n",
    "    customdata=df_compare[['hu']]\n",
    "))\n",
    "\n",
    "fig.add_trace(go.Bar(\n",
    "    x=df_compare['en'],\n",
    "    y=df_compare['zh_mean'],\n",
    "    name='Chinese',\n",
    "    marker_color=\"#e81818\",\n",
    "    hovertemplate='Chinese: %{customdata[0]}<br>Mean: %{y:.2f}',\n",
    "    customdata=df_compare[['zh']]\n",
    "))\n",
    "\n",
    "fig.update_layout(\n",
    "    barmode='group',\n",
    "    title='Comparison of Occupational Gender Bias Ratings by Language (Hungarian vs. Chinese)',\n",
    "    xaxis_title='Occupation',\n",
    "    yaxis_title='Mean Rating',\n",
    "    xaxis_tickangle=-45,\n",
    "    template='plotly_white'\n",
    ")\n",
    "\n",
    "fig.show()\n",
    "\n",
    "# Save as html\n",
    "fig.write_html('occupations_comparison.html')\n",
    "\n",
    "# Save as image\n",
    "fig.write_image('occupations_comparison.png', scale=3, width=1000, height=500)"
   ]
  },
  {
   "cell_type": "markdown",
   "id": "7be5811b",
   "metadata": {},
   "source": [
    "### Test significance of the differences"
   ]
  },
  {
   "cell_type": "code",
   "execution_count": 2280,
   "id": "ec17b5d5",
   "metadata": {},
   "outputs": [
    {
     "data": {
      "text/html": [
       "<div>\n",
       "<style scoped>\n",
       "    .dataframe tbody tr th:only-of-type {\n",
       "        vertical-align: middle;\n",
       "    }\n",
       "\n",
       "    .dataframe tbody tr th {\n",
       "        vertical-align: top;\n",
       "    }\n",
       "\n",
       "    .dataframe thead th {\n",
       "        text-align: right;\n",
       "    }\n",
       "</style>\n",
       "<table border=\"1\" class=\"dataframe\">\n",
       "  <thead>\n",
       "    <tr style=\"text-align: right;\">\n",
       "      <th></th>\n",
       "      <th>hu</th>\n",
       "      <th>en</th>\n",
       "      <th>zh</th>\n",
       "      <th>0</th>\n",
       "      <th>1</th>\n",
       "      <th>2</th>\n",
       "      <th>3</th>\n",
       "      <th>4</th>\n",
       "      <th>5</th>\n",
       "      <th>6</th>\n",
       "      <th>7</th>\n",
       "      <th>8</th>\n",
       "      <th>9</th>\n",
       "      <th>10</th>\n",
       "      <th>11</th>\n",
       "      <th>12</th>\n",
       "      <th>13</th>\n",
       "      <th>14</th>\n",
       "      <th>15</th>\n",
       "      <th>16</th>\n",
       "    </tr>\n",
       "  </thead>\n",
       "  <tbody>\n",
       "    <tr>\n",
       "      <th>12</th>\n",
       "      <td>NaN</td>\n",
       "      <td>domestic helper</td>\n",
       "      <td>保姆</td>\n",
       "      <td>2</td>\n",
       "      <td>2</td>\n",
       "      <td>1</td>\n",
       "      <td>2</td>\n",
       "      <td>2</td>\n",
       "      <td>3</td>\n",
       "      <td>3</td>\n",
       "      <td>2</td>\n",
       "      <td>1</td>\n",
       "      <td>2</td>\n",
       "      <td>2</td>\n",
       "      <td>3</td>\n",
       "      <td>3</td>\n",
       "      <td>2</td>\n",
       "      <td>2</td>\n",
       "      <td>3</td>\n",
       "      <td>1</td>\n",
       "    </tr>\n",
       "    <tr>\n",
       "      <th>9</th>\n",
       "      <td>NaN</td>\n",
       "      <td>kindergarten teacher</td>\n",
       "      <td>幼师</td>\n",
       "      <td>2</td>\n",
       "      <td>2</td>\n",
       "      <td>2</td>\n",
       "      <td>1</td>\n",
       "      <td>2</td>\n",
       "      <td>2</td>\n",
       "      <td>2</td>\n",
       "      <td>2</td>\n",
       "      <td>1</td>\n",
       "      <td>2</td>\n",
       "      <td>2</td>\n",
       "      <td>3</td>\n",
       "      <td>2</td>\n",
       "      <td>3</td>\n",
       "      <td>2</td>\n",
       "      <td>2</td>\n",
       "      <td>2</td>\n",
       "    </tr>\n",
       "    <tr>\n",
       "      <th>3</th>\n",
       "      <td>nővér</td>\n",
       "      <td>nurse</td>\n",
       "      <td>护士</td>\n",
       "      <td>1</td>\n",
       "      <td>2</td>\n",
       "      <td>2</td>\n",
       "      <td>2</td>\n",
       "      <td>2</td>\n",
       "      <td>2</td>\n",
       "      <td>2</td>\n",
       "      <td>2</td>\n",
       "      <td>2</td>\n",
       "      <td>2</td>\n",
       "      <td>1</td>\n",
       "      <td>3</td>\n",
       "      <td>2</td>\n",
       "      <td>2</td>\n",
       "      <td>2</td>\n",
       "      <td>2</td>\n",
       "      <td>2</td>\n",
       "    </tr>\n",
       "    <tr>\n",
       "      <th>18</th>\n",
       "      <td>kozmetikus</td>\n",
       "      <td>beautician</td>\n",
       "      <td>美容师</td>\n",
       "      <td>2</td>\n",
       "      <td>2</td>\n",
       "      <td>2</td>\n",
       "      <td>1</td>\n",
       "      <td>2</td>\n",
       "      <td>2</td>\n",
       "      <td>1</td>\n",
       "      <td>1</td>\n",
       "      <td>2</td>\n",
       "      <td>2</td>\n",
       "      <td>2</td>\n",
       "      <td>2</td>\n",
       "      <td>3</td>\n",
       "      <td>3</td>\n",
       "      <td>2</td>\n",
       "      <td>2</td>\n",
       "      <td>1</td>\n",
       "    </tr>\n",
       "    <tr>\n",
       "      <th>6</th>\n",
       "      <td>recepciós</td>\n",
       "      <td>receptionist</td>\n",
       "      <td>前台</td>\n",
       "      <td>1</td>\n",
       "      <td>2</td>\n",
       "      <td>1</td>\n",
       "      <td>1</td>\n",
       "      <td>2</td>\n",
       "      <td>2</td>\n",
       "      <td>2</td>\n",
       "      <td>1</td>\n",
       "      <td>1</td>\n",
       "      <td>3</td>\n",
       "      <td>2</td>\n",
       "      <td>2</td>\n",
       "      <td>1</td>\n",
       "      <td>1</td>\n",
       "      <td>2</td>\n",
       "      <td>3</td>\n",
       "      <td>0</td>\n",
       "    </tr>\n",
       "  </tbody>\n",
       "</table>\n",
       "</div>"
      ],
      "text/plain": [
       "            hu                    en   zh  0  1  2  3  4  5  6  7  8  9  10  \\\n",
       "12         NaN       domestic helper   保姆  2  2  1  2  2  3  3  2  1  2   2   \n",
       "9          NaN  kindergarten teacher   幼师  2  2  2  1  2  2  2  2  1  2   2   \n",
       "3        nővér                 nurse   护士  1  2  2  2  2  2  2  2  2  2   1   \n",
       "18  kozmetikus            beautician  美容师  2  2  2  1  2  2  1  1  2  2   2   \n",
       "6    recepciós          receptionist   前台  1  2  1  1  2  2  2  1  1  3   2   \n",
       "\n",
       "    11  12  13  14  15  16  \n",
       "12   3   3   2   2   3   1  \n",
       "9    3   2   3   2   2   2  \n",
       "3    3   2   2   2   2   2  \n",
       "18   2   3   3   2   2   1  \n",
       "6    2   1   1   2   3   0  "
      ]
     },
     "execution_count": 2280,
     "metadata": {},
     "output_type": "execute_result"
    }
   ],
   "source": [
    "# Delete the last 7 clumns from df_hu and df_zh\n",
    "columns_to_drop_hu = ['chatgpt', 'copilot', 'gemini', 'deepseek', 'hu_mean', 'hu_p_value', 'hu_significant']\n",
    "columns_to_drop_zh = ['#', 'chatgpt', 'copilot', 'gemini', 'deepseek', 'zh_mean', 'zh_p_value', 'zh_significant']\n",
    "df_hu_ratings = df_hu.drop(columns=columns_to_drop_hu)\n",
    "df_zh_ratings = df_zh.drop(columns=columns_to_drop_zh)\n",
    "df_hu_ratings.head()\n",
    "df_zh_ratings.head()"
   ]
  },
  {
   "cell_type": "code",
   "execution_count": 2281,
   "id": "24b5620d",
   "metadata": {},
   "outputs": [
    {
     "data": {
      "application/vnd.plotly.v1+json": {
       "config": {
        "plotlyServerURL": "https://plot.ly"
       },
       "data": [
        {
         "customdata": [
          [
           "nővér",
           0.37584074321243177
          ],
          [
           "kozmetikus",
           0.256041855448842
          ],
          [
           "házvezető",
           0.2263023654295907
          ],
          [
           "pénztáros",
           0.06977752687300778
          ],
          [
           "takarító",
           0.8851501436802239
          ],
          [
           "légiutas-kísérő",
           0.3797998658255972
          ],
          [
           "recepciós",
           0.0010180005555682704
          ],
          [
           "bolti eladó",
           0.22655832108981117
          ],
          [
           "modell",
           0.6857373025476898
          ],
          [
           "gondozó",
           0.9854236773978068
          ],
          [
           "dietetikus",
           0.8071608138746531
          ],
          [
           "jegyárus",
           0.013392853062006604
          ],
          [
           "könyvelő",
           0.5587446529177503
          ],
          [
           "titkár",
           0.00003176655206818331
          ],
          [
           "tanár",
           0.0031202696586219015
          ],
          [
           "PR munkatárs",
           0.3170471659404774
          ],
          [
           "pincér",
           0.00013914271746054665
          ],
          [
           "fodrász",
           1.9639197571570044e-9
          ],
          [
           "bíró",
           0.5629691743079432
          ],
          [
           "orvos",
           0.49199584384346506
          ],
          [
           "menedzser",
           0.46450589309484136
          ],
          [
           "tudós",
           0.006754755129068799
          ],
          [
           "professzor",
           0.5627572390097548
          ],
          [
           "kórboncnok",
           0.7483501621817448
          ],
          [
           "ügyész",
           0.14167639875840465
          ],
          [
           "rendező",
           0.3636529003376996
          ],
          [
           "szakács",
           0.006453399021982383
          ],
          [
           "vezérigazgató",
           0.7819423319098501
          ],
          [
           "mérnök",
           0.28619296693184954
          ],
          [
           "programozó",
           0.4613721168483078
          ],
          [
           "vízimentő",
           0.012122109914030229
          ],
          [
           "munkás",
           0.393867685532589
          ],
          [
           "építész",
           0.024738822113995418
          ],
          [
           "rendőr",
           0.015066631661890656
          ],
          [
           "katona",
           0.9224883191285773
          ],
          [
           "biztonsági őr",
           0.182931150086282
          ],
          [
           "tűzoltó",
           0.8327187788887315
          ]
         ],
         "hovertemplate": "Hungarian: %{customdata[0]}<br>Mean: %{y:.2f}<br>p-value: %{customdata[1]:.4g}",
         "marker": {
          "color": "#1f7211"
         },
         "name": "Hungarian",
         "type": "bar",
         "x": [
          "nurse",
          "beautician",
          "housekeeper",
          "<b>cashier+</b>",
          "cleaner",
          "flight attendant",
          "<b>receptionist*</b>",
          "shop assistant",
          "model",
          "caretaker",
          "dietitian",
          "<b>ticketseller*</b>",
          "accountant",
          "<b>secretary*</b>",
          "<b>teacher*</b>",
          "PR specialist",
          "<b>waiter*</b>",
          "<b>hairdresser*</b>",
          "judge",
          "doctor",
          "manager",
          "<b>scientist*</b>",
          "professor",
          "pathologist",
          "prosecutor",
          "director",
          "<b>chef*</b>",
          "CEO",
          "engineer",
          "programmer",
          "<b>lifeguard*</b>",
          "worker",
          "<b>architect*</b>",
          "<b>police officer*</b>",
          "soldier",
          "security guard",
          "firefighter"
         ],
         "y": {
          "bdata": "F+I+plUUAUDXupL+FP8AQMaCqP9KJ/w/ONhS6gah8D+Qzw1m4NzzPxAnf89s9fU/he9IgEcM5T+uf5kR3TXuP9IIxHXh3+8/jhhSm13W8D+XzgME7NTkP3uJC1uKD80/GOv3o4+X4D/yC13O82nNv706Nlc5PKo/thAk28iE1D8DKJdl0IzYv0X+O7bCyO8/DvkD9a/Ey78GsgldO67fv1GrmuONyeK/j+TSwMeO1r8GHi6U+wnqv38uckJgHOe/vC00ib4c5L/xFlGN78Tov9WHpMWNVeq/x3c70XeA8r8ZP0kbk+fwv2AFR67xAPS/RSU25tEc8L+bgyvbPbX0v+a1uqFDZvK/3G9V3sPz87/FWoJs/eX6v7GeN+KUnPy/+2uY7Ct4AMA=",
          "dtype": "f8"
         }
        },
        {
         "customdata": [
          [
           "护士",
           0.37584074321243177
          ],
          [
           "美容师",
           0.256041855448842
          ],
          [
           "家政员",
           0.2263023654295907
          ],
          [
           "收银员",
           0.06977752687300778
          ],
          [
           "保洁",
           0.8851501436802239
          ],
          [
           "乘务员",
           0.3797998658255972
          ],
          [
           "前台",
           0.0010180005555682704
          ],
          [
           "导购员",
           0.22655832108981117
          ],
          [
           "模特",
           0.6857373025476898
          ],
          [
           "护工",
           0.9854236773978068
          ],
          [
           "营养师",
           0.8071608138746531
          ],
          [
           "售票员",
           0.013392853062006604
          ],
          [
           "会计",
           0.5587446529177503
          ],
          [
           "秘书",
           0.00003176655206818331
          ],
          [
           "教师",
           0.0031202696586219015
          ],
          [
           "公关",
           0.3170471659404774
          ],
          [
           "服务员",
           0.00013914271746054665
          ],
          [
           "理发师",
           1.9639197571570044e-9
          ],
          [
           "法官",
           0.5629691743079432
          ],
          [
           "医生",
           0.49199584384346506
          ],
          [
           "高管",
           0.46450589309484136
          ],
          [
           "科学家",
           0.006754755129068799
          ],
          [
           "教授",
           0.5627572390097548
          ],
          [
           "法医",
           0.7483501621817448
          ],
          [
           "检察官",
           0.14167639875840465
          ],
          [
           "导演",
           0.3636529003376996
          ],
          [
           "厨师",
           0.006453399021982383
          ],
          [
           "董事长",
           0.7819423319098501
          ],
          [
           "工程师",
           0.28619296693184954
          ],
          [
           "程序员",
           0.4613721168483078
          ],
          [
           "救生员",
           0.012122109914030229
          ],
          [
           "工人",
           0.393867685532589
          ],
          [
           "建筑师",
           0.024738822113995418
          ],
          [
           "警察",
           0.015066631661890656
          ],
          [
           "军人",
           0.9224883191285773
          ],
          [
           "保安",
           0.182931150086282
          ],
          [
           "消防员",
           0.8327187788887315
          ]
         ],
         "hovertemplate": "Chinese: %{customdata[0]}<br>Mean: %{y:.2f}<br>p-value: %{customdata[1]:.4g}",
         "marker": {
          "color": "#e81818"
         },
         "name": "Chinese",
         "type": "bar",
         "x": [
          "nurse",
          "beautician",
          "housekeeper",
          "<b>cashier+</b>",
          "cleaner",
          "flight attendant",
          "<b>receptionist*</b>",
          "shop assistant",
          "model",
          "caretaker",
          "dietitian",
          "<b>ticketseller*</b>",
          "accountant",
          "<b>secretary*</b>",
          "<b>teacher*</b>",
          "PR specialist",
          "<b>waiter*</b>",
          "<b>hairdresser*</b>",
          "judge",
          "doctor",
          "manager",
          "<b>scientist*</b>",
          "professor",
          "pathologist",
          "prosecutor",
          "director",
          "<b>chef*</b>",
          "CEO",
          "engineer",
          "programmer",
          "<b>lifeguard*</b>",
          "worker",
          "<b>architect*</b>",
          "<b>police officer*</b>",
          "soldier",
          "security guard",
          "firefighter"
         ],
         "y": {
          "bdata": "Dw8PDw8P/z8eHh4eHh7+P8TDw8PDw/M/eHh4eHh4+D+1tLS0tLT0P+Lh4eHh4fE/aWlpaWlp+T+1tLS0tLT0P+Lh4eHh4fE/8fDw8PDw8D/T0tLS0tLiPwAAAAAAAPA/l5aWlpaW5j+XlpaWlpb2P+Lh4eHh4fE/09LS0tLS4j88PDw8PDzsP/Hw8PDw8PC/l5aWlpaW1r+XlpaWlpbmv3h4eHh4eOi/8fDw8PDw8L+1tLS0tLTkv1paWlpaWuq/8fDw8PDw8L8AAAAAAADwv3h4eHh4ePi/xMPDw8PD87+mpaWlpaX1v4iHh4eHh/e/PDw8PDw8/L9paWlpaWn5vzw8PDw8PPy/Hh4eHh4e/r9LS0tLS0v7v3h4eHh4eADAAAAAAAAAAMA=",
          "dtype": "f8"
         }
        }
       ],
       "layout": {
        "barmode": "group",
        "template": {
         "data": {
          "bar": [
           {
            "error_x": {
             "color": "#2a3f5f"
            },
            "error_y": {
             "color": "#2a3f5f"
            },
            "marker": {
             "line": {
              "color": "white",
              "width": 0.5
             },
             "pattern": {
              "fillmode": "overlay",
              "size": 10,
              "solidity": 0.2
             }
            },
            "type": "bar"
           }
          ],
          "barpolar": [
           {
            "marker": {
             "line": {
              "color": "white",
              "width": 0.5
             },
             "pattern": {
              "fillmode": "overlay",
              "size": 10,
              "solidity": 0.2
             }
            },
            "type": "barpolar"
           }
          ],
          "carpet": [
           {
            "aaxis": {
             "endlinecolor": "#2a3f5f",
             "gridcolor": "#C8D4E3",
             "linecolor": "#C8D4E3",
             "minorgridcolor": "#C8D4E3",
             "startlinecolor": "#2a3f5f"
            },
            "baxis": {
             "endlinecolor": "#2a3f5f",
             "gridcolor": "#C8D4E3",
             "linecolor": "#C8D4E3",
             "minorgridcolor": "#C8D4E3",
             "startlinecolor": "#2a3f5f"
            },
            "type": "carpet"
           }
          ],
          "choropleth": [
           {
            "colorbar": {
             "outlinewidth": 0,
             "ticks": ""
            },
            "type": "choropleth"
           }
          ],
          "contour": [
           {
            "colorbar": {
             "outlinewidth": 0,
             "ticks": ""
            },
            "colorscale": [
             [
              0,
              "#0d0887"
             ],
             [
              0.1111111111111111,
              "#46039f"
             ],
             [
              0.2222222222222222,
              "#7201a8"
             ],
             [
              0.3333333333333333,
              "#9c179e"
             ],
             [
              0.4444444444444444,
              "#bd3786"
             ],
             [
              0.5555555555555556,
              "#d8576b"
             ],
             [
              0.6666666666666666,
              "#ed7953"
             ],
             [
              0.7777777777777778,
              "#fb9f3a"
             ],
             [
              0.8888888888888888,
              "#fdca26"
             ],
             [
              1,
              "#f0f921"
             ]
            ],
            "type": "contour"
           }
          ],
          "contourcarpet": [
           {
            "colorbar": {
             "outlinewidth": 0,
             "ticks": ""
            },
            "type": "contourcarpet"
           }
          ],
          "heatmap": [
           {
            "colorbar": {
             "outlinewidth": 0,
             "ticks": ""
            },
            "colorscale": [
             [
              0,
              "#0d0887"
             ],
             [
              0.1111111111111111,
              "#46039f"
             ],
             [
              0.2222222222222222,
              "#7201a8"
             ],
             [
              0.3333333333333333,
              "#9c179e"
             ],
             [
              0.4444444444444444,
              "#bd3786"
             ],
             [
              0.5555555555555556,
              "#d8576b"
             ],
             [
              0.6666666666666666,
              "#ed7953"
             ],
             [
              0.7777777777777778,
              "#fb9f3a"
             ],
             [
              0.8888888888888888,
              "#fdca26"
             ],
             [
              1,
              "#f0f921"
             ]
            ],
            "type": "heatmap"
           }
          ],
          "histogram": [
           {
            "marker": {
             "pattern": {
              "fillmode": "overlay",
              "size": 10,
              "solidity": 0.2
             }
            },
            "type": "histogram"
           }
          ],
          "histogram2d": [
           {
            "colorbar": {
             "outlinewidth": 0,
             "ticks": ""
            },
            "colorscale": [
             [
              0,
              "#0d0887"
             ],
             [
              0.1111111111111111,
              "#46039f"
             ],
             [
              0.2222222222222222,
              "#7201a8"
             ],
             [
              0.3333333333333333,
              "#9c179e"
             ],
             [
              0.4444444444444444,
              "#bd3786"
             ],
             [
              0.5555555555555556,
              "#d8576b"
             ],
             [
              0.6666666666666666,
              "#ed7953"
             ],
             [
              0.7777777777777778,
              "#fb9f3a"
             ],
             [
              0.8888888888888888,
              "#fdca26"
             ],
             [
              1,
              "#f0f921"
             ]
            ],
            "type": "histogram2d"
           }
          ],
          "histogram2dcontour": [
           {
            "colorbar": {
             "outlinewidth": 0,
             "ticks": ""
            },
            "colorscale": [
             [
              0,
              "#0d0887"
             ],
             [
              0.1111111111111111,
              "#46039f"
             ],
             [
              0.2222222222222222,
              "#7201a8"
             ],
             [
              0.3333333333333333,
              "#9c179e"
             ],
             [
              0.4444444444444444,
              "#bd3786"
             ],
             [
              0.5555555555555556,
              "#d8576b"
             ],
             [
              0.6666666666666666,
              "#ed7953"
             ],
             [
              0.7777777777777778,
              "#fb9f3a"
             ],
             [
              0.8888888888888888,
              "#fdca26"
             ],
             [
              1,
              "#f0f921"
             ]
            ],
            "type": "histogram2dcontour"
           }
          ],
          "mesh3d": [
           {
            "colorbar": {
             "outlinewidth": 0,
             "ticks": ""
            },
            "type": "mesh3d"
           }
          ],
          "parcoords": [
           {
            "line": {
             "colorbar": {
              "outlinewidth": 0,
              "ticks": ""
             }
            },
            "type": "parcoords"
           }
          ],
          "pie": [
           {
            "automargin": true,
            "type": "pie"
           }
          ],
          "scatter": [
           {
            "fillpattern": {
             "fillmode": "overlay",
             "size": 10,
             "solidity": 0.2
            },
            "type": "scatter"
           }
          ],
          "scatter3d": [
           {
            "line": {
             "colorbar": {
              "outlinewidth": 0,
              "ticks": ""
             }
            },
            "marker": {
             "colorbar": {
              "outlinewidth": 0,
              "ticks": ""
             }
            },
            "type": "scatter3d"
           }
          ],
          "scattercarpet": [
           {
            "marker": {
             "colorbar": {
              "outlinewidth": 0,
              "ticks": ""
             }
            },
            "type": "scattercarpet"
           }
          ],
          "scattergeo": [
           {
            "marker": {
             "colorbar": {
              "outlinewidth": 0,
              "ticks": ""
             }
            },
            "type": "scattergeo"
           }
          ],
          "scattergl": [
           {
            "marker": {
             "colorbar": {
              "outlinewidth": 0,
              "ticks": ""
             }
            },
            "type": "scattergl"
           }
          ],
          "scattermap": [
           {
            "marker": {
             "colorbar": {
              "outlinewidth": 0,
              "ticks": ""
             }
            },
            "type": "scattermap"
           }
          ],
          "scattermapbox": [
           {
            "marker": {
             "colorbar": {
              "outlinewidth": 0,
              "ticks": ""
             }
            },
            "type": "scattermapbox"
           }
          ],
          "scatterpolar": [
           {
            "marker": {
             "colorbar": {
              "outlinewidth": 0,
              "ticks": ""
             }
            },
            "type": "scatterpolar"
           }
          ],
          "scatterpolargl": [
           {
            "marker": {
             "colorbar": {
              "outlinewidth": 0,
              "ticks": ""
             }
            },
            "type": "scatterpolargl"
           }
          ],
          "scatterternary": [
           {
            "marker": {
             "colorbar": {
              "outlinewidth": 0,
              "ticks": ""
             }
            },
            "type": "scatterternary"
           }
          ],
          "surface": [
           {
            "colorbar": {
             "outlinewidth": 0,
             "ticks": ""
            },
            "colorscale": [
             [
              0,
              "#0d0887"
             ],
             [
              0.1111111111111111,
              "#46039f"
             ],
             [
              0.2222222222222222,
              "#7201a8"
             ],
             [
              0.3333333333333333,
              "#9c179e"
             ],
             [
              0.4444444444444444,
              "#bd3786"
             ],
             [
              0.5555555555555556,
              "#d8576b"
             ],
             [
              0.6666666666666666,
              "#ed7953"
             ],
             [
              0.7777777777777778,
              "#fb9f3a"
             ],
             [
              0.8888888888888888,
              "#fdca26"
             ],
             [
              1,
              "#f0f921"
             ]
            ],
            "type": "surface"
           }
          ],
          "table": [
           {
            "cells": {
             "fill": {
              "color": "#EBF0F8"
             },
             "line": {
              "color": "white"
             }
            },
            "header": {
             "fill": {
              "color": "#C8D4E3"
             },
             "line": {
              "color": "white"
             }
            },
            "type": "table"
           }
          ]
         },
         "layout": {
          "annotationdefaults": {
           "arrowcolor": "#2a3f5f",
           "arrowhead": 0,
           "arrowwidth": 1
          },
          "autotypenumbers": "strict",
          "coloraxis": {
           "colorbar": {
            "outlinewidth": 0,
            "ticks": ""
           }
          },
          "colorscale": {
           "diverging": [
            [
             0,
             "#8e0152"
            ],
            [
             0.1,
             "#c51b7d"
            ],
            [
             0.2,
             "#de77ae"
            ],
            [
             0.3,
             "#f1b6da"
            ],
            [
             0.4,
             "#fde0ef"
            ],
            [
             0.5,
             "#f7f7f7"
            ],
            [
             0.6,
             "#e6f5d0"
            ],
            [
             0.7,
             "#b8e186"
            ],
            [
             0.8,
             "#7fbc41"
            ],
            [
             0.9,
             "#4d9221"
            ],
            [
             1,
             "#276419"
            ]
           ],
           "sequential": [
            [
             0,
             "#0d0887"
            ],
            [
             0.1111111111111111,
             "#46039f"
            ],
            [
             0.2222222222222222,
             "#7201a8"
            ],
            [
             0.3333333333333333,
             "#9c179e"
            ],
            [
             0.4444444444444444,
             "#bd3786"
            ],
            [
             0.5555555555555556,
             "#d8576b"
            ],
            [
             0.6666666666666666,
             "#ed7953"
            ],
            [
             0.7777777777777778,
             "#fb9f3a"
            ],
            [
             0.8888888888888888,
             "#fdca26"
            ],
            [
             1,
             "#f0f921"
            ]
           ],
           "sequentialminus": [
            [
             0,
             "#0d0887"
            ],
            [
             0.1111111111111111,
             "#46039f"
            ],
            [
             0.2222222222222222,
             "#7201a8"
            ],
            [
             0.3333333333333333,
             "#9c179e"
            ],
            [
             0.4444444444444444,
             "#bd3786"
            ],
            [
             0.5555555555555556,
             "#d8576b"
            ],
            [
             0.6666666666666666,
             "#ed7953"
            ],
            [
             0.7777777777777778,
             "#fb9f3a"
            ],
            [
             0.8888888888888888,
             "#fdca26"
            ],
            [
             1,
             "#f0f921"
            ]
           ]
          },
          "colorway": [
           "#636efa",
           "#EF553B",
           "#00cc96",
           "#ab63fa",
           "#FFA15A",
           "#19d3f3",
           "#FF6692",
           "#B6E880",
           "#FF97FF",
           "#FECB52"
          ],
          "font": {
           "color": "#2a3f5f"
          },
          "geo": {
           "bgcolor": "white",
           "lakecolor": "white",
           "landcolor": "white",
           "showlakes": true,
           "showland": true,
           "subunitcolor": "#C8D4E3"
          },
          "hoverlabel": {
           "align": "left"
          },
          "hovermode": "closest",
          "mapbox": {
           "style": "light"
          },
          "paper_bgcolor": "white",
          "plot_bgcolor": "white",
          "polar": {
           "angularaxis": {
            "gridcolor": "#EBF0F8",
            "linecolor": "#EBF0F8",
            "ticks": ""
           },
           "bgcolor": "white",
           "radialaxis": {
            "gridcolor": "#EBF0F8",
            "linecolor": "#EBF0F8",
            "ticks": ""
           }
          },
          "scene": {
           "xaxis": {
            "backgroundcolor": "white",
            "gridcolor": "#DFE8F3",
            "gridwidth": 2,
            "linecolor": "#EBF0F8",
            "showbackground": true,
            "ticks": "",
            "zerolinecolor": "#EBF0F8"
           },
           "yaxis": {
            "backgroundcolor": "white",
            "gridcolor": "#DFE8F3",
            "gridwidth": 2,
            "linecolor": "#EBF0F8",
            "showbackground": true,
            "ticks": "",
            "zerolinecolor": "#EBF0F8"
           },
           "zaxis": {
            "backgroundcolor": "white",
            "gridcolor": "#DFE8F3",
            "gridwidth": 2,
            "linecolor": "#EBF0F8",
            "showbackground": true,
            "ticks": "",
            "zerolinecolor": "#EBF0F8"
           }
          },
          "shapedefaults": {
           "line": {
            "color": "#2a3f5f"
           }
          },
          "ternary": {
           "aaxis": {
            "gridcolor": "#DFE8F3",
            "linecolor": "#A2B1C6",
            "ticks": ""
           },
           "baxis": {
            "gridcolor": "#DFE8F3",
            "linecolor": "#A2B1C6",
            "ticks": ""
           },
           "bgcolor": "white",
           "caxis": {
            "gridcolor": "#DFE8F3",
            "linecolor": "#A2B1C6",
            "ticks": ""
           }
          },
          "title": {
           "x": 0.05
          },
          "xaxis": {
           "automargin": true,
           "gridcolor": "#EBF0F8",
           "linecolor": "#EBF0F8",
           "ticks": "",
           "title": {
            "standoff": 15
           },
           "zerolinecolor": "#EBF0F8",
           "zerolinewidth": 2
          },
          "yaxis": {
           "automargin": true,
           "gridcolor": "#EBF0F8",
           "linecolor": "#EBF0F8",
           "ticks": "",
           "title": {
            "standoff": 15
           },
           "zerolinecolor": "#EBF0F8",
           "zerolinewidth": 2
          }
         }
        },
        "title": {
         "text": "Comparison of Gender Bias Ratings by Occupation (Hungarian vs Chinese)"
        },
        "xaxis": {
         "tickangle": -45,
         "title": {
          "text": "Occupation (Significant* and marginally significant+ differences in <b>bold</b>)"
         }
        },
        "yaxis": {
         "title": {
          "text": "Mean Rating"
         }
        }
       }
      }
     },
     "metadata": {},
     "output_type": "display_data"
    }
   ],
   "source": [
    "# Get a list of occupation in english that are common in both Hungarian and Chinese datasets\n",
    "common_en = sorted(set(df_hu['en']).intersection(set(df_zh['en'])))\n",
    "\n",
    "results = []\n",
    "\n",
    "for en_name in common_en:\n",
    "    # Get the occupation row for each language\n",
    "    hu_row = df_hu_ratings[df_hu_ratings['en'] == en_name]\n",
    "    zh_row = df_zh_ratings[df_zh_ratings['en'] == en_name]\n",
    "    \n",
    "    # Get raw ratings (drop non-numeric columns)\n",
    "    hu_ratings = hu_row.drop(columns=['en', 'hu', 'zh'], errors='ignore').values.flatten()\n",
    "    zh_ratings = zh_row.drop(columns=['en', 'hu', 'zh'], errors='ignore').values.flatten()\n",
    "    \n",
    "    # Remove NaNs and convert to float\n",
    "    hu_ratings = pd.to_numeric(pd.Series(hu_ratings).dropna(), errors='coerce')\n",
    "    zh_ratings = pd.to_numeric(pd.Series(zh_ratings).dropna(), errors='coerce')\n",
    "    \n",
    "    # Calculate means\n",
    "    hu_mean = hu_ratings.mean()\n",
    "    zh_mean = zh_ratings.mean()\n",
    "    diff = hu_mean - zh_mean\n",
    "    \n",
    "    # Perform t-test\n",
    "    t_stat, p_value = ttest_ind(hu_ratings, zh_ratings, equal_var=False)\n",
    "    \n",
    "    results.append({\n",
    "        'en': en_name,\n",
    "        'hu': hu_row['hu'].values[0] if not hu_row.empty else None,\n",
    "        'zh': zh_row['zh'].values[0] if not zh_row.empty else None,\n",
    "        'hu_mean': hu_mean,\n",
    "        'zh_mean': zh_mean,\n",
    "        'mean_difference': diff,\n",
    "        't_stat': t_stat,\n",
    "        'p_value': p_value,\n",
    "        'significant': p_value is not None and p_value < 0.05,\n",
    "        'marg_significant': p_value is not None and 0.05 < p_value < 0.1\n",
    "    })\n",
    "\n",
    "df_plot = pd.DataFrame(results)\n",
    "\n",
    "# Create axis labels: bold for significant*, bold+ for marginally significant+\n",
    "def bold_label(row):\n",
    "    label = row['en']\n",
    "    if row['significant']:\n",
    "        label = f\"<b>{label}*</b>\"\n",
    "    elif row['marg_significant']:\n",
    "        label = f\"<b>{label}+</b>\"\n",
    "    return label\n",
    "\n",
    "df_plot['en_label'] = df_plot.apply(bold_label, axis=1)\n",
    "\n",
    "# Sort by the mean average\n",
    "df_plot['mean_avg'] = (df_plot['hu_mean'] + df_plot['zh_mean']) / 2\n",
    "df_plot = df_plot.sort_values('mean_avg', ascending=False)\n",
    "\n",
    "fig = go.Figure()\n",
    "\n",
    "fig.add_trace(go.Bar(\n",
    "    x=df_plot['en_label'],\n",
    "    y=df_plot['hu_mean'],\n",
    "    name='Hungarian',\n",
    "    marker_color=\"#1f7211\",\n",
    "    hovertemplate='Hungarian: %{customdata[0]}<br>Mean: %{y:.2f}<br>p-value: %{customdata[1]:.4g}',\n",
    "    customdata=df_plot[['hu', 'p_value']]\n",
    "))\n",
    "\n",
    "fig.add_trace(go.Bar(\n",
    "    x=df_plot['en_label'],\n",
    "    y=df_plot['zh_mean'],\n",
    "    name='Chinese',\n",
    "    marker_color=\"#e81818\",\n",
    "    hovertemplate='Chinese: %{customdata[0]}<br>Mean: %{y:.2f}<br>p-value: %{customdata[1]:.4g}',\n",
    "    customdata=df_plot[['zh', 'p_value']]\n",
    "))\n",
    "\n",
    "fig.update_layout(\n",
    "    barmode='group',\n",
    "    title='Comparison of Gender Bias Ratings by Occupation (Hungarian vs Chinese)',\n",
    "    xaxis_title='Occupation (Significant* and marginally significant+ differences in <b>bold</b>)',\n",
    "    yaxis_title='Mean Rating',\n",
    "    xaxis_tickangle=-45,\n",
    "    template='plotly_white'\n",
    ")\n",
    "\n",
    "fig.show()\n",
    "\n",
    "fig.write_html('occupations_comparison_ttest.html')\n",
    "fig.write_image('occupations_comparison_ttest.png', scale=3, width=1000, height=500)"
   ]
  },
  {
   "cell_type": "code",
   "execution_count": 2282,
   "id": "9b1e5aba",
   "metadata": {},
   "outputs": [
    {
     "name": "stdout",
     "output_type": "stream",
     "text": [
      "Bias counts:\n",
      "bias\n",
      "Chinese      28\n",
      "Hungarian     9\n",
      "Name: count, dtype: int64\n"
     ]
    },
    {
     "data": {
      "application/vnd.plotly.v1+json": {
       "config": {
        "plotlyServerURL": "https://plot.ly"
       },
       "data": [
        {
         "hovertemplate": "bias=%{x}<br>Count=%{y}<extra></extra>",
         "legendgroup": "Chinese",
         "marker": {
          "color": "#e81818",
          "pattern": {
           "shape": ""
          }
         },
         "name": "Chinese",
         "orientation": "v",
         "showlegend": true,
         "textposition": "auto",
         "type": "bar",
         "x": [
          "Chinese"
         ],
         "xaxis": "x",
         "y": {
          "bdata": "HA==",
          "dtype": "i1"
         },
         "yaxis": "y"
        },
        {
         "hovertemplate": "bias=%{x}<br>Count=%{y}<extra></extra>",
         "legendgroup": "Hungarian",
         "marker": {
          "color": "#1f7211",
          "pattern": {
           "shape": ""
          }
         },
         "name": "Hungarian",
         "orientation": "v",
         "showlegend": true,
         "textposition": "auto",
         "type": "bar",
         "x": [
          "Hungarian"
         ],
         "xaxis": "x",
         "y": {
          "bdata": "CQ==",
          "dtype": "i1"
         },
         "yaxis": "y"
        }
       ],
       "layout": {
        "barmode": "relative",
        "legend": {
         "title": {
          "text": "bias"
         },
         "tracegroupgap": 0
        },
        "template": {
         "data": {
          "bar": [
           {
            "error_x": {
             "color": "#2a3f5f"
            },
            "error_y": {
             "color": "#2a3f5f"
            },
            "marker": {
             "line": {
              "color": "white",
              "width": 0.5
             },
             "pattern": {
              "fillmode": "overlay",
              "size": 10,
              "solidity": 0.2
             }
            },
            "type": "bar"
           }
          ],
          "barpolar": [
           {
            "marker": {
             "line": {
              "color": "white",
              "width": 0.5
             },
             "pattern": {
              "fillmode": "overlay",
              "size": 10,
              "solidity": 0.2
             }
            },
            "type": "barpolar"
           }
          ],
          "carpet": [
           {
            "aaxis": {
             "endlinecolor": "#2a3f5f",
             "gridcolor": "#C8D4E3",
             "linecolor": "#C8D4E3",
             "minorgridcolor": "#C8D4E3",
             "startlinecolor": "#2a3f5f"
            },
            "baxis": {
             "endlinecolor": "#2a3f5f",
             "gridcolor": "#C8D4E3",
             "linecolor": "#C8D4E3",
             "minorgridcolor": "#C8D4E3",
             "startlinecolor": "#2a3f5f"
            },
            "type": "carpet"
           }
          ],
          "choropleth": [
           {
            "colorbar": {
             "outlinewidth": 0,
             "ticks": ""
            },
            "type": "choropleth"
           }
          ],
          "contour": [
           {
            "colorbar": {
             "outlinewidth": 0,
             "ticks": ""
            },
            "colorscale": [
             [
              0,
              "#0d0887"
             ],
             [
              0.1111111111111111,
              "#46039f"
             ],
             [
              0.2222222222222222,
              "#7201a8"
             ],
             [
              0.3333333333333333,
              "#9c179e"
             ],
             [
              0.4444444444444444,
              "#bd3786"
             ],
             [
              0.5555555555555556,
              "#d8576b"
             ],
             [
              0.6666666666666666,
              "#ed7953"
             ],
             [
              0.7777777777777778,
              "#fb9f3a"
             ],
             [
              0.8888888888888888,
              "#fdca26"
             ],
             [
              1,
              "#f0f921"
             ]
            ],
            "type": "contour"
           }
          ],
          "contourcarpet": [
           {
            "colorbar": {
             "outlinewidth": 0,
             "ticks": ""
            },
            "type": "contourcarpet"
           }
          ],
          "heatmap": [
           {
            "colorbar": {
             "outlinewidth": 0,
             "ticks": ""
            },
            "colorscale": [
             [
              0,
              "#0d0887"
             ],
             [
              0.1111111111111111,
              "#46039f"
             ],
             [
              0.2222222222222222,
              "#7201a8"
             ],
             [
              0.3333333333333333,
              "#9c179e"
             ],
             [
              0.4444444444444444,
              "#bd3786"
             ],
             [
              0.5555555555555556,
              "#d8576b"
             ],
             [
              0.6666666666666666,
              "#ed7953"
             ],
             [
              0.7777777777777778,
              "#fb9f3a"
             ],
             [
              0.8888888888888888,
              "#fdca26"
             ],
             [
              1,
              "#f0f921"
             ]
            ],
            "type": "heatmap"
           }
          ],
          "histogram": [
           {
            "marker": {
             "pattern": {
              "fillmode": "overlay",
              "size": 10,
              "solidity": 0.2
             }
            },
            "type": "histogram"
           }
          ],
          "histogram2d": [
           {
            "colorbar": {
             "outlinewidth": 0,
             "ticks": ""
            },
            "colorscale": [
             [
              0,
              "#0d0887"
             ],
             [
              0.1111111111111111,
              "#46039f"
             ],
             [
              0.2222222222222222,
              "#7201a8"
             ],
             [
              0.3333333333333333,
              "#9c179e"
             ],
             [
              0.4444444444444444,
              "#bd3786"
             ],
             [
              0.5555555555555556,
              "#d8576b"
             ],
             [
              0.6666666666666666,
              "#ed7953"
             ],
             [
              0.7777777777777778,
              "#fb9f3a"
             ],
             [
              0.8888888888888888,
              "#fdca26"
             ],
             [
              1,
              "#f0f921"
             ]
            ],
            "type": "histogram2d"
           }
          ],
          "histogram2dcontour": [
           {
            "colorbar": {
             "outlinewidth": 0,
             "ticks": ""
            },
            "colorscale": [
             [
              0,
              "#0d0887"
             ],
             [
              0.1111111111111111,
              "#46039f"
             ],
             [
              0.2222222222222222,
              "#7201a8"
             ],
             [
              0.3333333333333333,
              "#9c179e"
             ],
             [
              0.4444444444444444,
              "#bd3786"
             ],
             [
              0.5555555555555556,
              "#d8576b"
             ],
             [
              0.6666666666666666,
              "#ed7953"
             ],
             [
              0.7777777777777778,
              "#fb9f3a"
             ],
             [
              0.8888888888888888,
              "#fdca26"
             ],
             [
              1,
              "#f0f921"
             ]
            ],
            "type": "histogram2dcontour"
           }
          ],
          "mesh3d": [
           {
            "colorbar": {
             "outlinewidth": 0,
             "ticks": ""
            },
            "type": "mesh3d"
           }
          ],
          "parcoords": [
           {
            "line": {
             "colorbar": {
              "outlinewidth": 0,
              "ticks": ""
             }
            },
            "type": "parcoords"
           }
          ],
          "pie": [
           {
            "automargin": true,
            "type": "pie"
           }
          ],
          "scatter": [
           {
            "fillpattern": {
             "fillmode": "overlay",
             "size": 10,
             "solidity": 0.2
            },
            "type": "scatter"
           }
          ],
          "scatter3d": [
           {
            "line": {
             "colorbar": {
              "outlinewidth": 0,
              "ticks": ""
             }
            },
            "marker": {
             "colorbar": {
              "outlinewidth": 0,
              "ticks": ""
             }
            },
            "type": "scatter3d"
           }
          ],
          "scattercarpet": [
           {
            "marker": {
             "colorbar": {
              "outlinewidth": 0,
              "ticks": ""
             }
            },
            "type": "scattercarpet"
           }
          ],
          "scattergeo": [
           {
            "marker": {
             "colorbar": {
              "outlinewidth": 0,
              "ticks": ""
             }
            },
            "type": "scattergeo"
           }
          ],
          "scattergl": [
           {
            "marker": {
             "colorbar": {
              "outlinewidth": 0,
              "ticks": ""
             }
            },
            "type": "scattergl"
           }
          ],
          "scattermap": [
           {
            "marker": {
             "colorbar": {
              "outlinewidth": 0,
              "ticks": ""
             }
            },
            "type": "scattermap"
           }
          ],
          "scattermapbox": [
           {
            "marker": {
             "colorbar": {
              "outlinewidth": 0,
              "ticks": ""
             }
            },
            "type": "scattermapbox"
           }
          ],
          "scatterpolar": [
           {
            "marker": {
             "colorbar": {
              "outlinewidth": 0,
              "ticks": ""
             }
            },
            "type": "scatterpolar"
           }
          ],
          "scatterpolargl": [
           {
            "marker": {
             "colorbar": {
              "outlinewidth": 0,
              "ticks": ""
             }
            },
            "type": "scatterpolargl"
           }
          ],
          "scatterternary": [
           {
            "marker": {
             "colorbar": {
              "outlinewidth": 0,
              "ticks": ""
             }
            },
            "type": "scatterternary"
           }
          ],
          "surface": [
           {
            "colorbar": {
             "outlinewidth": 0,
             "ticks": ""
            },
            "colorscale": [
             [
              0,
              "#0d0887"
             ],
             [
              0.1111111111111111,
              "#46039f"
             ],
             [
              0.2222222222222222,
              "#7201a8"
             ],
             [
              0.3333333333333333,
              "#9c179e"
             ],
             [
              0.4444444444444444,
              "#bd3786"
             ],
             [
              0.5555555555555556,
              "#d8576b"
             ],
             [
              0.6666666666666666,
              "#ed7953"
             ],
             [
              0.7777777777777778,
              "#fb9f3a"
             ],
             [
              0.8888888888888888,
              "#fdca26"
             ],
             [
              1,
              "#f0f921"
             ]
            ],
            "type": "surface"
           }
          ],
          "table": [
           {
            "cells": {
             "fill": {
              "color": "#EBF0F8"
             },
             "line": {
              "color": "white"
             }
            },
            "header": {
             "fill": {
              "color": "#C8D4E3"
             },
             "line": {
              "color": "white"
             }
            },
            "type": "table"
           }
          ]
         },
         "layout": {
          "annotationdefaults": {
           "arrowcolor": "#2a3f5f",
           "arrowhead": 0,
           "arrowwidth": 1
          },
          "autotypenumbers": "strict",
          "coloraxis": {
           "colorbar": {
            "outlinewidth": 0,
            "ticks": ""
           }
          },
          "colorscale": {
           "diverging": [
            [
             0,
             "#8e0152"
            ],
            [
             0.1,
             "#c51b7d"
            ],
            [
             0.2,
             "#de77ae"
            ],
            [
             0.3,
             "#f1b6da"
            ],
            [
             0.4,
             "#fde0ef"
            ],
            [
             0.5,
             "#f7f7f7"
            ],
            [
             0.6,
             "#e6f5d0"
            ],
            [
             0.7,
             "#b8e186"
            ],
            [
             0.8,
             "#7fbc41"
            ],
            [
             0.9,
             "#4d9221"
            ],
            [
             1,
             "#276419"
            ]
           ],
           "sequential": [
            [
             0,
             "#0d0887"
            ],
            [
             0.1111111111111111,
             "#46039f"
            ],
            [
             0.2222222222222222,
             "#7201a8"
            ],
            [
             0.3333333333333333,
             "#9c179e"
            ],
            [
             0.4444444444444444,
             "#bd3786"
            ],
            [
             0.5555555555555556,
             "#d8576b"
            ],
            [
             0.6666666666666666,
             "#ed7953"
            ],
            [
             0.7777777777777778,
             "#fb9f3a"
            ],
            [
             0.8888888888888888,
             "#fdca26"
            ],
            [
             1,
             "#f0f921"
            ]
           ],
           "sequentialminus": [
            [
             0,
             "#0d0887"
            ],
            [
             0.1111111111111111,
             "#46039f"
            ],
            [
             0.2222222222222222,
             "#7201a8"
            ],
            [
             0.3333333333333333,
             "#9c179e"
            ],
            [
             0.4444444444444444,
             "#bd3786"
            ],
            [
             0.5555555555555556,
             "#d8576b"
            ],
            [
             0.6666666666666666,
             "#ed7953"
            ],
            [
             0.7777777777777778,
             "#fb9f3a"
            ],
            [
             0.8888888888888888,
             "#fdca26"
            ],
            [
             1,
             "#f0f921"
            ]
           ]
          },
          "colorway": [
           "#636efa",
           "#EF553B",
           "#00cc96",
           "#ab63fa",
           "#FFA15A",
           "#19d3f3",
           "#FF6692",
           "#B6E880",
           "#FF97FF",
           "#FECB52"
          ],
          "font": {
           "color": "#2a3f5f"
          },
          "geo": {
           "bgcolor": "white",
           "lakecolor": "white",
           "landcolor": "white",
           "showlakes": true,
           "showland": true,
           "subunitcolor": "#C8D4E3"
          },
          "hoverlabel": {
           "align": "left"
          },
          "hovermode": "closest",
          "mapbox": {
           "style": "light"
          },
          "paper_bgcolor": "white",
          "plot_bgcolor": "white",
          "polar": {
           "angularaxis": {
            "gridcolor": "#EBF0F8",
            "linecolor": "#EBF0F8",
            "ticks": ""
           },
           "bgcolor": "white",
           "radialaxis": {
            "gridcolor": "#EBF0F8",
            "linecolor": "#EBF0F8",
            "ticks": ""
           }
          },
          "scene": {
           "xaxis": {
            "backgroundcolor": "white",
            "gridcolor": "#DFE8F3",
            "gridwidth": 2,
            "linecolor": "#EBF0F8",
            "showbackground": true,
            "ticks": "",
            "zerolinecolor": "#EBF0F8"
           },
           "yaxis": {
            "backgroundcolor": "white",
            "gridcolor": "#DFE8F3",
            "gridwidth": 2,
            "linecolor": "#EBF0F8",
            "showbackground": true,
            "ticks": "",
            "zerolinecolor": "#EBF0F8"
           },
           "zaxis": {
            "backgroundcolor": "white",
            "gridcolor": "#DFE8F3",
            "gridwidth": 2,
            "linecolor": "#EBF0F8",
            "showbackground": true,
            "ticks": "",
            "zerolinecolor": "#EBF0F8"
           }
          },
          "shapedefaults": {
           "line": {
            "color": "#2a3f5f"
           }
          },
          "ternary": {
           "aaxis": {
            "gridcolor": "#DFE8F3",
            "linecolor": "#A2B1C6",
            "ticks": ""
           },
           "baxis": {
            "gridcolor": "#DFE8F3",
            "linecolor": "#A2B1C6",
            "ticks": ""
           },
           "bgcolor": "white",
           "caxis": {
            "gridcolor": "#DFE8F3",
            "linecolor": "#A2B1C6",
            "ticks": ""
           }
          },
          "title": {
           "x": 0.05
          },
          "xaxis": {
           "automargin": true,
           "gridcolor": "#EBF0F8",
           "linecolor": "#EBF0F8",
           "ticks": "",
           "title": {
            "standoff": 15
           },
           "zerolinecolor": "#EBF0F8",
           "zerolinewidth": 2
          },
          "yaxis": {
           "automargin": true,
           "gridcolor": "#EBF0F8",
           "linecolor": "#EBF0F8",
           "ticks": "",
           "title": {
            "standoff": 15
           },
           "zerolinecolor": "#EBF0F8",
           "zerolinewidth": 2
          }
         }
        },
        "title": {
         "text": "Count of Bias by Occupation"
        },
        "xaxis": {
         "anchor": "y",
         "categoryarray": [
          "Chinese",
          "Hungarian"
         ],
         "categoryorder": "array",
         "domain": [
          0,
          1
         ],
         "title": {
          "text": "Bias"
         }
        },
        "yaxis": {
         "anchor": "x",
         "domain": [
          0,
          1
         ],
         "title": {
          "text": "Count"
         }
        }
       }
      }
     },
     "metadata": {},
     "output_type": "display_data"
    }
   ],
   "source": [
    "# Add a new column 'bias' considering absolute values: \n",
    "# 'Hungarian' if abs(hu_mean) > abs(zh_mean), 'Chinese' if abs(hu_mean) < abs(zh_mean), 'Equal' if they are the same\n",
    "df_compare['bias'] = df_compare.apply(\n",
    "    lambda row: 'Hungarian' if abs(row['hu_mean']) > abs(row['zh_mean']) \n",
    "    else ('Chinese' if abs(row['hu_mean']) < abs(row['zh_mean']) else 'Equal'), axis=1\n",
    ")\n",
    "\n",
    "# Count values in 'bias' column and print the results\n",
    "bias_counts = df_compare['bias'].value_counts()\n",
    "print(\"Bias counts:\")\n",
    "print(bias_counts)\n",
    "\n",
    "# Plot this\n",
    "fig = px.bar(\n",
    "    bias_counts,\n",
    "    x=bias_counts.index,\n",
    "    y=bias_counts.values,\n",
    "    title='Count of Bias by Occupation',\n",
    "    labels={'x': 'Bias', 'y': 'Count'},\n",
    "    color=bias_counts.index,\n",
    "    color_discrete_map={'Hungarian': '#1f7211', 'Chinese': '#e81818', 'Equal': '#7f7f7f'}\n",
    ")\n",
    "fig.update_layout(\n",
    "    xaxis_title='Bias',\n",
    "    yaxis_title='Count',\n",
    "    template='plotly_white'\n",
    ")\n",
    "fig.show()"
   ]
  },
  {
   "cell_type": "code",
   "execution_count": null,
   "id": "0d5ffd9b",
   "metadata": {},
   "outputs": [],
   "source": []
  }
 ],
 "metadata": {
  "kernelspec": {
   "display_name": "work",
   "language": "python",
   "name": "python3"
  },
  "language_info": {
   "codemirror_mode": {
    "name": "ipython",
    "version": 3
   },
   "file_extension": ".py",
   "mimetype": "text/x-python",
   "name": "python",
   "nbconvert_exporter": "python",
   "pygments_lexer": "ipython3",
   "version": "3.12.9"
  }
 },
 "nbformat": 4,
 "nbformat_minor": 5
}
